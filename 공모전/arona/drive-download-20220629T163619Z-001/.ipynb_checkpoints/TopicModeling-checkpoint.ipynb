{
 "cells": [
  {
   "cell_type": "markdown",
   "metadata": {
    "id": "9WzZul3h3IR1"
   },
   "source": [
    "# 데이터 불러오기"
   ]
  },
  {
   "cell_type": "code",
   "execution_count": 2,
   "metadata": {
    "executionInfo": {
     "elapsed": 1467,
     "status": "ok",
     "timestamp": 1656512674262,
     "user": {
      "displayName": "이동호(일반대학원 디지털애널리틱스 융합협동과정)",
      "userId": "18126130520433069965"
     },
     "user_tz": -540
    },
    "id": "MAEETON71rA1"
   },
   "outputs": [],
   "source": [
    "import pandas as pd"
   ]
  },
  {
   "cell_type": "code",
   "execution_count": 3,
   "metadata": {
    "colab": {
     "base_uri": "https://localhost:8080/",
     "height": 354
    },
    "executionInfo": {
     "elapsed": 828,
     "status": "ok",
     "timestamp": 1656512709788,
     "user": {
      "displayName": "이동호(일반대학원 디지털애널리틱스 융합협동과정)",
      "userId": "18126130520433069965"
     },
     "user_tz": -540
    },
    "id": "gFExqvHW2WpP",
    "outputId": "248a34b1-84af-40f5-b1a5-237d5c26c545"
   },
   "outputs": [
    {
     "data": {
      "text/html": [
       "<div>\n",
       "<style scoped>\n",
       "    .dataframe tbody tr th:only-of-type {\n",
       "        vertical-align: middle;\n",
       "    }\n",
       "\n",
       "    .dataframe tbody tr th {\n",
       "        vertical-align: top;\n",
       "    }\n",
       "\n",
       "    .dataframe thead th {\n",
       "        text-align: right;\n",
       "    }\n",
       "</style>\n",
       "<table border=\"1\" class=\"dataframe\">\n",
       "  <thead>\n",
       "    <tr style=\"text-align: right;\">\n",
       "      <th></th>\n",
       "      <th>Unnamed: 0</th>\n",
       "      <th>title</th>\n",
       "      <th>comment</th>\n",
       "    </tr>\n",
       "  </thead>\n",
       "  <tbody>\n",
       "    <tr>\n",
       "      <th>0</th>\n",
       "      <td>0</td>\n",
       "      <td>비맥xx타를 능가하는 비타민B군 신제품이 나왔습니다 (육체피로, 정신피로, 구내염,...</td>\n",
       "      <td>비타민 b군 영양제들이 고약사님 덕에 엄청 뜨니 다른 좋은 제품들도 많이 나오네요....</td>\n",
       "    </tr>\n",
       "    <tr>\n",
       "      <th>1</th>\n",
       "      <td>1</td>\n",
       "      <td>비맥xx타를 능가하는 비타민B군 신제품이 나왔습니다 (육체피로, 정신피로, 구내염,...</td>\n",
       "      <td>선생님 진짜 초창기부터 인사드리고 했는데 무한성장 선생님을 보니 제가 다 기쁘네요^...</td>\n",
       "    </tr>\n",
       "    <tr>\n",
       "      <th>2</th>\n",
       "      <td>2</td>\n",
       "      <td>비맥xx타를 능가하는 비타민B군 신제품이 나왔습니다 (육체피로, 정신피로, 구내염,...</td>\n",
       "      <td>좋은제품 나올때마다 믿을수 있는 약사님이 직접 업데이트 해주셔서 너~~~무 좋아요♡...</td>\n",
       "    </tr>\n",
       "    <tr>\n",
       "      <th>3</th>\n",
       "      <td>3</td>\n",
       "      <td>비맥xx타를 능가하는 비타민B군 신제품이 나왔습니다 (육체피로, 정신피로, 구내염,...</td>\n",
       "      <td>비맥스메타가 대박친건 사실상 고약사님이 역할이 매우컸습니다. 아무리 제품이 좋아도 ...</td>\n",
       "    </tr>\n",
       "    <tr>\n",
       "      <th>4</th>\n",
       "      <td>4</td>\n",
       "      <td>비맥xx타를 능가하는 비타민B군 신제품이 나왔습니다 (육체피로, 정신피로, 구내염,...</td>\n",
       "      <td>약사님때문에 이거 알게 됐지만 역시 약사님때문에 구하기 힘들었어요. 종로 몇 몇 약...</td>\n",
       "    </tr>\n",
       "  </tbody>\n",
       "</table>\n",
       "</div>"
      ],
      "text/plain": [
       "   Unnamed: 0                                              title  \\\n",
       "0           0  비맥xx타를 능가하는 비타민B군 신제품이 나왔습니다 (육체피로, 정신피로, 구내염,...   \n",
       "1           1  비맥xx타를 능가하는 비타민B군 신제품이 나왔습니다 (육체피로, 정신피로, 구내염,...   \n",
       "2           2  비맥xx타를 능가하는 비타민B군 신제품이 나왔습니다 (육체피로, 정신피로, 구내염,...   \n",
       "3           3  비맥xx타를 능가하는 비타민B군 신제품이 나왔습니다 (육체피로, 정신피로, 구내염,...   \n",
       "4           4  비맥xx타를 능가하는 비타민B군 신제품이 나왔습니다 (육체피로, 정신피로, 구내염,...   \n",
       "\n",
       "                                             comment  \n",
       "0  비타민 b군 영양제들이 고약사님 덕에 엄청 뜨니 다른 좋은 제품들도 많이 나오네요....  \n",
       "1  선생님 진짜 초창기부터 인사드리고 했는데 무한성장 선생님을 보니 제가 다 기쁘네요^...  \n",
       "2  좋은제품 나올때마다 믿을수 있는 약사님이 직접 업데이트 해주셔서 너~~~무 좋아요♡...  \n",
       "3  비맥스메타가 대박친건 사실상 고약사님이 역할이 매우컸습니다. 아무리 제품이 좋아도 ...  \n",
       "4  약사님때문에 이거 알게 됐지만 역시 약사님때문에 구하기 힘들었어요. 종로 몇 몇 약...  "
      ]
     },
     "execution_count": 3,
     "metadata": {},
     "output_type": "execute_result"
    }
   ],
   "source": [
    "data  = pd.read_csv('dataframe.csv')\n",
    "data.head()"
   ]
  },
  {
   "cell_type": "code",
   "execution_count": 4,
   "metadata": {
    "colab": {
     "base_uri": "https://localhost:8080/"
    },
    "executionInfo": {
     "elapsed": 319,
     "status": "ok",
     "timestamp": 1656512813651,
     "user": {
      "displayName": "이동호(일반대학원 디지털애널리틱스 융합협동과정)",
      "userId": "18126130520433069965"
     },
     "user_tz": -540
    },
    "id": "k7q6svZ9248b",
    "outputId": "7d5084cf-7db3-4d92-fad4-b3112ae7d6c3"
   },
   "outputs": [
    {
     "data": {
      "text/plain": [
       "(5511, 3)"
      ]
     },
     "execution_count": 4,
     "metadata": {},
     "output_type": "execute_result"
    }
   ],
   "source": [
    "data.shape"
   ]
  },
  {
   "cell_type": "code",
   "execution_count": 5,
   "metadata": {
    "executionInfo": {
     "elapsed": 302,
     "status": "ok",
     "timestamp": 1656512741539,
     "user": {
      "displayName": "이동호(일반대학원 디지털애널리틱스 융합협동과정)",
      "userId": "18126130520433069965"
     },
     "user_tz": -540
    },
    "id": "jLjqKypz2f8B"
   },
   "outputs": [],
   "source": [
    "data.comment = data.comment.astype(str)"
   ]
  },
  {
   "cell_type": "code",
   "execution_count": 6,
   "metadata": {
    "colab": {
     "base_uri": "https://localhost:8080/"
    },
    "executionInfo": {
     "elapsed": 317,
     "status": "ok",
     "timestamp": 1656512819934,
     "user": {
      "displayName": "이동호(일반대학원 디지털애널리틱스 융합협동과정)",
      "userId": "18126130520433069965"
     },
     "user_tz": -540
    },
    "id": "W7gxOF-22nxO",
    "outputId": "cb47618b-effc-46c9-d407-60e1f1b5d982"
   },
   "outputs": [
    {
     "data": {
      "text/plain": [
       "(5480, 3)"
      ]
     },
     "execution_count": 6,
     "metadata": {},
     "output_type": "execute_result"
    }
   ],
   "source": [
    "data.drop_duplicates(subset=['comment'],inplace=True)\n",
    "data.shape"
   ]
  },
  {
   "cell_type": "code",
   "execution_count": 7,
   "metadata": {
    "colab": {
     "base_uri": "https://localhost:8080/",
     "height": 354
    },
    "executionInfo": {
     "elapsed": 15,
     "status": "ok",
     "timestamp": 1656512857472,
     "user": {
      "displayName": "이동호(일반대학원 디지털애널리틱스 융합협동과정)",
      "userId": "18126130520433069965"
     },
     "user_tz": -540
    },
    "id": "NArUVj1x3Dmw",
    "outputId": "317ac5ad-ae2c-46d0-8bbd-bb6737cfbd2a"
   },
   "outputs": [
    {
     "data": {
      "text/html": [
       "<div>\n",
       "<style scoped>\n",
       "    .dataframe tbody tr th:only-of-type {\n",
       "        vertical-align: middle;\n",
       "    }\n",
       "\n",
       "    .dataframe tbody tr th {\n",
       "        vertical-align: top;\n",
       "    }\n",
       "\n",
       "    .dataframe thead th {\n",
       "        text-align: right;\n",
       "    }\n",
       "</style>\n",
       "<table border=\"1\" class=\"dataframe\">\n",
       "  <thead>\n",
       "    <tr style=\"text-align: right;\">\n",
       "      <th></th>\n",
       "      <th>Unnamed: 0</th>\n",
       "      <th>title</th>\n",
       "      <th>comment</th>\n",
       "    </tr>\n",
       "  </thead>\n",
       "  <tbody>\n",
       "    <tr>\n",
       "      <th>5506</th>\n",
       "      <td>5524</td>\n",
       "      <td>리틀약사가 파헤쳐 본 아로나민 비타민제품! 활성비타민, 비타민B군이 어디에 좋아요?</td>\n",
       "      <td>12:30 실버</td>\n",
       "    </tr>\n",
       "    <tr>\n",
       "      <th>5507</th>\n",
       "      <td>5525</td>\n",
       "      <td>리틀약사가 파헤쳐 본 아로나민 비타민제품! 활성비타민, 비타민B군이 어디에 좋아요?</td>\n",
       "      <td>믿 거</td>\n",
       "    </tr>\n",
       "    <tr>\n",
       "      <th>5508</th>\n",
       "      <td>5526</td>\n",
       "      <td>피로회복을 위해 찾는 비타민B군 종합영양제, 어떤걸 먹어야 할까? [약사용설명서]</td>\n",
       "      <td>삐콤씨, 정말 예전에 먹었던 전통의 비타민이죠. ^^</td>\n",
       "    </tr>\n",
       "    <tr>\n",
       "      <th>5509</th>\n",
       "      <td>5527</td>\n",
       "      <td>피로회복을 위해 찾는 비타민B군 종합영양제, 어떤걸 먹어야 할까? [약사용설명서]</td>\n",
       "      <td>저도 삐콤씨 항상 필수로 먹어요~♡</td>\n",
       "    </tr>\n",
       "    <tr>\n",
       "      <th>5510</th>\n",
       "      <td>5528</td>\n",
       "      <td>피로회복을 위해 찾는 비타민B군 종합영양제, 어떤걸 먹어야 할까? [약사용설명서]</td>\n",
       "      <td>삐콤씨 좋아요</td>\n",
       "    </tr>\n",
       "  </tbody>\n",
       "</table>\n",
       "</div>"
      ],
      "text/plain": [
       "      Unnamed: 0                                           title  \\\n",
       "5506        5524  리틀약사가 파헤쳐 본 아로나민 비타민제품! 활성비타민, 비타민B군이 어디에 좋아요?   \n",
       "5507        5525  리틀약사가 파헤쳐 본 아로나민 비타민제품! 활성비타민, 비타민B군이 어디에 좋아요?   \n",
       "5508        5526   피로회복을 위해 찾는 비타민B군 종합영양제, 어떤걸 먹어야 할까? [약사용설명서]   \n",
       "5509        5527   피로회복을 위해 찾는 비타민B군 종합영양제, 어떤걸 먹어야 할까? [약사용설명서]   \n",
       "5510        5528   피로회복을 위해 찾는 비타민B군 종합영양제, 어떤걸 먹어야 할까? [약사용설명서]   \n",
       "\n",
       "                            comment  \n",
       "5506                       12:30 실버  \n",
       "5507                            믿 거  \n",
       "5508  삐콤씨, 정말 예전에 먹었던 전통의 비타민이죠. ^^  \n",
       "5509            저도 삐콤씨 항상 필수로 먹어요~♡  \n",
       "5510                        삐콤씨 좋아요  "
      ]
     },
     "execution_count": 7,
     "metadata": {},
     "output_type": "execute_result"
    }
   ],
   "source": [
    "data.tail()"
   ]
  },
  {
   "cell_type": "code",
   "execution_count": 8,
   "metadata": {
    "colab": {
     "base_uri": "https://localhost:8080/"
    },
    "executionInfo": {
     "elapsed": 2,
     "status": "ok",
     "timestamp": 1656512831838,
     "user": {
      "displayName": "이동호(일반대학원 디지털애널리틱스 융합협동과정)",
      "userId": "18126130520433069965"
     },
     "user_tz": -540
    },
    "id": "KTGUPRkL266I",
    "outputId": "5a6db513-d43a-4ad8-cac8-2054eca9cfe5"
   },
   "outputs": [
    {
     "data": {
      "text/plain": [
       "Unnamed: 0    0\n",
       "title         0\n",
       "comment       0\n",
       "dtype: int64"
      ]
     },
     "execution_count": 8,
     "metadata": {},
     "output_type": "execute_result"
    }
   ],
   "source": [
    "data.isnull().sum()"
   ]
  },
  {
   "cell_type": "code",
   "execution_count": 9,
   "metadata": {
    "executionInfo": {
     "elapsed": 2,
     "status": "ok",
     "timestamp": 1656512859719,
     "user": {
      "displayName": "이동호(일반대학원 디지털애널리틱스 융합협동과정)",
      "userId": "18126130520433069965"
     },
     "user_tz": -540
    },
    "id": "_Zu67fhk295W"
   },
   "outputs": [],
   "source": [
    "data = data.reset_index(drop=True)"
   ]
  },
  {
   "cell_type": "code",
   "execution_count": 10,
   "metadata": {
    "colab": {
     "base_uri": "https://localhost:8080/",
     "height": 354
    },
    "executionInfo": {
     "elapsed": 3,
     "status": "ok",
     "timestamp": 1656512863151,
     "user": {
      "displayName": "이동호(일반대학원 디지털애널리틱스 융합협동과정)",
      "userId": "18126130520433069965"
     },
     "user_tz": -540
    },
    "id": "4oKxR3Ws3Euk",
    "outputId": "d05f2cc8-fc82-4c83-e93c-7464bd8795ca"
   },
   "outputs": [
    {
     "data": {
      "text/html": [
       "<div>\n",
       "<style scoped>\n",
       "    .dataframe tbody tr th:only-of-type {\n",
       "        vertical-align: middle;\n",
       "    }\n",
       "\n",
       "    .dataframe tbody tr th {\n",
       "        vertical-align: top;\n",
       "    }\n",
       "\n",
       "    .dataframe thead th {\n",
       "        text-align: right;\n",
       "    }\n",
       "</style>\n",
       "<table border=\"1\" class=\"dataframe\">\n",
       "  <thead>\n",
       "    <tr style=\"text-align: right;\">\n",
       "      <th></th>\n",
       "      <th>Unnamed: 0</th>\n",
       "      <th>title</th>\n",
       "      <th>comment</th>\n",
       "    </tr>\n",
       "  </thead>\n",
       "  <tbody>\n",
       "    <tr>\n",
       "      <th>5475</th>\n",
       "      <td>5524</td>\n",
       "      <td>리틀약사가 파헤쳐 본 아로나민 비타민제품! 활성비타민, 비타민B군이 어디에 좋아요?</td>\n",
       "      <td>12:30 실버</td>\n",
       "    </tr>\n",
       "    <tr>\n",
       "      <th>5476</th>\n",
       "      <td>5525</td>\n",
       "      <td>리틀약사가 파헤쳐 본 아로나민 비타민제품! 활성비타민, 비타민B군이 어디에 좋아요?</td>\n",
       "      <td>믿 거</td>\n",
       "    </tr>\n",
       "    <tr>\n",
       "      <th>5477</th>\n",
       "      <td>5526</td>\n",
       "      <td>피로회복을 위해 찾는 비타민B군 종합영양제, 어떤걸 먹어야 할까? [약사용설명서]</td>\n",
       "      <td>삐콤씨, 정말 예전에 먹었던 전통의 비타민이죠. ^^</td>\n",
       "    </tr>\n",
       "    <tr>\n",
       "      <th>5478</th>\n",
       "      <td>5527</td>\n",
       "      <td>피로회복을 위해 찾는 비타민B군 종합영양제, 어떤걸 먹어야 할까? [약사용설명서]</td>\n",
       "      <td>저도 삐콤씨 항상 필수로 먹어요~♡</td>\n",
       "    </tr>\n",
       "    <tr>\n",
       "      <th>5479</th>\n",
       "      <td>5528</td>\n",
       "      <td>피로회복을 위해 찾는 비타민B군 종합영양제, 어떤걸 먹어야 할까? [약사용설명서]</td>\n",
       "      <td>삐콤씨 좋아요</td>\n",
       "    </tr>\n",
       "  </tbody>\n",
       "</table>\n",
       "</div>"
      ],
      "text/plain": [
       "      Unnamed: 0                                           title  \\\n",
       "5475        5524  리틀약사가 파헤쳐 본 아로나민 비타민제품! 활성비타민, 비타민B군이 어디에 좋아요?   \n",
       "5476        5525  리틀약사가 파헤쳐 본 아로나민 비타민제품! 활성비타민, 비타민B군이 어디에 좋아요?   \n",
       "5477        5526   피로회복을 위해 찾는 비타민B군 종합영양제, 어떤걸 먹어야 할까? [약사용설명서]   \n",
       "5478        5527   피로회복을 위해 찾는 비타민B군 종합영양제, 어떤걸 먹어야 할까? [약사용설명서]   \n",
       "5479        5528   피로회복을 위해 찾는 비타민B군 종합영양제, 어떤걸 먹어야 할까? [약사용설명서]   \n",
       "\n",
       "                            comment  \n",
       "5475                       12:30 실버  \n",
       "5476                            믿 거  \n",
       "5477  삐콤씨, 정말 예전에 먹었던 전통의 비타민이죠. ^^  \n",
       "5478            저도 삐콤씨 항상 필수로 먹어요~♡  \n",
       "5479                        삐콤씨 좋아요  "
      ]
     },
     "execution_count": 10,
     "metadata": {},
     "output_type": "execute_result"
    }
   ],
   "source": [
    "data.tail()"
   ]
  },
  {
   "cell_type": "markdown",
   "metadata": {
    "id": "BXBj1rTr3J02"
   },
   "source": [
    "# 데이터 전처리"
   ]
  },
  {
   "cell_type": "code",
   "execution_count": 11,
   "metadata": {
    "colab": {
     "base_uri": "https://localhost:8080/"
    },
    "executionInfo": {
     "elapsed": 4,
     "status": "ok",
     "timestamp": 1656512905831,
     "user": {
      "displayName": "이동호(일반대학원 디지털애널리틱스 융합협동과정)",
      "userId": "18126130520433069965"
     },
     "user_tz": -540
    },
    "id": "wTIazuF83FVd",
    "outputId": "9ee147c0-7ebe-4282-9bb2-baf433219184"
   },
   "outputs": [
    {
     "data": {
      "text/plain": [
       "['비타민 b군 영양제들이 고약사님 덕에 엄청 뜨니 다른 좋은 제품들도 많이 나오네요. 소비자로서 아주 반가운 상황입니다!',\n",
       " '선생님 진짜 초창기부터 인사드리고 했는데 무한성장 선생님을 보니 제가 다 기쁘네요^^ 더욱 더 성장하시고 약을 다루는 최고의 유튜버가 되어주세요\\n\\n요즘들어 약사님 의견 반영을 많이한 제품들이 많이 나오는거 같은데 개인적으로 가장 베스트도 해주시면 좋을거 같아요',\n",
       " '좋은제품 나올때마다 믿을수 있는 약사님이 직접 업데이트 해주셔서 너~~~무 좋아요♡ 감사합니다!!!',\n",
       " '비맥스메타가 대박친건 사실상 고약사님이 역할이 매우컸습니다. 아무리 제품이 좋아도 \\n그게 발굴되서 \\n소비자들에게 알려지지 않으면 말짱도루묵인데 고약사님이 아니었다면 이렇게까지 입소문타고 기존 ',\n",
       " '약사님때문에 이거 알게 됐지만 역시 약사님때문에 구하기 힘들었어요. 종로 몇 몇 약국에 전화했는데 다 품절... 근데 우리 동네에 있었네요. 방금 구했습니다. 그간 비타민C와 비타민 D는 먹고 있었지만 비타민 B는 그리 신경쓰지 않았는데... 믿고 보는 고약사님!!!',\n",
       " '비타민B를 꼭 먹는 사람으로서 새로운 비B를 소개해주셔서 감사합니다(그런데 얼마 전에 비맥땡을 엄청 사왔네요 ㅠㅠ). 그런데 이건 꼭 식후에 먹으라고 하셨네요. 이전엔 소화에 별문제가 없다면 비타민B나 C는 식전에 먹는게 좋다고 하셨던 것 같아서요^^ 그리고 혹시.. 아주 고령 95세 노인이 밥맛이 좋아지고 기력을 회복하는데 추천할만한 영양제가 있을까요^^',\n",
       " '고약사님 덕분에 영양제 알차게 잘 골라먹구있어요!  비맥스도 계속사먹고있는데 이번에 한박스 더샀는데ㅜㅜ 다먹으면 바꿔야겠어용ㅎ 항상감사합니다!',\n",
       " '정말 감사합니다\\n저한테 꼭 필요한 제품같네요\\n언제나 수고많으시네요',\n",
       " '늘 감사합니다.\\n비타민B를 식후에 섭취하다가 공복에 섭취하면 흡수율이\\n좋다고해서 공복에 섭취했는데…\\n두드러기가 올라오더라구요. 특히 무릎쪽으로 부어오르면서 열감이 생기구요.ㅠ.ㅠ',\n",
       " '약사님 덕에 이 제품도 올해 대박나겠네요..ㅎㅎ']"
      ]
     },
     "execution_count": 11,
     "metadata": {},
     "output_type": "execute_result"
    }
   ],
   "source": [
    "data_list = data.comment.values.tolist()\n",
    "data_list[:10]"
   ]
  },
  {
   "cell_type": "code",
   "execution_count": 12,
   "metadata": {
    "colab": {
     "base_uri": "https://localhost:8080/"
    },
    "executionInfo": {
     "elapsed": 8975,
     "status": "ok",
     "timestamp": 1656512940092,
     "user": {
      "displayName": "이동호(일반대학원 디지털애널리틱스 융합협동과정)",
      "userId": "18126130520433069965"
     },
     "user_tz": -540
    },
    "id": "sMkvrmka3Uu_",
    "outputId": "186aedcb-6c45-4289-c38c-b59d9d0a2425"
   },
   "outputs": [
    {
     "name": "stdout",
     "output_type": "stream",
     "text": [
      "Requirement already satisfied: konlpy in /Users/chan/opt/anaconda3/lib/python3.9/site-packages (0.6.0)\n",
      "Requirement already satisfied: numpy>=1.6 in /Users/chan/opt/anaconda3/lib/python3.9/site-packages (from konlpy) (1.20.3)\n",
      "Requirement already satisfied: lxml>=4.1.0 in /Users/chan/opt/anaconda3/lib/python3.9/site-packages (from konlpy) (4.6.3)\n",
      "Requirement already satisfied: JPype1>=0.7.0 in /Users/chan/opt/anaconda3/lib/python3.9/site-packages (from konlpy) (1.4.0)\n",
      "Note: you may need to restart the kernel to use updated packages.\n"
     ]
    }
   ],
   "source": [
    "pip install konlpy"
   ]
  },
  {
   "cell_type": "code",
   "execution_count": 13,
   "metadata": {
    "executionInfo": {
     "elapsed": 2,
     "status": "ok",
     "timestamp": 1656512945167,
     "user": {
      "displayName": "이동호(일반대학원 디지털애널리틱스 융합협동과정)",
      "userId": "18126130520433069965"
     },
     "user_tz": -540
    },
    "id": "JC1xf8ho3Wha"
   },
   "outputs": [],
   "source": [
    "from konlpy.tag import Okt"
   ]
  },
  {
   "cell_type": "code",
   "execution_count": 14,
   "metadata": {
    "executionInfo": {
     "elapsed": 2695,
     "status": "ok",
     "timestamp": 1656512951792,
     "user": {
      "displayName": "이동호(일반대학원 디지털애널리틱스 융합협동과정)",
      "userId": "18126130520433069965"
     },
     "user_tz": -540
    },
    "id": "wiJX4Ijs3Z1E"
   },
   "outputs": [],
   "source": [
    "okt = Okt()"
   ]
  },
  {
   "cell_type": "code",
   "execution_count": 15,
   "metadata": {
    "colab": {
     "base_uri": "https://localhost:8080/"
    },
    "executionInfo": {
     "elapsed": 54298,
     "status": "ok",
     "timestamp": 1656513026970,
     "user": {
      "displayName": "이동호(일반대학원 디지털애널리틱스 융합협동과정)",
      "userId": "18126130520433069965"
     },
     "user_tz": -540
    },
    "id": "61zROSfB3P-b",
    "outputId": "2828d817-116f-462d-8d0b-013d421ffa20"
   },
   "outputs": [
    {
     "data": {
      "text/plain": [
       "[['비타민', '군', '양제', '약사', '덕', '다른', '제품', '소비자', '로서', '아주', '상황'],\n",
       " ['선생님',\n",
       "  '진짜',\n",
       "  '초창',\n",
       "  '기',\n",
       "  '인사',\n",
       "  '무한',\n",
       "  '성장',\n",
       "  '선생님',\n",
       "  '제',\n",
       "  '더욱',\n",
       "  '더',\n",
       "  '약',\n",
       "  '최고',\n",
       "  '유튜버',\n",
       "  '요즘',\n",
       "  '약사',\n",
       "  '의견',\n",
       "  '반영',\n",
       "  '제품',\n",
       "  '개인',\n",
       "  '가장',\n",
       "  '베스트',\n",
       "  '해주시'],\n",
       " ['제품', '때', '약사', '직접', '업데이트', '너', '무'],\n",
       " ['비',\n",
       "  '맥스',\n",
       "  '메타',\n",
       "  '대박',\n",
       "  '사실',\n",
       "  '약사',\n",
       "  '역할',\n",
       "  '매우',\n",
       "  '제품',\n",
       "  '그게',\n",
       "  '발굴',\n",
       "  '소비자',\n",
       "  '도루묵',\n",
       "  '약사',\n",
       "  '입소',\n",
       "  '타고',\n",
       "  '기존'],\n",
       " ['약사',\n",
       "  '때문',\n",
       "  '거',\n",
       "  '알',\n",
       "  '역시',\n",
       "  '약사',\n",
       "  '때문',\n",
       "  '구',\n",
       "  '종로',\n",
       "  '몇',\n",
       "  '몇',\n",
       "  '약국',\n",
       "  '품절',\n",
       "  '우리',\n",
       "  '동네',\n",
       "  '방금',\n",
       "  '구',\n",
       "  '그간',\n",
       "  '비타민',\n",
       "  '비타민',\n",
       "  '비타민',\n",
       "  '신경',\n",
       "  '약사'],\n",
       " ['비타민',\n",
       "  '를',\n",
       "  '꼭',\n",
       "  '사람',\n",
       "  '비',\n",
       "  '를',\n",
       "  '소개',\n",
       "  '얼마',\n",
       "  '전',\n",
       "  '비맥땡',\n",
       "  '이건',\n",
       "  '꼭',\n",
       "  '식후',\n",
       "  '이전',\n",
       "  '소화',\n",
       "  '별문제',\n",
       "  '비타민',\n",
       "  '나',\n",
       "  '식전',\n",
       "  '것',\n",
       "  '혹시',\n",
       "  '아주',\n",
       "  '고령',\n",
       "  '세',\n",
       "  '노인',\n",
       "  '밥맛',\n",
       "  '기력',\n",
       "  '추천',\n",
       "  '양제'],\n",
       " ['약사', '덕분', '양제', '비', '맥스', '계속', '이번', '박스', '더', '항상'],\n",
       " ['정말', '저', '꼭', '제품', '수고'],\n",
       " ['늘',\n",
       "  '비타민',\n",
       "  '를',\n",
       "  '식후',\n",
       "  '섭취',\n",
       "  '공복',\n",
       "  '섭취',\n",
       "  '흡수',\n",
       "  '율',\n",
       "  '공복',\n",
       "  '섭취',\n",
       "  '두드러기',\n",
       "  '무릎',\n",
       "  '쪽',\n",
       "  '부어',\n",
       "  '감'],\n",
       " ['약사', '덕', '이', '제품', '올해']]"
      ]
     },
     "execution_count": 15,
     "metadata": {},
     "output_type": "execute_result"
    }
   ],
   "source": [
    "data_word = []\n",
    "\n",
    "for i in range(len(data_list)):\n",
    "    try:\n",
    "        data_word.append(okt.nouns(data_list[i]))\n",
    "    except Exception as e:\n",
    "        continue\n",
    "data_word[:10]"
   ]
  },
  {
   "cell_type": "markdown",
   "metadata": {
    "id": "0OukIeaM30Nt"
   },
   "source": [
    "# LDA"
   ]
  },
  {
   "cell_type": "code",
   "execution_count": 42,
   "metadata": {
    "executionInfo": {
     "elapsed": 308,
     "status": "ok",
     "timestamp": 1656513962627,
     "user": {
      "displayName": "이동호(일반대학원 디지털애널리틱스 융합협동과정)",
      "userId": "18126130520433069965"
     },
     "user_tz": -540
    },
    "id": "XNwauWKP4Cw-"
   },
   "outputs": [],
   "source": [
    "from gensim.test.utils import common_corpus, common_dictionary\n",
    "from gensim.models.wrappers import LdaMallet\n",
    "from gensim import corpora\n",
    "from gensim.models.ldamodel import LdaModel"
   ]
  },
  {
   "cell_type": "code",
   "execution_count": 57,
   "metadata": {
    "executionInfo": {
     "elapsed": 2,
     "status": "ok",
     "timestamp": 1656514096863,
     "user": {
      "displayName": "이동호(일반대학원 디지털애널리틱스 융합협동과정)",
      "userId": "18126130520433069965"
     },
     "user_tz": -540
    },
    "id": "fTv_bNQz3gMV"
   },
   "outputs": [],
   "source": [
    "dictionary = corpora.Dictionary(data_word)"
   ]
  },
  {
   "cell_type": "code",
   "execution_count": 58,
   "metadata": {
    "executionInfo": {
     "elapsed": 2,
     "status": "ok",
     "timestamp": 1656514097192,
     "user": {
      "displayName": "이동호(일반대학원 디지털애널리틱스 융합협동과정)",
      "userId": "18126130520433069965"
     },
     "user_tz": -540
    },
    "id": "SrwAk0iZ4dH6"
   },
   "outputs": [],
   "source": [
    "dictionary.filter_extremes(no_below=20,no_above=0.5)"
   ]
  },
  {
   "cell_type": "code",
   "execution_count": 59,
   "metadata": {
    "colab": {
     "base_uri": "https://localhost:8080/"
    },
    "executionInfo": {
     "elapsed": 2,
     "status": "ok",
     "timestamp": 1656514097520,
     "user": {
      "displayName": "이동호(일반대학원 디지털애널리틱스 융합협동과정)",
      "userId": "18126130520433069965"
     },
     "user_tz": -540
    },
    "id": "vjL7OQeR6-D7",
    "outputId": "491cc4ab-d7cf-49d3-e6ad-1e1946548adf"
   },
   "outputs": [
    {
     "data": {
      "text/plain": [
       "458"
      ]
     },
     "execution_count": 59,
     "metadata": {},
     "output_type": "execute_result"
    }
   ],
   "source": [
    "len(dictionary)"
   ]
  },
  {
   "cell_type": "code",
   "execution_count": 60,
   "metadata": {
    "executionInfo": {
     "elapsed": 321,
     "status": "ok",
     "timestamp": 1656514149702,
     "user": {
      "displayName": "이동호(일반대학원 디지털애널리틱스 융합협동과정)",
      "userId": "18126130520433069965"
     },
     "user_tz": -540
    },
    "id": "vIm62BCi4i5V"
   },
   "outputs": [],
   "source": [
    "corpus = [dictionary.doc2bow(text) for text in data_word]"
   ]
  },
  {
   "cell_type": "code",
   "execution_count": 61,
   "metadata": {
    "colab": {
     "base_uri": "https://localhost:8080/"
    },
    "executionInfo": {
     "elapsed": 2,
     "status": "ok",
     "timestamp": 1656514151018,
     "user": {
      "displayName": "이동호(일반대학원 디지털애널리틱스 융합협동과정)",
      "userId": "18126130520433069965"
     },
     "user_tz": -540
    },
    "id": "gOjhfaU97HW1",
    "outputId": "510ef3da-70ce-48fd-b178-b91952ca1129"
   },
   "outputs": [
    {
     "data": {
      "text/plain": [
       "[[(0, 1), (1, 1), (2, 1), (3, 1), (4, 1), (5, 1), (6, 1), (7, 1)],\n",
       " [(5, 1),\n",
       "  (7, 1),\n",
       "  (8, 1),\n",
       "  (9, 1),\n",
       "  (10, 1),\n",
       "  (11, 1),\n",
       "  (12, 2),\n",
       "  (13, 1),\n",
       "  (14, 1),\n",
       "  (15, 1),\n",
       "  (16, 1),\n",
       "  (17, 1),\n",
       "  (18, 1)],\n",
       " [(5, 1), (7, 1), (19, 1)],\n",
       " [(3, 1), (5, 2), (7, 1), (20, 1), (21, 1), (22, 1), (23, 1), (24, 1)],\n",
       " [(2, 3),\n",
       "  (5, 3),\n",
       "  (25, 1),\n",
       "  (26, 2),\n",
       "  (27, 2),\n",
       "  (28, 1),\n",
       "  (29, 1),\n",
       "  (30, 1),\n",
       "  (31, 1),\n",
       "  (32, 1),\n",
       "  (33, 1)]]"
      ]
     },
     "execution_count": 61,
     "metadata": {},
     "output_type": "execute_result"
    }
   ],
   "source": [
    "corpus[:5]"
   ]
  },
  {
   "cell_type": "code",
   "execution_count": 62,
   "metadata": {
    "executionInfo": {
     "elapsed": 309,
     "status": "ok",
     "timestamp": 1656514156798,
     "user": {
      "displayName": "이동호(일반대학원 디지털애널리틱스 융합협동과정)",
      "userId": "18126130520433069965"
     },
     "user_tz": -540
    },
    "id": "FaofIC9p4mdc"
   },
   "outputs": [],
   "source": [
    "num_topics = 5\n",
    "chunksize = 1000\n",
    "passes = 10\n",
    "iterations = 400\n",
    "eval_every = None\n",
    "\n",
    "temp = dictionary[0]\n",
    "id2word = dictionary.id2token"
   ]
  },
  {
   "cell_type": "code",
   "execution_count": 64,
   "metadata": {
    "executionInfo": {
     "elapsed": 13395,
     "status": "ok",
     "timestamp": 1656514199111,
     "user": {
      "displayName": "이동호(일반대학원 디지털애널리틱스 융합협동과정)",
      "userId": "18126130520433069965"
     },
     "user_tz": -540
    },
    "id": "BlAZLxLL7XPV"
   },
   "outputs": [],
   "source": [
    "model = LdaModel(corpus=corpus,id2word=id2word,chunksize=chunksize,alpha='auto',eta='auto',iterations=iterations,\n",
    "                  num_topics=num_topics,passes=passes,eval_every=eval_every)"
   ]
  },
  {
   "cell_type": "code",
   "execution_count": 65,
   "metadata": {
    "executionInfo": {
     "elapsed": 323,
     "status": "ok",
     "timestamp": 1656514212830,
     "user": {
      "displayName": "이동호(일반대학원 디지털애널리틱스 융합협동과정)",
      "userId": "18126130520433069965"
     },
     "user_tz": -540
    },
    "id": "0XvFN5jC8Fcw"
   },
   "outputs": [],
   "source": [
    "top_topics = model.top_topics(corpus)"
   ]
  },
  {
   "cell_type": "code",
   "execution_count": 66,
   "metadata": {
    "colab": {
     "base_uri": "https://localhost:8080/"
    },
    "executionInfo": {
     "elapsed": 2,
     "status": "ok",
     "timestamp": 1656514216159,
     "user": {
      "displayName": "이동호(일반대학원 디지털애널리틱스 융합협동과정)",
      "userId": "18126130520433069965"
     },
     "user_tz": -540
    },
    "id": "VpBha-5P8O6M",
    "outputId": "8e20657e-5f64-4f12-d3af-8cb6847151df"
   },
   "outputs": [
    {
     "data": {
      "text/plain": [
       "[([(0.114668675, '비타민'),\n",
       "   (0.03705832, '복용'),\n",
       "   (0.030938419, '종합'),\n",
       "   (0.029967852, '마그네슘'),\n",
       "   (0.028060755, '요'),\n",
       "   (0.02379291, '오메가'),\n",
       "   (0.02077118, '섭취'),\n",
       "   (0.019239508, '약사'),\n",
       "   (0.017814798, '제'),\n",
       "   (0.016978351, '제품'),\n",
       "   (0.016777098, '리서치'),\n",
       "   (0.013787898, '양제'),\n",
       "   (0.013423527, '알'),\n",
       "   (0.012530974, '군'),\n",
       "   (0.011318946, '칼슘'),\n",
       "   (0.009756855, '추천'),\n",
       "   (0.009713167, '를'),\n",
       "   (0.009634389, '것'),\n",
       "   (0.009123514, '간'),\n",
       "   (0.009092429, '하루')],\n",
       "  -2.4241412037760326),\n",
       " ([(0.12002791, '비'),\n",
       "   (0.084857814, '맥스'),\n",
       "   (0.054520395, '메타'),\n",
       "   (0.039345987, '복용'),\n",
       "   (0.032624383, '민'),\n",
       "   (0.025783047, '골드'),\n",
       "   (0.022763396, '로나'),\n",
       "   (0.018744739, '약사'),\n",
       "   (0.018469363, '하루'),\n",
       "   (0.017819015, '프리미엄'),\n",
       "   (0.016492017, '알'),\n",
       "   (0.015490304, '요'),\n",
       "   (0.013754827, '저'),\n",
       "   (0.012170024, '세라'),\n",
       "   (0.0121201975, '공부'),\n",
       "   (0.011744861, '피로'),\n",
       "   (0.010511455, '효과'),\n",
       "   (0.0101802945, '임팩타민'),\n",
       "   (0.009229728, '더'),\n",
       "   (0.0091324495, '계속')],\n",
       "  -2.858898831369305),\n",
       " ([(0.06634482, '양제'),\n",
       "   (0.059799984, '추천'),\n",
       "   (0.043893907, '약사'),\n",
       "   (0.036590625, '오메가'),\n",
       "   (0.028369352, '제품'),\n",
       "   (0.024634417, '유산균'),\n",
       "   (0.022479307, '좀'),\n",
       "   (0.021034623, '약'),\n",
       "   (0.020568738, '영상'),\n",
       "   (0.017370746, '요'),\n",
       "   (0.015746405, '트루'),\n",
       "   (0.014859662, '혹시'),\n",
       "   (0.01223286, '소개'),\n",
       "   (0.011996099, '아이'),\n",
       "   (0.01122266, '선생님'),\n",
       "   (0.010565735, '걸'),\n",
       "   (0.010374891, '영양'),\n",
       "   (0.010328145, '눈'),\n",
       "   (0.010143972, '구입'),\n",
       "   (0.010102188, '제')],\n",
       "  -2.94729840078995),\n",
       " ([(0.09337539, '약사'),\n",
       "   (0.062255263, '정보'),\n",
       "   (0.059868548, '축하'),\n",
       "   (0.05291439, '약'),\n",
       "   (0.047857177, '영상'),\n",
       "   (0.04392723, '항상'),\n",
       "   (0.032113425, '저'),\n",
       "   (0.029013451, '감사'),\n",
       "   (0.026446031, '도움'),\n",
       "   (0.023446105, '정말'),\n",
       "   (0.022437656, '보고'),\n",
       "   (0.021739405, '늘'),\n",
       "   (0.021012103, '건강'),\n",
       "   (0.020694038, '구독'),\n",
       "   (0.017931946, '양제'),\n",
       "   (0.016927518, '덕분'),\n",
       "   (0.013920137, '독자'),\n",
       "   (0.013374967, '앞'),\n",
       "   (0.010936759, '분'),\n",
       "   (0.010534561, '설명')],\n",
       "  -3.0373624383547986),\n",
       " ([(0.08827763, '제품'),\n",
       "   (0.028648268, '약국'),\n",
       "   (0.027253663, '비'),\n",
       "   (0.025526535, '약사'),\n",
       "   (0.024909686, '가격'),\n",
       "   (0.021201087, '아침'),\n",
       "   (0.020273536, '광고'),\n",
       "   (0.020245481, '직구'),\n",
       "   (0.018000808, '더'),\n",
       "   (0.016952002, '땡'),\n",
       "   (0.014999474, '왜'),\n",
       "   (0.014429913, '그냥'),\n",
       "   (0.014292672, '좀'),\n",
       "   (0.0139420405, '듀얼'),\n",
       "   (0.013049998, '해외'),\n",
       "   (0.012771433, '국내'),\n",
       "   (0.0126087675, '비교'),\n",
       "   (0.011649833, '것'),\n",
       "   (0.011645231, '정리'),\n",
       "   (0.011450553, '활')],\n",
       "  -5.119465484250376)]"
      ]
     },
     "execution_count": 66,
     "metadata": {},
     "output_type": "execute_result"
    }
   ],
   "source": [
    "top_topics"
   ]
  },
  {
   "cell_type": "code",
   "execution_count": 67,
   "metadata": {
    "colab": {
     "base_uri": "https://localhost:8080/"
    },
    "executionInfo": {
     "elapsed": 343,
     "status": "ok",
     "timestamp": 1656514233814,
     "user": {
      "displayName": "이동호(일반대학원 디지털애널리틱스 융합협동과정)",
      "userId": "18126130520433069965"
     },
     "user_tz": -540
    },
    "id": "hnEqI9rs8Pru",
    "outputId": "d9d5586c-7af8-4f2a-ffbc-820fd21744de"
   },
   "outputs": [
    {
     "name": "stdout",
     "output_type": "stream",
     "text": [
      "Average topic coherence: -3.2774.\n"
     ]
    }
   ],
   "source": [
    "avg_topic_coherence = sum([t[1] for t in top_topics]) / num_topics\n",
    "print('Average topic coherence: %.4f.' % avg_topic_coherence)"
   ]
  },
  {
   "cell_type": "code",
   "execution_count": 70,
   "metadata": {
    "colab": {
     "base_uri": "https://localhost:8080/"
    },
    "executionInfo": {
     "elapsed": 18865,
     "status": "ok",
     "timestamp": 1656514288628,
     "user": {
      "displayName": "이동호(일반대학원 디지털애널리틱스 융합협동과정)",
      "userId": "18126130520433069965"
     },
     "user_tz": -540
    },
    "id": "-bFVpf8C8bpf",
    "outputId": "212163dd-4266-43bd-e4b7-2b02745d7f1b"
   },
   "outputs": [
    {
     "name": "stdout",
     "output_type": "stream",
     "text": [
      "Looking in indexes: https://pypi.org/simple, https://us-python.pkg.dev/colab-wheels/public/simple/\n",
      "Collecting pyLDAvis\n",
      "  Downloading pyLDAvis-3.3.1.tar.gz (1.7 MB)\n",
      "\u001b[K     |████████████████████████████████| 1.7 MB 12.7 MB/s \n",
      "\u001b[?25h  Installing build dependencies ... \u001b[?25l\u001b[?25hdone\n",
      "  Getting requirements to build wheel ... \u001b[?25l\u001b[?25hdone\n",
      "  Installing backend dependencies ... \u001b[?25l\u001b[?25hdone\n",
      "    Preparing wheel metadata ... \u001b[?25l\u001b[?25hdone\n",
      "Requirement already satisfied: gensim in /usr/local/lib/python3.7/dist-packages (from pyLDAvis) (3.6.0)\n",
      "Requirement already satisfied: joblib in /usr/local/lib/python3.7/dist-packages (from pyLDAvis) (1.1.0)\n",
      "Requirement already satisfied: scipy in /usr/local/lib/python3.7/dist-packages (from pyLDAvis) (1.4.1)\n",
      "Requirement already satisfied: future in /usr/local/lib/python3.7/dist-packages (from pyLDAvis) (0.16.0)\n",
      "Requirement already satisfied: pandas>=1.2.0 in /usr/local/lib/python3.7/dist-packages (from pyLDAvis) (1.3.5)\n",
      "Collecting funcy\n",
      "  Downloading funcy-1.17-py2.py3-none-any.whl (33 kB)\n",
      "Requirement already satisfied: jinja2 in /usr/local/lib/python3.7/dist-packages (from pyLDAvis) (2.11.3)\n",
      "Requirement already satisfied: scikit-learn in /usr/local/lib/python3.7/dist-packages (from pyLDAvis) (1.0.2)\n",
      "Requirement already satisfied: numpy>=1.20.0 in /usr/local/lib/python3.7/dist-packages (from pyLDAvis) (1.21.6)\n",
      "Requirement already satisfied: setuptools in /usr/local/lib/python3.7/dist-packages (from pyLDAvis) (57.4.0)\n",
      "Requirement already satisfied: sklearn in /usr/local/lib/python3.7/dist-packages (from pyLDAvis) (0.0)\n",
      "Requirement already satisfied: numexpr in /usr/local/lib/python3.7/dist-packages (from pyLDAvis) (2.8.1)\n",
      "Requirement already satisfied: python-dateutil>=2.7.3 in /usr/local/lib/python3.7/dist-packages (from pandas>=1.2.0->pyLDAvis) (2.8.2)\n",
      "Requirement already satisfied: pytz>=2017.3 in /usr/local/lib/python3.7/dist-packages (from pandas>=1.2.0->pyLDAvis) (2022.1)\n",
      "Requirement already satisfied: six>=1.5 in /usr/local/lib/python3.7/dist-packages (from python-dateutil>=2.7.3->pandas>=1.2.0->pyLDAvis) (1.15.0)\n",
      "Requirement already satisfied: smart-open>=1.2.1 in /usr/local/lib/python3.7/dist-packages (from gensim->pyLDAvis) (5.2.1)\n",
      "Requirement already satisfied: MarkupSafe>=0.23 in /usr/local/lib/python3.7/dist-packages (from jinja2->pyLDAvis) (2.0.1)\n",
      "Requirement already satisfied: packaging in /usr/local/lib/python3.7/dist-packages (from numexpr->pyLDAvis) (21.3)\n",
      "Requirement already satisfied: pyparsing!=3.0.5,>=2.0.2 in /usr/local/lib/python3.7/dist-packages (from packaging->numexpr->pyLDAvis) (3.0.9)\n",
      "Requirement already satisfied: threadpoolctl>=2.0.0 in /usr/local/lib/python3.7/dist-packages (from scikit-learn->pyLDAvis) (3.1.0)\n",
      "Building wheels for collected packages: pyLDAvis\n",
      "  Building wheel for pyLDAvis (PEP 517) ... \u001b[?25l\u001b[?25hdone\n",
      "  Created wheel for pyLDAvis: filename=pyLDAvis-3.3.1-py2.py3-none-any.whl size=136898 sha256=d9a36543ba74ceb07bbabde32501196c59e8b466345d425c49f85494ce2e9bfc\n",
      "  Stored in directory: /root/.cache/pip/wheels/c9/21/f6/17bcf2667e8a68532ba2fbf6d5c72fdf4c7f7d9abfa4852d2f\n",
      "Successfully built pyLDAvis\n",
      "Installing collected packages: funcy, pyLDAvis\n",
      "Successfully installed funcy-1.17 pyLDAvis-3.3.1\n"
     ]
    }
   ],
   "source": [
    "!pip install pyLDAvis"
   ]
  },
  {
   "cell_type": "code",
   "execution_count": 71,
   "metadata": {
    "colab": {
     "base_uri": "https://localhost:8080/"
    },
    "executionInfo": {
     "elapsed": 715,
     "status": "ok",
     "timestamp": 1656514293048,
     "user": {
      "displayName": "이동호(일반대학원 디지털애널리틱스 융합협동과정)",
      "userId": "18126130520433069965"
     },
     "user_tz": -540
    },
    "id": "lg_ND7RX8XTS",
    "outputId": "5478c58e-b233-45e4-fa18-39f96bab4ed8"
   },
   "outputs": [
    {
     "name": "stderr",
     "output_type": "stream",
     "text": [
      "/usr/local/lib/python3.7/dist-packages/past/types/oldstr.py:5: DeprecationWarning: Using or importing the ABCs from 'collections' instead of from 'collections.abc' is deprecated since Python 3.3,and in 3.9 it will stop working\n",
      "  from collections import Iterable\n"
     ]
    }
   ],
   "source": [
    "import pickle\n",
    "import pyLDAvis.gensim_models as gensimvis\n",
    "import pyLDAvis\n",
    "from gensim.models.coherencemodel import CoherenceModel\n",
    "import matplotlib.pyplot as plt"
   ]
  },
  {
   "cell_type": "code",
   "execution_count": 74,
   "metadata": {
    "colab": {
     "base_uri": "https://localhost:8080/"
    },
    "executionInfo": {
     "elapsed": 4607,
     "status": "ok",
     "timestamp": 1656514347067,
     "user": {
      "displayName": "이동호(일반대학원 디지털애널리틱스 융합협동과정)",
      "userId": "18126130520433069965"
     },
     "user_tz": -540
    },
    "id": "WQ0JOjgA8a3e",
    "outputId": "90800384-cd49-4e9e-8414-cc89427bf6ea"
   },
   "outputs": [
    {
     "name": "stderr",
     "output_type": "stream",
     "text": [
      "/usr/local/lib/python3.7/dist-packages/pyLDAvis/_prepare.py:247: FutureWarning: In a future version of pandas all arguments of DataFrame.drop except for the argument 'labels' will be keyword-only\n",
      "  by='saliency', ascending=False).head(R).drop('saliency', 1)\n"
     ]
    }
   ],
   "source": [
    "lda_visualization = gensimvis.prepare(model, corpus, dictionary, sort_topics=False)\n",
    "pyLDAvis.save_html(lda_visualization, '/content/drive/Shareddrives/감자/YoutubeComments/비타민B제품군/topic1.html')"
   ]
  },
  {
   "cell_type": "code",
   "execution_count": null,
   "metadata": {
    "id": "Zt-QdWEe8yrO"
   },
   "outputs": [],
   "source": []
  }
 ],
 "metadata": {
  "colab": {
   "authorship_tag": "ABX9TyO7C7ymYLcnOVxHWMPu4zzm",
   "collapsed_sections": [],
   "mount_file_id": "1uxS1kK9h2ZbDcxeRffmMZMP8ITyCNWqT",
   "name": "TopicModeling.ipynb",
   "provenance": []
  },
  "kernelspec": {
   "display_name": "Python 3 (ipykernel)",
   "language": "python",
   "name": "python3"
  },
  "language_info": {
   "codemirror_mode": {
    "name": "ipython",
    "version": 3
   },
   "file_extension": ".py",
   "mimetype": "text/x-python",
   "name": "python",
   "nbconvert_exporter": "python",
   "pygments_lexer": "ipython3",
   "version": "3.9.7"
  }
 },
 "nbformat": 4,
 "nbformat_minor": 1
}
