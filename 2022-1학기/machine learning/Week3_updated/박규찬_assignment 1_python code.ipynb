{
 "cells": [
  {
   "cell_type": "code",
   "execution_count": 2222,
   "id": "18665db6",
   "metadata": {},
   "outputs": [],
   "source": [
    "# 기본 모듈 호출\n",
    "import pandas as pd\n",
    "import numpy as np"
   ]
  },
  {
   "cell_type": "markdown",
   "id": "43d30daf",
   "metadata": {},
   "source": [
    "## Data 확인"
   ]
  },
  {
   "cell_type": "code",
   "execution_count": 2223,
   "id": "6bc3b246",
   "metadata": {},
   "outputs": [],
   "source": [
    "# 데이터 불러오기\n",
    "df = pd.read_excel('dataset_hw1.xlsx')"
   ]
  },
  {
   "cell_type": "code",
   "execution_count": 2224,
   "id": "cb5ad8c2",
   "metadata": {},
   "outputs": [
    {
     "data": {
      "text/plain": [
       "(1411, 13)"
      ]
     },
     "execution_count": 2224,
     "metadata": {},
     "output_type": "execute_result"
    }
   ],
   "source": [
    "# data 수 확인\n",
    "df.shape"
   ]
  },
  {
   "cell_type": "code",
   "execution_count": 2225,
   "id": "81710ea3",
   "metadata": {},
   "outputs": [
    {
     "data": {
      "text/html": [
       "<div>\n",
       "<style scoped>\n",
       "    .dataframe tbody tr th:only-of-type {\n",
       "        vertical-align: middle;\n",
       "    }\n",
       "\n",
       "    .dataframe tbody tr th {\n",
       "        vertical-align: top;\n",
       "    }\n",
       "\n",
       "    .dataframe thead th {\n",
       "        text-align: right;\n",
       "    }\n",
       "</style>\n",
       "<table border=\"1\" class=\"dataframe\">\n",
       "  <thead>\n",
       "    <tr style=\"text-align: right;\">\n",
       "      <th></th>\n",
       "      <th>movie_ID</th>\n",
       "      <th>title</th>\n",
       "      <th>genre</th>\n",
       "      <th>running_time</th>\n",
       "      <th>netizen_ratings</th>\n",
       "      <th>num_reviews</th>\n",
       "      <th>num_article</th>\n",
       "      <th>country</th>\n",
       "      <th>rating</th>\n",
       "      <th>companyNm</th>\n",
       "      <th>released_year</th>\n",
       "      <th>released_month</th>\n",
       "      <th>num_viewers</th>\n",
       "    </tr>\n",
       "  </thead>\n",
       "  <tbody>\n",
       "    <tr>\n",
       "      <th>0</th>\n",
       "      <td>19820019</td>\n",
       "      <td>만추</td>\n",
       "      <td>멜로/로맨스</td>\n",
       "      <td>113.0</td>\n",
       "      <td>7.31</td>\n",
       "      <td>5175</td>\n",
       "      <td>8692</td>\n",
       "      <td>한국</td>\n",
       "      <td>15세이상관람가</td>\n",
       "      <td>씨제이엔터테인먼트</td>\n",
       "      <td>2011</td>\n",
       "      <td>2</td>\n",
       "      <td>844103</td>\n",
       "    </tr>\n",
       "    <tr>\n",
       "      <th>1</th>\n",
       "      <td>20050082</td>\n",
       "      <td>이터널 선샤인</td>\n",
       "      <td>멜로/로맨스</td>\n",
       "      <td>107.0</td>\n",
       "      <td>9.11</td>\n",
       "      <td>9388</td>\n",
       "      <td>812</td>\n",
       "      <td>미국</td>\n",
       "      <td>15세이상관람가</td>\n",
       "      <td>코리아픽쳐스(주)</td>\n",
       "      <td>2005</td>\n",
       "      <td>11</td>\n",
       "      <td>506609</td>\n",
       "    </tr>\n",
       "    <tr>\n",
       "      <th>2</th>\n",
       "      <td>20061214</td>\n",
       "      <td>작은 연못</td>\n",
       "      <td>드라마</td>\n",
       "      <td>86.0</td>\n",
       "      <td>6.51</td>\n",
       "      <td>873</td>\n",
       "      <td>393</td>\n",
       "      <td>한국</td>\n",
       "      <td>15세이상관람가</td>\n",
       "      <td>NaN</td>\n",
       "      <td>2010</td>\n",
       "      <td>4</td>\n",
       "      <td>47160</td>\n",
       "    </tr>\n",
       "    <tr>\n",
       "      <th>3</th>\n",
       "      <td>20061223</td>\n",
       "      <td>소년은 울지 않는다</td>\n",
       "      <td>액션</td>\n",
       "      <td>98.0</td>\n",
       "      <td>5.62</td>\n",
       "      <td>266</td>\n",
       "      <td>352</td>\n",
       "      <td>한국</td>\n",
       "      <td>15세이상관람가</td>\n",
       "      <td>㈜스튜디오이쩜영</td>\n",
       "      <td>2008</td>\n",
       "      <td>11</td>\n",
       "      <td>94993</td>\n",
       "    </tr>\n",
       "    <tr>\n",
       "      <th>4</th>\n",
       "      <td>20068576</td>\n",
       "      <td>그날의 분위기</td>\n",
       "      <td>멜로/로맨스</td>\n",
       "      <td>103.0</td>\n",
       "      <td>6.53</td>\n",
       "      <td>3005</td>\n",
       "      <td>2953</td>\n",
       "      <td>한국</td>\n",
       "      <td>15세이상관람가</td>\n",
       "      <td>(주)쇼박스</td>\n",
       "      <td>2016</td>\n",
       "      <td>1</td>\n",
       "      <td>652453</td>\n",
       "    </tr>\n",
       "  </tbody>\n",
       "</table>\n",
       "</div>"
      ],
      "text/plain": [
       "   movie_ID       title   genre  running_time  netizen_ratings  num_reviews  \\\n",
       "0  19820019          만추  멜로/로맨스         113.0             7.31         5175   \n",
       "1  20050082     이터널 선샤인  멜로/로맨스         107.0             9.11         9388   \n",
       "2  20061214       작은 연못     드라마          86.0             6.51          873   \n",
       "3  20061223  소년은 울지 않는다      액션          98.0             5.62          266   \n",
       "4  20068576     그날의 분위기  멜로/로맨스         103.0             6.53         3005   \n",
       "\n",
       "   num_article country    rating  companyNm  released_year  released_month  \\\n",
       "0         8692      한국  15세이상관람가  씨제이엔터테인먼트           2011               2   \n",
       "1          812      미국  15세이상관람가  코리아픽쳐스(주)           2005              11   \n",
       "2          393      한국  15세이상관람가        NaN           2010               4   \n",
       "3          352      한국  15세이상관람가   ㈜스튜디오이쩜영           2008              11   \n",
       "4         2953      한국  15세이상관람가     (주)쇼박스           2016               1   \n",
       "\n",
       "   num_viewers  \n",
       "0       844103  \n",
       "1       506609  \n",
       "2        47160  \n",
       "3        94993  \n",
       "4       652453  "
      ]
     },
     "execution_count": 2225,
     "metadata": {},
     "output_type": "execute_result"
    }
   ],
   "source": [
    "# 데이터 확인 \n",
    "df.head()"
   ]
  },
  {
   "cell_type": "code",
   "execution_count": 2226,
   "id": "89b2343e",
   "metadata": {},
   "outputs": [
    {
     "data": {
      "text/plain": [
       "1074520.2005669738"
      ]
     },
     "execution_count": 2226,
     "metadata": {},
     "output_type": "execute_result"
    }
   ],
   "source": [
    "df.num_viewers.mean()"
   ]
  },
  {
   "cell_type": "code",
   "execution_count": 2227,
   "id": "1440f394",
   "metadata": {},
   "outputs": [
    {
     "name": "stdout",
     "output_type": "stream",
     "text": [
      "<class 'pandas.core.frame.DataFrame'>\n",
      "RangeIndex: 1411 entries, 0 to 1410\n",
      "Data columns (total 13 columns):\n",
      " #   Column           Non-Null Count  Dtype  \n",
      "---  ------           --------------  -----  \n",
      " 0   movie_ID         1411 non-null   int64  \n",
      " 1   title            1411 non-null   object \n",
      " 2   genre            1408 non-null   object \n",
      " 3   running_time     1409 non-null   float64\n",
      " 4   netizen_ratings  1411 non-null   float64\n",
      " 5   num_reviews      1411 non-null   int64  \n",
      " 6   num_article      1411 non-null   int64  \n",
      " 7   country          1409 non-null   object \n",
      " 8   rating           1410 non-null   object \n",
      " 9   companyNm        1406 non-null   object \n",
      " 10  released_year    1411 non-null   int64  \n",
      " 11  released_month   1411 non-null   int64  \n",
      " 12  num_viewers      1411 non-null   int64  \n",
      "dtypes: float64(2), int64(6), object(5)\n",
      "memory usage: 143.4+ KB\n"
     ]
    }
   ],
   "source": [
    "# 데이터 확인\n",
    "df.info()"
   ]
  },
  {
   "cell_type": "code",
   "execution_count": 2228,
   "id": "40c0e0c4",
   "metadata": {
    "scrolled": true
   },
   "outputs": [
    {
     "data": {
      "text/html": [
       "<div>\n",
       "<style scoped>\n",
       "    .dataframe tbody tr th:only-of-type {\n",
       "        vertical-align: middle;\n",
       "    }\n",
       "\n",
       "    .dataframe tbody tr th {\n",
       "        vertical-align: top;\n",
       "    }\n",
       "\n",
       "    .dataframe thead th {\n",
       "        text-align: right;\n",
       "    }\n",
       "</style>\n",
       "<table border=\"1\" class=\"dataframe\">\n",
       "  <thead>\n",
       "    <tr style=\"text-align: right;\">\n",
       "      <th></th>\n",
       "      <th>movie_ID</th>\n",
       "      <th>running_time</th>\n",
       "      <th>netizen_ratings</th>\n",
       "      <th>num_reviews</th>\n",
       "      <th>num_article</th>\n",
       "      <th>released_year</th>\n",
       "      <th>released_month</th>\n",
       "      <th>num_viewers</th>\n",
       "    </tr>\n",
       "  </thead>\n",
       "  <tbody>\n",
       "    <tr>\n",
       "      <th>count</th>\n",
       "      <td>1.411000e+03</td>\n",
       "      <td>1409.000000</td>\n",
       "      <td>1411.000000</td>\n",
       "      <td>1411.000000</td>\n",
       "      <td>1411.000000</td>\n",
       "      <td>1411.000000</td>\n",
       "      <td>1411.000000</td>\n",
       "      <td>1.411000e+03</td>\n",
       "    </tr>\n",
       "    <tr>\n",
       "      <th>mean</th>\n",
       "      <td>2.012593e+07</td>\n",
       "      <td>110.545067</td>\n",
       "      <td>7.618731</td>\n",
       "      <td>4582.657690</td>\n",
       "      <td>1031.433026</td>\n",
       "      <td>2012.635719</td>\n",
       "      <td>6.406804</td>\n",
       "      <td>1.074520e+06</td>\n",
       "    </tr>\n",
       "    <tr>\n",
       "      <th>std</th>\n",
       "      <td>3.060055e+04</td>\n",
       "      <td>18.083797</td>\n",
       "      <td>1.111924</td>\n",
       "      <td>7316.325767</td>\n",
       "      <td>1866.725542</td>\n",
       "      <td>2.899102</td>\n",
       "      <td>3.465790</td>\n",
       "      <td>1.841526e+06</td>\n",
       "    </tr>\n",
       "    <tr>\n",
       "      <th>min</th>\n",
       "      <td>1.982002e+07</td>\n",
       "      <td>0.000000</td>\n",
       "      <td>2.530000</td>\n",
       "      <td>49.000000</td>\n",
       "      <td>0.000000</td>\n",
       "      <td>2005.000000</td>\n",
       "      <td>1.000000</td>\n",
       "      <td>2.260000e+04</td>\n",
       "    </tr>\n",
       "    <tr>\n",
       "      <th>25%</th>\n",
       "      <td>2.010038e+07</td>\n",
       "      <td>98.000000</td>\n",
       "      <td>7.010000</td>\n",
       "      <td>943.500000</td>\n",
       "      <td>38.000000</td>\n",
       "      <td>2010.000000</td>\n",
       "      <td>3.000000</td>\n",
       "      <td>1.079420e+05</td>\n",
       "    </tr>\n",
       "    <tr>\n",
       "      <th>50%</th>\n",
       "      <td>2.012641e+07</td>\n",
       "      <td>110.000000</td>\n",
       "      <td>7.800000</td>\n",
       "      <td>2175.000000</td>\n",
       "      <td>194.000000</td>\n",
       "      <td>2013.000000</td>\n",
       "      <td>7.000000</td>\n",
       "      <td>3.558510e+05</td>\n",
       "    </tr>\n",
       "    <tr>\n",
       "      <th>75%</th>\n",
       "      <td>2.015077e+07</td>\n",
       "      <td>121.000000</td>\n",
       "      <td>8.420000</td>\n",
       "      <td>5048.000000</td>\n",
       "      <td>1279.500000</td>\n",
       "      <td>2015.000000</td>\n",
       "      <td>9.000000</td>\n",
       "      <td>1.179833e+06</td>\n",
       "    </tr>\n",
       "    <tr>\n",
       "      <th>max</th>\n",
       "      <td>2.018766e+07</td>\n",
       "      <td>235.000000</td>\n",
       "      <td>9.380000</td>\n",
       "      <td>95111.000000</td>\n",
       "      <td>19996.000000</td>\n",
       "      <td>2018.000000</td>\n",
       "      <td>12.000000</td>\n",
       "      <td>1.761368e+07</td>\n",
       "    </tr>\n",
       "  </tbody>\n",
       "</table>\n",
       "</div>"
      ],
      "text/plain": [
       "           movie_ID  running_time  netizen_ratings   num_reviews  \\\n",
       "count  1.411000e+03   1409.000000      1411.000000   1411.000000   \n",
       "mean   2.012593e+07    110.545067         7.618731   4582.657690   \n",
       "std    3.060055e+04     18.083797         1.111924   7316.325767   \n",
       "min    1.982002e+07      0.000000         2.530000     49.000000   \n",
       "25%    2.010038e+07     98.000000         7.010000    943.500000   \n",
       "50%    2.012641e+07    110.000000         7.800000   2175.000000   \n",
       "75%    2.015077e+07    121.000000         8.420000   5048.000000   \n",
       "max    2.018766e+07    235.000000         9.380000  95111.000000   \n",
       "\n",
       "        num_article  released_year  released_month   num_viewers  \n",
       "count   1411.000000    1411.000000     1411.000000  1.411000e+03  \n",
       "mean    1031.433026    2012.635719        6.406804  1.074520e+06  \n",
       "std     1866.725542       2.899102        3.465790  1.841526e+06  \n",
       "min        0.000000    2005.000000        1.000000  2.260000e+04  \n",
       "25%       38.000000    2010.000000        3.000000  1.079420e+05  \n",
       "50%      194.000000    2013.000000        7.000000  3.558510e+05  \n",
       "75%     1279.500000    2015.000000        9.000000  1.179833e+06  \n",
       "max    19996.000000    2018.000000       12.000000  1.761368e+07  "
      ]
     },
     "execution_count": 2228,
     "metadata": {},
     "output_type": "execute_result"
    }
   ],
   "source": [
    "df.describe()"
   ]
  },
  {
   "cell_type": "code",
   "execution_count": 2229,
   "id": "fa583710",
   "metadata": {},
   "outputs": [
    {
     "data": {
      "image/png": "[encoded data removed]",
      "text/plain": [
       "<Figure size 1440x1080 with 9 Axes>"
      ]
     },
     "metadata": {
      "needs_background": "light"
     },
     "output_type": "display_data"
    }
   ],
   "source": [
    "# all of the numerical variables\n",
    "%matplotlib inline\n",
    "import matplotlib.pyplot as plt\n",
    "df.hist(bins=50, figsize=(20,15))\n",
    "plt.show()"
   ]
  },
  {
   "cell_type": "code",
   "execution_count": 2230,
   "id": "85f70057",
   "metadata": {},
   "outputs": [
    {
     "data": {
      "image/png": "[encoded data removed]",
      "text/plain": [
       "<Figure size 1440x1080 with 1 Axes>"
      ]
     },
     "metadata": {
      "needs_background": "light"
     },
     "output_type": "display_data"
    }
   ],
   "source": [
    "df['num_viewers'].hist(bins=200, figsize=(20,15))\n",
    "plt.show()"
   ]
  },
  {
   "cell_type": "markdown",
   "id": "9b4536c4",
   "metadata": {},
   "source": [
    "## Null 값 확인 및 제거"
   ]
  },
  {
   "cell_type": "code",
   "execution_count": 2231,
   "id": "8d3a218b",
   "metadata": {},
   "outputs": [
    {
     "data": {
      "text/plain": [
       "movie_ID           0\n",
       "title              0\n",
       "genre              3\n",
       "running_time       2\n",
       "netizen_ratings    0\n",
       "num_reviews        0\n",
       "num_article        0\n",
       "country            2\n",
       "rating             1\n",
       "companyNm          5\n",
       "released_year      0\n",
       "released_month     0\n",
       "num_viewers        0\n",
       "dtype: int64"
      ]
     },
     "execution_count": 2231,
     "metadata": {},
     "output_type": "execute_result"
    }
   ],
   "source": [
    "# data null 값 확인\n",
    "df.isnull().sum()"
   ]
  },
  {
   "cell_type": "code",
   "execution_count": 2232,
   "id": "56e508c5",
   "metadata": {},
   "outputs": [
    {
     "data": {
      "text/plain": [
       "movie_ID           1411\n",
       "title              1411\n",
       "genre              1408\n",
       "running_time       1409\n",
       "netizen_ratings    1411\n",
       "num_reviews        1411\n",
       "num_article        1411\n",
       "country            1409\n",
       "rating             1410\n",
       "companyNm          1406\n",
       "released_year      1411\n",
       "released_month     1411\n",
       "num_viewers        1411\n",
       "dtype: int64"
      ]
     },
     "execution_count": 2232,
     "metadata": {},
     "output_type": "execute_result"
    }
   ],
   "source": [
    "df.notnull().sum()"
   ]
  },
  {
   "cell_type": "code",
   "execution_count": 2233,
   "id": "1eecb165",
   "metadata": {},
   "outputs": [],
   "source": [
    "# null 값 삭제\n",
    "df = df.dropna()"
   ]
  },
  {
   "cell_type": "code",
   "execution_count": 2234,
   "id": "3e6d45ae",
   "metadata": {
    "scrolled": true
   },
   "outputs": [
    {
     "data": {
      "text/plain": [
       "movie_ID           1400\n",
       "title              1400\n",
       "genre              1400\n",
       "running_time       1400\n",
       "netizen_ratings    1400\n",
       "num_reviews        1400\n",
       "num_article        1400\n",
       "country            1400\n",
       "rating             1400\n",
       "companyNm          1400\n",
       "released_year      1400\n",
       "released_month     1400\n",
       "num_viewers        1400\n",
       "dtype: int64"
      ]
     },
     "execution_count": 2234,
     "metadata": {},
     "output_type": "execute_result"
    }
   ],
   "source": [
    "df.notnull().sum()"
   ]
  },
  {
   "cell_type": "markdown",
   "id": "1614c95c",
   "metadata": {},
   "source": [
    "### 범주형 변수 확인"
   ]
  },
  {
   "cell_type": "code",
   "execution_count": 2235,
   "id": "fa8ef275",
   "metadata": {},
   "outputs": [
    {
     "data": {
      "text/plain": [
       "만추                  1\n",
       "워터 디바이너             1\n",
       "기생수 파트1             1\n",
       "패딩턴                 1\n",
       "빅 아이즈               1\n",
       "                   ..\n",
       "고 녀석 맛나겠다           1\n",
       "바니버디                1\n",
       "해리포터와 죽음의 성물2       1\n",
       "명탐정 코난 : 침묵의 15분    1\n",
       "마일22                1\n",
       "Name: title, Length: 1400, dtype: int64"
      ]
     },
     "execution_count": 2235,
     "metadata": {},
     "output_type": "execute_result"
    }
   ],
   "source": [
    "df.title.value_counts()"
   ]
  },
  {
   "cell_type": "code",
   "execution_count": 2236,
   "id": "f5e1ab1e",
   "metadata": {},
   "outputs": [
    {
     "name": "stdout",
     "output_type": "stream",
     "text": [
      "title : 1400\n",
      "genre : 18\n",
      "country : 25\n",
      "rating : 4\n",
      "companyNm : 128\n"
     ]
    }
   ],
   "source": [
    "# 범주형 변수 중 dummy화를 통해 분석에 사용하기 용이한 data 확인(unique값 확인)\n",
    "print(f\"title : {df['title'].nunique()}\")\n",
    "print(f\"genre : {df['genre'].nunique()}\")\n",
    "print(f\"country : {df['country'].nunique()}\")\n",
    "print(f\"rating : {df['rating'].nunique()}\")\n",
    "print(f\"companyNm : {df['companyNm'].nunique()}\")\n",
    "# 위 변수 중 title은 len()을 활용해 영화 제목 길이가 관람객 수에 유의미한 영향이 있는지 파악\n",
    "# rating의 경우 dummy화를 통해 분석에 활용"
   ]
  },
  {
   "cell_type": "markdown",
   "id": "ac284a5c",
   "metadata": {},
   "source": [
    "## 분석에 활용할 변수 생성"
   ]
  },
  {
   "cell_type": "markdown",
   "id": "aff1df7a",
   "metadata": {},
   "source": [
    "#### 월별 관람객 수"
   ]
  },
  {
   "cell_type": "code",
   "execution_count": 2237,
   "id": "0fd5c1ad",
   "metadata": {},
   "outputs": [],
   "source": [
    "# 월별 관람객 수 생성\n",
    "df['viewers_per_months'] = round(df['num_viewers'] / df['released_month'])"
   ]
  },
  {
   "cell_type": "markdown",
   "id": "97f8130f",
   "metadata": {},
   "source": [
    "#### 제목 길이 생성"
   ]
  },
  {
   "cell_type": "code",
   "execution_count": 2238,
   "id": "9d61c0a6",
   "metadata": {},
   "outputs": [],
   "source": [
    "# title 제목의 길이 추출\n",
    "title_len = []\n",
    "for i in df['title']:\n",
    "    title_len.append(len(i))"
   ]
  },
  {
   "cell_type": "code",
   "execution_count": 2239,
   "id": "2110d7bb",
   "metadata": {},
   "outputs": [],
   "source": [
    "# title 제목 길이 dataframe에 삽입\n",
    "df['title_len'] = title_len"
   ]
  },
  {
   "cell_type": "markdown",
   "id": "208ba045",
   "metadata": {},
   "source": [
    "#### rating dummy화"
   ]
  },
  {
   "cell_type": "code",
   "execution_count": 2240,
   "id": "0c8f0cc8",
   "metadata": {
    "scrolled": true
   },
   "outputs": [
    {
     "data": {
      "text/plain": [
       "15세이상관람가    535\n",
       "12세이상관람가    361\n",
       "청소년관람불가     267\n",
       "전체관람가       237\n",
       "Name: rating, dtype: int64"
      ]
     },
     "execution_count": 2240,
     "metadata": {},
     "output_type": "execute_result"
    }
   ],
   "source": [
    "# rating 카테고리 확인\n",
    "df.rating.value_counts()"
   ]
  },
  {
   "cell_type": "code",
   "execution_count": 2241,
   "id": "4421d0e7",
   "metadata": {},
   "outputs": [],
   "source": [
    "# dummy 변수 생성\n",
    "rating_dummies = pd.get_dummies(df[['rating']], prefix=['rating'])"
   ]
  },
  {
   "cell_type": "code",
   "execution_count": 2242,
   "id": "0de12b3f",
   "metadata": {
    "scrolled": true
   },
   "outputs": [
    {
     "data": {
      "text/html": [
       "<div>\n",
       "<style scoped>\n",
       "    .dataframe tbody tr th:only-of-type {\n",
       "        vertical-align: middle;\n",
       "    }\n",
       "\n",
       "    .dataframe tbody tr th {\n",
       "        vertical-align: top;\n",
       "    }\n",
       "\n",
       "    .dataframe thead th {\n",
       "        text-align: right;\n",
       "    }\n",
       "</style>\n",
       "<table border=\"1\" class=\"dataframe\">\n",
       "  <thead>\n",
       "    <tr style=\"text-align: right;\">\n",
       "      <th></th>\n",
       "      <th>rating_12세이상관람가</th>\n",
       "      <th>rating_15세이상관람가</th>\n",
       "      <th>rating_전체관람가</th>\n",
       "      <th>rating_청소년관람불가</th>\n",
       "    </tr>\n",
       "  </thead>\n",
       "  <tbody>\n",
       "    <tr>\n",
       "      <th>0</th>\n",
       "      <td>0</td>\n",
       "      <td>1</td>\n",
       "      <td>0</td>\n",
       "      <td>0</td>\n",
       "    </tr>\n",
       "    <tr>\n",
       "      <th>1</th>\n",
       "      <td>0</td>\n",
       "      <td>1</td>\n",
       "      <td>0</td>\n",
       "      <td>0</td>\n",
       "    </tr>\n",
       "    <tr>\n",
       "      <th>3</th>\n",
       "      <td>0</td>\n",
       "      <td>1</td>\n",
       "      <td>0</td>\n",
       "      <td>0</td>\n",
       "    </tr>\n",
       "    <tr>\n",
       "      <th>4</th>\n",
       "      <td>0</td>\n",
       "      <td>1</td>\n",
       "      <td>0</td>\n",
       "      <td>0</td>\n",
       "    </tr>\n",
       "    <tr>\n",
       "      <th>5</th>\n",
       "      <td>0</td>\n",
       "      <td>1</td>\n",
       "      <td>0</td>\n",
       "      <td>0</td>\n",
       "    </tr>\n",
       "  </tbody>\n",
       "</table>\n",
       "</div>"
      ],
      "text/plain": [
       "   rating_12세이상관람가  rating_15세이상관람가  rating_전체관람가  rating_청소년관람불가\n",
       "0                0                1             0               0\n",
       "1                0                1             0               0\n",
       "3                0                1             0               0\n",
       "4                0                1             0               0\n",
       "5                0                1             0               0"
      ]
     },
     "execution_count": 2242,
     "metadata": {},
     "output_type": "execute_result"
    }
   ],
   "source": [
    "rating_dummies.head()"
   ]
  },
  {
   "cell_type": "code",
   "execution_count": 2243,
   "id": "b563c1f6",
   "metadata": {},
   "outputs": [],
   "source": [
    "# 기존 데이터와 합치기\n",
    "df = df.join(rating_dummies)"
   ]
  },
  {
   "cell_type": "code",
   "execution_count": 2244,
   "id": "4f828793",
   "metadata": {
    "scrolled": true
   },
   "outputs": [
    {
     "data": {
      "text/html": [
       "<div>\n",
       "<style scoped>\n",
       "    .dataframe tbody tr th:only-of-type {\n",
       "        vertical-align: middle;\n",
       "    }\n",
       "\n",
       "    .dataframe tbody tr th {\n",
       "        vertical-align: top;\n",
       "    }\n",
       "\n",
       "    .dataframe thead th {\n",
       "        text-align: right;\n",
       "    }\n",
       "</style>\n",
       "<table border=\"1\" class=\"dataframe\">\n",
       "  <thead>\n",
       "    <tr style=\"text-align: right;\">\n",
       "      <th></th>\n",
       "      <th>movie_ID</th>\n",
       "      <th>title</th>\n",
       "      <th>genre</th>\n",
       "      <th>running_time</th>\n",
       "      <th>netizen_ratings</th>\n",
       "      <th>num_reviews</th>\n",
       "      <th>num_article</th>\n",
       "      <th>country</th>\n",
       "      <th>rating</th>\n",
       "      <th>companyNm</th>\n",
       "      <th>released_year</th>\n",
       "      <th>released_month</th>\n",
       "      <th>num_viewers</th>\n",
       "      <th>viewers_per_months</th>\n",
       "      <th>title_len</th>\n",
       "      <th>rating_12세이상관람가</th>\n",
       "      <th>rating_15세이상관람가</th>\n",
       "      <th>rating_전체관람가</th>\n",
       "      <th>rating_청소년관람불가</th>\n",
       "    </tr>\n",
       "  </thead>\n",
       "  <tbody>\n",
       "    <tr>\n",
       "      <th>0</th>\n",
       "      <td>19820019</td>\n",
       "      <td>만추</td>\n",
       "      <td>멜로/로맨스</td>\n",
       "      <td>113.0</td>\n",
       "      <td>7.31</td>\n",
       "      <td>5175</td>\n",
       "      <td>8692</td>\n",
       "      <td>한국</td>\n",
       "      <td>15세이상관람가</td>\n",
       "      <td>씨제이엔터테인먼트</td>\n",
       "      <td>2011</td>\n",
       "      <td>2</td>\n",
       "      <td>844103</td>\n",
       "      <td>422052.0</td>\n",
       "      <td>2</td>\n",
       "      <td>0</td>\n",
       "      <td>1</td>\n",
       "      <td>0</td>\n",
       "      <td>0</td>\n",
       "    </tr>\n",
       "    <tr>\n",
       "      <th>1</th>\n",
       "      <td>20050082</td>\n",
       "      <td>이터널 선샤인</td>\n",
       "      <td>멜로/로맨스</td>\n",
       "      <td>107.0</td>\n",
       "      <td>9.11</td>\n",
       "      <td>9388</td>\n",
       "      <td>812</td>\n",
       "      <td>미국</td>\n",
       "      <td>15세이상관람가</td>\n",
       "      <td>코리아픽쳐스(주)</td>\n",
       "      <td>2005</td>\n",
       "      <td>11</td>\n",
       "      <td>506609</td>\n",
       "      <td>46055.0</td>\n",
       "      <td>7</td>\n",
       "      <td>0</td>\n",
       "      <td>1</td>\n",
       "      <td>0</td>\n",
       "      <td>0</td>\n",
       "    </tr>\n",
       "    <tr>\n",
       "      <th>3</th>\n",
       "      <td>20061223</td>\n",
       "      <td>소년은 울지 않는다</td>\n",
       "      <td>액션</td>\n",
       "      <td>98.0</td>\n",
       "      <td>5.62</td>\n",
       "      <td>266</td>\n",
       "      <td>352</td>\n",
       "      <td>한국</td>\n",
       "      <td>15세이상관람가</td>\n",
       "      <td>㈜스튜디오이쩜영</td>\n",
       "      <td>2008</td>\n",
       "      <td>11</td>\n",
       "      <td>94993</td>\n",
       "      <td>8636.0</td>\n",
       "      <td>10</td>\n",
       "      <td>0</td>\n",
       "      <td>1</td>\n",
       "      <td>0</td>\n",
       "      <td>0</td>\n",
       "    </tr>\n",
       "    <tr>\n",
       "      <th>4</th>\n",
       "      <td>20068576</td>\n",
       "      <td>그날의 분위기</td>\n",
       "      <td>멜로/로맨스</td>\n",
       "      <td>103.0</td>\n",
       "      <td>6.53</td>\n",
       "      <td>3005</td>\n",
       "      <td>2953</td>\n",
       "      <td>한국</td>\n",
       "      <td>15세이상관람가</td>\n",
       "      <td>(주)쇼박스</td>\n",
       "      <td>2016</td>\n",
       "      <td>1</td>\n",
       "      <td>652453</td>\n",
       "      <td>652453.0</td>\n",
       "      <td>7</td>\n",
       "      <td>0</td>\n",
       "      <td>1</td>\n",
       "      <td>0</td>\n",
       "      <td>0</td>\n",
       "    </tr>\n",
       "    <tr>\n",
       "      <th>5</th>\n",
       "      <td>20068590</td>\n",
       "      <td>인류멸망 보고서</td>\n",
       "      <td>SF</td>\n",
       "      <td>120.0</td>\n",
       "      <td>4.80</td>\n",
       "      <td>3888</td>\n",
       "      <td>1263</td>\n",
       "      <td>한국</td>\n",
       "      <td>15세이상관람가</td>\n",
       "      <td>타임스토리그룹(주)</td>\n",
       "      <td>2012</td>\n",
       "      <td>4</td>\n",
       "      <td>97916</td>\n",
       "      <td>24479.0</td>\n",
       "      <td>8</td>\n",
       "      <td>0</td>\n",
       "      <td>1</td>\n",
       "      <td>0</td>\n",
       "      <td>0</td>\n",
       "    </tr>\n",
       "  </tbody>\n",
       "</table>\n",
       "</div>"
      ],
      "text/plain": [
       "   movie_ID       title   genre  running_time  netizen_ratings  num_reviews  \\\n",
       "0  19820019          만추  멜로/로맨스         113.0             7.31         5175   \n",
       "1  20050082     이터널 선샤인  멜로/로맨스         107.0             9.11         9388   \n",
       "3  20061223  소년은 울지 않는다      액션          98.0             5.62          266   \n",
       "4  20068576     그날의 분위기  멜로/로맨스         103.0             6.53         3005   \n",
       "5  20068590    인류멸망 보고서      SF         120.0             4.80         3888   \n",
       "\n",
       "   num_article country    rating   companyNm  released_year  released_month  \\\n",
       "0         8692      한국  15세이상관람가   씨제이엔터테인먼트           2011               2   \n",
       "1          812      미국  15세이상관람가   코리아픽쳐스(주)           2005              11   \n",
       "3          352      한국  15세이상관람가    ㈜스튜디오이쩜영           2008              11   \n",
       "4         2953      한국  15세이상관람가      (주)쇼박스           2016               1   \n",
       "5         1263      한국  15세이상관람가  타임스토리그룹(주)           2012               4   \n",
       "\n",
       "   num_viewers  viewers_per_months  title_len  rating_12세이상관람가  \\\n",
       "0       844103            422052.0          2                0   \n",
       "1       506609             46055.0          7                0   \n",
       "3        94993              8636.0         10                0   \n",
       "4       652453            652453.0          7                0   \n",
       "5        97916             24479.0          8                0   \n",
       "\n",
       "   rating_15세이상관람가  rating_전체관람가  rating_청소년관람불가  \n",
       "0                1             0               0  \n",
       "1                1             0               0  \n",
       "3                1             0               0  \n",
       "4                1             0               0  \n",
       "5                1             0               0  "
      ]
     },
     "execution_count": 2244,
     "metadata": {},
     "output_type": "execute_result"
    }
   ],
   "source": [
    "df.head()"
   ]
  },
  {
   "cell_type": "code",
   "execution_count": 2245,
   "id": "291810c8",
   "metadata": {},
   "outputs": [
    {
     "data": {
      "text/plain": [
       "movie_ID              0\n",
       "title                 0\n",
       "genre                 0\n",
       "running_time          0\n",
       "netizen_ratings       0\n",
       "num_reviews           0\n",
       "num_article           0\n",
       "country               0\n",
       "rating                0\n",
       "companyNm             0\n",
       "released_year         0\n",
       "released_month        0\n",
       "num_viewers           0\n",
       "viewers_per_months    0\n",
       "title_len             0\n",
       "rating_12세이상관람가       0\n",
       "rating_15세이상관람가       0\n",
       "rating_전체관람가          0\n",
       "rating_청소년관람불가        0\n",
       "dtype: int64"
      ]
     },
     "execution_count": 2245,
     "metadata": {},
     "output_type": "execute_result"
    }
   ],
   "source": [
    "df.isna().sum()"
   ]
  },
  {
   "cell_type": "code",
   "execution_count": 2246,
   "id": "95f813f6",
   "metadata": {},
   "outputs": [
    {
     "name": "stdout",
     "output_type": "stream",
     "text": [
      "<class 'pandas.core.frame.DataFrame'>\n",
      "Int64Index: 1400 entries, 0 to 1410\n",
      "Data columns (total 19 columns):\n",
      " #   Column              Non-Null Count  Dtype  \n",
      "---  ------              --------------  -----  \n",
      " 0   movie_ID            1400 non-null   int64  \n",
      " 1   title               1400 non-null   object \n",
      " 2   genre               1400 non-null   object \n",
      " 3   running_time        1400 non-null   float64\n",
      " 4   netizen_ratings     1400 non-null   float64\n",
      " 5   num_reviews         1400 non-null   int64  \n",
      " 6   num_article         1400 non-null   int64  \n",
      " 7   country             1400 non-null   object \n",
      " 8   rating              1400 non-null   object \n",
      " 9   companyNm           1400 non-null   object \n",
      " 10  released_year       1400 non-null   int64  \n",
      " 11  released_month      1400 non-null   int64  \n",
      " 12  num_viewers         1400 non-null   int64  \n",
      " 13  viewers_per_months  1400 non-null   float64\n",
      " 14  title_len           1400 non-null   int64  \n",
      " 15  rating_12세이상관람가     1400 non-null   uint8  \n",
      " 16  rating_15세이상관람가     1400 non-null   uint8  \n",
      " 17  rating_전체관람가        1400 non-null   uint8  \n",
      " 18  rating_청소년관람불가      1400 non-null   uint8  \n",
      "dtypes: float64(3), int64(7), object(5), uint8(4)\n",
      "memory usage: 212.8+ KB\n"
     ]
    }
   ],
   "source": [
    "df.info()"
   ]
  },
  {
   "cell_type": "code",
   "execution_count": 2247,
   "id": "9b3dcec6",
   "metadata": {},
   "outputs": [
    {
     "data": {
      "text/plain": [
       "(1400, 19)"
      ]
     },
     "execution_count": 2247,
     "metadata": {},
     "output_type": "execute_result"
    }
   ],
   "source": [
    "df.shape"
   ]
  },
  {
   "cell_type": "code",
   "execution_count": 2248,
   "id": "d746d886",
   "metadata": {
    "scrolled": false
   },
   "outputs": [],
   "source": [
    "df1 = df.corr(method='pearson')"
   ]
  },
  {
   "cell_type": "code",
   "execution_count": 2249,
   "id": "db72cfe9",
   "metadata": {
    "scrolled": true
   },
   "outputs": [
    {
     "data": {
      "text/html": [
       "<div>\n",
       "<style scoped>\n",
       "    .dataframe tbody tr th:only-of-type {\n",
       "        vertical-align: middle;\n",
       "    }\n",
       "\n",
       "    .dataframe tbody tr th {\n",
       "        vertical-align: top;\n",
       "    }\n",
       "\n",
       "    .dataframe thead th {\n",
       "        text-align: right;\n",
       "    }\n",
       "</style>\n",
       "<table border=\"1\" class=\"dataframe\">\n",
       "  <thead>\n",
       "    <tr style=\"text-align: right;\">\n",
       "      <th></th>\n",
       "      <th>movie_ID</th>\n",
       "      <th>running_time</th>\n",
       "      <th>netizen_ratings</th>\n",
       "      <th>num_reviews</th>\n",
       "      <th>num_article</th>\n",
       "      <th>released_year</th>\n",
       "      <th>released_month</th>\n",
       "      <th>num_viewers</th>\n",
       "      <th>viewers_per_months</th>\n",
       "      <th>title_len</th>\n",
       "      <th>rating_12세이상관람가</th>\n",
       "      <th>rating_15세이상관람가</th>\n",
       "      <th>rating_전체관람가</th>\n",
       "      <th>rating_청소년관람불가</th>\n",
       "    </tr>\n",
       "  </thead>\n",
       "  <tbody>\n",
       "    <tr>\n",
       "      <th>running_time</th>\n",
       "      <td>0.041548</td>\n",
       "      <td>1.000000</td>\n",
       "      <td>0.168827</td>\n",
       "      <td>0.322259</td>\n",
       "      <td>0.244931</td>\n",
       "      <td>0.059381</td>\n",
       "      <td>-0.059783</td>\n",
       "      <td>0.313713</td>\n",
       "      <td>0.169641</td>\n",
       "      <td>-0.066034</td>\n",
       "      <td>0.184367</td>\n",
       "      <td>0.050964</td>\n",
       "      <td>-0.343692</td>\n",
       "      <td>0.059739</td>\n",
       "    </tr>\n",
       "    <tr>\n",
       "      <th>num_reviews</th>\n",
       "      <td>0.092717</td>\n",
       "      <td>0.322259</td>\n",
       "      <td>0.188733</td>\n",
       "      <td>1.000000</td>\n",
       "      <td>0.616809</td>\n",
       "      <td>0.139845</td>\n",
       "      <td>0.056515</td>\n",
       "      <td>0.842505</td>\n",
       "      <td>0.489601</td>\n",
       "      <td>-0.130622</td>\n",
       "      <td>0.122700</td>\n",
       "      <td>0.051389</td>\n",
       "      <td>-0.134650</td>\n",
       "      <td>-0.071658</td>\n",
       "    </tr>\n",
       "    <tr>\n",
       "      <th>num_article</th>\n",
       "      <td>0.069819</td>\n",
       "      <td>0.244931</td>\n",
       "      <td>0.043071</td>\n",
       "      <td>0.616809</td>\n",
       "      <td>1.000000</td>\n",
       "      <td>0.157518</td>\n",
       "      <td>0.053183</td>\n",
       "      <td>0.601084</td>\n",
       "      <td>0.306817</td>\n",
       "      <td>-0.254182</td>\n",
       "      <td>0.023870</td>\n",
       "      <td>0.078073</td>\n",
       "      <td>-0.194887</td>\n",
       "      <td>0.062884</td>\n",
       "    </tr>\n",
       "    <tr>\n",
       "      <th>num_viewers</th>\n",
       "      <td>0.030946</td>\n",
       "      <td>0.313713</td>\n",
       "      <td>0.212586</td>\n",
       "      <td>0.842505</td>\n",
       "      <td>0.601084</td>\n",
       "      <td>0.067321</td>\n",
       "      <td>0.044378</td>\n",
       "      <td>1.000000</td>\n",
       "      <td>0.616365</td>\n",
       "      <td>-0.070671</td>\n",
       "      <td>0.118395</td>\n",
       "      <td>0.035130</td>\n",
       "      <td>-0.075483</td>\n",
       "      <td>-0.103231</td>\n",
       "    </tr>\n",
       "    <tr>\n",
       "      <th>viewers_per_months</th>\n",
       "      <td>-0.002514</td>\n",
       "      <td>0.169641</td>\n",
       "      <td>0.156487</td>\n",
       "      <td>0.489601</td>\n",
       "      <td>0.306817</td>\n",
       "      <td>0.049394</td>\n",
       "      <td>-0.274188</td>\n",
       "      <td>0.616365</td>\n",
       "      <td>1.000000</td>\n",
       "      <td>-0.047146</td>\n",
       "      <td>0.017878</td>\n",
       "      <td>0.037763</td>\n",
       "      <td>0.002200</td>\n",
       "      <td>-0.068713</td>\n",
       "    </tr>\n",
       "  </tbody>\n",
       "</table>\n",
       "</div>"
      ],
      "text/plain": [
       "                    movie_ID  running_time  netizen_ratings  num_reviews  \\\n",
       "running_time        0.041548      1.000000         0.168827     0.322259   \n",
       "num_reviews         0.092717      0.322259         0.188733     1.000000   \n",
       "num_article         0.069819      0.244931         0.043071     0.616809   \n",
       "num_viewers         0.030946      0.313713         0.212586     0.842505   \n",
       "viewers_per_months -0.002514      0.169641         0.156487     0.489601   \n",
       "\n",
       "                    num_article  released_year  released_month  num_viewers  \\\n",
       "running_time           0.244931       0.059381       -0.059783     0.313713   \n",
       "num_reviews            0.616809       0.139845        0.056515     0.842505   \n",
       "num_article            1.000000       0.157518        0.053183     0.601084   \n",
       "num_viewers            0.601084       0.067321        0.044378     1.000000   \n",
       "viewers_per_months     0.306817       0.049394       -0.274188     0.616365   \n",
       "\n",
       "                    viewers_per_months  title_len  rating_12세이상관람가  \\\n",
       "running_time                  0.169641  -0.066034         0.184367   \n",
       "num_reviews                   0.489601  -0.130622         0.122700   \n",
       "num_article                   0.306817  -0.254182         0.023870   \n",
       "num_viewers                   0.616365  -0.070671         0.118395   \n",
       "viewers_per_months            1.000000  -0.047146         0.017878   \n",
       "\n",
       "                    rating_15세이상관람가  rating_전체관람가  rating_청소년관람불가  \n",
       "running_time               0.050964     -0.343692        0.059739  \n",
       "num_reviews                0.051389     -0.134650       -0.071658  \n",
       "num_article                0.078073     -0.194887        0.062884  \n",
       "num_viewers                0.035130     -0.075483       -0.103231  \n",
       "viewers_per_months         0.037763      0.002200       -0.068713  "
      ]
     },
     "execution_count": 2249,
     "metadata": {},
     "output_type": "execute_result"
    }
   ],
   "source": [
    "df1[df1['num_viewers'] > 0.3]"
   ]
  },
  {
   "cell_type": "code",
   "execution_count": 2250,
   "id": "11914576",
   "metadata": {},
   "outputs": [],
   "source": [
    "y_labels = df[\"num_viewers\"].copy() # 종속변수 y_label 생성\n",
    "X = df.drop(\"num_viewers\", axis=1) # training set에서 종속변수 제거\n",
    "X = X.drop([\"title\", \"genre\", \"country\", \"companyNm\"], axis=1)# 사용하지 않는 범주형 변수 제거\n",
    "X = X.drop([\"movie_ID\", 'netizen_ratings',\"released_year\", \"title_len\"], axis=1)# 상관계수 0.3 미만인 연속형 변수 제거\n",
    "X = X.drop([\"rating_전체관람가\", \"rating\"], axis=1) #더미화시킨 rating 제거, 전체관람가를 기준으로 잡기 위해 제거"
   ]
  },
  {
   "cell_type": "code",
   "execution_count": 2251,
   "id": "a8d95589",
   "metadata": {},
   "outputs": [
    {
     "data": {
      "text/html": [
       "<div>\n",
       "<style scoped>\n",
       "    .dataframe tbody tr th:only-of-type {\n",
       "        vertical-align: middle;\n",
       "    }\n",
       "\n",
       "    .dataframe tbody tr th {\n",
       "        vertical-align: top;\n",
       "    }\n",
       "\n",
       "    .dataframe thead th {\n",
       "        text-align: right;\n",
       "    }\n",
       "</style>\n",
       "<table border=\"1\" class=\"dataframe\">\n",
       "  <thead>\n",
       "    <tr style=\"text-align: right;\">\n",
       "      <th></th>\n",
       "      <th>running_time</th>\n",
       "      <th>num_reviews</th>\n",
       "      <th>num_article</th>\n",
       "      <th>released_month</th>\n",
       "      <th>viewers_per_months</th>\n",
       "      <th>rating_12세이상관람가</th>\n",
       "      <th>rating_15세이상관람가</th>\n",
       "      <th>rating_청소년관람불가</th>\n",
       "    </tr>\n",
       "  </thead>\n",
       "  <tbody>\n",
       "    <tr>\n",
       "      <th>0</th>\n",
       "      <td>113.0</td>\n",
       "      <td>5175</td>\n",
       "      <td>8692</td>\n",
       "      <td>2</td>\n",
       "      <td>422052.0</td>\n",
       "      <td>0</td>\n",
       "      <td>1</td>\n",
       "      <td>0</td>\n",
       "    </tr>\n",
       "    <tr>\n",
       "      <th>1</th>\n",
       "      <td>107.0</td>\n",
       "      <td>9388</td>\n",
       "      <td>812</td>\n",
       "      <td>11</td>\n",
       "      <td>46055.0</td>\n",
       "      <td>0</td>\n",
       "      <td>1</td>\n",
       "      <td>0</td>\n",
       "    </tr>\n",
       "    <tr>\n",
       "      <th>3</th>\n",
       "      <td>98.0</td>\n",
       "      <td>266</td>\n",
       "      <td>352</td>\n",
       "      <td>11</td>\n",
       "      <td>8636.0</td>\n",
       "      <td>0</td>\n",
       "      <td>1</td>\n",
       "      <td>0</td>\n",
       "    </tr>\n",
       "    <tr>\n",
       "      <th>4</th>\n",
       "      <td>103.0</td>\n",
       "      <td>3005</td>\n",
       "      <td>2953</td>\n",
       "      <td>1</td>\n",
       "      <td>652453.0</td>\n",
       "      <td>0</td>\n",
       "      <td>1</td>\n",
       "      <td>0</td>\n",
       "    </tr>\n",
       "    <tr>\n",
       "      <th>5</th>\n",
       "      <td>120.0</td>\n",
       "      <td>3888</td>\n",
       "      <td>1263</td>\n",
       "      <td>4</td>\n",
       "      <td>24479.0</td>\n",
       "      <td>0</td>\n",
       "      <td>1</td>\n",
       "      <td>0</td>\n",
       "    </tr>\n",
       "  </tbody>\n",
       "</table>\n",
       "</div>"
      ],
      "text/plain": [
       "   running_time  num_reviews  num_article  released_month  viewers_per_months  \\\n",
       "0         113.0         5175         8692               2            422052.0   \n",
       "1         107.0         9388          812              11             46055.0   \n",
       "3          98.0          266          352              11              8636.0   \n",
       "4         103.0         3005         2953               1            652453.0   \n",
       "5         120.0         3888         1263               4             24479.0   \n",
       "\n",
       "   rating_12세이상관람가  rating_15세이상관람가  rating_청소년관람불가  \n",
       "0                0                1               0  \n",
       "1                0                1               0  \n",
       "3                0                1               0  \n",
       "4                0                1               0  \n",
       "5                0                1               0  "
      ]
     },
     "execution_count": 2251,
     "metadata": {},
     "output_type": "execute_result"
    }
   ],
   "source": [
    "X.head()"
   ]
  },
  {
   "cell_type": "code",
   "execution_count": 2252,
   "id": "c4419d2e",
   "metadata": {},
   "outputs": [
    {
     "data": {
      "text/plain": [
       "(1400,)"
      ]
     },
     "execution_count": 2252,
     "metadata": {},
     "output_type": "execute_result"
    }
   ],
   "source": [
    "y_labels.shape"
   ]
  },
  {
   "cell_type": "code",
   "execution_count": 2253,
   "id": "2acd4edb",
   "metadata": {},
   "outputs": [
    {
     "data": {
      "text/plain": [
       "(1400, 8)"
      ]
     },
     "execution_count": 2253,
     "metadata": {},
     "output_type": "execute_result"
    }
   ],
   "source": [
    "X.shape"
   ]
  },
  {
   "cell_type": "markdown",
   "id": "21fbbd75",
   "metadata": {},
   "source": [
    "### train, test data 분류"
   ]
  },
  {
   "cell_type": "code",
   "execution_count": 2254,
   "id": "6a2d4dd2",
   "metadata": {},
   "outputs": [],
   "source": [
    "from sklearn.model_selection import train_test_split\n",
    "X_train, X_test, y_train, y_test = train_test_split(X, y_labels, test_size=0.2, random_state=42)"
   ]
  },
  {
   "cell_type": "code",
   "execution_count": 2255,
   "id": "488e45ae",
   "metadata": {},
   "outputs": [
    {
     "data": {
      "text/plain": [
       "(280, 8)"
      ]
     },
     "execution_count": 2255,
     "metadata": {},
     "output_type": "execute_result"
    }
   ],
   "source": [
    "X_test.shape"
   ]
  },
  {
   "cell_type": "markdown",
   "id": "6e49b036",
   "metadata": {},
   "source": [
    "### 정규화\n"
   ]
  },
  {
   "cell_type": "markdown",
   "id": "24bb9f59",
   "metadata": {},
   "source": [
    "#### standard Scaler 활용"
   ]
  },
  {
   "cell_type": "code",
   "execution_count": 2256,
   "id": "29cc2a6d",
   "metadata": {},
   "outputs": [],
   "source": [
    "from sklearn.preprocessing import StandardScaler\n",
    "scaler = StandardScaler()"
   ]
  },
  {
   "cell_type": "code",
   "execution_count": 2257,
   "id": "39080145",
   "metadata": {},
   "outputs": [],
   "source": [
    "X_train_std = scaler.fit_transform(X_train)\n",
    "X_test_std = scaler.transform(X_test)"
   ]
  },
  {
   "cell_type": "markdown",
   "id": "4867299d",
   "metadata": {},
   "source": [
    "#### Min-max scaler 활용"
   ]
  },
  {
   "cell_type": "code",
   "execution_count": 2258,
   "id": "b000bc1c",
   "metadata": {},
   "outputs": [],
   "source": [
    "from sklearn.preprocessing import MinMaxScaler\n",
    "scaler_minmax = MinMaxScaler()"
   ]
  },
  {
   "cell_type": "code",
   "execution_count": 2259,
   "id": "bfb56f44",
   "metadata": {},
   "outputs": [],
   "source": [
    "X_train_minmax = scaler_minmax.fit_transform(X_train)\n",
    "X_test_minmax = scaler_minmax.transform(X_test)"
   ]
  },
  {
   "cell_type": "markdown",
   "id": "471c51c1",
   "metadata": {},
   "source": [
    "### 회귀 모델 활용(정규화, 비정규화간 정확도 비교)"
   ]
  },
  {
   "cell_type": "code",
   "execution_count": 2260,
   "id": "7d802689",
   "metadata": {},
   "outputs": [
    {
     "name": "stdout",
     "output_type": "stream",
     "text": [
      "비정규화 : 0.8505673217161674\n",
      "========================================\n",
      "standard : 0.8505673217161879\n",
      "========================================\n",
      "min-max : 0.8505673217161878\n",
      "========================================\n"
     ]
    }
   ],
   "source": [
    "from sklearn.linear_model import LinearRegression\n",
    "# 비정규화\n",
    "model = LinearRegression()\n",
    "model.fit(X_train, y_train)\n",
    "print(f'비정규화 : {model.score(X_test, y_test)}')\n",
    "print('=' * 40)\n",
    "\n",
    "\n",
    "# 정규화(standard scaler)\n",
    "model_std = LinearRegression()\n",
    "model_std.fit(X_train_std, y_train)\n",
    "print(f'standard : {model_std.score(X_test_std, y_test)}')\n",
    "print('=' * 40)\n",
    "\n",
    "\n",
    "# 정규화(min-max)\n",
    "model_minmax = LinearRegression()\n",
    "model_minmax.fit(X_train_minmax, y_train)\n",
    "print(f'min-max : {model_minmax.score(X_test_minmax, y_test)}')\n",
    "print('=' * 40)\n",
    "\n"
   ]
  },
  {
   "cell_type": "code",
   "execution_count": 2278,
   "id": "b5bb3857",
   "metadata": {
    "scrolled": true
   },
   "outputs": [
    {
     "name": "stdout",
     "output_type": "stream",
     "text": [
      "Linear Regression : 85.0567%\n",
      "========================================\n",
      "Lasso : 85.0567 %\n",
      "========================================\n",
      "Ridge : 85.0555 %\n",
      "========================================\n",
      "XGB Regressor : 93.2090 %\n",
      "========================================\n",
      "LGBM Regressor : 91.9846 %\n",
      "========================================\n"
     ]
    }
   ],
   "source": [
    "# Linear regression\n",
    "from sklearn.linear_model import LinearRegression\n",
    "model = LinearRegression()\n",
    "model.fit(X_train, y_train)\n",
    "print(f'Linear Regression : {model.score(X_test, y_test) * 100 :0.4f}%')\n",
    "print('=' * 40)\n",
    "\n",
    "# lasso\n",
    "from sklearn.linear_model import Lasso\n",
    "model_lasso = Lasso(alpha=0.5)\n",
    "model_lasso.fit(X_train, y_train)\n",
    "print(f'Lasso : {model_lasso.score(X_test, y_test) * 100 :0.4f} %')\n",
    "print('=' * 40)\n",
    "\n",
    "# ridge\n",
    "from sklearn.linear_model import Ridge\n",
    "model_ridge = Ridge(alpha=0.5)\n",
    "model_ridge.fit(X_train, y_train)\n",
    "print(f'Ridge : {model_ridge.score(X_test, y_test) * 100:0.4f} %')\n",
    "print('=' * 40)\n",
    "\n",
    "import xgboost as xgb\n",
    "model_xgb = xgb.XGBRegressor()\n",
    "model_xgb.fit(X_train, y_train)\n",
    "print(f'XGB Regressor : {model_xgb.score(X_test, y_test) * 100:0.4f} %')\n",
    "print('=' * 40)\n",
    "\n",
    "import lightgbm as lgb\n",
    "model_lgb = lgb.LGBMRegressor()\n",
    "model_lgb.fit(X_train, y_train)\n",
    "print(f'LGBM Regressor : {model_lgb.score(X_test,y_test) * 100:0.4f} %')\n",
    "print('=' * 40)"
   ]
  },
  {
   "cell_type": "code",
   "execution_count": 2273,
   "id": "fada84f2",
   "metadata": {},
   "outputs": [
    {
     "data": {
      "text/plain": [
       "0.9198458422309027"
      ]
     },
     "execution_count": 2273,
     "metadata": {},
     "output_type": "execute_result"
    }
   ],
   "source": [
    "import lightgbm as lgb\n",
    "model_lgb = lgb.LGBMRegressor()\n",
    "model_lgb.fit(X_train, y_train)\n",
    "model_lgb.score(X_test,y_test)"
   ]
  },
  {
   "cell_type": "code",
   "execution_count": 2268,
   "id": "3af3363e",
   "metadata": {
    "scrolled": false
   },
   "outputs": [
    {
     "data": {
      "text/plain": [
       "array([ 6.06723274e+03,  1.49199382e+02,  1.20350495e+02,  4.66322972e+04,\n",
       "        7.50797354e-01, -1.37342744e+05, -2.33076496e+05, -3.76042640e+05])"
      ]
     },
     "execution_count": 2268,
     "metadata": {},
     "output_type": "execute_result"
    }
   ],
   "source": [
    "model.coef_"
   ]
  },
  {
   "cell_type": "code",
   "execution_count": null,
   "id": "056a5f42",
   "metadata": {},
   "outputs": [],
   "source": []
  }
 ],
 "metadata": {
  "kernelspec": {
   "display_name": "Python 3 (ipykernel)",
   "language": "python",
   "name": "python3"
  },
  "language_info": {
   "codemirror_mode": {
    "name": "ipython",
    "version": 3
   },
   "file_extension": ".py",
   "mimetype": "text/x-python",
   "name": "python",
   "nbconvert_exporter": "python",
   "pygments_lexer": "ipython3",
   "version": "3.9.7"
  }
 },
 "nbformat": 4,
 "nbformat_minor": 5
}
