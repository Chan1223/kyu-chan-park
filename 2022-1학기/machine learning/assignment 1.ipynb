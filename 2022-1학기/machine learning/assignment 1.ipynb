{
 "cells": [
  {
   "cell_type": "markdown",
   "id": "83db2074",
   "metadata": {},
   "source": [
    "dummy 변수 취하기\n",
    "pd.get_dummies()2\n",
    "korea를 더미변수로 쓸 경우, korea를 빼고 만들면 됨\n",
    "-> "
   ]
  },
  {
   "cell_type": "code",
   "execution_count": 1,
   "id": "ea9d00dd",
   "metadata": {},
   "outputs": [],
   "source": [
    "# 기본 모듈 호출\n",
    "import pandas as pd\n",
    "import numpy as np"
   ]
  },
  {
   "cell_type": "code",
   "execution_count": 65,
   "id": "2c11b448",
   "metadata": {},
   "outputs": [],
   "source": [
    "# 데이터 불러오기\n",
    "df = pd.read_excel('dataset_hw1.xlsx')"
   ]
  },
  {
   "cell_type": "markdown",
   "id": "c6b95890",
   "metadata": {},
   "source": [
    "rating이 non-linear할 경우, 제곱으로 가질 경우 유의미한 변수가 나올 수 있을까?\n"
   ]
  },
  {
   "cell_type": "code",
   "execution_count": 66,
   "id": "0d492693",
   "metadata": {},
   "outputs": [
    {
     "data": {
      "text/plain": [
       "(1411, 13)"
      ]
     },
     "execution_count": 66,
     "metadata": {},
     "output_type": "execute_result"
    }
   ],
   "source": [
    "# data 수 확인\n",
    "df.shape"
   ]
  },
  {
   "cell_type": "code",
   "execution_count": 67,
   "id": "980263e4",
   "metadata": {
    "scrolled": true
   },
   "outputs": [
    {
     "data": {
      "text/html": [
       "<div>\n",
       "<style scoped>\n",
       "    .dataframe tbody tr th:only-of-type {\n",
       "        vertical-align: middle;\n",
       "    }\n",
       "\n",
       "    .dataframe tbody tr th {\n",
       "        vertical-align: top;\n",
       "    }\n",
       "\n",
       "    .dataframe thead th {\n",
       "        text-align: right;\n",
       "    }\n",
       "</style>\n",
       "<table border=\"1\" class=\"dataframe\">\n",
       "  <thead>\n",
       "    <tr style=\"text-align: right;\">\n",
       "      <th></th>\n",
       "      <th>movie_ID</th>\n",
       "      <th>title</th>\n",
       "      <th>genre</th>\n",
       "      <th>running_time</th>\n",
       "      <th>netizen_ratings</th>\n",
       "      <th>num_reviews</th>\n",
       "      <th>num_article</th>\n",
       "      <th>country</th>\n",
       "      <th>rating</th>\n",
       "      <th>companyNm</th>\n",
       "      <th>released_year</th>\n",
       "      <th>released_month</th>\n",
       "      <th>num_viewers</th>\n",
       "    </tr>\n",
       "  </thead>\n",
       "  <tbody>\n",
       "    <tr>\n",
       "      <th>0</th>\n",
       "      <td>19820019</td>\n",
       "      <td>만추</td>\n",
       "      <td>멜로/로맨스</td>\n",
       "      <td>113.0</td>\n",
       "      <td>7.31</td>\n",
       "      <td>5175</td>\n",
       "      <td>8692</td>\n",
       "      <td>한국</td>\n",
       "      <td>15세이상관람가</td>\n",
       "      <td>씨제이엔터테인먼트</td>\n",
       "      <td>2011</td>\n",
       "      <td>2</td>\n",
       "      <td>844103</td>\n",
       "    </tr>\n",
       "    <tr>\n",
       "      <th>1</th>\n",
       "      <td>20050082</td>\n",
       "      <td>이터널 선샤인</td>\n",
       "      <td>멜로/로맨스</td>\n",
       "      <td>107.0</td>\n",
       "      <td>9.11</td>\n",
       "      <td>9388</td>\n",
       "      <td>812</td>\n",
       "      <td>미국</td>\n",
       "      <td>15세이상관람가</td>\n",
       "      <td>코리아픽쳐스(주)</td>\n",
       "      <td>2005</td>\n",
       "      <td>11</td>\n",
       "      <td>506609</td>\n",
       "    </tr>\n",
       "    <tr>\n",
       "      <th>2</th>\n",
       "      <td>20061214</td>\n",
       "      <td>작은 연못</td>\n",
       "      <td>드라마</td>\n",
       "      <td>86.0</td>\n",
       "      <td>6.51</td>\n",
       "      <td>873</td>\n",
       "      <td>393</td>\n",
       "      <td>한국</td>\n",
       "      <td>15세이상관람가</td>\n",
       "      <td>NaN</td>\n",
       "      <td>2010</td>\n",
       "      <td>4</td>\n",
       "      <td>47160</td>\n",
       "    </tr>\n",
       "    <tr>\n",
       "      <th>3</th>\n",
       "      <td>20061223</td>\n",
       "      <td>소년은 울지 않는다</td>\n",
       "      <td>액션</td>\n",
       "      <td>98.0</td>\n",
       "      <td>5.62</td>\n",
       "      <td>266</td>\n",
       "      <td>352</td>\n",
       "      <td>한국</td>\n",
       "      <td>15세이상관람가</td>\n",
       "      <td>㈜스튜디오이쩜영</td>\n",
       "      <td>2008</td>\n",
       "      <td>11</td>\n",
       "      <td>94993</td>\n",
       "    </tr>\n",
       "    <tr>\n",
       "      <th>4</th>\n",
       "      <td>20068576</td>\n",
       "      <td>그날의 분위기</td>\n",
       "      <td>멜로/로맨스</td>\n",
       "      <td>103.0</td>\n",
       "      <td>6.53</td>\n",
       "      <td>3005</td>\n",
       "      <td>2953</td>\n",
       "      <td>한국</td>\n",
       "      <td>15세이상관람가</td>\n",
       "      <td>(주)쇼박스</td>\n",
       "      <td>2016</td>\n",
       "      <td>1</td>\n",
       "      <td>652453</td>\n",
       "    </tr>\n",
       "  </tbody>\n",
       "</table>\n",
       "</div>"
      ],
      "text/plain": [
       "   movie_ID       title   genre  running_time  netizen_ratings  num_reviews  \\\n",
       "0  19820019          만추  멜로/로맨스         113.0             7.31         5175   \n",
       "1  20050082     이터널 선샤인  멜로/로맨스         107.0             9.11         9388   \n",
       "2  20061214       작은 연못     드라마          86.0             6.51          873   \n",
       "3  20061223  소년은 울지 않는다      액션          98.0             5.62          266   \n",
       "4  20068576     그날의 분위기  멜로/로맨스         103.0             6.53         3005   \n",
       "\n",
       "   num_article country    rating  companyNm  released_year  released_month  \\\n",
       "0         8692      한국  15세이상관람가  씨제이엔터테인먼트           2011               2   \n",
       "1          812      미국  15세이상관람가  코리아픽쳐스(주)           2005              11   \n",
       "2          393      한국  15세이상관람가        NaN           2010               4   \n",
       "3          352      한국  15세이상관람가   ㈜스튜디오이쩜영           2008              11   \n",
       "4         2953      한국  15세이상관람가     (주)쇼박스           2016               1   \n",
       "\n",
       "   num_viewers  \n",
       "0       844103  \n",
       "1       506609  \n",
       "2        47160  \n",
       "3        94993  \n",
       "4       652453  "
      ]
     },
     "execution_count": 67,
     "metadata": {},
     "output_type": "execute_result"
    }
   ],
   "source": [
    "# 데이터 확인 \n",
    "df.head()"
   ]
  },
  {
   "cell_type": "code",
   "execution_count": 68,
   "id": "c91365ca",
   "metadata": {},
   "outputs": [
    {
     "name": "stdout",
     "output_type": "stream",
     "text": [
      "<class 'pandas.core.frame.DataFrame'>\n",
      "RangeIndex: 1411 entries, 0 to 1410\n",
      "Data columns (total 13 columns):\n",
      " #   Column           Non-Null Count  Dtype  \n",
      "---  ------           --------------  -----  \n",
      " 0   movie_ID         1411 non-null   int64  \n",
      " 1   title            1411 non-null   object \n",
      " 2   genre            1408 non-null   object \n",
      " 3   running_time     1409 non-null   float64\n",
      " 4   netizen_ratings  1411 non-null   float64\n",
      " 5   num_reviews      1411 non-null   int64  \n",
      " 6   num_article      1411 non-null   int64  \n",
      " 7   country          1409 non-null   object \n",
      " 8   rating           1410 non-null   object \n",
      " 9   companyNm        1406 non-null   object \n",
      " 10  released_year    1411 non-null   int64  \n",
      " 11  released_month   1411 non-null   int64  \n",
      " 12  num_viewers      1411 non-null   int64  \n",
      "dtypes: float64(2), int64(6), object(5)\n",
      "memory usage: 143.4+ KB\n"
     ]
    }
   ],
   "source": [
    "df.info()"
   ]
  },
  {
   "cell_type": "code",
   "execution_count": 69,
   "id": "1b6ef4bc",
   "metadata": {},
   "outputs": [
    {
     "data": {
      "text/html": [
       "<div>\n",
       "<style scoped>\n",
       "    .dataframe tbody tr th:only-of-type {\n",
       "        vertical-align: middle;\n",
       "    }\n",
       "\n",
       "    .dataframe tbody tr th {\n",
       "        vertical-align: top;\n",
       "    }\n",
       "\n",
       "    .dataframe thead th {\n",
       "        text-align: right;\n",
       "    }\n",
       "</style>\n",
       "<table border=\"1\" class=\"dataframe\">\n",
       "  <thead>\n",
       "    <tr style=\"text-align: right;\">\n",
       "      <th></th>\n",
       "      <th>movie_ID</th>\n",
       "      <th>running_time</th>\n",
       "      <th>netizen_ratings</th>\n",
       "      <th>num_reviews</th>\n",
       "      <th>num_article</th>\n",
       "      <th>released_year</th>\n",
       "      <th>released_month</th>\n",
       "      <th>num_viewers</th>\n",
       "    </tr>\n",
       "  </thead>\n",
       "  <tbody>\n",
       "    <tr>\n",
       "      <th>count</th>\n",
       "      <td>1.411000e+03</td>\n",
       "      <td>1409.000000</td>\n",
       "      <td>1411.000000</td>\n",
       "      <td>1411.000000</td>\n",
       "      <td>1411.000000</td>\n",
       "      <td>1411.000000</td>\n",
       "      <td>1411.000000</td>\n",
       "      <td>1.411000e+03</td>\n",
       "    </tr>\n",
       "    <tr>\n",
       "      <th>mean</th>\n",
       "      <td>2.012593e+07</td>\n",
       "      <td>110.545067</td>\n",
       "      <td>7.618731</td>\n",
       "      <td>4582.657690</td>\n",
       "      <td>1031.433026</td>\n",
       "      <td>2012.635719</td>\n",
       "      <td>6.406804</td>\n",
       "      <td>1.074520e+06</td>\n",
       "    </tr>\n",
       "    <tr>\n",
       "      <th>std</th>\n",
       "      <td>3.060055e+04</td>\n",
       "      <td>18.083797</td>\n",
       "      <td>1.111924</td>\n",
       "      <td>7316.325767</td>\n",
       "      <td>1866.725542</td>\n",
       "      <td>2.899102</td>\n",
       "      <td>3.465790</td>\n",
       "      <td>1.841526e+06</td>\n",
       "    </tr>\n",
       "    <tr>\n",
       "      <th>min</th>\n",
       "      <td>1.982002e+07</td>\n",
       "      <td>0.000000</td>\n",
       "      <td>2.530000</td>\n",
       "      <td>49.000000</td>\n",
       "      <td>0.000000</td>\n",
       "      <td>2005.000000</td>\n",
       "      <td>1.000000</td>\n",
       "      <td>2.260000e+04</td>\n",
       "    </tr>\n",
       "    <tr>\n",
       "      <th>25%</th>\n",
       "      <td>2.010038e+07</td>\n",
       "      <td>98.000000</td>\n",
       "      <td>7.010000</td>\n",
       "      <td>943.500000</td>\n",
       "      <td>38.000000</td>\n",
       "      <td>2010.000000</td>\n",
       "      <td>3.000000</td>\n",
       "      <td>1.079420e+05</td>\n",
       "    </tr>\n",
       "    <tr>\n",
       "      <th>50%</th>\n",
       "      <td>2.012641e+07</td>\n",
       "      <td>110.000000</td>\n",
       "      <td>7.800000</td>\n",
       "      <td>2175.000000</td>\n",
       "      <td>194.000000</td>\n",
       "      <td>2013.000000</td>\n",
       "      <td>7.000000</td>\n",
       "      <td>3.558510e+05</td>\n",
       "    </tr>\n",
       "    <tr>\n",
       "      <th>75%</th>\n",
       "      <td>2.015077e+07</td>\n",
       "      <td>121.000000</td>\n",
       "      <td>8.420000</td>\n",
       "      <td>5048.000000</td>\n",
       "      <td>1279.500000</td>\n",
       "      <td>2015.000000</td>\n",
       "      <td>9.000000</td>\n",
       "      <td>1.179833e+06</td>\n",
       "    </tr>\n",
       "    <tr>\n",
       "      <th>max</th>\n",
       "      <td>2.018766e+07</td>\n",
       "      <td>235.000000</td>\n",
       "      <td>9.380000</td>\n",
       "      <td>95111.000000</td>\n",
       "      <td>19996.000000</td>\n",
       "      <td>2018.000000</td>\n",
       "      <td>12.000000</td>\n",
       "      <td>1.761368e+07</td>\n",
       "    </tr>\n",
       "  </tbody>\n",
       "</table>\n",
       "</div>"
      ],
      "text/plain": [
       "           movie_ID  running_time  netizen_ratings   num_reviews  \\\n",
       "count  1.411000e+03   1409.000000      1411.000000   1411.000000   \n",
       "mean   2.012593e+07    110.545067         7.618731   4582.657690   \n",
       "std    3.060055e+04     18.083797         1.111924   7316.325767   \n",
       "min    1.982002e+07      0.000000         2.530000     49.000000   \n",
       "25%    2.010038e+07     98.000000         7.010000    943.500000   \n",
       "50%    2.012641e+07    110.000000         7.800000   2175.000000   \n",
       "75%    2.015077e+07    121.000000         8.420000   5048.000000   \n",
       "max    2.018766e+07    235.000000         9.380000  95111.000000   \n",
       "\n",
       "        num_article  released_year  released_month   num_viewers  \n",
       "count   1411.000000    1411.000000     1411.000000  1.411000e+03  \n",
       "mean    1031.433026    2012.635719        6.406804  1.074520e+06  \n",
       "std     1866.725542       2.899102        3.465790  1.841526e+06  \n",
       "min        0.000000    2005.000000        1.000000  2.260000e+04  \n",
       "25%       38.000000    2010.000000        3.000000  1.079420e+05  \n",
       "50%      194.000000    2013.000000        7.000000  3.558510e+05  \n",
       "75%     1279.500000    2015.000000        9.000000  1.179833e+06  \n",
       "max    19996.000000    2018.000000       12.000000  1.761368e+07  "
      ]
     },
     "execution_count": 69,
     "metadata": {},
     "output_type": "execute_result"
    }
   ],
   "source": [
    "df.describe()"
   ]
  },
  {
   "cell_type": "code",
   "execution_count": 82,
   "id": "4a5edb83",
   "metadata": {},
   "outputs": [
    {
     "data": {
      "image/png": "[encoded data removed]",
      "text/plain": [
       "<Figure size 1440x1080 with 1 Axes>"
      ]
     },
     "metadata": {
      "needs_background": "light"
     },
     "output_type": "display_data"
    }
   ],
   "source": [
    "%matplotlib inline\n",
    "import matplotlib.pyplot as plt\n",
    "df['num_viewers'].hist(bins=50, figsize=(20,15))\n",
    "plt.show()"
   ]
  },
  {
   "cell_type": "code",
   "execution_count": 5,
   "id": "a934aab3",
   "metadata": {},
   "outputs": [
    {
     "data": {
      "text/plain": [
       "movie_ID           0\n",
       "title              0\n",
       "genre              3\n",
       "running_time       2\n",
       "netizen_ratings    0\n",
       "num_reviews        0\n",
       "num_article        0\n",
       "country            2\n",
       "rating             1\n",
       "companyNm          5\n",
       "released_year      0\n",
       "released_month     0\n",
       "num_viewers        0\n",
       "dtype: int64"
      ]
     },
     "execution_count": 5,
     "metadata": {},
     "output_type": "execute_result"
    }
   ],
   "source": [
    "# data null 값 확인, 몇가지 null값 확인\n",
    "df.isnull().sum()"
   ]
  },
  {
   "cell_type": "code",
   "execution_count": 84,
   "id": "e974ec02",
   "metadata": {},
   "outputs": [],
   "source": [
    "corr_matrix = df.corr()"
   ]
  },
  {
   "cell_type": "code",
   "execution_count": 85,
   "id": "a860bd42",
   "metadata": {},
   "outputs": [
    {
     "data": {
      "text/plain": [
       "num_viewers        1.000000\n",
       "num_reviews        0.842496\n",
       "num_article        0.601169\n",
       "running_time       0.312445\n",
       "netizen_ratings    0.211225\n",
       "released_year      0.066480\n",
       "released_month     0.043424\n",
       "movie_ID           0.030621\n",
       "Name: num_viewers, dtype: float64"
      ]
     },
     "execution_count": 85,
     "metadata": {},
     "output_type": "execute_result"
    }
   ],
   "source": [
    "corr_matrix[\"num_viewers\"].sort_values(ascending=False)"
   ]
  },
  {
   "cell_type": "code",
   "execution_count": null,
   "id": "0386eb79",
   "metadata": {},
   "outputs": [],
   "source": [
    "from pandas.plotting import scatter_matrix\n",
    "\n",
    "attributes = [\"median_house_value\", \"median_income\", \"total_rooms\",\n",
    "              \"housing_median_age\"]\n",
    "scatter_matrix(data[attributes], figsize=(12, 8))"
   ]
  },
  {
   "cell_type": "code",
   "execution_count": null,
   "id": "83b2ff2d",
   "metadata": {},
   "outputs": [],
   "source": [
    "data.plot(kind=\"scatter\", x=\"median_income\", y=\"median_house_value\",\n",
    "             alpha=0.1)\n",
    "plt.axis([0, 16, 0, 550000])\n",
    "plt.show()"
   ]
  },
  {
   "cell_type": "code",
   "execution_count": null,
   "id": "24fa0d24",
   "metadata": {},
   "outputs": [],
   "source": [
    "data[\"rooms_per_household\"] = data[\"total_rooms\"]/data[\"households\"]\n",
    "data[\"bedrooms_per_room\"] = data[\"total_bedrooms\"]/data[\"total_rooms\"]\n",
    "data[\"population_per_household\"]=data[\"population\"]/data[\"households\"]"
   ]
  },
  {
   "cell_type": "code",
   "execution_count": 6,
   "id": "da5865a0",
   "metadata": {},
   "outputs": [
    {
     "data": {
      "text/plain": [
       "movie_ID           1411\n",
       "title              1411\n",
       "genre              1408\n",
       "running_time       1409\n",
       "netizen_ratings    1411\n",
       "num_reviews        1411\n",
       "num_article        1411\n",
       "country            1409\n",
       "rating             1410\n",
       "companyNm          1406\n",
       "released_year      1411\n",
       "released_month     1411\n",
       "num_viewers        1411\n",
       "dtype: int64"
      ]
     },
     "execution_count": 6,
     "metadata": {},
     "output_type": "execute_result"
    }
   ],
   "source": [
    "df.notnull().sum()"
   ]
  },
  {
   "cell_type": "code",
   "execution_count": 7,
   "id": "61186144",
   "metadata": {},
   "outputs": [],
   "source": [
    "# null 값 삭제\n",
    "df = df.dropna()"
   ]
  },
  {
   "cell_type": "code",
   "execution_count": 8,
   "id": "b2f56dc0",
   "metadata": {},
   "outputs": [
    {
     "data": {
      "text/plain": [
       "['movie_ID',\n",
       " 'title',\n",
       " 'genre',\n",
       " 'running_time',\n",
       " 'netizen_ratings',\n",
       " 'num_reviews',\n",
       " 'num_article',\n",
       " 'country',\n",
       " 'rating',\n",
       " 'companyNm',\n",
       " 'released_year',\n",
       " 'released_month',\n",
       " 'num_viewers']"
      ]
     },
     "execution_count": 8,
     "metadata": {},
     "output_type": "execute_result"
    }
   ],
   "source": [
    "# 모든 컬럼 목록\n",
    "['movie_ID', 'title', 'genre', 'running_time', 'netizen_ratings',\n",
    "       'num_reviews', 'num_article', 'country', 'rating', 'companyNm',\n",
    "       'released_year', 'released_month', 'num_viewers']"
   ]
  },
  {
   "cell_type": "code",
   "execution_count": 9,
   "id": "9d191e3b",
   "metadata": {},
   "outputs": [
    {
     "data": {
      "text/plain": [
       "('title', 'genre', 'country', 'rating', 'companyNm')"
      ]
     },
     "execution_count": 9,
     "metadata": {},
     "output_type": "execute_result"
    }
   ],
   "source": [
    "# 제거한 컬럼 목록\n",
    "'title','genre','country','rating','companyNm',"
   ]
  },
  {
   "cell_type": "code",
   "execution_count": 52,
   "id": "d3f1d544",
   "metadata": {},
   "outputs": [],
   "source": [
    "# 정수형 data만 남긴 dataframe\n",
    "df1 = df[['movie_ID', 'running_time', 'netizen_ratings','num_reviews', 'num_article','released_year', 'released_month', 'num_viewers']]"
   ]
  },
  {
   "cell_type": "code",
   "execution_count": 56,
   "id": "7c7fcd30",
   "metadata": {},
   "outputs": [],
   "source": [
    "# 각 컬럼(독립변수별)정확도 측정\n",
    "df1 = df[['num_reviews', 'num_viewers']]\n",
    "# 'running_time', 'netizen_ratings','num_reviews', 'num_article','released_year', 'released_month', "
   ]
  },
  {
   "cell_type": "code",
   "execution_count": 57,
   "id": "6c81405a",
   "metadata": {},
   "outputs": [
    {
     "data": {
      "text/plain": [
       "movie_ID           1400\n",
       "title              1400\n",
       "genre              1400\n",
       "running_time       1400\n",
       "netizen_ratings    1400\n",
       "num_reviews        1400\n",
       "num_article        1400\n",
       "country            1400\n",
       "rating             1400\n",
       "companyNm          1400\n",
       "released_year      1400\n",
       "released_month     1400\n",
       "num_viewers        1400\n",
       "dtype: int64"
      ]
     },
     "execution_count": 57,
     "metadata": {},
     "output_type": "execute_result"
    }
   ],
   "source": [
    "# null 값 삭제 후 dataframe확인\n",
    "df.notnull().sum()"
   ]
  },
  {
   "cell_type": "code",
   "execution_count": 58,
   "id": "558b65c6",
   "metadata": {},
   "outputs": [],
   "source": [
    "df1 = df1.values"
   ]
  },
  {
   "cell_type": "code",
   "execution_count": 59,
   "id": "8ab860c2",
   "metadata": {},
   "outputs": [],
   "source": [
    "import matplotlib.pyplot as plt"
   ]
  },
  {
   "cell_type": "code",
   "execution_count": 60,
   "id": "dac83311",
   "metadata": {},
   "outputs": [
    {
     "data": {
      "image/png": "[encoded data removed]",
      "text/plain": [
       "<Figure size 432x288 with 1 Axes>"
      ]
     },
     "metadata": {
      "needs_background": "light"
     },
     "output_type": "display_data"
    }
   ],
   "source": [
    "for v in df1:\n",
    "    plt.scatter(v[0],v[-1])\n",
    "plt.show()"
   ]
  },
  {
   "cell_type": "code",
   "execution_count": 14,
   "id": "694cb443",
   "metadata": {
    "scrolled": true
   },
   "outputs": [
    {
     "data": {
      "text/plain": [
       "(1400, 2)"
      ]
     },
     "execution_count": 14,
     "metadata": {},
     "output_type": "execute_result"
    }
   ],
   "source": [
    "df1.shape"
   ]
  },
  {
   "cell_type": "code",
   "execution_count": 15,
   "id": "5a50fbd0",
   "metadata": {},
   "outputs": [],
   "source": [
    "# 종속변수와 독립변수 데이터 분리하기\n",
    "y = df1[:,-1]\n",
    "X = df1[:,:-1]"
   ]
  },
  {
   "cell_type": "code",
   "execution_count": 16,
   "id": "ef905aec",
   "metadata": {},
   "outputs": [
    {
     "name": "stdout",
     "output_type": "stream",
     "text": [
      "X.train shape : (980, 1)\n",
      "X_test shape : (420, 1)\n"
     ]
    }
   ],
   "source": [
    "from sklearn.model_selection import train_test_split\n",
    "X_train, X_test, y_train, y_test = train_test_split(X, y, test_size=0.3)\n",
    "print(f'X.train shape : {X_train.shape}')\n",
    "print(f'X_test shape : {X_test.shape}')"
   ]
  },
  {
   "cell_type": "markdown",
   "id": "cab33b4d",
   "metadata": {},
   "source": [
    "# feature scaling 해야행!!\n",
    "standard / min-max 둘 다 써본다\n"
   ]
  },
  {
   "cell_type": "code",
   "execution_count": 43,
   "id": "d62bb275",
   "metadata": {},
   "outputs": [],
   "source": [
    "# standard scaler\n",
    "from sklearn.preprocessing import StandardScaler\n",
    "scaler = StandardScaler()"
   ]
  },
  {
   "cell_type": "code",
   "execution_count": null,
   "id": "3c09cead",
   "metadata": {},
   "outputs": [],
   "source": [
    "X_train_std = scaler.fit_transform(X_train) # 학습데이터 존재하는 평균과 표준편차를 얻어냄\n",
    "X_test_std = scaler.transform(X_test) # fit 을 뺀 transform만 사용.\n",
    "##??? 왜 이렇게 하는거징... 학습데이터에서 도출된 모형의 성능평가를 위해 \n",
    "## 따로 따로 표준화를 할 경ㅇ에는 어떠한 문제가 생기는가?? \n",
    "## 데이터를 나눠준 다음에 학습데이터 대해 얻어진 정보로 feature scaling 진행, \n",
    "# 한번에 feature scaling을 하게 되면 효과가 훨씬 좋은 것 처럼 나온다(overfitting 이 나온다는 건가??)"
   ]
  },
  {
   "cell_type": "code",
   "execution_count": null,
   "id": "8c494c94",
   "metadata": {},
   "outputs": [],
   "source": [
    "# min-max scaler \n",
    "from sklearn.preprocessing import MinMaxScaler\n",
    "scaler_minmax = MinMaxScaler()"
   ]
  },
  {
   "cell_type": "markdown",
   "id": "42db6bf1",
   "metadata": {},
   "source": [
    "# fit 다음에 coefficient, intercept 확인"
   ]
  },
  {
   "cell_type": "code",
   "execution_count": 40,
   "id": "8722186d",
   "metadata": {},
   "outputs": [
    {
     "name": "stdout",
     "output_type": "stream",
     "text": [
      "Linear Regression : 52.735%\n",
      "R2 score : 0.5273453981787933\n",
      "MSE : 1138435811680.047\n",
      "========================================\n"
     ]
    }
   ],
   "source": [
    "from sklearn.metrics import r2_score #r2 score 호출\n",
    "from sklearn.metrics import mean_squared_error # 비용함수 계산\n",
    "\n",
    "# Linear regression\n",
    "from sklearn.linear_model import LinearRegression\n",
    "model = LinearRegression()\n",
    "model.fit(X_train, y_train)\n",
    "print(f'Linear Regression : {model.score(X_test, y_test) * 100 :0.3f}%')\n",
    "print(f'R2 score : {r2_score(y_test, model.predict(X_test))}')\n",
    "print(f'MSE : {mean_squared_error(y_test, model.predict(X_test))}')\n",
    "print('=' * 40)"
   ]
  },
  {
   "cell_type": "code",
   "execution_count": 38,
   "id": "14c77c81",
   "metadata": {},
   "outputs": [
    {
     "name": "stdout",
     "output_type": "stream",
     "text": [
      "Lasso : 52.735 %\n",
      "MSE : 1138435811680.047\n",
      "========================================\n"
     ]
    }
   ],
   "source": [
    "# lasso\n",
    "from sklearn.linear_model import Lasso\n",
    "model_lasso = Lasso(alpha=0.5)\n",
    "model_lasso.fit(X_train, y_train)\n",
    "print(f'Lasso : {model_lasso.score(X_test, y_test) * 100 :0.3f} %')\n",
    "print(f'R2 score : {r2_score(y_test, model.predict(X_test))}')\n",
    "print(f'MSE : {mean_squared_error(y_test, model.predict(X_test))}')\n",
    "print('=' * 40)"
   ]
  },
  {
   "cell_type": "code",
   "execution_count": 39,
   "id": "5f843c99",
   "metadata": {},
   "outputs": [
    {
     "name": "stdout",
     "output_type": "stream",
     "text": [
      "Ridge : 52.735 %\n",
      "MSE : 1138435811680.047\n",
      "========================================\n"
     ]
    }
   ],
   "source": [
    "# ridge\n",
    "from sklearn.linear_model import Ridge\n",
    "model_ridge = Ridge(alpha=0.5)\n",
    "model_ridge.fit(X_train, y_train)\n",
    "print(f'Ridge : {model_ridge.score(X_test, y_test) * 100:0.3f} %')\n",
    "print(f'R2 score : {r2_score(y_test, model.predict(X_test))}')\n",
    "print(f'MSE : {mean_squared_error(y_test, model.predict(X_test))}')\n",
    "print('=' * 40)"
   ]
  },
  {
   "cell_type": "code",
   "execution_count": 18,
   "id": "5ebe3182",
   "metadata": {},
   "outputs": [
    {
     "data": {
      "text/plain": [
       "XGBRegressor(base_score=0.5, booster='gbtree', colsample_bylevel=1,\n",
       "             colsample_bynode=1, colsample_bytree=1, enable_categorical=False,\n",
       "             gamma=0, gpu_id=-1, importance_type=None,\n",
       "             interaction_constraints='', learning_rate=0.300000012,\n",
       "             max_delta_step=0, max_depth=6, min_child_weight=1, missing=nan,\n",
       "             monotone_constraints='()', n_estimators=100, n_jobs=8,\n",
       "             num_parallel_tree=1, predictor='auto', random_state=0, reg_alpha=0,\n",
       "             reg_lambda=1, scale_pos_weight=1, subsample=1, tree_method='exact',\n",
       "             validate_parameters=1, verbosity=None)"
      ]
     },
     "execution_count": 18,
     "metadata": {},
     "output_type": "execute_result"
    }
   ],
   "source": [
    "import xgboost as xgb\n",
    "from xgboost import  plot_importance\n",
    "\n",
    "model = xgb.XGBRegressor()\n",
    "model.fit(X_train, y_train)"
   ]
  },
  {
   "cell_type": "code",
   "execution_count": 19,
   "id": "e5231323",
   "metadata": {},
   "outputs": [
    {
     "data": {
      "text/plain": [
       "<AxesSubplot:title={'center':'Feature importance'}, xlabel='F score', ylabel='Features'>"
      ]
     },
     "execution_count": 19,
     "metadata": {},
     "output_type": "execute_result"
    },
    {
     "data": {
      "image/png": "[encoded data removed]",
      "text/plain": [
       "<Figure size 432x288 with 1 Axes>"
      ]
     },
     "metadata": {
      "needs_background": "light"
     },
     "output_type": "display_data"
    }
   ],
   "source": [
    "plot_importance(model)"
   ]
  },
  {
   "cell_type": "code",
   "execution_count": 20,
   "id": "779835d2",
   "metadata": {},
   "outputs": [],
   "source": [
    "y_pred = model.predict(X_test)\n",
    "predictions =[round(value) for value in y_pred]"
   ]
  },
  {
   "cell_type": "code",
   "execution_count": 21,
   "id": "0ac4323f",
   "metadata": {},
   "outputs": [
    {
     "data": {
      "text/plain": [
       "2283720728187.3677"
      ]
     },
     "execution_count": 21,
     "metadata": {},
     "output_type": "execute_result"
    }
   ],
   "source": [
    "from sklearn.metrics import mean_squared_error\n",
    "\n",
    "mean_squared_error(y_test, y_pred)"
   ]
  },
  {
   "cell_type": "code",
   "execution_count": 22,
   "id": "c8691a15",
   "metadata": {},
   "outputs": [
    {
     "name": "stdout",
     "output_type": "stream",
     "text": [
      "Accuracy: 0.00%\n"
     ]
    }
   ],
   "source": [
    "from sklearn.metrics import accuracy_score\n",
    "\n",
    "# accuracy\n",
    "accuracy = accuracy_score(y_test, predictions)\n",
    "print(\"Accuracy: %.2f%%\" % (accuracy * 100.0))"
   ]
  },
  {
   "cell_type": "markdown",
   "id": "84a5d707",
   "metadata": {},
   "source": [
    "# elastic net 해봐라!\n"
   ]
  },
  {
   "cell_type": "code",
   "execution_count": null,
   "id": "f47b481d",
   "metadata": {},
   "outputs": [],
   "source": []
  },
  {
   "cell_type": "code",
   "execution_count": null,
   "id": "2b98367e",
   "metadata": {},
   "outputs": [],
   "source": []
  },
  {
   "cell_type": "code",
   "execution_count": null,
   "id": "248a5626",
   "metadata": {},
   "outputs": [],
   "source": []
  },
  {
   "cell_type": "code",
   "execution_count": null,
   "id": "a11be696",
   "metadata": {},
   "outputs": [],
   "source": []
  }
 ],
 "metadata": {
  "kernelspec": {
   "display_name": "Python 3 (ipykernel)",
   "language": "python",
   "name": "python3"
  },
  "language_info": {
   "codemirror_mode": {
    "name": "ipython",
    "version": 3
   },
   "file_extension": ".py",
   "mimetype": "text/x-python",
   "name": "python",
   "nbconvert_exporter": "python",
   "pygments_lexer": "ipython3",
   "version": "3.9.7"
  }
 },
 "nbformat": 4,
 "nbformat_minor": 5
}
