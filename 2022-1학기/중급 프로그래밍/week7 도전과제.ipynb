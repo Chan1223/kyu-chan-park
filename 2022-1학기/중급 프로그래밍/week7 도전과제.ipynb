{
 "cells": [
  {
   "cell_type": "markdown",
   "id": "a738a4cc",
   "metadata": {},
   "source": [
    "## 응용문제 1 "
   ]
  },
  {
   "cell_type": "code",
   "execution_count": 426,
   "id": "cb4f1c2c",
   "metadata": {},
   "outputs": [],
   "source": [
    "# 파일 열기\n",
    "with open('/Users/chan/desktop/jupyter/score.txt', encoding='UTF8') as f:\n",
    "    lines = f.read().splitlines()    \n",
    "f.close() #파일 닫기\n",
    "\n",
    "# score list 생성\n",
    "score = []\n",
    "\n",
    "# 파일 데이터에서 읽은 line 을 ',' 기준으로 분리 -> score list에 append.\n",
    "for i in range(len(lines)):\n",
    "    score.append(lines[i].split(','))\n"
   ]
  },
  {
   "cell_type": "code",
   "execution_count": 427,
   "id": "4ddc5560",
   "metadata": {},
   "outputs": [],
   "source": [
    "# 학생의 평균 점수를 계산하고 리스트에 합침\n",
    "def mean(): \n",
    "    for i in range(len(score)):\n",
    "        total_score = 0\n",
    "        for j in range(1, len(score[i])):\n",
    "            total_score += int(score[i][j])\n",
    "        mean_score = total_score / (len(score[i]) - 1)\n",
    "        score[i].append(round(mean_score, 1))\n",
    "        \n",
    "# 학생의 평균 점수를 기준으로 학점을 계산하고, 리스트에 합침        \n",
    "def grade(): \n",
    "    for i in range(len(score)):\n",
    "        if score[i][4] >= 90:\n",
    "            grade = 'A'\n",
    "\n",
    "        elif score[i][4] >= 80:\n",
    "            grade = 'B'\n",
    "\n",
    "        elif score[i][4] >= 70:\n",
    "            grade = 'C'\n",
    "\n",
    "        elif score[i][4] >= 60:\n",
    "            grade = 'D'\n",
    "\n",
    "        else:\n",
    "            grade = 'F'\n",
    "\n",
    "        score[i].append(grade)"
   ]
  },
  {
   "cell_type": "code",
   "execution_count": 428,
   "id": "a525493d",
   "metadata": {},
   "outputs": [
    {
     "data": {
      "text/plain": [
       "[['김가현', '95', '93', '97'],\n",
       " ['김혜현', '85', '84', '85'],\n",
       " ['최재원', '90', '85', '86'],\n",
       " ['김연수', '100', '95', '85'],\n",
       " ['김연우', '90', '90', '90']]"
      ]
     },
     "execution_count": 428,
     "metadata": {},
     "output_type": "execute_result"
    }
   ],
   "source": [
    "score"
   ]
  },
  {
   "cell_type": "code",
   "execution_count": 429,
   "id": "867d5c0d",
   "metadata": {},
   "outputs": [
    {
     "data": {
      "text/plain": [
       "[['김가현', '95', '93', '97', 95.0, 'A'],\n",
       " ['김혜현', '85', '84', '85', 84.7, 'B'],\n",
       " ['최재원', '90', '85', '86', 87.0, 'B'],\n",
       " ['김연수', '100', '95', '85', 93.3, 'A'],\n",
       " ['김연우', '90', '90', '90', 90.0, 'A']]"
      ]
     },
     "execution_count": 429,
     "metadata": {},
     "output_type": "execute_result"
    }
   ],
   "source": [
    "mean()\n",
    "\n",
    "grade()\n",
    "\n",
    "score"
   ]
  },
  {
   "cell_type": "code",
   "execution_count": 431,
   "id": "21385eca",
   "metadata": {},
   "outputs": [
    {
     "name": "stdout",
     "output_type": "stream",
     "text": [
      "이  름,국어,영어,수학,평균,  학점\n",
      "===========================\n",
      "김가현  95  93  97 95.0   A \n",
      "김혜현  85  84  85 84.7   B \n",
      "최재원  90  85  86 87.0   B \n",
      "김연수 100  95  85 93.3   A \n",
      "김연우  90  90  90 90.0   A \n"
     ]
    }
   ],
   "source": [
    "print('이  름,국어,영어,수학,평균,  학점')\n",
    "print('=' * 27)\n",
    "for i in range(len(score)):\n",
    "    for j in range(len(score[i])):\n",
    "        print(f'{score[i][j]:>3}', end=' ')\n",
    "    print()"
   ]
  },
  {
   "cell_type": "markdown",
   "id": "015a90c3",
   "metadata": {},
   "source": [
    "## 응용문제 2"
   ]
  },
  {
   "cell_type": "code",
   "execution_count": 5,
   "id": "058edf6f",
   "metadata": {},
   "outputs": [],
   "source": [
    "import random # 모듈 임포트\n",
    "\n",
    "# 파일 열기\n",
    "with open('/Users/chan/desktop/jupyter/dictionary.txt') as f:\n",
    "    dic = f.read().splitlines()\n",
    "    f.close()"
   ]
  },
  {
   "cell_type": "code",
   "execution_count": 6,
   "id": "3273fd07",
   "metadata": {
    "scrolled": true
   },
   "outputs": [
    {
     "data": {
      "text/plain": [
       "['복세편살',\n",
       " '멍청비용',\n",
       " '슬세권',\n",
       " '만반잘부',\n",
       " '내또출',\n",
       " '비담',\n",
       " '나심비',\n",
       " '삼귀다',\n",
       " '스라밸',\n",
       " '별다줄',\n",
       " '꾸안꾸',\n",
       " '최최차차',\n",
       " '졌잘싸',\n",
       " '롬곡',\n",
       " '팬아저',\n",
       " '갑통알',\n",
       " '알잘딱깔쎈',\n",
       " '일코노미',\n",
       " '핑프',\n",
       " '고스팅']"
      ]
     },
     "execution_count": 6,
     "metadata": {},
     "output_type": "execute_result"
    }
   ],
   "source": [
    "# 데이터 확인\n",
    "dic"
   ]
  },
  {
   "cell_type": "code",
   "execution_count": 83,
   "id": "db315f05",
   "metadata": {},
   "outputs": [],
   "source": [
    "# start 함수 정의, game 함수와 연동\n",
    "def start() : \n",
    "    global user\n",
    "    global a\n",
    "    \n",
    "    while True:\n",
    "        if user == '':\n",
    "            print('종료합니당!')\n",
    "            user = 1 # user = ''로 고정되어 재시작이 안되는 경우 방지\n",
    "            break\n",
    "\n",
    "        a = random.choice(dic)\n",
    "        print(a)\n",
    "        \n",
    "        game()\n",
    "\n",
    "\n",
    "# game 함수 정의\n",
    "def game():\n",
    "    global user\n",
    "    \n",
    "    while True : \n",
    "        user = input()\n",
    "\n",
    "        if a == user:\n",
    "            print('맞음!!')\n",
    "            break\n",
    "\n",
    "        elif user == '': \n",
    "            break\n",
    "\n",
    "        else : \n",
    "            print('오타! 다시 도전')\n",
    "\n",
    "\n",
    "    "
   ]
  },
  {
   "cell_type": "code",
   "execution_count": 84,
   "id": "b6a6fa40",
   "metadata": {},
   "outputs": [
    {
     "name": "stdout",
     "output_type": "stream",
     "text": [
      "====================\n",
      "  신조어 게임\n",
      "====================\n",
      "\n",
      "타자게임 시작(아무키나)\n",
      "최최차차\n",
      "최최차차\n",
      "맞음!!\n",
      "멍청비용\n",
      "멍청\n",
      "오타! 다시 도전\n",
      "\n",
      "종료합니당!\n"
     ]
    }
   ],
   "source": [
    "print('=' * 20)\n",
    "print('  신조어 게임')\n",
    "print('=' * 20)\n",
    "print()\n",
    "print('타자게임 시작(아무키나)')\n",
    "\n",
    "start()\n"
   ]
  },
  {
   "cell_type": "code",
   "execution_count": null,
   "id": "699b2b72",
   "metadata": {},
   "outputs": [],
   "source": []
  }
 ],
 "metadata": {
  "kernelspec": {
   "display_name": "Python 3 (ipykernel)",
   "language": "python",
   "name": "python3"
  },
  "language_info": {
   "codemirror_mode": {
    "name": "ipython",
    "version": 3
   },
   "file_extension": ".py",
   "mimetype": "text/x-python",
   "name": "python",
   "nbconvert_exporter": "python",
   "pygments_lexer": "ipython3",
   "version": "3.9.7"
  }
 },
 "nbformat": 4,
 "nbformat_minor": 5
}
