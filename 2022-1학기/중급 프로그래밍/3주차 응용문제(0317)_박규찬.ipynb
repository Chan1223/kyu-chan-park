{
 "cells": [
  {
   "cell_type": "markdown",
   "id": "72a2089b",
   "metadata": {},
   "source": [
    "# 리스트"
   ]
  },
  {
   "cell_type": "markdown",
   "id": "b7b02b52",
   "metadata": {},
   "source": [
    "### 리스트 생성과 추출"
   ]
  },
  {
   "cell_type": "code",
   "execution_count": null,
   "id": "277418f2",
   "metadata": {},
   "outputs": [],
   "source": [
    "dir(list)\n",
    "# 내장함수를 보고싶을땐 help\n",
    "help(list)"
   ]
  },
  {
   "cell_type": "code",
   "execution_count": null,
   "id": "89f6b987",
   "metadata": {},
   "outputs": [],
   "source": [
    "# 리스트 (객체)생성 방법(2가지)\n",
    "# 빈 리스트 생성"
   ]
  },
  {
   "cell_type": "code",
   "execution_count": 5,
   "id": "5ff59f00",
   "metadata": {},
   "outputs": [],
   "source": [
    "a = [] # list()\n",
    "\n",
    "# 값을 담고 있는 리스트는 콤마(,)로 값을 분리해서 생성\n",
    "a = [10, 20] "
   ]
  },
  {
   "cell_type": "code",
   "execution_count": 9,
   "id": "eaf6db3a",
   "metadata": {},
   "outputs": [
    {
     "data": {
      "text/plain": [
       "3"
      ]
     },
     "execution_count": 9,
     "metadata": {},
     "output_type": "execute_result"
    }
   ],
   "source": [
    "fruits = ['apple', 'orange', 'grape', 'melon']\n",
    "list1 = ['yonsei', 'DA', ['c', 'python']]\n",
    "fruits[1:]\n",
    "fruits[:3]\n",
    "fruits[-4:-2]\n",
    "len(fruits)\n",
    "len(list1)"
   ]
  },
  {
   "cell_type": "code",
   "execution_count": 19,
   "id": "a1c41835",
   "metadata": {},
   "outputs": [
    {
     "data": {
      "text/plain": [
       "('0x21ee6120b00', '0x21ee5201bc0')"
      ]
     },
     "execution_count": 19,
     "metadata": {},
     "output_type": "execute_result"
    }
   ],
   "source": [
    "a = [10, 20, 30, 40]\n",
    "b = a[1:3]\n",
    "b\n",
    "hex(id(a)), hex(id(b))\n"
   ]
  },
  {
   "cell_type": "markdown",
   "id": "217ea3fc",
   "metadata": {},
   "source": [
    "### 변경 가능(mutable) vs 변경 불가능(immutable) 객체\n",
    "id() 함수 : 객체의 고유값(레퍼런스)를 반환하는 함수"
   ]
  },
  {
   "cell_type": "code",
   "execution_count": 198,
   "id": "adde15c2",
   "metadata": {},
   "outputs": [
    {
     "name": "stdout",
     "output_type": "stream",
     "text": [
      "200 200\n",
      "140736091537424 140736091537424\n"
     ]
    }
   ],
   "source": [
    "# 파이썬은 -5 ~ 256 까지는 정해진 id 값을 갖고 있음.\n",
    "a = 200\n",
    "b = 200\n",
    "print(a,b)\n",
    "print(id(a),id(b))"
   ]
  },
  {
   "cell_type": "markdown",
   "id": "af7cad5d",
   "metadata": {},
   "source": [
    "### 변경 불가능한 객체\n",
    "int, float, str, bool. tuple\n"
   ]
  },
  {
   "cell_type": "code",
   "execution_count": 199,
   "id": "9eec9fa3",
   "metadata": {},
   "outputs": [
    {
     "name": "stdout",
     "output_type": "stream",
     "text": [
      "2331734155856 2331734155856\n",
      "2331734155856 2331732832112\n"
     ]
    }
   ],
   "source": [
    "a = 300\n",
    "b = a\n",
    "print(id(a), id(b))\n",
    "# b의 레퍼런스가 문자열로 변경\n",
    "b = 'hee'\n",
    "print(id(a), id(b))"
   ]
  },
  {
   "cell_type": "markdown",
   "id": "b6065956",
   "metadata": {},
   "source": [
    "#### 변경 불가능한 객체 예시(문자열)"
   ]
  },
  {
   "cell_type": "code",
   "execution_count": 200,
   "id": "b570a918",
   "metadata": {},
   "outputs": [
    {
     "data": {
      "text/plain": [
       "'a'"
      ]
     },
     "execution_count": 200,
     "metadata": {},
     "output_type": "execute_result"
    }
   ],
   "source": [
    "old = 'abc abc'\n",
    "old[0]"
   ]
  },
  {
   "cell_type": "code",
   "execution_count": 202,
   "id": "7f5f37fe",
   "metadata": {
    "scrolled": true
   },
   "outputs": [
    {
     "ename": "TypeError",
     "evalue": "'str' object does not support item assignment",
     "output_type": "error",
     "traceback": [
      "\u001b[1;31m---------------------------------------------------------------------------\u001b[0m",
      "\u001b[1;31mTypeError\u001b[0m                                 Traceback (most recent call last)",
      "\u001b[1;32m<ipython-input-202-3745f7df50d7>\u001b[0m in \u001b[0;36m<module>\u001b[1;34m\u001b[0m\n\u001b[1;32m----> 1\u001b[1;33m \u001b[0mold\u001b[0m\u001b[1;33m[\u001b[0m\u001b[1;36m0\u001b[0m\u001b[1;33m]\u001b[0m \u001b[1;33m=\u001b[0m \u001b[1;34m'A'\u001b[0m\u001b[1;33m\u001b[0m\u001b[1;33m\u001b[0m\u001b[0m\n\u001b[0m",
      "\u001b[1;31mTypeError\u001b[0m: 'str' object does not support item assignment"
     ]
    }
   ],
   "source": [
    "old[0] = 'A'"
   ]
  },
  {
   "cell_type": "code",
   "execution_count": 203,
   "id": "b35bb500",
   "metadata": {},
   "outputs": [
    {
     "data": {
      "text/plain": [
       "(2331733105904, 2331733074352)"
      ]
     },
     "execution_count": 203,
     "metadata": {},
     "output_type": "execute_result"
    }
   ],
   "source": [
    "old = 'abc abc'\n",
    "# old[0]\n",
    "new = old.upper()\n",
    "id(old), id(new)"
   ]
  },
  {
   "cell_type": "code",
   "execution_count": 206,
   "id": "46db8a94",
   "metadata": {},
   "outputs": [],
   "source": [
    "# replace(), split()\n",
    "newStr = old.replace('a', 'A')"
   ]
  },
  {
   "cell_type": "markdown",
   "id": "5ce97bd9",
   "metadata": {},
   "source": [
    "#### 변경 가능한 객체(mutable) : list, dict, set"
   ]
  },
  {
   "cell_type": "code",
   "execution_count": 209,
   "id": "b4d10643",
   "metadata": {},
   "outputs": [
    {
     "name": "stdout",
     "output_type": "stream",
     "text": [
      "[3, 1, 2, 5, 4]\n",
      "[1, 2, 3, 4, 5]\n"
     ]
    }
   ],
   "source": [
    "data = [3,1,2,5,4]\n",
    "print(data)\n",
    "newdata = sorted(data)\n",
    "print(newdata)"
   ]
  },
  {
   "cell_type": "code",
   "execution_count": 217,
   "id": "9c368552",
   "metadata": {},
   "outputs": [
    {
     "name": "stdout",
     "output_type": "stream",
     "text": [
      "2331733160512 2331733160512\n",
      "[30, 1, 2, 5, 4] [30, 1, 2, 5, 4]\n",
      "140736091531984 140736091531984\n"
     ]
    }
   ],
   "source": [
    "data2 = data\n",
    "print(id(data), id(data2))\n",
    "data2[0] = 30\n",
    "print(data,data2)\n",
    "print(id(data[0]), id(data2[0]))"
   ]
  },
  {
   "cell_type": "markdown",
   "id": "dcb0f6dd",
   "metadata": {},
   "source": [
    "### 얕은 복사 vs 깊은 복사(숙제!!!)"
   ]
  },
  {
   "cell_type": "markdown",
   "id": "bd024093",
   "metadata": {},
   "source": [
    "리스트 조작 함수(메소드)"
   ]
  },
  {
   "cell_type": "code",
   "execution_count": 222,
   "id": "14cc4340",
   "metadata": {},
   "outputs": [
    {
     "data": {
      "text/plain": [
       "[15, 10, 5, 4, 3, 2]"
      ]
     },
     "execution_count": 222,
     "metadata": {},
     "output_type": "execute_result"
    }
   ],
   "source": [
    "a = [3,2,1,5,4]\n",
    "a.append(10)\n",
    "a\n",
    "a.insert(1,15)\n",
    "a\n",
    "a.sort()\n",
    "a\n",
    "a.sort(reverse=True) # 내림차순\n",
    "a\n",
    "a.count(10)\n",
    "a.pop()\n",
    "a"
   ]
  },
  {
   "cell_type": "code",
   "execution_count": 223,
   "id": "f5378e52",
   "metadata": {},
   "outputs": [
    {
     "data": {
      "text/plain": [
       "15"
      ]
     },
     "execution_count": 223,
     "metadata": {},
     "output_type": "execute_result"
    }
   ],
   "source": [
    "# pop으로 0번 인덱스 삭제\n",
    "a.pop(0)"
   ]
  },
  {
   "cell_type": "code",
   "execution_count": 224,
   "id": "b6f02be2",
   "metadata": {},
   "outputs": [
    {
     "data": {
      "text/plain": [
       "[10, 5, 4, 3, 2]"
      ]
     },
     "execution_count": 224,
     "metadata": {},
     "output_type": "execute_result"
    }
   ],
   "source": [
    "a"
   ]
  },
  {
   "cell_type": "code",
   "execution_count": null,
   "id": "658c68e5",
   "metadata": {},
   "outputs": [],
   "source": [
    "a.remove(10)"
   ]
  },
  {
   "cell_type": "code",
   "execution_count": 226,
   "id": "1a7e4a9b",
   "metadata": {},
   "outputs": [
    {
     "data": {
      "text/plain": [
       "[10, 5, 4, 3, 2]"
      ]
     },
     "execution_count": 226,
     "metadata": {},
     "output_type": "execute_result"
    }
   ],
   "source": [
    "a"
   ]
  },
  {
   "cell_type": "markdown",
   "id": "cb01c526",
   "metadata": {},
   "source": [
    "### 응용문제 1: 리스트 조작함수\n",
    "1) 학생이 2 명 '로제' ＇아이유＇ 인 동아리에 '브레이브걸스'가 가입을 했다고 가정하고, '브레이브걸스'를 리스트 맨 뒤에 추가하고 리스트 모든 요소를 출력하세요\n",
    "\n",
    "\n",
    "2) 위 리스트에 동명이인인 로제 가 새로 가입을 했다고 가정하고 요소 “아이유\" 뒤에 \"로제”를 추가하고 리스트 모든 요소를 출력하세요\n",
    "\n",
    "\n",
    "3) “로제”는 몇 명인지 출력하세요\n",
    "\n",
    "\n",
    "4) “브레이브걸스”가 동아리 탈퇴를 하였다 . 리스트에서 \"브레이브걸스”를 찾아 삭제하고 리스트 모든 요소를 출력하세요\n",
    "\n",
    "\n",
    "5) 본인의 이름을 리스트 마지막 요소에 추가하고 리스트 모든 요소를 출력하세요\n",
    "\n",
    "\n",
    "6) 현재 리스트 요소들을 오름차순으로 정렬하여 리스트 모든 요소를 출력하세요\n",
    "\n",
    "\n",
    "7) 현재 남아 있는 학생 인원수를 출력하세요"
   ]
  },
  {
   "cell_type": "code",
   "execution_count": 2,
   "id": "01a13def",
   "metadata": {},
   "outputs": [
    {
     "name": "stdout",
     "output_type": "stream",
     "text": [
      "초기 동아리 회원 ['로제', '아이유']\n"
     ]
    }
   ],
   "source": [
    "# 초기 세팅\n",
    "club = ['로제', '아이유']\n",
    "print('초기 동아리 회원', club)"
   ]
  },
  {
   "cell_type": "markdown",
   "id": "323e8674",
   "metadata": {},
   "source": [
    "#### 1-1번 문제 : append()"
   ]
  },
  {
   "cell_type": "code",
   "execution_count": 13,
   "id": "714f10d5",
   "metadata": {},
   "outputs": [
    {
     "name": "stdout",
     "output_type": "stream",
     "text": [
      "['로제', '로제', '로제', '박규찬', '아이유', '브레이브걸스']\n"
     ]
    }
   ],
   "source": [
    "club.append('브레이브걸스')\n",
    "print(club)"
   ]
  },
  {
   "cell_type": "markdown",
   "id": "900052bb",
   "metadata": {},
   "source": [
    "#### 1-2번 문제 : insert()"
   ]
  },
  {
   "cell_type": "code",
   "execution_count": 14,
   "id": "235fb307",
   "metadata": {},
   "outputs": [
    {
     "name": "stdout",
     "output_type": "stream",
     "text": [
      "['로제', '로제', '로제', '로제', '박규찬', '아이유', '브레이브걸스']\n"
     ]
    }
   ],
   "source": [
    "club.insert(2, '로제')\n",
    "print(club)"
   ]
  },
  {
   "cell_type": "markdown",
   "id": "7d3ac8d6",
   "metadata": {},
   "source": [
    "#### 1-3번 문제 : count()"
   ]
  },
  {
   "cell_type": "code",
   "execution_count": 15,
   "id": "881d8604",
   "metadata": {},
   "outputs": [
    {
     "data": {
      "text/plain": [
       "4"
      ]
     },
     "execution_count": 15,
     "metadata": {},
     "output_type": "execute_result"
    }
   ],
   "source": [
    "club.count('로제')"
   ]
  },
  {
   "cell_type": "markdown",
   "id": "c5b6892e",
   "metadata": {},
   "source": [
    "#### 1-4번 문제 : remove"
   ]
  },
  {
   "cell_type": "code",
   "execution_count": 16,
   "id": "b440bab7",
   "metadata": {},
   "outputs": [
    {
     "name": "stdout",
     "output_type": "stream",
     "text": [
      "['로제', '로제', '로제', '로제', '박규찬', '아이유']\n"
     ]
    }
   ],
   "source": [
    "club.remove('브레이브걸스')\n",
    "print(club)"
   ]
  },
  {
   "cell_type": "markdown",
   "id": "0776eac0",
   "metadata": {},
   "source": [
    "#### 1-5번 문제 : append()"
   ]
  },
  {
   "cell_type": "code",
   "execution_count": 7,
   "id": "cdf7a9db",
   "metadata": {},
   "outputs": [
    {
     "name": "stdout",
     "output_type": "stream",
     "text": [
      "['로제', '아이유', '로제', '박규찬']\n"
     ]
    }
   ],
   "source": [
    "club.append('박규찬')\n",
    "print(club)"
   ]
  },
  {
   "cell_type": "markdown",
   "id": "a99eb861",
   "metadata": {},
   "source": [
    "#### 1-6번 문제 : sort()"
   ]
  },
  {
   "cell_type": "code",
   "execution_count": 8,
   "id": "bb730229",
   "metadata": {},
   "outputs": [
    {
     "name": "stdout",
     "output_type": "stream",
     "text": [
      "['로제', '로제', '박규찬', '아이유']\n"
     ]
    }
   ],
   "source": [
    "club.sort()\n",
    "print(club)"
   ]
  },
  {
   "cell_type": "markdown",
   "id": "05cb5e44",
   "metadata": {},
   "source": [
    "#### 1-7번 문제 : len()"
   ]
  },
  {
   "cell_type": "code",
   "execution_count": 9,
   "id": "caecaa5b",
   "metadata": {},
   "outputs": [
    {
     "name": "stdout",
     "output_type": "stream",
     "text": [
      "4\n"
     ]
    }
   ],
   "source": [
    "total_student = len(club)\n",
    "print(total_student)"
   ]
  },
  {
   "cell_type": "markdown",
   "id": "3701a7c4",
   "metadata": {},
   "source": [
    "### 응용문제 2 : 나의 절친 주소록 만들기"
   ]
  },
  {
   "cell_type": "code",
   "execution_count": 26,
   "id": "594b2805",
   "metadata": {},
   "outputs": [],
   "source": [
    "# 중괄호 사용\n",
    "dic = {'제니': '010-1234', '로제':'010-5678', '리사':'010-9101'}\n",
    "\n",
    "# dict() 사용\n",
    "dic1 = dict(제니='010-1234', 로제='010-5678', 리사='010-9101')"
   ]
  },
  {
   "cell_type": "markdown",
   "id": "350086d1",
   "metadata": {},
   "source": [
    "#### 1. 전체조회"
   ]
  },
  {
   "cell_type": "code",
   "execution_count": 29,
   "id": "4c602940",
   "metadata": {
    "scrolled": true
   },
   "outputs": [
    {
     "data": {
      "text/plain": [
       "{'제니': '010-1234', '로제': '010-5678', '리사': '010-9101'}"
      ]
     },
     "execution_count": 29,
     "metadata": {},
     "output_type": "execute_result"
    }
   ],
   "source": [
    "dic"
   ]
  },
  {
   "cell_type": "code",
   "execution_count": 30,
   "id": "cbc75cc9",
   "metadata": {},
   "outputs": [
    {
     "data": {
      "text/plain": [
       "{'제니': '010-1234', '로제': '010-5678', '리사': '010-9101'}"
      ]
     },
     "execution_count": 30,
     "metadata": {},
     "output_type": "execute_result"
    }
   ],
   "source": [
    "dic1"
   ]
  },
  {
   "cell_type": "markdown",
   "id": "306445f4",
   "metadata": {},
   "source": [
    "#### 2. 조회기능 : 이름 입력시 이름, 전화번호 출력"
   ]
  },
  {
   "cell_type": "code",
   "execution_count": 56,
   "id": "171ad319",
   "metadata": {},
   "outputs": [],
   "source": [
    "def search(name):\n",
    "    print(name)\n",
    "    print(dic[name])   "
   ]
  },
  {
   "cell_type": "code",
   "execution_count": 57,
   "id": "f442ca78",
   "metadata": {},
   "outputs": [
    {
     "name": "stdout",
     "output_type": "stream",
     "text": [
      "제니\n",
      "010-1234\n"
     ]
    }
   ],
   "source": [
    "search('제니')"
   ]
  },
  {
   "cell_type": "markdown",
   "id": "1502c5ec",
   "metadata": {},
   "source": [
    "####  3. 추가기능"
   ]
  },
  {
   "cell_type": "code",
   "execution_count": 69,
   "id": "6c14db3b",
   "metadata": {},
   "outputs": [],
   "source": [
    "dic['규찬'] = '010-5137'"
   ]
  },
  {
   "cell_type": "code",
   "execution_count": 70,
   "id": "7cf9f6ab",
   "metadata": {},
   "outputs": [
    {
     "data": {
      "text/plain": [
       "{'제니': '010-1234', '로제': '010-5678', '리사': '010-9101', '규찬': '010-5137'}"
      ]
     },
     "execution_count": 70,
     "metadata": {},
     "output_type": "execute_result"
    }
   ],
   "source": [
    "dic"
   ]
  },
  {
   "cell_type": "markdown",
   "id": "6543eccc",
   "metadata": {},
   "source": [
    "#### 4. 수정기능"
   ]
  },
  {
   "cell_type": "code",
   "execution_count": 71,
   "id": "0ac09e86",
   "metadata": {},
   "outputs": [],
   "source": [
    "dic['규찬'] = '010-9999'"
   ]
  },
  {
   "cell_type": "code",
   "execution_count": 72,
   "id": "147ab7bc",
   "metadata": {},
   "outputs": [
    {
     "data": {
      "text/plain": [
       "{'제니': '010-1234', '로제': '010-5678', '리사': '010-9101', '규찬': '010-9999'}"
      ]
     },
     "execution_count": 72,
     "metadata": {},
     "output_type": "execute_result"
    }
   ],
   "source": [
    "dic"
   ]
  },
  {
   "cell_type": "markdown",
   "id": "7c771b09",
   "metadata": {},
   "source": [
    "#### 5. 삭제기능\n"
   ]
  },
  {
   "cell_type": "code",
   "execution_count": 76,
   "id": "97bee13e",
   "metadata": {},
   "outputs": [],
   "source": [
    "# pop 사용\n",
    "# dic.pop('규찬')\n",
    "\n",
    "# delete 사용\n",
    "del(dic['규찬'])"
   ]
  },
  {
   "cell_type": "code",
   "execution_count": 77,
   "id": "ec8c54bf",
   "metadata": {},
   "outputs": [
    {
     "data": {
      "text/plain": [
       "{'제니': '010-1234', '로제': '010-5678', '리사': '010-9101'}"
      ]
     },
     "execution_count": 77,
     "metadata": {},
     "output_type": "execute_result"
    }
   ],
   "source": [
    "dic"
   ]
  },
  {
   "cell_type": "markdown",
   "id": "efddba4c",
   "metadata": {},
   "source": [
    "#### 6. 전체 친구의 수 출력"
   ]
  },
  {
   "cell_type": "code",
   "execution_count": 79,
   "id": "dd73132b",
   "metadata": {},
   "outputs": [
    {
     "data": {
      "text/plain": [
       "3"
      ]
     },
     "execution_count": 79,
     "metadata": {},
     "output_type": "execute_result"
    }
   ],
   "source": [
    "len(dic.items())"
   ]
  },
  {
   "cell_type": "markdown",
   "id": "d3c5f55c",
   "metadata": {},
   "source": [
    "#### 7. 전체 친구의 이름 출력"
   ]
  },
  {
   "cell_type": "code",
   "execution_count": 118,
   "id": "06cbaf26",
   "metadata": {},
   "outputs": [
    {
     "data": {
      "text/plain": [
       "dict_keys(['제니', '로제', '리사'])"
      ]
     },
     "execution_count": 118,
     "metadata": {},
     "output_type": "execute_result"
    }
   ],
   "source": [
    "dic.keys()"
   ]
  },
  {
   "cell_type": "markdown",
   "id": "ffba72bf",
   "metadata": {},
   "source": [
    "# 얕은 복사 vs 깊은 복사\n"
   ]
  },
  {
   "cell_type": "markdown",
   "id": "8e21ba78",
   "metadata": {},
   "source": [
    "<얕은 복사(Shallow Copy)>\n",
    "* 객체를 복사 할 때 해당 객체만 복사하여 새 객체를 생성\n",
    "* 복사된 객체는 원본 객체의 메모리 주소를 참조함\n",
    "* 해당 메모리 주소의 값이 변경되면 원본 객체 및 복사 객체의 값이 같이 변경됨"
   ]
  },
  {
   "cell_type": "markdown",
   "id": "889db75e",
   "metadata": {},
   "source": [
    "<깊은 복사(Deep Copy)>\n",
    "* 객체를 복사 할 때 해당 객체와 인스턴스 변수까지 복사하는 방식.\n",
    "* 전부를 복사하여 새 주소에 담기 때문에 원본 객체의 값이 변경되어도 복사 객체 값에는 지장이 없다.\n"
   ]
  },
  {
   "cell_type": "code",
   "execution_count": null,
   "id": "8dc49aea",
   "metadata": {},
   "outputs": [],
   "source": []
  }
 ],
 "metadata": {
  "kernelspec": {
   "display_name": "Python 3 (ipykernel)",
   "language": "python",
   "name": "python3"
  },
  "language_info": {
   "codemirror_mode": {
    "name": "ipython",
    "version": 3
   },
   "file_extension": ".py",
   "mimetype": "text/x-python",
   "name": "python",
   "nbconvert_exporter": "python",
   "pygments_lexer": "ipython3",
   "version": "3.9.7"
  }
 },
 "nbformat": 4,
 "nbformat_minor": 5
}
