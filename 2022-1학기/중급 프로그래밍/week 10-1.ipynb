{
 "cells": [
  {
   "cell_type": "code",
   "execution_count": 6,
   "id": "d537e393",
   "metadata": {},
   "outputs": [],
   "source": [
    "class Bank():\n",
    "    def getInterestRate(self):\n",
    "        return 0.0"
   ]
  },
  {
   "cell_type": "code",
   "execution_count": 8,
   "id": "e92c35c6",
   "metadata": {},
   "outputs": [],
   "source": [
    "# 메소드 오버라이딩 : 부모에게 공통적인 특성을 물려받되, 자식 오브젝트에게 필요한 기능을 추가로 넣는 것\n",
    "# 함수의 원형만 물려받고, 자식 오브젝트에서 필요한대로 값을 수정하여 사용 할 수 있음\n",
    "\n",
    "class BadBank(Bank):\n",
    "    def getInterestRate(self): # 메소드 오버라이딩\n",
    "        print(super().getInterestRate())\n",
    "        return 10.0\n",
    "    \n",
    "class NormalBank(Bank):\n",
    "    def getInterestRate(self): # 메소드 오버라이딩\n",
    "        return 5.0   \n",
    "\n",
    "class GoodBank(Bank):\n",
    "    def getInterestRate(self): # 메소드 오버라이딩\n",
    "        return 3.0"
   ]
  },
  {
   "cell_type": "code",
   "execution_count": 9,
   "id": "c728bab8",
   "metadata": {},
   "outputs": [
    {
     "name": "stdout",
     "output_type": "stream",
     "text": [
      "0.0\n",
      "10.0\n"
     ]
    }
   ],
   "source": [
    "b1=BadBank()\n",
    "print(b1.getInterestRate())"
   ]
  },
  {
   "cell_type": "markdown",
   "id": "5be520e7",
   "metadata": {},
   "source": [
    "#### 상속의 구현 예제 \n",
    "- 사람 클래스 : 이름, 나이\n",
    "- 학생 클래스 : 이름, 나이, 학과\n",
    "\n",
    "#### 상속의 장점\n",
    "- 클래스 사이의 멤버 중복 선언 불필요\n",
    "- 필드(멤버변수)와 메소드 재사용으로 클래스 간결화\n",
    "- 클래스 간 계층적 분류 및 관리\n",
    "- 유지 보수에 효과적\n"
   ]
  },
  {
   "cell_type": "code",
   "execution_count": 38,
   "id": "8af26bad",
   "metadata": {},
   "outputs": [],
   "source": [
    "# 부모클래스 = 슈퍼클래스 = 기저(base) 클래스 = 상위클래스\n",
    "class Person():\n",
    "    # 멤버 변수\n",
    "    name = ''\n",
    "    age = 0\n",
    "    \n",
    "    # 생성자\n",
    "    def __init__(self, name, age):\n",
    "        self.name = name\n",
    "        self.age = age\n",
    "\n",
    "    # 일반 메소드\n",
    "    def setName(self, name):\n",
    "        self.name = name\n",
    "        \n",
    "    def setAge(self, age):\n",
    "        self.age = age\n",
    "    \n",
    "    def work(self):\n",
    "        print('일을 한다.')\n",
    "    \n",
    "    # 출력메소드\n",
    "    def show(self):\n",
    "        print(f'{self.name},{self.age}')"
   ]
  },
  {
   "cell_type": "code",
   "execution_count": 50,
   "id": "edca505a",
   "metadata": {},
   "outputs": [],
   "source": [
    "# 자식클래스 = 하위클래스 = 유도클래스\n",
    "class Student(Person):\n",
    "    def __init__(self, name, age, dept):\n",
    "        super().__init__(name, age)\n",
    "        self.dept = dept\n",
    "        \n",
    "    def work(self):\n",
    "        super().show()\n",
    "        print('겅부를 한다')\n",
    "        \n",
    "    def show(self):\n",
    "        super().show()\n",
    "        print(f',{self.dept}')\n",
    "\n",
    "        "
   ]
  },
  {
   "cell_type": "code",
   "execution_count": 51,
   "id": "1feef7fe",
   "metadata": {},
   "outputs": [
    {
     "name": "stdout",
     "output_type": "stream",
     "text": [
      "박규찬,20\n",
      "일을 한다.\n"
     ]
    }
   ],
   "source": [
    "# 테스트\n",
    "p1=Person('박규찬', 20)\n",
    "p1.show()\n",
    "p1.work()"
   ]
  },
  {
   "cell_type": "code",
   "execution_count": 52,
   "id": "3c6d4163",
   "metadata": {},
   "outputs": [
    {
     "name": "stdout",
     "output_type": "stream",
     "text": [
      "박규찬,20\n",
      ",DA\n",
      "박9찬,20\n",
      ",DA\n",
      "박9찬,20\n",
      "겅부를 한다\n"
     ]
    }
   ],
   "source": [
    "s1=Student('박규찬', 20, 'DA')\n",
    "s1.show()\n",
    "s1.setName('박9찬')\n",
    "s1.show()\n",
    "s1.work()"
   ]
  },
  {
   "cell_type": "markdown",
   "id": "9e7f013f",
   "metadata": {},
   "source": [
    "#### 실습예제2 : 직원과 매니저"
   ]
  },
  {
   "cell_type": "code",
   "execution_count": 105,
   "id": "c30cb239",
   "metadata": {},
   "outputs": [],
   "source": [
    "class Employee:\n",
    "    def __init__(self, name, salary):\n",
    "        self.name = name\n",
    "        self.salary = salary\n",
    "        \n",
    "    def getSalary(self):\n",
    "        return self.salary\n",
    "\n",
    "    def __str__(self):\n",
    "        result = f'이름: {self.name}, 월급: {self.salary}'\n",
    "        return result"
   ]
  },
  {
   "cell_type": "code",
   "execution_count": 163,
   "id": "4ae26f4f",
   "metadata": {},
   "outputs": [],
   "source": [
    "class Manager(Employee):\n",
    "    def __init__(self,name, salary, bonus):\n",
    "        super().__init__(name, salary)\n",
    "        self.bonus = bonus\n",
    "    \n",
    "    def getSalary(self):\n",
    "        salary = super().getSalary() + (super().getSalary() * self.bonus)\n",
    "        return salary\n",
    "    \n",
    "    def __str__(self):\n",
    "        result = super().__str__() + f', 보너스 적용 후 월급: {self.getSalary()}'                \n",
    "        return result"
   ]
  },
  {
   "cell_type": "code",
   "execution_count": 164,
   "id": "895de130",
   "metadata": {},
   "outputs": [
    {
     "name": "stdout",
     "output_type": "stream",
     "text": [
      "이름: 박규찬, 월급: 1000\n"
     ]
    }
   ],
   "source": [
    "e1 = Employee('박규찬', 1000)\n",
    "print(e1)"
   ]
  },
  {
   "cell_type": "code",
   "execution_count": 165,
   "id": "55c78556",
   "metadata": {},
   "outputs": [
    {
     "name": "stdout",
     "output_type": "stream",
     "text": [
      "이름: 박규찬, 월급: 1000, 보너스 적용 후 월급: 1500.0\n"
     ]
    }
   ],
   "source": [
    "m1 = Manager('박규찬', 1000, 0.5)\n",
    "print(m1)"
   ]
  },
  {
   "cell_type": "code",
   "execution_count": null,
   "id": "4e2993e7",
   "metadata": {},
   "outputs": [],
   "source": []
  },
  {
   "cell_type": "code",
   "execution_count": 2,
   "id": "19a11429",
   "metadata": {},
   "outputs": [
    {
     "ename": "SyntaxError",
     "evalue": "unexpected character after line continuation character (412833830.py, line 1)",
     "output_type": "error",
     "traceback": [
      "\u001b[0;36m  File \u001b[0;32m\"/var/folders/42/6b83dcy962qg0qxnnz4ck_8c0000gn/T/ipykernel_3742/412833830.py\"\u001b[0;36m, line \u001b[0;32m1\u001b[0m\n\u001b[0;31m    1\\000\u001b[0m\n\u001b[0m        ^\u001b[0m\n\u001b[0;31mSyntaxError\u001b[0m\u001b[0;31m:\u001b[0m unexpected character after line continuation character\n"
     ]
    }
   ],
   "source": [
    "1\\000"
   ]
  },
  {
   "cell_type": "code",
   "execution_count": null,
   "id": "3fed2f65",
   "metadata": {},
   "outputs": [],
   "source": []
  }
 ],
 "metadata": {
  "kernelspec": {
   "display_name": "Python 3 (ipykernel)",
   "language": "python",
   "name": "python3"
  },
  "language_info": {
   "codemirror_mode": {
    "name": "ipython",
    "version": 3
   },
   "file_extension": ".py",
   "mimetype": "text/x-python",
   "name": "python",
   "nbconvert_exporter": "python",
   "pygments_lexer": "ipython3",
   "version": "3.9.7"
  }
 },
 "nbformat": 4,
 "nbformat_minor": 5
}
