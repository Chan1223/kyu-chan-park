{
 "cells": [
  {
   "cell_type": "code",
   "execution_count": 1,
   "id": "555d549b",
   "metadata": {},
   "outputs": [
    {
     "name": "stdout",
     "output_type": "stream",
     "text": [
      "radius:3\n",
      "원의 면적: 28.27\n",
      "원의 둘레: 18.85\n"
     ]
    }
   ],
   "source": [
    "import math\n",
    "\n",
    "class Circle:\n",
    "    def __init__(self, radius):\n",
    "        self.radius = radius\n",
    "    def getArea(self):\n",
    "        area=math.pi * self.radius **2\n",
    "        return area\n",
    "    def getPerimeter(self):\n",
    "        perimeter = 2 * math.pi * self.radius\n",
    "        return perimeter\n",
    "\n",
    "# main\n",
    "radius = int(input('radius:'))\n",
    "c1 = Circle(radius)\n",
    "print(f'원의 면적: {c1.getArea():.2f}')\n",
    "print(f'원의 둘레: {c1.getPerimeter():.2f}')"
   ]
  },
  {
   "cell_type": "markdown",
   "id": "2e539b02",
   "metadata": {},
   "source": [
    "#### 실습예제 1 : 은행계좌(BankAccount)"
   ]
  },
  {
   "cell_type": "code",
   "execution_count": 5,
   "id": "edea3c01",
   "metadata": {},
   "outputs": [],
   "source": [
    "class BankAccount:\n",
    "    def __init__(self):\n",
    "        self.balance = 0\n",
    "    \n",
    "    # 출금메소드\n",
    "    def withdraw(self, amount): \n",
    "        if amount <= self.balance:\n",
    "            self.balance -= amount\n",
    "            print(f'통장에 {amount}원 출금됨')\n",
    "        else:\n",
    "            print('잔액부족')\n",
    "        \n",
    "    # 입금 메소드\n",
    "    def deposit(self, amount): \n",
    "        self.balance += amount\n",
    "        print(f'통장에 {amount}원 입금됨')\n",
    "    \n",
    "    def __str__(self): # magic method\n",
    "        return f'현재잔액:{self.balance}'\n",
    "        "
   ]
  },
  {
   "cell_type": "code",
   "execution_count": 32,
   "id": "10f025e5",
   "metadata": {},
   "outputs": [
    {
     "name": "stdout",
     "output_type": "stream",
     "text": [
      "통장에 10000원 입금됨\n",
      "통장에 5000원 출금됨\n",
      "잔액부족\n",
      "현재잔액:5000\n"
     ]
    }
   ],
   "source": [
    "b1 = BankAccount()\n",
    "b1.deposit(10000)\n",
    "b1.withdraw(5000)\n",
    "b1.withdraw(6000)\n",
    "print(b1)"
   ]
  },
  {
   "cell_type": "markdown",
   "id": "bb3c055e",
   "metadata": {},
   "source": [
    "#### 실습예제 2 : 클래스 변수와 인스턴스 변수"
   ]
  },
  {
   "cell_type": "code",
   "execution_count": 34,
   "id": "a28873e3",
   "metadata": {},
   "outputs": [],
   "source": [
    "class Car:\n",
    "    # 멤버 변수 초기화\n",
    "    cnt = 0\n",
    "    \n",
    "    def __init__(self, model, color):\n",
    "        self.model = model\n",
    "        self.color = color\n",
    "        Car.cnt = Car.cnt + 1\n",
    "        #self.cnt = self.cnt + 1\n",
    "    def __str__(self):\n",
    "        return f'자동차 {self.cnt}가 생성되었습니다.' # 인스턴스 변수"
   ]
  },
  {
   "cell_type": "code",
   "execution_count": 35,
   "id": "b8ce16cb",
   "metadata": {},
   "outputs": [
    {
     "name": "stdout",
     "output_type": "stream",
     "text": [
      "자동차 1가 생성되었습니다.\n",
      "자동차 2가 생성되었습니다.\n",
      "자동차 3가 생성되었습니다.\n",
      "자동차의 총 대수는 3입니다.\n"
     ]
    }
   ],
   "source": [
    "c1 = Car('E-class', 'red')\n",
    "print(c1)\n",
    "c2= Car('E-calss', 'blue')\n",
    "print(c2)\n",
    "c3 = Car('E-class', 'red')\n",
    "print(c3)\n",
    "print(f'자동차의 총 대수는 {Car.cnt}입니다.')"
   ]
  },
  {
   "cell_type": "markdown",
   "id": "e7380c1d",
   "metadata": {},
   "source": [
    "### 상속 구현하기"
   ]
  },
  {
   "cell_type": "markdown",
   "id": "960d6c7a",
   "metadata": {},
   "source": [
    "#### 상속 없는 방법 "
   ]
  },
  {
   "cell_type": "code",
   "execution_count": 135,
   "id": "1e870a15",
   "metadata": {},
   "outputs": [],
   "source": [
    "# 부모객체 생성\n",
    "class Car:\n",
    "    def __init__(self, model, color, price):\n",
    "        self.model = model\n",
    "        self.color = color\n",
    "        self.price = price\n",
    "    def __str__(self):\n",
    "        result = f'model:{self.model}, color:{self.color}, price:{self.price}'\n",
    "        return result"
   ]
  },
  {
   "cell_type": "code",
   "execution_count": 136,
   "id": "9c4df036",
   "metadata": {},
   "outputs": [],
   "source": [
    "# 자식객체 생성\n",
    "class ElectricCar():\n",
    "    def __init__(self, model,color,price,batterySize):\n",
    "        self.model = model\n",
    "        self.color = color\n",
    "        self.price = price\n",
    "        self.batterySize = batterySize\n",
    "        \n",
    "    def __str__(self):\n",
    "        result = f'model:{self.model}, color:{self.color}, price:{self.price}, batterySize:{self.batterySize}'\n",
    "        return result"
   ]
  },
  {
   "cell_type": "code",
   "execution_count": 137,
   "id": "dd6c4be5",
   "metadata": {},
   "outputs": [
    {
     "name": "stdout",
     "output_type": "stream",
     "text": [
      "model:Model5, color:red, price:10000, batterySize:0\n"
     ]
    }
   ],
   "source": [
    "e1 = ElectricCar('Model5', 'red', 10000,0)\n",
    "print(e1)"
   ]
  },
  {
   "cell_type": "markdown",
   "id": "64f18bd9",
   "metadata": {},
   "source": [
    "### 상속을 사용하는 방법"
   ]
  },
  {
   "cell_type": "code",
   "execution_count": 39,
   "id": "fb588ba0",
   "metadata": {},
   "outputs": [],
   "source": [
    "# 중복된 코드를 줄이는데 유용함. super()만 사용하면 쉽게 줄일 수 있음.\n",
    "\n",
    "# 부모 객체 생성\n",
    "class Car:\n",
    "    def __init__(self, model, color, price):\n",
    "        self.model = model\n",
    "        self.color = color\n",
    "        self.price = price\n",
    "    def __str__(self):\n",
    "        result = f'model:{self.model}, color:{self.color}, price:{self.price}'\n",
    "        return result\n",
    "\n",
    "    # 일반 메소드\n",
    "    def setColor(self, color):\n",
    "        self.color = color \n",
    "    def getColor(self):\n",
    "        return self.color\n",
    "\n",
    "# 자식 객체 생성\n",
    "# 모든 멤버와 메소드는 상속되지만, 생성자만은 상속되지 않기에 super().__init__()으로 호출해야함.\n",
    "class ElectricCar(Car):\n",
    "    def __init__(self, model, color, price, batterySize):\n",
    "        super().__init__(model, color, price) # 부모 메소드를 호출\n",
    "        self.batterySize = batterySize\n",
    "    def __str__(self):\n",
    "        result = super().__str__()\n",
    "        result += f', batterSize:{self.batterySize}'\n",
    "        return result"
   ]
  },
  {
   "cell_type": "code",
   "execution_count": 43,
   "id": "27935157",
   "metadata": {},
   "outputs": [
    {
     "name": "stdout",
     "output_type": "stream",
     "text": [
      "model:Model5, color:red, price:10000, batterSize:0\n",
      "yellow\n"
     ]
    }
   ],
   "source": [
    "e1 = ElectricCar('Model5', 'red', 10000, 0)\n",
    "print(e1)\n",
    "e1.setColor('yellow')\n",
    "print(e1.getColor())"
   ]
  },
  {
   "cell_type": "markdown",
   "id": "063d3849",
   "metadata": {},
   "source": [
    "### 응용문제 1"
   ]
  },
  {
   "cell_type": "markdown",
   "id": "3a4a5bda",
   "metadata": {},
   "source": [
    "#### 성적관리 프로그램"
   ]
  },
  {
   "cell_type": "code",
   "execution_count": 187,
   "id": "d209e465",
   "metadata": {},
   "outputs": [],
   "source": [
    "class ProgramLecture():\n",
    "    def __init__(self):\n",
    "        self.assignment = 0\n",
    "        self.score_1st = 0\n",
    "        self.score_2nd = 0\n",
    "        self.absent = 0\n",
    "        \n",
    "    def inputData(self, assignment, score_1st, score_2nd, absent):\n",
    "        self.assignment = assignment\n",
    "        self.score_1st = score_1st\n",
    "        self.score_2nd = score_2nd\n",
    "        self.absent = absent\n",
    "    \n",
    "    def average(self):\n",
    "        avg = self.assignment *0.2 + self.score_1st * 0.3 + self.score_2nd * 0.5\n",
    "        return avg\n",
    "    \n",
    "    def finalScore(self):\n",
    "        score = self.average()\n",
    "        \n",
    "        if self.absent < 4:\n",
    "            if score >= 90:\n",
    "                final_score = 'A'\n",
    "            elif score >= 80:\n",
    "                final_score = 'B'\n",
    "            elif score >= 70:\n",
    "                final_score = 'C'\n",
    "            elif score >= 60:\n",
    "                final_score = 'D'\n",
    "            else:\n",
    "                final_score = 'F'\n",
    "        else :\n",
    "            final_score = '출석 미달 Fail'\n",
    "\n",
    "                \n",
    "        return final_score\n",
    "\n",
    "    def __str__(self):\n",
    "        result = f'최종 점수는 {self.average()} 학점은 {self.finalScore()}입니다.'\n",
    "        return result        "
   ]
  },
  {
   "cell_type": "code",
   "execution_count": 188,
   "id": "020343b2",
   "metadata": {},
   "outputs": [
    {
     "name": "stdout",
     "output_type": "stream",
     "text": [
      "최종 점수는 82.0 학점은 B입니다.\n",
      "최종 점수는 90.0 학점은 출석 미달 Fail입니다.\n"
     ]
    }
   ],
   "source": [
    "std = ProgramLecture()\n",
    "std.inputData(90, 80, 80, 3)\n",
    "print(std)\n",
    "std.inputData(90, 90, 90, 4)\n",
    "print(std)"
   ]
  },
  {
   "cell_type": "markdown",
   "id": "660831b4",
   "metadata": {},
   "source": [
    "#### 더 나아가기"
   ]
  },
  {
   "cell_type": "code",
   "execution_count": 189,
   "id": "89195396",
   "metadata": {
    "scrolled": true
   },
   "outputs": [
    {
     "name": "stdout",
     "output_type": "stream",
     "text": [
      "=====성적 입력=====\n",
      "1번 학생 > :80,80,80,1\n",
      "2번 학생 > :100,100,100,5\n",
      "3번 학생 > :60,50,50,1\n",
      "=====성적 산출=====\n",
      "번호    평균    학점\n",
      "최종 점수는 80.0 학점은 B입니다.\n",
      "최종 점수는 100.0 학점은 출석 미달 Fail입니다.\n",
      "최종 점수는 52.0 학점은 F입니다.\n"
     ]
    }
   ],
   "source": [
    "# 생성자 함수 생성\n",
    "ans = ProgramLecture()\n",
    "\n",
    "print('=====성적 입력=====')\n",
    "\n",
    "# 성적을 입력받아 리스트로 저장\n",
    "score_list = []\n",
    "for i in range(1, 4):\n",
    "    score_list.append(list(map(int, input(f'{i}번 학생 > :').split(','))))\n",
    "\n",
    "print('=====성적 산출=====')\n",
    "print('번호    평균    학점')\n",
    "\n",
    "# 리스트에서 결과값을 받아 출력\n",
    "for i in range(3):\n",
    "    ans.inputData(score_list[i][0], score_list[i][1], score_list[i][2], score_list[i][3])\n",
    "    print(ans)"
   ]
  },
  {
   "cell_type": "code",
   "execution_count": null,
   "id": "39c0f451",
   "metadata": {},
   "outputs": [],
   "source": [
    "80,80,80,1\n",
    "100,100,100,5\n",
    "60,50,50,1"
   ]
  },
  {
   "cell_type": "markdown",
   "id": "80462cb0",
   "metadata": {},
   "source": [
    "### 응용문제 2"
   ]
  },
  {
   "cell_type": "code",
   "execution_count": 144,
   "id": "5aca3f0d",
   "metadata": {},
   "outputs": [],
   "source": [
    "members= {}"
   ]
  },
  {
   "cell_type": "code",
   "execution_count": 145,
   "id": "65efbfd6",
   "metadata": {},
   "outputs": [],
   "source": [
    "members['hehe'] = 1234"
   ]
  },
  {
   "cell_type": "code",
   "execution_count": 146,
   "id": "7ef7914d",
   "metadata": {},
   "outputs": [
    {
     "data": {
      "text/plain": [
       "{'hehe': 1234}"
      ]
     },
     "execution_count": 146,
     "metadata": {},
     "output_type": "execute_result"
    }
   ],
   "source": [
    "members"
   ]
  },
  {
   "cell_type": "markdown",
   "id": "287e6a8c",
   "metadata": {},
   "source": [
    "#### 회원가입 프로그램"
   ]
  },
  {
   "cell_type": "code",
   "execution_count": 204,
   "id": "43883f26",
   "metadata": {},
   "outputs": [],
   "source": [
    "class Member:\n",
    "    def __init__(self, mId, mPw):\n",
    "        self.mId = mId\n",
    "        self.mPw = mPw"
   ]
  },
  {
   "cell_type": "code",
   "execution_count": 205,
   "id": "21532c92",
   "metadata": {},
   "outputs": [],
   "source": [
    "class MemberManage():\n",
    "    def __init__(self, mId, mPw):\n",
    "        self.members = {}\n",
    "        \n",
    "    def addMember(self, m):\n",
    "        self.members[m.mID] = m.mPw \n",
    "\n",
    "    def loginMember(self, mId, mPw):\n",
    "        pass\n",
    "    \n",
    "    def removeMember():\n",
    "        pass\n",
    "    \n",
    "    def pirntMember(self):\n",
    "        print('--전체회원--')\n",
    "    \n",
    "    def __str__(self):\n",
    "        pass"
   ]
  },
  {
   "cell_type": "code",
   "execution_count": 206,
   "id": "be8710cb",
   "metadata": {},
   "outputs": [
    {
     "ename": "TypeError",
     "evalue": "addMember() missing 1 required positional argument: 'm'",
     "output_type": "error",
     "traceback": [
      "\u001b[0;31m---------------------------------------------------------------------------\u001b[0m",
      "\u001b[0;31mTypeError\u001b[0m                                 Traceback (most recent call last)",
      "\u001b[0;32m/var/folders/42/6b83dcy962qg0qxnnz4ck_8c0000gn/T/ipykernel_70208/68916440.py\u001b[0m in \u001b[0;36m<module>\u001b[0;34m\u001b[0m\n\u001b[1;32m      1\u001b[0m \u001b[0;31m# 메인코드\u001b[0m\u001b[0;34m\u001b[0m\u001b[0;34m\u001b[0m\u001b[0m\n\u001b[1;32m      2\u001b[0m \u001b[0mm\u001b[0m \u001b[0;34m=\u001b[0m \u001b[0mMemberManage\u001b[0m\u001b[0;34m\u001b[0m\u001b[0;34m\u001b[0m\u001b[0m\n\u001b[0;32m----> 3\u001b[0;31m \u001b[0mm\u001b[0m\u001b[0;34m.\u001b[0m\u001b[0maddMember\u001b[0m\u001b[0;34m(\u001b[0m\u001b[0mMember\u001b[0m\u001b[0;34m(\u001b[0m\u001b[0;34m'hee8460'\u001b[0m\u001b[0;34m,\u001b[0m \u001b[0;34m'1234'\u001b[0m\u001b[0;34m)\u001b[0m\u001b[0;34m)\u001b[0m\u001b[0;34m\u001b[0m\u001b[0;34m\u001b[0m\u001b[0m\n\u001b[0m\u001b[1;32m      4\u001b[0m \u001b[0mm\u001b[0m\u001b[0;34m.\u001b[0m\u001b[0maddMember\u001b[0m\u001b[0;34m(\u001b[0m\u001b[0mMember\u001b[0m\u001b[0;34m(\u001b[0m\u001b[0;34m'hee8461'\u001b[0m\u001b[0;34m,\u001b[0m \u001b[0;34m'1234'\u001b[0m\u001b[0;34m)\u001b[0m\u001b[0;34m)\u001b[0m\u001b[0;34m\u001b[0m\u001b[0;34m\u001b[0m\u001b[0m\n\u001b[1;32m      5\u001b[0m \u001b[0mm\u001b[0m\u001b[0;34m.\u001b[0m\u001b[0maddMember\u001b[0m\u001b[0;34m(\u001b[0m\u001b[0mMember\u001b[0m\u001b[0;34m(\u001b[0m\u001b[0;34m'hee8462'\u001b[0m\u001b[0;34m,\u001b[0m \u001b[0;34m'1234'\u001b[0m\u001b[0;34m)\u001b[0m\u001b[0;34m)\u001b[0m\u001b[0;34m\u001b[0m\u001b[0;34m\u001b[0m\u001b[0m\n",
      "\u001b[0;31mTypeError\u001b[0m: addMember() missing 1 required positional argument: 'm'"
     ]
    }
   ],
   "source": [
    "# 메인코드\n",
    "m = MemberManage\n",
    "m.addMember(Member('hee8460', '1234'))\n",
    "m.addMember(Member('hee8461', '1234'))\n",
    "m.addMember(Member('hee8462', '1234'))\n",
    "\n",
    "m.pirntMember()\n"
   ]
  },
  {
   "cell_type": "code",
   "execution_count": 194,
   "id": "db964687",
   "metadata": {},
   "outputs": [
    {
     "name": "stdout",
     "output_type": "stream",
     "text": [
      "<class '__main__.MemberManage'>\n"
     ]
    }
   ],
   "source": []
  },
  {
   "cell_type": "code",
   "execution_count": null,
   "id": "216f6a28",
   "metadata": {},
   "outputs": [],
   "source": []
  }
 ],
 "metadata": {
  "kernelspec": {
   "display_name": "Python 3 (ipykernel)",
   "language": "python",
   "name": "python3"
  },
  "language_info": {
   "codemirror_mode": {
    "name": "ipython",
    "version": 3
   },
   "file_extension": ".py",
   "mimetype": "text/x-python",
   "name": "python",
   "nbconvert_exporter": "python",
   "pygments_lexer": "ipython3",
   "version": "3.9.7"
  }
 },
 "nbformat": 4,
 "nbformat_minor": 5
}
