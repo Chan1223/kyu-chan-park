{
 "cells": [
  {
   "cell_type": "markdown",
   "id": "5a5eceb5",
   "metadata": {},
   "source": [
    "## 기말 모의 문제\n",
    "\n",
    "대학교에서 개설되는 두 유형의 교과목을 모델링하려고 한다. 교과목은 문자 학점 교 과목과 00 교과목으로 나누어진다.\n",
    "- 문자 학점 교과목은 A, B, C, D, F 학점을 부여한다.\n",
    "\n",
    "<처리조건>\n",
    "#### 1. 교과목 모델하는 Course 클래스를 작성하시오.\n",
    "1. 모든 교과목은 이름, 출석 점수를 가진다.\n",
    "2. 교과목의 이름을 주어진 값으로 초기화하면 Course 객체를 생성할 수 있어야 한다. \n",
    "3. 교과목의 이름과 출석 점수를 한꺼번에 알려주어야 한다.\n",
    "4. 교과목의 이름과 출석점수를 각각 주어진 값으로 변경할 수 있어야 한다.\n",
    "5. 교과목의 학점인 “I”를 반환해야 한다."
   ]
  },
  {
   "cell_type": "code",
   "execution_count": 71,
   "id": "02eb165c",
   "metadata": {},
   "outputs": [],
   "source": [
    "# 교과목 모델 Course 클래스\n",
    "class Course:\n",
    "    UNDERGRADUATE='재학생' # 재학생\n",
    "    POSTGRADUATE='졸업생' # 졸업생\n",
    "    \n",
    "    # 기본 생성자 설정, \n",
    "    def __init__(self, courseName):\n",
    "        self.courseName = courseName\n",
    "        Course.cnt = Course.cnt +1\n",
    "    \n",
    "    # attendance 설정 \n",
    "    def setAttendanceScore(self, newAttendScore):\n",
    "        self.attendScore = newAttendScore\n",
    "\n",
    "    # attendance 출력\n",
    "    def getAttendScore(self):\n",
    "        return self.attendScore\n",
    "\n",
    "    # 교과목 이름 반환\n",
    "    def getCourseName(self):\n",
    "        return self.courseName\n",
    "        \n",
    "    # 교과목 이름 변경하기\n",
    "    def setCourseName(self, newCourseName):\n",
    "        self.courseName = newCourseName\n",
    "    \n",
    "    def getGrade(self):\n",
    "        return 'i'\n",
    "    \n",
    "    def __str__(self):\n",
    "        result = f'교과목 이름: {self.courseName}, 출석점수 : {self.attendScore}'\n",
    "        return result"
   ]
  },
  {
   "cell_type": "code",
   "execution_count": 72,
   "id": "d95a0d2e",
   "metadata": {},
   "outputs": [],
   "source": [
    "a = Course('math')"
   ]
  },
  {
   "cell_type": "code",
   "execution_count": 73,
   "id": "dd5cd759",
   "metadata": {},
   "outputs": [],
   "source": [
    "a.setAttendanceScore(60)"
   ]
  },
  {
   "cell_type": "code",
   "execution_count": 74,
   "id": "cbf27250",
   "metadata": {},
   "outputs": [],
   "source": [
    "a.setCourseName('music')"
   ]
  },
  {
   "cell_type": "code",
   "execution_count": 75,
   "id": "38e89c43",
   "metadata": {},
   "outputs": [
    {
     "data": {
      "text/plain": [
       "'music'"
      ]
     },
     "execution_count": 75,
     "metadata": {},
     "output_type": "execute_result"
    }
   ],
   "source": [
    "a.getCourseName()"
   ]
  },
  {
   "cell_type": "code",
   "execution_count": 76,
   "id": "f53a201a",
   "metadata": {},
   "outputs": [
    {
     "data": {
      "text/plain": [
       "60"
      ]
     },
     "execution_count": 76,
     "metadata": {},
     "output_type": "execute_result"
    }
   ],
   "source": [
    "a.getAttendScore()"
   ]
  },
  {
   "cell_type": "code",
   "execution_count": 77,
   "id": "2fcebd3b",
   "metadata": {},
   "outputs": [
    {
     "name": "stdout",
     "output_type": "stream",
     "text": [
      "교과목 이름: music, 출석점수 : 60\n"
     ]
    }
   ],
   "source": [
    "print(a)"
   ]
  },
  {
   "cell_type": "code",
   "execution_count": 78,
   "id": "3812774e",
   "metadata": {},
   "outputs": [
    {
     "data": {
      "text/plain": [
       "'i'"
      ]
     },
     "execution_count": 78,
     "metadata": {},
     "output_type": "execute_result"
    }
   ],
   "source": [
    "a.getGrade()"
   ]
  },
  {
   "cell_type": "markdown",
   "id": "f40cc441",
   "metadata": {},
   "source": [
    "#### 2. 문자 학점 교과목을 모델하는 LetterGradeCourse라는 클래스를 작성하시오.\n",
    "1. 문자 학점 교과목은 추가적으로 과제 점수와 시험 점수를 가진다.\n",
    "2. 문자 학점 교과목의 이름을 주어진 값으로 초기화하고 출석점수, 과제점수, 시험 점수를 0 으로 초기화하면서 LetterGradeCourse 객체를 생성할 수 있어야 한다.\n",
    "3. 문자 학점 교과목의 과제 점수와 시험 점수를 각각 주어진 값으로 변경할 수 있어야 한다. \n",
    "4. 문자 학점 교과목의 모든 데이터를 알려 주어야 한다.\n",
    "5. 문자 학점 교과목의 총점을 계산하여 반환해야 한다.\n",
    "6. 총점에 출석 점수, 과제 점수, 시험 점수의 반영률은 각각 20%, 30%, 50%이다.\n",
    "7. 문자 학점 교과목의 학점을 반환해야 한다. 문자 학점 교과목의 총점에 기초한 학점 부여 기준은 다음과 같다.\n",
    "- 총점이 90점 이상이면 학점은 A이다.\n",
    "- 총점이 80점 이상이고 90점 미만이면 학점은 B이다.\n",
    "- 총점이 70점 이상이고 80점 미만이면 학점은 C이다.\n",
    "- 총점이 60점 이상이고 70점 미만이면 학점은 D이다.\n",
    "- 총점이 60점 미만이면 학점은 F이다."
   ]
  },
  {
   "cell_type": "code",
   "execution_count": 79,
   "id": "99427ee0",
   "metadata": {},
   "outputs": [],
   "source": [
    "# 문자 학점 교과목을 모델하는 LetterGradeCourse\n",
    "class LetterGradeCourse(Course):\n",
    "    \n",
    "    # 기본 생성자 설정\n",
    "    def __init__(self, cname):\n",
    "        super().__init__(cname)\n",
    "        self.attendScore = 0\n",
    "        self.assignScore = 0\n",
    "        self.examScore = 0\n",
    "    \n",
    "    def getAssignScore(self):\n",
    "        return self.assignScore\n",
    "    \n",
    "    def getExamScore(self):\n",
    "        return self.examScore\n",
    "            \n",
    "        \n",
    "    def setAssignScore(self, newAssignScore):\n",
    "        self.assignScore = newAssignScore\n",
    "        \n",
    "    def setExamScore(self, newExamScore):\n",
    "        self.examScore = newExamScore\n",
    "    \n",
    "    def getTotal(self):\n",
    "        total = self.attendScore * 0.2 + self.assignScore * 0.3 + self.examScore * 0.5\n",
    "        return total\n",
    "        \n",
    "    def getGrade(self):\n",
    "        score = self.getTotal()\n",
    "        if score >= 90:\n",
    "            letterGrade = 'A'\n",
    "        elif score >= 80:\n",
    "            letterGrade = 'B'\n",
    "        elif score >= 70:\n",
    "            letterGrade = 'C'\n",
    "        elif score >= 60:\n",
    "            letterGrade = 'D'\n",
    "        else :\n",
    "            letterGrade = 'F'\n",
    "        return letterGrade\n",
    "        \n",
    "    def __str__(self):\n",
    "        result = f'{super().__str__()}, 과제점수 : {self.assignScore}, 시험점수 : {self.examScore}'\n",
    "        return result"
   ]
  },
  {
   "cell_type": "code",
   "execution_count": 80,
   "id": "3c2e5727",
   "metadata": {},
   "outputs": [],
   "source": [
    "b = LetterGradeCourse('music')"
   ]
  },
  {
   "cell_type": "code",
   "execution_count": 81,
   "id": "03976201",
   "metadata": {},
   "outputs": [
    {
     "name": "stdout",
     "output_type": "stream",
     "text": [
      "교과목 이름: music, 출석점수 : 0, 과제점수 : 0, 시험점수 : 0\n"
     ]
    }
   ],
   "source": [
    "print(b)"
   ]
  },
  {
   "cell_type": "code",
   "execution_count": 82,
   "id": "4ed56f87",
   "metadata": {},
   "outputs": [
    {
     "name": "stdout",
     "output_type": "stream",
     "text": [
      "교과목 이름: Math, 출석점수 : 0, 과제점수 : 0, 시험점수 : 0\n"
     ]
    }
   ],
   "source": [
    "b.setCourseName('Math')\n",
    "print(b)"
   ]
  },
  {
   "cell_type": "code",
   "execution_count": 83,
   "id": "7fa30054",
   "metadata": {},
   "outputs": [
    {
     "name": "stdout",
     "output_type": "stream",
     "text": [
      "교과목 이름: Math, 출석점수 : 0, 과제점수 : 86, 시험점수 : 0\n"
     ]
    }
   ],
   "source": [
    "b.setAssignScore(86)\n",
    "print(b)"
   ]
  },
  {
   "cell_type": "code",
   "execution_count": 84,
   "id": "765f7fd0",
   "metadata": {},
   "outputs": [
    {
     "name": "stdout",
     "output_type": "stream",
     "text": [
      "교과목 이름: Math, 출석점수 : 75, 과제점수 : 86, 시험점수 : 0\n"
     ]
    }
   ],
   "source": [
    "b.setAttendanceScore(75)\n",
    "print(b)"
   ]
  },
  {
   "cell_type": "code",
   "execution_count": 85,
   "id": "55821fcf",
   "metadata": {},
   "outputs": [
    {
     "name": "stdout",
     "output_type": "stream",
     "text": [
      "교과목 이름: Math, 출석점수 : 75, 과제점수 : 86, 시험점수 : 95\n"
     ]
    }
   ],
   "source": [
    "b.setExamScore(95)\n",
    "print(b)"
   ]
  },
  {
   "cell_type": "code",
   "execution_count": 86,
   "id": "239d21be",
   "metadata": {},
   "outputs": [
    {
     "data": {
      "text/plain": [
       "88.3"
      ]
     },
     "execution_count": 86,
     "metadata": {},
     "output_type": "execute_result"
    }
   ],
   "source": [
    "b.getTotal()"
   ]
  },
  {
   "cell_type": "code",
   "execution_count": 87,
   "id": "c6aa2440",
   "metadata": {},
   "outputs": [
    {
     "data": {
      "text/plain": [
       "'B'"
      ]
     },
     "execution_count": 87,
     "metadata": {},
     "output_type": "execute_result"
    }
   ],
   "source": [
    "b.getGrade()"
   ]
  },
  {
   "cell_type": "markdown",
   "id": "1b0dbec5",
   "metadata": {},
   "source": [
    "### 3. 1번, 2번에서 작성한 클래스를 시험하는 CourseDriver 클래스를 작성하시오.\n",
    "이 클래스에서 해야 될 일은 다음과 같다.\n",
    "1. LectureGradeCourse 객체를 생성한다.\n",
    "2. 객체의 출석 점수, 과제 점수, 시험 점수를 입력한다. \n",
    "3. 객체의 모든 데이터를 출력한다.\n",
    "4. 생성한 객체의 학점을 부여한 후 출력한다."
   ]
  },
  {
   "cell_type": "code",
   "execution_count": 88,
   "id": "e99e5189",
   "metadata": {},
   "outputs": [
    {
     "name": "stdout",
     "output_type": "stream",
     "text": [
      "교과목 이름: 중급프로그래밍, 출석점수 : 100, 과제점수 : 100, 시험점수 : 90\n",
      "A\n"
     ]
    }
   ],
   "source": [
    "courseOne = LetterGradeCourse('중급프로그래밍')\n",
    "courseOne.setAssignScore(100)\n",
    "courseOne.setExamScore(90)\n",
    "courseOne.setAttendanceScore(100)\n",
    "print(courseOne)\n",
    "print(courseOne.getGrade())"
   ]
  },
  {
   "cell_type": "code",
   "execution_count": null,
   "id": "2ef88768",
   "metadata": {},
   "outputs": [],
   "source": []
  },
  {
   "cell_type": "code",
   "execution_count": null,
   "id": "2b4aa47b",
   "metadata": {},
   "outputs": [],
   "source": []
  },
  {
   "cell_type": "code",
   "execution_count": null,
   "id": "5cb11647",
   "metadata": {},
   "outputs": [],
   "source": []
  }
 ],
 "metadata": {
  "kernelspec": {
   "display_name": "Python 3 (ipykernel)",
   "language": "python",
   "name": "python3"
  },
  "language_info": {
   "codemirror_mode": {
    "name": "ipython",
    "version": 3
   },
   "file_extension": ".py",
   "mimetype": "text/x-python",
   "name": "python",
   "nbconvert_exporter": "python",
   "pygments_lexer": "ipython3",
   "version": "3.9.7"
  }
 },
 "nbformat": 4,
 "nbformat_minor": 5
}
