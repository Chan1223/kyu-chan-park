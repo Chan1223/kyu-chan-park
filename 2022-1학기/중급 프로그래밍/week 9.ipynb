{
 "cells": [
  {
   "cell_type": "code",
   "execution_count": 1,
   "id": "040eb689",
   "metadata": {},
   "outputs": [
    {
     "name": "stdout",
     "output_type": "stream",
     "text": [
      "10\n",
      "30\n",
      "30\n",
      "70\n"
     ]
    }
   ],
   "source": [
    "# 계산기 프로그램\n",
    "def add1(num):\n",
    "    global result1\n",
    "    result1 += num\n",
    "    return result1\n",
    "\n",
    "def add2(num):\n",
    "    global result2\n",
    "    result2 += num\n",
    "    return result2\n",
    "\n",
    "\n",
    "\n",
    "result1, result2 = 0, 0\n",
    "print(add1(10))\n",
    "print(add1(20))\n",
    "print(add2(30))\n",
    "print(add2(40))"
   ]
  },
  {
   "cell_type": "code",
   "execution_count": 2,
   "id": "026ef587",
   "metadata": {},
   "outputs": [
    {
     "name": "stdout",
     "output_type": "stream",
     "text": [
      "10\n",
      "30\n",
      "30\n",
      "70\n"
     ]
    }
   ],
   "source": [
    "class Calc:\n",
    "    def __init__(self):\n",
    "        self.result=0\n",
    "    def add(self,num):\n",
    "        self.result += num\n",
    "        return self.result\n",
    "cal1 = Calc()\n",
    "cal2 = Calc()\n",
    "print(cal1.add(10))\n",
    "print(cal1.add(20))\n",
    "print(cal2.add(30))\n",
    "print(cal2.add(40))"
   ]
  },
  {
   "cell_type": "code",
   "execution_count": 3,
   "id": "d75d9c7e",
   "metadata": {},
   "outputs": [
    {
     "name": "stdout",
     "output_type": "stream",
     "text": [
      "이름: 나행복\n"
     ]
    }
   ],
   "source": [
    "class Person:\n",
    "    def setname(self,n):\n",
    "        self.name = n\n",
    "    def show(self):\n",
    "        print(f'이름: {self.name}')\n",
    "        \n",
    "p1=Person()\n",
    "p1.setname('나행복')\n",
    "p1.show()"
   ]
  },
  {
   "cell_type": "markdown",
   "id": "cbd91d16",
   "metadata": {},
   "source": [
    "### 도전문제 1: 자동차 클래스 정의 및 객체 활용"
   ]
  },
  {
   "cell_type": "code",
   "execution_count": 4,
   "id": "462dc155",
   "metadata": {},
   "outputs": [],
   "source": [
    "# 1. 자동차 객체 정의\n",
    "class Car:\n",
    "    def __init__(self,color,speed):\n",
    "        self.color = color\n",
    "        self.speed = speed\n",
    "        \n",
    "    \n",
    "    def upSpeed(self,value):\n",
    "        self.speed += value\n",
    "        return self.speed\n",
    "    \n",
    "    def downSpeed(self,value):\n",
    "        self.speed -= value\n",
    "        return self.speed        "
   ]
  },
  {
   "cell_type": "code",
   "execution_count": 5,
   "id": "1a6e8f75",
   "metadata": {},
   "outputs": [
    {
     "name": "stdout",
     "output_type": "stream",
     "text": [
      "car1의 속성 : blue, 50\n",
      "car2의 속성 : red, 130\n"
     ]
    }
   ],
   "source": [
    "# 2. car1, car2 객체를 만들고 객체의 정보를 출력한다.\n",
    "car1 = Car('blue', 50)\n",
    "car2 = Car('red', 130)\n",
    "print(f'car1의 속성 : {car1.color}, {car1.speed}')\n",
    "print(f'car2의 속성 : {car2.color}, {car2.speed}')"
   ]
  },
  {
   "cell_type": "code",
   "execution_count": 6,
   "id": "ed102ce6",
   "metadata": {},
   "outputs": [
    {
     "name": "stdout",
     "output_type": "stream",
     "text": [
      "car1의 속성 : green, 80\n",
      "car2의 속성 : orange, 80\n"
     ]
    }
   ],
   "source": [
    "# 3. car1, car2 객체의 속성을 변경하고 객체의 정보를 출력한다.\n",
    "\n",
    "# car1의 속성 변경\n",
    "car1.upSpeed(30)\n",
    "car1.color = 'green'\n",
    "\n",
    "# car2의 속성 변경\n",
    "car2.downSpeed(50)\n",
    "car2.color = 'orange'\n",
    "\n",
    "# 바뀐 객체 정보 출력\n",
    "print(f'car1의 속성 : {car1.color}, {car1.speed}')\n",
    "print(f'car2의 속성 : {car2.color}, {car2.speed}')"
   ]
  },
  {
   "cell_type": "markdown",
   "id": "6099c878",
   "metadata": {},
   "source": [
    "#### 도전문제 2 : 학생 성적 관리 프로그램"
   ]
  },
  {
   "cell_type": "code",
   "execution_count": 49,
   "id": "42ad2df5",
   "metadata": {},
   "outputs": [],
   "source": [
    "class StudentScore:\n",
    "    def __init__(self, name, kor, eng, math): #생성자 정의\n",
    "        self.name = name\n",
    "        self.kor = kor\n",
    "        self.eng = eng\n",
    "        self.math = math\n",
    "    \n",
    "    def getSum(self): #합계기능\n",
    "        result = self.kor + self.eng + self.math\n",
    "        return result\n",
    "\n",
    "    def getAvg(self): #평균기능\n",
    "        avg = self.getSum()/3\n",
    "        return avg\n",
    "    \n",
    "    def getGrade(self): #학점기능\n",
    "        avg = self.getAvg()\n",
    "        if avg >= 90:\n",
    "            grade = 'A'\n",
    "        elif avg >= 80:\n",
    "            grade = 'B'\n",
    "        elif avg >= 70:\n",
    "            grade = 'C'\n",
    "        elif avg >= 60:\n",
    "            grade = 'D'\n",
    "        else : \n",
    "            grade = 'F'\n",
    "        return grade\n",
    "    \n",
    "    def __str__(self): # 전체출력\n",
    "        return f'{self.name} 학생의 성적은 국어:{self.kor}, 영어:{self.eng}, 수학:{self.math} 입니다. \\n총 점수 합계는 {self.getSum()}, 평균은 {self.getAvg()}, 학점은 {self.getGrade()} 입니다.'\n",
    "        \n",
    "\n",
    "        "
   ]
  },
  {
   "cell_type": "code",
   "execution_count": 50,
   "id": "9a64b3bd",
   "metadata": {},
   "outputs": [],
   "source": [
    "test1 = StudentScore('박규찬', 100, 80, 95)"
   ]
  },
  {
   "cell_type": "code",
   "execution_count": 51,
   "id": "842ef151",
   "metadata": {},
   "outputs": [
    {
     "data": {
      "text/plain": [
       "<__main__.StudentScore at 0x7fafe07c2be0>"
      ]
     },
     "execution_count": 51,
     "metadata": {},
     "output_type": "execute_result"
    }
   ],
   "source": [
    "test1"
   ]
  },
  {
   "cell_type": "code",
   "execution_count": 52,
   "id": "42cde42b",
   "metadata": {},
   "outputs": [
    {
     "data": {
      "text/plain": [
       "275"
      ]
     },
     "execution_count": 52,
     "metadata": {},
     "output_type": "execute_result"
    }
   ],
   "source": [
    "test1.getSum()"
   ]
  },
  {
   "cell_type": "code",
   "execution_count": 53,
   "id": "b89cc2c9",
   "metadata": {},
   "outputs": [
    {
     "data": {
      "text/plain": [
       "91.66666666666667"
      ]
     },
     "execution_count": 53,
     "metadata": {},
     "output_type": "execute_result"
    }
   ],
   "source": [
    "test1.getAvg()"
   ]
  },
  {
   "cell_type": "code",
   "execution_count": 54,
   "id": "fe28c4cc",
   "metadata": {},
   "outputs": [
    {
     "data": {
      "text/plain": [
       "'A'"
      ]
     },
     "execution_count": 54,
     "metadata": {},
     "output_type": "execute_result"
    }
   ],
   "source": [
    "test1.getGrade()"
   ]
  },
  {
   "cell_type": "code",
   "execution_count": 55,
   "id": "9eb18c45",
   "metadata": {},
   "outputs": [
    {
     "name": "stdout",
     "output_type": "stream",
     "text": [
      "박규찬 학생의 성적은 국어:100, 영어:80, 수학:95 입니다. \n",
      "총 점수 합계는 275, 평균은 91.66666666666667, 학점은 A 입니다.\n"
     ]
    }
   ],
   "source": [
    "print(test1)"
   ]
  },
  {
   "cell_type": "code",
   "execution_count": null,
   "id": "abd98264",
   "metadata": {},
   "outputs": [],
   "source": []
  },
  {
   "cell_type": "code",
   "execution_count": null,
   "id": "680a7c21",
   "metadata": {},
   "outputs": [],
   "source": []
  }
 ],
 "metadata": {
  "kernelspec": {
   "display_name": "Python 3 (ipykernel)",
   "language": "python",
   "name": "python3"
  },
  "language_info": {
   "codemirror_mode": {
    "name": "ipython",
    "version": 3
   },
   "file_extension": ".py",
   "mimetype": "text/x-python",
   "name": "python",
   "nbconvert_exporter": "python",
   "pygments_lexer": "ipython3",
   "version": "3.9.7"
  }
 },
 "nbformat": 4,
 "nbformat_minor": 5
}
