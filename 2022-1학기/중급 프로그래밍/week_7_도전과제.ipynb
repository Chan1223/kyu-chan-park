{
 "cells": [
  {
   "cell_type": "markdown",
   "id": "12aec526",
   "metadata": {
    "id": "12aec526"
   },
   "source": [
    "### review : 함수 정의와 호출"
   ]
  },
  {
   "cell_type": "code",
   "execution_count": null,
   "id": "f5607bf4",
   "metadata": {
    "id": "f5607bf4"
   },
   "outputs": [],
   "source": [
    "import random"
   ]
  },
  {
   "cell_type": "markdown",
   "id": "565a9674",
   "metadata": {
    "id": "565a9674"
   },
   "source": [
    "#### for 문 사용"
   ]
  },
  {
   "cell_type": "code",
   "execution_count": null,
   "id": "24dc35aa",
   "metadata": {
    "id": "24dc35aa"
   },
   "outputs": [],
   "source": [
    "# while 사용\n",
    "import random\n",
    "\n",
    "def getNum(num):\n",
    "    lotto = []\n",
    "\n",
    "    for i in range(num):\n",
    "        temp = []\n",
    "        for j in range(6):\n",
    "            temp.append(random.randint(1,45))\n",
    "        lotto.append(temp)\n",
    "\n",
    "    return lotto"
   ]
  },
  {
   "cell_type": "code",
   "execution_count": null,
   "id": "f2ec2dfc",
   "metadata": {
    "id": "f2ec2dfc",
    "outputId": "835aca85-92c1-4a4d-fa49-b8e96cf2c406"
   },
   "outputs": [
    {
     "data": {
      "text/plain": [
       "[[25, 10, 4, 41, 20, 11],\n",
       " [37, 27, 45, 17, 38, 5],\n",
       " [3, 16, 44, 44, 40, 22],\n",
       " [19, 12, 22, 6, 17, 31],\n",
       " [13, 21, 20, 27, 4, 21],\n",
       " [15, 7, 15, 32, 36, 11]]"
      ]
     },
     "execution_count": 26,
     "metadata": {},
     "output_type": "execute_result"
    }
   ],
   "source": [
    "getNum(6)"
   ]
  },
  {
   "cell_type": "markdown",
   "id": "245bd746",
   "metadata": {
    "id": "245bd746"
   },
   "source": [
    "#### while 문 사용"
   ]
  },
  {
   "cell_type": "code",
   "execution_count": null,
   "id": "51cfa3b3",
   "metadata": {
    "id": "51cfa3b3"
   },
   "outputs": [],
   "source": [
    "\n",
    "import random\n",
    "\n",
    "def getNum(num):\n",
    "    lotto = []\n",
    "    n = 1\n",
    "    \n",
    "    while n <= num:\n",
    "        temp = []\n",
    "        for j in range(6):\n",
    "            temp.append(random.randint(1,45))\n",
    "        lotto.append(temp)\n",
    "        n += 1\n",
    "\n",
    "    return lotto"
   ]
  },
  {
   "cell_type": "code",
   "execution_count": null,
   "id": "1de76911",
   "metadata": {
    "id": "1de76911",
    "outputId": "8f3dbc9d-e7cf-4f89-dc11-d9d06f7e4b0c"
   },
   "outputs": [
    {
     "data": {
      "text/plain": [
       "[[7, 7, 31, 10, 42, 24],\n",
       " [26, 11, 44, 43, 22, 29],\n",
       " [40, 24, 11, 15, 12, 8],\n",
       " [21, 17, 38, 36, 16, 37],\n",
       " [34, 28, 30, 43, 21, 23]]"
      ]
     },
     "execution_count": 28,
     "metadata": {},
     "output_type": "execute_result"
    }
   ],
   "source": [
    "getNum(5)"
   ]
  },
  {
   "cell_type": "markdown",
   "id": "zwbFJlD_-xKR",
   "metadata": {
    "id": "zwbFJlD_-xKR"
   },
   "source": [
    "#### while 문 사용 ver2"
   ]
  },
  {
   "cell_type": "code",
   "execution_count": null,
   "id": "def86e8b",
   "metadata": {
    "colab": {
     "base_uri": "https://localhost:8080/"
    },
    "id": "def86e8b",
    "outputId": "09502afe-eee5-421a-c068-1a17777530d3"
   },
   "outputs": [
    {
     "name": "stdout",
     "output_type": "stream",
     "text": [
      "[31, 6, 21, 39, 23, 10]\n"
     ]
    }
   ],
   "source": [
    "# 함수 정의\n",
    "def getNum(): \n",
    "    return random.randint(1,45)\n",
    "\n",
    "# main code\n",
    "lotto = []\n",
    "n = 0\n",
    "while n <= 5:\n",
    "    lotto.append(getNum())\n",
    "    n += 1  \n",
    "    ``\n",
    "print(lotto)"
   ]
  },
  {
   "cell_type": "markdown",
   "id": "zteTcSCu_o7O",
   "metadata": {
    "id": "zteTcSCu_o7O"
   },
   "source": [
    "#### while 문 사용(bonus number)"
   ]
  },
  {
   "cell_type": "code",
   "execution_count": null,
   "id": "8pTcC0yx_oab",
   "metadata": {
    "colab": {
     "base_uri": "https://localhost:8080/"
    },
    "id": "8pTcC0yx_oab",
    "outputId": "f7102a4e-896e-4ab6-dcaf-4dda9640a1c3"
   },
   "outputs": [
    {
     "name": "stdout",
     "output_type": "stream",
     "text": [
      "로또 번호 : [5, 36, 2, 42, 41, 7] \n",
      "보너스 번호 : 21\n"
     ]
    }
   ],
   "source": [
    "# 함수 정의\n",
    "def getNum(): \n",
    "    return random.randint(1,45)\n",
    "\n",
    "# main code\n",
    "lotto = []\n",
    "n = 0\n",
    "while n <= 6:\n",
    "    lotto.append(getNum())\n",
    "    n += 1  \n",
    "\n",
    "lotto_num = sorted(lotto[:6])\n",
    "bonus_num = lotto[-1]    \n",
    "\n",
    "print(f'로또 번호 : {lotto[:6]} ')\n",
    "print(f'보너스 번호 : {lotto[-1]}')"
   ]
  },
  {
   "cell_type": "markdown",
   "id": "jd9crvJ9DX9I",
   "metadata": {
    "id": "jd9crvJ9DX9I"
   },
   "source": [
    "### 파일 입출력"
   ]
  },
  {
   "cell_type": "markdown",
   "id": "G-MSDQdLDgID",
   "metadata": {
    "id": "G-MSDQdLDgID"
   },
   "source": [
    "## 파일 입력함수\n",
    "* read()\n",
    "* readline()\n",
    "* readlines()"
   ]
  },
  {
   "cell_type": "code",
   "execution_count": 60,
   "id": "129db619",
   "metadata": {},
   "outputs": [
    {
     "name": "stdout",
     "output_type": "stream",
     "text": [
      "홍길동\n",
      "홍이동\n",
      "홍삼동\n",
      "\n"
     ]
    }
   ],
   "source": [
    "with open('/Users/chan/Desktop/jupyter/name.txt') as f:\n",
    "    print(f.read())\n",
    "    f.close()"
   ]
  },
  {
   "cell_type": "code",
   "execution_count": 186,
   "id": "gukoibmsDZ62",
   "metadata": {
    "colab": {
     "base_uri": "https://localhost:8080/"
    },
    "id": "gukoibmsDZ62",
    "outputId": "1fb2e8c9-60a9-4239-8836-2a9c3b27e630"
   },
   "outputs": [
    {
     "name": "stdout",
     "output_type": "stream",
     "text": [
      "홍길동 \n",
      "홍이동 \n",
      "홍삼동 \n",
      "홍사동 \n",
      "\n"
     ]
    }
   ],
   "source": [
    "# 파일열기\n",
    "filename = '/Users/chan/Desktop/jupyter/name.txt'\n",
    "f = open(filename, encoding='UTF8')\n",
    "# 파일처리\n",
    "print(f.read())\n",
    "# 파일 닫기\n",
    "f.close()"
   ]
  },
  {
   "cell_type": "code",
   "execution_count": 187,
   "id": "Kd3StXcCDxMw",
   "metadata": {
    "colab": {
     "base_uri": "https://localhost:8080/"
    },
    "id": "Kd3StXcCDxMw",
    "outputId": "04266295-c23f-4fd9-83cf-2be108427d91"
   },
   "outputs": [
    {
     "name": "stdout",
     "output_type": "stream",
     "text": [
      "홍길동 \n",
      "홍이동 \n",
      "홍삼동 \n",
      "홍사동 \n"
     ]
    }
   ],
   "source": [
    "# readline()\n",
    "filename = '/Users/chan/Desktop/jupyter/name.txt'\n",
    "f = open(filename, encoding='utf8')\n",
    "while True :\n",
    "    data = f.readline()\n",
    "    if data == '':break # if not data 사용 가능\n",
    "    print(data, end='')\n",
    "f.close()"
   ]
  },
  {
   "cell_type": "code",
   "execution_count": 188,
   "id": "Gi9NjoqxHYu8",
   "metadata": {
    "colab": {
     "base_uri": "https://localhost:8080/"
    },
    "id": "Gi9NjoqxHYu8",
    "outputId": "886a5281-4dd2-4a2f-b322-4bcb54dcf023"
   },
   "outputs": [
    {
     "name": "stdout",
     "output_type": "stream",
     "text": [
      "['홍길동 \\n', '홍이동 \\n', '홍삼동 \\n', '홍사동 \\n']\n"
     ]
    }
   ],
   "source": [
    "# readlines()\n",
    "f = open(filename, encoding='utf8')\n",
    "data = f.readlines()\n",
    "print(data)\n",
    "f.close()"
   ]
  },
  {
   "cell_type": "code",
   "execution_count": 189,
   "id": "UGzDbbjdIEgl",
   "metadata": {
    "colab": {
     "base_uri": "https://localhost:8080/"
    },
    "id": "UGzDbbjdIEgl",
    "outputId": "3d5e64b3-f111-4e13-9785-6ddcd4a6e78b"
   },
   "outputs": [
    {
     "name": "stdout",
     "output_type": "stream",
     "text": [
      "홍길동 \n",
      "홍이동 \n",
      "홍삼동 \n",
      "홍사동 \n"
     ]
    }
   ],
   "source": [
    "# rstrip 활용\n",
    "f = open(filename, encoding='utf8')\n",
    "for line in data:\n",
    "    print(line.rstrip('\\n'))\n",
    "f.close()"
   ]
  },
  {
   "cell_type": "markdown",
   "id": "YitDnFrCIuiB",
   "metadata": {
    "id": "YitDnFrCIuiB"
   },
   "source": [
    "## 파일 쓰기\n",
    "* write()\n",
    "* writelines()"
   ]
  },
  {
   "cell_type": "code",
   "execution_count": 101,
   "id": "OT18Xm-yIooQ",
   "metadata": {
    "colab": {
     "base_uri": "https://localhost:8080/"
    },
    "id": "OT18Xm-yIooQ",
    "outputId": "e76c75f6-167b-4bac-9292-7987f819b3e5"
   },
   "outputs": [
    {
     "name": "stdout",
     "output_type": "stream",
     "text": [
      "name:홍사동\n"
     ]
    }
   ],
   "source": [
    "# w 모드 : 기존 파일 덮어쓰기\n",
    "# a 모드 : 추가 모드\n",
    "filename = '/Users/chan/Desktop/jupyter/name.txt'\n",
    "f = open(filename, 'a')\n",
    "name = input('name:')\n",
    "f.write(f\"{name} \\n\")\n",
    "\n",
    "f.close()"
   ]
  },
  {
   "cell_type": "markdown",
   "id": "3542ee00",
   "metadata": {},
   "source": [
    "### 실습예제 1 : 텍스트 파일의 내용을 읽어 와서 출력하기"
   ]
  },
  {
   "cell_type": "code",
   "execution_count": 191,
   "id": "wX18SKMjJ3Ck",
   "metadata": {
    "id": "wX18SKMjJ3Ck",
    "scrolled": true
   },
   "outputs": [
    {
     "name": "stdout",
     "output_type": "stream",
     "text": [
      "울 할머니 등에 업혀 살 때 들려오던 그 노래들\n",
      "아버지 술 한 잔 걸치시면 단골 레파토리\n",
      "오 오 올드해서 싫어 촌스러운 뻔한 멜로디\n",
      "역시 난 음악 센스 남달라 알앤비부터 힙합에 재즈까지\n",
      "근데 요즘 내가 점점 이상해 아빠랑 똑같아 술만 먹으면\n",
      "내가 이래도 되는지 불러본다 사랑은 얄미운 나비인가 봐\n",
      "울 어머니 에어로빅 반주곡 뻔한 리듬 촌스런 가사\n",
      "어김없이 직장 회식 마무리로는 트롯 떼창\n",
      "오 오 지겨워서 싫어 요즘 여기저기서 난리\n",
      "트롯 너는 내 스타일 아냐 나는 팝송과 샹송과 최신 가요\n",
      "근데 요즘 내가 점점 이상해 길 가다 흐르는 찰진 멜로디\n",
      "가슴이 터지게 불러본다 사랑은 얄미운 나비인가 봐\n",
      "근데 요즘 내가 점점 이상해 별것도 아닌데 눈물이 흘러\n",
      "하늘에 목놓아 꺾어본다 사랑은 얄미운 나비인가 봐\n"
     ]
    }
   ],
   "source": [
    "filename = '/Users/chan/Desktop/jupyter/trot.txt'\n",
    "f = open(filename, encoding = 'utf8')\n",
    "data = f.read()\n",
    "print(data)\n",
    "f.close()"
   ]
  },
  {
   "cell_type": "markdown",
   "id": "6cbcf240",
   "metadata": {},
   "source": [
    "### 실습예제 2 : 텍스트 파일의 내용을 읽어 와서 출력해보자.\n",
    "노래 가사에 포함된 단어의 빈도수를 딕셔너리에 저장 후 출력"
   ]
  },
  {
   "cell_type": "code",
   "execution_count": 192,
   "id": "c0631278",
   "metadata": {},
   "outputs": [
    {
     "data": {
      "text/plain": [
       "'울 할머니 등에 업혀 살 때 들려오던 그 노래들\\n아버지 술 한 잔 걸치시면 단골 레파토리\\n오 오 올드해서 싫어 촌스러운 뻔한 멜로디\\n역시 난 음악 센스 남달라 알앤비부터 힙합에 재즈까지\\n근데 요즘 내가 점점 이상해 아빠랑 똑같아 술만 먹으면\\n내가 이래도 되는지 불러본다 사랑은 얄미운 나비인가 봐\\n울 어머니 에어로빅 반주곡 뻔한 리듬 촌스런 가사\\n어김없이 직장 회식 마무리로는 트롯 떼창\\n오 오 지겨워서 싫어 요즘 여기저기서 난리\\n트롯 너는 내 스타일 아냐 나는 팝송과 샹송과 최신 가요\\n근데 요즘 내가 점점 이상해 길 가다 흐르는 찰진 멜로디\\n가슴이 터지게 불러본다 사랑은 얄미운 나비인가 봐\\n근데 요즘 내가 점점 이상해 별것도 아닌데 눈물이 흘러\\n하늘에 목놓아 꺾어본다 사랑은 얄미운 나비인가 봐'"
      ]
     },
     "execution_count": 192,
     "metadata": {},
     "output_type": "execute_result"
    }
   ],
   "source": [
    "# 데이터 확인\n",
    "data"
   ]
  },
  {
   "cell_type": "code",
   "execution_count": 204,
   "id": "ae4ab750",
   "metadata": {},
   "outputs": [
    {
     "data": {
      "text/plain": [
       "['울',\n",
       " '할머니',\n",
       " '등에',\n",
       " '업혀',\n",
       " '살',\n",
       " '때',\n",
       " '들려오던',\n",
       " '그',\n",
       " '노래들',\n",
       " '아버지',\n",
       " '술',\n",
       " '한',\n",
       " '잔',\n",
       " '걸치시면',\n",
       " '단골',\n",
       " '레파토리',\n",
       " '오',\n",
       " '오',\n",
       " '올드해서',\n",
       " '싫어',\n",
       " '촌스러운',\n",
       " '뻔한',\n",
       " '멜로디',\n",
       " '역시',\n",
       " '난',\n",
       " '음악',\n",
       " '센스',\n",
       " '남달라',\n",
       " '알앤비부터',\n",
       " '힙합에',\n",
       " '재즈까지',\n",
       " '근데',\n",
       " '요즘',\n",
       " '내가',\n",
       " '점점',\n",
       " '이상해',\n",
       " '아빠랑',\n",
       " '똑같아',\n",
       " '술만',\n",
       " '먹으면',\n",
       " '내가',\n",
       " '이래도',\n",
       " '되는지',\n",
       " '불러본다',\n",
       " '사랑은',\n",
       " '얄미운',\n",
       " '나비인가',\n",
       " '봐',\n",
       " '울',\n",
       " '어머니',\n",
       " '에어로빅',\n",
       " '반주곡',\n",
       " '뻔한',\n",
       " '리듬',\n",
       " '촌스런',\n",
       " '가사',\n",
       " '어김없이',\n",
       " '직장',\n",
       " '회식',\n",
       " '마무리로는',\n",
       " '트롯',\n",
       " '떼창',\n",
       " '오',\n",
       " '오',\n",
       " '지겨워서',\n",
       " '싫어',\n",
       " '요즘',\n",
       " '여기저기서',\n",
       " '난리',\n",
       " '트롯',\n",
       " '너는',\n",
       " '내',\n",
       " '스타일',\n",
       " '아냐',\n",
       " '나는',\n",
       " '팝송과',\n",
       " '샹송과',\n",
       " '최신',\n",
       " '가요',\n",
       " '근데',\n",
       " '요즘',\n",
       " '내가',\n",
       " '점점',\n",
       " '이상해',\n",
       " '길',\n",
       " '가다',\n",
       " '흐르는',\n",
       " '찰진',\n",
       " '멜로디',\n",
       " '가슴이',\n",
       " '터지게',\n",
       " '불러본다',\n",
       " '사랑은',\n",
       " '얄미운',\n",
       " '나비인가',\n",
       " '봐',\n",
       " '근데',\n",
       " '요즘',\n",
       " '내가',\n",
       " '점점',\n",
       " '이상해',\n",
       " '별것도',\n",
       " '아닌데',\n",
       " '눈물이',\n",
       " '흘러',\n",
       " '하늘에',\n",
       " '목놓아',\n",
       " '꺾어본다',\n",
       " '사랑은',\n",
       " '얄미운',\n",
       " '나비인가',\n",
       " '봐']"
      ]
     },
     "execution_count": 204,
     "metadata": {},
     "output_type": "execute_result"
    }
   ],
   "source": [
    "# split()으로 단어별로 분리 후 word에 담기, split()이 \\n까지 함께 제거해줌.\n",
    "word = data.split()\n",
    "word"
   ]
  },
  {
   "cell_type": "code",
   "execution_count": 208,
   "id": "3c7805c9",
   "metadata": {},
   "outputs": [],
   "source": [
    "# unique한 값을 찾기 위해 set 사용\n",
    "unique_list = list(set(word))"
   ]
  },
  {
   "cell_type": "code",
   "execution_count": 209,
   "id": "12ff003d",
   "metadata": {},
   "outputs": [],
   "source": [
    "# 빈 딕셔너리를 만들고 가사 속 unique 한 값으로 이루어진 딕셔너리 만들기\n",
    "word_list = {}\n",
    "for i in range(len(unique_list)):\n",
    "    word_list[unique_list[i]] = 0"
   ]
  },
  {
   "cell_type": "code",
   "execution_count": 210,
   "id": "c4c9c180",
   "metadata": {
    "scrolled": true
   },
   "outputs": [
    {
     "data": {
      "text/plain": [
       "{'똑같아': 0,\n",
       " '회식': 0,\n",
       " '에어로빅': 0,\n",
       " '찰진': 0,\n",
       " '아버지': 0,\n",
       " '하늘에': 0,\n",
       " '살': 0,\n",
       " '먹으면': 0,\n",
       " '가요': 0,\n",
       " '들려오던': 0,\n",
       " '아빠랑': 0,\n",
       " '등에': 0,\n",
       " '재즈까지': 0,\n",
       " '아냐': 0,\n",
       " '잔': 0,\n",
       " '떼창': 0,\n",
       " '얄미운': 0,\n",
       " '아닌데': 0,\n",
       " '센스': 0,\n",
       " '노래들': 0,\n",
       " '이래도': 0,\n",
       " '여기저기서': 0,\n",
       " '터지게': 0,\n",
       " '반주곡': 0,\n",
       " '마무리로는': 0,\n",
       " '눈물이': 0,\n",
       " '난': 0,\n",
       " '요즘': 0,\n",
       " '역시': 0,\n",
       " '너는': 0,\n",
       " '근데': 0,\n",
       " '이상해': 0,\n",
       " '흘러': 0,\n",
       " '가슴이': 0,\n",
       " '뻔한': 0,\n",
       " '어머니': 0,\n",
       " '걸치시면': 0,\n",
       " '길': 0,\n",
       " '샹송과': 0,\n",
       " '술': 0,\n",
       " '촌스런': 0,\n",
       " '내': 0,\n",
       " '싫어': 0,\n",
       " '불러본다': 0,\n",
       " '목놓아': 0,\n",
       " '때': 0,\n",
       " '트롯': 0,\n",
       " '스타일': 0,\n",
       " '음악': 0,\n",
       " '할머니': 0,\n",
       " '술만': 0,\n",
       " '난리': 0,\n",
       " '최신': 0,\n",
       " '올드해서': 0,\n",
       " '그': 0,\n",
       " '울': 0,\n",
       " '오': 0,\n",
       " '나는': 0,\n",
       " '업혀': 0,\n",
       " '가다': 0,\n",
       " '단골': 0,\n",
       " '어김없이': 0,\n",
       " '레파토리': 0,\n",
       " '촌스러운': 0,\n",
       " '팝송과': 0,\n",
       " '점점': 0,\n",
       " '한': 0,\n",
       " '알앤비부터': 0,\n",
       " '남달라': 0,\n",
       " '내가': 0,\n",
       " '되는지': 0,\n",
       " '지겨워서': 0,\n",
       " '사랑은': 0,\n",
       " '멜로디': 0,\n",
       " '직장': 0,\n",
       " '가사': 0,\n",
       " '별것도': 0,\n",
       " '나비인가': 0,\n",
       " '힙합에': 0,\n",
       " '흐르는': 0,\n",
       " '꺾어본다': 0,\n",
       " '봐': 0,\n",
       " '리듬': 0}"
      ]
     },
     "execution_count": 210,
     "metadata": {},
     "output_type": "execute_result"
    }
   ],
   "source": [
    "#data 확인\n",
    "word_list"
   ]
  },
  {
   "cell_type": "code",
   "execution_count": 212,
   "id": "411177e4",
   "metadata": {},
   "outputs": [],
   "source": [
    "#data1의 값이 dictionary의 키와 일치하면 값을 +1 시키기\n",
    "for i in range(len(word)):\n",
    "    if word[i] in word_list:\n",
    "        word_list[word[i]] += 1"
   ]
  },
  {
   "cell_type": "code",
   "execution_count": 214,
   "id": "13ca531b",
   "metadata": {},
   "outputs": [
    {
     "data": {
      "text/plain": [
       "{'똑같아': 1,\n",
       " '회식': 1,\n",
       " '에어로빅': 1,\n",
       " '찰진': 1,\n",
       " '아버지': 1,\n",
       " '하늘에': 1,\n",
       " '살': 1,\n",
       " '먹으면': 1,\n",
       " '가요': 1,\n",
       " '들려오던': 1,\n",
       " '아빠랑': 1,\n",
       " '등에': 1,\n",
       " '재즈까지': 1,\n",
       " '아냐': 1,\n",
       " '잔': 1,\n",
       " '떼창': 1,\n",
       " '얄미운': 3,\n",
       " '아닌데': 1,\n",
       " '센스': 1,\n",
       " '노래들': 1,\n",
       " '이래도': 1,\n",
       " '여기저기서': 1,\n",
       " '터지게': 1,\n",
       " '반주곡': 1,\n",
       " '마무리로는': 1,\n",
       " '눈물이': 1,\n",
       " '난': 1,\n",
       " '요즘': 4,\n",
       " '역시': 1,\n",
       " '너는': 1,\n",
       " '근데': 3,\n",
       " '이상해': 3,\n",
       " '흘러': 1,\n",
       " '가슴이': 1,\n",
       " '뻔한': 2,\n",
       " '어머니': 1,\n",
       " '걸치시면': 1,\n",
       " '길': 1,\n",
       " '샹송과': 1,\n",
       " '술': 1,\n",
       " '촌스런': 1,\n",
       " '내': 1,\n",
       " '싫어': 2,\n",
       " '불러본다': 2,\n",
       " '목놓아': 1,\n",
       " '때': 1,\n",
       " '트롯': 2,\n",
       " '스타일': 1,\n",
       " '음악': 1,\n",
       " '할머니': 1,\n",
       " '술만': 1,\n",
       " '난리': 1,\n",
       " '최신': 1,\n",
       " '올드해서': 1,\n",
       " '그': 1,\n",
       " '울': 2,\n",
       " '오': 4,\n",
       " '나는': 1,\n",
       " '업혀': 1,\n",
       " '가다': 1,\n",
       " '단골': 1,\n",
       " '어김없이': 1,\n",
       " '레파토리': 1,\n",
       " '촌스러운': 1,\n",
       " '팝송과': 1,\n",
       " '점점': 3,\n",
       " '한': 1,\n",
       " '알앤비부터': 1,\n",
       " '남달라': 1,\n",
       " '내가': 4,\n",
       " '되는지': 1,\n",
       " '지겨워서': 1,\n",
       " '사랑은': 3,\n",
       " '멜로디': 2,\n",
       " '직장': 1,\n",
       " '가사': 1,\n",
       " '별것도': 1,\n",
       " '나비인가': 3,\n",
       " '힙합에': 1,\n",
       " '흐르는': 1,\n",
       " '꺾어본다': 1,\n",
       " '봐': 3,\n",
       " '리듬': 1}"
      ]
     },
     "execution_count": 214,
     "metadata": {},
     "output_type": "execute_result"
    }
   ],
   "source": [
    "word_list"
   ]
  },
  {
   "cell_type": "code",
   "execution_count": 216,
   "id": "52427f5c",
   "metadata": {},
   "outputs": [
    {
     "data": {
      "text/plain": [
       "[('요즘', 4),\n",
       " ('오', 4),\n",
       " ('내가', 4),\n",
       " ('얄미운', 3),\n",
       " ('근데', 3),\n",
       " ('이상해', 3),\n",
       " ('점점', 3),\n",
       " ('사랑은', 3),\n",
       " ('나비인가', 3),\n",
       " ('봐', 3),\n",
       " ('뻔한', 2),\n",
       " ('싫어', 2),\n",
       " ('불러본다', 2),\n",
       " ('트롯', 2),\n",
       " ('울', 2),\n",
       " ('멜로디', 2),\n",
       " ('똑같아', 1),\n",
       " ('회식', 1),\n",
       " ('에어로빅', 1),\n",
       " ('찰진', 1),\n",
       " ('아버지', 1),\n",
       " ('하늘에', 1),\n",
       " ('살', 1),\n",
       " ('먹으면', 1),\n",
       " ('가요', 1),\n",
       " ('들려오던', 1),\n",
       " ('아빠랑', 1),\n",
       " ('등에', 1),\n",
       " ('재즈까지', 1),\n",
       " ('아냐', 1),\n",
       " ('잔', 1),\n",
       " ('떼창', 1),\n",
       " ('아닌데', 1),\n",
       " ('센스', 1),\n",
       " ('노래들', 1),\n",
       " ('이래도', 1),\n",
       " ('여기저기서', 1),\n",
       " ('터지게', 1),\n",
       " ('반주곡', 1),\n",
       " ('마무리로는', 1),\n",
       " ('눈물이', 1),\n",
       " ('난', 1),\n",
       " ('역시', 1),\n",
       " ('너는', 1),\n",
       " ('흘러', 1),\n",
       " ('가슴이', 1),\n",
       " ('어머니', 1),\n",
       " ('걸치시면', 1),\n",
       " ('길', 1),\n",
       " ('샹송과', 1),\n",
       " ('술', 1),\n",
       " ('촌스런', 1),\n",
       " ('내', 1),\n",
       " ('목놓아', 1),\n",
       " ('때', 1),\n",
       " ('스타일', 1),\n",
       " ('음악', 1),\n",
       " ('할머니', 1),\n",
       " ('술만', 1),\n",
       " ('난리', 1),\n",
       " ('최신', 1),\n",
       " ('올드해서', 1),\n",
       " ('그', 1),\n",
       " ('나는', 1),\n",
       " ('업혀', 1),\n",
       " ('가다', 1),\n",
       " ('단골', 1),\n",
       " ('어김없이', 1),\n",
       " ('레파토리', 1),\n",
       " ('촌스러운', 1),\n",
       " ('팝송과', 1),\n",
       " ('한', 1),\n",
       " ('알앤비부터', 1),\n",
       " ('남달라', 1),\n",
       " ('되는지', 1),\n",
       " ('지겨워서', 1),\n",
       " ('직장', 1),\n",
       " ('가사', 1),\n",
       " ('별것도', 1),\n",
       " ('힙합에', 1),\n",
       " ('흐르는', 1),\n",
       " ('꺾어본다', 1),\n",
       " ('리듬', 1)]"
      ]
     },
     "execution_count": 216,
     "metadata": {},
     "output_type": "execute_result"
    }
   ],
   "source": [
    "sorted(word_list.items(), key=lambda x: x[1], reverse=True)"
   ]
  },
  {
   "cell_type": "markdown",
   "id": "a738a4cc",
   "metadata": {},
   "source": [
    "## 응용문제 1 "
   ]
  },
  {
   "cell_type": "code",
   "execution_count": 217,
   "id": "cb4f1c2c",
   "metadata": {},
   "outputs": [],
   "source": [
    "# 파일 열기\n",
    "with open('/Users/chan/desktop/jupyter/score.txt', encoding='UTF8') as f:\n",
    "    lines = f.read().splitlines()    \n",
    "f.close() #파일 닫기\n",
    "\n",
    "# score list 생성\n",
    "score = []\n",
    "\n",
    "# 파일 데이터에서 읽은 line 을 ',' 기준으로 분리 -> score list에 append.\n",
    "for i in range(len(lines)):\n",
    "    score.append(lines[i].split(','))\n"
   ]
  },
  {
   "cell_type": "code",
   "execution_count": 220,
   "id": "4ddc5560",
   "metadata": {},
   "outputs": [],
   "source": [
    "# 학생의 평균 점수를 계산하고 리스트에 합침\n",
    "def mean(): \n",
    "    for i in range(len(score)):\n",
    "        total_score = 0\n",
    "        for j in range(1, len(score[i])):\n",
    "            total_score += int(score[i][j])\n",
    "        mean_score = total_score / (len(score[i]) - 1)\n",
    "        score[i].append(round(mean_score, 1))\n",
    "        \n",
    "# 학생의 평균 점수를 기준으로 학점을 계산하고, 리스트에 합침        \n",
    "def grade(): \n",
    "    for i in range(len(score)):\n",
    "        if score[i][4] >= 90:\n",
    "            grade = 'A'\n",
    "\n",
    "        elif score[i][4] >= 80:\n",
    "            grade = 'B'\n",
    "\n",
    "        elif score[i][4] >= 70:\n",
    "            grade = 'C'\n",
    "\n",
    "        elif score[i][4] >= 60:\n",
    "            grade = 'D'\n",
    "\n",
    "        else:\n",
    "            grade = 'F'\n",
    "\n",
    "        score[i].append(grade)"
   ]
  },
  {
   "cell_type": "code",
   "execution_count": 221,
   "id": "a525493d",
   "metadata": {},
   "outputs": [
    {
     "data": {
      "text/plain": [
       "[['김가현', '95', '93', '97'],\n",
       " ['김혜현', '85', '84', '85'],\n",
       " ['최재원', '90', '85', '86'],\n",
       " ['김연수', '100', '95', '85'],\n",
       " ['김연우', '90', '90', '90']]"
      ]
     },
     "execution_count": 221,
     "metadata": {},
     "output_type": "execute_result"
    }
   ],
   "source": [
    "score"
   ]
  },
  {
   "cell_type": "code",
   "execution_count": 222,
   "id": "867d5c0d",
   "metadata": {},
   "outputs": [
    {
     "data": {
      "text/plain": [
       "[['김가현', '95', '93', '97', 95.0, 'A'],\n",
       " ['김혜현', '85', '84', '85', 84.7, 'B'],\n",
       " ['최재원', '90', '85', '86', 87.0, 'B'],\n",
       " ['김연수', '100', '95', '85', 93.3, 'A'],\n",
       " ['김연우', '90', '90', '90', 90.0, 'A']]"
      ]
     },
     "execution_count": 222,
     "metadata": {},
     "output_type": "execute_result"
    }
   ],
   "source": [
    "mean()\n",
    "\n",
    "grade()\n",
    "\n",
    "score"
   ]
  },
  {
   "cell_type": "code",
   "execution_count": 223,
   "id": "21385eca",
   "metadata": {},
   "outputs": [
    {
     "name": "stdout",
     "output_type": "stream",
     "text": [
      "이  름,국어,영어,수학,평균,  학점\n",
      "===========================\n",
      "김가현  95  93  97 95.0   A \n",
      "김혜현  85  84  85 84.7   B \n",
      "최재원  90  85  86 87.0   B \n",
      "김연수 100  95  85 93.3   A \n",
      "김연우  90  90  90 90.0   A \n"
     ]
    }
   ],
   "source": [
    "print('이  름,국어,영어,수학,평균,  학점')\n",
    "print('=' * 27)\n",
    "for i in range(len(score)):\n",
    "    for j in range(len(score[i])):\n",
    "        print(f'{score[i][j]:>3}', end=' ')\n",
    "    print()"
   ]
  },
  {
   "cell_type": "markdown",
   "id": "e109d082",
   "metadata": {},
   "source": [
    "## 응용문제 2"
   ]
  },
  {
   "cell_type": "code",
   "execution_count": 228,
   "id": "058edf6f",
   "metadata": {},
   "outputs": [],
   "source": [
    "import random # 모듈 임포트\n",
    "\n",
    "# 파일 열기\n",
    "with open('/Users/chan/desktop/jupyter/dictionary.txt') as f:\n",
    "    dic = f.read().splitlines()\n",
    "    f.close()"
   ]
  },
  {
   "cell_type": "code",
   "execution_count": 229,
   "id": "38bd83ea",
   "metadata": {
    "scrolled": true
   },
   "outputs": [
    {
     "data": {
      "text/plain": [
       "['복세편살',\n",
       " '멍청비용',\n",
       " '슬세권',\n",
       " '만반잘부',\n",
       " '내또출',\n",
       " '비담',\n",
       " '나심비',\n",
       " '삼귀다',\n",
       " '스라밸',\n",
       " '별다줄',\n",
       " '꾸안꾸',\n",
       " '최최차차',\n",
       " '졌잘싸',\n",
       " '롬곡',\n",
       " '팬아저',\n",
       " '갑통알',\n",
       " '알잘딱깔쎈',\n",
       " '일코노미',\n",
       " '핑프',\n",
       " '고스팅']"
      ]
     },
     "execution_count": 229,
     "metadata": {},
     "output_type": "execute_result"
    }
   ],
   "source": [
    "# 데이터 확인\n",
    "dic"
   ]
  },
  {
   "cell_type": "code",
   "execution_count": 238,
   "id": "61c01e31",
   "metadata": {},
   "outputs": [],
   "source": [
    "# start 함수 정의, game 함수와 연동\n",
    "def start() : \n",
    "    global user\n",
    "    global a\n",
    "    \n",
    "    while True:\n",
    "        a = random.choice(dic)\n",
    "        \n",
    "        print(a)\n",
    "        \n",
    "        game()\n",
    "        \n",
    "        if user == '': # 엔터 입력시 종료\n",
    "            print('종료합니당!')\n",
    "            user = 1 # user = ''로 고정되어 재시작이 안되는 경우 방지\n",
    "            break\n",
    "\n",
    "\n",
    "\n",
    "# game 함수 정의\n",
    "def game():\n",
    "    global user\n",
    "    \n",
    "    while True : \n",
    "        user = input()\n",
    "\n",
    "        if a == user:\n",
    "            print('맞음!!')\n",
    "            break\n",
    "\n",
    "        elif user == '':  # 엔터 입력시 종료\n",
    "            break\n",
    "\n",
    "        else : \n",
    "            print('오타! 다시 도전')\n",
    "\n",
    "\n",
    "    "
   ]
  },
  {
   "cell_type": "code",
   "execution_count": 239,
   "id": "f6e21a43",
   "metadata": {},
   "outputs": [
    {
     "name": "stdout",
     "output_type": "stream",
     "text": [
      "====================\n",
      "  신조어 게임\n",
      "====================\n",
      "\n",
      "타자게임 시작(아무키나)\n",
      "나심비\n",
      "나심비\n",
      "맞음!!\n",
      "꾸안꾸\n",
      "꾸안꾸\n",
      "맞음!!\n",
      "일코노미\n",
      "일코\n",
      "오타! 다시 도전\n",
      "일코\n",
      "오타! 다시 도전\n",
      "\n",
      "종료합니당!\n"
     ]
    }
   ],
   "source": [
    "print('=' * 20)\n",
    "print('  신조어 게임')\n",
    "print('=' * 20)\n",
    "print()\n",
    "print('타자게임 시작(아무키나)')\n",
    "\n",
    "start()\n"
   ]
  },
  {
   "cell_type": "code",
   "execution_count": null,
   "id": "89c066b9",
   "metadata": {},
   "outputs": [],
   "source": []
  }
 ],
 "metadata": {
  "colab": {
   "collapsed_sections": [],
   "name": "week 7.ipynb",
   "provenance": []
  },
  "kernelspec": {
   "display_name": "Python 3 (ipykernel)",
   "language": "python",
   "name": "python3"
  },
  "language_info": {
   "codemirror_mode": {
    "name": "ipython",
    "version": 3
   },
   "file_extension": ".py",
   "mimetype": "text/x-python",
   "name": "python",
   "nbconvert_exporter": "python",
   "pygments_lexer": "ipython3",
   "version": "3.9.7"
  }
 },
 "nbformat": 4,
 "nbformat_minor": 5
}
