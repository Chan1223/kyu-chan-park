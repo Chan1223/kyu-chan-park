{
 "cells": [
  {
   "cell_type": "markdown",
   "id": "b0a4e434",
   "metadata": {},
   "source": [
    "## 응용문제 1 : 임금계산 프로그램"
   ]
  },
  {
   "cell_type": "markdown",
   "id": "9539e503",
   "metadata": {},
   "source": [
    "사용자에게 주당 근무시간과 시간당 임금을 물어본다. \n",
    "\n",
    "\n",
    "주당 근무시간이 40시간을 넘으면 초과근무시간은 1.5배 임금을 지급해야 한다.\n",
    "\n",
    "\n",
    "이번 주에 받는 총 임금을 계산하는 프로그램을 작성하시오."
   ]
  },
  {
   "cell_type": "code",
   "execution_count": 293,
   "id": "fb6bc4da",
   "metadata": {},
   "outputs": [
    {
     "name": "stdout",
     "output_type": "stream",
     "text": [
      "근무시간:41\n",
      "시간당 임금:100000\n",
      "total pay : 4150000\n"
     ]
    }
   ],
   "source": [
    "time = int(input('근무시간:'))\n",
    "normal_t = 40\n",
    "over_t = time - normal_t\n",
    "salary = int(input('시간당 임금:'))\n",
    "ot_salary =  salary * 1.5\n",
    "\n",
    "if time > 40:\n",
    "    total_salary = (normal_t * salary) + (over_t * ot_salary)    \n",
    "else : \n",
    "    total_salary = time * salary\n",
    "    \n",
    "print('total pay : {:0.0f}'.format(total_salary))    "
   ]
  },
  {
   "cell_type": "code",
   "execution_count": 291,
   "id": "60b6a3ec",
   "metadata": {},
   "outputs": [
    {
     "data": {
      "text/plain": [
       "1"
      ]
     },
     "execution_count": 291,
     "metadata": {},
     "output_type": "execute_result"
    }
   ],
   "source": [
    "\n"
   ]
  },
  {
   "cell_type": "markdown",
   "id": "ccd005e6",
   "metadata": {},
   "source": [
    "## 응용문제2:주차료계산프로그램\n"
   ]
  },
  {
   "cell_type": "markdown",
   "id": "26d09842",
   "metadata": {},
   "source": [
    "A학교는 외부인들에게 아래와 같은 주차요금을 부여하고 있다. \n",
    "\n",
    "주차시간을 입력 받아 주차요금을 계산해주는 프로그램을 작성해보세요.\n"
   ]
  },
  {
   "cell_type": "code",
   "execution_count": 49,
   "id": "f33d460d",
   "metadata": {},
   "outputs": [
    {
     "name": "stdout",
     "output_type": "stream",
     "text": [
      "주차시간 입력:80\n",
      "주차시간: 80분\n",
      "주차요금: 6000원\n"
     ]
    }
   ],
   "source": [
    "time = int(input('주차시간 입력:'))\n",
    "print('주차시간: ' + str(time) + '분')\n",
    "\n",
    "if time <= 30 :\n",
    "    price = 0\n",
    "elif time <= 60 : \n",
    "    price = 5000\n",
    "else :\n",
    "    price = 5000 + ((time - 60) // 15) *  1000\n",
    "    \n",
    "print(f'주차요금: {price}원')"
   ]
  },
  {
   "cell_type": "markdown",
   "id": "e0f4371a",
   "metadata": {},
   "source": [
    "## 응용문제 3 : 자동판매기 프로그램"
   ]
  },
  {
   "cell_type": "code",
   "execution_count": 134,
   "id": "e9fea046",
   "metadata": {
    "scrolled": true
   },
   "outputs": [
    {
     "name": "stdout",
     "output_type": "stream",
     "text": [
      "---------------\n",
      "1: coke    500 \n",
      "2: coffee  600 \n",
      "3: cider   500 \n",
      "4: water   400 \n",
      "---------------\n",
      "투입한 돈: 1010\n",
      "번호 선택: 1\n",
      "거스름돈 510원\n",
      "===============\n",
      "500원 동전: 1개\n",
      "100원 동전: 0개\n",
      " 50원 동전: 0개\n",
      "바꾸지 못한 돈 : 10원\n"
     ]
    }
   ],
   "source": [
    "# 딕셔너리 생성\n",
    "dic = {'coke':500, 'coffee':600, 'cider':500, 'water':400}\n",
    "\n",
    "# 메뉴 출력\n",
    "print('-' * 15)\n",
    "print(f\"1: coke    {dic['coke']} \")\n",
    "print(f\"2: coffee  {dic['coffee']} \")\n",
    "print(f\"3: cider   {dic['cider']} \")\n",
    "print(f\"4: water   {dic['water']} \")\n",
    "print('-' * 15)\n",
    "\n",
    "# 투입한 돈, 번호, 거스름돈 출력\n",
    "money = int(input('투입한 돈: '))\n",
    "num = int(input('번호 선택: '))\n",
    "\n",
    "if num == 1:\n",
    "    num = dic['coke']\n",
    "elif num == 2:\n",
    "    num = dic['coffee']\n",
    "elif num == 3:\n",
    "    num = dic['cider']\n",
    "else:\n",
    "    num = dic['water']\n",
    "\n",
    "change = money - num\n",
    "print(f'거스름돈 {change}원')\n",
    "print('=' * 15)\n",
    "\n",
    "\n",
    "# 거스름돈\n",
    "c_500 = change // 500\n",
    "c_100 = (change % 500 ) // 100\n",
    "c_50 =  (change % 100) // 50\n",
    "unchanged = change - c_500 * 500 - c_100 * 100 - c_50 * 50\n",
    "print(f'500원 동전: {c_500}개')\n",
    "print(f'100원 동전: {c_100}개')\n",
    "print(f' 50원 동전: {c_50}개')\n",
    "print(f'바꾸지 못한 돈 : {unchanged}원')"
   ]
  },
  {
   "cell_type": "markdown",
   "id": "22199fc4",
   "metadata": {},
   "source": [
    "## 응용문제 4 : 지불금액 계산 프로그램"
   ]
  },
  {
   "cell_type": "code",
   "execution_count": 304,
   "id": "458cb94a",
   "metadata": {},
   "outputs": [
    {
     "name": "stdout",
     "output_type": "stream",
     "text": [
      "구매 금액은?20000\n",
      "--------------------\n",
      "구매금액:      20000\n",
      "할 인 율:         5%\n",
      "할인금액:       1000\n",
      "지불금액:      19000\n",
      "--------------------\n"
     ]
    }
   ],
   "source": [
    "# 유저 input\n",
    "money = int(input('구매 금액은?'))\n",
    "\n",
    "# 할인율 적용\n",
    "if (money >= 10_000) and (50_000 > money):\n",
    "    discount = 5\n",
    "    \n",
    "elif (money >= 50_000) and (200_000 > money):\n",
    "    discount = 10\n",
    "    \n",
    "elif (money >= 200_000):\n",
    "    discount = 20\n",
    "    \n",
    "else :\n",
    "    discount = 0\n",
    "\n",
    "discount_price = money * (discount / 100) # 할인금액\n",
    "total_price = money - discount_price      # 총 지불 금액\n",
    "\n",
    "print('-' * 20)\n",
    "print(f'구매금액: {money:>10}')\n",
    "print(f'할 인 율:{discount:>10}%')\n",
    "print(f'할인금액: {discount_price:>10.0f}')\n",
    "print(f'지불금액: {total_price:>10.0f}')\n",
    "print('-' * 20)"
   ]
  },
  {
   "cell_type": "markdown",
   "id": "b40914ad",
   "metadata": {},
   "source": [
    "## 응용문제 5 : 배송비 계산 프로그램"
   ]
  },
  {
   "cell_type": "code",
   "execution_count": 283,
   "id": "e4c81dde",
   "metadata": {},
   "outputs": [
    {
     "name": "stdout",
     "output_type": "stream",
     "text": [
      "배송거리를 km단위로 입력 : 70\n",
      "70km에 해당하는 배송비는 4000원입니다.\n"
     ]
    }
   ],
   "source": [
    "# 거리 입력 & 출력\n",
    "distance = int(input('배송거리를 km단위로 입력 : '))\n",
    "\n",
    "# 배송 거리에 따른 비용 출력\n",
    "if distance >= 5 :\n",
    "    if distance < 50 :\n",
    "        price = 3500\n",
    "\n",
    "    elif distance < 100:\n",
    "        price = 4000\n",
    "\n",
    "    elif distance < 300:\n",
    "        price = 4500\n",
    "\n",
    "    elif distance < 500:\n",
    "        price = 5000\n",
    "\n",
    "    else : \n",
    "        price = 6000\n",
    "\n",
    "    print(f'{distance}km에 해당하는 배송비는 {price}원입니다.')\n",
    "\n",
    "else :   # 5km 미만일 경우\n",
    "    print('5km미만은 배송하지 않습니다.')"
   ]
  },
  {
   "cell_type": "code",
   "execution_count": null,
   "id": "835c719e",
   "metadata": {},
   "outputs": [],
   "source": []
  }
 ],
 "metadata": {
  "kernelspec": {
   "display_name": "Python 3 (ipykernel)",
   "language": "python",
   "name": "python3"
  },
  "language_info": {
   "codemirror_mode": {
    "name": "ipython",
    "version": 3
   },
   "file_extension": ".py",
   "mimetype": "text/x-python",
   "name": "python",
   "nbconvert_exporter": "python",
   "pygments_lexer": "ipython3",
   "version": "3.9.7"
  }
 },
 "nbformat": 4,
 "nbformat_minor": 5
}
