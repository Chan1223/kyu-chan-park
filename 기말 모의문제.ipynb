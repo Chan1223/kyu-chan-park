{
 "cells": [
  {
   "cell_type": "code",
   "execution_count": 101,
   "id": "02eb165c",
   "metadata": {},
   "outputs": [],
   "source": [
    "# 교과목 모델 Course 클래스\n",
    "class Course:\n",
    "    def __init__(self, name):\n",
    "        self.name = name\n",
    "        self.attendance = 100\n",
    "        \n",
    "    def setCourse(self, name, attendance):\n",
    "        self.name = name\n",
    "        self.attendance = attendance\n",
    "    \n",
    "    def getGrade(self):\n",
    "        grade = 'i'\n",
    "        return grade\n",
    "    \n",
    "    def __str__(self):\n",
    "        result = f'교과목 이름: {self.name}, 출석점수 : {self.attendance}'\n",
    "        return result"
   ]
  },
  {
   "cell_type": "code",
   "execution_count": 95,
   "id": "d95a0d2e",
   "metadata": {},
   "outputs": [
    {
     "name": "stdout",
     "output_type": "stream",
     "text": [
      "교과목 이름: math, 출석점수 : 100\n"
     ]
    }
   ],
   "source": [
    "a = Course('math')\n",
    "print(a)"
   ]
  },
  {
   "cell_type": "code",
   "execution_count": 92,
   "id": "f7e3ec32",
   "metadata": {},
   "outputs": [
    {
     "name": "stdout",
     "output_type": "stream",
     "text": [
      "교과목 이름: programming, 출석점수 : 50\n"
     ]
    }
   ],
   "source": [
    "a.setCourse('programming', 50)\n",
    "print(a)"
   ]
  },
  {
   "cell_type": "code",
   "execution_count": 98,
   "id": "3812774e",
   "metadata": {},
   "outputs": [
    {
     "data": {
      "text/plain": [
       "'i'"
      ]
     },
     "execution_count": 98,
     "metadata": {},
     "output_type": "execute_result"
    }
   ],
   "source": [
    "a.getGrade()"
   ]
  },
  {
   "cell_type": "code",
   "execution_count": 102,
   "id": "99427ee0",
   "metadata": {},
   "outputs": [],
   "source": [
    "# 문자 학점 교과목을 모델하는 LetterGradeCourse\n",
    "class LetterGradeCourse(Course):\n",
    "    def __init__(self, name):\n",
    "        super().__init__(name)\n",
    "        self.attendance = 0\n",
    "        self.assignment = 0\n",
    "        self.exam = 0\n",
    "        \n",
    "    def setScore(self, assignment, exam, attendance):\n",
    "        self.assignment = assignment\n",
    "        self.exam = exam\n",
    "        self.attendance = attendance\n",
    "        \n",
    "    def getTotal(self):\n",
    "        total = self.attendance * 0.2 + self.assignment * 0.3 + self.exam * 0.5\n",
    "        return int(total)\n",
    "        \n",
    "    def getGrade(self):\n",
    "        score = self.getTotal()\n",
    "        if score >= 90:\n",
    "            grade = 'A'\n",
    "        elif score >= 80:\n",
    "            grade = 'B'\n",
    "        elif score >= 70:\n",
    "            grade = 'C'\n",
    "        elif score >= 60:\n",
    "            grade = 'D'\n",
    "        else :\n",
    "            grade = 'F'\n",
    "        return grade\n",
    "        \n",
    "    def __str__(self):\n",
    "        result = f'{super().__str__()}, 과제점수 : {self.assignment}, 시험점수 : {self.exam}'\n",
    "        return result"
   ]
  },
  {
   "cell_type": "code",
   "execution_count": 80,
   "id": "3c2e5727",
   "metadata": {},
   "outputs": [],
   "source": [
    "b = LetterGradeCourse('music')"
   ]
  },
  {
   "cell_type": "code",
   "execution_count": 81,
   "id": "03976201",
   "metadata": {},
   "outputs": [
    {
     "name": "stdout",
     "output_type": "stream",
     "text": [
      "0\n",
      "0\n",
      "0\n"
     ]
    }
   ],
   "source": [
    "print(b.attendance)\n",
    "print(b.assignment)\n",
    "print(b.exam)"
   ]
  },
  {
   "cell_type": "code",
   "execution_count": 87,
   "id": "4ed56f87",
   "metadata": {},
   "outputs": [],
   "source": [
    "b.setScore(90, 80)"
   ]
  },
  {
   "cell_type": "code",
   "execution_count": 88,
   "id": "239d21be",
   "metadata": {},
   "outputs": [
    {
     "data": {
      "text/plain": [
       "67"
      ]
     },
     "execution_count": 88,
     "metadata": {},
     "output_type": "execute_result"
    }
   ],
   "source": [
    "b.getTotal()"
   ]
  },
  {
   "cell_type": "code",
   "execution_count": 89,
   "id": "2b340214",
   "metadata": {},
   "outputs": [
    {
     "name": "stdout",
     "output_type": "stream",
     "text": [
      "교과목 이름: music, 출석점수 : 0, 과제점수 : 90, 시험점수 : 80\n"
     ]
    }
   ],
   "source": [
    "print(b)"
   ]
  },
  {
   "cell_type": "code",
   "execution_count": 90,
   "id": "c6aa2440",
   "metadata": {},
   "outputs": [
    {
     "data": {
      "text/plain": [
       "'D'"
      ]
     },
     "execution_count": 90,
     "metadata": {},
     "output_type": "execute_result"
    }
   ],
   "source": [
    "b.getGrade()"
   ]
  },
  {
   "cell_type": "code",
   "execution_count": 126,
   "id": "e99e5189",
   "metadata": {},
   "outputs": [
    {
     "name": "stdout",
     "output_type": "stream",
     "text": [
      "출석점수, 과제점수, 시험점수60 80 70\n",
      "교과목 이름: course, 출석점수 : 70, 과제점수 : 60, 시험점수 : 80\n",
      "C\n"
     ]
    }
   ],
   "source": [
    "class CourseDriver():\n",
    "    a = LetterGradeCourse('course')\n",
    "    n1, n2, n3 = map(int, input('출석점수, 과제점수, 시험점수').split())\n",
    "    a.setScore(n1, n2, n3)\n",
    "    print(a)\n",
    "    print(a.getGrade())"
   ]
  }
 ],
 "metadata": {
  "kernelspec": {
   "display_name": "Python 3 (ipykernel)",
   "language": "python",
   "name": "python3"
  },
  "language_info": {
   "codemirror_mode": {
    "name": "ipython",
    "version": 3
   },
   "file_extension": ".py",
   "mimetype": "text/x-python",
   "name": "python",
   "nbconvert_exporter": "python",
   "pygments_lexer": "ipython3",
   "version": "3.9.7"
  }
 },
 "nbformat": 4,
 "nbformat_minor": 5
}
