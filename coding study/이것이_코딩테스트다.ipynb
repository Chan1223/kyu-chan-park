{
 "cells": [
  {
   "cell_type": "markdown",
   "metadata": {},
   "source": [
    "# 3. Greedy"
   ]
  },
  {
   "cell_type": "markdown",
   "metadata": {},
   "source": [
    "### 거스름돈"
   ]
  },
  {
   "cell_type": "code",
   "execution_count": 39,
   "metadata": {},
   "outputs": [
    {
     "name": "stdout",
     "output_type": "stream",
     "text": [
      "2 2 1 1\n"
     ]
    }
   ],
   "source": [
    "n=1260\n",
    "\n",
    "won500 = n // 500\n",
    "n = n % 500\n",
    "\n",
    "won100 = n // 100\n",
    "n = n % 100\n",
    "\n",
    "won50 = n // 50\n",
    "n = n % 50\n",
    "\n",
    "won10 = n // 10\n",
    "n = n % 10\n",
    "print(won500, won100, won50, won10)"
   ]
  },
  {
   "cell_type": "code",
   "execution_count": 40,
   "metadata": {},
   "outputs": [
    {
     "data": {
      "text/plain": [
       "6"
      ]
     },
     "execution_count": 40,
     "metadata": {},
     "output_type": "execute_result"
    }
   ],
   "source": [
    "n=1260\n",
    "\n",
    "def answer(n):\n",
    "    coin_type = [500, 100, 50, 10]\n",
    "    charge = []\n",
    "    for i in coin_type:\n",
    "        charge.append(n//i)\n",
    "        n = n % i\n",
    "    return sum(charge)\n",
    "\n",
    "answer(1260)"
   ]
  },
  {
   "cell_type": "markdown",
   "metadata": {},
   "source": [
    "### 큰 수의 법칙"
   ]
  },
  {
   "cell_type": "code",
   "execution_count": null,
   "metadata": {},
   "outputs": [],
   "source": [
    "n1 = [5, 3, 8]\n",
    "numbers = [2, 4, 5, 4, 6]"
   ]
  },
  {
   "cell_type": "code",
   "execution_count": 80,
   "metadata": {},
   "outputs": [],
   "source": [
    "def answer(n1, numbers):\n",
    "    n, m, k = n1 # 5개의 원소를 갖는 리스트, 3번까지 연속 가능, 숫자는 총 8번 사용 사용\n",
    "    count = 0\n",
    "    answer = 0\n",
    "\n",
    "    numbers = sorted(numbers, reverse=True)\n",
    "\n",
    "    for i in range(k):\n",
    "        if count == 3:\n",
    "            answer += numbers[1]\n",
    "            count = 0\n",
    "        else :\n",
    "            answer += numbers[0]\n",
    "        count +=1\n",
    "    return answer"
   ]
  },
  {
   "cell_type": "code",
   "execution_count": 81,
   "metadata": {},
   "outputs": [],
   "source": [
    "def answer(n1, numbers):\n",
    "    n, m, k = n1 # 5개의 원소를 갖는 리스트, 3번까지 연속 가능, 숫자는 총 8번 사용 사용\n",
    "\n",
    "    answer = 0\n",
    "\n",
    "    numbers = sorted(numbers, reverse=True)\n",
    "\n",
    "    answer += numbers[0] * (k // m * m)\n",
    "    answer += numbers[1] * (k % m)\n",
    "    return answer"
   ]
  },
  {
   "cell_type": "markdown",
   "metadata": {},
   "source": [
    "### 숫자 카드 게임"
   ]
  },
  {
   "cell_type": "code",
   "execution_count": 152,
   "metadata": {},
   "outputs": [],
   "source": [
    "n1 = [3, 3]\n",
    "n2 = [[3,1,2], [4,1,4], [2,2,2]]"
   ]
  },
  {
   "cell_type": "code",
   "execution_count": 153,
   "metadata": {},
   "outputs": [
    {
     "data": {
      "text/plain": [
       "2"
      ]
     },
     "execution_count": 153,
     "metadata": {},
     "output_type": "execute_result"
    }
   ],
   "source": [
    "def answer(n1, n2): \n",
    "    min_list = []\n",
    "    for i in range(n1[0]):\n",
    "        min_list.append(min(n2[i]))\n",
    "    return max(min_list)\n",
    "answer(n1, n2)        "
   ]
  },
  {
   "cell_type": "code",
   "execution_count": 154,
   "metadata": {},
   "outputs": [
    {
     "data": {
      "text/plain": [
       "3"
      ]
     },
     "execution_count": 154,
     "metadata": {},
     "output_type": "execute_result"
    }
   ],
   "source": [
    "n1 = [2, 4]\n",
    "n2 = [[7,3,1,8], [3,3,3,4]]\n",
    "answer(n1, n2)"
   ]
  },
  {
   "cell_type": "markdown",
   "metadata": {},
   "source": [
    "### 1이 될 때까지\n",
    "\n",
    "1. N에서 1을 뺀다\n",
    "2. N을 K로 나눈다\n"
   ]
  },
  {
   "cell_type": "code",
   "execution_count": 193,
   "metadata": {},
   "outputs": [],
   "source": [
    "N, K = 25, 5 \n",
    "N, K = 17, 4 "
   ]
  },
  {
   "cell_type": "code",
   "execution_count": 194,
   "metadata": {},
   "outputs": [],
   "source": [
    "def answer(N, K):\n",
    "    count = 0\n",
    "    if N >= K:\n",
    "        while N!=1:\n",
    "            if N % K == 0:\n",
    "                N /= K\n",
    "            else :\n",
    "                N -= 1\n",
    "            count += 1\n",
    "    else :\n",
    "        while N!=1:\n",
    "            N -= 1\n",
    "            count += 1\n",
    "    return count"
   ]
  },
  {
   "cell_type": "code",
   "execution_count": 195,
   "metadata": {},
   "outputs": [
    {
     "data": {
      "text/plain": [
       "3"
      ]
     },
     "execution_count": 195,
     "metadata": {},
     "output_type": "execute_result"
    }
   ],
   "source": [
    "answer(N, K)"
   ]
  },
  {
   "cell_type": "markdown",
   "metadata": {},
   "source": [
    "# 4. 구현"
   ]
  },
  {
   "cell_type": "markdown",
   "metadata": {},
   "source": [
    "### 상하좌우 \n",
    "N = 5\n",
    "\n",
    "move = R R R U D D"
   ]
  },
  {
   "cell_type": "code",
   "execution_count": 239,
   "metadata": {},
   "outputs": [
    {
     "data": {
      "text/plain": [
       "[3, 4]"
      ]
     },
     "execution_count": 239,
     "metadata": {},
     "output_type": "execute_result"
    }
   ],
   "source": [
    "N = int(input())\n",
    "move = list(map(str, input().split()))\n",
    "\n",
    "def answer(N, move):\n",
    "    moves = {'R':[0,1], 'L':[0, -1], 'U':[-1, 0], 'D':[1, 0]}\n",
    "    pos = [1, 1]\n",
    "\n",
    "    for i in range(len(move)):\n",
    "        if pos[0] + moves[move[i]][0] >= 1 and pos[0] + moves[move[i]][0] <= N and pos[1] + moves[move[i]][1] >= 1 and pos[1] + moves[move[i]][1] <= N:\n",
    "            pos = [pos[0] + moves[move[i]][0], pos[1] + moves[move[i]][1]]\n",
    "        else :\n",
    "            pass    \n",
    "    return pos\n",
    "\n",
    "answer(N, move)"
   ]
  },
  {
   "cell_type": "markdown",
   "metadata": {},
   "source": [
    "### 시각\n",
    "1. 첫째 줄에 정수 N 이 입력된다\n",
    "2. 00시 00분 00초부터 N시 59분 59초까지의 모든 시각 중에서 3이 하나라도 포함되는 모든 경우의 수를 출력한다."
   ]
  },
  {
   "cell_type": "code",
   "execution_count": 256,
   "metadata": {},
   "outputs": [
    {
     "data": {
      "text/plain": [
       "11475"
      ]
     },
     "execution_count": 256,
     "metadata": {},
     "output_type": "execute_result"
    }
   ],
   "source": [
    "N = int(input())\n",
    "\n",
    "def answer(N):\n",
    "    \n",
    "    count = 0\n",
    "    for h in range(N+1):\n",
    "        for m in range(60):\n",
    "            for s in range(60):\n",
    "                if '3' in str(h) + str(m) + str(s):\n",
    "                    count += 1\n",
    "    return count\n",
    "\n",
    "answer(N)"
   ]
  },
  {
   "cell_type": "markdown",
   "metadata": {},
   "source": [
    "### 왕실의 나이트"
   ]
  },
  {
   "cell_type": "code",
   "execution_count": 284,
   "metadata": {},
   "outputs": [
    {
     "data": {
      "text/plain": [
       "2"
      ]
     },
     "execution_count": 284,
     "metadata": {},
     "output_type": "execute_result"
    }
   ],
   "source": [
    "location = str(input())\n",
    "\n",
    "def answer(location):    \n",
    "    code = {'a':1, 'b':2, 'c':3, 'd':4, 'e':5, 'f':6, 'g':7, 'h':8}\n",
    "    pos = [code[location[0]], int(location[1])]\n",
    "    moves = [[1,2], [-1,2],   # 오른쪽\n",
    "            [1,-2], [-1,-2], # 왼쪽\n",
    "            [2, -1], [2, 1], # 아래쪽\n",
    "            [-2, -1], [-2,1] # 위쪽\n",
    "            ]\n",
    "    \n",
    "    move_cnt = 0\n",
    "    for i in moves:\n",
    "        dx = pos[0]+i[0]\n",
    "        dy = pos[1]+i[1]\n",
    "        if dx<1 or dx>8 or dy<1 or dy>8:\n",
    "            pass\n",
    "        else :\n",
    "            move_cnt +=1\n",
    "    return move_cnt\n",
    "\n",
    "answer(location)"
   ]
  },
  {
   "cell_type": "code",
   "execution_count": null,
   "metadata": {},
   "outputs": [],
   "source": []
  }
 ],
 "metadata": {
  "kernelspec": {
   "display_name": "base",
   "language": "python",
   "name": "python3"
  },
  "language_info": {
   "codemirror_mode": {
    "name": "ipython",
    "version": 3
   },
   "file_extension": ".py",
   "mimetype": "text/x-python",
   "name": "python",
   "nbconvert_exporter": "python",
   "pygments_lexer": "ipython3",
   "version": "3.9.7"
  }
 },
 "nbformat": 4,
 "nbformat_minor": 2
}
