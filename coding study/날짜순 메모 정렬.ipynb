{
 "cells": [
  {
   "cell_type": "code",
   "execution_count": 1,
   "id": "80655198",
   "metadata": {},
   "outputs": [
    {
     "ename": "NameError",
     "evalue": "name 'END' is not defined",
     "output_type": "error",
     "traceback": [
      "\u001b[0;31m---------------------------------------------------------------------------\u001b[0m",
      "\u001b[0;31mNameError\u001b[0m                                 Traceback (most recent call last)",
      "\u001b[0;32m/var/folders/42/6b83dcy962qg0qxnnz4ck_8c0000gn/T/ipykernel_69510/2779737949.py\u001b[0m in \u001b[0;36m<module>\u001b[0;34m\u001b[0m\n\u001b[1;32m      2\u001b[0m \u001b[0;34m\"타깃 은행은 잠실에 있는 배민은행으로 한다. 18년06월13일\"\u001b[0m\u001b[0;34m\u001b[0m\u001b[0;34m\u001b[0m\u001b[0m\n\u001b[1;32m      3\u001b[0m \u001b[0;34m\"배민은행앞 별다방에서 18-06-12에 만나기로 함\"\u001b[0m\u001b[0;34m\u001b[0m\u001b[0;34m\u001b[0m\u001b[0m\n\u001b[0;32m----> 4\u001b[0;31m \u001b[0mEND\u001b[0m\u001b[0;34m\u001b[0m\u001b[0;34m\u001b[0m\u001b[0m\n\u001b[0m",
      "\u001b[0;31mNameError\u001b[0m: name 'END' is not defined"
     ]
    }
   ],
   "source": [
    "\"2018/7/3 배민은행의 구조도를 손에 넣었다. 필요한 장비는 이런거 저런거 해서 각자 준비해야한다.\"\n",
    "\"타깃 은행은 잠실에 있는 배민은행으로 한다. 18년06월13일\"\n",
    "\"배민은행앞 별다방에서 18-06-12에 만나기로 함\"\n",
    "END"
   ]
  },
  {
   "cell_type": "code",
   "execution_count": 2,
   "id": "09de0750",
   "metadata": {},
   "outputs": [
    {
     "data": {
      "text/plain": [
       "'2018/7/3 배민은행의 구조도를 손에 넣었다. 필요한 장비는 이런거 저런거 해서 각자 준비해야한다.'"
      ]
     },
     "execution_count": 2,
     "metadata": {},
     "output_type": "execute_result"
    }
   ],
   "source": [
    "\"배민은행앞 별다방에서 18-06-12에 만나기로 함\"\n",
    "\"타깃 은행은 잠실에 있는 배민은행으로 한다. 18년06월13일\"\n",
    "\"2018/7/3 배민은행의 구조도를 손에 넣었다. 필요한 장비는 이런거 저런거 해서 각자 준비해야한다.\""
   ]
  },
  {
   "cell_type": "code",
   "execution_count": 26,
   "id": "08b28f5b",
   "metadata": {},
   "outputs": [
    {
     "name": "stdout",
     "output_type": "stream",
     "text": [
      "\"2018/7/3 배민은행의 구조도를 손에 넣었다. 필요한 장비는 이런거 저런거 해서 각자 준비해야한다.\"\n",
      "\"타깃 은행은 잠실에 있는 배민은행으로 한다. 18년06월13일\"\n",
      "\"배민은행앞 별다방에서 18-06-12에 만나기로 함\"\n",
      "END\n"
     ]
    }
   ],
   "source": [
    "memos = []\n",
    "\n",
    "while True:\n",
    "    memo = input()\n",
    "    if memo == 'END':\n",
    "        break\n",
    "        \n",
    "    memos.append(memo)"
   ]
  },
  {
   "cell_type": "code",
   "execution_count": 30,
   "id": "b66db8d8",
   "metadata": {},
   "outputs": [
    {
     "name": "stdout",
     "output_type": "stream",
     "text": [
      "\"2018/7/3 배민은행의 구조도를 손에 넣었다. 필요한 장비는 이런거 저런거 해서 각자 준비해야한다.\"\n",
      "\"타깃 은행은 잠실에 있는 배민은행으로 한다. 18년06월13일\"\n",
      "\"배민은행앞 별다방에서 18-06-12에 만나기로 함\"\n"
     ]
    }
   ],
   "source": [
    "print(memos[0])\n",
    "print(memos[1])\n",
    "print(memos[2])"
   ]
  },
  {
   "cell_type": "code",
   "execution_count": 134,
   "id": "36e2c922",
   "metadata": {},
   "outputs": [],
   "source": [
    "import re \n",
    "p = re.compile('[ a-zA-Zㄱ-ㅣ가-힣]')\n",
    "result = p.sub('', memos[0])"
   ]
  },
  {
   "cell_type": "code",
   "execution_count": 135,
   "id": "9528c2fd",
   "metadata": {},
   "outputs": [
    {
     "name": "stdout",
     "output_type": "stream",
     "text": [
      "\"2018/7/3..\"\n"
     ]
    }
   ],
   "source": [
    "print(result)"
   ]
  },
  {
   "cell_type": "code",
   "execution_count": 62,
   "id": "d36f54e6",
   "metadata": {},
   "outputs": [
    {
     "name": "stdout",
     "output_type": "stream",
     "text": [
      "None\n"
     ]
    }
   ],
   "source": [
    "print(a)"
   ]
  },
  {
   "cell_type": "code",
   "execution_count": 137,
   "id": "e26c90fe",
   "metadata": {},
   "outputs": [],
   "source": [
    "d = [] \n",
    "for i in range(len(memos)):\n",
    "    d.append(re.findall('\\d', memos[i]))"
   ]
  },
  {
   "cell_type": "code",
   "execution_count": 189,
   "id": "ad191dfc",
   "metadata": {},
   "outputs": [],
   "source": [
    "a = []\n",
    "\n",
    "for i in range(len(d)):\n",
    "    a.append(\"\".join(d[i]))\n",
    "    "
   ]
  },
  {
   "cell_type": "code",
   "execution_count": 187,
   "id": "d69e8177",
   "metadata": {},
   "outputs": [
    {
     "name": "stdout",
     "output_type": "stream",
     "text": [
      "20\n",
      "18\n",
      "18\n"
     ]
    }
   ],
   "source": [
    "for i in range(len(a)):\n",
    "    if a[i][0:2] == 20:\n",
    "        a[i][0:2] == 18\n",
    "    print(a[i][0:2])"
   ]
  },
  {
   "cell_type": "code",
   "execution_count": 190,
   "id": "1387265c",
   "metadata": {},
   "outputs": [
    {
     "data": {
      "text/plain": [
       "['201873', '180613', '180612']"
      ]
     },
     "execution_count": 190,
     "metadata": {},
     "output_type": "execute_result"
    }
   ],
   "source": [
    "a"
   ]
  },
  {
   "cell_type": "code",
   "execution_count": 356,
   "id": "1788ea82",
   "metadata": {},
   "outputs": [],
   "source": [
    "a = []\n",
    "import re \n",
    "for i in range(len(memos)):\n",
    "    p = re.compile('[\\d]{1,4}')\n",
    "    result = p.findall(memos[i])\n",
    "    a.append(result )"
   ]
  },
  {
   "cell_type": "code",
   "execution_count": 357,
   "id": "95c9e040",
   "metadata": {},
   "outputs": [
    {
     "data": {
      "text/plain": [
       "[['2018', '7', '3'], ['18', '06', '13'], ['18', '06', '12']]"
      ]
     },
     "execution_count": 357,
     "metadata": {},
     "output_type": "execute_result"
    }
   ],
   "source": [
    "a"
   ]
  },
  {
   "cell_type": "code",
   "execution_count": 344,
   "id": "f03aa473",
   "metadata": {},
   "outputs": [],
   "source": [
    "p = re.compile('[\\d]{3}')\n",
    "result = p.findall(memos[2])"
   ]
  },
  {
   "cell_type": "code",
   "execution_count": 340,
   "id": "eef80d25",
   "metadata": {},
   "outputs": [
    {
     "name": "stdout",
     "output_type": "stream",
     "text": [
      "[]\n"
     ]
    }
   ],
   "source": [
    "print(result)"
   ]
  },
  {
   "cell_type": "code",
   "execution_count": null,
   "id": "2c705482",
   "metadata": {},
   "outputs": [],
   "source": []
  },
  {
   "cell_type": "code",
   "execution_count": null,
   "id": "920fc54d",
   "metadata": {},
   "outputs": [],
   "source": []
  }
 ],
 "metadata": {
  "kernelspec": {
   "display_name": "Python 3 (ipykernel)",
   "language": "python",
   "name": "python3"
  },
  "language_info": {
   "codemirror_mode": {
    "name": "ipython",
    "version": 3
   },
   "file_extension": ".py",
   "mimetype": "text/x-python",
   "name": "python",
   "nbconvert_exporter": "python",
   "pygments_lexer": "ipython3",
   "version": "3.9.7"
  }
 },
 "nbformat": 4,
 "nbformat_minor": 5
}
