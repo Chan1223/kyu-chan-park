{
 "cells": [
  {
   "cell_type": "code",
   "execution_count": 86,
   "id": "427e7a65",
   "metadata": {},
   "outputs": [],
   "source": [
    "total_word = ['b','i','l','m','n','o','p','s','u','v','w','x', 'd','i','l','m','n','o','q','z','u','v','w','x']\n",
    "normal_word = ['b','i','l','m','n','o','p','s','u','v','w','x']\n",
    "mirror_word = ['d','i','l','m','n','o','q','z','u','v','w','x']"
   ]
  },
  {
   "cell_type": "code",
   "execution_count": 80,
   "id": "c49c5cfe",
   "metadata": {},
   "outputs": [
    {
     "name": "stdout",
     "output_type": "stream",
     "text": [
      "3\n",
      "popooqoq\n",
      "bvdobvd\n",
      "banana\n"
     ]
    }
   ],
   "source": [
    "num = int(input())\n",
    "\n",
    "words = []\n",
    "\n",
    "for i in range(num):\n",
    "    words.append(input())"
   ]
  },
  {
   "cell_type": "code",
   "execution_count": 91,
   "id": "adc1fc0a",
   "metadata": {},
   "outputs": [],
   "source": [
    "count = []\n",
    "\n",
    "for i in range(len(words)):\n",
    "    temp = 0\n",
    "    for j in range(len(words[i])):\n",
    "        if words[i][j] in total_word:\n",
    "            temp += 1\n",
    "            \n",
    "    count.append(temp)        \n",
    "            "
   ]
  },
  {
   "cell_type": "code",
   "execution_count": 92,
   "id": "3667b8a4",
   "metadata": {},
   "outputs": [
    {
     "data": {
      "text/plain": [
       "[8, 7, 3]"
      ]
     },
     "execution_count": 92,
     "metadata": {},
     "output_type": "execute_result"
    }
   ],
   "source": [
    "count"
   ]
  },
  {
   "cell_type": "code",
   "execution_count": 94,
   "id": "08f3491d",
   "metadata": {},
   "outputs": [],
   "source": [
    "count1 = [] \n",
    "for i in range(len(words)):\n",
    "    count1.append(len(words[i]))"
   ]
  },
  {
   "cell_type": "code",
   "execution_count": 95,
   "id": "5e0dc008",
   "metadata": {},
   "outputs": [
    {
     "data": {
      "text/plain": [
       "[8, 7, 6]"
      ]
     },
     "execution_count": 95,
     "metadata": {},
     "output_type": "execute_result"
    }
   ],
   "source": [
    "count1"
   ]
  },
  {
   "cell_type": "code",
   "execution_count": 96,
   "id": "ca4adb76",
   "metadata": {
    "scrolled": true
   },
   "outputs": [
    {
     "name": "stdout",
     "output_type": "stream",
     "text": [
      "Mirror\n",
      "Mirror\n",
      "Normal\n"
     ]
    }
   ],
   "source": [
    "for i in range(len(count)):\n",
    "    if count[i] == count1[i]:\n",
    "        print(\"Mirror\")\n",
    "    else:\n",
    "        print(\"Normal\")"
   ]
  },
  {
   "cell_type": "code",
   "execution_count": null,
   "id": "45b89039",
   "metadata": {},
   "outputs": [],
   "source": [
    "+++++++++"
   ]
  },
  {
   "cell_type": "code",
   "execution_count": null,
   "id": "189d52c0",
   "metadata": {},
   "outputs": [],
   "source": [
    "total_word = ['b','i','l','m','n','o','p','s','u','v','w','x', 'd','i','l','m','n','o','q','z','u','v','w','x']\n",
    "\n",
    "\n",
    "num = int(input())\n",
    "\n",
    "words = []\n",
    "\n",
    "for i in range(num):\n",
    "    words.append(input())\n",
    "    \n",
    "    \n",
    "count = []\n",
    "\n",
    "for i in range(len(words)):\n",
    "    temp = 0\n",
    "    for j in range(len(words[i])):\n",
    "        if words[i][j] in total_word:\n",
    "            temp += 1\n",
    "            \n",
    "    count.append(temp)        \n",
    "\n",
    "count1 = [] \n",
    "for i in range(len(words)):\n",
    "    count1.append(len(words[i]))\n",
    "    \n",
    "    \n",
    "for i in range(len(count)):\n",
    "    if count[i] == count1[i]:\n",
    "        print(\"Mirror\")\n",
    "    else:\n",
    "        print(\"Normal\")"
   ]
  },
  {
   "cell_type": "code",
   "execution_count": null,
   "id": "5cb52cc1",
   "metadata": {},
   "outputs": [],
   "source": []
  },
  {
   "cell_type": "code",
   "execution_count": null,
   "id": "582108ac",
   "metadata": {},
   "outputs": [],
   "source": []
  },
  {
   "cell_type": "code",
   "execution_count": null,
   "id": "0e50b625",
   "metadata": {},
   "outputs": [],
   "source": []
  },
  {
   "cell_type": "code",
   "execution_count": 97,
   "id": "72d83a6d",
   "metadata": {},
   "outputs": [],
   "source": [
    "normal_word = ['b','i','l','m','n','o','p','s','u','v','w','x']\n",
    "mirror_word = ['d','i','l','m','n','o','q','z','u','v','w','x']"
   ]
  },
  {
   "cell_type": "code",
   "execution_count": null,
   "id": "24948e75",
   "metadata": {},
   "outputs": [],
   "source": [
    "num = int(input())\n",
    "\n",
    "words = []\n",
    "\n",
    "for i in range(num):\n",
    "    words.append(input())"
   ]
  },
  {
   "cell_type": "code",
   "execution_count": 98,
   "id": "4f39f49c",
   "metadata": {},
   "outputs": [
    {
     "data": {
      "text/plain": [
       "['popooqoq', 'bvdobvd', 'banana']"
      ]
     },
     "execution_count": 98,
     "metadata": {},
     "output_type": "execute_result"
    }
   ],
   "source": [
    "words"
   ]
  },
  {
   "cell_type": "code",
   "execution_count": 110,
   "id": "315fa123",
   "metadata": {},
   "outputs": [],
   "source": [
    "back_words = []\n",
    "for i in range(len(words)):\n",
    "    tmp = []\n",
    "    \n",
    "    for j in range(len(words[i])-1, -1, -1):\n",
    "        tmp.append(words[i][j])\n",
    "    back_words.append(tmp)"
   ]
  },
  {
   "cell_type": "code",
   "execution_count": 111,
   "id": "dc8acedf",
   "metadata": {},
   "outputs": [
    {
     "data": {
      "text/plain": [
       "[['q', 'o', 'q', 'o', 'o', 'p', 'o', 'p'],\n",
       " ['d', 'v', 'b', 'o', 'd', 'v', 'b'],\n",
       " ['a', 'n', 'a', 'n', 'a', 'b']]"
      ]
     },
     "execution_count": 111,
     "metadata": {},
     "output_type": "execute_result"
    }
   ],
   "source": [
    "back_words"
   ]
  },
  {
   "cell_type": "code",
   "execution_count": 129,
   "id": "56ff174a",
   "metadata": {},
   "outputs": [],
   "source": [
    "mirror_words = []\n",
    "\n",
    "for i in range(len(back_words)):\n",
    "    temp = []\n",
    "    for j in range(len(back_words[i])):\n",
    "        if back_words[i][j] in normal_word:\n",
    "            ind = normal_word.index(back_words[i][j])\n",
    "            back_words[i][j] = back_word[ind]\n",
    "            temp.append(back_words[i][j])\n",
    "        else :\n",
    "            temp.append(back_words[i][j])\n",
    "    mirror_words.append(temp)\n",
    "            "
   ]
  },
  {
   "cell_type": "code",
   "execution_count": 132,
   "id": "9bcafdd3",
   "metadata": {},
   "outputs": [],
   "source": [
    "final = []\n",
    "for i in range(len(mirror_words)):\n",
    "    final.append(''.join(mirror_words[i]))"
   ]
  },
  {
   "cell_type": "code",
   "execution_count": 134,
   "id": "7ae58cd1",
   "metadata": {},
   "outputs": [
    {
     "name": "stdout",
     "output_type": "stream",
     "text": [
      "Mirror\n",
      "Mirror\n",
      "Noraml\n"
     ]
    }
   ],
   "source": [
    "for i in range(len(final)):\n",
    "    if final[i] == words[i]:\n",
    "        print(\"Mirror\")\n",
    "    else :\n",
    "        print(\"Noraml\")"
   ]
  },
  {
   "cell_type": "code",
   "execution_count": 131,
   "id": "8fe8e9ba",
   "metadata": {},
   "outputs": [
    {
     "data": {
      "text/plain": [
       "['popooqoq', 'bvdobvd', 'banana']"
      ]
     },
     "execution_count": 131,
     "metadata": {},
     "output_type": "execute_result"
    }
   ],
   "source": [
    "words"
   ]
  },
  {
   "cell_type": "code",
   "execution_count": 115,
   "id": "7d914ea1",
   "metadata": {},
   "outputs": [],
   "source": [
    "normal_word = ['s', 'z', 'p', 'q', 'b', 'd']\n",
    "back_word = ['z', 's', 'q', 'p', 'd', 'b']"
   ]
  },
  {
   "cell_type": "code",
   "execution_count": 116,
   "id": "3ddcc608",
   "metadata": {},
   "outputs": [
    {
     "data": {
      "text/plain": [
       "3"
      ]
     },
     "execution_count": 116,
     "metadata": {},
     "output_type": "execute_result"
    }
   ],
   "source": [
    "normal_word.index('q') "
   ]
  },
  {
   "cell_type": "code",
   "execution_count": 120,
   "id": "dff8c8fa",
   "metadata": {},
   "outputs": [
    {
     "data": {
      "text/plain": [
       "4"
      ]
     },
     "execution_count": 120,
     "metadata": {},
     "output_type": "execute_result"
    }
   ],
   "source": []
  },
  {
   "cell_type": "code",
   "execution_count": null,
   "id": "72fd8dce",
   "metadata": {},
   "outputs": [],
   "source": []
  },
  {
   "cell_type": "code",
   "execution_count": 167,
   "id": "1401ec02",
   "metadata": {},
   "outputs": [
    {
     "data": {
      "text/plain": [
       "'bbbaaa'"
      ]
     },
     "execution_count": 167,
     "metadata": {},
     "output_type": "execute_result"
    }
   ],
   "source": [
    "a[0][::-1]"
   ]
  },
  {
   "cell_type": "code",
   "execution_count": 165,
   "id": "2848e471",
   "metadata": {},
   "outputs": [],
   "source": [
    "a= ['aaabbb','cccddd', 'eeefff']\n"
   ]
  },
  {
   "cell_type": "code",
   "execution_count": 170,
   "id": "8364a48a",
   "metadata": {},
   "outputs": [
    {
     "data": {
      "text/plain": [
       "['qoqoopop', 'dvbodvb', 'ananab']"
      ]
     },
     "execution_count": 170,
     "metadata": {},
     "output_type": "execute_result"
    }
   ],
   "source": [
    "back_words"
   ]
  },
  {
   "cell_type": "code",
   "execution_count": 169,
   "id": "bf3ccea7",
   "metadata": {},
   "outputs": [],
   "source": []
  },
  {
   "cell_type": "code",
   "execution_count": null,
   "id": "040609de",
   "metadata": {},
   "outputs": [],
   "source": []
  },
  {
   "cell_type": "code",
   "execution_count": null,
   "id": "70703907",
   "metadata": {},
   "outputs": [],
   "source": [
    "normal_word = ['b','i','l','m','n','o','p','s','u','v','w','x']\n",
    "mirror_word = ['d','i','l','m','n','o','q','z','u','v','w','x']\n",
    "\n",
    "# 테스트 케이스 수\n",
    "num = int(input())\n",
    "words = []\n",
    "\n",
    "# 테스트 케이스 입력\n",
    "for i in range(num):\n",
    "    words.append(input())\n",
    "\n",
    "# 단어 뒤집기\n",
    "back_words = []\n",
    "for i in range(len(words)):\n",
    "    back_words.append(words[i][::-1])\n",
    "\n",
    "    \n",
    "# 문자바꾸기(translate) 활용\n",
    "table = str.maketrans('szpqbd', 'zsqpdb')\n",
    "\n",
    "for i in range(len(back_words)):\n",
    "    back_words[i] = back_words[i].translate(table)    \n",
    "    \n",
    "# # 뒤집은 단어에 mirror word 가 있으면 바꾸기\n",
    "# normal_word = ['s', 'z', 'p', 'q', 'b', 'd']\n",
    "# back_word = ['z', 's', 'q', 'p', 'd', 'b']\n",
    "\n",
    "# mirror_words = []\n",
    "\n",
    "# for i in range(len(back_words)):\n",
    "#     temp = []\n",
    "#     for j in range(len(back_words[i])):\n",
    "#         if back_words[i][j] in normal_word:\n",
    "#             ind = normal_word.index(back_words[i][j])\n",
    "#             back_words[i][j] = back_word[ind]\n",
    "#             temp.append(back_words[i][j])\n",
    "#         else :\n",
    "#             temp.append(back_words[i][j])\n",
    "#     mirror_words.append(temp)\n",
    "            \n",
    "        \n",
    "# final = []\n",
    "# for i in range(len(mirror_words)):\n",
    "#     final.append(''.join(mirror_words[i]))\n",
    "    \n",
    "# 뒤집고 mirror word를 대치해준 단어가 최초의 단어와 동일하면 mirror 출력\n",
    "for i in range(len(final)):\n",
    "    if final[i] == words[i]:\n",
    "        print(\"Mirror\")\n",
    "    else :\n",
    "        print(\"Normal\")"
   ]
  },
  {
   "cell_type": "code",
   "execution_count": 197,
   "id": "b5bfe6a5",
   "metadata": {},
   "outputs": [
    {
     "data": {
      "text/plain": [
       "['popooqoq', 'bvdobvd', 'banana']"
      ]
     },
     "execution_count": 197,
     "metadata": {},
     "output_type": "execute_result"
    }
   ],
   "source": [
    "words"
   ]
  },
  {
   "cell_type": "code",
   "execution_count": 196,
   "id": "0e35b1d1",
   "metadata": {},
   "outputs": [
    {
     "data": {
      "text/plain": [
       "['popooqoq', 'bvdobvd', 'ananad']"
      ]
     },
     "execution_count": 196,
     "metadata": {},
     "output_type": "execute_result"
    }
   ],
   "source": [
    "back_words"
   ]
  },
  {
   "cell_type": "code",
   "execution_count": 198,
   "id": "1fb8f9a5",
   "metadata": {},
   "outputs": [
    {
     "name": "stdout",
     "output_type": "stream",
     "text": [
      "Mirror\n",
      "Mirror\n",
      "Normal\n"
     ]
    }
   ],
   "source": [
    "# 뒤집고 mirror word를 대치해준 단어가 최초의 단어와 동일하면 mirror 출력\n",
    "for i in range(len(final)):\n",
    "    if final[i] == words[i]:\n",
    "        print(\"Mirror\")\n",
    "    else :\n",
    "        print(\"Normal\")"
   ]
  },
  {
   "cell_type": "code",
   "execution_count": 172,
   "id": "29872269",
   "metadata": {},
   "outputs": [
    {
     "ename": "TypeError",
     "evalue": "'str' object does not support item assignment",
     "output_type": "error",
     "traceback": [
      "\u001b[0;31m---------------------------------------------------------------------------\u001b[0m",
      "\u001b[0;31mTypeError\u001b[0m                                 Traceback (most recent call last)",
      "\u001b[0;32m/var/folders/42/6b83dcy962qg0qxnnz4ck_8c0000gn/T/ipykernel_36314/9210147.py\u001b[0m in \u001b[0;36m<module>\u001b[0;34m\u001b[0m\n\u001b[1;32m     10\u001b[0m         \u001b[0;32mif\u001b[0m \u001b[0mback_words\u001b[0m\u001b[0;34m[\u001b[0m\u001b[0mi\u001b[0m\u001b[0;34m]\u001b[0m\u001b[0;34m[\u001b[0m\u001b[0mj\u001b[0m\u001b[0;34m]\u001b[0m \u001b[0;32min\u001b[0m \u001b[0mnormal_word\u001b[0m\u001b[0;34m:\u001b[0m\u001b[0;34m\u001b[0m\u001b[0;34m\u001b[0m\u001b[0m\n\u001b[1;32m     11\u001b[0m             \u001b[0mind\u001b[0m \u001b[0;34m=\u001b[0m \u001b[0mnormal_word\u001b[0m\u001b[0;34m.\u001b[0m\u001b[0mindex\u001b[0m\u001b[0;34m(\u001b[0m\u001b[0mback_words\u001b[0m\u001b[0;34m[\u001b[0m\u001b[0mi\u001b[0m\u001b[0;34m]\u001b[0m\u001b[0;34m[\u001b[0m\u001b[0mj\u001b[0m\u001b[0;34m]\u001b[0m\u001b[0;34m)\u001b[0m\u001b[0;34m\u001b[0m\u001b[0;34m\u001b[0m\u001b[0m\n\u001b[0;32m---> 12\u001b[0;31m             \u001b[0mback_words\u001b[0m\u001b[0;34m[\u001b[0m\u001b[0mi\u001b[0m\u001b[0;34m]\u001b[0m\u001b[0;34m[\u001b[0m\u001b[0mj\u001b[0m\u001b[0;34m]\u001b[0m \u001b[0;34m=\u001b[0m \u001b[0mback_word\u001b[0m\u001b[0;34m[\u001b[0m\u001b[0mind\u001b[0m\u001b[0;34m]\u001b[0m\u001b[0;34m\u001b[0m\u001b[0;34m\u001b[0m\u001b[0m\n\u001b[0m\u001b[1;32m     13\u001b[0m             \u001b[0mtemp\u001b[0m\u001b[0;34m.\u001b[0m\u001b[0mappend\u001b[0m\u001b[0;34m(\u001b[0m\u001b[0mback_words\u001b[0m\u001b[0;34m[\u001b[0m\u001b[0mi\u001b[0m\u001b[0;34m]\u001b[0m\u001b[0;34m[\u001b[0m\u001b[0mj\u001b[0m\u001b[0;34m]\u001b[0m\u001b[0;34m)\u001b[0m\u001b[0;34m\u001b[0m\u001b[0;34m\u001b[0m\u001b[0m\n\u001b[1;32m     14\u001b[0m         \u001b[0;32melse\u001b[0m \u001b[0;34m:\u001b[0m\u001b[0;34m\u001b[0m\u001b[0;34m\u001b[0m\u001b[0m\n",
      "\u001b[0;31mTypeError\u001b[0m: 'str' object does not support item assignment"
     ]
    }
   ],
   "source": [
    "# 뒤집은 단어에 mirror word 가 있으면 바꾸기\n",
    "normal_word = ['s', 'z', 'p', 'q', 'b', 'd']\n",
    "back_word = ['z', 's', 'q', 'p', 'd', 'b']\n",
    "\n",
    "mirror_words = []\n",
    "\n",
    "for i in range(len(back_words)):\n",
    "    temp = []\n",
    "    for j in range(len(back_words[i])):\n",
    "        if back_words[i][j] in normal_word:\n",
    "            ind = normal_word.index(back_words[i][j])\n",
    "            back_words[i][j] = back_word[ind]\n",
    "            temp.append(back_words[i][j])\n",
    "        else :\n",
    "            temp.append(back_words[i][j])\n",
    "    mirror_words.append(temp)"
   ]
  },
  {
   "cell_type": "code",
   "execution_count": 199,
   "id": "b516b7a1",
   "metadata": {},
   "outputs": [
    {
     "ename": "KeyboardInterrupt",
     "evalue": "Interrupted by user",
     "output_type": "error",
     "traceback": [
      "\u001b[0;31m---------------------------------------------------------------------------\u001b[0m",
      "\u001b[0;31mKeyboardInterrupt\u001b[0m                         Traceback (most recent call last)",
      "\u001b[0;32m/var/folders/42/6b83dcy962qg0qxnnz4ck_8c0000gn/T/ipykernel_36314/4039826061.py\u001b[0m in \u001b[0;36m<module>\u001b[0;34m\u001b[0m\n\u001b[1;32m      1\u001b[0m \u001b[0;31m# 테스트 케이스 수\u001b[0m\u001b[0;34m\u001b[0m\u001b[0;34m\u001b[0m\u001b[0m\n\u001b[0;32m----> 2\u001b[0;31m \u001b[0mnum\u001b[0m \u001b[0;34m=\u001b[0m \u001b[0mint\u001b[0m\u001b[0;34m(\u001b[0m\u001b[0minput\u001b[0m\u001b[0;34m(\u001b[0m\u001b[0;34m)\u001b[0m\u001b[0;34m)\u001b[0m\u001b[0;34m\u001b[0m\u001b[0;34m\u001b[0m\u001b[0m\n\u001b[0m\u001b[1;32m      3\u001b[0m \u001b[0mwords\u001b[0m \u001b[0;34m=\u001b[0m \u001b[0;34m[\u001b[0m\u001b[0;34m]\u001b[0m\u001b[0;34m\u001b[0m\u001b[0;34m\u001b[0m\u001b[0m\n\u001b[1;32m      4\u001b[0m \u001b[0;34m\u001b[0m\u001b[0m\n\u001b[1;32m      5\u001b[0m \u001b[0;31m# 테스트 케이스 입력\u001b[0m\u001b[0;34m\u001b[0m\u001b[0;34m\u001b[0m\u001b[0m\n",
      "\u001b[0;32m~/opt/anaconda3/lib/python3.9/site-packages/ipykernel/kernelbase.py\u001b[0m in \u001b[0;36mraw_input\u001b[0;34m(self, prompt)\u001b[0m\n\u001b[1;32m   1004\u001b[0m                 \u001b[0;34m\"raw_input was called, but this frontend does not support input requests.\"\u001b[0m\u001b[0;34m\u001b[0m\u001b[0;34m\u001b[0m\u001b[0m\n\u001b[1;32m   1005\u001b[0m             )\n\u001b[0;32m-> 1006\u001b[0;31m         return self._input_request(\n\u001b[0m\u001b[1;32m   1007\u001b[0m             \u001b[0mstr\u001b[0m\u001b[0;34m(\u001b[0m\u001b[0mprompt\u001b[0m\u001b[0;34m)\u001b[0m\u001b[0;34m,\u001b[0m\u001b[0;34m\u001b[0m\u001b[0;34m\u001b[0m\u001b[0m\n\u001b[1;32m   1008\u001b[0m             \u001b[0mself\u001b[0m\u001b[0;34m.\u001b[0m\u001b[0m_parent_ident\u001b[0m\u001b[0;34m[\u001b[0m\u001b[0;34m\"shell\"\u001b[0m\u001b[0;34m]\u001b[0m\u001b[0;34m,\u001b[0m\u001b[0;34m\u001b[0m\u001b[0;34m\u001b[0m\u001b[0m\n",
      "\u001b[0;32m~/opt/anaconda3/lib/python3.9/site-packages/ipykernel/kernelbase.py\u001b[0m in \u001b[0;36m_input_request\u001b[0;34m(self, prompt, ident, parent, password)\u001b[0m\n\u001b[1;32m   1049\u001b[0m             \u001b[0;32mexcept\u001b[0m \u001b[0mKeyboardInterrupt\u001b[0m\u001b[0;34m:\u001b[0m\u001b[0;34m\u001b[0m\u001b[0;34m\u001b[0m\u001b[0m\n\u001b[1;32m   1050\u001b[0m                 \u001b[0;31m# re-raise KeyboardInterrupt, to truncate traceback\u001b[0m\u001b[0;34m\u001b[0m\u001b[0;34m\u001b[0m\u001b[0m\n\u001b[0;32m-> 1051\u001b[0;31m                 \u001b[0;32mraise\u001b[0m \u001b[0mKeyboardInterrupt\u001b[0m\u001b[0;34m(\u001b[0m\u001b[0;34m\"Interrupted by user\"\u001b[0m\u001b[0;34m)\u001b[0m \u001b[0;32mfrom\u001b[0m \u001b[0;32mNone\u001b[0m\u001b[0;34m\u001b[0m\u001b[0;34m\u001b[0m\u001b[0m\n\u001b[0m\u001b[1;32m   1052\u001b[0m             \u001b[0;32mexcept\u001b[0m \u001b[0mException\u001b[0m\u001b[0;34m:\u001b[0m\u001b[0;34m\u001b[0m\u001b[0;34m\u001b[0m\u001b[0m\n\u001b[1;32m   1053\u001b[0m                 \u001b[0mself\u001b[0m\u001b[0;34m.\u001b[0m\u001b[0mlog\u001b[0m\u001b[0;34m.\u001b[0m\u001b[0mwarning\u001b[0m\u001b[0;34m(\u001b[0m\u001b[0;34m\"Invalid Message:\"\u001b[0m\u001b[0;34m,\u001b[0m \u001b[0mexc_info\u001b[0m\u001b[0;34m=\u001b[0m\u001b[0;32mTrue\u001b[0m\u001b[0;34m)\u001b[0m\u001b[0;34m\u001b[0m\u001b[0;34m\u001b[0m\u001b[0m\n",
      "\u001b[0;31mKeyboardInterrupt\u001b[0m: Interrupted by user"
     ]
    }
   ],
   "source": [
    "# 테스트 케이스 수\n",
    "num = int(input())\n",
    "words = []\n",
    "\n",
    "# 테스트 케이스 입력\n",
    "for i in range(num):\n",
    "    words.append(input())\n",
    "\n"
   ]
  },
  {
   "cell_type": "code",
   "execution_count": 200,
   "id": "1f218a79",
   "metadata": {},
   "outputs": [],
   "source": [
    "\n",
    "# 단어 뒤집기\n",
    "back_words = []\n",
    "for i in range(len(words)):\n",
    "    back_words.append(words[i][::-1])\n",
    "\n",
    "    \n",
    "# 문자바꾸기(translate) 활용\n",
    "table = str.maketrans('szpqbd', 'zsqpdb')\n",
    "\n",
    "for i in range(len(back_words)):\n",
    "    back_words[i] = back_words[i].translate(table)    \n",
    "\n"
   ]
  },
  {
   "cell_type": "code",
   "execution_count": 202,
   "id": "41722ea1",
   "metadata": {},
   "outputs": [
    {
     "data": {
      "text/plain": [
       "['popooqoq', 'bvdobvd', 'banana']"
      ]
     },
     "execution_count": 202,
     "metadata": {},
     "output_type": "execute_result"
    }
   ],
   "source": [
    "words"
   ]
  },
  {
   "cell_type": "code",
   "execution_count": 201,
   "id": "9f66d32a",
   "metadata": {},
   "outputs": [
    {
     "data": {
      "text/plain": [
       "['popooqoq', 'bvdobvd', 'ananad']"
      ]
     },
     "execution_count": 201,
     "metadata": {},
     "output_type": "execute_result"
    }
   ],
   "source": [
    "back_words"
   ]
  },
  {
   "cell_type": "code",
   "execution_count": null,
   "id": "2e3e61a2",
   "metadata": {},
   "outputs": [],
   "source": []
  },
  {
   "cell_type": "code",
   "execution_count": 208,
   "id": "bc54771e",
   "metadata": {},
   "outputs": [
    {
     "name": "stdout",
     "output_type": "stream",
     "text": [
      "Mirror\n",
      "Mirror\n",
      "Normal\n"
     ]
    }
   ],
   "source": [
    "back_word = ['z', 's', 'q', 'p', 'd', 'b']\n",
    "\n",
    "\n",
    "for i in range(len(words)):    \n",
    "    if len(words[i]) == 1 and words[i] in back_word:\n",
    "        print(\"Normal\")\n",
    "    if words[i] == back_words[i]:\n",
    "        print(\"Mirror\")\n",
    "    else :\n",
    "        print(\"Normal\")\n",
    "\n",
    "        "
   ]
  },
  {
   "cell_type": "code",
   "execution_count": 234,
   "id": "c0a9fefe",
   "metadata": {},
   "outputs": [
    {
     "name": "stdout",
     "output_type": "stream",
     "text": [
      "1\n",
      "abda\n",
      "Mirror\n"
     ]
    }
   ],
   "source": [
    "normal_word = ['b','i','l','m','n','o','p','s','u','v','w','x']\n",
    "mirror_word = ['d','i','l','m','n','o','q','z','u','v','w','x']\n",
    "\n",
    "# 테스트 케이스 수\n",
    "num = int(input())\n",
    "words = []\n",
    "\n",
    "# 테스트 케이스 입력\n",
    "for i in range(num):\n",
    "    words.append(input())\n",
    "\n",
    "# 단어 뒤집기\n",
    "back_words = []\n",
    "for i in range(len(words)):\n",
    "    back_words.append(words[i][::-1])\n",
    "\n",
    "    \n",
    "# 문자바꾸기(translate) 활용\n",
    "table = str.maketrans('szpqbd', 'zsqpdb')\n",
    "\n",
    "for i in range(len(back_words)):\n",
    "    back_words[i] = back_words[i].translate(table)    \n",
    "    \n",
    "# # 뒤집은 단어에 mirror word 가 있으면 바꾸기\n",
    "# normal_word = ['s', 'z', 'p', 'q', 'b', 'd']\n",
    "# back_word = ['z', 's', 'q', 'p', 'd', 'b']\n",
    "\n",
    "# mirror_words = []\n",
    "\n",
    "# for i in range(len(back_words)):\n",
    "#     temp = []\n",
    "#     for j in range(len(back_words[i])):\n",
    "#         if back_words[i][j] in normal_word:\n",
    "#             ind = normal_word.index(back_words[i][j])\n",
    "#             back_words[i][j] = back_word[ind]\n",
    "#             temp.append(back_words[i][j])\n",
    "#         else :\n",
    "#             temp.append(back_words[i][j])\n",
    "#     mirror_words.append(temp)\n",
    "            \n",
    "        \n",
    "# final = []\n",
    "# for i in range(len(mirror_words)):\n",
    "#     final.append(''.join(mirror_words[i]))\n",
    "    \n",
    "# 뒤집고 mirror word를 대치해준 단어가 최초의 단어와 동일하면 mirror 출력\n",
    "back_word = ['z', 's', 'q', 'p', 'd', 'b']\n",
    "\n",
    "\n",
    "for i in range(len(words)):    \n",
    "#     if (len(words[i]) == 1) and (words[i][:] in back_word):\n",
    "#         print(\"1\")\n",
    "    if words[i] == back_words[i]:\n",
    "        print(\"Mirror\")\n",
    "    else :\n",
    "        print(\"Normal\")\n",
    "\n",
    "        "
   ]
  },
  {
   "cell_type": "code",
   "execution_count": null,
   "id": "224aec10",
   "metadata": {},
   "outputs": [],
   "source": [
    "count = 0\n",
    "for i in range(len(words)):\n",
    "    for j in range(len(words[i])):\n",
    "        if"
   ]
  },
  {
   "cell_type": "code",
   "execution_count": null,
   "id": "e5124dd7",
   "metadata": {},
   "outputs": [],
   "source": []
  },
  {
   "cell_type": "code",
   "execution_count": 249,
   "id": "e3a42d92",
   "metadata": {},
   "outputs": [
    {
     "name": "stdout",
     "output_type": "stream",
     "text": [
      "0\n",
      "1\n",
      "1\n",
      "0\n"
     ]
    }
   ],
   "source": [
    "normal_count = []\n",
    "back_count\n",
    "for i in range(len(words)):\n",
    "    for j in range(len(words[i])):\n",
    "        print(back_word.count(words[i][j]))\n",
    "        "
   ]
  },
  {
   "cell_type": "code",
   "execution_count": 247,
   "id": "b17dfaf4",
   "metadata": {},
   "outputs": [
    {
     "name": "stdout",
     "output_type": "stream",
     "text": [
      "0\n",
      "0\n",
      "0\n",
      "0\n",
      "0\n",
      "0\n"
     ]
    }
   ],
   "source": [
    "for i in back_word:\n",
    "    print(a.count(i))\n",
    "    "
   ]
  },
  {
   "cell_type": "code",
   "execution_count": 243,
   "id": "4ae160d2",
   "metadata": {},
   "outputs": [
    {
     "data": {
      "text/plain": [
       "0"
      ]
     },
     "execution_count": 243,
     "metadata": {},
     "output_type": "execute_result"
    }
   ],
   "source": [
    "back_word.count(a)"
   ]
  },
  {
   "cell_type": "code",
   "execution_count": 241,
   "id": "282bf410",
   "metadata": {},
   "outputs": [
    {
     "data": {
      "text/plain": [
       "0"
      ]
     },
     "execution_count": 241,
     "metadata": {},
     "output_type": "execute_result"
    }
   ],
   "source": [
    "a.count(back_word)"
   ]
  },
  {
   "cell_type": "markdown",
   "id": "46839b86",
   "metadata": {},
   "source": [
    "# Clean code"
   ]
  },
  {
   "cell_type": "code",
   "execution_count": 285,
   "id": "2afaf07e",
   "metadata": {},
   "outputs": [
    {
     "name": "stdout",
     "output_type": "stream",
     "text": [
      "3\n",
      "popooqoq\n",
      "bvdobvd\n",
      "banana\n",
      "Mirror\n",
      "Mirror\n",
      "Normal\n"
     ]
    }
   ],
   "source": [
    "# 뒤집혀도 똑같은 단어들 목록 생성    \n",
    "mirror = ['i', 'l', 'm', 'n', 'o', 'u', 'v', 'w', 'x']\n",
    "\n",
    "# 테스트 케이스 수\n",
    "num = int(input())\n",
    "words = []\n",
    "back_words = [] # 테스트 케이스 입력\n",
    "\n",
    "\n",
    "table = str.maketrans('szpqbd', 'zsqpdb') # translate 용 테이블 생성\n",
    "\n",
    "for i in range(num):\n",
    "    words.append(input())\n",
    "    back_words.append(words[i][::-1])  # 단어 역순으로 뒤집기\n",
    "    back_words[i] = back_words[i].translate(table)    # 문자 바꾸기(translate 활용)\n",
    "    \n",
    "\n",
    "# 최종 출력\n",
    "for i in range(len(words)):\n",
    "    # 문자열 수가 짝수일 경우, 같으면 mirror 출력 \n",
    "    if len(words[i]) % 2 == 0:\n",
    "        if words[i] == back_words[i]:\n",
    "            print(\"Mirror\")\n",
    "        else :\n",
    "            print(\"Normal\")\n",
    "\n",
    "    # 문자열이 홀수일 경우, 가운데 글자가 처음 만든 mirror 리스트 안에 있는지 파악 후, 단어가 같은지 확인 )\n",
    "    else : \n",
    "        if words[i][(len(words[i]) // 2):(len(words[i]) // 2) + 1] in mirror: #가운데 글자가 mirror 리스트에 있을때\n",
    "            if words[i] == back_words[i]:\n",
    "                print(\"Mirror\")\n",
    "            else :\n",
    "                print(\"Normal\")\n",
    "        else: # 가운데 글자가 다르면 노말 출력\n",
    "            print('Normal')\n"
   ]
  },
  {
   "cell_type": "code",
   "execution_count": null,
   "id": "ce444297",
   "metadata": {},
   "outputs": [],
   "source": []
  },
  {
   "cell_type": "markdown",
   "id": "ddf096ec",
   "metadata": {},
   "source": [
    "### 3\n",
    "popooqoq\n",
    "bvdobvd\n",
    "banana"
   ]
  },
  {
   "cell_type": "markdown",
   "id": "dc787b50",
   "metadata": {},
   "source": [
    "# 규차니 화이또..."
   ]
  },
  {
   "cell_type": "code",
   "execution_count": 280,
   "id": "89132b3c",
   "metadata": {},
   "outputs": [
    {
     "name": "stdout",
     "output_type": "stream",
     "text": [
      "1\n",
      "a\n"
     ]
    }
   ],
   "source": [
    "num = int(input())\n",
    "words = []\n",
    "\n",
    "for i in range(num):\n",
    "    words.append(input())"
   ]
  },
  {
   "cell_type": "code",
   "execution_count": 264,
   "id": "65969bc8",
   "metadata": {},
   "outputs": [
    {
     "name": "stdout",
     "output_type": "stream",
     "text": [
      "이건 짝수 대칭이에염\n",
      "이거슨 홀수에염\n",
      "이건 짝수 대칭이에염\n"
     ]
    }
   ],
   "source": [
    "for i in range(len(words)):\n",
    "    if len(words[i]) % 2 == 0:\n",
    "        print(\"이건 짝수 대칭이에염\")\n",
    "        \n",
    "    else : \n",
    "        print(\"이거슨 홀수에염\")"
   ]
  },
  {
   "cell_type": "code",
   "execution_count": 282,
   "id": "4f86e3a6",
   "metadata": {},
   "outputs": [
    {
     "data": {
      "text/plain": [
       "'a'"
      ]
     },
     "execution_count": 282,
     "metadata": {},
     "output_type": "execute_result"
    }
   ],
   "source": [
    "# 뒤쪽 잘라내기\n",
    "words[0][len(words[0]) // 2:]\n",
    "\n",
    "# 홀수일 경우\n",
    "words[0][(len(words[0]) // 2):(len(words[0]) // 2) + 1]\n"
   ]
  },
  {
   "cell_type": "code",
   "execution_count": 273,
   "id": "10990063",
   "metadata": {},
   "outputs": [
    {
     "data": {
      "text/plain": [
       "'oqoq'"
      ]
     },
     "execution_count": 273,
     "metadata": {},
     "output_type": "execute_result"
    }
   ],
   "source": [
    "# 문자바꾸기(translate) 활용\n",
    "table = str.maketrans('szpqbd', 'zsqpdb')\n",
    "\n",
    "\n",
    "for i in range(len(back_words)):\n",
    "    back_words[i] = back_words[i].translate(table)    \n",
    "\n"
   ]
  },
  {
   "cell_type": "code",
   "execution_count": null,
   "id": "1d5a37e5",
   "metadata": {},
   "outputs": [],
   "source": []
  }
 ],
 "metadata": {
  "kernelspec": {
   "display_name": "Python 3 (ipykernel)",
   "language": "python",
   "name": "python3"
  },
  "language_info": {
   "codemirror_mode": {
    "name": "ipython",
    "version": 3
   },
   "file_extension": ".py",
   "mimetype": "text/x-python",
   "name": "python",
   "nbconvert_exporter": "python",
   "pygments_lexer": "ipython3",
   "version": "3.9.7"
  }
 },
 "nbformat": 4,
 "nbformat_minor": 5
}
