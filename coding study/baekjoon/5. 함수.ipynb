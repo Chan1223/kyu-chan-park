{
 "cells": [
  {
   "cell_type": "markdown",
   "id": "d5255dbc",
   "metadata": {},
   "source": [
    "### 정수 N개의 합"
   ]
  },
  {
   "cell_type": "code",
   "execution_count": null,
   "id": "a0604da1",
   "metadata": {},
   "outputs": [],
   "source": [
    "def solve(a):\n",
    "    ans = sum(a)\n",
    "    return ans"
   ]
  },
  {
   "cell_type": "markdown",
   "id": "933d109d",
   "metadata": {},
   "source": [
    "### 셀프 넘버 "
   ]
  },
  {
   "cell_type": "code",
   "execution_count": null,
   "id": "1e9c58fb",
   "metadata": {},
   "outputs": [],
   "source": [
    "def d():\n",
    "    # 전체 수가 담긴 list 생성\n",
    "    total_num = []\n",
    "    for i in range(1, 10001):\n",
    "        total_num.append(i)\n",
    "    \n",
    "    # 생성자 함수가 담긴 list 생성\n",
    "    ctor_num = []\n",
    "    for i in range(1, 10001):\n",
    "        for j in str(i):\n",
    "            i += int(j)\n",
    "        ctor_num.append(i)\n",
    "    \n",
    "    # 전체 list - 생성자 함수 \n",
    "    self_num = []\n",
    "    for i in total_num:\n",
    "        if i not in ctor_num:\n",
    "            self_num.append(i)\n",
    "    \n",
    "    # 생성자 함수 출력\n",
    "    for i in self_num:\n",
    "        print(i)\n",
    "        \n",
    "d()"
   ]
  },
  {
   "cell_type": "markdown",
   "id": "70192a92",
   "metadata": {},
   "source": [
    "### 한수"
   ]
  },
  {
   "cell_type": "code",
   "execution_count": null,
   "id": "b0fe2e63",
   "metadata": {},
   "outputs": [],
   "source": [
    "n = int(input())\n",
    "\n",
    "count = 0\n",
    "\n",
    "for i in range(1, n+1):\n",
    "    if i <= 99:\n",
    "        count += 1 \n",
    "    else:\n",
    "        num = str(i)\n",
    "        if int(num[2]) + int(num[0]) == int(num[1])*2 :\n",
    "            count += 1\n",
    "print(count)"
   ]
  }
 ],
 "metadata": {
  "kernelspec": {
   "display_name": "Python 3 (ipykernel)",
   "language": "python",
   "name": "python3"
  },
  "language_info": {
   "codemirror_mode": {
    "name": "ipython",
    "version": 3
   },
   "file_extension": ".py",
   "mimetype": "text/x-python",
   "name": "python",
   "nbconvert_exporter": "python",
   "pygments_lexer": "ipython3",
   "version": "3.9.7"
  }
 },
 "nbformat": 4,
 "nbformat_minor": 5
}
