{
 "cells": [
  {
   "cell_type": "markdown",
   "id": "09ba5d8e",
   "metadata": {},
   "source": [
    "### 구구단"
   ]
  },
  {
   "cell_type": "code",
   "execution_count": 1,
   "id": "6a63bfc7",
   "metadata": {},
   "outputs": [
    {
     "name": "stdout",
     "output_type": "stream",
     "text": [
      "3\n",
      "3 * 1 = 3\n",
      "3 * 2 = 6\n",
      "3 * 3 = 9\n",
      "3 * 4 = 12\n",
      "3 * 5 = 15\n",
      "3 * 6 = 18\n",
      "3 * 7 = 21\n",
      "3 * 8 = 24\n",
      "3 * 9 = 27\n"
     ]
    }
   ],
   "source": [
    "n = int(input())\n",
    "for i in range(1, 10):\n",
    "    print(f'{n} * {i} = {n * i}')"
   ]
  },
  {
   "cell_type": "markdown",
   "id": "bbe06874",
   "metadata": {},
   "source": [
    "### A+B - 3"
   ]
  },
  {
   "cell_type": "code",
   "execution_count": 2,
   "id": "7f16bb3b",
   "metadata": {},
   "outputs": [
    {
     "name": "stdout",
     "output_type": "stream",
     "text": [
      "5\n",
      "1 1\n",
      "2\n",
      "2 3\n",
      "5\n",
      "3 4\n",
      "7\n",
      "9 8\n",
      "17\n",
      "5 2\n",
      "7\n"
     ]
    }
   ],
   "source": [
    "t = int(input())\n",
    "\n",
    "for i in range(t):\n",
    "    a, b = map(int, input().split())\n",
    "    print(a + b)"
   ]
  },
  {
   "cell_type": "markdown",
   "id": "e65f6a29",
   "metadata": {},
   "source": [
    "### 합"
   ]
  },
  {
   "cell_type": "code",
   "execution_count": 3,
   "id": "6dd820d3",
   "metadata": {},
   "outputs": [
    {
     "name": "stdout",
     "output_type": "stream",
     "text": [
      "3\n",
      "6\n"
     ]
    }
   ],
   "source": [
    "n = int(input())\n",
    "\n",
    "num = 0 \n",
    "for i in range(1, n+1):\n",
    "    num += i\n",
    "print(num)"
   ]
  },
  {
   "cell_type": "markdown",
   "id": "01c87e9a",
   "metadata": {},
   "source": [
    "### 빠른 A+B"
   ]
  },
  {
   "cell_type": "code",
   "execution_count": null,
   "id": "df447a0a",
   "metadata": {},
   "outputs": [],
   "source": [
    "import sys\n",
    "t = int(input())\n",
    "\n",
    "for i in range(t):\n",
    "    a, b = map(int, sys.stdin.readline().split())\n",
    "    print(a+b)"
   ]
  },
  {
   "cell_type": "markdown",
   "id": "402776fd",
   "metadata": {},
   "source": [
    "### N 찍기"
   ]
  },
  {
   "cell_type": "code",
   "execution_count": 5,
   "id": "c950d14b",
   "metadata": {},
   "outputs": [
    {
     "name": "stdout",
     "output_type": "stream",
     "text": [
      "5\n",
      "1\n",
      "2\n",
      "3\n",
      "4\n",
      "5\n"
     ]
    }
   ],
   "source": [
    "n = int(input())\n",
    "\n",
    "for i in range(1, n+1):\n",
    "    print(i)"
   ]
  },
  {
   "cell_type": "markdown",
   "id": "83c60e1d",
   "metadata": {},
   "source": [
    "### 기찍 N"
   ]
  },
  {
   "cell_type": "code",
   "execution_count": 6,
   "id": "366deb6c",
   "metadata": {},
   "outputs": [
    {
     "name": "stdout",
     "output_type": "stream",
     "text": [
      "5\n",
      "5\n",
      "4\n",
      "3\n",
      "2\n",
      "1\n"
     ]
    }
   ],
   "source": [
    "n = int(input())\n",
    "\n",
    "for i in range(n, 0, -1):\n",
    "    print(i)"
   ]
  },
  {
   "cell_type": "markdown",
   "id": "b8fb5e0e",
   "metadata": {},
   "source": [
    "### A+B - 7 "
   ]
  },
  {
   "cell_type": "code",
   "execution_count": null,
   "id": "780c7553",
   "metadata": {},
   "outputs": [],
   "source": [
    "import sys \n",
    "\n",
    "t = int(input())\n",
    "\n",
    "for i in range(1, t+1):\n",
    "    a, b = map(int, sys.stdin.readline().split())\n",
    "    print(f'Case #{i}: {a + b}')"
   ]
  },
  {
   "cell_type": "markdown",
   "id": "e0b5b7ff",
   "metadata": {},
   "source": [
    "### A+B - 8 "
   ]
  },
  {
   "cell_type": "code",
   "execution_count": null,
   "id": "a23306d0",
   "metadata": {},
   "outputs": [],
   "source": [
    "import sys \n",
    "\n",
    "t = int(input())\n",
    "\n",
    "for i in range(1, t+1):\n",
    "    a, b = map(int, sys.stdin.readline().split())\n",
    "    print(f'Case #{i}: {a} + {b} = {a + b}')"
   ]
  },
  {
   "cell_type": "markdown",
   "id": "fd678641",
   "metadata": {},
   "source": [
    "### 별 찍기 - 1"
   ]
  },
  {
   "cell_type": "code",
   "execution_count": 8,
   "id": "d5e5038f",
   "metadata": {},
   "outputs": [
    {
     "name": "stdout",
     "output_type": "stream",
     "text": [
      "5\n",
      "*\n",
      "**\n",
      "***\n",
      "****\n",
      "*****\n"
     ]
    }
   ],
   "source": [
    "n = int(input())\n",
    "\n",
    "for i in range(1,n+1):\n",
    "    print('*' * i)"
   ]
  },
  {
   "cell_type": "markdown",
   "id": "f4deef46",
   "metadata": {},
   "source": [
    "### 별 찍기 - 2"
   ]
  },
  {
   "cell_type": "code",
   "execution_count": 9,
   "id": "09e651a8",
   "metadata": {},
   "outputs": [
    {
     "name": "stdout",
     "output_type": "stream",
     "text": [
      "5\n",
      "    *\n",
      "   **\n",
      "  ***\n",
      " ****\n",
      "*****\n"
     ]
    }
   ],
   "source": [
    "n = int(input())\n",
    "\n",
    "for i in range(1, n+1):\n",
    "    print(' ' * (n-i) + '*' * i)"
   ]
  },
  {
   "cell_type": "markdown",
   "id": "4b21bf50",
   "metadata": {},
   "source": [
    "### X보다 작은 수"
   ]
  },
  {
   "cell_type": "code",
   "execution_count": null,
   "id": "dce697d3",
   "metadata": {},
   "outputs": [],
   "source": [
    "import sys\n",
    "\n",
    "n, x = map(int, input().split())\n",
    "a = list(map(int, sys.stdin.readline().split()))\n",
    "\n",
    "b = []\n",
    "for i in range(len(a)):\n",
    "    if a[i] < x :\n",
    "        b.append(a[i])\n",
    "\n",
    "for i in range(len(b)):\n",
    "    print(b[i], end = ' ')"
   ]
  },
  {
   "cell_type": "markdown",
   "id": "c4234ddc",
   "metadata": {},
   "source": [
    "### A+B - 5 "
   ]
  },
  {
   "cell_type": "code",
   "execution_count": null,
   "id": "29537137",
   "metadata": {},
   "outputs": [],
   "source": [
    "import sys\n",
    "\n",
    "while True:\n",
    "    a, b = map(int, sys.stdin.readline().split())\n",
    "    if a==0 and b==0 :\n",
    "        break\n",
    "    print(a+b)"
   ]
  },
  {
   "cell_type": "markdown",
   "id": "33d951cc",
   "metadata": {},
   "source": [
    "### A+B - 4"
   ]
  },
  {
   "cell_type": "code",
   "execution_count": null,
   "id": "c3a2c438",
   "metadata": {},
   "outputs": [],
   "source": [
    "while True:\n",
    "    try :\n",
    "        a, b = map(int, input().split())\n",
    "        print(a+b)\n",
    "    except :break"
   ]
  },
  {
   "cell_type": "markdown",
   "id": "f6b4f849",
   "metadata": {},
   "source": [
    "### 더하기 사이클"
   ]
  },
  {
   "cell_type": "code",
   "execution_count": null,
   "id": "932138f2",
   "metadata": {},
   "outputs": [],
   "source": [
    "n = input()\n",
    "\n",
    "first = n\n",
    "count = 0\n",
    "\n",
    "while True:\n",
    "    if len(n) == 1:\n",
    "        n = '0' + n\n",
    "    n = n[-1] + str(int(n[0]) + int(n[-1]))[-1]\n",
    "    count += 1\n",
    "    \n",
    "    if int(first) == int(n):\n",
    "        break\n",
    "print(count)"
   ]
  }
 ],
 "metadata": {
  "kernelspec": {
   "display_name": "Python 3 (ipykernel)",
   "language": "python",
   "name": "python3"
  },
  "language_info": {
   "codemirror_mode": {
    "name": "ipython",
    "version": 3
   },
   "file_extension": ".py",
   "mimetype": "text/x-python",
   "name": "python",
   "nbconvert_exporter": "python",
   "pygments_lexer": "ipython3",
   "version": "3.9.7"
  }
 },
 "nbformat": 4,
 "nbformat_minor": 5
}
