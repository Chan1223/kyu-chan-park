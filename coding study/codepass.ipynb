{
 "cells": [
  {
   "cell_type": "code",
   "execution_count": 31,
   "metadata": {},
   "outputs": [],
   "source": [
    "N, M = map(int, input().split())\n"
   ]
  },
  {
   "cell_type": "code",
   "execution_count": 17,
   "metadata": {},
   "outputs": [],
   "source": [
    "INF = 1e20"
   ]
  },
  {
   "cell_type": "code",
   "execution_count": 32,
   "metadata": {},
   "outputs": [],
   "source": [
    "arr  = [[] for i in range(N+1)]\n",
    "\n",
    "INF = 1e20\n",
    "for i in range(N):\n",
    "    a, b, c = map(int, input().split())\n",
    "    arr[a].append((b,c))"
   ]
  },
  {
   "cell_type": "code",
   "execution_count": 43,
   "metadata": {},
   "outputs": [],
   "source": [
    "def daijkstra():\n",
    "    dist = [INF] * (N+1)      # 노드별 최단거리 기입용\n",
    "    visited = [0] * (N+1)     # 노드 방문 여부 확인용\n",
    "\n",
    "    # 시작 노드 세팅\n",
    "    dist[1] = 0                 # 시작 노드는 자기 자신이기 때문에 거리가 0\n",
    "\n",
    "    while True:\n",
    "        cur, minDist = 0, INF\n",
    "       \n",
    "        for i in range(1, N+1):\n",
    "            if visited[i] == 1: continue   # 방문했을 경우 해당 지역을 continue 처리\n",
    "            if dist[i] < minDist :         # 현재 노드에서 갈 수 있는 방법이 minDist보다 빠를 경우\n",
    "                minDist, cur = dist[i], i  # mindist와 cur 교체\n",
    "        \n",
    "        if cur == 0 : \n",
    "            break\n",
    "            \n",
    "        if cur == N : \n",
    "            return dist[cur], dist, visited\n",
    "        \n",
    "\n",
    "        visited[cur] = 1                    # 해당 노드 방문처리\n",
    "\n",
    "        for node, cost in arr[cur]:\n",
    "            dist[node] = min(dist[node], dist[cur] + cost)\n",
    "        \n",
    "    return -1 \n"
   ]
  },
  {
   "cell_type": "code",
   "execution_count": 44,
   "metadata": {},
   "outputs": [
    {
     "data": {
      "text/plain": [
       "(5, [1e+20, 0, 3, 7, 5], [0, 1, 1, 0, 0])"
      ]
     },
     "execution_count": 44,
     "metadata": {},
     "output_type": "execute_result"
    }
   ],
   "source": [
    "daijkstra()"
   ]
  },
  {
   "cell_type": "code",
   "execution_count": null,
   "metadata": {},
   "outputs": [],
   "source": []
  }
 ],
 "metadata": {
  "kernelspec": {
   "display_name": "base",
   "language": "python",
   "name": "python3"
  },
  "language_info": {
   "codemirror_mode": {
    "name": "ipython",
    "version": 3
   },
   "file_extension": ".py",
   "mimetype": "text/x-python",
   "name": "python",
   "nbconvert_exporter": "python",
   "pygments_lexer": "ipython3",
   "version": "3.9.7"
  }
 },
 "nbformat": 4,
 "nbformat_minor": 2
}
