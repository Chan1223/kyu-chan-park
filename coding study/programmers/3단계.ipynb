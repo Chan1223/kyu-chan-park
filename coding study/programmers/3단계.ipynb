{
 "cells": [
  {
   "cell_type": "markdown",
   "metadata": {},
   "source": [
    "### 베스트앨범"
   ]
  },
  {
   "cell_type": "code",
   "execution_count": null,
   "metadata": {},
   "outputs": [],
   "source": [
    "def solution(genres, plays):\n",
    "    # 장르, 플레이횟수, 인덱스 설정\n",
    "    temp = [[genres[i], plays[i], i] for i in range(len(genres))]\n",
    "    # 장르, 플레이횟수 많은 순으로 정렬\n",
    "    temp = sorted(temp, key= lambda x : [x[0], x[1]], reverse = True)\n",
    "    \n",
    "    # 각 장르별 총 플레이 횟수 파악 후, 장르 우선순위 파악\n",
    "    genre_sum = {}\n",
    "    for i in range(len(genres)):\n",
    "        if genres[i] not in genre_sum:\n",
    "            genre_sum[genres[i]] = plays[i]\n",
    "        else : \n",
    "            genre_sum[genres[i]] += plays[i]\n",
    "    genre_sum = sorted(genre_sum.items(), key=lambda x : x[1], reverse=True)\n",
    "    \n",
    "    # 우선순위에 따라서 각 장르별 최대 2번씩 선택되게끔 \n",
    "    answer = []\n",
    "    for prior in genre_sum:    \n",
    "        count = 0\n",
    "        for j in temp:\n",
    "            genre, play, index = j\n",
    "            if prior[0] == genre:\n",
    "                answer.append(index)\n",
    "                count += 1\n",
    "            if count == 2:\n",
    "                count = 0\n",
    "                break\n",
    "    return answer\n",
    "            "
   ]
  }
 ],
 "metadata": {
  "kernelspec": {
   "display_name": "base",
   "language": "python",
   "name": "python3"
  },
  "language_info": {
   "codemirror_mode": {
    "name": "ipython",
    "version": 3
   },
   "file_extension": ".py",
   "mimetype": "text/x-python",
   "name": "python",
   "nbconvert_exporter": "python",
   "pygments_lexer": "ipython3",
   "version": "3.9.7"
  }
 },
 "nbformat": 4,
 "nbformat_minor": 2
}
