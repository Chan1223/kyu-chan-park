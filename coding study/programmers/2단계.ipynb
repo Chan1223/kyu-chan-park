{
 "cells": [
  {
   "cell_type": "markdown",
   "metadata": {},
   "source": [
    "### 최댓값과 최솟값"
   ]
  },
  {
   "cell_type": "code",
   "execution_count": null,
   "metadata": {},
   "outputs": [],
   "source": [
    "def solution(s):\n",
    "    a = list(map(int, s.split(\" \")))\n",
    "    return f'{min(a)} {max(a)}'"
   ]
  },
  {
   "cell_type": "markdown",
   "metadata": {},
   "source": [
    "### JadenCase 문자열 만들기"
   ]
  },
  {
   "cell_type": "code",
   "execution_count": null,
   "metadata": {},
   "outputs": [],
   "source": [
    "def solution(s):\n",
    "    answer = []\n",
    "    for i in s.split(\" \"):\n",
    "        if len(i)>1:\n",
    "            answer.append(i[0].upper() + i[1:].lower())\n",
    "        else :\n",
    "            answer.append(i.upper())\n",
    "    return \" \".join(answer)"
   ]
  },
  {
   "cell_type": "code",
   "execution_count": null,
   "metadata": {},
   "outputs": [],
   "source": [
    "# capitalize 함수\n",
    "def solution(s):\n",
    "    return \" \".join([i.capitalize() for i in s.split(\" \")])"
   ]
  },
  {
   "cell_type": "markdown",
   "metadata": {},
   "source": [
    "### 최솟값 만들기"
   ]
  },
  {
   "cell_type": "code",
   "execution_count": null,
   "metadata": {},
   "outputs": [],
   "source": [
    "def solution(A,B):\n",
    "    answer = 0\n",
    "    A = sorted(A)\n",
    "    B = sorted(B, reverse=True)\n",
    "    \n",
    "    for i in range(len(A)):\n",
    "        answer += A[i]*B[i]\n",
    "    return answer"
   ]
  },
  {
   "cell_type": "code",
   "execution_count": null,
   "metadata": {},
   "outputs": [],
   "source": [
    "# zip 사용시\n",
    "def solution(A,B):\n",
    "    answer = 0\n",
    "    A = sorted(A)\n",
    "    B = sorted(B, reverse=True)\n",
    "    \n",
    "    for a, b in zip(A, B):\n",
    "        answer += a * b\n",
    "    return answer"
   ]
  },
  {
   "cell_type": "markdown",
   "metadata": {},
   "source": [
    "### 올바른 괄호"
   ]
  },
  {
   "cell_type": "code",
   "execution_count": null,
   "metadata": {},
   "outputs": [],
   "source": [
    "def solution(s):\n",
    "    stack = [] # 빈 스택 생성    \n",
    "    for i in s: # 반복\n",
    "        if i == '(': # '('가 나오면 ( 붙이기\n",
    "            stack.append(i)\n",
    "        else :\n",
    "            if not stack:  # stack이 비어있는 상태에서 ) 가 먼저 나오면 false 처리\n",
    "                return False \n",
    "            stack.pop() # stack이 비어있지 않은 경우에 )가 나오면 pop\n",
    "    return not stack   # stack이 비어있으면 True, 아니면 False"
   ]
  },
  {
   "cell_type": "markdown",
   "metadata": {},
   "source": [
    "### 이진 변환 반복하기"
   ]
  },
  {
   "cell_type": "code",
   "execution_count": null,
   "metadata": {},
   "outputs": [],
   "source": [
    "from collections import Counter\n",
    "def solution(s):\n",
    "    convert = 0\n",
    "    zero = 0\n",
    "    \n",
    "    while s!='1':    \n",
    "        temp = Counter(s)\n",
    "        s = temp['1'] * '1'\n",
    "        s = bin(len(s))[2:]\n",
    "        zero += temp['0']\n",
    "        convert += 1\n",
    "    return convert, zero"
   ]
  },
  {
   "cell_type": "markdown",
   "metadata": {},
   "source": [
    "### 숫자의 표현"
   ]
  },
  {
   "cell_type": "code",
   "execution_count": null,
   "metadata": {},
   "outputs": [],
   "source": [
    "def solution(n):\n",
    "    answer = 1 # 자기 자신 포함하기\n",
    "    \n",
    "    for i in range(1, n // 2 + 1):\n",
    "        total = 0        \n",
    "        \n",
    "        while total != n:\n",
    "            total += i\n",
    "            i += 1\n",
    "            if total >= n:\n",
    "                break\n",
    "        if total == n:\n",
    "            answer += 1\n",
    "    return answer"
   ]
  },
  {
   "cell_type": "markdown",
   "metadata": {},
   "source": [
    "### 다음 큰 숫자"
   ]
  },
  {
   "cell_type": "code",
   "execution_count": null,
   "metadata": {},
   "outputs": [],
   "source": [
    "def solution(n):\n",
    "    for i in range(n+1, 1000001):\n",
    "        if bin(n).count('1') == bin(i).count('1'):\n",
    "            break\n",
    "    return i"
   ]
  },
  {
   "cell_type": "markdown",
   "metadata": {},
   "source": [
    "### 피보나치 수"
   ]
  },
  {
   "cell_type": "code",
   "execution_count": null,
   "metadata": {},
   "outputs": [],
   "source": [
    "def solution(n):\n",
    "    temp = []\n",
    "    a, b = 1, 1\n",
    "    for i in range(n):    \n",
    "        temp.append(a)\n",
    "        a, b = b, a + b \n",
    "        \n",
    "    return temp[-1] % 1234567"
   ]
  },
  {
   "cell_type": "markdown",
   "metadata": {},
   "source": [
    "### 짝지어 제거하기"
   ]
  },
  {
   "cell_type": "code",
   "execution_count": null,
   "metadata": {},
   "outputs": [],
   "source": [
    "def solution(s):\n",
    "    if len(s) % 2 == 1:\n",
    "        return 0\n",
    "    else :         \n",
    "        temp = [s[0]]\n",
    "        for i in s[1:]:\n",
    "            temp.append(i)\n",
    "            if len(temp) >= 2 and temp[-1] == temp[-2]:\n",
    "                temp.pop()\n",
    "                temp.pop()\n",
    "        if len(temp) == 0:\n",
    "            return 1\n",
    "        else :\n",
    "            return 0"
   ]
  },
  {
   "cell_type": "markdown",
   "metadata": {},
   "source": [
    "### 카펫"
   ]
  },
  {
   "cell_type": "code",
   "execution_count": null,
   "metadata": {},
   "outputs": [],
   "source": [
    "def solution(brown, yellow):\n",
    "    total = brown + yellow\n",
    "    answer = [0, 0]\n",
    "    \n",
    "    for i in range(3, total):\n",
    "        if total % i == 0:\n",
    "            rest = total // i\n",
    "            for j in range(1, rest+1):\n",
    "                if rest % j == 0 and i * j == total:\n",
    "                    if (i - 2) * (j - 2) == yellow:\n",
    "                        answer = [i, j]\n",
    "                        break\n",
    "    return answer"
   ]
  },
  {
   "cell_type": "markdown",
   "metadata": {},
   "source": [
    "### 조이스틱 "
   ]
  },
  {
   "cell_type": "code",
   "execution_count": null,
   "metadata": {},
   "outputs": [],
   "source": [
    "def solution(name):\n",
    "    # 조이스틱 조작 횟수\n",
    "    answer = 0\n",
    "    \n",
    "    # 최소 이동 거리\n",
    "    min_move = len(name) - 1\n",
    "    \n",
    "    for i, char in enumerate(name):\n",
    "        # A->B 순서로 가는 방법, A-Z로 가는 방법을 비교해서 최솟값 찾기\n",
    "        answer += (min(ord(char) - ord('A'), ord('Z') - ord(char)+1))\n",
    "        \n",
    "        next = i + 1 # 현재 알파벳의 다음 차례 확인\n",
    "        \n",
    "        # 연속된 A 문자열 찾기('AAAAA' 같이 나온 경우 생략을 위함)\n",
    "        while next < len(name) and name[next]=='A': \n",
    "            next += 1\n",
    "\n",
    "        # 기존, 연속된 A의 왼쪽시작 방식, 연속된 A의 오른쪽시작 방식 비교 및 갱신\n",
    "        min_move = min([min_move, 2 *i + len(name) - next, i + 2 * (len(name) -next)])\n",
    "    answer += min_move \n",
    "    \n",
    "    return answer"
   ]
  },
  {
   "cell_type": "markdown",
   "metadata": {},
   "source": [
    "### 큰 수 만들기"
   ]
  },
  {
   "cell_type": "code",
   "execution_count": 33,
   "metadata": {},
   "outputs": [],
   "source": [
    "def solution(number, k):\n",
    "    answer = []\n",
    "    \n",
    "    for i in number:\n",
    "        while k > 0 and answer and answer[-1] < i:\n",
    "            answer.pop()\n",
    "            k -= 1\n",
    "        answer.append(i)\n",
    "    \n",
    "    return ''.join(answer) if k == 0 else ''.join(answer)[:-k]"
   ]
  },
  {
   "cell_type": "markdown",
   "metadata": {},
   "source": [
    "### 구명보트"
   ]
  },
  {
   "cell_type": "code",
   "execution_count": null,
   "metadata": {},
   "outputs": [],
   "source": [
    "def solution(people, limit):\n",
    "    answer = 0\n",
    "    people = sorted(people) # 5만개 수준은 정렬 가능\n",
    "    \n",
    "    start = 0\n",
    "    end = len(people)-1\n",
    "\n",
    "    while (start<= end): # start 와 end가 일치할때까지\n",
    "        if (people[start] + people[end] <= limit): # 제일 큰값과 작은 값이 limit 안에 들면 함께 탈출\n",
    "            start += 1\n",
    "            end -= 1\n",
    "        else : # 제일 큰값과 작은값 합이 limit를 넘으면 제일 큰값만 탈출\n",
    "            end -= 1\n",
    "        answer += 1\n",
    "    return answer"
   ]
  },
  {
   "cell_type": "markdown",
   "metadata": {},
   "source": [
    "### 전화번호 목록"
   ]
  },
  {
   "cell_type": "code",
   "execution_count": 14,
   "metadata": {},
   "outputs": [],
   "source": [
    "def solution(phone_book):\n",
    "    hash = {}\n",
    "    answer = True\n",
    "\n",
    "    for i in phone_book:\n",
    "        hash[i] = 1\n",
    "    \n",
    "    for nums in phone_book:\n",
    "        arr = ''\n",
    "        for num in nums:\n",
    "            arr += num\n",
    "            if arr in hash and arr != nums:\n",
    "                answer = False\n",
    "                break\n",
    "    return answer"
   ]
  },
  {
   "cell_type": "markdown",
   "metadata": {},
   "source": [
    "### 의상"
   ]
  },
  {
   "cell_type": "code",
   "execution_count": null,
   "metadata": {},
   "outputs": [],
   "source": [
    "def solution(clothes):    \n",
    "    dic = {}\n",
    "    for v, k in clothes:\n",
    "        if k in dic:\n",
    "            dic[k] += [v]\n",
    "        else : \n",
    "            dic[k] = [v]\n",
    "            \n",
    "    answer = 1\n",
    "    for k, v in dic.items():\n",
    "        answer *= (len(dic[k]) + 1) \n",
    "    return answer -1"
   ]
  },
  {
   "cell_type": "markdown",
   "metadata": {},
   "source": [
    "### 기능개발 "
   ]
  },
  {
   "cell_type": "code",
   "execution_count": null,
   "metadata": {},
   "outputs": [],
   "source": [
    "def solution(progresses, speeds):\n",
    "    answer = []\n",
    "\n",
    "    while len(progresses) >= 1:\n",
    "        temp = 0\n",
    "        # 작업 더하기\n",
    "        for i in range(len(progresses)):\n",
    "            progresses[i] += speeds[i]\n",
    "        \n",
    "        # 100이 넘는 업무들을 센 뒤 제거\n",
    "        while progresses and progresses[0]>= 100:\n",
    "            progresses.pop(0)\n",
    "            speeds.pop(0)\n",
    "            temp += 1\n",
    "        \n",
    "        if temp != 0 :\n",
    "            answer.append(temp)\n",
    "    return answer"
   ]
  },
  {
   "cell_type": "markdown",
   "metadata": {},
   "source": [
    "### 프로세스"
   ]
  },
  {
   "cell_type": "code",
   "execution_count": null,
   "metadata": {},
   "outputs": [],
   "source": [
    "from collections import deque\n",
    "\n",
    "def solution(priorities, location):\n",
    "    answer = []\n",
    "    queue = deque((ind, data) for ind, data in enumerate(priorities)) # queue 인덱스 부여\n",
    "\n",
    "    while queue: # queue에 값이 있다면\n",
    "        process = queue.popleft() # queue 첫값 빼내서 확인\n",
    "        \n",
    "        if queue and any(process[1]<q[1] for q in queue): # 해당 값보다 큰 값이 큐에 있다면\n",
    "            queue.append(process) # 해당값을 큐 맨 뒤로 집어넣음\n",
    "        else :\n",
    "            answer.append(process) # 해당 값이 제일 크다면 해당 값을 빼냄\n",
    "        \n",
    "    return answer.index((location, priorities[location])) +1"
   ]
  },
  {
   "cell_type": "markdown",
   "metadata": {},
   "source": [
    "### 다리를 지나는 트럭"
   ]
  },
  {
   "cell_type": "code",
   "execution_count": null,
   "metadata": {},
   "outputs": [],
   "source": [
    "# 처음 풀이, 시간 fail\n",
    "from collections import deque\n",
    "def solution(bridge_length, weight, truck_weights):\n",
    "    time = 1\n",
    "    queue = deque([0 for i in range(bridge_length)])\n",
    "    truck_weights = deque(truck_weights)\n",
    "    \n",
    "    queue[-1] = truck_weights.popleft()\n",
    "    while truck_weights:\n",
    "        queue.rotate(-1)\n",
    "        if sum(queue) + truck_weights[0] <= weight:\n",
    "            queue[-1] = truck_weights.popleft()\n",
    "        time +=1\n",
    "        queue[0] = 0\n",
    "    return time+bridge_length"
   ]
  },
  {
   "cell_type": "code",
   "execution_count": null,
   "metadata": {},
   "outputs": [],
   "source": [
    "# Queue를 기준으로 풀지 않고 무게를 기준으로 풀어서 시간 효율성 상승\n",
    "from collections import deque\n",
    "def solution(bridge_length, weight, truck_weights):\n",
    "    time = 0 # 초기 시간 설정\n",
    "    queue = deque([0] * bridge_length) # 다리 길이만큼 큐 생성\n",
    "    truck_weights = deque(truck_weights) # 트럭 큐 생성\n",
    "    \n",
    "    current_weight = 0 # 현재 다리 무게 정의\n",
    "    \n",
    "    while truck_weights: # 트럭 큐에 값이 있으면\n",
    "        time +=1 # 1초 증가\n",
    "        current_weight = current_weight - queue.popleft() # 현재 다리 무게에 queue 왼쪽 끝값 더하기\n",
    "        \n",
    "        if current_weight + truck_weights[0] <= weight: # 트럭을 하나 추가해도 무게 한도를 넘지 않으면\n",
    "            current_weight = current_weight + truck_weights[0] # 트럭 무게만큼 현재 다리 무게 변화 \n",
    "            queue.append(truck_weights.popleft()) # 트럭 큐에서 트럭을 제거해서 다리로 올림\n",
    "        else : # 무게 한도를 넘을 것 같으면\n",
    "            queue.append(0) # 큐만 증가\n",
    "            \n",
    "    return time + bridge_length # 마지막 트럭이 다리에 올라올때까지의 시간 + 트럭이 통과할때 걸리는 시간"
   ]
  },
  {
   "cell_type": "markdown",
   "metadata": {},
   "source": [
    "### 주식가격"
   ]
  },
  {
   "cell_type": "code",
   "execution_count": null,
   "metadata": {},
   "outputs": [],
   "source": [
    "# 큐 안쓰고 풀기\n",
    "def solution(prices):\n",
    "    times = []\n",
    "    for i in range(len(prices)-1):\n",
    "        time = 0\n",
    "        for j in range(i, len(prices)-1):\n",
    "            if prices[i] <= prices[j]:\n",
    "                time += 1\n",
    "            else :\n",
    "                break\n",
    "        times.append(time)\n",
    "    times.append(0)\n",
    "    return times"
   ]
  },
  {
   "cell_type": "code",
   "execution_count": null,
   "metadata": {},
   "outputs": [],
   "source": [
    "# 큐 사용한 경우, 더 빠름\n",
    "from collections import deque\n",
    "def solution(prices):\n",
    "    prices = deque(prices)\n",
    "    times =[]\n",
    "    while prices:\n",
    "        price = prices[0]\n",
    "        time = -1\n",
    "        for i in prices:\n",
    "            if price<= i:\n",
    "                time += 1\n",
    "            else :\n",
    "                time+=1\n",
    "                break\n",
    "        prices.popleft()\n",
    "        times.append(time)\n",
    "    return times"
   ]
  },
  {
   "cell_type": "markdown",
   "metadata": {},
   "source": [
    "### 더 맵게"
   ]
  },
  {
   "cell_type": "code",
   "execution_count": null,
   "metadata": {},
   "outputs": [],
   "source": [
    "# 힙으로 풀기\n",
    "import heapq\n",
    "\n",
    "def solution(scoville, K):\n",
    "    count = 0\n",
    "    heapq.heapify(scoville)\n",
    "    \n",
    "    while scoville[0] < K :\n",
    "        if len(scoville) < 2 :\n",
    "            return -1\n",
    "        \n",
    "        new = heapq.heappop(scoville) + heapq.heappop(scoville) * 2\n",
    "        heapq.heappush(scoville, new)\n",
    "        count += 1\n",
    "    return count"
   ]
  },
  {
   "cell_type": "code",
   "execution_count": 59,
   "metadata": {},
   "outputs": [],
   "source": [
    "# 큐로 풀기\n",
    "from collections import deque\n",
    "\n",
    "def solution(scoville, K):\n",
    "    answer = 0  # 정답 기록용\n",
    "    mix = deque() # 섞인 값 저장용\n",
    "    scoville.sort() # 최초 값 정렬\n",
    "    sco = deque(scoville) # deque 변환\n",
    "    \n",
    "    while (sco and sco[0] < K) or (mix and mix[0] < K):\n",
    "        answer += 1\n",
    "        if len(sco) + len(mix) <= 1: \n",
    "            return -1\n",
    "        \n",
    "        food = [0]*2\n",
    "        for a in range(2):\n",
    "            if sco and mix:\n",
    "                if sco[0] < mix[0]:\n",
    "                    food[a] = sco.popleft()\n",
    "                else:\n",
    "                    food[a] = mix.popleft()\n",
    "            elif sco:\n",
    "                food[a] = sco.popleft()\n",
    "            else:\n",
    "                food[a] = mix.popleft()\n",
    "            \n",
    "        mix.append(food[0]+food[1]*2)\n",
    "        \n",
    "    return answer    "
   ]
  },
  {
   "cell_type": "markdown",
   "metadata": {},
   "source": [
    "### 가장 큰 수"
   ]
  },
  {
   "cell_type": "code",
   "execution_count": null,
   "metadata": {},
   "outputs": [],
   "source": [
    "def solution(numbers):\n",
    "    temp = [str(i) for i in numbers] # 글자로 변환\n",
    "    \n",
    "    # 글자 * 3 으로 최소 원소가 3자리 이상이 되게 설정한 뒤 정렬\n",
    "    temp = sorted(temp, key = lambda x : x*3, reverse=True) \n",
    "    \n",
    "    # '0000'의 경우는 '0'으로 표기될 수 있게 int 형변환 후 str 변환\n",
    "    return str(int(''.join(temp)))"
   ]
  },
  {
   "cell_type": "markdown",
   "metadata": {},
   "source": [
    "### H-Index"
   ]
  },
  {
   "cell_type": "code",
   "execution_count": null,
   "metadata": {},
   "outputs": [],
   "source": [
    "def solution(citations):\n",
    "    # 6회 이상 인용 1회\n",
    "    # 5회 이상 인용 2회\n",
    "    # 3회 이상 인용 3회 -> h_index는 3\n",
    "    # 1회 이상 인용 4회\n",
    "    # 0회 이상 인용 5회\n",
    "    \n",
    "    citations = sorted(citations, reverse=True) # 내림차순 정렬\n",
    "    \n",
    "    h = 0 # 최초 변수 설정\n",
    "    for ind, cit in enumerate(citations, start=1):\n",
    "        h = max(h, min(cit, ind))\n",
    "    \n",
    "    return h"
   ]
  }
 ],
 "metadata": {
  "kernelspec": {
   "display_name": "base",
   "language": "python",
   "name": "python3"
  },
  "language_info": {
   "codemirror_mode": {
    "name": "ipython",
    "version": 3
   },
   "file_extension": ".py",
   "mimetype": "text/x-python",
   "name": "python",
   "nbconvert_exporter": "python",
   "pygments_lexer": "ipython3",
   "version": "3.9.7"
  }
 },
 "nbformat": 4,
 "nbformat_minor": 2
}
