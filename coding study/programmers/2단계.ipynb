{
 "cells": [
  {
   "cell_type": "markdown",
   "metadata": {},
   "source": [
    "### 최댓값과 최솟값"
   ]
  },
  {
   "cell_type": "code",
   "execution_count": null,
   "metadata": {},
   "outputs": [],
   "source": [
    "def solution(s):\n",
    "    a = list(map(int, s.split(\" \")))\n",
    "    return f'{min(a)} {max(a)}'"
   ]
  },
  {
   "cell_type": "markdown",
   "metadata": {},
   "source": [
    "### JadenCase 문자열 만들기"
   ]
  },
  {
   "cell_type": "code",
   "execution_count": null,
   "metadata": {},
   "outputs": [],
   "source": [
    "def solution(s):\n",
    "    answer = []\n",
    "    for i in s.split(\" \"):\n",
    "        if len(i)>1:\n",
    "            answer.append(i[0].upper() + i[1:].lower())\n",
    "        else :\n",
    "            answer.append(i.upper())\n",
    "    return \" \".join(answer)"
   ]
  },
  {
   "cell_type": "code",
   "execution_count": null,
   "metadata": {},
   "outputs": [],
   "source": [
    "# capitalize 함수\n",
    "def solution(s):\n",
    "    return \" \".join([i.capitalize() for i in s.split(\" \")])"
   ]
  },
  {
   "cell_type": "markdown",
   "metadata": {},
   "source": [
    "### 최솟값 만들기"
   ]
  },
  {
   "cell_type": "code",
   "execution_count": null,
   "metadata": {},
   "outputs": [],
   "source": [
    "def solution(A,B):\n",
    "    answer = 0\n",
    "    A = sorted(A)\n",
    "    B = sorted(B, reverse=True)\n",
    "    \n",
    "    for i in range(len(A)):\n",
    "        answer += A[i]*B[i]\n",
    "    return answer"
   ]
  },
  {
   "cell_type": "code",
   "execution_count": null,
   "metadata": {},
   "outputs": [],
   "source": [
    "# zip 사용시\n",
    "def solution(A,B):\n",
    "    answer = 0\n",
    "    A = sorted(A)\n",
    "    B = sorted(B, reverse=True)\n",
    "    \n",
    "    for a, b in zip(A, B):\n",
    "        answer += a * b\n",
    "    return answer"
   ]
  },
  {
   "cell_type": "markdown",
   "metadata": {},
   "source": [
    "### 올바른 괄호"
   ]
  },
  {
   "cell_type": "code",
   "execution_count": null,
   "metadata": {},
   "outputs": [],
   "source": [
    "def solution(s):\n",
    "    stack = [] # 빈 스택 생성    \n",
    "    for i in s: # 반복\n",
    "        if i == '(': # '('가 나오면 ( 붙이기\n",
    "            stack.append(i)\n",
    "        else :\n",
    "            if not stack:  # stack이 비어있는 상태에서 ) 가 먼저 나오면 false 처리\n",
    "                return False \n",
    "            stack.pop() # stack이 비어있지 않은 경우에 )가 나오면 pop\n",
    "    return not stack   # stack이 비어있으면 True, 아니면 False"
   ]
  },
  {
   "cell_type": "markdown",
   "metadata": {},
   "source": [
    "### 이진 변환 반복하기"
   ]
  },
  {
   "cell_type": "code",
   "execution_count": null,
   "metadata": {},
   "outputs": [],
   "source": [
    "from collections import Counter\n",
    "def solution(s):\n",
    "    convert = 0\n",
    "    zero = 0\n",
    "    \n",
    "    while s!='1':    \n",
    "        temp = Counter(s)\n",
    "        s = temp['1'] * '1'\n",
    "        s = bin(len(s))[2:]\n",
    "        zero += temp['0']\n",
    "        convert += 1\n",
    "    return convert, zero"
   ]
  },
  {
   "cell_type": "markdown",
   "metadata": {},
   "source": [
    "### 숫자의 표현"
   ]
  },
  {
   "cell_type": "code",
   "execution_count": null,
   "metadata": {},
   "outputs": [],
   "source": [
    "def solution(n):\n",
    "    answer = 1 # 자기 자신 포함하기\n",
    "    \n",
    "    for i in range(1, n // 2 + 1):\n",
    "        total = 0        \n",
    "        \n",
    "        while total != n:\n",
    "            total += i\n",
    "            i += 1\n",
    "            if total >= n:\n",
    "                break\n",
    "        if total == n:\n",
    "            answer += 1\n",
    "    return answer"
   ]
  },
  {
   "cell_type": "markdown",
   "metadata": {},
   "source": [
    "### 다음 큰 숫자"
   ]
  },
  {
   "cell_type": "code",
   "execution_count": null,
   "metadata": {},
   "outputs": [],
   "source": [
    "def solution(n):\n",
    "    for i in range(n+1, 1000001):\n",
    "        if bin(n).count('1') == bin(i).count('1'):\n",
    "            break\n",
    "    return i"
   ]
  },
  {
   "cell_type": "markdown",
   "metadata": {},
   "source": [
    "### 피보나치 수"
   ]
  },
  {
   "cell_type": "code",
   "execution_count": null,
   "metadata": {},
   "outputs": [],
   "source": [
    "def solution(n):\n",
    "    temp = []\n",
    "    a, b = 1, 1\n",
    "    for i in range(n):    \n",
    "        temp.append(a)\n",
    "        a, b = b, a + b \n",
    "        \n",
    "    return temp[-1] % 1234567"
   ]
  },
  {
   "cell_type": "markdown",
   "metadata": {},
   "source": [
    "### 짝지어 제거하기"
   ]
  },
  {
   "cell_type": "code",
   "execution_count": null,
   "metadata": {},
   "outputs": [],
   "source": [
    "def solution(s):\n",
    "    if len(s) % 2 == 1:\n",
    "        return 0\n",
    "    else :         \n",
    "        temp = [s[0]]\n",
    "        for i in s[1:]:\n",
    "            temp.append(i)\n",
    "            if len(temp) >= 2 and temp[-1] == temp[-2]:\n",
    "                temp.pop()\n",
    "                temp.pop()\n",
    "        if len(temp) == 0:\n",
    "            return 1\n",
    "        else :\n",
    "            return 0"
   ]
  },
  {
   "cell_type": "markdown",
   "metadata": {},
   "source": [
    "### 카펫"
   ]
  },
  {
   "cell_type": "code",
   "execution_count": null,
   "metadata": {},
   "outputs": [],
   "source": [
    "def solution(brown, yellow):\n",
    "    total = brown + yellow \n",
    "    answer = [0, 0]\n",
    "    \n",
    "    for i in range(3, total): # yellow가 있으려면 가로 최소 길이가 3이어야함\n",
    "        if total % i == 0: # 전체가 가로 길이로 딱 나누어 떨어지면\n",
    "            rest = total // i # 세로 길이 정의\n",
    "            for j in range(1, rest+1): \n",
    "                # 해당 세로 길이가 자연수로 나누어 떨어지고, i와 j를 곱한 값이 전체 크기가 나올 때\n",
    "                if rest % j == 0 and i * j == total: \n",
    "                    # 전체 크기에서 가로 세로 -2가 yellow 면 해당 값 저장\n",
    "                    if (i - 2) * (j - 2) == yellow:\n",
    "                        answer = [i, j]\n",
    "                        break\n",
    "    return answer"
   ]
  },
  {
   "cell_type": "code",
   "execution_count": null,
   "metadata": {},
   "outputs": [],
   "source": [
    "# 수학적으로 풀기\n",
    "def solution(brown, yellow):\n",
    "    # yellow 가로 길이를 x, 세로 길이를 y로 정의\n",
    "    # yellow = x * y 수식을 x 기준으로 다시 쓴다면 x = yellow / y\n",
    "    # brown = (x+2)*(y+2) - yellow = (x+2)*(y+2) - xy  = 2x + 2y + 4\n",
    "    # 위 내용을 코드로 작성\n",
    "    \n",
    "    for y in range(1, yellow+1):\n",
    "        x = int(yellow / y)\n",
    "        if yellow % y == 0:\n",
    "            if (2*x + 2*y + 4 == brown):\n",
    "                answer = [x+2, y+2] # yellow 영역을 x와 y로 정의했기 때문에 x와 y에 각각 + 2\n",
    "                break\n",
    "    return answer"
   ]
  },
  {
   "cell_type": "markdown",
   "metadata": {},
   "source": [
    "### 조이스틱 "
   ]
  },
  {
   "cell_type": "code",
   "execution_count": null,
   "metadata": {},
   "outputs": [],
   "source": [
    "def solution(name):\n",
    "    # 조이스틱 조작 횟수\n",
    "    answer = 0\n",
    "    \n",
    "    # 최소 이동 거리\n",
    "    min_move = len(name) - 1\n",
    "    \n",
    "    for i, char in enumerate(name):\n",
    "        # A->B 순서로 가는 방법, A-Z로 가는 방법을 비교해서 최솟값 찾기\n",
    "        answer += (min(ord(char) - ord('A'), ord('Z') - ord(char)+1))\n",
    "        \n",
    "        next = i + 1 # 현재 알파벳의 다음 차례 확인\n",
    "        \n",
    "        # 연속된 A 문자열 찾기('AAAAA' 같이 나온 경우 생략을 위함)\n",
    "        while next < len(name) and name[next]=='A': \n",
    "            next += 1\n",
    "\n",
    "        # 기존, 연속된 A의 왼쪽시작 방식, 연속된 A의 오른쪽시작 방식 비교 및 갱신\n",
    "        min_move = min([min_move, 2 *i + len(name) - next, i + 2 * (len(name) -next)])\n",
    "    answer += min_move \n",
    "    \n",
    "    return answer"
   ]
  },
  {
   "cell_type": "markdown",
   "metadata": {},
   "source": [
    "### 큰 수 만들기"
   ]
  },
  {
   "cell_type": "code",
   "execution_count": 33,
   "metadata": {},
   "outputs": [],
   "source": [
    "def solution(number, k):\n",
    "    answer = []\n",
    "    \n",
    "    for i in number:\n",
    "        while k > 0 and answer and answer[-1] < i:\n",
    "            answer.pop()\n",
    "            k -= 1\n",
    "        answer.append(i)\n",
    "    \n",
    "    return ''.join(answer) if k == 0 else ''.join(answer)[:-k]"
   ]
  },
  {
   "cell_type": "markdown",
   "metadata": {},
   "source": [
    "### 구명보트"
   ]
  },
  {
   "cell_type": "code",
   "execution_count": null,
   "metadata": {},
   "outputs": [],
   "source": [
    "def solution(people, limit):\n",
    "    answer = 0\n",
    "    people = sorted(people) # 5만개 수준은 정렬 가능\n",
    "    \n",
    "    start = 0\n",
    "    end = len(people)-1\n",
    "\n",
    "    while (start<= end): # start 와 end가 일치할때까지\n",
    "        if (people[start] + people[end] <= limit): # 제일 큰값과 작은 값이 limit 안에 들면 함께 탈출\n",
    "            start += 1\n",
    "            end -= 1\n",
    "        else : # 제일 큰값과 작은값 합이 limit를 넘으면 제일 큰값만 탈출\n",
    "            end -= 1\n",
    "        answer += 1\n",
    "    return answer"
   ]
  },
  {
   "cell_type": "markdown",
   "metadata": {},
   "source": [
    "### 전화번호 목록"
   ]
  },
  {
   "cell_type": "code",
   "execution_count": 14,
   "metadata": {},
   "outputs": [],
   "source": [
    "def solution(phone_book):\n",
    "    hash = {}\n",
    "    answer = True\n",
    "\n",
    "    for i in phone_book:\n",
    "        hash[i] = 1\n",
    "    \n",
    "    for nums in phone_book:\n",
    "        arr = ''\n",
    "        for num in nums:\n",
    "            arr += num\n",
    "            if arr in hash and arr != nums:\n",
    "                answer = False\n",
    "                break\n",
    "    return answer"
   ]
  },
  {
   "cell_type": "markdown",
   "metadata": {},
   "source": [
    "### 의상"
   ]
  },
  {
   "cell_type": "code",
   "execution_count": null,
   "metadata": {},
   "outputs": [],
   "source": [
    "def solution(clothes):    \n",
    "    dic = {}\n",
    "    for v, k in clothes:\n",
    "        if k in dic:\n",
    "            dic[k] += [v]\n",
    "        else : \n",
    "            dic[k] = [v]\n",
    "            \n",
    "    answer = 1\n",
    "    for k, v in dic.items():\n",
    "        answer *= (len(dic[k]) + 1) \n",
    "    return answer -1"
   ]
  },
  {
   "cell_type": "markdown",
   "metadata": {},
   "source": [
    "### 기능개발 "
   ]
  },
  {
   "cell_type": "code",
   "execution_count": null,
   "metadata": {},
   "outputs": [],
   "source": [
    "def solution(progresses, speeds):\n",
    "    answer = []\n",
    "\n",
    "    while len(progresses) >= 1:\n",
    "        temp = 0\n",
    "        # 작업 더하기\n",
    "        for i in range(len(progresses)):\n",
    "            progresses[i] += speeds[i]\n",
    "        \n",
    "        # 100이 넘는 업무들을 센 뒤 제거\n",
    "        while progresses and progresses[0]>= 100:\n",
    "            progresses.pop(0)\n",
    "            speeds.pop(0)\n",
    "            temp += 1\n",
    "        \n",
    "        if temp != 0 :\n",
    "            answer.append(temp)\n",
    "    return answer"
   ]
  },
  {
   "cell_type": "markdown",
   "metadata": {},
   "source": [
    "### 프로세스"
   ]
  },
  {
   "cell_type": "code",
   "execution_count": null,
   "metadata": {},
   "outputs": [],
   "source": [
    "from collections import deque\n",
    "\n",
    "def solution(priorities, location):\n",
    "    answer = []\n",
    "    queue = deque((ind, data) for ind, data in enumerate(priorities)) # queue 인덱스 부여\n",
    "\n",
    "    while queue: # queue에 값이 있다면\n",
    "        process = queue.popleft() # queue 첫값 빼내서 확인\n",
    "        \n",
    "        if queue and any(process[1]<q[1] for q in queue): # 해당 값보다 큰 값이 큐에 있다면\n",
    "            queue.append(process) # 해당값을 큐 맨 뒤로 집어넣음\n",
    "        else :\n",
    "            answer.append(process) # 해당 값이 제일 크다면 해당 값을 빼냄\n",
    "        \n",
    "    return answer.index((location, priorities[location])) +1"
   ]
  },
  {
   "cell_type": "markdown",
   "metadata": {},
   "source": [
    "### 다리를 지나는 트럭"
   ]
  },
  {
   "cell_type": "code",
   "execution_count": null,
   "metadata": {},
   "outputs": [],
   "source": [
    "# 처음 풀이, 시간 fail\n",
    "from collections import deque\n",
    "def solution(bridge_length, weight, truck_weights):\n",
    "    time = 1\n",
    "    queue = deque([0 for i in range(bridge_length)])\n",
    "    truck_weights = deque(truck_weights)\n",
    "    \n",
    "    queue[-1] = truck_weights.popleft()\n",
    "    while truck_weights:\n",
    "        queue.rotate(-1)\n",
    "        if sum(queue) + truck_weights[0] <= weight:\n",
    "            queue[-1] = truck_weights.popleft()\n",
    "        time +=1\n",
    "        queue[0] = 0\n",
    "    return time+bridge_length"
   ]
  },
  {
   "cell_type": "code",
   "execution_count": null,
   "metadata": {},
   "outputs": [],
   "source": [
    "# Queue를 기준으로 풀지 않고 무게를 기준으로 풀어서 시간 효율성 상승\n",
    "from collections import deque\n",
    "def solution(bridge_length, weight, truck_weights):\n",
    "    time = 0 # 초기 시간 설정\n",
    "    queue = deque([0] * bridge_length) # 다리 길이만큼 큐 생성\n",
    "    truck_weights = deque(truck_weights) # 트럭 큐 생성\n",
    "    \n",
    "    current_weight = 0 # 현재 다리 무게 정의\n",
    "    \n",
    "    while truck_weights: # 트럭 큐에 값이 있으면\n",
    "        time +=1 # 1초 증가\n",
    "        current_weight = current_weight - queue.popleft() # 현재 다리 무게에 queue 왼쪽 끝값 더하기\n",
    "        \n",
    "        if current_weight + truck_weights[0] <= weight: # 트럭을 하나 추가해도 무게 한도를 넘지 않으면\n",
    "            current_weight = current_weight + truck_weights[0] # 트럭 무게만큼 현재 다리 무게 변화 \n",
    "            queue.append(truck_weights.popleft()) # 트럭 큐에서 트럭을 제거해서 다리로 올림\n",
    "        else : # 무게 한도를 넘을 것 같으면\n",
    "            queue.append(0) # 큐만 증가\n",
    "            \n",
    "    return time + bridge_length # 마지막 트럭이 다리에 올라올때까지의 시간 + 트럭이 통과할때 걸리는 시간"
   ]
  },
  {
   "cell_type": "markdown",
   "metadata": {},
   "source": [
    "### 주식가격"
   ]
  },
  {
   "cell_type": "code",
   "execution_count": null,
   "metadata": {},
   "outputs": [],
   "source": [
    "# 큐 안쓰고 풀기\n",
    "def solution(prices):\n",
    "    times = []\n",
    "    for i in range(len(prices)-1):\n",
    "        time = 0\n",
    "        for j in range(i, len(prices)-1):\n",
    "            if prices[i] <= prices[j]:\n",
    "                time += 1\n",
    "            else :\n",
    "                break\n",
    "        times.append(time)\n",
    "    times.append(0)\n",
    "    return times"
   ]
  },
  {
   "cell_type": "code",
   "execution_count": null,
   "metadata": {},
   "outputs": [],
   "source": [
    "# 큐 사용한 경우, 더 빠름\n",
    "from collections import deque\n",
    "def solution(prices):\n",
    "    prices = deque(prices)\n",
    "    times =[]\n",
    "    while prices:\n",
    "        price = prices[0]\n",
    "        time = -1\n",
    "        for i in prices:\n",
    "            if price<= i:\n",
    "                time += 1\n",
    "            else :\n",
    "                time+=1\n",
    "                break\n",
    "        prices.popleft()\n",
    "        times.append(time)\n",
    "    return times"
   ]
  },
  {
   "cell_type": "markdown",
   "metadata": {},
   "source": [
    "### 더 맵게"
   ]
  },
  {
   "cell_type": "code",
   "execution_count": null,
   "metadata": {},
   "outputs": [],
   "source": [
    "# 힙으로 풀기\n",
    "import heapq\n",
    "\n",
    "def solution(scoville, K):\n",
    "    count = 0\n",
    "    heapq.heapify(scoville)\n",
    "    \n",
    "    while scoville[0] < K :\n",
    "        if len(scoville) < 2 :\n",
    "            return -1\n",
    "        \n",
    "        new = heapq.heappop(scoville) + heapq.heappop(scoville) * 2\n",
    "        heapq.heappush(scoville, new)\n",
    "        count += 1\n",
    "    return count"
   ]
  },
  {
   "cell_type": "code",
   "execution_count": 59,
   "metadata": {},
   "outputs": [],
   "source": [
    "# 큐로 풀기\n",
    "from collections import deque\n",
    "\n",
    "def solution(scoville, K):\n",
    "    answer = 0  # 정답 기록용\n",
    "    mix = deque() # 섞인 값 저장용\n",
    "    scoville.sort() # 최초 값 정렬\n",
    "    sco = deque(scoville) # deque 변환\n",
    "    \n",
    "    while (sco and sco[0] < K) or (mix and mix[0] < K):\n",
    "        answer += 1\n",
    "        if len(sco) + len(mix) <= 1: \n",
    "            return -1\n",
    "        \n",
    "        food = [0]*2\n",
    "        for a in range(2):\n",
    "            if sco and mix:\n",
    "                if sco[0] < mix[0]:\n",
    "                    food[a] = sco.popleft()\n",
    "                else:\n",
    "                    food[a] = mix.popleft()\n",
    "            elif sco:\n",
    "                food[a] = sco.popleft()\n",
    "            else:\n",
    "                food[a] = mix.popleft()\n",
    "            \n",
    "        mix.append(food[0]+food[1]*2)\n",
    "        \n",
    "    return answer    "
   ]
  },
  {
   "cell_type": "markdown",
   "metadata": {},
   "source": [
    "### 가장 큰 수"
   ]
  },
  {
   "cell_type": "code",
   "execution_count": null,
   "metadata": {},
   "outputs": [],
   "source": [
    "def solution(numbers):\n",
    "    temp = [str(i) for i in numbers] # 글자로 변환\n",
    "    \n",
    "    # 글자 * 3 으로 최소 원소가 3자리 이상이 되게 설정한 뒤 정렬\n",
    "    temp = sorted(temp, key = lambda x : x*3, reverse=True) \n",
    "    \n",
    "    # '0000'의 경우는 '0'으로 표기될 수 있게 int 형변환 후 str 변환\n",
    "    return str(int(''.join(temp)))"
   ]
  },
  {
   "cell_type": "markdown",
   "metadata": {},
   "source": [
    "### H-Index"
   ]
  },
  {
   "cell_type": "code",
   "execution_count": null,
   "metadata": {},
   "outputs": [],
   "source": [
    "def solution(citations):\n",
    "    # 6회 이상 인용 1회\n",
    "    # 5회 이상 인용 2회\n",
    "    # 3회 이상 인용 3회 -> h_index는 3\n",
    "    # 1회 이상 인용 4회\n",
    "    # 0회 이상 인용 5회\n",
    "    \n",
    "    citations = sorted(citations, reverse=True) # 내림차순 정렬\n",
    "    \n",
    "    h = 0 # 최초 변수 설정\n",
    "    for ind, cit in enumerate(citations, start=1):\n",
    "        h = max(h, min(cit, ind))\n",
    "    \n",
    "    return h"
   ]
  },
  {
   "cell_type": "markdown",
   "metadata": {},
   "source": [
    "### 소수 찾기"
   ]
  },
  {
   "cell_type": "code",
   "execution_count": null,
   "metadata": {},
   "outputs": [],
   "source": [
    "from itertools import permutations\n",
    "\n",
    "def is_prime(x):\n",
    "    if x <= 1:\n",
    "        return False\n",
    "    for i in range(2, x // 2 + 1):\n",
    "        if x % i == 0:\n",
    "            return False\n",
    "    return True\n",
    "\n",
    "def solution(numbers):\n",
    "    answer = 0\n",
    "    \n",
    "    if len(numbers) <= 1 : # 글자가 1개인 경우 바로 소수 여부 판별\n",
    "        answer += is_prime(int(numbers[0]))\n",
    "\n",
    "    else : # 글자가 2개 이상인 경우\n",
    "        numbers = list(map(str, numbers)) # 한글자씩 분리\n",
    "        \n",
    "        # 기존 numbers + permutation 조합 합쳐서 리스트화\n",
    "        combi = set()\n",
    "        for i in range(1, len(numbers)+1):\n",
    "            for j in permutations(numbers, i):\n",
    "                combi.add(int(''.join(j)))\n",
    "        \n",
    "        # set으로 중복값 제거 후 소수인지 파악\n",
    "        for i in list(combi):\n",
    "            answer += is_prime(i)\n",
    "    return answer"
   ]
  },
  {
   "cell_type": "markdown",
   "metadata": {},
   "source": [
    "### 피로도"
   ]
  },
  {
   "cell_type": "code",
   "execution_count": null,
   "metadata": {},
   "outputs": [],
   "source": [
    "# 순열로 풀기\n",
    "from itertools import permutations\n",
    "\n",
    "def solution(k, dungeons):\n",
    "    temp = []\n",
    "    for i in permutations(dungeons, len(dungeons)):\n",
    "        answer = 0\n",
    "        health = k\n",
    "        for j in i:\n",
    "            if health >= j[0]:\n",
    "                health -= j[1]\n",
    "                answer += 1\n",
    "            if k <= 0 :\n",
    "                break\n",
    "        temp.append(answer)\n",
    "    return max(temp)"
   ]
  },
  {
   "cell_type": "code",
   "execution_count": null,
   "metadata": {},
   "outputs": [],
   "source": [
    "# dfs로 풀기\n",
    "answer = 0\n",
    "\n",
    "def dfs(k, cnt, dungeons, check):\n",
    "    global answer  # 글로벌 변수 설정\n",
    "    answer = max(answer, cnt) # 새로 얻은 cnt 값이 기존 answer보다 크다면 교체\n",
    "    \n",
    "    for i in range(len(dungeons)):\n",
    "        # 아직 해당 노드를 방문하지 않았고, 피로도가 최소 필요 피로도 보다 높다면\n",
    "        if check[i] == 0 and k >= dungeons[i][0]: \n",
    "            check[i] = 1 # 해당 노드를 방문처리\n",
    "            \n",
    "            # 방문했기 때문에 소모 피로도 반영,\n",
    "            # cnt 도 +1 처리\n",
    "            dfs(k-dungeons[i][1], cnt+1, dungeons, check)\n",
    "            \n",
    "            # 새로 방문할때 check이 1이 되지 않게끔 설정\n",
    "            check[i] = 0\n",
    "    \n",
    "def solution(k, dungeons):\n",
    "    global answer # 글로벌 변수 설정\n",
    "    check = [0] * len(dungeons) # 방문 여부를 확인할 리스트 생성\n",
    "    \n",
    "    dfs(k, 0, dungeons, check)\n",
    "    return answer"
   ]
  },
  {
   "cell_type": "markdown",
   "metadata": {},
   "source": [
    "### 전력망을 둘로 나누기"
   ]
  },
  {
   "cell_type": "code",
   "execution_count": null,
   "metadata": {},
   "outputs": [],
   "source": [
    "def dfs(graph, v, visited):\n",
    "    cnt = 1\n",
    "    visited[v] = 1 # 방문 노드를 1로 처리\n",
    "    for i in graph[v]: # 그래프에 연결된 노드들 중에서 연결이 안된 노드가 있다면\n",
    "        if visited[i] == 0:\n",
    "            cnt += dfs(graph, i, visited) # bfs가 재귀적으로 방문\n",
    "    return cnt \n",
    "\n",
    "def solution(n, wires):\n",
    "    answer = 101 # 최초 answer 설정, n이 최대 100이기 때문에 101로 설정\n",
    "    \n",
    "    # 그래프 정의, wires를 [[], [2], [1, 3], [2, 4], [3]] 모양의 연결 리스트로 변경\n",
    "    graph = [[] for i in range(n+1)]\n",
    "    for a, b in wires:\n",
    "        graph[a].append(b)\n",
    "        graph[b].append(a)\n",
    "\n",
    "    # 하나씩 단선시키며 최소값 확인\n",
    "    for w in wires:\n",
    "        v1, v2 = w\n",
    "        visited = [0] * (n+1) # 방문 기록을 남기기 위한 visited 리스트 선언\n",
    "        visited[v2] = 1 # 특정 node를 방문처리 하면 앞뒤로 연결이 끊김\n",
    "        \n",
    "        # answer 중 제일 낮은 값을 출력하게끔 설정\n",
    "        cnt1 = dfs(graph, w[0], visited) \n",
    "        cnt2 = dfs(graph, w[1], visited)\n",
    "        answer = min(answer, abs(cnt1 - cnt2))\n",
    "    return answer"
   ]
  },
  {
   "cell_type": "markdown",
   "metadata": {},
   "source": [
    "### 모음사전"
   ]
  },
  {
   "cell_type": "code",
   "execution_count": null,
   "metadata": {},
   "outputs": [],
   "source": [
    "# product 사용\n",
    "\n",
    "from itertools import product\n",
    "alpha = [\"\", 'A', 'E', 'I', 'O', 'U']\n",
    "\n",
    "def solution(word):\n",
    "    words = set()\n",
    "    for i in product(alpha, repeat =5):\n",
    "        words.add(''.join(i))\n",
    "    words = sorted(words)[1:]\n",
    "    return words.index(word)+1"
   ]
  },
  {
   "cell_type": "code",
   "execution_count": null,
   "metadata": {},
   "outputs": [],
   "source": [
    "# dfs 사용\n",
    "word_list = []\n",
    "vowels = ['A', 'E', 'I', 'O', 'U']\n",
    "\n",
    "def dfs(cnt, w):\n",
    "    if cnt == 5:\n",
    "        return\n",
    "    for i in range(len(vowels)):\n",
    "        word_list.append(w + vowels[i])\n",
    "        dfs(cnt+1, w + vowels[i])\n",
    "\n",
    "def solution(word):\n",
    "    dfs(0, \"\")\n",
    "    print(word_list.index(word)+1)"
   ]
  },
  {
   "cell_type": "markdown",
   "metadata": {},
   "source": [
    "### 타겟 넘버"
   ]
  },
  {
   "cell_type": "code",
   "execution_count": null,
   "metadata": {},
   "outputs": [],
   "source": [
    "# dfs로 풀기\n",
    "answer = 0 \n",
    "def dfs(numbers, target, index, values):\n",
    "    global answer\n",
    "    \n",
    "    if len(numbers) == index and values == target:\n",
    "        answer += 1\n",
    "        return\n",
    "    \n",
    "    elif len(numbers) == index:\n",
    "        return\n",
    "\n",
    "    dfs(numbers, target, index + 1, values + numbers[index])\n",
    "    dfs(numbers, target, index + 1, values - numbers[index])\n",
    "    \n",
    "\n",
    "def solution(numbers, target):\n",
    "    dfs(numbers, target, 0, 0)\n",
    "    return answer"
   ]
  },
  {
   "cell_type": "code",
   "execution_count": null,
   "metadata": {},
   "outputs": [],
   "source": [
    "# bfs로 풀기\n",
    "def solution(numbers, target):\n",
    "    answer = 0\n",
    "    leaves = [0]    \n",
    "    for number in numbers:\n",
    "        temp = []\n",
    "        for leave in leaves:\n",
    "            temp.append(leave + number)\n",
    "            temp.append(leave - number)\n",
    "        leaves = temp\n",
    "    \n",
    "    for i in leaves:\n",
    "        if i == target:\n",
    "            answer += 1\n",
    "    return answer"
   ]
  },
  {
   "cell_type": "markdown",
   "metadata": {},
   "source": [
    "### 배달"
   ]
  },
  {
   "cell_type": "code",
   "execution_count": null,
   "metadata": {},
   "outputs": [],
   "source": [
    "from heapq import heappush, heappop\n",
    "\n",
    "def solution(N, road, K):\n",
    "    INF = 1e9                           # INF 값 설정\n",
    "    dist = [INF] * (N+1)                # N+1만큼 거리 설정\n",
    "    \n",
    "    graph = [[] for i in range(N+1)]    # N+1만큼 그래프 설정\n",
    "\n",
    "    for u, v, w in road:\n",
    "        graph[u].append((v,w))          # node, weight 순으로 설정\n",
    "        graph[v].append((u,w))\n",
    "    \n",
    "    dijkstra(dist, graph, 1)\n",
    "    return len([i for i in dist if i <= K])\n",
    "\n",
    "\n",
    "def dijkstra(dist, graph, start):\n",
    "    dist[start] = 0                     # start 자리 0으로 설정\n",
    "    heap = []\n",
    "    heappush(heap, [0, start])          # heap 사용을 위해 weight, node 순 설정\n",
    "\n",
    "    while heap:\n",
    "        weight, node = heappop(heap)\n",
    "        for n, w in graph[node]:        # graph에서 값을 꺼내서\n",
    "            if weight + w < dist[n]:    # 해당 move가 dist 값보다 작아질 경우\n",
    "                dist[n] = weight + w    # weight + w 값으로 dist 값을 대체\n",
    "                heappush(heap, [weight + w, n]) \n",
    "\n",
    "    return dist"
   ]
  }
 ],
 "metadata": {
  "kernelspec": {
   "display_name": "base",
   "language": "python",
   "name": "python3"
  },
  "language_info": {
   "codemirror_mode": {
    "name": "ipython",
    "version": 3
   },
   "file_extension": ".py",
   "mimetype": "text/x-python",
   "name": "python",
   "nbconvert_exporter": "python",
   "pygments_lexer": "ipython3",
   "version": "3.9.7"
  }
 },
 "nbformat": 4,
 "nbformat_minor": 2
}
