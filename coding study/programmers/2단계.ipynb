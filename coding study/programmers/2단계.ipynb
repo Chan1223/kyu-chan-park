{
 "cells": [
  {
   "cell_type": "markdown",
   "metadata": {},
   "source": [
    "### 최댓값과 최솟값"
   ]
  },
  {
   "cell_type": "code",
   "execution_count": null,
   "metadata": {},
   "outputs": [],
   "source": [
    "def solution(s):\n",
    "    a = list(map(int, s.split(\" \")))\n",
    "    return f'{min(a)} {max(a)}'"
   ]
  },
  {
   "cell_type": "markdown",
   "metadata": {},
   "source": [
    "### JadenCase 문자열 만들기"
   ]
  },
  {
   "cell_type": "code",
   "execution_count": null,
   "metadata": {},
   "outputs": [],
   "source": [
    "def solution(s):\n",
    "    answer = []\n",
    "    for i in s.split(\" \"):\n",
    "        if len(i)>1:\n",
    "            answer.append(i[0].upper() + i[1:].lower())\n",
    "        else :\n",
    "            answer.append(i.upper())\n",
    "    return \" \".join(answer)"
   ]
  },
  {
   "cell_type": "code",
   "execution_count": null,
   "metadata": {},
   "outputs": [],
   "source": [
    "# capitalize 함수\n",
    "def solution(s):\n",
    "    return \" \".join([i.capitalize() for i in s.split(\" \")])"
   ]
  },
  {
   "cell_type": "markdown",
   "metadata": {},
   "source": [
    "### 최솟값 만들기"
   ]
  },
  {
   "cell_type": "code",
   "execution_count": null,
   "metadata": {},
   "outputs": [],
   "source": [
    "def solution(A,B):\n",
    "    answer = 0\n",
    "    A = sorted(A)\n",
    "    B = sorted(B, reverse=True)\n",
    "    \n",
    "    for i in range(len(A)):\n",
    "        answer += A[i]*B[i]\n",
    "    return answer"
   ]
  },
  {
   "cell_type": "code",
   "execution_count": null,
   "metadata": {},
   "outputs": [],
   "source": [
    "# zip 사용시\n",
    "def solution(A,B):\n",
    "    answer = 0\n",
    "    A = sorted(A)\n",
    "    B = sorted(B, reverse=True)\n",
    "    \n",
    "    for a, b in zip(A, B):\n",
    "        answer += a * b\n",
    "    return answer"
   ]
  },
  {
   "cell_type": "markdown",
   "metadata": {},
   "source": [
    "### 올바른 괄호"
   ]
  },
  {
   "cell_type": "code",
   "execution_count": null,
   "metadata": {},
   "outputs": [],
   "source": [
    "def solution(s):\n",
    "    stack = []\n",
    "\n",
    "    for i in s:\n",
    "        if i == '(':\n",
    "            stack.append(i)\n",
    "        else :\n",
    "            if not stack:\n",
    "                return False\n",
    "            stack.pop() \n",
    "    return not stack"
   ]
  },
  {
   "cell_type": "markdown",
   "metadata": {},
   "source": [
    "### 이진 변환 반복하기"
   ]
  },
  {
   "cell_type": "code",
   "execution_count": null,
   "metadata": {},
   "outputs": [],
   "source": [
    "from collections import Counter\n",
    "def solution(s):\n",
    "    convert = 0\n",
    "    zero = 0\n",
    "    \n",
    "    while s!='1':    \n",
    "        temp = Counter(s)\n",
    "        s = temp['1'] * '1'\n",
    "        s = bin(len(s))[2:]\n",
    "        zero += temp['0']\n",
    "        convert += 1\n",
    "    return convert, zero"
   ]
  },
  {
   "cell_type": "markdown",
   "metadata": {},
   "source": [
    "### 숫자의 표현"
   ]
  },
  {
   "cell_type": "code",
   "execution_count": null,
   "metadata": {},
   "outputs": [],
   "source": [
    "def solution(n):\n",
    "    answer = 1 # 자기 자신 포함하기\n",
    "    \n",
    "    for i in range(1, n // 2 + 1):\n",
    "        total = 0        \n",
    "        \n",
    "        while total != n:\n",
    "            total += i\n",
    "            i += 1\n",
    "            if total >= n:\n",
    "                break\n",
    "        if total == n:\n",
    "            answer += 1\n",
    "    return answer"
   ]
  },
  {
   "cell_type": "markdown",
   "metadata": {},
   "source": [
    "### 다음 큰 숫자"
   ]
  },
  {
   "cell_type": "code",
   "execution_count": null,
   "metadata": {},
   "outputs": [],
   "source": [
    "def solution(n):\n",
    "    for i in range(n+1, 1000001):\n",
    "        if bin(n).count('1') == bin(i).count('1'):\n",
    "            break\n",
    "    return i"
   ]
  },
  {
   "cell_type": "code",
   "execution_count": null,
   "metadata": {},
   "outputs": [],
   "source": []
  },
  {
   "cell_type": "code",
   "execution_count": null,
   "metadata": {},
   "outputs": [],
   "source": []
  }
 ],
 "metadata": {
  "kernelspec": {
   "display_name": "base",
   "language": "python",
   "name": "python3"
  },
  "language_info": {
   "name": "python",
   "version": "3.9.7"
  }
 },
 "nbformat": 4,
 "nbformat_minor": 2
}
