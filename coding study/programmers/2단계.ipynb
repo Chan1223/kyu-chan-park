{
 "cells": [
  {
   "cell_type": "markdown",
   "metadata": {},
   "source": [
    "### 최댓값과 최솟값"
   ]
  },
  {
   "cell_type": "code",
   "execution_count": null,
   "metadata": {},
   "outputs": [],
   "source": [
    "def solution(s):\n",
    "    a = list(map(int, s.split(\" \")))\n",
    "    return f'{min(a)} {max(a)}'"
   ]
  },
  {
   "cell_type": "markdown",
   "metadata": {},
   "source": [
    "### JadenCase 문자열 만들기"
   ]
  },
  {
   "cell_type": "code",
   "execution_count": null,
   "metadata": {},
   "outputs": [],
   "source": [
    "def solution(s):\n",
    "    answer = []\n",
    "    for i in s.split(\" \"):\n",
    "        if len(i)>1:\n",
    "            answer.append(i[0].upper() + i[1:].lower())\n",
    "        else :\n",
    "            answer.append(i.upper())\n",
    "    return \" \".join(answer)"
   ]
  },
  {
   "cell_type": "code",
   "execution_count": null,
   "metadata": {},
   "outputs": [],
   "source": [
    "# capitalize 함수\n",
    "def solution(s):\n",
    "    return \" \".join([i.capitalize() for i in s.split(\" \")])"
   ]
  },
  {
   "cell_type": "markdown",
   "metadata": {},
   "source": [
    "### 최솟값 만들기"
   ]
  },
  {
   "cell_type": "code",
   "execution_count": null,
   "metadata": {},
   "outputs": [],
   "source": [
    "def solution(A,B):\n",
    "    answer = 0\n",
    "    A = sorted(A)\n",
    "    B = sorted(B, reverse=True)\n",
    "    \n",
    "    for i in range(len(A)):\n",
    "        answer += A[i]*B[i]\n",
    "    return answer"
   ]
  },
  {
   "cell_type": "code",
   "execution_count": null,
   "metadata": {},
   "outputs": [],
   "source": [
    "# zip 사용시\n",
    "def solution(A,B):\n",
    "    answer = 0\n",
    "    A = sorted(A)\n",
    "    B = sorted(B, reverse=True)\n",
    "    \n",
    "    for a, b in zip(A, B):\n",
    "        answer += a * b\n",
    "    return answer"
   ]
  },
  {
   "cell_type": "markdown",
   "metadata": {},
   "source": [
    "### 올바른 괄호"
   ]
  },
  {
   "cell_type": "code",
   "execution_count": null,
   "metadata": {},
   "outputs": [],
   "source": [
    "def solution(s):\n",
    "    stack = []\n",
    "\n",
    "    for i in s:\n",
    "        if i == '(':\n",
    "            stack.append(i)\n",
    "        else :\n",
    "            if not stack:\n",
    "                return False\n",
    "            stack.pop() \n",
    "    return not stack"
   ]
  },
  {
   "cell_type": "markdown",
   "metadata": {},
   "source": [
    "### 이진 변환 반복하기"
   ]
  },
  {
   "cell_type": "code",
   "execution_count": null,
   "metadata": {},
   "outputs": [],
   "source": [
    "from collections import Counter\n",
    "def solution(s):\n",
    "    convert = 0\n",
    "    zero = 0\n",
    "    \n",
    "    while s!='1':    \n",
    "        temp = Counter(s)\n",
    "        s = temp['1'] * '1'\n",
    "        s = bin(len(s))[2:]\n",
    "        zero += temp['0']\n",
    "        convert += 1\n",
    "    return convert, zero"
   ]
  },
  {
   "cell_type": "markdown",
   "metadata": {},
   "source": [
    "### 숫자의 표현"
   ]
  },
  {
   "cell_type": "code",
   "execution_count": null,
   "metadata": {},
   "outputs": [],
   "source": [
    "def solution(n):\n",
    "    answer = 1 # 자기 자신 포함하기\n",
    "    \n",
    "    for i in range(1, n // 2 + 1):\n",
    "        total = 0        \n",
    "        \n",
    "        while total != n:\n",
    "            total += i\n",
    "            i += 1\n",
    "            if total >= n:\n",
    "                break\n",
    "        if total == n:\n",
    "            answer += 1\n",
    "    return answer"
   ]
  },
  {
   "cell_type": "markdown",
   "metadata": {},
   "source": [
    "### 다음 큰 숫자"
   ]
  },
  {
   "cell_type": "code",
   "execution_count": null,
   "metadata": {},
   "outputs": [],
   "source": [
    "def solution(n):\n",
    "    for i in range(n+1, 1000001):\n",
    "        if bin(n).count('1') == bin(i).count('1'):\n",
    "            break\n",
    "    return i"
   ]
  },
  {
   "cell_type": "markdown",
   "metadata": {},
   "source": [
    "### 피보나치 수"
   ]
  },
  {
   "cell_type": "code",
   "execution_count": null,
   "metadata": {},
   "outputs": [],
   "source": [
    "def solution(n):\n",
    "    temp = []\n",
    "    a, b = 1, 1\n",
    "    for i in range(n):    \n",
    "        temp.append(a)\n",
    "        a, b = b, a + b \n",
    "        \n",
    "    return temp[-1] % 1234567"
   ]
  },
  {
   "cell_type": "markdown",
   "metadata": {},
   "source": [
    "### 짝지어 제거하기"
   ]
  },
  {
   "cell_type": "code",
   "execution_count": null,
   "metadata": {},
   "outputs": [],
   "source": [
    "def solution(s):\n",
    "    if len(s) % 2 == 1:\n",
    "        return 0\n",
    "    else :         \n",
    "        temp = [s[0]]\n",
    "        for i in s[1:]:\n",
    "            temp.append(i)\n",
    "            if len(temp) >= 2 and temp[-1] == temp[-2]:\n",
    "                temp.pop()\n",
    "                temp.pop()\n",
    "        if len(temp) == 0:\n",
    "            return 1\n",
    "        else :\n",
    "            return 0"
   ]
  },
  {
   "cell_type": "markdown",
   "metadata": {},
   "source": [
    "### 카펫"
   ]
  },
  {
   "cell_type": "code",
   "execution_count": null,
   "metadata": {},
   "outputs": [],
   "source": [
    "def solution(brown, yellow):\n",
    "    total = brown + yellow\n",
    "    answer = [0, 0]\n",
    "    \n",
    "    for i in range(3, total):\n",
    "        if total % i == 0:\n",
    "            rest = total // i\n",
    "            for j in range(1, rest+1):\n",
    "                if rest % j == 0 and i * j == total:\n",
    "                    if (i - 2) * (j - 2) == yellow:\n",
    "                        answer = [i, j]\n",
    "                        break\n",
    "    return answer"
   ]
  },
  {
   "cell_type": "markdown",
   "metadata": {},
   "source": [
    "### 조이스틱 "
   ]
  },
  {
   "cell_type": "code",
   "execution_count": null,
   "metadata": {},
   "outputs": [],
   "source": [
    "def solution(name):\n",
    "    # 조이스틱 조작 횟수\n",
    "    answer = 0\n",
    "    \n",
    "    # 최소 이동 거리\n",
    "    min_move = len(name) - 1\n",
    "    \n",
    "    for i, char in enumerate(name):\n",
    "        # A->B 순서로 가는 방법, A-Z로 가는 방법을 비교해서 최솟값 찾기\n",
    "        answer += (min(ord(char) - ord('A'), ord('Z') - ord(char)+1))\n",
    "        \n",
    "        next = i + 1 # 현재 알파벳의 다음 차례 확인\n",
    "        \n",
    "        # 연속된 A 문자열 찾기('AAAAA' 같이 나온 경우 생략을 위함)\n",
    "        while next < len(name) and name[next]=='A': \n",
    "            next += 1\n",
    "\n",
    "        # 기존, 연속된 A의 왼쪽시작 방식, 연속된 A의 오른쪽시작 방식 비교 및 갱신\n",
    "        min_move = min([min_move, 2 *i + len(name) - next, i + 2 * (len(name) -next)])\n",
    "    answer += min_move \n",
    "    \n",
    "    return answer"
   ]
  },
  {
   "cell_type": "markdown",
   "metadata": {},
   "source": [
    "### 큰 수 만들기"
   ]
  },
  {
   "cell_type": "code",
   "execution_count": 33,
   "metadata": {},
   "outputs": [],
   "source": [
    "def solution(number, k):\n",
    "    answer = []\n",
    "    \n",
    "    for i in number:\n",
    "        while k > 0 and answer and answer[-1] < i:\n",
    "            answer.pop()\n",
    "            k -= 1\n",
    "        answer.append(i)\n",
    "    \n",
    "    return ''.join(answer) if k == 0 else ''.join(answer)[:-k]"
   ]
  },
  {
   "cell_type": "markdown",
   "metadata": {},
   "source": [
    "### 구명보트"
   ]
  },
  {
   "cell_type": "code",
   "execution_count": null,
   "metadata": {},
   "outputs": [],
   "source": [
    "def solution(people, limit):\n",
    "    answer = 0\n",
    "    people = sorted(people) # 5만개 수준은 정렬 가능\n",
    "    \n",
    "    start = 0\n",
    "    end = len(people)-1\n",
    "\n",
    "    while (start<= end): # start 와 end가 일치할때까지\n",
    "        if (people[start] + people[end] <= limit): # 제일 큰값과 작은 값이 limit 안에 들면 함께 탈출\n",
    "            start += 1\n",
    "            end -= 1\n",
    "        else : # 제일 큰값과 작은값 합이 limit를 넘으면 제일 큰값만 탈출\n",
    "            end -= 1\n",
    "        answer += 1\n",
    "    return answer"
   ]
  }
 ],
 "metadata": {
  "kernelspec": {
   "display_name": "base",
   "language": "python",
   "name": "python3"
  },
  "language_info": {
   "codemirror_mode": {
    "name": "ipython",
    "version": 3
   },
   "file_extension": ".py",
   "mimetype": "text/x-python",
   "name": "python",
   "nbconvert_exporter": "python",
   "pygments_lexer": "ipython3",
   "version": "3.9.7"
  }
 },
 "nbformat": 4,
 "nbformat_minor": 2
}
