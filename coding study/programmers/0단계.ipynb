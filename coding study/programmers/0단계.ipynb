{
 "cells": [
  {
   "attachments": {},
   "cell_type": "markdown",
   "metadata": {},
   "source": [
    "### 두 수의 차"
   ]
  },
  {
   "cell_type": "code",
   "execution_count": null,
   "metadata": {},
   "outputs": [],
   "source": [
    "def solution(num1, num2):\n",
    "    answer = num1 - num2\n",
    "    return answer"
   ]
  },
  {
   "attachments": {},
   "cell_type": "markdown",
   "metadata": {},
   "source": [
    "### 몫 구하기 "
   ]
  },
  {
   "cell_type": "code",
   "execution_count": null,
   "metadata": {},
   "outputs": [],
   "source": [
    "def solution(num1, num2):\n",
    "    answer = num1 // num2\n",
    "    return answer"
   ]
  },
  {
   "attachments": {},
   "cell_type": "markdown",
   "metadata": {},
   "source": [
    "### 두 수의 합"
   ]
  },
  {
   "cell_type": "code",
   "execution_count": null,
   "metadata": {},
   "outputs": [],
   "source": [
    "def solution(num1, num2):\n",
    "    answer = num1 + num2\n",
    "    return answer"
   ]
  },
  {
   "attachments": {},
   "cell_type": "markdown",
   "metadata": {},
   "source": [
    "### 두 수의 곱"
   ]
  },
  {
   "cell_type": "code",
   "execution_count": null,
   "metadata": {},
   "outputs": [],
   "source": [
    "def solution(num1, num2):\n",
    "    answer = num1*num2\n",
    "    return answer"
   ]
  },
  {
   "attachments": {},
   "cell_type": "markdown",
   "metadata": {},
   "source": [
    "### 두 수의 나눗셈"
   ]
  },
  {
   "cell_type": "code",
   "execution_count": null,
   "metadata": {},
   "outputs": [],
   "source": [
    "def solution(num1, num2):\n",
    "    answer = (num1 / num2) * 1000\n",
    "    answer = int(answer)\n",
    "    return answer"
   ]
  },
  {
   "attachments": {},
   "cell_type": "markdown",
   "metadata": {},
   "source": [
    "### 숫자 비교하기"
   ]
  },
  {
   "cell_type": "code",
   "execution_count": null,
   "metadata": {},
   "outputs": [],
   "source": [
    "def solution(num1, num2):\n",
    "    if num1 == num2 :\n",
    "        answer = 1\n",
    "    else : \n",
    "        answer = -1\n",
    "    return answer"
   ]
  },
  {
   "attachments": {},
   "cell_type": "markdown",
   "metadata": {},
   "source": [
    "### 나머지 구하기 "
   ]
  },
  {
   "cell_type": "code",
   "execution_count": null,
   "metadata": {},
   "outputs": [],
   "source": [
    "def solution(num1, num2):\n",
    "    answer = num1 % num2\n",
    "    return answer"
   ]
  },
  {
   "attachments": {},
   "cell_type": "markdown",
   "metadata": {},
   "source": [
    "### 나이 출력"
   ]
  },
  {
   "cell_type": "code",
   "execution_count": null,
   "metadata": {},
   "outputs": [],
   "source": [
    "def solution(age):\n",
    "    answer = 2023 - age \n",
    "    return answer"
   ]
  },
  {
   "attachments": {},
   "cell_type": "markdown",
   "metadata": {},
   "source": [
    "### 각도기"
   ]
  },
  {
   "cell_type": "code",
   "execution_count": null,
   "metadata": {},
   "outputs": [],
   "source": [
    "def solution(angle):\n",
    "    if angle < 90:\n",
    "        answer = 1\n",
    "    elif angle == 90:\n",
    "        answer = 2\n",
    "    elif angle < 180:\n",
    "        answer = 3\n",
    "    elif angle == 180:\n",
    "        answer = 4 \n",
    "    return answer"
   ]
  },
  {
   "attachments": {},
   "cell_type": "markdown",
   "metadata": {},
   "source": [
    "### 짝수의 합"
   ]
  },
  {
   "cell_type": "code",
   "execution_count": null,
   "metadata": {},
   "outputs": [],
   "source": [
    "def solution(n):\n",
    "    answer = 0\n",
    "    for i in range(n, 0, -1):\n",
    "        if i % 2 == 0:\n",
    "            answer += i\n",
    "    return answer"
   ]
  },
  {
   "attachments": {},
   "cell_type": "markdown",
   "metadata": {},
   "source": [
    "### 배열의 평균값"
   ]
  },
  {
   "cell_type": "code",
   "execution_count": null,
   "metadata": {},
   "outputs": [],
   "source": [
    "def solution(numbers):\n",
    "    import numpy as np\n",
    "    answer = np.mean(numbers)\n",
    "    return answer"
   ]
  },
  {
   "attachments": {},
   "cell_type": "markdown",
   "metadata": {},
   "source": [
    "### 양꼬치"
   ]
  },
  {
   "cell_type": "code",
   "execution_count": null,
   "metadata": {},
   "outputs": [],
   "source": [
    "def solution(n, k):\n",
    "    answer = n * 12000 + (k - (n // 10)) * 2000\n",
    "    return answer"
   ]
  },
  {
   "attachments": {},
   "cell_type": "markdown",
   "metadata": {},
   "source": [
    "### 점의 위치 구하기"
   ]
  },
  {
   "cell_type": "code",
   "execution_count": null,
   "metadata": {},
   "outputs": [],
   "source": [
    "def solution(dot):\n",
    "    if (dot[0] > 0) & (dot[1] > 0):\n",
    "        answer = 1\n",
    "    elif (dot[0] < 0) & (dot[1] > 0):\n",
    "        answer = 2\n",
    "    elif (dot[0] < 0) & (dot[1] < 0):\n",
    "        answer = 3\n",
    "    elif (dot[0] > 0) & (dot[1] < 0):\n",
    "        answer = 4        \n",
    "    return answer"
   ]
  },
  {
   "attachments": {},
   "cell_type": "markdown",
   "metadata": {},
   "source": [
    "### 중복된 숫자 개수 "
   ]
  },
  {
   "cell_type": "code",
   "execution_count": null,
   "metadata": {},
   "outputs": [],
   "source": [
    "def solution(array, n):\n",
    "    answer = array.count(n)\n",
    "    return answer"
   ]
  },
  {
   "attachments": {},
   "cell_type": "markdown",
   "metadata": {},
   "source": [
    "### 피자 나눠 먹기 (1)"
   ]
  },
  {
   "cell_type": "code",
   "execution_count": null,
   "metadata": {},
   "outputs": [],
   "source": [
    "def solution(n):\n",
    "    if n <= 7:\n",
    "        answer = 1\n",
    "    elif (n % 7) == 0 :\n",
    "        answer = (n // 7) \n",
    "    else : \n",
    "        answer = (n // 7) +1\n",
    "    return answer"
   ]
  },
  {
   "cell_type": "code",
   "execution_count": null,
   "metadata": {},
   "outputs": [],
   "source": [
    "def solution(n):\n",
    "    answer = (n - 1) // 7 + 1 \n",
    "    return answer"
   ]
  },
  {
   "attachments": {},
   "cell_type": "markdown",
   "metadata": {},
   "source": [
    "### 배열 자르기"
   ]
  },
  {
   "cell_type": "code",
   "execution_count": null,
   "metadata": {},
   "outputs": [],
   "source": [
    "def solution(numbers, num1, num2):\n",
    "    answer = numbers[num1:num2+1]\n",
    "    return answer"
   ]
  },
  {
   "attachments": {},
   "cell_type": "markdown",
   "metadata": {},
   "source": [
    "### 중앙값 구하기"
   ]
  },
  {
   "cell_type": "code",
   "execution_count": null,
   "metadata": {},
   "outputs": [],
   "source": [
    "def solution(array):\n",
    "    array.sort()\n",
    "    answer = array[len(array) // 2]\n",
    "    return answer"
   ]
  },
  {
   "attachments": {},
   "cell_type": "markdown",
   "metadata": {},
   "source": [
    "### 삼각형의 완성조건 (1)"
   ]
  },
  {
   "cell_type": "code",
   "execution_count": null,
   "metadata": {},
   "outputs": [],
   "source": [
    "def solution(sides):\n",
    "    sides.sort(reverse=True)\n",
    "    if sides[0] < (sides[1] + sides[2]):\n",
    "        answer = 1\n",
    "    else : \n",
    "        answer = 2 \n",
    "    return answer"
   ]
  },
  {
   "cell_type": "code",
   "execution_count": null,
   "metadata": {},
   "outputs": [],
   "source": [
    "def solution(sides):\n",
    "    if (sum(sides) - max(sides)) - max(sides) > 0:\n",
    "        answer = 1\n",
    "    else :\n",
    "        answer = 2\n",
    "    return answer"
   ]
  },
  {
   "attachments": {},
   "cell_type": "markdown",
   "metadata": {},
   "source": [
    "### 짝수 홀수 개수"
   ]
  },
  {
   "cell_type": "code",
   "execution_count": null,
   "metadata": {},
   "outputs": [],
   "source": [
    "def solution(num_list):\n",
    "    even = 0\n",
    "    odd = 0\n",
    "    for i in num_list:\n",
    "        if i % 2 == 0:\n",
    "            even += 1\n",
    "        else : \n",
    "            odd += 1\n",
    "    answer = [even, odd] \n",
    "    return answer"
   ]
  },
  {
   "cell_type": "code",
   "execution_count": null,
   "metadata": {},
   "outputs": [],
   "source": [
    "def solution(num_list):\n",
    "    answer = [0,0]\n",
    "    for n in num_list:\n",
    "        answer[n%2]+=1\n",
    "    return answer"
   ]
  },
  {
   "attachments": {},
   "cell_type": "markdown",
   "metadata": {},
   "source": [
    "### 최댓값 만들기(1)"
   ]
  },
  {
   "cell_type": "code",
   "execution_count": null,
   "metadata": {},
   "outputs": [],
   "source": [
    "def solution(numbers):\n",
    "    numbers.sort()\n",
    "    answer = numbers[-1] * numbers[-2]\n",
    "    return answer"
   ]
  },
  {
   "cell_type": "code",
   "execution_count": null,
   "metadata": {},
   "outputs": [],
   "source": [
    "def solution(numbers):\n",
    "    a = max(numbers)\n",
    "    numbers.remove(a)\n",
    "    b = max(numbers)\n",
    "    answer = a * b\n",
    "    return answer"
   ]
  },
  {
   "attachments": {},
   "cell_type": "markdown",
   "metadata": {},
   "source": [
    "### 배열 원소의 길이"
   ]
  },
  {
   "cell_type": "code",
   "execution_count": null,
   "metadata": {},
   "outputs": [],
   "source": [
    "def solution(strlist):\n",
    "    answer = []\n",
    "    for i in strlist:\n",
    "        answer.append(len(i))\n",
    "    return answer"
   ]
  },
  {
   "attachments": {},
   "cell_type": "markdown",
   "metadata": {},
   "source": [
    "### 피자 나눠 먹기 (3)"
   ]
  },
  {
   "cell_type": "code",
   "execution_count": null,
   "metadata": {},
   "outputs": [],
   "source": [
    "def solution(slice, n):\n",
    "    answer = (n-1) // slice + 1\n",
    "    return answer"
   ]
  },
  {
   "attachments": {},
   "cell_type": "markdown",
   "metadata": {},
   "source": [
    "### 머쓱이보다 키 큰 사람\n"
   ]
  },
  {
   "cell_type": "code",
   "execution_count": null,
   "metadata": {},
   "outputs": [],
   "source": [
    "def solution(array, height):\n",
    "    array.append(height)\n",
    "    array.sort(reverse=True)\n",
    "    answer = array.index(height)\n",
    "    return answer"
   ]
  },
  {
   "attachments": {},
   "cell_type": "markdown",
   "metadata": {},
   "source": [
    "### 짝수는 싫어요"
   ]
  },
  {
   "cell_type": "code",
   "execution_count": null,
   "metadata": {},
   "outputs": [],
   "source": [
    "def solution(n):\n",
    "    answer = [i for i in range(1, n+1, 2)]\n",
    "    return answer"
   ]
  },
  {
   "attachments": {},
   "cell_type": "markdown",
   "metadata": {},
   "source": [
    "### 순서쌍의 개수\n"
   ]
  },
  {
   "cell_type": "code",
   "execution_count": null,
   "metadata": {},
   "outputs": [],
   "source": [
    "def solution(n):\n",
    "    answer = 0\n",
    "    for i in range(1, n+1):\n",
    "        if n % i == 0:\n",
    "            answer+=1\n",
    "    return answer"
   ]
  },
  {
   "attachments": {},
   "cell_type": "markdown",
   "metadata": {},
   "source": [
    "### 배열 뒤집기"
   ]
  },
  {
   "cell_type": "code",
   "execution_count": null,
   "metadata": {},
   "outputs": [],
   "source": [
    "def solution(num_list):\n",
    "    answer = []\n",
    "    for i in range(len(num_list)):\n",
    "        answer.append(num_list.pop())    \n",
    "    return answer"
   ]
  },
  {
   "cell_type": "code",
   "execution_count": null,
   "metadata": {},
   "outputs": [],
   "source": [
    "def solution(num_list):\n",
    "    answer = num_list[::-1]\n",
    "    return answer"
   ]
  },
  {
   "attachments": {},
   "cell_type": "markdown",
   "metadata": {},
   "source": [
    "### 아이스 아메리카노"
   ]
  },
  {
   "cell_type": "code",
   "execution_count": null,
   "metadata": {},
   "outputs": [],
   "source": [
    "def solution(money):\n",
    "    answer = [money // 5500, money % 5500]\n",
    "    return answer"
   ]
  },
  {
   "attachments": {},
   "cell_type": "markdown",
   "metadata": {},
   "source": [
    "### 특정 문자 제거하기"
   ]
  },
  {
   "cell_type": "code",
   "execution_count": null,
   "metadata": {},
   "outputs": [],
   "source": [
    "def solution(my_string, letter):\n",
    "    answer = my_string.replace(letter, \"\")\n",
    "    return answer"
   ]
  },
  {
   "attachments": {},
   "cell_type": "markdown",
   "metadata": {},
   "source": [
    "### 옷가게 할인 받기"
   ]
  },
  {
   "cell_type": "code",
   "execution_count": null,
   "metadata": {},
   "outputs": [],
   "source": [
    "def solution(price):\n",
    "    if price >= 500000:\n",
    "        answer = price * 0.8\n",
    "    elif price >= 300000:\n",
    "        answer = price * 0.9\n",
    "    elif price >= 100000:\n",
    "        answer = price * 0.95\n",
    "    else :\n",
    "        answer = price\n",
    "    return int(answer)"
   ]
  },
  {
   "attachments": {},
   "cell_type": "markdown",
   "metadata": {},
   "source": [
    "### 배열 두 배 만들기"
   ]
  },
  {
   "cell_type": "code",
   "execution_count": null,
   "metadata": {},
   "outputs": [],
   "source": [
    "def solution(numbers):\n",
    "    answer = [i*2 for i in numbers]\n",
    "    return answer"
   ]
  },
  {
   "attachments": {},
   "cell_type": "markdown",
   "metadata": {},
   "source": [
    "### 문자열 뒤집기"
   ]
  },
  {
   "cell_type": "code",
   "execution_count": null,
   "metadata": {},
   "outputs": [],
   "source": [
    "def solution(my_string):\n",
    "    answer = my_string[::-1]\n",
    "    return answer"
   ]
  },
  {
   "attachments": {},
   "cell_type": "markdown",
   "metadata": {},
   "source": [
    "### 편지"
   ]
  },
  {
   "cell_type": "code",
   "execution_count": null,
   "metadata": {},
   "outputs": [],
   "source": [
    "def solution(message):\n",
    "    answer = len(message)*2\n",
    "    return answer"
   ]
  },
  {
   "attachments": {},
   "cell_type": "markdown",
   "metadata": {},
   "source": [
    "### 배열의 유사도"
   ]
  },
  {
   "cell_type": "code",
   "execution_count": null,
   "metadata": {},
   "outputs": [],
   "source": [
    "def solution(s1, s2):\n",
    "    answer = 0\n",
    "    for i in s1:\n",
    "        if i in s2:\n",
    "            answer+=1\n",
    "    return answer"
   ]
  },
  {
   "cell_type": "code",
   "execution_count": null,
   "metadata": {},
   "outputs": [],
   "source": [
    "def solution(s1, s2):\n",
    "    answer = len(set(s1)&set(s2))\n",
    "    return answer"
   ]
  },
  {
   "attachments": {},
   "cell_type": "markdown",
   "metadata": {},
   "source": [
    "### 문자 반복 출력하기"
   ]
  },
  {
   "cell_type": "code",
   "execution_count": null,
   "metadata": {},
   "outputs": [],
   "source": [
    "def solution(my_string, n):\n",
    "    answer = []\n",
    "    for i in range(len(my_string)):\n",
    "        answer.append(my_string[i]*n)\n",
    "    return str(\"\".join(answer))"
   ]
  },
  {
   "cell_type": "code",
   "execution_count": null,
   "metadata": {},
   "outputs": [],
   "source": [
    "def solution(my_string, n):    \n",
    "    return \"\".join(i*n for i in my_string)"
   ]
  },
  {
   "attachments": {},
   "cell_type": "markdown",
   "metadata": {},
   "source": [
    "### 자릿수 더하기"
   ]
  },
  {
   "cell_type": "code",
   "execution_count": null,
   "metadata": {},
   "outputs": [],
   "source": [
    "def solution(n):\n",
    "    answer = 0\n",
    "    for i in str(n):\n",
    "        answer += int(i)\n",
    "    return answer"
   ]
  },
  {
   "attachments": {},
   "cell_type": "markdown",
   "metadata": {},
   "source": [
    "### 숨어있는 숫자의 덧셈 (1)"
   ]
  },
  {
   "cell_type": "code",
   "execution_count": null,
   "metadata": {},
   "outputs": [],
   "source": [
    "def solution(my_string):\n",
    "    answer = 0\n",
    "    for i in my_string:\n",
    "        try :\n",
    "            answer += int(i)    \n",
    "        except :\n",
    "            pass\n",
    "    return answer"
   ]
  },
  {
   "cell_type": "code",
   "execution_count": null,
   "metadata": {},
   "outputs": [],
   "source": [
    "def solution(my_string):\n",
    "    answer = sum(int(i) for i in my_string if i.isdigit())\n",
    "    return answer"
   ]
  },
  {
   "attachments": {},
   "cell_type": "markdown",
   "metadata": {},
   "source": [
    "### 모음 제거"
   ]
  },
  {
   "cell_type": "code",
   "execution_count": null,
   "metadata": {},
   "outputs": [],
   "source": [
    "def solution(my_string):\n",
    "    answer = \"\".join(i for i in my_string if i not in ['a', 'e', 'i', 'o', 'u'])\n",
    "    return answer"
   ]
  },
  {
   "attachments": {},
   "cell_type": "markdown",
   "metadata": {},
   "source": [
    "### 문자열안에 문자열"
   ]
  },
  {
   "cell_type": "code",
   "execution_count": null,
   "metadata": {},
   "outputs": [],
   "source": [
    "def solution(str1, str2):\n",
    "    if str2 in str1 :\n",
    "        answer = 1 \n",
    "    else:\n",
    "        answer = 2 \n",
    "    return answer"
   ]
  },
  {
   "attachments": {},
   "cell_type": "markdown",
   "metadata": {},
   "source": [
    "### 개미군단"
   ]
  },
  {
   "cell_type": "code",
   "execution_count": null,
   "metadata": {},
   "outputs": [],
   "source": [
    "def solution(hp):\n",
    "    answer = hp // 5 +  (hp % 5) // 3 + (hp % 5) % 3 \n",
    "    return answer"
   ]
  },
  {
   "attachments": {},
   "cell_type": "markdown",
   "metadata": {},
   "source": [
    "### 제곱수 판별하기"
   ]
  },
  {
   "cell_type": "code",
   "execution_count": null,
   "metadata": {},
   "outputs": [],
   "source": [
    "def solution(n):\n",
    "    if (n ** (1/2) - int(n ** (1/2))) == 0:\n",
    "        answer = 1\n",
    "    else : \n",
    "        answer = 2\n",
    "    return answer"
   ]
  },
  {
   "cell_type": "code",
   "execution_count": null,
   "metadata": {},
   "outputs": [],
   "source": [
    "def solution(n):\n",
    "    if (n ** (1/2)).is_integer():\n",
    "        answer = 1\n",
    "    else : \n",
    "        answer = 2\n",
    "    return answer"
   ]
  },
  {
   "attachments": {},
   "cell_type": "markdown",
   "metadata": {},
   "source": [
    "### 문자열 정렬하기 (1)"
   ]
  },
  {
   "cell_type": "code",
   "execution_count": null,
   "metadata": {},
   "outputs": [],
   "source": [
    "def solution(my_string):\n",
    "    answer = [int(i) for i in my_string if i.isdigit()]\n",
    "    answer.sort()\n",
    "    return answer"
   ]
  },
  {
   "attachments": {},
   "cell_type": "markdown",
   "metadata": {},
   "source": [
    "### 암호 해독"
   ]
  },
  {
   "cell_type": "code",
   "execution_count": null,
   "metadata": {},
   "outputs": [],
   "source": [
    "def solution(cipher, code):\n",
    "    answer = cipher[code-1::code]\n",
    "    return answer"
   ]
  },
  {
   "attachments": {},
   "cell_type": "markdown",
   "metadata": {},
   "source": [
    "### 가위 바위 보"
   ]
  },
  {
   "cell_type": "code",
   "execution_count": null,
   "metadata": {},
   "outputs": [],
   "source": [
    "def solution(rsp):\n",
    "    trans = str.maketrans('205', '052')\n",
    "    answer = rsp.translate(trans)\n",
    "    return answer\n"
   ]
  },
  {
   "cell_type": "code",
   "execution_count": null,
   "metadata": {},
   "outputs": [],
   "source": [
    "def solution(rsp):\n",
    "    d = {'0':'5','2':'0','5':'2'}\n",
    "    return ''.join(d[i] for i in rsp)\n"
   ]
  },
  {
   "attachments": {},
   "cell_type": "markdown",
   "metadata": {},
   "source": [
    "### 대문자와 소문자"
   ]
  },
  {
   "cell_type": "code",
   "execution_count": null,
   "metadata": {},
   "outputs": [],
   "source": [
    "def solution(rsp):\n",
    "    trans = str.maketrans('abcdefghijklmnopqrstuvwxyzABCDEFGHIJKLMNOPQRSTUVWXYZ', 'ABCDEFGHIJKLMNOPQRSTUVWXYZabcdefghijklmnopqrstuvwxyz')\n",
    "    answer = rsp.translate(trans)\n",
    "    return answer"
   ]
  },
  {
   "cell_type": "code",
   "execution_count": null,
   "metadata": {},
   "outputs": [],
   "source": [
    "def solution(my_string):\n",
    "    answer =  my_string.swapcase()\n",
    "    return answer"
   ]
  },
  {
   "attachments": {},
   "cell_type": "markdown",
   "metadata": {},
   "source": [
    "### 세균 증식"
   ]
  },
  {
   "cell_type": "code",
   "execution_count": null,
   "metadata": {},
   "outputs": [],
   "source": [
    "def solution(n, t):\n",
    "    for i in range(t):\n",
    "        n = n*2\n",
    "    answer = n\n",
    "    return answer"
   ]
  },
  {
   "cell_type": "code",
   "execution_count": null,
   "metadata": {},
   "outputs": [],
   "source": [
    "def solution(n, t):\n",
    "    return n << t"
   ]
  },
  {
   "cell_type": "code",
   "execution_count": null,
   "metadata": {},
   "outputs": [],
   "source": [
    "def solution(n, t):\n",
    "    answer = 2**t * n\n",
    "    return answer"
   ]
  },
  {
   "attachments": {},
   "cell_type": "markdown",
   "metadata": {},
   "source": [
    "### 주사위의 개수"
   ]
  },
  {
   "cell_type": "code",
   "execution_count": null,
   "metadata": {},
   "outputs": [],
   "source": [
    "def solution(box, n):\n",
    "    answer = (box[0]//n) * (box[1]//n) * (box[2]//n)\n",
    "    return answer"
   ]
  },
  {
   "attachments": {},
   "cell_type": "markdown",
   "metadata": {},
   "source": [
    "### n의 배수 고르기"
   ]
  },
  {
   "cell_type": "code",
   "execution_count": null,
   "metadata": {},
   "outputs": [],
   "source": [
    "def solution(n, numlist):\n",
    "    answer = [i for i in numlist if i%n == 0]\n",
    "    return answer"
   ]
  },
  {
   "attachments": {},
   "cell_type": "markdown",
   "metadata": {},
   "source": [
    "### 직각삼각형 출력하기"
   ]
  },
  {
   "cell_type": "code",
   "execution_count": null,
   "metadata": {},
   "outputs": [],
   "source": [
    "n = int(input())\n",
    "for i in range(1, n+1):\n",
    "    print('*' * i)"
   ]
  },
  {
   "attachments": {},
   "cell_type": "markdown",
   "metadata": {},
   "source": [
    "### 최댓값 만들기 (2)"
   ]
  },
  {
   "cell_type": "code",
   "execution_count": null,
   "metadata": {},
   "outputs": [],
   "source": [
    "def solution(numbers):\n",
    "    numbers.sort(reverse=True)\n",
    "    if (numbers[0] * numbers[1]) > (numbers[-1] * numbers[-2]):\n",
    "        answer = numbers[0] * numbers[1]\n",
    "    else :\n",
    "        answer = numbers[-1] * numbers[-2]\n",
    "    return answer"
   ]
  },
  {
   "cell_type": "code",
   "execution_count": null,
   "metadata": {},
   "outputs": [],
   "source": [
    "def solution(numbers):\n",
    "    numbers.sort(reverse=True)\n",
    "    answer = max(numbers[0] * numbers[1], numbers[-1] * numbers[-2])\n",
    "    return answer"
   ]
  },
  {
   "attachments": {},
   "cell_type": "markdown",
   "metadata": {},
   "source": [
    "### 인덱스 바꾸기"
   ]
  },
  {
   "cell_type": "code",
   "execution_count": null,
   "metadata": {},
   "outputs": [],
   "source": [
    "def solution(my_string, num1, num2):\n",
    "    dic = {num1:my_string[num1], num2:my_string[num2]}\n",
    "    answer = my_string[:num1] + dic[num2] + my_string[num1+1:num2] + dic[num1] + my_string[num2+1:]\n",
    "    return answer"
   ]
  },
  {
   "cell_type": "code",
   "execution_count": null,
   "metadata": {},
   "outputs": [],
   "source": [
    "def solution(my_string, num1, num2):\n",
    "    s = list(my_string)\n",
    "    s[num1], s[num2] = s[num2], s[num1]\n",
    "    answer = \"\".join(s)\n",
    "    return answer"
   ]
  },
  {
   "attachments": {},
   "cell_type": "markdown",
   "metadata": {},
   "source": [
    "### 배열 회전시키기"
   ]
  },
  {
   "cell_type": "code",
   "execution_count": null,
   "metadata": {},
   "outputs": [],
   "source": [
    "def solution(numbers, direction):\n",
    "    answer = []\n",
    "    if direction=='right':\n",
    "        answer.append(numbers[-1])\n",
    "        answer.extend(numbers[:-1])\n",
    "    else :\n",
    "        answer.extend(numbers[1:])\n",
    "        answer.append(numbers[0])\n",
    "    return answer"
   ]
  },
  {
   "attachments": {},
   "cell_type": "markdown",
   "metadata": {},
   "source": [
    "### 가장 큰 수 찾기"
   ]
  },
  {
   "cell_type": "code",
   "execution_count": null,
   "metadata": {},
   "outputs": [],
   "source": [
    "def solution(array):\n",
    "    answer = [max(array), array.index(max(array))]\n",
    "    return answer"
   ]
  },
  {
   "attachments": {},
   "cell_type": "markdown",
   "metadata": {},
   "source": [
    "### 외계행성의 나이"
   ]
  },
  {
   "cell_type": "code",
   "execution_count": null,
   "metadata": {},
   "outputs": [],
   "source": [
    "def solution(age):\n",
    "    dic = {\"0\":'a', \"1\":'b', \"2\":'c', \"3\":'d', \"4\":'e', \"5\":'f', \"6\":'g', \"7\":'h', \"8\":'i', \"9\":'j'}\n",
    "    answer = \"\".join(dic[i] for i in str(age))\n",
    "    return answer"
   ]
  },
  {
   "attachments": {},
   "cell_type": "markdown",
   "metadata": {},
   "source": [
    "### 피자 나눠 먹기 (2)"
   ]
  },
  {
   "cell_type": "code",
   "execution_count": null,
   "metadata": {},
   "outputs": [],
   "source": [
    "def solution(n):\n",
    "    for i in range(1, 1000):\n",
    "        if ((i * 6) % n ) == 0:\n",
    "            break  \n",
    "    answer = i\n",
    "    return answer"
   ]
  },
  {
   "attachments": {},
   "cell_type": "markdown",
   "metadata": {},
   "source": [
    "### 약수 구하기"
   ]
  },
  {
   "cell_type": "code",
   "execution_count": null,
   "metadata": {},
   "outputs": [],
   "source": [
    "def solution(n):\n",
    "    answer = [i for i in range(1, n+1) if n%i==0]\n",
    "    return answer"
   ]
  },
  {
   "attachments": {},
   "cell_type": "markdown",
   "metadata": {},
   "source": [
    "### 369게임"
   ]
  },
  {
   "cell_type": "code",
   "execution_count": null,
   "metadata": {},
   "outputs": [],
   "source": [
    "def solution(order):\n",
    "    answer = [i for i in str(order) if (int(i) != 0) & (int(i) % 3==0)]\n",
    "    return len(answer)"
   ]
  },
  {
   "attachments": {},
   "cell_type": "markdown",
   "metadata": {},
   "source": [
    "### 숫자 찾기"
   ]
  },
  {
   "cell_type": "code",
   "execution_count": null,
   "metadata": {},
   "outputs": [],
   "source": [
    "def solution(num, k):\n",
    "    num=str(num)\n",
    "    if str(k) in num:\n",
    "        answer = num.index(str(k)) + 1\n",
    "    else:\n",
    "        answer = -1\n",
    "    return answer"
   ]
  },
  {
   "attachments": {},
   "cell_type": "markdown",
   "metadata": {},
   "source": [
    "### 문자열 정렬하기 (2)"
   ]
  },
  {
   "cell_type": "code",
   "execution_count": null,
   "metadata": {},
   "outputs": [],
   "source": [
    "def solution(my_string):\n",
    "    answer = \"\".join(sorted(my_string.lower()))\n",
    "    return answer"
   ]
  },
  {
   "attachments": {},
   "cell_type": "markdown",
   "metadata": {},
   "source": [
    "### 중복된 문자 제거"
   ]
  },
  {
   "cell_type": "code",
   "execution_count": null,
   "metadata": {},
   "outputs": [],
   "source": [
    "def solution(my_string):\n",
    "    a = []\n",
    "    for i in my_string:\n",
    "        if i not in a:\n",
    "            a.append(i) \n",
    "    answer = \"\".join(a)\n",
    "    return answer"
   ]
  },
  {
   "cell_type": "code",
   "execution_count": null,
   "metadata": {},
   "outputs": [],
   "source": [
    "def solution(my_string):\n",
    "    answer = ''.join(dict.fromkeys(my_string))\n",
    "    return answer"
   ]
  },
  {
   "attachments": {},
   "cell_type": "markdown",
   "metadata": {},
   "source": [
    "### 모스부호 (1)"
   ]
  },
  {
   "cell_type": "code",
   "execution_count": null,
   "metadata": {},
   "outputs": [],
   "source": [
    "morse = { \n",
    "    '.-':'a','-...':'b','-.-.':'c','-..':'d','.':'e','..-.':'f',\n",
    "    '--.':'g','....':'h','..':'i','.---':'j','-.-':'k','.-..':'l',\n",
    "    '--':'m','-.':'n','---':'o','.--.':'p','--.-':'q','.-.':'r',\n",
    "    '...':'s','-':'t','..-':'u','...-':'v','.--':'w','-..-':'x',\n",
    "    '-.--':'y','--..':'z'\n",
    "}\n",
    "\n",
    "def solution(letter):        \n",
    "    return \"\".join([morse[i] for i in letter.split(' ')])"
   ]
  },
  {
   "attachments": {},
   "cell_type": "markdown",
   "metadata": {},
   "source": [
    "### A로 B 만들기"
   ]
  },
  {
   "cell_type": "code",
   "execution_count": null,
   "metadata": {},
   "outputs": [],
   "source": [
    "def solution(before, after):\n",
    "    before = sorted(before)\n",
    "    after = sorted(after)\n",
    "    if before == after:\n",
    "        answer = 1\n",
    "    else:\n",
    "        answer = 0 \n",
    "    return answer"
   ]
  },
  {
   "attachments": {},
   "cell_type": "markdown",
   "metadata": {},
   "source": [
    "### 2차원으로 만들기"
   ]
  },
  {
   "cell_type": "code",
   "execution_count": null,
   "metadata": {},
   "outputs": [],
   "source": [
    "def solution(num_list, n):\n",
    "    answer = []\n",
    "    for i in range(1, int(len(num_list) / n)+1):\n",
    "        answer.append(num_list[:n])\n",
    "        del(num_list[:n])\n",
    "    return answer"
   ]
  },
  {
   "attachments": {},
   "cell_type": "markdown",
   "metadata": {},
   "source": [
    "### 가까운 수"
   ]
  },
  {
   "cell_type": "code",
   "execution_count": null,
   "metadata": {},
   "outputs": [],
   "source": [
    "def solution(array, n):\n",
    "    array.sort()\n",
    "    b = [abs(i-n) for i in array]\n",
    "    answer = array[b.index(min(b))]\n",
    "    return answer"
   ]
  },
  {
   "cell_type": "code",
   "execution_count": null,
   "metadata": {},
   "outputs": [],
   "source": [
    "def solution(array, n):\n",
    "    array.sort(key = lambda x : (abs(x-n), x-n))\n",
    "    answer = array[0]\n",
    "    return answer\n"
   ]
  },
  {
   "attachments": {},
   "cell_type": "markdown",
   "metadata": {},
   "source": [
    "### k의 개수"
   ]
  },
  {
   "cell_type": "code",
   "execution_count": null,
   "metadata": {},
   "outputs": [],
   "source": [
    "def solution(i, j, k):\n",
    "    answer = 0\n",
    "    for i in range(i, j+1):\n",
    "        for j in str(i):\n",
    "            if str(k) == j:\n",
    "                answer+=1\n",
    "    return answer"
   ]
  },
  {
   "cell_type": "code",
   "execution_count": null,
   "metadata": {},
   "outputs": [],
   "source": [
    "def solution(i, j, k):\n",
    "    answer = sum([str(i).count(str(k)) for i in range(i, j+1)])\n",
    "    return answer"
   ]
  },
  {
   "attachments": {},
   "cell_type": "markdown",
   "metadata": {},
   "source": [
    "### 진료순서 정하기"
   ]
  },
  {
   "cell_type": "code",
   "execution_count": null,
   "metadata": {},
   "outputs": [],
   "source": [
    "def solution(emergency):\n",
    "    temp = sorted(emergency, reverse=True)\n",
    "    answer = [temp.index(i)+1 for i in emergency]\n",
    "    return answer"
   ]
  },
  {
   "attachments": {},
   "cell_type": "markdown",
   "metadata": {},
   "source": [
    "### 한 번만 등장한 문자"
   ]
  },
  {
   "cell_type": "code",
   "execution_count": null,
   "metadata": {},
   "outputs": [],
   "source": [
    "def solution(s):\n",
    "    answer = \"\".join(sorted([i for i in list(set(s)) if str(s).count(i)==1]))\n",
    "    return answer"
   ]
  },
  {
   "attachments": {},
   "cell_type": "markdown",
   "metadata": {},
   "source": [
    "### 숨어있는 숫자의 덧셈 (2)"
   ]
  },
  {
   "cell_type": "code",
   "execution_count": null,
   "metadata": {},
   "outputs": [],
   "source": [
    "temp = []\n",
    "for i in my_string:\n",
    "    if i.isdecimal():\n",
    "        temp.append(i)\n",
    "    else:\n",
    "        temp.append(\" \")\n",
    "\n",
    "new = \"\".join(temp).split(\" \")\n",
    "\n",
    "answer = 0\n",
    "for i in new:\n",
    "    if i.isdecimal():\n",
    "        answer+=int(i)"
   ]
  },
  {
   "attachments": {},
   "cell_type": "markdown",
   "metadata": {},
   "source": [
    "### ox 퀴즈"
   ]
  },
  {
   "cell_type": "code",
   "execution_count": null,
   "metadata": {},
   "outputs": [],
   "source": [
    "def solution(quiz):\n",
    "    answer = []\n",
    "    for i in quiz:\n",
    "        a = i.split(' = ')\n",
    "        if eval(a[0].replace(\" \", '')) == int(a[-1]):\n",
    "            answer.append(\"O\")\n",
    "        else:\n",
    "            answer.append(\"X\")\n",
    "    return answer"
   ]
  },
  {
   "cell_type": "code",
   "execution_count": null,
   "metadata": {},
   "outputs": [],
   "source": [
    "def solution(quiz):\n",
    "    answer = []\n",
    "    for i in quiz:\n",
    "        temp, ans = i.split(\" = \")\n",
    "        a, op, b = temp.split(\" \")\n",
    "        if op == \"-\":\n",
    "            temp1 = int(a)-int(b)\n",
    "        if op == \"+\":\n",
    "            temp1 = int(a)+int(b)\n",
    "\n",
    "        if int(ans) == temp1:\n",
    "             answer.append(\"O\")\n",
    "        else:\n",
    "              answer.append(\"X\")    \n",
    "    \n",
    "    return answer"
   ]
  },
  {
   "attachments": {},
   "cell_type": "markdown",
   "metadata": {},
   "source": [
    "### 저주의 숫자 3"
   ]
  },
  {
   "cell_type": "code",
   "execution_count": null,
   "metadata": {},
   "outputs": [],
   "source": [
    "def solution(n):\n",
    "    answer = 0\n",
    "    for i in range(n):\n",
    "        answer += 1\n",
    "        while (answer % 3 == 0) or ('3' in str(answer)):\n",
    "            answer += 1 \n",
    "    return answer"
   ]
  },
  {
   "attachments": {},
   "cell_type": "markdown",
   "metadata": {},
   "source": [
    "### 캐릭터의 좌표"
   ]
  },
  {
   "cell_type": "code",
   "execution_count": null,
   "metadata": {},
   "outputs": [],
   "source": [
    "def solution(keyinput, board):\n",
    "    answer = [0,0]\n",
    "    x_limit = board[0] // 2\n",
    "    y_limit = board[1] // 2\n",
    "\n",
    "    for i in keyinput :\n",
    "        if i == 'left' :\n",
    "            answer[0] += -1 \n",
    "\n",
    "        if i == 'right' :\n",
    "            answer[0] += +1 \n",
    "\n",
    "        if i == 'up' :\n",
    "            answer[1] += +1\n",
    "\n",
    "        if i == 'down' :\n",
    "            answer[1] += -1\n",
    "\n",
    "        if answer[0] > x_limit :\n",
    "            answer[0] = x_limit\n",
    "\n",
    "        if answer[0] < -x_limit:\n",
    "            answer[0] = -x_limit\n",
    "\n",
    "        if answer[1] > y_limit :\n",
    "            answer[1] = y_limit\n",
    "\n",
    "        if answer[1] < -y_limit:\n",
    "            answer[1] = -y_limit\n",
    "    return answer"
   ]
  },
  {
   "cell_type": "code",
   "execution_count": null,
   "metadata": {},
   "outputs": [],
   "source": [
    "def solution(keyinput, board):\n",
    "    x_lim,y_lim = board[0]//2,board[1]//2\n",
    "    move = {'left':(-1,0),'right':(1,0),'up':(0,1),'down':(0,-1)}\n",
    "    x,y = 0,0\n",
    "    for k in keyinput:\n",
    "        dx,dy = move[k]\n",
    "        if abs(x+dx)>x_lim or abs(y+dy)>y_lim:\n",
    "            continue\n",
    "        else:\n",
    "            x,y = x+dx,y+dy\n",
    "\n",
    "    return [x,y]"
   ]
  },
  {
   "attachments": {},
   "cell_type": "markdown",
   "metadata": {},
   "source": [
    "### 공 던지기"
   ]
  },
  {
   "cell_type": "code",
   "execution_count": null,
   "metadata": {},
   "outputs": [],
   "source": [
    "def solution(numbers, k):\n",
    "    mul_num = 1\n",
    "    while (len(numbers)/2)*mul_num < k:\n",
    "        mul_num+=1\n",
    "\n",
    "    numbers = numbers * mul_num\n",
    "    answer = numbers[::2][k-1]\n",
    "    return answer"
   ]
  },
  {
   "cell_type": "code",
   "execution_count": null,
   "metadata": {},
   "outputs": [],
   "source": [
    "def solution(numbers, k):\n",
    "    return numbers[2 * (k - 1) % len(numbers)]"
   ]
  },
  {
   "attachments": {},
   "cell_type": "markdown",
   "metadata": {},
   "source": [
    "### 7의 개수"
   ]
  },
  {
   "cell_type": "code",
   "execution_count": null,
   "metadata": {},
   "outputs": [],
   "source": [
    "def solution(array):\n",
    "    answer = sum([str(i).count(str(7)) for i in array])\n",
    "    return answer"
   ]
  },
  {
   "cell_type": "code",
   "execution_count": null,
   "metadata": {},
   "outputs": [],
   "source": [
    "def solution(array):\n",
    "    return str(array).count('7')"
   ]
  },
  {
   "attachments": {},
   "cell_type": "markdown",
   "metadata": {},
   "source": [
    "### 합성수 찾기"
   ]
  },
  {
   "cell_type": "code",
   "execution_count": null,
   "metadata": {},
   "outputs": [],
   "source": [
    "def solution(n):\n",
    "    answer=0\n",
    "    num = []\n",
    "\n",
    "    for i in range(2, n+1):\n",
    "        for j in range(1, i+1):\n",
    "\n",
    "            if i % j == 0:\n",
    "                num.append(i)\n",
    "\n",
    "        if num.count(i) >= 3:\n",
    "            answer +=1 \n",
    "    \n",
    "    return answer"
   ]
  },
  {
   "attachments": {},
   "cell_type": "markdown",
   "metadata": {},
   "source": [
    "### 팩토리얼\n"
   ]
  },
  {
   "cell_type": "code",
   "execution_count": null,
   "metadata": {},
   "outputs": [],
   "source": [
    "def solution(n):\n",
    "    num = 1 \n",
    "    i = 2\n",
    "    cnt = 0 \n",
    "    while n >= num:\n",
    "        num *= i\n",
    "        print(num)\n",
    "        i+= 1\n",
    "        cnt += 1\n",
    "    answer = cnt\n",
    "    return answer "
   ]
  },
  {
   "attachments": {},
   "cell_type": "markdown",
   "metadata": {},
   "source": [
    "### 이진수 더하기 "
   ]
  },
  {
   "cell_type": "code",
   "execution_count": null,
   "metadata": {},
   "outputs": [],
   "source": [
    "def solution(bin1, bin2):\n",
    "    answer = bin(int(('0b'+bin1),2) + int(('0b'+bin2),2))[2:]\n",
    "    return answer"
   ]
  },
  {
   "cell_type": "code",
   "execution_count": null,
   "metadata": {},
   "outputs": [],
   "source": [
    "def solution(bin1, bin2):\n",
    "    answer = bin(int(bin1, 2) + int(bin2, 2))[2:]\n",
    "    return answer"
   ]
  },
  {
   "attachments": {},
   "cell_type": "markdown",
   "metadata": {},
   "source": [
    "### 소인수분해"
   ]
  },
  {
   "cell_type": "code",
   "execution_count": null,
   "metadata": {},
   "outputs": [],
   "source": [
    "def solution(n) :\n",
    "    answer = []\n",
    "    num = 2\n",
    "    while num <= n:\n",
    "        if n % num == 0:\n",
    "            answer.append(num)\n",
    "            n /= num\n",
    "        else :\n",
    "            num += 1\n",
    "    return sorted(list(set(answer)))"
   ]
  },
  {
   "cell_type": "code",
   "execution_count": null,
   "metadata": {},
   "outputs": [],
   "source": [
    "def solution(n) :\n",
    "    answer = []\n",
    "    num = 2\n",
    "    while num <= n:\n",
    "        if n % num == 0:\n",
    "            if num not in answer:\n",
    "                answer.append(num)\n",
    "            n /= num\n",
    "        else :\n",
    "            num += 1\n",
    "    return answer"
   ]
  },
  {
   "attachments": {},
   "cell_type": "markdown",
   "metadata": {},
   "source": [
    "### 영어가 싫어요"
   ]
  },
  {
   "cell_type": "code",
   "execution_count": null,
   "metadata": {},
   "outputs": [],
   "source": [
    "def solution(numbers):\n",
    "    num_list = [\"zero\", \"one\", \"two\", \"three\", \"four\", \"five\", \"six\", \"seven\", \"eight\", \"nine\"]\n",
    "    for index, num in enumerate(num_list):\n",
    "        numbers = numbers.replace(num, str(index))\n",
    "    return int(numbers)"
   ]
  },
  {
   "attachments": {},
   "cell_type": "markdown",
   "metadata": {},
   "source": [
    "### 잘라서 배열로 저장하기"
   ]
  },
  {
   "cell_type": "code",
   "execution_count": null,
   "metadata": {},
   "outputs": [],
   "source": [
    "def solution(my_str, n):\n",
    "    answer = [] \n",
    "    while len(my_str) != 0:\n",
    "        a = my_str[:n]\n",
    "        answer.append(a)\n",
    "        my_str = my_str[n:]\n",
    "    return answer"
   ]
  },
  {
   "cell_type": "code",
   "execution_count": null,
   "metadata": {},
   "outputs": [],
   "source": [
    "def solution(my_str, n):\n",
    "    answer = [my_str[i:i+n] for i in range(0, len(my_str), n)]\n",
    "    return answer    "
   ]
  },
  {
   "attachments": {},
   "cell_type": "markdown",
   "metadata": {},
   "source": [
    "### 문자열 계산하기"
   ]
  },
  {
   "cell_type": "code",
   "execution_count": null,
   "metadata": {},
   "outputs": [],
   "source": [
    "def solution(my_string):\n",
    "    answer = eval(my_string)\n",
    "    return answer"
   ]
  },
  {
   "cell_type": "code",
   "execution_count": null,
   "metadata": {},
   "outputs": [],
   "source": [
    "def solution(my_string):\n",
    "    answer = sum(int(i) for i in my_string.replace(\" - \", \" + -\").split(\" + \"))\n",
    "    return answer"
   ]
  },
  {
   "attachments": {},
   "cell_type": "markdown",
   "metadata": {},
   "source": [
    "### 구슬을 나누는 경우의 수"
   ]
  },
  {
   "cell_type": "code",
   "execution_count": null,
   "metadata": {},
   "outputs": [],
   "source": [
    "def solution(balls, share):\n",
    "    import math\n",
    "    answer = math.comb(balls, share)\n",
    "    return answer "
   ]
  },
  {
   "cell_type": "code",
   "execution_count": null,
   "metadata": {},
   "outputs": [],
   "source": [
    "def solution(balls, share):\n",
    "    import math\n",
    "    n = math.factorial(balls)\n",
    "    m = math.factorial(share)\n",
    "    fac = math.factorial(balls - share)\n",
    "    answer = n / (m * fac)\n",
    "    return answer "
   ]
  },
  {
   "attachments": {},
   "cell_type": "markdown",
   "metadata": {},
   "source": [
    "### n의 배수"
   ]
  },
  {
   "cell_type": "code",
   "execution_count": null,
   "metadata": {},
   "outputs": [],
   "source": [
    "def solution(num, n):\n",
    "    if num % n == 0:\n",
    "        answer = 1\n",
    "    else :\n",
    "        answer = 0\n",
    "    return answer"
   ]
  },
  {
   "attachments": {},
   "cell_type": "markdown",
   "metadata": {},
   "source": [
    "### 공배수"
   ]
  },
  {
   "cell_type": "code",
   "execution_count": null,
   "metadata": {},
   "outputs": [],
   "source": [
    "def solution(number, n, m):\n",
    "    if (number % n == 0) & (number % m == 0):\n",
    "        answer = 1\n",
    "    else :\n",
    "        answer = 0\n",
    "    return answer"
   ]
  },
  {
   "attachments": {},
   "cell_type": "markdown",
   "metadata": {},
   "source": [
    "### 문자열을 정수로 변환하기"
   ]
  },
  {
   "cell_type": "code",
   "execution_count": null,
   "metadata": {},
   "outputs": [],
   "source": [
    "def solution(n_str):\n",
    "    answer = int(n_str)\n",
    "    return answer"
   ]
  },
  {
   "attachments": {},
   "cell_type": "markdown",
   "metadata": {},
   "source": [
    "### 정수 부분"
   ]
  },
  {
   "cell_type": "code",
   "execution_count": null,
   "metadata": {},
   "outputs": [],
   "source": [
    "def solution(flo):\n",
    "    answer = int(flo)\n",
    "    return answer"
   ]
  },
  {
   "attachments": {},
   "cell_type": "markdown",
   "metadata": {},
   "source": [
    "### 대문자로 바꾸기"
   ]
  },
  {
   "cell_type": "code",
   "execution_count": null,
   "metadata": {},
   "outputs": [],
   "source": [
    "def solution(myString):\n",
    "    answer = str.upper(myString)\n",
    "    return answer"
   ]
  },
  {
   "attachments": {},
   "cell_type": "markdown",
   "metadata": {},
   "source": [
    "### 소문자로 바꾸기"
   ]
  },
  {
   "cell_type": "code",
   "execution_count": null,
   "metadata": {},
   "outputs": [],
   "source": [
    "def solution(myString):\n",
    "    answer = str.lower(myString)\n",
    "    return answer"
   ]
  },
  {
   "attachments": {},
   "cell_type": "markdown",
   "metadata": {},
   "source": [
    "### 길이에 따른 연산"
   ]
  },
  {
   "cell_type": "code",
   "execution_count": null,
   "metadata": {},
   "outputs": [],
   "source": [
    "def solution(num_list):\n",
    "    if len(num_list) >= 11:\n",
    "        answer = sum(num_list)\n",
    "    else :\n",
    "        answer = 1\n",
    "        for i in num_list:\n",
    "            answer *= i\n",
    "    return answer"
   ]
  },
  {
   "attachments": {},
   "cell_type": "markdown",
   "metadata": {},
   "source": [
    "### n 번째 원소까지"
   ]
  },
  {
   "cell_type": "code",
   "execution_count": null,
   "metadata": {},
   "outputs": [],
   "source": [
    "def solution(num_list, n):\n",
    "    answer = [num_list[i] for i in range(n)]\n",
    "    return answer"
   ]
  },
  {
   "cell_type": "code",
   "execution_count": null,
   "metadata": {},
   "outputs": [],
   "source": [
    "def solution(num_list, n):\n",
    "    answer = num_list[:n]\n",
    "    return answer"
   ]
  },
  {
   "attachments": {},
   "cell_type": "markdown",
   "metadata": {},
   "source": [
    "### flag에 따라 다른 값 반환하기"
   ]
  },
  {
   "cell_type": "code",
   "execution_count": null,
   "metadata": {},
   "outputs": [],
   "source": [
    "def solution(a, b, flag):\n",
    "    if flag==True:\n",
    "        answer = a + b\n",
    "    else:\n",
    "        answer = a - b\n",
    "    return answer"
   ]
  },
  {
   "attachments": {},
   "cell_type": "markdown",
   "metadata": {},
   "source": [
    "### 문자열로 변환"
   ]
  },
  {
   "cell_type": "code",
   "execution_count": null,
   "metadata": {},
   "outputs": [],
   "source": [
    "def solution(n):\n",
    "    answer = str(n)\n",
    "    return answer"
   ]
  },
  {
   "attachments": {},
   "cell_type": "markdown",
   "metadata": {},
   "source": [
    "### 문자열의 앞의 n글자"
   ]
  },
  {
   "cell_type": "code",
   "execution_count": null,
   "metadata": {},
   "outputs": [],
   "source": [
    "def solution(my_string, n):\n",
    "    answer = my_string[:n]\n",
    "    return answer"
   ]
  },
  {
   "attachments": {},
   "cell_type": "markdown",
   "metadata": {},
   "source": [
    "### 문자열 곱하기"
   ]
  },
  {
   "cell_type": "code",
   "execution_count": null,
   "metadata": {},
   "outputs": [],
   "source": [
    "def solution(my_string, k):\n",
    "    answer = my_string*k\n",
    "    return answer"
   ]
  },
  {
   "attachments": {},
   "cell_type": "markdown",
   "metadata": {},
   "source": [
    "### 문자열의 뒤의 n글자"
   ]
  },
  {
   "cell_type": "code",
   "execution_count": null,
   "metadata": {},
   "outputs": [],
   "source": [
    "def solution(my_string, n):\n",
    "    answer = my_string[-n:]\n",
    "    return answer"
   ]
  },
  {
   "attachments": {},
   "cell_type": "markdown",
   "metadata": {},
   "source": [
    "### 카운트 업"
   ]
  },
  {
   "cell_type": "code",
   "execution_count": null,
   "metadata": {},
   "outputs": [],
   "source": [
    "def solution(start, end):\n",
    "    answer = [i for i in range(start, end+1)]\n",
    "    return answer"
   ]
  },
  {
   "attachments": {},
   "cell_type": "markdown",
   "metadata": {},
   "source": [
    "### 정수 찾기"
   ]
  },
  {
   "cell_type": "code",
   "execution_count": null,
   "metadata": {},
   "outputs": [],
   "source": [
    "def solution(num_list, n):\n",
    "    if n in num_list:\n",
    "        answer = 1\n",
    "    else :\n",
    "        answer = 0\n",
    "    return answer"
   ]
  },
  {
   "attachments": {},
   "cell_type": "markdown",
   "metadata": {},
   "source": [
    "### 수 조작하기 1"
   ]
  },
  {
   "cell_type": "code",
   "execution_count": null,
   "metadata": {},
   "outputs": [],
   "source": [
    "def solution(n, control):\n",
    "    answer = n\n",
    "    for i in control:\n",
    "        if i == \"w\":\n",
    "            answer += 1\n",
    "        elif i == \"s\":\n",
    "            answer -= 1\n",
    "        elif i == \"d\":\n",
    "            answer += 10\n",
    "        else: \n",
    "            answer -= 10\n",
    "    return answer"
   ]
  },
  {
   "attachments": {},
   "cell_type": "markdown",
   "metadata": {},
   "source": [
    "### 배열 만들기 1"
   ]
  },
  {
   "cell_type": "code",
   "execution_count": null,
   "metadata": {},
   "outputs": [],
   "source": [
    "def solution(n, k):\n",
    "    answer = [i for i in range(k, (k * (n // k))+1, k)]\n",
    "    return answer"
   ]
  },
  {
   "cell_type": "code",
   "execution_count": null,
   "metadata": {},
   "outputs": [],
   "source": [
    "def solution(n, k):\n",
    "    answer = [i for i in range(k, n+1, k)]\n",
    "    return answer"
   ]
  },
  {
   "attachments": {},
   "cell_type": "markdown",
   "metadata": {},
   "source": [
    "### 조건에 맞게 수열 변환하기 3"
   ]
  },
  {
   "cell_type": "code",
   "execution_count": null,
   "metadata": {},
   "outputs": [],
   "source": [
    "def solution(arr, k):\n",
    "    if k % 2 == 1:\n",
    "        answer = [i*k for i in arr]\n",
    "    else :\n",
    "        answer = [i+k for i in arr]\n",
    "    return answer"
   ]
  },
  {
   "attachments": {},
   "cell_type": "markdown",
   "metadata": {},
   "source": [
    "### 부분 문자열"
   ]
  },
  {
   "cell_type": "code",
   "execution_count": null,
   "metadata": {},
   "outputs": [],
   "source": [
    "def solution(str1, str2):\n",
    "    if str1 in str2:\n",
    "        answer = 1\n",
    "    else :\n",
    "        answer = 0\n",
    "    return answer"
   ]
  },
  {
   "attachments": {},
   "cell_type": "markdown",
   "metadata": {},
   "source": [
    "### 부분 문자열인지 확인하기"
   ]
  },
  {
   "cell_type": "code",
   "execution_count": null,
   "metadata": {},
   "outputs": [],
   "source": [
    "def solution(my_string, target):\n",
    "    if target in my_string:\n",
    "        answer = 1\n",
    "    else :\n",
    "        answer = 0\n",
    "    return answer"
   ]
  },
  {
   "attachments": {},
   "cell_type": "markdown",
   "metadata": {},
   "source": [
    "### 배열의 길이에 따라 다른 연산하기"
   ]
  },
  {
   "cell_type": "code",
   "execution_count": null,
   "metadata": {},
   "outputs": [],
   "source": [
    "def solution(arr, n):\n",
    "    if len(arr) % 2 == 1:\n",
    "        for i in range(0, len(arr), 2):\n",
    "            arr[i]+=n \n",
    "    else:\n",
    "        for i in range(1, len(arr), 2):\n",
    "            arr[i]+=n \n",
    "    answer = arr\n",
    "    return answer"
   ]
  },
  {
   "attachments": {},
   "cell_type": "markdown",
   "metadata": {},
   "source": [
    "### 첫 번째로 나오는 음수"
   ]
  },
  {
   "cell_type": "code",
   "execution_count": null,
   "metadata": {},
   "outputs": [],
   "source": [
    "def solution(num_list):\n",
    "    answer=-1\n",
    "    for i in num_list:\n",
    "        if i<0:\n",
    "            answer=num_list.index(i)\n",
    "            break\n",
    "    return answer"
   ]
  },
  {
   "attachments": {},
   "cell_type": "markdown",
   "metadata": {},
   "source": [
    "### 카운트 다운"
   ]
  },
  {
   "cell_type": "code",
   "execution_count": null,
   "metadata": {},
   "outputs": [],
   "source": [
    "def solution(start, end):\n",
    "    answer = [i for i in range(start, end-1, -1)]\n",
    "    return answer"
   ]
  },
  {
   "attachments": {},
   "cell_type": "markdown",
   "metadata": {},
   "source": [
    "### 주사위 게임 1"
   ]
  },
  {
   "cell_type": "code",
   "execution_count": null,
   "metadata": {},
   "outputs": [],
   "source": [
    "def solution(a, b):\n",
    "    if (a % 2 == 1) & (b % 2 == 1):\n",
    "        answer= a**2 + b**2\n",
    "    elif (a % 2 == 1) | (b % 2 == 1):\n",
    "        answer = 2*(a+b)\n",
    "    else :\n",
    "        answer = abs(a-b)\n",
    "    return answer"
   ]
  },
  {
   "attachments": {},
   "cell_type": "markdown",
   "metadata": {},
   "source": [
    "### n보다 커질 때까지 더하기"
   ]
  },
  {
   "cell_type": "code",
   "execution_count": null,
   "metadata": {},
   "outputs": [],
   "source": [
    "def solution(numbers, n):\n",
    "    answer = 0 \n",
    "    for i in numbers:\n",
    "        answer += i\n",
    "        if answer > n:\n",
    "            break\n",
    "    return answer"
   ]
  },
  {
   "attachments": {},
   "cell_type": "markdown",
   "metadata": {},
   "source": [
    "### 원소들의 곱과 합"
   ]
  },
  {
   "cell_type": "code",
   "execution_count": null,
   "metadata": {},
   "outputs": [],
   "source": [
    "def solution(num_list):\n",
    "    total = sum(num_list)**2\n",
    "\n",
    "    mul = 1\n",
    "    for i in num_list:\n",
    "        mul = (lambda x, y : x * y)(mul, i)\n",
    "\n",
    "    if total > mul :\n",
    "        answer = 1\n",
    "    else : \n",
    "        answer = 0\n",
    "    return answer"
   ]
  },
  {
   "attachments": {},
   "cell_type": "markdown",
   "metadata": {},
   "source": [
    "### n 번째 원소부터"
   ]
  },
  {
   "cell_type": "code",
   "execution_count": null,
   "metadata": {},
   "outputs": [],
   "source": [
    "def solution(num_list, n):\n",
    "    answer = num_list[n-1:]\n",
    "    return answer"
   ]
  },
  {
   "attachments": {},
   "cell_type": "markdown",
   "metadata": {},
   "source": [
    "### 공백으로 구분하기 1"
   ]
  },
  {
   "cell_type": "code",
   "execution_count": null,
   "metadata": {},
   "outputs": [],
   "source": [
    "def solution(my_string):\n",
    "    answer = my_string.split(\" \")\n",
    "    return answer"
   ]
  },
  {
   "attachments": {},
   "cell_type": "markdown",
   "metadata": {},
   "source": [
    "### rny_string"
   ]
  },
  {
   "cell_type": "code",
   "execution_count": null,
   "metadata": {},
   "outputs": [],
   "source": [
    "def solution(rny_string):\n",
    "    answer = rny_string.replace(\"m\", \"rn\")\n",
    "    return answer"
   ]
  },
  {
   "attachments": {},
   "cell_type": "markdown",
   "metadata": {},
   "source": [
    "### 특정한 문자를 대문자로 바꾸기"
   ]
  },
  {
   "cell_type": "code",
   "execution_count": null,
   "metadata": {},
   "outputs": [],
   "source": [
    "def solution(my_string, alp):\n",
    "    answer = my_string.replace(alp, str.upper(alp))\n",
    "    return answer"
   ]
  },
  {
   "attachments": {},
   "cell_type": "markdown",
   "metadata": {},
   "source": [
    "### 문자 리스트를 문자열로 변환하기"
   ]
  },
  {
   "cell_type": "code",
   "execution_count": null,
   "metadata": {},
   "outputs": [],
   "source": [
    "def solution(arr):\n",
    "    answer = ''.join(arr)\n",
    "    return answer"
   ]
  },
  {
   "attachments": {},
   "cell_type": "markdown",
   "metadata": {},
   "source": [
    "### 배열에서 문자열 대소문자 변환하기"
   ]
  },
  {
   "cell_type": "code",
   "execution_count": null,
   "metadata": {},
   "outputs": [],
   "source": [
    "def solution(strArr):\n",
    "    answer = []\n",
    "    for i in range(len(strArr)):\n",
    "        if i % 2 == 1:\n",
    "            txt = str.upper(strArr[i])\n",
    "        else:   \n",
    "            txt = str.lower(strArr[i])\n",
    "        answer.append(txt)\n",
    "    return answer"
   ]
  },
  {
   "attachments": {},
   "cell_type": "markdown",
   "metadata": {},
   "source": [
    "### 뒤에서 5등 위로"
   ]
  },
  {
   "cell_type": "code",
   "execution_count": null,
   "metadata": {},
   "outputs": [],
   "source": [
    "def solution(num_list):\n",
    "    answer = sorted(num_list)[5:]\n",
    "    return answer"
   ]
  },
  {
   "attachments": {},
   "cell_type": "markdown",
   "metadata": {},
   "source": [
    "### 문자열 정수의 합"
   ]
  },
  {
   "cell_type": "code",
   "execution_count": null,
   "metadata": {},
   "outputs": [],
   "source": [
    "def solution(num_str):\n",
    "    answer = 0\n",
    "    for i in num_str:\n",
    "        answer += int(i)\n",
    "    return answer"
   ]
  },
  {
   "attachments": {},
   "cell_type": "markdown",
   "metadata": {},
   "source": [
    "### 이어 붙인 수"
   ]
  },
  {
   "cell_type": "code",
   "execution_count": null,
   "metadata": {},
   "outputs": [],
   "source": [
    "def solution(num_list):\n",
    "    odd = ''\n",
    "    even = ''\n",
    "    for i in range(len(num_list)):\n",
    "        if num_list[i] % 2 == 1 :\n",
    "            odd += str(num_list[i])\n",
    "        else :\n",
    "            even += str(num_list[i])\n",
    "    answer = int(odd) + int(even)\n",
    "    return answer"
   ]
  },
  {
   "attachments": {},
   "cell_type": "markdown",
   "metadata": {},
   "source": [
    "### 접두사인지 확인하기"
   ]
  },
  {
   "cell_type": "code",
   "execution_count": null,
   "metadata": {},
   "outputs": [],
   "source": [
    "def solution(my_string, is_prefix):\n",
    "    if is_prefix == my_string[:len(is_prefix)]:\n",
    "        answer = 1\n",
    "    else :\n",
    "        answer = 0\n",
    "    return answer"
   ]
  },
  {
   "cell_type": "code",
   "execution_count": null,
   "metadata": {},
   "outputs": [],
   "source": [
    "def solution(my_string, is_prefix):\n",
    "    return int(my_string.startswith(is_prefix))"
   ]
  },
  {
   "attachments": {},
   "cell_type": "markdown",
   "metadata": {},
   "source": [
    "### 글자 이어 붙여 문자열 만들기"
   ]
  },
  {
   "cell_type": "code",
   "execution_count": null,
   "metadata": {},
   "outputs": [],
   "source": [
    "def solution(my_string, index_list):\n",
    "    answer = ''\n",
    "    for i in index_list:\n",
    "        answer+=my_string[i]\n",
    "    return answer"
   ]
  },
  {
   "cell_type": "code",
   "execution_count": null,
   "metadata": {},
   "outputs": [],
   "source": [
    "def solution(my_string, index_list):\n",
    "    answer = ''.join([my_string[i] for i in index_list])\n",
    "    return answer"
   ]
  },
  {
   "attachments": {},
   "cell_type": "markdown",
   "metadata": {},
   "source": [
    "### n개 간격의 원소들"
   ]
  },
  {
   "cell_type": "code",
   "execution_count": null,
   "metadata": {},
   "outputs": [],
   "source": [
    "def solution(num_list, n):\n",
    "    answer = num_list[::n]\n",
    "    return answer"
   ]
  },
  {
   "attachments": {},
   "cell_type": "markdown",
   "metadata": {},
   "source": [
    "### 문자열 바꿔서 찾기"
   ]
  },
  {
   "cell_type": "code",
   "execution_count": null,
   "metadata": {},
   "outputs": [],
   "source": [
    "def solution(myString, pat):\n",
    "    table = str.maketrans('AB', 'BA')\n",
    "    myString = myString.translate(table)\n",
    "    if pat in myString:\n",
    "        answer = 1\n",
    "    else:\n",
    "        answer = 0\n",
    "    return answer"
   ]
  },
  {
   "attachments": {},
   "cell_type": "markdown",
   "metadata": {},
   "source": [
    "### 문자열 붙여서 출력하기"
   ]
  },
  {
   "cell_type": "code",
   "execution_count": null,
   "metadata": {},
   "outputs": [],
   "source": [
    "str1, str2 = input().strip().split(' ')\n",
    "print(''.join([str1,str2]))"
   ]
  },
  {
   "attachments": {},
   "cell_type": "markdown",
   "metadata": {},
   "source": [
    "### 홀짝 구분하기"
   ]
  },
  {
   "cell_type": "code",
   "execution_count": null,
   "metadata": {},
   "outputs": [],
   "source": [
    "a = int(input())\n",
    "if a % 2 == 1:\n",
    "    status = 'odd'\n",
    "else :\n",
    "    status = 'even'\n",
    "print(f'{a} is {status}')"
   ]
  },
  {
   "cell_type": "code",
   "execution_count": null,
   "metadata": {},
   "outputs": [],
   "source": [
    "n=int(input())\n",
    "print(f\"{n} is {'eovdedn'[n&1::2]}\")"
   ]
  },
  {
   "attachments": {},
   "cell_type": "markdown",
   "metadata": {},
   "source": [
    "### 원하는 문자열 찾기"
   ]
  },
  {
   "cell_type": "code",
   "execution_count": null,
   "metadata": {},
   "outputs": [],
   "source": [
    "def solution(myString, pat):\n",
    "    myString = str.lower(myString)\n",
    "    pat = str.lower(pat)\n",
    "    if pat in myString:\n",
    "        answer = 1\n",
    "    else :\n",
    "        answer = 0\n",
    "    return answer"
   ]
  },
  {
   "attachments": {},
   "cell_type": "markdown",
   "metadata": {},
   "source": [
    "### 배열의 원소만큼 추가하기"
   ]
  },
  {
   "cell_type": "code",
   "execution_count": null,
   "metadata": {},
   "outputs": [],
   "source": [
    "def solution(arr):\n",
    "    answer = sum([[i]*i for i in arr], [])\n",
    "    return answer"
   ]
  },
  {
   "attachments": {},
   "cell_type": "markdown",
   "metadata": {},
   "source": [
    "### 마지막 두 원소"
   ]
  },
  {
   "cell_type": "code",
   "execution_count": null,
   "metadata": {},
   "outputs": [],
   "source": [
    "def solution(num_list):\n",
    "    if num_list[-2] < num_list[-1]:\n",
    "        num_list.append(num_list[-1] - num_list[-2])\n",
    "    else :\n",
    "        num_list.append(num_list[-1]*2)\n",
    "    answer = num_list    \n",
    "    return answer"
   ]
  },
  {
   "attachments": {},
   "cell_type": "markdown",
   "metadata": {},
   "source": [
    "### 뒤에서 5등까지"
   ]
  },
  {
   "cell_type": "code",
   "execution_count": null,
   "metadata": {},
   "outputs": [],
   "source": [
    "def solution(num_list):\n",
    "    answer = sorted(num_list)[:5]\n",
    "    return answer"
   ]
  },
  {
   "attachments": {},
   "cell_type": "markdown",
   "metadata": {},
   "source": [
    "### 조건에 맞게 수열 변환하기 1"
   ]
  },
  {
   "cell_type": "code",
   "execution_count": null,
   "metadata": {},
   "outputs": [],
   "source": [
    "def solution(arr):\n",
    "    answer = []\n",
    "    for i in arr :\n",
    "        if (i >= 50) & (i % 2 == 0):\n",
    "            answer.append(i / 2)\n",
    "        elif (i < 50) & (i % 2 == 1):\n",
    "            answer.append(i * 2)\n",
    "        else:\n",
    "            answer.append(i)\n",
    "    return answer"
   ]
  },
  {
   "attachments": {},
   "cell_type": "markdown",
   "metadata": {},
   "source": [
    "### 꼬리 문자열"
   ]
  },
  {
   "cell_type": "code",
   "execution_count": null,
   "metadata": {},
   "outputs": [],
   "source": [
    "def solution(str_list, ex):\n",
    "    answer = []\n",
    "    for i in str_list:\n",
    "        if ex in i:\n",
    "            pass\n",
    "        else :\n",
    "            answer.append(i)\n",
    "    answer = ''.join(answer)\n",
    "    return answer"
   ]
  },
  {
   "cell_type": "code",
   "execution_count": null,
   "metadata": {},
   "outputs": [],
   "source": [
    "answer = []\n",
    "for i in str_list:\n",
    "    if ex in i:\n",
    "        pass\n",
    "    else :\n",
    "        answer += i\n",
    "answer = ''.join(answer)"
   ]
  },
  {
   "attachments": {},
   "cell_type": "markdown",
   "metadata": {},
   "source": [
    "### 홀짝에 따라 다른 값 반환하기"
   ]
  },
  {
   "cell_type": "code",
   "execution_count": null,
   "metadata": {},
   "outputs": [],
   "source": [
    "def solution(n):\n",
    "    if n % 2 == 1:\n",
    "        temp = [i for i in range(1, n+1)][::2]\n",
    "    else : \n",
    "        temp = [i**2 for i in range(2, n+1)][::2]\n",
    "    answer = sum(temp)\n",
    "    return answer"
   ]
  },
  {
   "cell_type": "code",
   "execution_count": null,
   "metadata": {},
   "outputs": [],
   "source": [
    "def solution(n):\n",
    "    answer = 0\n",
    "    if n % 2 == 1:\n",
    "        for i in range(1, n+1, 2):\n",
    "            answer += i \n",
    "    else : \n",
    "        for i in range(2, n+1, 2):\n",
    "            answer += i**2 \n",
    "    return answer"
   ]
  },
  {
   "attachments": {},
   "cell_type": "markdown",
   "metadata": {},
   "source": [
    "### 덧셈식 출력하기"
   ]
  },
  {
   "cell_type": "code",
   "execution_count": null,
   "metadata": {},
   "outputs": [],
   "source": [
    "a, b = map(int, input().strip().split(' '))\n",
    "print(f'{a} + {b} = {a + b}')"
   ]
  },
  {
   "attachments": {},
   "cell_type": "markdown",
   "metadata": {},
   "source": [
    "### 더 크게 합치기"
   ]
  },
  {
   "cell_type": "code",
   "execution_count": null,
   "metadata": {},
   "outputs": [],
   "source": [
    "def solution(a, b):\n",
    "    al = int(str(a) + str(b))\n",
    "    be = int(str(b) + str(a))\n",
    "    if al > be:\n",
    "        answer = al\n",
    "    else:\n",
    "        answer = be\n",
    "    return answer"
   ]
  },
  {
   "cell_type": "code",
   "execution_count": null,
   "metadata": {},
   "outputs": [],
   "source": [
    "def solution(a, b):\n",
    "    al = int(str(a) + str(b))\n",
    "    be = int(str(b) + str(a))\n",
    "    answer = max(al, be)\n",
    "    return answer"
   ]
  },
  {
   "attachments": {},
   "cell_type": "markdown",
   "metadata": {},
   "source": [
    "### 접미사인지 확인하기"
   ]
  },
  {
   "cell_type": "code",
   "execution_count": null,
   "metadata": {},
   "outputs": [],
   "source": [
    "def solution(my_string, is_suffix):\n",
    "    if my_string[-len(is_suffix):] == is_suffix:\n",
    "        answer = 1\n",
    "    else:\n",
    "        answer = 0\n",
    "    return answer"
   ]
  },
  {
   "attachments": {},
   "cell_type": "markdown",
   "metadata": {},
   "source": [
    "### 부분 문자열 이어 붙여 문자열 만들기"
   ]
  },
  {
   "cell_type": "code",
   "execution_count": null,
   "metadata": {},
   "outputs": [],
   "source": [
    "def solution(my_strings, parts):\n",
    "    answer = ''\n",
    "    for i in range(len(my_strings)):\n",
    "        answer += my_strings[i][parts[i][0]:parts[i][1]+1]\n",
    "    return answer"
   ]
  },
  {
   "attachments": {},
   "cell_type": "markdown",
   "metadata": {},
   "source": [
    "### A 강조하기"
   ]
  },
  {
   "cell_type": "code",
   "execution_count": null,
   "metadata": {},
   "outputs": [],
   "source": [
    "def solution(myString):\n",
    "    answer = myString.lower().replace('a', 'A')\n",
    "    return answer"
   ]
  },
  {
   "attachments": {},
   "cell_type": "markdown",
   "metadata": {},
   "source": [
    "### 홀수 vs 짝수"
   ]
  },
  {
   "cell_type": "code",
   "execution_count": null,
   "metadata": {},
   "outputs": [],
   "source": [
    "def solution(num_list):\n",
    "    answer = max(sum(num_list[::2]),sum(num_list[1::2]))\n",
    "    return answer"
   ]
  },
  {
   "attachments": {},
   "cell_type": "markdown",
   "metadata": {},
   "source": [
    "### 공백으로 구분하기 2"
   ]
  },
  {
   "cell_type": "code",
   "execution_count": null,
   "metadata": {},
   "outputs": [],
   "source": [
    "def solution(my_string):\n",
    "    answer = ' '.join(my_string.split(\" \")).split()\n",
    "    return answer"
   ]
  },
  {
   "attachments": {},
   "cell_type": "markdown",
   "metadata": {},
   "source": [
    "### 접미사 배열"
   ]
  },
  {
   "cell_type": "code",
   "execution_count": null,
   "metadata": {},
   "outputs": [],
   "source": [
    "def solution(my_string):\n",
    "    temp = [my_string[-i:] for i in range(1, len(my_string)+1)]\n",
    "    answer = sorted(temp)\n",
    "    return answer"
   ]
  },
  {
   "attachments": {},
   "cell_type": "markdown",
   "metadata": {},
   "source": [
    "### 0 떼기"
   ]
  },
  {
   "cell_type": "code",
   "execution_count": null,
   "metadata": {},
   "outputs": [],
   "source": [
    "def solution(n_str):\n",
    "    answer = n_str.lstrip('0')\n",
    "    return answer"
   ]
  },
  {
   "attachments": {},
   "cell_type": "markdown",
   "metadata": {},
   "source": [
    "### 문자열 섞기"
   ]
  },
  {
   "cell_type": "code",
   "execution_count": null,
   "metadata": {},
   "outputs": [],
   "source": [
    "def solution(str1, str2):\n",
    "    answer = ''\n",
    "    for i in range(len(str1)):\n",
    "        answer += str1[i] + str2[i]\n",
    "    return answer"
   ]
  },
  {
   "attachments": {},
   "cell_type": "markdown",
   "metadata": {},
   "source": [
    "### 문자열 돌리기"
   ]
  },
  {
   "cell_type": "code",
   "execution_count": null,
   "metadata": {},
   "outputs": [],
   "source": [
    "str = input()\n",
    "for i in range(len(str)):\n",
    "    print(str[i])"
   ]
  },
  {
   "attachments": {},
   "cell_type": "markdown",
   "metadata": {},
   "source": [
    "### 5명씩"
   ]
  },
  {
   "cell_type": "code",
   "execution_count": null,
   "metadata": {},
   "outputs": [],
   "source": [
    "def solution(names):\n",
    "    answer = names[::5]\n",
    "    return answer"
   ]
  },
  {
   "attachments": {},
   "cell_type": "markdown",
   "metadata": {},
   "source": [
    "### l로 만들기"
   ]
  },
  {
   "cell_type": "code",
   "execution_count": null,
   "metadata": {},
   "outputs": [],
   "source": [
    "def solution(myString):\n",
    "    tran = str.maketrans('abcdefghijk', 'lllllllllll')\n",
    "    answer = myString.translate(tran)\n",
    "    return answer"
   ]
  },
  {
   "attachments": {},
   "cell_type": "markdown",
   "metadata": {},
   "source": [
    "### 9로 나눈 나머지"
   ]
  },
  {
   "cell_type": "code",
   "execution_count": null,
   "metadata": {},
   "outputs": [],
   "source": [
    "def solution(number):\n",
    "    temp = 0\n",
    "    for i in str(number):\n",
    "        temp += int(i)\n",
    "    answer = temp % 9\n",
    "    return answer"
   ]
  },
  {
   "attachments": {},
   "cell_type": "markdown",
   "metadata": {},
   "source": [
    "### 간단한 식 계산하기"
   ]
  },
  {
   "cell_type": "code",
   "execution_count": null,
   "metadata": {},
   "outputs": [],
   "source": [
    "def solution(binomial):\n",
    "    a, op, b = binomial.split(\" \")\n",
    "    a, b = int(a), int(b)\n",
    "\n",
    "    if op == '+':\n",
    "        answer = a + b\n",
    "    elif op == '-':\n",
    "        answer = a - b\n",
    "    elif op == '*':\n",
    "        answer = a * b\n",
    "    else :\n",
    "        answer = a / b\n",
    "    return answer"
   ]
  },
  {
   "attachments": {},
   "cell_type": "markdown",
   "metadata": {},
   "source": [
    "### 배열의 원소 삭제하기"
   ]
  },
  {
   "cell_type": "code",
   "execution_count": null,
   "metadata": {},
   "outputs": [],
   "source": [
    "def solution(arr, delete_list):\n",
    "    answer = [i for i in arr if i not in delete_list]\n",
    "    return answer"
   ]
  },
  {
   "attachments": {},
   "cell_type": "markdown",
   "metadata": {},
   "source": [
    "### 순서 바꾸기"
   ]
  },
  {
   "cell_type": "code",
   "execution_count": null,
   "metadata": {},
   "outputs": [],
   "source": [
    "def solution(num_list, n):\n",
    "    answer = num_list[n:] + num_list[:n]\n",
    "    return answer"
   ]
  },
  {
   "attachments": {},
   "cell_type": "markdown",
   "metadata": {},
   "source": [
    "### 할 일 목록"
   ]
  },
  {
   "cell_type": "code",
   "execution_count": null,
   "metadata": {},
   "outputs": [],
   "source": [
    "def solution(todo_list, finished):\n",
    "    answer = [todo_list[i] for i in range(len(todo_list)) if not finished[i]]\n",
    "    return answer"
   ]
  },
  {
   "cell_type": "code",
   "execution_count": null,
   "metadata": {},
   "outputs": [],
   "source": [
    "def solution(todo_list, finished):\n",
    "    return [work for idx, work in enumerate(todo_list) if not finished[idx]]"
   ]
  },
  {
   "attachments": {},
   "cell_type": "markdown",
   "metadata": {},
   "source": [
    "### 콜라츠 수열 만들기"
   ]
  },
  {
   "cell_type": "code",
   "execution_count": null,
   "metadata": {},
   "outputs": [],
   "source": [
    "def solution(n):\n",
    "    answer = [n]\n",
    "    while n != 1:\n",
    "        if n % 2 == 0:\n",
    "            n = n / 2\n",
    "        elif n % 2 != 0:\n",
    "            n = 3 * n + 1\n",
    "        answer.append(n)\n",
    "    return answer"
   ]
  },
  {
   "attachments": {},
   "cell_type": "markdown",
   "metadata": {},
   "source": [
    "### 특별한 이차원 배열 2"
   ]
  },
  {
   "cell_type": "code",
   "execution_count": null,
   "metadata": {},
   "outputs": [],
   "source": [
    "def solution(arr):\n",
    "    answer = 1\n",
    "    for i in range(len(arr)):\n",
    "        for j in range(len(arr[i])):\n",
    "            if arr[i][j] != arr[j][i]:\n",
    "                answer = 0\n",
    "                break\n",
    "            else:\n",
    "                pass\n",
    "    return answer"
   ]
  },
  {
   "attachments": {},
   "cell_type": "markdown",
   "metadata": {},
   "source": [
    "### ad 제거하기"
   ]
  },
  {
   "cell_type": "code",
   "execution_count": null,
   "metadata": {},
   "outputs": [],
   "source": [
    "def solution(strArr):\n",
    "    answer = [i for i in strArr if 'ad' not in i]\n",
    "    return answer"
   ]
  },
  {
   "attachments": {},
   "cell_type": "markdown",
   "metadata": {},
   "source": [
    "### 배열 비교하기"
   ]
  },
  {
   "cell_type": "code",
   "execution_count": null,
   "metadata": {},
   "outputs": [],
   "source": [
    "def solution(arr1, arr2):\n",
    "    len_a, len_b = len(arr1), len(arr2)\n",
    "    if len_a != len_b:\n",
    "        if max(len_a,len_b) == len_a:\n",
    "            answer = 1\n",
    "        else :\n",
    "            answer = -1\n",
    "    else:\n",
    "        sum_a, sum_b = sum(arr1), sum(arr2)\n",
    "        if sum_a == sum_b:\n",
    "            answer = 0\n",
    "        elif sum_a > sum_b:\n",
    "            answer = 1\n",
    "        else :\n",
    "            answer = -1\n",
    "    return answer"
   ]
  },
  {
   "attachments": {},
   "cell_type": "markdown",
   "metadata": {},
   "source": [
    "### 주사위 게임 2"
   ]
  },
  {
   "cell_type": "code",
   "execution_count": null,
   "metadata": {},
   "outputs": [],
   "source": [
    "def solution(a, b, c):\n",
    "    if (a!=b) & (b!=c) & (c!=a):\n",
    "        answer = a + b + c\n",
    "    elif (a==b) & (b==c):\n",
    "        answer = (a+b+c) * (a**2 + b**2 + c**2) * (a**3 + b**3 + c**3)\n",
    "    else:\n",
    "        answer = (a+b+c) * (a**2 + b**2 + c**2)\n",
    "    return answer"
   ]
  },
  {
   "cell_type": "code",
   "execution_count": null,
   "metadata": {},
   "outputs": [],
   "source": [
    "def solution(a, b, c):\n",
    "    unique = len(set((a,b,c)))\n",
    "    if unique==1:\n",
    "        answer = (a+b+c) * (a**2 + b**2 + c**2) * (a**3 + b**3 + c**3)\n",
    "    elif unique==2:\n",
    "        answer = (a+b+c) * (a**2 + b**2 + c**2)\n",
    "    else :\n",
    "        answer = a + b + c\n",
    "    return answer"
   ]
  },
  {
   "attachments": {},
   "cell_type": "markdown",
   "metadata": {},
   "source": [
    "### 가까운 1 찾기"
   ]
  },
  {
   "cell_type": "code",
   "execution_count": null,
   "metadata": {},
   "outputs": [],
   "source": [
    "def solution(arr, idx):\n",
    "    if 1 in arr[idx:]:\n",
    "        answer = arr[idx:].index(1)+idx\n",
    "    else :\n",
    "        answer = -1\n",
    "    return answer"
   ]
  },
  {
   "attachments": {},
   "cell_type": "markdown",
   "metadata": {},
   "source": [
    "### x 사이의 개수"
   ]
  },
  {
   "cell_type": "code",
   "execution_count": null,
   "metadata": {},
   "outputs": [],
   "source": [
    "def solution(myString):\n",
    "    answer = [len(i) for i in myString.split('x')]\n",
    "    return answer"
   ]
  },
  {
   "attachments": {},
   "cell_type": "markdown",
   "metadata": {},
   "source": [
    "### 배열 만들기 3"
   ]
  },
  {
   "cell_type": "code",
   "execution_count": null,
   "metadata": {},
   "outputs": [],
   "source": [
    "def solution(arr, intervals):\n",
    "    answer = sum([arr[i[0]:i[1]+1] for i in intervals], [])\n",
    "    return answer"
   ]
  },
  {
   "cell_type": "code",
   "execution_count": null,
   "metadata": {},
   "outputs": [],
   "source": [
    "def solution(arr, intervals):\n",
    "    answer = arr[intervals[0][0]:intervals[0][1]+1] + arr[intervals[1][0]:intervals[1][1]+1]\n",
    "    return answer"
   ]
  },
  {
   "attachments": {},
   "cell_type": "markdown",
   "metadata": {},
   "source": [
    "### 등차수열의 특정한 항만 더하기"
   ]
  },
  {
   "cell_type": "code",
   "execution_count": null,
   "metadata": {},
   "outputs": [],
   "source": [
    "def solution(a, d, included):\n",
    "    answer = sum([a + d*i  for i in range(len(included)) if included[i]])\n",
    "    return answer"
   ]
  },
  {
   "cell_type": "code",
   "execution_count": null,
   "metadata": {},
   "outputs": [],
   "source": [
    "def solution(a, d, included):\n",
    "    answer = sum([a + d * i for i, v in enumerate(included) if v])\n",
    "    return answer"
   ]
  },
  {
   "attachments": {},
   "cell_type": "markdown",
   "metadata": {},
   "source": [
    "### 두 수의 연산값 비교하기"
   ]
  },
  {
   "cell_type": "code",
   "execution_count": null,
   "metadata": {},
   "outputs": [],
   "source": [
    "def solution(a, b):\n",
    "    answer = max(int(str(a)+str(b)), 2*a*b)\n",
    "    return answer"
   ]
  },
  {
   "attachments": {},
   "cell_type": "markdown",
   "metadata": {},
   "source": [
    "### 특별한 이차원 배열 1"
   ]
  },
  {
   "cell_type": "code",
   "execution_count": null,
   "metadata": {},
   "outputs": [],
   "source": [
    "import numpy as np\n",
    "\n",
    "def solution(n):\n",
    "    answer = np.eye(n).tolist()\n",
    "    return answer"
   ]
  },
  {
   "attachments": {},
   "cell_type": "markdown",
   "metadata": {},
   "source": [
    "### 문자열 잘라서 정렬하기"
   ]
  },
  {
   "cell_type": "code",
   "execution_count": null,
   "metadata": {},
   "outputs": [],
   "source": [
    "def solution(myString):\n",
    "    answer = sorted(\" \".join(myString.split('x')).split())\n",
    "    return answer"
   ]
  },
  {
   "attachments": {},
   "cell_type": "markdown",
   "metadata": {},
   "source": [
    "### 문자열 반복해서 출력하기"
   ]
  },
  {
   "cell_type": "code",
   "execution_count": null,
   "metadata": {},
   "outputs": [],
   "source": [
    "a, b = input().strip().split(' ')\n",
    "b = int(b)\n",
    "print(a*b)"
   ]
  },
  {
   "attachments": {},
   "cell_type": "markdown",
   "metadata": {},
   "source": [
    "### 수 조작하기 2"
   ]
  },
  {
   "cell_type": "code",
   "execution_count": null,
   "metadata": {},
   "outputs": [],
   "source": [
    "def solution(numLog):\n",
    "    answer = ''\n",
    "    for i in range(len(numLog)+1):\n",
    "        value = numLog[i+1]-numLog[i]\n",
    "        if value == 1:\n",
    "            answer += 'w'\n",
    "        elif value == -1:\n",
    "            answer += 's'\n",
    "        elif value == 10:\n",
    "            answer += 'd'\n",
    "        else:\n",
    "            answer += 'a'\n",
    "    return answer"
   ]
  },
  {
   "attachments": {},
   "cell_type": "markdown",
   "metadata": {},
   "source": [
    "### 수 조작하기 2"
   ]
  },
  {
   "cell_type": "code",
   "execution_count": null,
   "metadata": {},
   "outputs": [],
   "source": [
    "def solution(numLog):\n",
    "    answer = ''\n",
    "    for i in range(len(numLog)-1):\n",
    "        value = numLog[i+1]-numLog[i]\n",
    "        if value == 1:\n",
    "            answer += 'w'\n",
    "        elif value == -1:\n",
    "            answer += 's'\n",
    "        elif value == 10:\n",
    "            answer += 'd'\n",
    "        else:\n",
    "            answer += 'a'\n",
    "    return answer"
   ]
  },
  {
   "attachments": {},
   "cell_type": "markdown",
   "metadata": {},
   "source": [
    "### 수열과 구간 쿼리 3"
   ]
  },
  {
   "cell_type": "code",
   "execution_count": null,
   "metadata": {},
   "outputs": [],
   "source": [
    "def solution(arr, queries):\n",
    "    for i in queries:\n",
    "        arr[i[0]], arr[i[1]] = arr[i[1]], arr[i[0]]    \n",
    "    answer = arr        \n",
    "    return answer"
   ]
  },
  {
   "attachments": {},
   "cell_type": "markdown",
   "metadata": {},
   "source": [
    "### 간단한 논리 연산"
   ]
  },
  {
   "cell_type": "code",
   "execution_count": null,
   "metadata": {},
   "outputs": [],
   "source": [
    "def solution(x1, x2, x3, x4):\n",
    "    answer = (x1 | x2) & (x3 | x4)\n",
    "    return answer"
   ]
  },
  {
   "attachments": {},
   "cell_type": "markdown",
   "metadata": {},
   "source": [
    "### 문자열 뒤집기"
   ]
  },
  {
   "cell_type": "code",
   "execution_count": null,
   "metadata": {},
   "outputs": [],
   "source": [
    "def solution(my_string, s, e):\n",
    "    answer = my_string[:s] + my_string[s:e+1][::-1] + my_string[e+1:]\n",
    "    return answer"
   ]
  },
  {
   "attachments": {},
   "cell_type": "markdown",
   "metadata": {},
   "source": [
    "### 1로 만들기"
   ]
  },
  {
   "cell_type": "code",
   "execution_count": null,
   "metadata": {},
   "outputs": [],
   "source": [
    "def solution(num_list):\n",
    "    answer = 0\n",
    "    for i in num_list:\n",
    "        while i!=1:\n",
    "            i = i // 2\n",
    "            answer += 1\n",
    "    return answer"
   ]
  },
  {
   "attachments": {},
   "cell_type": "markdown",
   "metadata": {},
   "source": [
    "### 수열과 구간 쿼리 1"
   ]
  },
  {
   "cell_type": "code",
   "execution_count": null,
   "metadata": {},
   "outputs": [],
   "source": [
    "def solution(arr, queries):\n",
    "    for i in queries:\n",
    "        for j in range(i[0], i[1]+1):\n",
    "            arr[j]+=1\n",
    "    answer = arr\n",
    "    return answer"
   ]
  },
  {
   "attachments": {},
   "cell_type": "markdown",
   "metadata": {},
   "source": [
    "### 배열 만들기 5"
   ]
  },
  {
   "cell_type": "code",
   "execution_count": null,
   "metadata": {},
   "outputs": [],
   "source": [
    "def solution(intStrs, k, s, l):\n",
    "    answer = [int(i[s:s+l]) for i in intStrs if int(i[s:s+l])>k]\n",
    "    return answer"
   ]
  },
  {
   "attachments": {},
   "cell_type": "markdown",
   "metadata": {},
   "source": [
    "### 세로 읽기"
   ]
  },
  {
   "cell_type": "code",
   "execution_count": null,
   "metadata": {},
   "outputs": [],
   "source": [
    "def solution(my_string, m, c):\n",
    "    answer = \"\".join([my_string[i:i+m][c-1] for i in range(0, len(my_string), m)])\n",
    "    return answer"
   ]
  },
  {
   "cell_type": "code",
   "execution_count": null,
   "metadata": {},
   "outputs": [],
   "source": [
    "def solution(my_string, m, c):\n",
    "    answer = my_string[c-1::m]\n",
    "    return answer"
   ]
  },
  {
   "attachments": {},
   "cell_type": "markdown",
   "metadata": {},
   "source": [
    "### 특정 문자열로 끝나는 가장 긴 부분 문자열 찾기"
   ]
  },
  {
   "cell_type": "code",
   "execution_count": null,
   "metadata": {},
   "outputs": [],
   "source": [
    "def solution(myString, pat):\n",
    "    answer = myString[:myString.rfind(pat)+len(pat)]\n",
    "    return answer"
   ]
  },
  {
   "attachments": {},
   "cell_type": "markdown",
   "metadata": {},
   "source": [
    "### 특수문자 출력하기"
   ]
  },
  {
   "cell_type": "code",
   "execution_count": null,
   "metadata": {},
   "outputs": [],
   "source": [
    "print('!@#$%^&*(\\\\\\'\"<>?:;')\n",
    "print(r'!@#$%^&*(\\'\"<>?:;')"
   ]
  },
  {
   "attachments": {},
   "cell_type": "markdown",
   "metadata": {},
   "source": [
    "### 빈 배열에 추가, 삭제하기"
   ]
  },
  {
   "cell_type": "code",
   "execution_count": null,
   "metadata": {},
   "outputs": [],
   "source": [
    "def solution(arr, flag):\n",
    "    answer = []\n",
    "    for i, k in enumerate(flag):\n",
    "        if k:\n",
    "            for j in range(arr[i]*2):\n",
    "                answer.append(arr[i])\n",
    "        else:\n",
    "            answer= answer[:len(answer)-arr[i]]\n",
    "    return answer"
   ]
  },
  {
   "attachments": {},
   "cell_type": "markdown",
   "metadata": {},
   "source": [
    "### 세 개의 구분자"
   ]
  },
  {
   "cell_type": "code",
   "execution_count": null,
   "metadata": {},
   "outputs": [],
   "source": [
    "def solution(myStr):\n",
    "    answer = \" \".join(myStr.replace('a', 'c').replace('b', 'c').split('c')).split()\n",
    "    if answer == []:\n",
    "        answer = ['EMPTY']\n",
    "    return answer"
   ]
  },
  {
   "attachments": {},
   "cell_type": "markdown",
   "metadata": {},
   "source": [
    "### 문자열이 몇 번 등장하는지 세기"
   ]
  },
  {
   "cell_type": "code",
   "execution_count": null,
   "metadata": {},
   "outputs": [],
   "source": [
    "def solution(myString, pat):\n",
    "    answer = -1\n",
    "    ind = 0\n",
    "    while ind != -1:\n",
    "        answer += 1\n",
    "        ind = myString.find(pat)\n",
    "        myString = myString[ind+1:]\n",
    "    return answer"
   ]
  },
  {
   "attachments": {},
   "cell_type": "markdown",
   "metadata": {},
   "source": [
    "### 글자 지우기"
   ]
  },
  {
   "cell_type": "code",
   "execution_count": null,
   "metadata": {},
   "outputs": [],
   "source": [
    "def solution(my_string, indices):\n",
    "    answer = \"\".join([my_string[i] for i in range(len(my_string)) if i not in indices])\n",
    "    return answer"
   ]
  },
  {
   "attachments": {},
   "cell_type": "markdown",
   "metadata": {},
   "source": [
    "### 조건에 맞게 수열 변환하기 2"
   ]
  },
  {
   "cell_type": "code",
   "execution_count": null,
   "metadata": {},
   "outputs": [],
   "source": [
    "def solution(arr):\n",
    "    answer = -1 \n",
    "    copy = 0\n",
    "    while arr != copy:\n",
    "        copy = arr.copy()\n",
    "        for i in range(len(arr)):\n",
    "            if (arr[i] >= 50) and (arr[i] % 2==0):\n",
    "                arr[i] = arr[i] / 2 \n",
    "            elif (arr[i] < 50) and (arr[i] % 2==1):\n",
    "                arr[i] = arr[i] * 2 + 1\n",
    "            else :\n",
    "                pass\n",
    "        answer += 1\n",
    "    return answer"
   ]
  },
  {
   "attachments": {},
   "cell_type": "markdown",
   "metadata": {},
   "source": [
    "### 날짜 비교하기"
   ]
  },
  {
   "cell_type": "code",
   "execution_count": null,
   "metadata": {},
   "outputs": [],
   "source": [
    "def solution(date1, date2):\n",
    "    if date1[0] < date2[0]:\n",
    "        answer = 1\n",
    "    elif (date1[0] <= date2[0]) and (date1[1] < date2[1]):\n",
    "        answer = 1\n",
    "    elif (date1[0] <= date2[0]) and (date1[1] <= date2[1]) and (date1[2] < date2[2]):\n",
    "        answer = 1\n",
    "    else : \n",
    "        answer = 0\n",
    "    return answer"
   ]
  },
  {
   "cell_type": "code",
   "execution_count": null,
   "metadata": {},
   "outputs": [],
   "source": [
    "def solution(date1, date2):\n",
    "    answer = int(date1<date2)\n",
    "    return answer"
   ]
  },
  {
   "attachments": {},
   "cell_type": "markdown",
   "metadata": {},
   "source": [
    "### 문자열 묶기"
   ]
  },
  {
   "cell_type": "code",
   "execution_count": null,
   "metadata": {},
   "outputs": [],
   "source": [
    "from collections import Counter\n",
    "\n",
    "def solution(strArr):\n",
    "    answer = Counter.most_common(Counter([len(i) for i in strArr]))[0][1]\n",
    "    return answer"
   ]
  },
  {
   "attachments": {},
   "cell_type": "markdown",
   "metadata": {},
   "source": [
    "### 이차원 배열 대각선 순회하기"
   ]
  },
  {
   "cell_type": "code",
   "execution_count": null,
   "metadata": {},
   "outputs": [],
   "source": [
    "def solution(board, k):\n",
    "    answer = 0\n",
    "    for i in range(len(board)):\n",
    "        for j in range(len(board[i])):\n",
    "            if i+j<=k:\n",
    "                answer += board[i][j]\n",
    "    return answer"
   ]
  },
  {
   "attachments": {},
   "cell_type": "markdown",
   "metadata": {},
   "source": [
    "### 삼각형의 완성조건 (2)"
   ]
  },
  {
   "cell_type": "code",
   "execution_count": null,
   "metadata": {},
   "outputs": [],
   "source": [
    "def solution(sides):\n",
    "    answer = 0\n",
    "    answer += len([i for i in range((max(sides)-min(sides)), max(sides)+1) if max(sides) < (min(sides) + i)])\n",
    "    answer += len([i for i in range(max(sides)+1, sum(sides))])\n",
    "    return answer"
   ]
  },
  {
   "attachments": {},
   "cell_type": "markdown",
   "metadata": {},
   "source": [
    "### 수열과 구간 쿼리 4"
   ]
  },
  {
   "cell_type": "code",
   "execution_count": null,
   "metadata": {},
   "outputs": [],
   "source": [
    "def solution(arr, queries):\n",
    "    for i in range(len(queries)):\n",
    "        for j in range(queries[i][0], queries[i][1]+1):\n",
    "            if j % queries[i][2] == 0:\n",
    "                arr[j] += 1\n",
    "    answer = arr\n",
    "    return answer"
   ]
  },
  {
   "attachments": {},
   "cell_type": "markdown",
   "metadata": {},
   "source": [
    "### 외계어 사전"
   ]
  },
  {
   "cell_type": "code",
   "execution_count": null,
   "metadata": {},
   "outputs": [],
   "source": [
    "def solution(spell, dic):\n",
    "    answer=2\n",
    "    temp = {}\n",
    "    for i in range(len(dic)):\n",
    "        for j in spell:\n",
    "            temp.update({j:dic[i].count(j)})\n",
    "        if list(temp.values()) == [1]*len(spell):\n",
    "            answer = 1\n",
    "            break\n",
    "    return answer"
   ]
  },
  {
   "attachments": {},
   "cell_type": "markdown",
   "metadata": {},
   "source": [
    "### qr code"
   ]
  },
  {
   "cell_type": "code",
   "execution_count": null,
   "metadata": {},
   "outputs": [],
   "source": [
    "def solution(q, r, code):\n",
    "    answer = \"\"\n",
    "    for i in range(len(code)):\n",
    "        if (i % q) == r:\n",
    "            answer += code[i]\n",
    "    return answer"
   ]
  },
  {
   "cell_type": "code",
   "execution_count": null,
   "metadata": {},
   "outputs": [],
   "source": [
    "def solution(q, r, code):\n",
    "    answer = code[r::q]\n",
    "    return answer"
   ]
  },
  {
   "attachments": {},
   "cell_type": "markdown",
   "metadata": {},
   "source": [
    "### 문자 개수 세기"
   ]
  },
  {
   "cell_type": "code",
   "execution_count": null,
   "metadata": {},
   "outputs": [],
   "source": [
    "def solution(my_string):\n",
    "    answer = [0 for i in range(52)]\n",
    "    alphabet = 'ABCDEFGHIJKLMNOPQRSTUVWXYZabcdefghijklmnopqrstuvwxyz'\t\n",
    "    for i in my_string:\n",
    "        if i in alphabet:\n",
    "            answer[alphabet.index(i)] += 1\n",
    "    return answer"
   ]
  },
  {
   "attachments": {},
   "cell_type": "markdown",
   "metadata": {},
   "source": [
    "### a와 b 출력하기"
   ]
  },
  {
   "cell_type": "code",
   "execution_count": null,
   "metadata": {},
   "outputs": [],
   "source": [
    "a, b = map(int, input().strip().split(' '))\n",
    "print(f'a = {a}')\n",
    "print(f'b = {b}')"
   ]
  },
  {
   "attachments": {},
   "cell_type": "markdown",
   "metadata": {},
   "source": [
    "### 조건 문자열"
   ]
  },
  {
   "cell_type": "code",
   "execution_count": null,
   "metadata": {},
   "outputs": [],
   "source": [
    "def solution(ineq, eq, n, m):\n",
    "    if (ineq == '<') and (eq=='='):\n",
    "        answer = n <= m\n",
    "    elif (ineq == '>') and (eq=='='):\n",
    "        answer = n >= m\n",
    "    elif (ineq == '>') and (eq=='!'):\n",
    "        answer = n > m\n",
    "    else :\n",
    "        answer = n < m\n",
    "    return int(answer)"
   ]
  },
  {
   "attachments": {},
   "cell_type": "markdown",
   "metadata": {},
   "source": [
    "### 2의 영역"
   ]
  },
  {
   "cell_type": "code",
   "execution_count": null,
   "metadata": {},
   "outputs": [],
   "source": [
    "def solution(arr):\n",
    "    if 2 not in arr:\n",
    "        answer = [-1]\n",
    "    else:\n",
    "        ind1 = arr.index(2)\n",
    "        arr.reverse()\n",
    "        ind2 = len(arr) - arr.index(2)\n",
    "        arr.reverse()\n",
    "        answer = arr[ind1:ind2]\n",
    "    return answer"
   ]
  },
  {
   "attachments": {},
   "cell_type": "markdown",
   "metadata": {},
   "source": [
    "### 커피 심부름"
   ]
  },
  {
   "cell_type": "code",
   "execution_count": null,
   "metadata": {},
   "outputs": [],
   "source": [
    "def solution(order):\n",
    "    answer = 0\n",
    "    for i in order :\n",
    "        if 'latte' in i:\n",
    "            answer += 5000\n",
    "        else :\n",
    "            answer += 4500\n",
    "    return answer"
   ]
  },
  {
   "attachments": {},
   "cell_type": "markdown",
   "metadata": {},
   "source": [
    "### 리스트 자르기"
   ]
  },
  {
   "cell_type": "code",
   "execution_count": null,
   "metadata": {},
   "outputs": [],
   "source": [
    "def solution(n, slicer, num_list):\n",
    "    if n == 1:\n",
    "        answer = num_list[:slicer[1]+1]\n",
    "    elif n == 2 :\n",
    "        answer = num_list[slicer[0]:]\n",
    "    elif n == 3 :\n",
    "        answer = num_list[slicer[0]:slicer[1]+1]\n",
    "    else : \n",
    "        answer = num_list[slicer[0]:slicer[1]+1:slicer[2]]\n",
    "    return answer"
   ]
  },
  {
   "attachments": {},
   "cell_type": "markdown",
   "metadata": {},
   "source": [
    "### 배열의 길이를 2의 거듭제곱으로 만들기"
   ]
  },
  {
   "cell_type": "code",
   "execution_count": null,
   "metadata": {},
   "outputs": [],
   "source": [
    "def solution(arr):\n",
    "    list_2 = [1, 2, 4, 8, 16, 32, 64, 128, 256, 512, 1024]\n",
    "    for i in list_2:\n",
    "        if i >= len(arr):\n",
    "            break\n",
    "    diff = i - len(arr)\n",
    "    answer = arr + [0] * diff\n",
    "    return answer"
   ]
  },
  {
   "attachments": {},
   "cell_type": "markdown",
   "metadata": {},
   "source": [
    "### 수열과 구간 쿼리 2"
   ]
  },
  {
   "cell_type": "code",
   "execution_count": null,
   "metadata": {},
   "outputs": [],
   "source": [
    "def solution(arr, queries):\n",
    "    answer = []\n",
    "    for i in queries:\n",
    "        temp = [j for j in arr[i[0]:i[1]+1] if j > i[2]]\n",
    "        if len(temp)==0:\n",
    "            answer += [-1]\n",
    "        else :\n",
    "            answer += [min(temp)]\n",
    "    return answer"
   ]
  },
  {
   "attachments": {},
   "cell_type": "markdown",
   "metadata": {},
   "source": [
    "### 직사각형 넓이 구하기"
   ]
  },
  {
   "cell_type": "code",
   "execution_count": null,
   "metadata": {},
   "outputs": [],
   "source": [
    "def solution(dots):\n",
    "    [[x1, y1], [x2, y2], [x3, y3], [x4, y4]] = dots\n",
    "    x = [x1, x2, x3, x4]\n",
    "    y = [y1, y2, y3, y4]\n",
    "    answer = (max(x) - min(x)) * (max(y) - min(y))\n",
    "    return answer"
   ]
  },
  {
   "attachments": {},
   "cell_type": "markdown",
   "metadata": {},
   "source": [
    "### 종이 자르기"
   ]
  },
  {
   "cell_type": "code",
   "execution_count": null,
   "metadata": {},
   "outputs": [],
   "source": [
    "def solution(M, N):\n",
    "    answer = M*N-1\n",
    "    return answer"
   ]
  },
  {
   "attachments": {},
   "cell_type": "markdown",
   "metadata": {},
   "source": [
    "### 문자열 겹쳐쓰기"
   ]
  },
  {
   "cell_type": "code",
   "execution_count": null,
   "metadata": {},
   "outputs": [],
   "source": [
    "def solution(my_string, overwrite_string, s):\n",
    "    answer = my_string[:s] + overwrite_string + my_string[s+len(overwrite_string):]\n",
    "    return answer"
   ]
  },
  {
   "attachments": {},
   "cell_type": "markdown",
   "metadata": {},
   "source": [
    "### 배열 만들기 4"
   ]
  },
  {
   "cell_type": "code",
   "execution_count": null,
   "metadata": {},
   "outputs": [],
   "source": [
    "def solution(arr):\n",
    "    i = 0\n",
    "    stk = []\n",
    "    while i < len(arr):\n",
    "        if len(stk) == 0:\n",
    "            stk.append(arr[i])\n",
    "            i += 1\n",
    "        elif (len(stk) != 0) and (stk[-1] < arr[i]):\n",
    "            stk.append(arr[i])\n",
    "            i += 1\n",
    "        elif (len(stk) != 0) and (stk[-1] >= arr[i]):\n",
    "            stk.pop()\n",
    "    return stk"
   ]
  },
  {
   "attachments": {},
   "cell_type": "markdown",
   "metadata": {},
   "source": [
    "### 두 수의 합"
   ]
  },
  {
   "cell_type": "code",
   "execution_count": null,
   "metadata": {},
   "outputs": [],
   "source": [
    "def solution(a, b):\n",
    "    answer = int(a) + int(b)\n",
    "    return str(answer)"
   ]
  },
  {
   "attachments": {},
   "cell_type": "markdown",
   "metadata": {},
   "source": [
    "### 로그인 성공?"
   ]
  },
  {
   "cell_type": "code",
   "execution_count": null,
   "metadata": {},
   "outputs": [],
   "source": [
    "def solution(id_pw, db):\n",
    "    answer = 'fail'\n",
    "    for i in db:\n",
    "        if i[0] == id_pw[0]:\n",
    "            if i[1] == id_pw[1]:\n",
    "                answer = \"login\"\n",
    "            else :\n",
    "                answer = 'wrong pw'\n",
    "    return answer"
   ]
  },
  {
   "attachments": {},
   "cell_type": "markdown",
   "metadata": {},
   "source": [
    "### 치킨 쿠폰"
   ]
  },
  {
   "cell_type": "code",
   "execution_count": null,
   "metadata": {},
   "outputs": [],
   "source": [
    "def solution(chicken):\n",
    "    answer = 0\n",
    "    coupon = chicken\n",
    "\n",
    "    while coupon >= 10:\n",
    "        eaten = coupon // 10\n",
    "        answer += eaten\n",
    "        coupon = coupon % 10 + eaten\n",
    "    return answer"
   ]
  },
  {
   "cell_type": "code",
   "execution_count": null,
   "metadata": {},
   "outputs": [],
   "source": [
    "def solution(chicken):\n",
    "    answer = int(chicken * 0.11111111)\n",
    "    return answer"
   ]
  },
  {
   "attachments": {},
   "cell_type": "markdown",
   "metadata": {},
   "source": [
    "### 등수 매기기"
   ]
  },
  {
   "cell_type": "code",
   "execution_count": null,
   "metadata": {},
   "outputs": [],
   "source": [
    "def solution(score):\n",
    "    answer = []\n",
    "    li = [(i[0] + i[1])/2 for i in score]\n",
    "    sorted_arr = sorted(li, reverse=True)\n",
    "\n",
    "    for i in li:\n",
    "        answer.append(sorted_arr.index(i)+1)\n",
    "    return answer"
   ]
  },
  {
   "attachments": {},
   "cell_type": "markdown",
   "metadata": {},
   "source": [
    "### 유한소수 판별하기"
   ]
  },
  {
   "cell_type": "code",
   "execution_count": null,
   "metadata": {},
   "outputs": [],
   "source": [
    "import math \n",
    "def solution(a, b):\n",
    "    gcd = math.gcd(a, b)\n",
    "    b = b / gcd\n",
    "\n",
    "    num = []\n",
    "    i = 2\n",
    "    while i <= b:\n",
    "        if b % i == 0:\n",
    "            num.append(i)\n",
    "        else :\n",
    "            i += 1\n",
    "\n",
    "    if all(i in [2,5] for i in num):\n",
    "        answer = 1\n",
    "    else :\n",
    "        answer = 2            \n",
    "    return answer"
   ]
  },
  {
   "attachments": {},
   "cell_type": "markdown",
   "metadata": {},
   "source": [
    "### 대소문자 바꿔서 출력하기"
   ]
  },
  {
   "cell_type": "code",
   "execution_count": null,
   "metadata": {},
   "outputs": [],
   "source": [
    "a = str.maketrans('abcdefghijklmnopqrstuvwxyzABCDEFGHIJKLMNOPQRSTUVWXYZ', 'ABCDEFGHIJKLMNOPQRSTUVWXYZabcdefghijklmnopqrstuvwxyz')\n",
    "str = input()\n",
    "print(str.translate(a))"
   ]
  },
  {
   "attachments": {},
   "cell_type": "markdown",
   "metadata": {},
   "source": [
    "### 정사각형으로 만들기"
   ]
  },
  {
   "cell_type": "code",
   "execution_count": null,
   "metadata": {},
   "outputs": [],
   "source": [
    "def solution(arr):\n",
    "    row = len(arr)\n",
    "    col = len(arr[0])\n",
    "    add = abs(row - col)\n",
    "\n",
    "    if row > col:\n",
    "        for i in arr:\n",
    "            i += [0]*add\n",
    "    else :\n",
    "        for i in range(add):\n",
    "            arr += [[0] * col]\n",
    "    answer = arr\n",
    "    \n",
    "    return answer"
   ]
  },
  {
   "attachments": {},
   "cell_type": "markdown",
   "metadata": {},
   "source": [
    "### 왼쪽 오른쪽"
   ]
  },
  {
   "cell_type": "code",
   "execution_count": null,
   "metadata": {},
   "outputs": [],
   "source": [
    "def solution(str_list):\n",
    "    temp = \"\".join(str_list)\n",
    "    ind_l = temp.find('l')\n",
    "    ind_r = temp.find('r')\n",
    "    \n",
    "    if (ind_l==-1) and (ind_r==-1):\n",
    "        answer = []\n",
    "    elif (ind_l==-1):\n",
    "        answer = str_list[ind_r+1:]\n",
    "    elif  (ind_r==-1):\n",
    "        answer = str_list[:ind_l]\n",
    "    elif (ind_l < ind_r):\n",
    "        answer = str_list[:ind_l]\n",
    "    else :\n",
    "        answer = str_list[ind_r+1:]\n",
    "    return answer"
   ]
  },
  {
   "cell_type": "code",
   "execution_count": null,
   "metadata": {},
   "outputs": [],
   "source": [
    "def solution(str_list):\n",
    "    answer = []\n",
    "    for i in range(len(str_list)):\n",
    "        if str_list[i] == 'l' : \n",
    "            answer = str_list[:i]\n",
    "            break \n",
    "        elif str_list[i] == 'r' :\n",
    "            answer = str_list[i+1:]\n",
    "            break\n",
    "    return answer"
   ]
  },
  {
   "attachments": {},
   "cell_type": "markdown",
   "metadata": {},
   "source": [
    "### 문자열 여러 번 뒤집기"
   ]
  },
  {
   "cell_type": "code",
   "execution_count": null,
   "metadata": {},
   "outputs": [],
   "source": [
    "def solution(my_string, queries):\n",
    "    for i in queries:\n",
    "        my_string = my_string[:i[0]] + my_string[i[0]:i[1]+1][::-1] + my_string[i[1]+1:]\n",
    "    answer = my_string\n",
    "    return answer"
   ]
  },
  {
   "attachments": {},
   "cell_type": "markdown",
   "metadata": {},
   "source": [
    "### 특이한 정렬"
   ]
  },
  {
   "cell_type": "code",
   "execution_count": null,
   "metadata": {},
   "outputs": [],
   "source": [
    "def solution(numlist, n):\n",
    "    temp = [abs(i-n) for i in numlist]\n",
    "\n",
    "    dic ={}\n",
    "    for i in range(len(numlist)):\n",
    "        dic.update({numlist[i]:temp[i]})\n",
    "\n",
    "    answer = [i[0] for i in sorted(dic.items(), key=lambda x:(x[1], -x[0]))]\n",
    "\n",
    "    return answer"
   ]
  },
  {
   "cell_type": "code",
   "execution_count": null,
   "metadata": {},
   "outputs": [],
   "source": [
    "def solution(numlist, n):\n",
    "    answer = sorted(numlist,key = lambda x : (abs(x-n), n-x))\n",
    "    return answer\n"
   ]
  },
  {
   "attachments": {},
   "cell_type": "markdown",
   "metadata": {},
   "source": [
    "### 무작위로 K개의 수 뽑기"
   ]
  },
  {
   "cell_type": "code",
   "execution_count": null,
   "metadata": {},
   "outputs": [],
   "source": [
    "def solution(arr, k):\n",
    "    answer = [-1] * k\n",
    "    \n",
    "    ind = [arr.index(i) for i in [i for i in dict.fromkeys(arr).keys()]]\n",
    "\n",
    "    temp = [arr[i] for i in ind]\n",
    "    \n",
    "    if len(answer)>len(temp):\n",
    "        for i in range(len(temp)):\n",
    "            answer[i] = temp[i]\n",
    "    else :\n",
    "        for i in range(len(answer)):\n",
    "            answer[i] = temp[i]\n",
    "    \n",
    "    return answer"
   ]
  },
  {
   "attachments": {},
   "cell_type": "markdown",
   "metadata": {},
   "source": [
    "### 문자열 밀기"
   ]
  },
  {
   "cell_type": "code",
   "execution_count": null,
   "metadata": {},
   "outputs": [],
   "source": [
    "def solution(A, B):\n",
    "    temp = [A[i:] + A[:i]  for i in range(len(A), 0, -1)]\n",
    "    if B in temp:\n",
    "        answer = temp.index(B)\n",
    "    else:\n",
    "        answer = -1\n",
    "    return answer"
   ]
  },
  {
   "cell_type": "code",
   "execution_count": null,
   "metadata": {},
   "outputs": [],
   "source": [
    "def solution(A, B):\n",
    "    answer = (B*2).find(A)\n",
    "    return answer"
   ]
  },
  {
   "attachments": {},
   "cell_type": "markdown",
   "metadata": {},
   "source": [
    "### 그림 확대"
   ]
  },
  {
   "cell_type": "code",
   "execution_count": null,
   "metadata": {},
   "outputs": [],
   "source": [
    "def solution(picture, k):\n",
    "    answer = []\n",
    "    for i in range(len(picture)):\n",
    "        temp = ''\n",
    "        for j in range(len(picture[i])):\n",
    "            temp += picture[i][j]*k\n",
    "\n",
    "        answer.append([temp] * k)\n",
    "\n",
    "    answer = sum(answer, [])\n",
    "    return answer"
   ]
  },
  {
   "attachments": {},
   "cell_type": "markdown",
   "metadata": {},
   "source": [
    "### 배열 만들기 6"
   ]
  },
  {
   "cell_type": "code",
   "execution_count": null,
   "metadata": {},
   "outputs": [],
   "source": [
    "def solution(arr):\n",
    "    answer = [arr[0]]\n",
    "\n",
    "    for i in range(1, len(arr)):\n",
    "        if answer and (answer[-1] == arr[i]):\n",
    "            answer.pop()\n",
    "        else :\n",
    "            answer.append(arr[i])\n",
    "    \n",
    "    if len(answer) == 0:\n",
    "        answer = [-1]\n",
    "    \n",
    "    return answer"
   ]
  },
  {
   "attachments": {},
   "cell_type": "markdown",
   "metadata": {},
   "source": [
    "### 다항식 더하기"
   ]
  },
  {
   "cell_type": "code",
   "execution_count": null,
   "metadata": {},
   "outputs": [],
   "source": [
    "def solution(polynomial):\n",
    "    temp, rest = [], []\n",
    "\n",
    "    for i in polynomial.split():\n",
    "        if 'x' in i:\n",
    "            temp.append(i)\n",
    "        elif '+' not in i  :\n",
    "            rest.append(i)\n",
    "\n",
    "    if temp != []:\n",
    "        temp = [1 if i=='x' else int(i[:-1]) for i in temp ]\n",
    "        temp = str(sum(temp))\n",
    "    if temp == '1':\n",
    "        temp = 'x'\n",
    "    elif temp == []:\n",
    "        temp = None\n",
    "    else :\n",
    "        temp = temp + 'x'\n",
    "\n",
    "    rest = str(sum([int(i) for i in rest]))\n",
    "    if (temp != None) and (rest != '0'): \n",
    "        answer = temp + ' + ' + rest\n",
    "    elif temp == None:\n",
    "        answer = rest\n",
    "    else :\n",
    "        answer = temp\n",
    "\n",
    "    \n",
    "    return answer"
   ]
  },
  {
   "attachments": {},
   "cell_type": "markdown",
   "metadata": {},
   "source": [
    "### 전국 대회 선발 고사"
   ]
  },
  {
   "cell_type": "code",
   "execution_count": null,
   "metadata": {},
   "outputs": [],
   "source": [
    "def solution(rank, attendance):\n",
    "    temp = [rank[i] for i in range(len(rank)) if attendance[i]]\n",
    "    temp = [rank.index(i) for i in sorted(temp)[:3]]\n",
    "    answer = 10000 * temp[0] + 100 * temp[1] + temp[2]\n",
    "    return answer"
   ]
  },
  {
   "attachments": {},
   "cell_type": "markdown",
   "metadata": {},
   "source": [
    "### 배열 만들기 2"
   ]
  },
  {
   "cell_type": "code",
   "execution_count": null,
   "metadata": {},
   "outputs": [],
   "source": [
    "def solution(l, r):\n",
    "    list_5 = [i for i in range(l, r+1) if i % 5 == 0]\n",
    "\n",
    "    answer = []\n",
    "    for i in list_5:\n",
    "        temp = []\n",
    "        for j in str(i):\n",
    "            if j not in ['0', '5']:\n",
    "                temp.append(False)\n",
    "            else :\n",
    "                temp.append(True)\n",
    "        if all(temp):\n",
    "            answer.append(i)\n",
    "    if answer == [] : \n",
    "        answer = [-1]\n",
    "    return answer"
   ]
  },
  {
   "attachments": {},
   "cell_type": "markdown",
   "metadata": {},
   "source": [
    "### 최빈값 구하기"
   ]
  },
  {
   "cell_type": "code",
   "execution_count": null,
   "metadata": {},
   "outputs": [],
   "source": [
    "def solution(array):\n",
    "    if len(array)==1:\n",
    "        answer = array[0]\n",
    "    elif len(array) >= 2:\n",
    "        if len(set(array)) ==1 :\n",
    "            answer = array[0]\n",
    "        else :\n",
    "            from collections import Counter\n",
    "            dic = dict(Counter(array))\n",
    "            dic = sorted(dic.items(), key=lambda x:x[1], reverse=True)\n",
    "            if dic[0][1] != dic[1][1]:\n",
    "                answer = dic[0][0]\n",
    "            else :\n",
    "                answer = -1\n",
    "    return answer"
   ]
  },
  {
   "attachments": {},
   "cell_type": "markdown",
   "metadata": {},
   "source": [
    "### 문자열 출력하기"
   ]
  },
  {
   "cell_type": "code",
   "execution_count": null,
   "metadata": {},
   "outputs": [],
   "source": [
    "str = input()\n",
    "print(str)"
   ]
  },
  {
   "attachments": {},
   "cell_type": "markdown",
   "metadata": {},
   "source": [
    "### 코드 처리하기"
   ]
  },
  {
   "cell_type": "code",
   "execution_count": 1028,
   "metadata": {},
   "outputs": [],
   "source": [
    "def solution(code):\n",
    "    answer = ''\n",
    "    mode = 0\n",
    "    for i in range(len(code)):\n",
    "        if mode == 0:\n",
    "            if code[i] != '1':\n",
    "                if i % 2 == 0:\n",
    "                    answer += code[i]\n",
    "            elif code[i] == '1':\n",
    "                mode = 1\n",
    "        else :\n",
    "            if code[i] != '1':\n",
    "                if i % 2 == 1:\n",
    "                    answer += code[i]\n",
    "            elif code[i] == '1':\n",
    "                mode = 0\n",
    "    if len(answer) == 0:\n",
    "        answer = 'EMPTY'\n",
    "    return answer"
   ]
  },
  {
   "attachments": {},
   "cell_type": "markdown",
   "metadata": {},
   "source": [
    "### 분수의 덧셈"
   ]
  },
  {
   "cell_type": "code",
   "execution_count": 13,
   "metadata": {},
   "outputs": [],
   "source": [
    "import math\n",
    "\n",
    "def solution(numer1, denom1, numer2, denom2):\n",
    "    for i in range(max(denom1, denom2), denom1*denom2+1):\n",
    "        if (denom1 % i == 0) and (denom2 % i == 0):\n",
    "            break\n",
    "    \n",
    "    num = i\n",
    "    mul1, mul2 = num // denom1, num // denom2\n",
    "    numer1,\tdenom1,\tnumer2,\tdenom2 = numer1 * mul1, denom1 * mul1, numer2 * mul2, denom2 *mul2\n",
    "    gcd = math.gcd((numer1 + numer2),denom1)\n",
    "    answer = [(numer1 + numer2)/gcd, denom1/gcd]\n",
    "    return answer"
   ]
  },
  {
   "attachments": {},
   "cell_type": "markdown",
   "metadata": {},
   "source": [
    "### 다음에 올 숫자"
   ]
  },
  {
   "cell_type": "code",
   "execution_count": 19,
   "metadata": {},
   "outputs": [],
   "source": [
    "def solution(common):\n",
    "    gap_list = []\n",
    "    for i in range(1, len(common)):\n",
    "        gap = common[i] - common[i-1]\n",
    "        gap_list.append(gap)\n",
    "\n",
    "    if len(set(gap_list)) == 1:\n",
    "        answer = common[-1] + gap_list[0]\n",
    "    else :\n",
    "        answer = common[-1] * (gap_list[1] / gap_list[0])\n",
    "\n",
    "    return answer"
   ]
  },
  {
   "attachments": {},
   "cell_type": "markdown",
   "metadata": {},
   "source": [
    "### 연속된 수의 합"
   ]
  },
  {
   "cell_type": "code",
   "execution_count": null,
   "metadata": {},
   "outputs": [],
   "source": []
  }
 ],
 "metadata": {
  "kernelspec": {
   "display_name": "base",
   "language": "python",
   "name": "python3"
  },
  "language_info": {
   "codemirror_mode": {
    "name": "ipython",
    "version": 3
   },
   "file_extension": ".py",
   "mimetype": "text/x-python",
   "name": "python",
   "nbconvert_exporter": "python",
   "pygments_lexer": "ipython3",
   "version": "3.9.7"
  },
  "orig_nbformat": 4
 },
 "nbformat": 4,
 "nbformat_minor": 2
}
