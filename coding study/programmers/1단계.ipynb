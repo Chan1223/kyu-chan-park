{
 "cells": [
  {
   "attachments": {},
   "cell_type": "markdown",
   "metadata": {},
   "source": [
    "### 나머지가 1이 되는 수 찾기"
   ]
  },
  {
   "cell_type": "code",
   "execution_count": 2,
   "metadata": {},
   "outputs": [],
   "source": [
    "def solution(n):\n",
    "    for i in range(1, n):\n",
    "        if n % i == 1:\n",
    "            break\n",
    "    answer = i\n",
    "    return answer"
   ]
  },
  {
   "attachments": {},
   "cell_type": "markdown",
   "metadata": {},
   "source": [
    "### 약수의 합"
   ]
  },
  {
   "cell_type": "code",
   "execution_count": 3,
   "metadata": {},
   "outputs": [],
   "source": [
    "# 내 코드\n",
    "def solution(n):\n",
    "    answer = sum([i for i in range(1, n+1 ) if n % i == 0])\n",
    "    return answer"
   ]
  },
  {
   "cell_type": "code",
   "execution_count": 4,
   "metadata": {},
   "outputs": [],
   "source": [
    "# 절반만 검사한 다음 n을 더해주면 연산이 더 빠름\n",
    "def solution(n):\n",
    "    answer = n + sum([i for i in range(1, n//2 +1 ) if n % i == 0])\n",
    "    return answer"
   ]
  },
  {
   "attachments": {},
   "cell_type": "markdown",
   "metadata": {},
   "source": [
    "### 평균 구하기"
   ]
  },
  {
   "cell_type": "code",
   "execution_count": 5,
   "metadata": {},
   "outputs": [],
   "source": [
    "def solution(arr):\n",
    "    answer = sum(arr)/len(arr)\n",
    "    return answer"
   ]
  },
  {
   "attachments": {},
   "cell_type": "markdown",
   "metadata": {},
   "source": [
    "### 짝수와 홀수"
   ]
  },
  {
   "cell_type": "code",
   "execution_count": 6,
   "metadata": {},
   "outputs": [],
   "source": [
    "def solution(num):\n",
    "    if num % 2 == 1:\n",
    "        answer = 'Odd'\n",
    "    else :\n",
    "        answer = 'Even'\n",
    "    return answer"
   ]
  },
  {
   "attachments": {},
   "cell_type": "markdown",
   "metadata": {},
   "source": [
    "### 자릿수 더하기"
   ]
  },
  {
   "cell_type": "code",
   "execution_count": 7,
   "metadata": {},
   "outputs": [],
   "source": [
    "def solution(n):\n",
    "    answer = sum([int(i) for i in str(n)])\n",
    "    return answer"
   ]
  },
  {
   "attachments": {},
   "cell_type": "markdown",
   "metadata": {},
   "source": [
    "### x만큼 간격이 있는 n개의 숫자"
   ]
  },
  {
   "cell_type": "code",
   "execution_count": 8,
   "metadata": {},
   "outputs": [],
   "source": [
    "def solution(x, n):\n",
    "    answer = [] \n",
    "    a = x\n",
    "    for i in range(n):\n",
    "        answer.append(a)\n",
    "        a += x\n",
    "    return answer"
   ]
  },
  {
   "cell_type": "code",
   "execution_count": 9,
   "metadata": {},
   "outputs": [],
   "source": [
    "def solution(x, n):\n",
    "    answer = [x + x * i for i in range(n)]\n",
    "    return answer"
   ]
  },
  {
   "attachments": {},
   "cell_type": "markdown",
   "metadata": {},
   "source": [
    "### 자연수 뒤집어 배열로 만들기"
   ]
  },
  {
   "cell_type": "code",
   "execution_count": 10,
   "metadata": {},
   "outputs": [],
   "source": [
    "def solution(n):\n",
    "    answer = [int(i) for i in str(n)][::-1]\n",
    "    return answer"
   ]
  },
  {
   "cell_type": "code",
   "execution_count": 11,
   "metadata": {},
   "outputs": [],
   "source": [
    "def solution(n):\n",
    "    answer =  list(map(int, reversed(str(n))))\n",
    "    return answer"
   ]
  },
  {
   "attachments": {},
   "cell_type": "markdown",
   "metadata": {},
   "source": [
    "### 문자열 내 p와 y의 개수"
   ]
  },
  {
   "cell_type": "code",
   "execution_count": 12,
   "metadata": {},
   "outputs": [],
   "source": [
    "def solution(s):\n",
    "    s = s.lower()\n",
    "    if s.count('p') == s.count('y'):\n",
    "        answer = True\n",
    "    else :\n",
    "        answer = False\n",
    "    return answer"
   ]
  },
  {
   "attachments": {},
   "cell_type": "markdown",
   "metadata": {},
   "source": [
    "### 정수 제곱근 판별"
   ]
  },
  {
   "cell_type": "code",
   "execution_count": 13,
   "metadata": {},
   "outputs": [],
   "source": [
    "def solution(n):\n",
    "    num = n ** 0.5\n",
    "    if int(num) == num:\n",
    "        answer = (num+1) ** 2 \n",
    "    else :\n",
    "        answer = -1\n",
    "    return answer"
   ]
  },
  {
   "attachments": {},
   "cell_type": "markdown",
   "metadata": {},
   "source": [
    "### 문자열을 정수로 바꾸기"
   ]
  },
  {
   "cell_type": "code",
   "execution_count": 14,
   "metadata": {},
   "outputs": [],
   "source": [
    "def solution(s):\n",
    "    answer = int(s)\n",
    "    return answer"
   ]
  },
  {
   "attachments": {},
   "cell_type": "markdown",
   "metadata": {},
   "source": [
    "### 정수 내림차순으로 배치하기"
   ]
  },
  {
   "cell_type": "code",
   "execution_count": 15,
   "metadata": {},
   "outputs": [],
   "source": [
    "def solution(n):\n",
    "    answer = int(\"\".join(sorted(str(n), reverse=True)))\n",
    "    return answer"
   ]
  },
  {
   "attachments": {},
   "cell_type": "markdown",
   "metadata": {},
   "source": [
    "### 하샤드 수"
   ]
  },
  {
   "cell_type": "code",
   "execution_count": 16,
   "metadata": {},
   "outputs": [],
   "source": [
    "def solution(x):\n",
    "    num = 0\n",
    "    for i in str(x):\n",
    "        num += int(i)\n",
    "\n",
    "    if x % num == 0:\n",
    "        answer=True\n",
    "    else :\n",
    "        answer = False\n",
    "    return answer"
   ]
  },
  {
   "attachments": {},
   "cell_type": "markdown",
   "metadata": {},
   "source": [
    "### 두 정수 사이의 합"
   ]
  },
  {
   "cell_type": "code",
   "execution_count": 17,
   "metadata": {},
   "outputs": [],
   "source": [
    "def solution(a, b):\n",
    "    answer=0 \n",
    "    if b >= a:\n",
    "        answer = sum([i for i in range(a, b+1)])\n",
    "    else:\n",
    "        answer = sum([i for i in range(b, a+1)])\n",
    "    return answer"
   ]
  },
  {
   "cell_type": "code",
   "execution_count": 18,
   "metadata": {},
   "outputs": [],
   "source": [
    "def solution(a, b):\n",
    "    answer = (abs(a-b)+1)*(a+b)//2\n",
    "    return answer"
   ]
  },
  {
   "attachments": {},
   "cell_type": "markdown",
   "metadata": {},
   "source": [
    "### 콜라츠 추측"
   ]
  },
  {
   "cell_type": "code",
   "execution_count": 19,
   "metadata": {},
   "outputs": [],
   "source": [
    "def solution(num):\n",
    "    answer = 0\n",
    "    \n",
    "    while num != 1:\n",
    "        if num % 2 == 0:\n",
    "            num //= 2\n",
    "        else :\n",
    "            num = num * 3 + 1 \n",
    "        answer += 1\n",
    "        \n",
    "        if answer == 500:\n",
    "            answer = -1\n",
    "            break\n",
    "    return answer"
   ]
  },
  {
   "attachments": {},
   "cell_type": "markdown",
   "metadata": {},
   "source": [
    "### 서울에서 김서방 찾기"
   ]
  },
  {
   "cell_type": "code",
   "execution_count": 20,
   "metadata": {},
   "outputs": [],
   "source": [
    "def solution(seoul):\n",
    "    answer = f\"김서방은 {seoul.index('Kim')}에 있다\"\n",
    "    return answer"
   ]
  },
  {
   "attachments": {},
   "cell_type": "markdown",
   "metadata": {},
   "source": [
    "### 나누어 떨어지는 숫자 배열"
   ]
  },
  {
   "cell_type": "code",
   "execution_count": 21,
   "metadata": {},
   "outputs": [],
   "source": [
    "def solution(arr, divisor):\n",
    "    answer = sorted([i for i in arr if i % divisor == 0 ])\n",
    "    if len(answer) == 0:\n",
    "        answer = [-1]\n",
    "    return answer"
   ]
  },
  {
   "attachments": {},
   "cell_type": "markdown",
   "metadata": {},
   "source": [
    "### 핸드폰 번호 가리기"
   ]
  },
  {
   "cell_type": "code",
   "execution_count": 22,
   "metadata": {},
   "outputs": [],
   "source": [
    "def solution(phone_number):\n",
    "    answer = '*'*len(phone_number[:-4])+ phone_number[-4:]\n",
    "    return answer"
   ]
  },
  {
   "attachments": {},
   "cell_type": "markdown",
   "metadata": {},
   "source": [
    "### 음양 더하기"
   ]
  },
  {
   "cell_type": "code",
   "execution_count": 23,
   "metadata": {},
   "outputs": [],
   "source": [
    "def solution(absolutes, signs):\n",
    "    temp = []\n",
    "    for i in range(len(absolutes)):\n",
    "        if signs[i]==0:\n",
    "            temp.append(-absolutes[i])\n",
    "        else :\n",
    "            temp.append(absolutes[i])\n",
    "    answer = sum(temp)\n",
    "    return answer"
   ]
  },
  {
   "cell_type": "code",
   "execution_count": 24,
   "metadata": {},
   "outputs": [
    {
     "ename": "NameError",
     "evalue": "name 'absolutes' is not defined",
     "output_type": "error",
     "traceback": [
      "\u001b[0;31m---------------------------------------------------------------------------\u001b[0m",
      "\u001b[0;31mNameError\u001b[0m                                 Traceback (most recent call last)",
      "\u001b[0;32m/var/folders/42/6b83dcy962qg0qxnnz4ck_8c0000gn/T/ipykernel_7180/3905206756.py\u001b[0m in \u001b[0;36m<module>\u001b[0;34m\u001b[0m\n\u001b[1;32m      1\u001b[0m \u001b[0mtemp\u001b[0m \u001b[0;34m=\u001b[0m \u001b[0;34m[\u001b[0m\u001b[0;34m]\u001b[0m\u001b[0;34m\u001b[0m\u001b[0;34m\u001b[0m\u001b[0m\n\u001b[0;32m----> 2\u001b[0;31m \u001b[0;32mfor\u001b[0m \u001b[0mi\u001b[0m \u001b[0;32min\u001b[0m \u001b[0mrange\u001b[0m\u001b[0;34m(\u001b[0m\u001b[0mlen\u001b[0m\u001b[0;34m(\u001b[0m\u001b[0mabsolutes\u001b[0m\u001b[0;34m)\u001b[0m\u001b[0;34m)\u001b[0m\u001b[0;34m:\u001b[0m\u001b[0;34m\u001b[0m\u001b[0;34m\u001b[0m\u001b[0m\n\u001b[0m\u001b[1;32m      3\u001b[0m     \u001b[0;32mif\u001b[0m \u001b[0msigns\u001b[0m\u001b[0;34m[\u001b[0m\u001b[0mi\u001b[0m\u001b[0;34m]\u001b[0m\u001b[0;34m==\u001b[0m\u001b[0;36m0\u001b[0m\u001b[0;34m:\u001b[0m\u001b[0;34m\u001b[0m\u001b[0;34m\u001b[0m\u001b[0m\n\u001b[1;32m      4\u001b[0m         \u001b[0mtemp\u001b[0m\u001b[0;34m.\u001b[0m\u001b[0mappend\u001b[0m\u001b[0;34m(\u001b[0m\u001b[0;34m-\u001b[0m\u001b[0mabsolutes\u001b[0m\u001b[0;34m[\u001b[0m\u001b[0mi\u001b[0m\u001b[0;34m]\u001b[0m\u001b[0;34m)\u001b[0m\u001b[0;34m\u001b[0m\u001b[0;34m\u001b[0m\u001b[0m\n\u001b[1;32m      5\u001b[0m     \u001b[0;32melse\u001b[0m \u001b[0;34m:\u001b[0m\u001b[0;34m\u001b[0m\u001b[0;34m\u001b[0m\u001b[0m\n",
      "\u001b[0;31mNameError\u001b[0m: name 'absolutes' is not defined"
     ]
    }
   ],
   "source": [
    "temp = []\n",
    "for i in range(len(absolutes)):\n",
    "    if signs[i]==0:\n",
    "        temp.append(-absolutes[i])\n",
    "    else :\n",
    "        temp.append(absolutes[i])\n",
    "sum(temp)"
   ]
  },
  {
   "cell_type": "code",
   "execution_count": null,
   "metadata": {},
   "outputs": [],
   "source": [
    "def solution(absolutes, signs):\n",
    "    answer = sum([absolutes if signs else -absolutes for absolutes, signs in zip(absolutes,signs)])\n",
    "    return answer"
   ]
  },
  {
   "attachments": {},
   "cell_type": "markdown",
   "metadata": {},
   "source": [
    "### 없는 숫자 더하기"
   ]
  },
  {
   "cell_type": "code",
   "execution_count": null,
   "metadata": {},
   "outputs": [],
   "source": [
    "def solution(numbers):\n",
    "    answer = sum([i for i in range(0, 10) if i not in numbers])\n",
    "    return answer"
   ]
  },
  {
   "cell_type": "code",
   "execution_count": null,
   "metadata": {},
   "outputs": [],
   "source": [
    "def solution(numbers):\n",
    "    answer = 45 - sum(numbers)\n",
    "    return answer"
   ]
  },
  {
   "attachments": {},
   "cell_type": "markdown",
   "metadata": {},
   "source": [
    "### 제일 작은 수 제거하기"
   ]
  },
  {
   "cell_type": "code",
   "execution_count": null,
   "metadata": {},
   "outputs": [],
   "source": [
    "def solution(arr):\n",
    "    if len(arr)== 1 :\n",
    "        answer = [-1]\n",
    "    else :\n",
    "        arr.remove(min(arr))\n",
    "        answer = arr\n",
    "    return answer"
   ]
  },
  {
   "attachments": {},
   "cell_type": "markdown",
   "metadata": {},
   "source": [
    "### 가운데 글자 가져오기"
   ]
  },
  {
   "cell_type": "code",
   "execution_count": null,
   "metadata": {},
   "outputs": [],
   "source": [
    "def solution(s):\n",
    "    center = len(s)//2\n",
    "    if len(s) % 2 == 0:\n",
    "        answer = s[center-1 : center+1]\n",
    "    else : \n",
    "        answer = s[center]    \n",
    "    return answer"
   ]
  },
  {
   "cell_type": "code",
   "execution_count": null,
   "metadata": {},
   "outputs": [],
   "source": [
    "def solution(s):\n",
    "    answer = s[(len(s)-1)//2 : len(s)//2+1]   \n",
    "    return answer"
   ]
  },
  {
   "attachments": {},
   "cell_type": "markdown",
   "metadata": {},
   "source": [
    "### 수박수박수박수박수박수?"
   ]
  },
  {
   "cell_type": "code",
   "execution_count": null,
   "metadata": {},
   "outputs": [],
   "source": [
    "# 연산속도 더 빠름\n",
    "def solution(n):\n",
    "    answer = '수박'*n\n",
    "    answer = answer[:n]\n",
    "    return answer"
   ]
  },
  {
   "cell_type": "code",
   "execution_count": null,
   "metadata": {},
   "outputs": [],
   "source": [
    "def solution(n):\n",
    "    answer= ''\n",
    "    for i in range(n):\n",
    "        if i % 2 == 0 :\n",
    "            answer += '수'\n",
    "        else :\n",
    "            answer += '박'\n",
    "    return answer"
   ]
  },
  {
   "attachments": {},
   "cell_type": "markdown",
   "metadata": {},
   "source": [
    "### 내적"
   ]
  },
  {
   "cell_type": "code",
   "execution_count": null,
   "metadata": {},
   "outputs": [],
   "source": [
    "import numpy as np\n",
    "def solution(a, b):\n",
    "    answer = np.dot(a, b)\n",
    "    return int(answer)"
   ]
  },
  {
   "cell_type": "code",
   "execution_count": null,
   "metadata": {},
   "outputs": [],
   "source": [
    "def solution(a, b):\n",
    "    answer = sum([a*b for a, b in zip(a, b)])\n",
    "    return int(answer)"
   ]
  },
  {
   "attachments": {},
   "cell_type": "markdown",
   "metadata": {},
   "source": [
    "### 약수의 개수와 덧셈"
   ]
  },
  {
   "cell_type": "code",
   "execution_count": null,
   "metadata": {},
   "outputs": [],
   "source": [
    "def solution(left, right):\n",
    "    answer = 0\n",
    "    for i in range(left, right+1): \n",
    "        temp = [] \n",
    "        for j in range(1, i+1):\n",
    "            if i % j == 0:\n",
    "                temp.append(j)\n",
    "        if len(temp) % 2 == 0 :\n",
    "            answer += i\n",
    "        else:\n",
    "            answer -= i\n",
    "    return answer"
   ]
  },
  {
   "cell_type": "code",
   "execution_count": null,
   "metadata": {},
   "outputs": [],
   "source": [
    "def solution(left, right):\n",
    "    answer = 0\n",
    "    for i in range(left,right+1):\n",
    "        if int(i**0.5)==i**0.5:\n",
    "            answer -= i\n",
    "        else:\n",
    "            answer += i\n",
    "    return answer"
   ]
  },
  {
   "attachments": {},
   "cell_type": "markdown",
   "metadata": {},
   "source": [
    "### 문자열 내림차순으로 배치하기"
   ]
  },
  {
   "cell_type": "code",
   "execution_count": null,
   "metadata": {},
   "outputs": [],
   "source": [
    "def solution(s):\n",
    "    answer = ''.join(sorted(s, reverse=True))\n",
    "    return answer"
   ]
  },
  {
   "attachments": {},
   "cell_type": "markdown",
   "metadata": {},
   "source": [
    "#### 부족한 금액 계산하기"
   ]
  },
  {
   "cell_type": "code",
   "execution_count": null,
   "metadata": {},
   "outputs": [],
   "source": [
    "def solution(price, money, count):\n",
    "    answer = sum([price + i*price for i in range(count)]) - money\n",
    "    if answer < 0:\n",
    "        answer = 0\n",
    "    return answer"
   ]
  },
  {
   "cell_type": "code",
   "execution_count": null,
   "metadata": {},
   "outputs": [],
   "source": [
    "def solution(price, money, count):\n",
    "    answer =  max(0, (price * count * (count+1))//2 - money)\n",
    "    return answer"
   ]
  },
  {
   "attachments": {},
   "cell_type": "markdown",
   "metadata": {},
   "source": [
    "### 문자열 다루기 기본"
   ]
  },
  {
   "cell_type": "code",
   "execution_count": null,
   "metadata": {},
   "outputs": [],
   "source": [
    "def solution(s):\n",
    "    if (len(s)==4) or len(s)==6:\n",
    "        answer = s.isdigit()\n",
    "    else :\n",
    "        answer = False\n",
    "    return answer"
   ]
  },
  {
   "attachments": {},
   "cell_type": "markdown",
   "metadata": {},
   "source": [
    "### 행렬의 덧셈"
   ]
  },
  {
   "cell_type": "code",
   "execution_count": null,
   "metadata": {},
   "outputs": [],
   "source": [
    "def solution(arr1, arr2):\n",
    "    answer = [] \n",
    "    for a, b  in zip(arr1, arr2):\n",
    "        temp = [] \n",
    "        for j in range(len(a)):\n",
    "            temp+=[a[j]+b[j]]\n",
    "        answer.append(temp)\n",
    "    return answer"
   ]
  },
  {
   "cell_type": "code",
   "execution_count": null,
   "metadata": {},
   "outputs": [],
   "source": [
    "import numpy as np\n",
    "\n",
    "def solution(arr1, arr2):\n",
    "    answer = (np.array(arr1) + np.array(arr2)).tolist()\n",
    "    return answer"
   ]
  },
  {
   "attachments": {},
   "cell_type": "markdown",
   "metadata": {},
   "source": [
    "### 직사각형 별찍기"
   ]
  },
  {
   "cell_type": "code",
   "execution_count": null,
   "metadata": {},
   "outputs": [],
   "source": [
    "a, b = map(int, input().strip().split(' '))\n",
    "for i in range(b):\n",
    "    print(\"*\"*a)"
   ]
  },
  {
   "cell_type": "code",
   "execution_count": null,
   "metadata": {},
   "outputs": [],
   "source": [
    "a, b = map(int, input().strip().split(' '))\n",
    "answer = (\"*\"*a + \"\\n\")*b\n",
    "print(answer)"
   ]
  },
  {
   "attachments": {},
   "cell_type": "markdown",
   "metadata": {},
   "source": [
    "### 최대공약수와 최소공배수"
   ]
  },
  {
   "cell_type": "code",
   "execution_count": null,
   "metadata": {},
   "outputs": [],
   "source": [
    "def solution(n, m):\n",
    "    gcd = 1\n",
    "    for i in range(2, n+1):\n",
    "        if (n % i  == 0) and (m % i == 0):\n",
    "            gcd = i\n",
    "\n",
    "    lcm = 1\n",
    "    for i in range(n, n * m +1):\n",
    "        if (i % n == 0 ) and (i % m == 0):\n",
    "            lcm = i\n",
    "            break\n",
    "    answer = [gcd, lcm]\n",
    "    return answer"
   ]
  },
  {
   "attachments": {},
   "cell_type": "markdown",
   "metadata": {},
   "source": [
    "### 같은 숫자는 싫어"
   ]
  },
  {
   "cell_type": "code",
   "execution_count": null,
   "metadata": {},
   "outputs": [],
   "source": [
    "def solution(arr):\n",
    "    answer = [arr[0]]\n",
    "    for i in arr:\n",
    "        if i == answer[-1]:\n",
    "            pass\n",
    "        else :\n",
    "            answer.append(i)    \n",
    "    return answer"
   ]
  },
  {
   "attachments": {},
   "cell_type": "markdown",
   "metadata": {},
   "source": [
    "### 3진법 뒤집기"
   ]
  },
  {
   "cell_type": "code",
   "execution_count": null,
   "metadata": {},
   "outputs": [],
   "source": [
    "def solution(n):\n",
    "    temp = ''\n",
    "    while n > 0 :\n",
    "        n, mod = divmod(n, 3)\n",
    "        temp += str(mod)\n",
    "    answer = int(temp, 3)    \n",
    "    return answer"
   ]
  },
  {
   "attachments": {},
   "cell_type": "markdown",
   "metadata": {},
   "source": [
    "### 이상한 문자 만들기"
   ]
  },
  {
   "cell_type": "code",
   "execution_count": null,
   "metadata": {},
   "outputs": [],
   "source": [
    "def solution(s):\n",
    "    answer = ''\n",
    "    count = 0\n",
    "    for i in s:\n",
    "        if i.isalpha():\n",
    "            if count % 2 == 0:\n",
    "                answer += i.upper()\n",
    "            else :\n",
    "                answer += i.lower()\n",
    "            count += 1 \n",
    "        else :\n",
    "            answer += i\n",
    "            count = 0\n",
    "    return answer"
   ]
  },
  {
   "attachments": {},
   "cell_type": "markdown",
   "metadata": {},
   "source": [
    "### 예산"
   ]
  },
  {
   "cell_type": "code",
   "execution_count": null,
   "metadata": {},
   "outputs": [],
   "source": [
    "def solution(d, budget):\n",
    "    d = sorted(d)\n",
    "\n",
    "    temp = 0\n",
    "    answer = 0 \n",
    "\n",
    "    for i in d:\n",
    "        if temp < budget:\n",
    "            temp += i\n",
    "            if temp > budget:\n",
    "                break\n",
    "            answer += 1\n",
    "    return answer"
   ]
  },
  {
   "cell_type": "code",
   "execution_count": null,
   "metadata": {},
   "outputs": [],
   "source": [
    "def solution(d, budget):\n",
    "    answer = 0\n",
    "    d = sorted(d)\n",
    "\n",
    "    for i in d:\n",
    "        budget -= i\n",
    "        if budget < 0 :\n",
    "            break\n",
    "        answer += 1 \n",
    "    return answer"
   ]
  },
  {
   "attachments": {},
   "cell_type": "markdown",
   "metadata": {},
   "source": [
    "### 삼총사"
   ]
  },
  {
   "cell_type": "code",
   "execution_count": null,
   "metadata": {},
   "outputs": [],
   "source": [
    "from itertools import combinations\n",
    "def solution(number):\n",
    "    answer = 0\n",
    "    for i in combinations(number, 3):\n",
    "        if sum(i) == 0:\n",
    "            answer += 1\n",
    "    return answer"
   ]
  },
  {
   "cell_type": "code",
   "execution_count": null,
   "metadata": {},
   "outputs": [],
   "source": [
    "def solution(number):\n",
    "    answer = 0\n",
    "    for a in range(len(number)-2):\n",
    "        for b in range(a+1,len(number)-1):\n",
    "            for c in range(b+1,len(number)):\n",
    "                if number[a]+number[b]+number[c] == 0:\n",
    "                    answer += 1\n",
    "    return answer"
   ]
  },
  {
   "attachments": {},
   "cell_type": "markdown",
   "metadata": {},
   "source": [
    "### 시저 암호"
   ]
  },
  {
   "cell_type": "code",
   "execution_count": null,
   "metadata": {},
   "outputs": [],
   "source": [
    "def solution(s, n):\n",
    "    s = list(s)\n",
    "    for i in range(len(s)):\n",
    "        if s[i].isupper():\n",
    "            s[i] = chr((ord(s[i]) - ord('A') + n) % 26 + ord('A'))\n",
    "        elif s[i].islower() :\n",
    "            s[i] = chr((ord(s[i]) - ord('a') + n) % 26 + ord('a'))\n",
    "\n",
    "    answer = ''.join(s)\n",
    "    return answer"
   ]
  },
  {
   "attachments": {},
   "cell_type": "markdown",
   "metadata": {},
   "source": [
    "### 최소 직사각형"
   ]
  },
  {
   "cell_type": "code",
   "execution_count": null,
   "metadata": {},
   "outputs": [],
   "source": [
    "def solution(sizes):\n",
    "    max_list = []\n",
    "    min_list = []\n",
    "    for i in sizes:\n",
    "        max_list.append(max(i))\n",
    "        min_list.append(min(i))\n",
    "    answer = max(max_list) * max(min_list)\n",
    "    return answer"
   ]
  },
  {
   "cell_type": "code",
   "execution_count": null,
   "metadata": {},
   "outputs": [],
   "source": [
    "def solution(sizes):\n",
    "    answer = max(max(x) for x in sizes) * max(min(x) for x in sizes)\n",
    "    return answer"
   ]
  },
  {
   "attachments": {},
   "cell_type": "markdown",
   "metadata": {},
   "source": [
    "### 크기가 작은 부분문자열"
   ]
  },
  {
   "cell_type": "code",
   "execution_count": null,
   "metadata": {},
   "outputs": [],
   "source": [
    "def solution(t, p):\n",
    "    answer = 0 \n",
    "    for i in range(len(t)+1-len(p)):\n",
    "        if int(t[i:i+len(p)]) <= int(p):\n",
    "            answer += 1\n",
    "    return answer"
   ]
  },
  {
   "attachments": {},
   "cell_type": "markdown",
   "metadata": {},
   "source": [
    "### 비밀지도"
   ]
  },
  {
   "cell_type": "code",
   "execution_count": null,
   "metadata": {},
   "outputs": [],
   "source": [
    "n = 5 \n",
    "arr1 = [9, 20, 28, 18, 11]\n",
    "arr2 = [30, 1, 21, 17, 28]\n",
    "# 출력 : [\"#####\",\"# # #\", \"### #\", \"# ##\", \"#####\"]ㅠ"
   ]
  },
  {
   "cell_type": "code",
   "execution_count": null,
   "metadata": {},
   "outputs": [],
   "source": [
    "def solution(n, arr1, arr2):\n",
    "    arr1 = [list('0' * (n - len(bin(i)[2:])) + str(bin(i)[2:])) for i in arr1]\n",
    "    arr2 = ['0' * (n - len(bin(i)[2:])) + str(bin(i)[2:]) for i in arr2]\n",
    "    \n",
    "    for i in range(n):\n",
    "        for j in range(n):\n",
    "            if arr2[i][j] == '1':\n",
    "                arr1[i][j] = '1'\n",
    "\n",
    "    answer = []\n",
    "    for i in [''.join(i) for i in arr1]:\n",
    "        temp = ''\n",
    "        for j in i:\n",
    "            if j == '1':\n",
    "                temp += '#'\n",
    "            else :\n",
    "                temp += ' '\n",
    "        answer.append(temp)\n",
    "                \n",
    "    return answer"
   ]
  },
  {
   "cell_type": "code",
   "execution_count": null,
   "metadata": {},
   "outputs": [],
   "source": [
    "def solution(n, arr1, arr2):\n",
    "    answer = []\n",
    "    for i, j in zip(arr1, arr2):\n",
    "        a12 = bin(i|j)[2:].rjust(n, '0')\n",
    "        a12 = a12.replace('1', '#')\n",
    "        a12 = a12.replace('0', ' ')\n",
    "        answer.append(a12)\n",
    "    return answer"
   ]
  },
  {
   "attachments": {},
   "cell_type": "markdown",
   "metadata": {},
   "source": [
    "### 숫자 문자열과 영단어"
   ]
  },
  {
   "cell_type": "code",
   "execution_count": null,
   "metadata": {},
   "outputs": [],
   "source": [
    "def solution(s):\n",
    "    dic = {\"zero\" : \"0\", \"one\": \"1\", \"two\" : \"2\", \"three\" : \"3\", \"four\" : \"4\", \"five\" : \"5\", \"six\" : \"6\", \"seven\" : \"7\", \"eight\" : \"8\", \"nine\" : \"9\"}\n",
    "    s = \"\".join(list(s))\n",
    "    num_list = [i for i in dic.keys()]\n",
    "    for i in num_list:\n",
    "        if i in s:\n",
    "            s= s.replace(i, dic[i])    \n",
    "    answer = int(s) \n",
    "    return answer"
   ]
  },
  {
   "cell_type": "code",
   "execution_count": null,
   "metadata": {},
   "outputs": [],
   "source": [
    "def solution(s):\n",
    "    dic = {\"zero\" : \"0\", \"one\": \"1\", \"two\" : \"2\", \"three\" : \"3\", \"four\" : \"4\", \"five\" : \"5\", \"six\" : \"6\", \"seven\" : \"7\", \"eight\" : \"8\", \"nine\" : \"9\"}\n",
    "    for k, v in dic.items():\n",
    "        s = s.replace(k, v)\n",
    "    answer = int(s) \n",
    "    return answer"
   ]
  },
  {
   "attachments": {},
   "cell_type": "markdown",
   "metadata": {},
   "source": [
    "### 문자열 내 마음대로 정렬하기"
   ]
  },
  {
   "cell_type": "code",
   "execution_count": null,
   "metadata": {},
   "outputs": [],
   "source": [
    "def solution(strings, n):\n",
    "    answer = [i[1:] for i in sorted([i[n] + i for i in strings])]\n",
    "    return answer"
   ]
  },
  {
   "attachments": {},
   "cell_type": "markdown",
   "metadata": {},
   "source": [
    "### K번째수"
   ]
  },
  {
   "cell_type": "code",
   "execution_count": null,
   "metadata": {},
   "outputs": [],
   "source": [
    "def solution(array, commands):\n",
    "    answer = [sorted(array[i[0]-1:i[1]])[i[2]-1] for i in commands]\n",
    "    return answer"
   ]
  },
  {
   "attachments": {},
   "cell_type": "markdown",
   "metadata": {},
   "source": [
    "### 두 개 뽑아서 더하기"
   ]
  },
  {
   "cell_type": "code",
   "execution_count": null,
   "metadata": {},
   "outputs": [],
   "source": [
    "from itertools import combinations\n",
    "def solution(numbers):\n",
    "    answer = sorted(list(set([sum(i) for i in combinations(numbers, 2)])))\n",
    "    return answer"
   ]
  },
  {
   "cell_type": "code",
   "execution_count": null,
   "metadata": {},
   "outputs": [],
   "source": [
    "def solution(numbers):\n",
    "    answer = []\n",
    "    for i in range(len(numbers)):\n",
    "        for j in range(i+1, len(numbers)):\n",
    "            answer.append(numbers[i] + numbers[j])\n",
    "    answer = sorted(list(set(answer)))\n",
    "    return answer"
   ]
  },
  {
   "attachments": {},
   "cell_type": "markdown",
   "metadata": {},
   "source": [
    "### 푸드 파이트 대회"
   ]
  },
  {
   "cell_type": "code",
   "execution_count": null,
   "metadata": {},
   "outputs": [],
   "source": [
    "def solution(food):\n",
    "    side = ''.join([str(i) * (food[i]//2) for i in range(1, len(food))])\n",
    "    answer = side + '0' + side[::-1]\n",
    "    return answer"
   ]
  },
  {
   "attachments": {},
   "cell_type": "markdown",
   "metadata": {},
   "source": [
    "### 가장 가까운 같은 글자"
   ]
  },
  {
   "cell_type": "code",
   "execution_count": null,
   "metadata": {},
   "outputs": [],
   "source": [
    "answer = []\n",
    "temp = dict()\n",
    "\n",
    "for i in range(len(s)):\n",
    "    if s[i] not in temp:\n",
    "        answer.append(-1)\n",
    "    else :\n",
    "        answer.append(i-temp[s[i]])\n",
    "        pass    \n",
    "    temp[s[i]]= i"
   ]
  },
  {
   "cell_type": "code",
   "execution_count": null,
   "metadata": {},
   "outputs": [],
   "source": [
    "# 좀 더 효율적\n",
    "def solution(s):\n",
    "    answer = []\n",
    "    temp = dict()\n",
    "\n",
    "    for i in range(len(s)):\n",
    "        if s[i] not in temp:\n",
    "            answer.append(-1)\n",
    "        else :\n",
    "            answer.append(i-temp[s[i]])\n",
    "            pass    \n",
    "        temp[s[i]]= i\n",
    "    return answer"
   ]
  },
  {
   "attachments": {},
   "cell_type": "markdown",
   "metadata": {},
   "source": [
    "### 콜라 문제"
   ]
  },
  {
   "cell_type": "code",
   "execution_count": null,
   "metadata": {},
   "outputs": [],
   "source": [
    "def solution(a, b, n):\n",
    "    answer = 0\n",
    "\n",
    "    while n >= a:\n",
    "        answer += (n // a) * b\n",
    "        n =  (n // a) * b + (n%a)\n",
    "    return answer"
   ]
  },
  {
   "cell_type": "code",
   "execution_count": null,
   "metadata": {},
   "outputs": [],
   "source": [
    "solution = lambda a, b, n: max(n - b, 0) // (a - b) * b"
   ]
  },
  {
   "attachments": {},
   "cell_type": "markdown",
   "metadata": {},
   "source": [
    "### 추억 점수"
   ]
  },
  {
   "cell_type": "code",
   "execution_count": null,
   "metadata": {},
   "outputs": [],
   "source": [
    "def solution(name, yearning, photo):\n",
    "    answer = [sum([yearning[name.index(j)] for j in i if j in name]) for i in photo]\n",
    "    return answer"
   ]
  },
  {
   "attachments": {},
   "cell_type": "markdown",
   "metadata": {},
   "source": [
    "### 2016년"
   ]
  },
  {
   "cell_type": "code",
   "execution_count": null,
   "metadata": {},
   "outputs": [],
   "source": [
    "import datetime as dt\n",
    "def solution(a, b):\n",
    "    weekday = ['MON','TUE','WED','THU','FRI','SAT','SUN']\n",
    "    answer = weekday[dt.date(2016, a, b).weekday()]\n",
    "    return answer"
   ]
  },
  {
   "attachments": {},
   "cell_type": "markdown",
   "metadata": {},
   "source": [
    "### 폰켓몬"
   ]
  },
  {
   "cell_type": "code",
   "execution_count": null,
   "metadata": {},
   "outputs": [],
   "source": [
    "def solution(nums):\n",
    "    if len(set(nums)) > len(nums)//2:\n",
    "        answer = len(nums)//2\n",
    "    else : \n",
    "        answer = len(set(nums))\n",
    "\n",
    "    return answer"
   ]
  },
  {
   "cell_type": "code",
   "execution_count": null,
   "metadata": {},
   "outputs": [],
   "source": [
    "def solution(nums):\n",
    "    answer = min(len(nums)//2, len(set(nums)))\n",
    "    return answer"
   ]
  },
  {
   "attachments": {},
   "cell_type": "markdown",
   "metadata": {},
   "source": [
    "### 명예의 전당 (1)"
   ]
  },
  {
   "cell_type": "code",
   "execution_count": null,
   "metadata": {},
   "outputs": [],
   "source": [
    "def solution(k, score):\n",
    "    answer = []\n",
    "    temp = []\n",
    "    for i in score:\n",
    "        temp.append(i)\n",
    "        temp=sorted(temp,reverse=True)\n",
    "        if len(temp) <= k:\n",
    "            answer.append(temp[-1])\n",
    "        else :\n",
    "            answer.append(temp[k-1])\n",
    "    return answer"
   ]
  },
  {
   "cell_type": "code",
   "execution_count": null,
   "metadata": {},
   "outputs": [],
   "source": [
    "def solution(k, score):\n",
    "    answer = []\n",
    "    temp = []\n",
    "    for i in score:\n",
    "        temp.append(i)\n",
    "        if len(temp)>k:\n",
    "            temp.remove(min(temp))\n",
    "        answer.append(min(temp))\n",
    "    return answer"
   ]
  },
  {
   "attachments": {},
   "cell_type": "markdown",
   "metadata": {},
   "source": [
    "### 과일 장수"
   ]
  },
  {
   "cell_type": "code",
   "execution_count": null,
   "metadata": {},
   "outputs": [],
   "source": [
    "def solution(k, m, score):\n",
    "    temp = sorted(score, reverse=True)\n",
    "    answer = 0 \n",
    "\n",
    "    for i in range(0, len(temp),m):\n",
    "        if len(temp[i:i+m]) == m:\n",
    "            answer += min(temp[i:i+m])*m\n",
    "    return answer"
   ]
  },
  {
   "cell_type": "code",
   "execution_count": null,
   "metadata": {},
   "outputs": [],
   "source": [
    "def solution(k, m, score):\n",
    "    return sum(sorted(score)[len(score)%m::m])*m"
   ]
  },
  {
   "attachments": {},
   "cell_type": "markdown",
   "metadata": {},
   "source": [
    "### 모의고사"
   ]
  },
  {
   "cell_type": "code",
   "execution_count": null,
   "metadata": {},
   "outputs": [],
   "source": [
    "def solution(answers):\n",
    "    sp1 = [1, 2, 3, 4, 5]\n",
    "    sp2 = [2, 1, 2, 3, 2, 4, 2, 5]\n",
    "    sp3 = [3, 3, 1, 1, 2, 2, 4, 4, 5, 5]\n",
    "\n",
    "    score = [0, 0, 0]\n",
    "\n",
    "    for i in range(len(answers)):\n",
    "        if answers[i]==sp1[i%len(sp1)]:\n",
    "            score[0] += 1\n",
    "        if answers[i]==sp2[i%len(sp2)]:\n",
    "            score[1] += 1\n",
    "        if answers[i]==sp3[i%len(sp3)]:\n",
    "            score[2] += 1\n",
    "\n",
    "    answer = []\n",
    "\n",
    "    for i, s in enumerate(score):\n",
    "        if s == max(score):\n",
    "            answer.append(i+1)\n",
    "    return answer"
   ]
  },
  {
   "cell_type": "markdown",
   "metadata": {},
   "source": [
    "### 카드 뭉치"
   ]
  },
  {
   "cell_type": "code",
   "execution_count": null,
   "metadata": {},
   "outputs": [],
   "source": [
    "def solution(cards1, cards2, goal):\n",
    "    word = []\n",
    "\n",
    "    for i in range(len(goal)):\n",
    "        if (len(cards1) != 0) and (goal[i] == cards1[0]) :\n",
    "            word.append(cards1[0])\n",
    "            cards1.pop(0)\n",
    "        elif (len(cards2) != 0) and (goal[i] == cards2[0]) :\n",
    "            word.append(cards2[0])\n",
    "            cards2.pop(0)\n",
    "\n",
    "    if word == goal:\n",
    "        answer = \"Yes\"\n",
    "    else :\n",
    "        answer = 'No'\n",
    "    return answer"
   ]
  },
  {
   "cell_type": "markdown",
   "metadata": {},
   "source": [
    "### 소수 만들기"
   ]
  },
  {
   "cell_type": "code",
   "execution_count": null,
   "metadata": {},
   "outputs": [],
   "source": [
    "def solution(nums):\n",
    "    answer = 0\n",
    "    for i in range(len(nums)):\n",
    "        a = nums[i]\n",
    "        for j in range(i+1, len(nums)):\n",
    "            b = nums[j]\n",
    "            for k in range(j+1, len(nums)):\n",
    "                c = nums[k]\n",
    "                so = a + b + c \n",
    "                if prime_num(so) == 1:\n",
    "                    answer += 1 \n",
    "    return answer\n",
    "\n",
    "# 소수 구하는 식\n",
    "def prime_num(num):\n",
    "    for i in range(2, int(num ** 0.5)+1):\n",
    "        if num % i == 0:\n",
    "            return False\n",
    "    return True"
   ]
  },
  {
   "cell_type": "code",
   "execution_count": null,
   "metadata": {},
   "outputs": [],
   "source": [
    "# itertools 쓰는 경우\n",
    "from itertools import combinations\n",
    "\n",
    "def solution(nums):\n",
    "    answer = 0\n",
    "    for i in combinations(nums, 3):\n",
    "        if prime_num(sum(i)):\n",
    "            answer += 1\n",
    "    return answer\n",
    "        \n",
    "def prime_num(num):\n",
    "    for i in range(2, int(num ** 0.5)+1):\n",
    "        if num % i == 0:\n",
    "            return False\n",
    "    return True"
   ]
  },
  {
   "cell_type": "markdown",
   "metadata": {},
   "source": [
    "### 소수 찾기"
   ]
  },
  {
   "cell_type": "code",
   "execution_count": null,
   "metadata": {},
   "outputs": [],
   "source": [
    "def solution(n):\n",
    "    answer = 0 \n",
    "    for i in range(2, n+1):\n",
    "        if is_prime(i):\n",
    "            answer += 1\n",
    "    return answer\n",
    "\n",
    "def is_prime(x):\n",
    "    for i in range(2, int(x**0.5) +1):\n",
    "        if x % i == 0:\n",
    "            return False\n",
    "    return True"
   ]
  },
  {
   "cell_type": "code",
   "execution_count": null,
   "metadata": {},
   "outputs": [],
   "source": [
    "# 에라토스테네스의 체\n",
    "def solution(n):\n",
    "    num=set(range(2,n+1))\n",
    "\n",
    "    for i in range(2,n+1):\n",
    "        if i in num:\n",
    "            num-=set(range(2*i,n+1,i))\n",
    "    return len(num)"
   ]
  },
  {
   "cell_type": "markdown",
   "metadata": {},
   "source": [
    "### 덧칠하기"
   ]
  },
  {
   "cell_type": "code",
   "execution_count": null,
   "metadata": {},
   "outputs": [],
   "source": [
    "def solution(n, m, section):\n",
    "    answer = 0\n",
    "    pos = section[0]\n",
    "    \n",
    "    for i in section:\n",
    "        if pos<=i: \n",
    "            pos = i + m\n",
    "            answer += 1\n",
    "\n",
    "    return answer"
   ]
  },
  {
   "cell_type": "markdown",
   "metadata": {},
   "source": [
    "### 실패율"
   ]
  },
  {
   "cell_type": "code",
   "execution_count": null,
   "metadata": {},
   "outputs": [],
   "source": [
    "# 실패율 : 스테이지 도달했으나 클리어하지 못한 플레이어 수 / 스테이지 도달 한 플레이어 수\n",
    "# N : 스테이지 개수\n",
    "# stages : 사용자가 멈춰있는 스테이지 번호\n",
    "# 실패율 높은 순으로 내림차순\n",
    "from collections import Counter\n",
    "\n",
    "def solution(N, stages):\n",
    "    fails = {}\n",
    "    \n",
    "    players = len(stages) # 플레이어 수\n",
    "    \n",
    "    test = dict(Counter(stages))\n",
    "    fail_stage = sorted(test.keys())\n",
    "    for i in range(1, N+1):\n",
    "        if i not in fail_stage:\n",
    "            fails.update({i:0})\n",
    "        else :\n",
    "            fail = test[i] / players\n",
    "            fails.update({i:fail})\n",
    "            players = players - test[i]\n",
    "        \n",
    "    fails = dict(sorted(fails.items(), key=lambda item: item[1], reverse=True))\n",
    "\n",
    "    answer = list(fails.keys())\n",
    "    return answer    "
   ]
  },
  {
   "cell_type": "markdown",
   "metadata": {},
   "source": [
    "### 기사단원의 무기"
   ]
  },
  {
   "cell_type": "code",
   "execution_count": null,
   "metadata": {},
   "outputs": [],
   "source": [
    "def solution(number, limit, power):\n",
    "    night = [1]\n",
    "    for i in range(2, number+1): # 전체 list loop\n",
    "        temp = 2\n",
    "        for j in range(2, int(i**0.5)+1): # 제곱근까지 loop\n",
    "            if i % j == 0 : # 약수면 temp에 +1\n",
    "                temp += 1\n",
    "                if j **2 != i: # 제곱일 때 count 될 수 반영\n",
    "                    temp += 1 \n",
    "        if temp > limit:\n",
    "            temp = power\n",
    "        night.append(temp)\n",
    "    return sum(night)"
   ]
  },
  {
   "cell_type": "markdown",
   "metadata": {},
   "source": [
    "### [1차] 다트 게임"
   ]
  },
  {
   "cell_type": "code",
   "execution_count": null,
   "metadata": {},
   "outputs": [],
   "source": [
    "def solution(dartResult):\n",
    "    answer = []\n",
    "    dartResult = dartResult.replace('10', 'A')\n",
    "    multi = {'S':1, 'D':2, 'T':3}\n",
    "    \n",
    "    trial = -1\n",
    "    score = 0\n",
    "    \n",
    "    for i in dartResult:\n",
    "        if i.isnumeric() or i=='A': # 점수 설정\n",
    "            score = 0\n",
    "            trial += 1\n",
    "            if i=='A':\n",
    "                score = 10\n",
    "            else :\n",
    "                score = int(i)\n",
    "            answer.append(score)\n",
    "\n",
    "        elif i == 'S' or i=='D' or i=='T':\n",
    "            answer[trial] = answer[trial] ** multi[i]\n",
    "            \n",
    "        elif i == '#':\n",
    "            answer[trial] = answer[trial] * (-1)\n",
    "            \n",
    "        elif i == '*':\n",
    "            if trial == 0:\n",
    "                answer[trial] = answer[trial] * 2\n",
    "            else :\n",
    "                answer[trial] = answer[trial] * 2\n",
    "                answer[trial-1] = answer[trial-1] * 2\n",
    "    return sum(answer)"
   ]
  },
  {
   "cell_type": "markdown",
   "metadata": {},
   "source": [
    "### 로또의 최고 순위와 최저 순위"
   ]
  },
  {
   "cell_type": "code",
   "execution_count": null,
   "metadata": {},
   "outputs": [],
   "source": [
    "def solution(lottos, win_nums):\n",
    "    rank = {6:1, 5:2, 4:3, 3:4, 2:5, 1:6, 0:6}\n",
    "    count = 0\n",
    "    zero = lottos.count(0)\n",
    "    for i in lottos:\n",
    "        if i in win_nums:\n",
    "            count += 1\n",
    "    return [rank[count + zero], rank[count]]"
   ]
  },
  {
   "cell_type": "markdown",
   "metadata": {},
   "source": [
    "### 옹알이 (2)"
   ]
  },
  {
   "cell_type": "code",
   "execution_count": null,
   "metadata": {},
   "outputs": [],
   "source": [
    "def solution(babbling):\n",
    "    count = 0\n",
    "    words = {\"aya\":'1', \"ye\":'2', \"woo\":'3', \"ma\":'4'}\n",
    "\n",
    "    for i in babbling:\n",
    "        for j in words: # replace\n",
    "            i = i.replace(j, words[j])\n",
    "\n",
    "        try :\n",
    "            int(i) # 숫자만 남기기\n",
    "            mini_count = 0\n",
    "            stack = ''\n",
    "            for k in i:\n",
    "                if k == stack:\n",
    "                    break\n",
    "                else :\n",
    "                    stack = k\n",
    "                mini_count += 1\n",
    "            if len(i) == mini_count :\n",
    "                count += 1\n",
    "        except:\n",
    "            pass\n",
    "    return count"
   ]
  },
  {
   "cell_type": "markdown",
   "metadata": {},
   "source": [
    "### 숫자 짝꿍"
   ]
  },
  {
   "cell_type": "code",
   "execution_count": null,
   "metadata": {},
   "outputs": [],
   "source": [
    "def solution(X, Y):\n",
    "    answer = ''\n",
    "    for i in range(9, -1, -1):\n",
    "        answer +=str(i) * min(X.count(str(i)), Y.count(str(i)))\n",
    "    \n",
    "    if answer =='':\n",
    "        answer = '-1'\n",
    "    elif answer.lstrip('0') == '':\n",
    "        answer = '0'\n",
    "    else :\n",
    "        pass\n",
    "    return answer"
   ]
  },
  {
   "cell_type": "markdown",
   "metadata": {},
   "source": [
    "### 체육복"
   ]
  },
  {
   "cell_type": "code",
   "execution_count": null,
   "metadata": {},
   "outputs": [],
   "source": [
    "def solution(n, lost, reserve):\n",
    "    student = n - len(lost)\n",
    "    need = []\n",
    "    for i in lost:\n",
    "        if i not in reserve:\n",
    "            need.append(i)\n",
    "        else :\n",
    "            student += 1\n",
    "            reserve.remove(i)\n",
    "    \n",
    "    for i in sorted(need):\n",
    "        if i-1 in sorted(reserve):\n",
    "            student+=1\n",
    "            reserve.remove(i-1)\n",
    "        elif i+1 in reserve:\n",
    "            student+=1\n",
    "            reserve.remove(i+1)\n",
    "        else :pass\n",
    "    return student"
   ]
  },
  {
   "cell_type": "markdown",
   "metadata": {},
   "source": [
    "### 완주하지 못한 선수"
   ]
  },
  {
   "cell_type": "code",
   "execution_count": null,
   "metadata": {},
   "outputs": [],
   "source": [
    "from collections import Counter\n",
    "def solution(participant, completion):\n",
    "    parti = dict(Counter(participant))\n",
    "    comp = dict(Counter(completion))\n",
    "    \n",
    "    for i in parti.keys():\n",
    "        try : \n",
    "            parti[i] -= comp[i]\n",
    "        except :\n",
    "            pass\n",
    "    key_parti = list(parti.keys())\n",
    "    val_parti = list(parti.values())\n",
    "    return key_parti[val_parti.index(1)]"
   ]
  },
  {
   "cell_type": "code",
   "execution_count": null,
   "metadata": {},
   "outputs": [],
   "source": [
    "# 다른 사람 답\n",
    "from collections import Counter\n",
    "def solution(participant, completion):\n",
    "    parti = Counter(participant)\n",
    "    comp = Counter(completion)\n",
    "    \n",
    "    return list(parti-comp)[0]"
   ]
  },
  {
   "cell_type": "markdown",
   "metadata": {},
   "source": [
    "### 대충 만든 자판"
   ]
  },
  {
   "cell_type": "code",
   "execution_count": null,
   "metadata": {},
   "outputs": [],
   "source": [
    "def solution(keymap, targets):\n",
    "    dic = {}\n",
    "    for i in keymap:\n",
    "        for j in range(len(i)):\n",
    "            if i[j] not in dic:\n",
    "                dic.update({i[j]:j+1})\n",
    "            elif dic[i[j]]> j:\n",
    "                dic.update({i[j]:j+1})\n",
    "\n",
    "    answer = []\n",
    "    for i in targets:\n",
    "        temp = 0 \n",
    "        for j in i:\n",
    "            if j in dic:\n",
    "                temp += dic[j]\n",
    "            else:\n",
    "                temp = -1\n",
    "                break\n",
    "        answer.append(temp)\n",
    "    return answer"
   ]
  },
  {
   "cell_type": "markdown",
   "metadata": {},
   "source": [
    "### 문자열 나누기"
   ]
  },
  {
   "cell_type": "code",
   "execution_count": null,
   "metadata": {},
   "outputs": [],
   "source": [
    "def solution(s):\n",
    "    answer = 0\n",
    "    x_cnt = 0\n",
    "    y_cnt = 0\n",
    "    for i in s:\n",
    "        if x_cnt == y_cnt :\n",
    "            k = i\n",
    "            answer += 1\n",
    "        if i == k :\n",
    "            x_cnt += 1\n",
    "        else:\n",
    "            y_cnt += 1\n",
    "\n",
    "    return answer"
   ]
  },
  {
   "cell_type": "markdown",
   "metadata": {},
   "source": [
    "### 둘만의 암호"
   ]
  },
  {
   "cell_type": "code",
   "execution_count": null,
   "metadata": {},
   "outputs": [],
   "source": [
    "def solution(s, skip, index):\n",
    "    alpha = ['a','b','c','d','e','f','g','h','i','j','k','l','m','n','o','p','q','r','s','t','u','v','w','x','y','z']\n",
    "    for i in skip:\n",
    "        alpha.remove(i)\n",
    "    \n",
    "    result = ''\n",
    "    for j in range(len(s)):\n",
    "        result += alpha[(alpha.index(s[j])+index) % len(alpha)]\n",
    "        \n",
    "    return result"
   ]
  },
  {
   "cell_type": "markdown",
   "metadata": {},
   "source": [
    "### 크레인 인형뽑기 게임"
   ]
  },
  {
   "cell_type": "code",
   "execution_count": null,
   "metadata": {},
   "outputs": [],
   "source": [
    "def solution(board, moves):\n",
    "    answer = 0\n",
    "    \n",
    "    basket = []\n",
    "    for move in moves:\n",
    "        for i in board:\n",
    "            if i[move-1] != 0:\n",
    "                basket.append(i[move-1])\n",
    "                i[move-1] = 0\n",
    "                break\n",
    "    \n",
    "        if len(basket) > 1:\n",
    "            if basket[-2] == basket[-1]:\n",
    "                basket.pop(-1)\n",
    "                basket.pop(-1)\n",
    "                answer += 2\n",
    "    return answer"
   ]
  },
  {
   "cell_type": "markdown",
   "metadata": {},
   "source": [
    "### [카카오 인턴] 키패드 누르기"
   ]
  },
  {
   "cell_type": "code",
   "execution_count": null,
   "metadata": {},
   "outputs": [],
   "source": [
    "pair = {1:0, 2:1, 3:2, 4:3, 5:4, 6:5, 7:6, 8:7, 9:8, '*':9 , 0:10, '#':11}\n",
    "def solution(numbers, hand):\n",
    "    answer = \"\"\n",
    "    \n",
    "    l_pos = [3,0]\n",
    "    r_pos = [3,2]\n",
    "    \n",
    "    for i in numbers :\n",
    "        l_close = 0\n",
    "        r_close = 0\n",
    "        \n",
    "        pos =[pair[i] // 3, pair[i] % 3]\n",
    "\n",
    "        if (i == 1) or (i == 4) or (i==7):\n",
    "            answer += \"L\"\n",
    "            l_pos = pos\n",
    "        elif (i == 3) or (i == 6) or (i==9):\n",
    "            answer += \"R\"\n",
    "            r_pos = pos\n",
    "        else :\n",
    "            l_close = abs(pos[0] - l_pos[0]) + abs(pos[1] - l_pos[1])\n",
    "            r_close = abs(pos[0] - r_pos[0]) + abs(pos[1] - r_pos[1])\n",
    "        \n",
    "            if l_close < r_close :\n",
    "                answer += \"L\"\n",
    "                l_pos = pos\n",
    "            elif l_close > r_close :\n",
    "                answer += \"R\"\n",
    "                r_pos = pos\n",
    "            else :\n",
    "                if hand == 'right':\n",
    "                    answer += \"R\"\n",
    "                    r_pos = pos\n",
    "                else :\n",
    "                    answer += \"L\"\n",
    "                    l_pos = pos\n",
    "    return answer"
   ]
  },
  {
   "cell_type": "markdown",
   "metadata": {},
   "source": [
    "### 신규 아이디 추천"
   ]
  },
  {
   "cell_type": "code",
   "execution_count": null,
   "metadata": {},
   "outputs": [],
   "source": [
    "def solution(new_id):\n",
    "    new_id = new_id.lower()\n",
    "    temp = ''\n",
    "    for i in new_id:\n",
    "        if i.isalpha() or i.isdecimal() or i=='-' or i=='_' or i=='.':\n",
    "            temp += i\n",
    "    temp = \" \".join(temp.split('.'))\n",
    "    temp = \".\".join(temp.split())\n",
    "    if len(temp) == 0:\n",
    "        temp = 'a'\n",
    "    \n",
    "    if len(temp) >= 16:\n",
    "        temp= temp[:15]\n",
    "        if temp[-1] == '.':\n",
    "            temp = temp[:14]\n",
    "    if len(temp) <= 2:\n",
    "        while len(temp) != 3:\n",
    "            temp += temp[-1]\n",
    "    return temp"
   ]
  },
  {
   "cell_type": "markdown",
   "metadata": {},
   "source": [
    "### 햄버거 만들기"
   ]
  },
  {
   "cell_type": "code",
   "execution_count": null,
   "metadata": {},
   "outputs": [],
   "source": [
    "# 꼼수\n",
    "def solution(ingredient):\n",
    "    result = 0\n",
    "    stack = []\n",
    "    \n",
    "    for i in ingredient:\n",
    "        stack.append(i)\n",
    "        \n",
    "        if stack[-4:] == [1,2,3,1]:\n",
    "            result += 1\n",
    "            stack = stack[-10:-4]\n",
    "    \n",
    "    return result"
   ]
  },
  {
   "cell_type": "code",
   "execution_count": null,
   "metadata": {},
   "outputs": [],
   "source": [
    "# pop 사용\n",
    "def solution(ingredient):\n",
    "    result = 0\n",
    "    stack = []\n",
    "    \n",
    "    for i in ingredient:\n",
    "        stack.append(i)\n",
    "        \n",
    "        if stack[-4:] == [1,2,3,1]:\n",
    "            result += 1\n",
    "            for i in range(4):\n",
    "                stack.pop()\n",
    "    \n",
    "    return result"
   ]
  },
  {
   "cell_type": "markdown",
   "metadata": {},
   "source": [
    "### 성격 유형 검사하기"
   ]
  },
  {
   "cell_type": "code",
   "execution_count": null,
   "metadata": {},
   "outputs": [],
   "source": [
    "def solution(survey, choices):\n",
    "    person = {'R':0, 'T':0, 'C':0, 'F':0, 'J':0, 'M':0, 'A':0, 'N':0}\n",
    "\n",
    "    for i in range(len(survey)):\n",
    "        if choices[i] >=5 :\n",
    "            person.update({survey[i][1]:person[survey[i][1]] + choices[i] - 4})\n",
    "        elif choices[i] <=3 :\n",
    "            person.update({survey[i][0]:person[survey[i][0]] + 4 - choices[i]})\n",
    "    \n",
    "    keys = list(person)\n",
    "    values = list(person.values())\n",
    "    \n",
    "    answer = ''\n",
    "    for i in range(0, 8, 2):\n",
    "        if values[i] > values[i+1]:\n",
    "            answer += keys[i]\n",
    "        elif values[i] < values[i+1]:\n",
    "            answer += keys[i+1]\n",
    "        elif values[i] == values[i+1]:\n",
    "            answer += keys[i]\n",
    "    return answer"
   ]
  },
  {
   "cell_type": "markdown",
   "metadata": {},
   "source": [
    "### 바탕화면 정리"
   ]
  },
  {
   "cell_type": "code",
   "execution_count": null,
   "metadata": {},
   "outputs": [],
   "source": [
    "def solution(wallpaper):\n",
    "    x = []\n",
    "    y = []\n",
    "    for i in range(len(wallpaper)):\n",
    "        for j in range(len(wallpaper[i])):\n",
    "            if wallpaper[i][j] == '#':\n",
    "                x.append(i)\n",
    "                y.append(j)\n",
    "    return [min(x), min(y), max(x)+1, max(y)+1]"
   ]
  },
  {
   "cell_type": "markdown",
   "metadata": {},
   "source": [
    "### [PCCP 기출문제] 1번 / 붕대 감기"
   ]
  },
  {
   "cell_type": "code",
   "execution_count": null,
   "metadata": {},
   "outputs": [],
   "source": [
    "def solution(bandage, health, attacks):\n",
    "    current = health\n",
    "    time = 0\n",
    "    for at, damage in attacks:\n",
    "        diff = at-time-1\n",
    "        time = at\n",
    "        \n",
    "        current += (diff // bandage[0]) * bandage[2]\n",
    "        current += diff  * bandage[1]\n",
    "        \n",
    "        if current > health :\n",
    "            current = health\n",
    "        current -= damage\n",
    "        \n",
    "        if current <= 0 :\n",
    "            answer = -1\n",
    "            break\n",
    "        else :\n",
    "            answer = current\n",
    "    return answer\n",
    "        "
   ]
  },
  {
   "cell_type": "markdown",
   "metadata": {},
   "source": [
    "### [PCCE 기출문제] 9번 / 이웃한 칸"
   ]
  },
  {
   "cell_type": "code",
   "execution_count": null,
   "metadata": {},
   "outputs": [],
   "source": [
    "dh = [0, 1, -1, 0] \n",
    "dw = [1, 0, 0, -1]\n",
    "\n",
    "def solution(board, h, w):\n",
    "    cnt = 0\n",
    "    for i in range(4):\n",
    "        h_check = h + dh[i]\n",
    "        w_check = w + dw[i]\n",
    "        if (0<= h_check < len(board)) and (0<= w_check < len(board)):\n",
    "            if board[h_check][w_check] == board[h][w]:\n",
    "                cnt += 1\n",
    "    return cnt"
   ]
  },
  {
   "cell_type": "markdown",
   "metadata": {},
   "source": [
    "### [PCCE 기출문제] 10번 / 데이터 분석"
   ]
  },
  {
   "cell_type": "code",
   "execution_count": null,
   "metadata": {},
   "outputs": [],
   "source": [
    "def solution(data, ext, val_ext, sort_by):\n",
    "    dic = {\"code\":0, \"date\":1, \"maximum\":2, \"remain\":3}\n",
    "    \n",
    "    temp = [] \n",
    "    \n",
    "    for i in data:\n",
    "        if i[dic[ext]] < val_ext:\n",
    "            temp.append(i)\n",
    "    \n",
    "    answer = sorted(temp, key = lambda x:x[dic[sort_by]])\n",
    "    return answer"
   ]
  }
 ],
 "metadata": {
  "kernelspec": {
   "display_name": "base",
   "language": "python",
   "name": "python3"
  },
  "language_info": {
   "codemirror_mode": {
    "name": "ipython",
    "version": 3
   },
   "file_extension": ".py",
   "mimetype": "text/x-python",
   "name": "python",
   "nbconvert_exporter": "python",
   "pygments_lexer": "ipython3",
   "version": "3.9.7"
  },
  "orig_nbformat": 4
 },
 "nbformat": 4,
 "nbformat_minor": 2
}
