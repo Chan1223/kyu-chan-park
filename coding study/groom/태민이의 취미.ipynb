{
 "cells": [
  {
   "cell_type": "code",
   "execution_count": 62,
   "id": "bbb125c3",
   "metadata": {
    "scrolled": false
   },
   "outputs": [
    {
     "name": "stdout",
     "output_type": "stream",
     "text": [
      "5555\n",
      "140937120\n"
     ]
    }
   ],
   "source": [
    "num = int(input())\n",
    "\n",
    "count = 0\n",
    "# 부피 = 가로 * 세로 * 높이\n",
    "for i in range(1, num+1):\n",
    "    count += i*i*i\n",
    "\n",
    "# 1,000,000,007로 나눈 나머지 출력\n",
    "\n",
    "print(count % 1000000007)"
   ]
  },
  {
   "cell_type": "code",
   "execution_count": 95,
   "id": "ec0578e3",
   "metadata": {},
   "outputs": [
    {
     "name": "stdout",
     "output_type": "stream",
     "text": [
      "10\n",
      "3025\n"
     ]
    }
   ],
   "source": [
    "num = int(input())\n",
    "\n",
    "ans = ((num ** 2) - ((num * (num-1)) // 2))**2\n",
    "print((ans % 1000000007))"
   ]
  },
  {
   "cell_type": "code",
   "execution_count": 79,
   "id": "693409ab",
   "metadata": {},
   "outputs": [
    {
     "data": {
      "text/plain": [
       "15431790"
      ]
     },
     "execution_count": 79,
     "metadata": {},
     "output_type": "execute_result"
    }
   ],
   "source": [
    "ans"
   ]
  },
  {
   "cell_type": "code",
   "execution_count": 94,
   "id": "bd04ff0e",
   "metadata": {},
   "outputs": [
    {
     "data": {
      "text/plain": [
       "3025"
      ]
     },
     "execution_count": 94,
     "metadata": {},
     "output_type": "execute_result"
    }
   ],
   "source": [
    "((num ** 2) - (num * (num - 1)) // 2) ** 2"
   ]
  },
  {
   "cell_type": "code",
   "execution_count": 107,
   "id": "fbc74f53",
   "metadata": {},
   "outputs": [
    {
     "name": "stdout",
     "output_type": "stream",
     "text": [
      "10\n",
      "3025\n"
     ]
    }
   ],
   "source": [
    "# for 문 사용하지 않고 알고리즘으로 해결\n",
    "num = int(input())\n",
    "\n",
    "ans = ((num * (num+1)) // 2) ** 2 \n",
    "print((ans % 1000000007))"
   ]
  },
  {
   "cell_type": "code",
   "execution_count": 104,
   "id": "b134eb60",
   "metadata": {},
   "outputs": [
    {
     "data": {
      "text/plain": [
       "10"
      ]
     },
     "execution_count": 104,
     "metadata": {},
     "output_type": "execute_result"
    }
   ],
   "source": [
    "ans"
   ]
  },
  {
   "cell_type": "code",
   "execution_count": 100,
   "id": "1a659ddf",
   "metadata": {},
   "outputs": [
    {
     "data": {
      "text/plain": [
       "55.0"
      ]
     },
     "execution_count": 100,
     "metadata": {},
     "output_type": "execute_result"
    }
   ],
   "source": [
    "10 * 11 / 2"
   ]
  },
  {
   "cell_type": "code",
   "execution_count": null,
   "id": "b6271a72",
   "metadata": {},
   "outputs": [],
   "source": []
  }
 ],
 "metadata": {
  "kernelspec": {
   "display_name": "Python 3 (ipykernel)",
   "language": "python",
   "name": "python3"
  },
  "language_info": {
   "codemirror_mode": {
    "name": "ipython",
    "version": 3
   },
   "file_extension": ".py",
   "mimetype": "text/x-python",
   "name": "python",
   "nbconvert_exporter": "python",
   "pygments_lexer": "ipython3",
   "version": "3.9.7"
  }
 },
 "nbformat": 4,
 "nbformat_minor": 5
}
