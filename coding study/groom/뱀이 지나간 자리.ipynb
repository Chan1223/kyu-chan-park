{
 "cells": [
  {
   "cell_type": "code",
   "execution_count": 88,
   "id": "0f30f6be",
   "metadata": {},
   "outputs": [],
   "source": [
    "import numpy as np"
   ]
  },
  {
   "cell_type": "code",
   "execution_count": 187,
   "id": "e7f7b218",
   "metadata": {},
   "outputs": [
    {
     "name": "stdout",
     "output_type": "stream",
     "text": [
      "9 9\n"
     ]
    }
   ],
   "source": [
    "n, m = map(int,input().split())"
   ]
  },
  {
   "cell_type": "code",
   "execution_count": 207,
   "id": "07aa05f1",
   "metadata": {},
   "outputs": [],
   "source": [
    "field = []\n",
    "\n",
    "# n * m 행렬 생성\n",
    "for i in range(n):\n",
    "    line = []\n",
    "    for i in range(m):\n",
    "        line.append(\".\")\n",
    "    field.append(line)"
   ]
  },
  {
   "cell_type": "code",
   "execution_count": 213,
   "id": "29483462",
   "metadata": {},
   "outputs": [
    {
     "data": {
      "text/plain": [
       "[['#', '#', '#', '#', '#', '#', '#', '#', '#'],\n",
       " ['.', '.', '.', '.', '.', '.', '.', '.', '#'],\n",
       " ['#', '#', '#', '#', '#', '#', '#', '#', '#'],\n",
       " ['#', '.', '.', '.', '.', '.', '.', '.', '.'],\n",
       " ['#', '#', '#', '#', '#', '#', '#', '#', '#'],\n",
       " ['.', '.', '.', '.', '.', '.', '.', '.', '#'],\n",
       " ['#', '#', '#', '#', '#', '#', '#', '#', '#'],\n",
       " ['#', '.', '.', '.', '.', '.', '.', '.', '.'],\n",
       " ['#', '#', '#', '#', '#', '#', '#', '#', '#']]"
      ]
     },
     "execution_count": 213,
     "metadata": {},
     "output_type": "execute_result"
    }
   ],
   "source": [
    "field"
   ]
  },
  {
   "cell_type": "code",
   "execution_count": 214,
   "id": "aab15d0b",
   "metadata": {},
   "outputs": [],
   "source": [
    "for a in range(len(field)):\n",
    "    if a % 2 == 0:\n",
    "        for b in range(len(field[a])):\n",
    "            field[a][b] = \"#\"\n",
    "                \n",
    "    elif a % 4 == 1 :\n",
    "        field[a][-1] = \"#\"\n",
    "        \n",
    "    else:\n",
    "        field[a][0] = \"#\""
   ]
  },
  {
   "cell_type": "code",
   "execution_count": 215,
   "id": "174701a9",
   "metadata": {},
   "outputs": [
    {
     "data": {
      "text/plain": [
       "[['#', '#', '#', '#', '#', '#', '#', '#', '#'],\n",
       " ['.', '.', '.', '.', '.', '.', '.', '.', '#'],\n",
       " ['#', '#', '#', '#', '#', '#', '#', '#', '#'],\n",
       " ['#', '.', '.', '.', '.', '.', '.', '.', '.'],\n",
       " ['#', '#', '#', '#', '#', '#', '#', '#', '#'],\n",
       " ['.', '.', '.', '.', '.', '.', '.', '.', '#'],\n",
       " ['#', '#', '#', '#', '#', '#', '#', '#', '#'],\n",
       " ['#', '.', '.', '.', '.', '.', '.', '.', '.'],\n",
       " ['#', '#', '#', '#', '#', '#', '#', '#', '#']]"
      ]
     },
     "execution_count": 215,
     "metadata": {},
     "output_type": "execute_result"
    }
   ],
   "source": [
    "field"
   ]
  },
  {
   "cell_type": "code",
   "execution_count": 216,
   "id": "459adecc",
   "metadata": {
    "scrolled": true
   },
   "outputs": [
    {
     "name": "stdout",
     "output_type": "stream",
     "text": [
      "#########\n",
      "........#\n",
      "#########\n",
      "#........\n",
      "#########\n",
      "........#\n",
      "#########\n",
      "#........\n",
      "#########\n"
     ]
    }
   ],
   "source": [
    "for i in range(len(field)):\n",
    "    print(''.join(field[i]))"
   ]
  },
  {
   "cell_type": "code",
   "execution_count": 182,
   "id": "0dcee0a3",
   "metadata": {},
   "outputs": [
    {
     "ename": "SyntaxError",
     "evalue": "invalid syntax (2694009514.py, line 26)",
     "output_type": "error",
     "traceback": [
      "\u001b[0;36m  File \u001b[0;32m\"/var/folders/42/6b83dcy962qg0qxnnz4ck_8c0000gn/T/ipykernel_27299/2694009514.py\"\u001b[0;36m, line \u001b[0;32m26\u001b[0m\n\u001b[0;31m    print(field[i], join ',')\u001b[0m\n\u001b[0m                         ^\u001b[0m\n\u001b[0;31mSyntaxError\u001b[0m\u001b[0;31m:\u001b[0m invalid syntax\n"
     ]
    }
   ],
   "source": [
    "n, m = map(int,input().split())\n",
    "\n",
    "field = []\n",
    "\n",
    "# 모든 원소가 점(.)으로 이루어진 n * m 행렬 생성\n",
    "for i in range(n):\n",
    "    line = []\n",
    "    for i in range(m):\n",
    "        line.append(\".\")\n",
    "    field.append(line)\n",
    "    \n",
    "\n",
    "    \n",
    "for a in range(len(field)):\n",
    "    # 0,2,4... 의 줄은 전부 # 으로 변경\n",
    "    if a % 2 == 0:\n",
    "        for b in range(len(field[a])):\n",
    "            field[a][b] = \"#\"\n",
    "    \n",
    "    # 1, 5, 9 줄은 전부 제일 끝 원소를 #으로 변경            \n",
    "    elif a % 4 == 1 :\n",
    "        field[a][-1] = \"#\"\n",
    "    \n",
    "    # 나머지 원소의 제일 첫번째 원소를 #으로 변경\n",
    "    else:\n",
    "        field[a][0] = \"#\"\n",
    "        \n",
    "# godf        \n",
    "for i in range(len(field)):\n",
    "    print(''.join(field[i]))"
   ]
  },
  {
   "cell_type": "code",
   "execution_count": 186,
   "id": "126ed5f7",
   "metadata": {},
   "outputs": [
    {
     "name": "stdout",
     "output_type": "stream",
     "text": [
      "####\n",
      "...#\n",
      "####\n",
      "#...\n",
      "####\n",
      "...#\n"
     ]
    }
   ],
   "source": []
  },
  {
   "cell_type": "code",
   "execution_count": null,
   "id": "da5ce45a",
   "metadata": {},
   "outputs": [],
   "source": []
  }
 ],
 "metadata": {
  "kernelspec": {
   "display_name": "Python 3 (ipykernel)",
   "language": "python",
   "name": "python3"
  },
  "language_info": {
   "codemirror_mode": {
    "name": "ipython",
    "version": 3
   },
   "file_extension": ".py",
   "mimetype": "text/x-python",
   "name": "python",
   "nbconvert_exporter": "python",
   "pygments_lexer": "ipython3",
   "version": "3.9.7"
  }
 },
 "nbformat": 4,
 "nbformat_minor": 5
}
