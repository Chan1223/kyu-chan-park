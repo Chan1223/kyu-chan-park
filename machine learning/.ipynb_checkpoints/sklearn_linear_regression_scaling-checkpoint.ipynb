{
 "cells": [
  {
   "cell_type": "code",
   "execution_count": 1,
   "metadata": {},
   "outputs": [],
   "source": [
    "import numpy as np\n",
    "import pandas as pd"
   ]
  },
  {
   "cell_type": "code",
   "execution_count": 2,
   "metadata": {},
   "outputs": [],
   "source": [
    "data = pd.read_csv('training_test_data.csv')"
   ]
  },
  {
   "cell_type": "code",
   "execution_count": 3,
   "metadata": {},
   "outputs": [
    {
     "data": {
      "text/html": [
       "<div>\n",
       "<style scoped>\n",
       "    .dataframe tbody tr th:only-of-type {\n",
       "        vertical-align: middle;\n",
       "    }\n",
       "\n",
       "    .dataframe tbody tr th {\n",
       "        vertical-align: top;\n",
       "    }\n",
       "\n",
       "    .dataframe thead th {\n",
       "        text-align: right;\n",
       "    }\n",
       "</style>\n",
       "<table border=\"1\" class=\"dataframe\">\n",
       "  <thead>\n",
       "    <tr style=\"text-align: right;\">\n",
       "      <th></th>\n",
       "      <th>Age</th>\n",
       "      <th>Gender</th>\n",
       "      <th>Experience</th>\n",
       "      <th>Income</th>\n",
       "    </tr>\n",
       "  </thead>\n",
       "  <tbody>\n",
       "    <tr>\n",
       "      <th>0</th>\n",
       "      <td>50</td>\n",
       "      <td>1</td>\n",
       "      <td>15</td>\n",
       "      <td>180</td>\n",
       "    </tr>\n",
       "    <tr>\n",
       "      <th>1</th>\n",
       "      <td>29</td>\n",
       "      <td>1</td>\n",
       "      <td>5</td>\n",
       "      <td>163</td>\n",
       "    </tr>\n",
       "    <tr>\n",
       "      <th>2</th>\n",
       "      <td>36</td>\n",
       "      <td>1</td>\n",
       "      <td>6</td>\n",
       "      <td>134</td>\n",
       "    </tr>\n",
       "    <tr>\n",
       "      <th>3</th>\n",
       "      <td>34</td>\n",
       "      <td>2</td>\n",
       "      <td>4</td>\n",
       "      <td>132</td>\n",
       "    </tr>\n",
       "    <tr>\n",
       "      <th>4</th>\n",
       "      <td>46</td>\n",
       "      <td>1</td>\n",
       "      <td>9</td>\n",
       "      <td>188</td>\n",
       "    </tr>\n",
       "  </tbody>\n",
       "</table>\n",
       "</div>"
      ],
      "text/plain": [
       "   Age  Gender  Experience  Income\n",
       "0   50       1          15     180\n",
       "1   29       1           5     163\n",
       "2   36       1           6     134\n",
       "3   34       2           4     132\n",
       "4   46       1           9     188"
      ]
     },
     "execution_count": 3,
     "metadata": {},
     "output_type": "execute_result"
    }
   ],
   "source": [
    "data.head()"
   ]
  },
  {
   "cell_type": "code",
   "execution_count": 4,
   "metadata": {},
   "outputs": [],
   "source": [
    "data_np = data.values"
   ]
  },
  {
   "cell_type": "code",
   "execution_count": 5,
   "metadata": {},
   "outputs": [],
   "source": [
    "np.random.shuffle(data_np) #데이터를 random하게 다시 섞기"
   ]
  },
  {
   "cell_type": "code",
   "execution_count": 6,
   "metadata": {},
   "outputs": [],
   "source": [
    "# 종속변수와 독립변수 데이터 분리하기\n",
    "y = data_np[:,-1]\n",
    "X = data_np[:,:-1]"
   ]
  },
  {
   "cell_type": "code",
   "execution_count": 7,
   "metadata": {},
   "outputs": [],
   "source": [
    "from sklearn.model_selection import train_test_split"
   ]
  },
  {
   "cell_type": "code",
   "execution_count": 8,
   "metadata": {},
   "outputs": [],
   "source": [
    "X_train, X_test, y_train, y_test = train_test_split(X, y, test_size = 0.3)"
   ]
  },
  {
   "cell_type": "code",
   "execution_count": 9,
   "metadata": {},
   "outputs": [
    {
     "data": {
      "text/plain": [
       "(70, 3)"
      ]
     },
     "execution_count": 9,
     "metadata": {},
     "output_type": "execute_result"
    }
   ],
   "source": [
    "X_train.shape"
   ]
  },
  {
   "cell_type": "code",
   "execution_count": 10,
   "metadata": {},
   "outputs": [
    {
     "data": {
      "text/plain": [
       "(30, 3)"
      ]
     },
     "execution_count": 10,
     "metadata": {},
     "output_type": "execute_result"
    }
   ],
   "source": [
    "X_test.shape"
   ]
  },
  {
   "cell_type": "code",
   "execution_count": 11,
   "metadata": {},
   "outputs": [
    {
     "data": {
      "text/plain": [
       "array([[47,  2, 18],\n",
       "       [53,  1, 24],\n",
       "       [29,  1,  2],\n",
       "       [23,  1,  1],\n",
       "       [40,  1,  9],\n",
       "       [36,  1, 11],\n",
       "       [49,  2, 22],\n",
       "       [46,  1, 19],\n",
       "       [29,  1,  5],\n",
       "       [39,  1, 10],\n",
       "       [59,  1, 33],\n",
       "       [30,  2,  2],\n",
       "       [50,  2, 21],\n",
       "       [28,  2,  2],\n",
       "       [57,  2, 29],\n",
       "       [41,  2, 15],\n",
       "       [23,  2,  3],\n",
       "       [59,  2, 33],\n",
       "       [46,  2, 19],\n",
       "       [33,  1,  3],\n",
       "       [58,  2, 29],\n",
       "       [37,  2, 11],\n",
       "       [47,  2, 21],\n",
       "       [33,  2,  3],\n",
       "       [50,  1, 20],\n",
       "       [55,  1, 30],\n",
       "       [60,  2, 32],\n",
       "       [32,  1,  3],\n",
       "       [37,  2, 10],\n",
       "       [48,  1,  7]])"
      ]
     },
     "execution_count": 11,
     "metadata": {},
     "output_type": "execute_result"
    }
   ],
   "source": [
    "X_test"
   ]
  },
  {
   "cell_type": "markdown",
   "metadata": {},
   "source": [
    "## Feature scaling"
   ]
  },
  {
   "cell_type": "markdown",
   "metadata": {},
   "source": [
    "### standardization"
   ]
  },
  {
   "cell_type": "code",
   "execution_count": 12,
   "metadata": {},
   "outputs": [],
   "source": [
    "from sklearn.preprocessing import StandardScaler\n",
    "scaler = StandardScaler()"
   ]
  },
  {
   "cell_type": "code",
   "execution_count": 13,
   "metadata": {},
   "outputs": [],
   "source": [
    "X_train_std = scaler.fit_transform(X_train)\n",
    "X_test_std = scaler.transform(X_test)"
   ]
  },
  {
   "cell_type": "code",
   "execution_count": 14,
   "metadata": {},
   "outputs": [
    {
     "data": {
      "text/plain": [
       "array([[ 0.45877358,  1.05887304,  0.62359653],\n",
       "       [-0.51438249,  1.05887304, -0.66905232],\n",
       "       [-1.24424955, -0.94440028, -0.9673559 ],\n",
       "       [-0.75767151,  1.05887304, -0.76848684],\n",
       "       [ 0.05329188,  1.05887304, -0.07244516],\n",
       "       [ 0.53986992, -0.94440028,  0.52416201],\n",
       "       [-0.91986419,  1.05887304, -0.9673559 ],\n",
       "       [ 1.18864063,  1.05887304,  1.6179418 ],\n",
       "       [ 1.10754429,  1.05887304,  1.51850727],\n",
       "       [ 1.83741134, -0.94440028,  1.41907275],\n",
       "       [-0.59547883,  1.05887304, -0.9673559 ],\n",
       "       [-0.75767151, -0.94440028, -0.9673559 ],\n",
       "       [ 1.10754429,  1.05887304,  0.62359653],\n",
       "       [-1.24424955,  1.05887304, -0.9673559 ],\n",
       "       [ 1.02644795, -0.94440028,  0.42472748],\n",
       "       [-1.16315321,  1.05887304, -0.9673559 ],\n",
       "       [ 1.43192965, -0.94440028,  1.51850727],\n",
       "       [-0.27109348, -0.94440028, -0.27131421],\n",
       "       [-1.24424955, -0.94440028, -0.9673559 ],\n",
       "       [ 0.05329188, -0.94440028,  0.02698937],\n",
       "       [-1.16315321,  1.05887304, -0.86792137],\n",
       "       [-1.08205687,  1.05887304, -0.9673559 ],\n",
       "       [ 1.756315  , -0.94440028,  2.21454896],\n",
       "       [ 0.70206259, -0.94440028,  0.22585842],\n",
       "       [-1.00096053,  1.05887304, -1.06679042],\n",
       "       [ 1.26973697,  1.05887304,  1.51850727],\n",
       "       [ 1.43192965,  1.05887304,  1.41907275],\n",
       "       [-1.08205687,  1.05887304, -0.9673559 ],\n",
       "       [ 0.13438822, -0.94440028, -0.47018326],\n",
       "       [-0.91986419,  1.05887304, -0.86792137],\n",
       "       [ 0.94535161,  1.05887304,  1.12076917],\n",
       "       [-1.32534589,  1.05887304, -0.9673559 ],\n",
       "       [-0.83876785, -0.94440028, -0.56961779],\n",
       "       [-1.08205687,  1.05887304, -0.86792137],\n",
       "       [ 1.59412233, -0.94440028,  2.01567991],\n",
       "       [ 0.21548456, -0.94440028,  0.22585842],\n",
       "       [ 1.59412233,  1.05887304,  1.81681085],\n",
       "       [-0.02780446, -0.94440028,  0.02698937],\n",
       "       [-1.24424955, -0.94440028, -0.9673559 ],\n",
       "       [ 1.10754429,  1.05887304,  1.02133464],\n",
       "       [ 1.18864063, -0.94440028,  1.31963822],\n",
       "       [ 0.70206259, -0.94440028, -0.17187968],\n",
       "       [-0.75767151, -0.94440028, -0.76848684],\n",
       "       [-0.51438249, -0.94440028, -0.47018326],\n",
       "       [ 1.59412233, -0.94440028,  1.91624538],\n",
       "       [ 1.26973697,  1.05887304,  1.22020369],\n",
       "       [-0.35218982, -0.94440028, -0.37074874],\n",
       "       [-1.08205687, -0.94440028, -0.56961779],\n",
       "       [-1.08205687,  1.05887304, -0.86792137],\n",
       "       [ 0.70206259, -0.94440028,  0.1264239 ],\n",
       "       [-0.1089008 , -0.94440028, -0.47018326],\n",
       "       [-0.59547883, -0.94440028, -0.86792137],\n",
       "       [-0.35218982, -0.94440028, -0.76848684],\n",
       "       [-0.27109348,  1.05887304, -0.66905232],\n",
       "       [ 1.59412233,  1.05887304,  1.71737633],\n",
       "       [-0.18999714, -0.94440028, -0.56961779],\n",
       "       [-0.91986419,  1.05887304, -0.27131421],\n",
       "       [ 0.53986992, -0.94440028, -0.07244516],\n",
       "       [-0.75767151,  1.05887304, -0.86792137],\n",
       "       [-1.16315321, -0.94440028, -0.56961779],\n",
       "       [-0.75767151, -0.94440028, -0.86792137],\n",
       "       [-0.43328616, -0.94440028, -0.76848684],\n",
       "       [-0.91986419, -0.94440028, -0.9673559 ],\n",
       "       [ 0.70206259,  1.05887304,  0.82246559],\n",
       "       [ 1.02644795, -0.94440028,  1.02133464],\n",
       "       [-0.35218982, -0.94440028, -0.47018326],\n",
       "       [ 1.59412233, -0.94440028,  1.91624538],\n",
       "       [ 0.86425527,  1.05887304,  0.42472748],\n",
       "       [-0.91986419,  1.05887304, -0.86792137],\n",
       "       [-1.32534589,  1.05887304, -0.9673559 ]])"
      ]
     },
     "execution_count": 14,
     "metadata": {},
     "output_type": "execute_result"
    }
   ],
   "source": [
    "X_train_std"
   ]
  },
  {
   "cell_type": "code",
   "execution_count": 15,
   "metadata": {},
   "outputs": [
    {
     "data": {
      "text/plain": [
       "array([[-0.95883727, -0.94440028, -0.68061641],\n",
       "       [-0.47010953,  1.05887304, -0.87350365],\n",
       "       [-0.22574567, -0.94440028, -0.58417279],\n",
       "       [-0.7144734 ,  1.05887304, -1.0663909 ],\n",
       "       [ 1.4848014 ,  1.05887304,  1.63403049],\n",
       "       [ 0.91461904,  1.05887304,  0.86248153],\n",
       "       [ 1.15898291,  1.05887304,  1.34469963],\n",
       "       [-1.36611038, -0.94440028, -1.0663909 ],\n",
       "       [ 0.18152744,  1.05887304,  0.2838198 ],\n",
       "       [-1.04029189,  1.05887304, -0.39128555],\n",
       "       [ 0.99607367,  1.05887304,  0.47670704],\n",
       "       [ 1.4848014 , -0.94440028,  1.73047412],\n",
       "       [ 0.91461904, -0.94440028,  0.7660379 ],\n",
       "       [-0.87738264,  1.05887304, -0.96994727],\n",
       "       [ 0.0186182 , -0.94440028, -0.19839831],\n",
       "       [-1.04029189, -0.94440028, -1.0663909 ],\n",
       "       [ 1.4848014 ,  1.05887304,  1.63403049],\n",
       "       [-0.14429104, -0.94440028, -0.10195469],\n",
       "       [-0.79592802, -0.94440028, -0.96994727],\n",
       "       [ 0.7517098 , -0.94440028, -0.48772917],\n",
       "       [-1.20320113,  1.05887304, -1.0663909 ],\n",
       "       [-0.38865491,  1.05887304, -0.77706003],\n",
       "       [-0.79592802, -0.94440028, -0.68061641],\n",
       "       [ 0.67025518,  1.05887304,  0.57315066],\n",
       "       [ 0.99607367,  1.05887304,  0.86248153],\n",
       "       [ 1.4848014 , -0.94440028,  1.82691774],\n",
       "       [-0.87738264,  1.05887304, -0.96994727],\n",
       "       [ 1.32189215, -0.94440028,  1.34469963],\n",
       "       [-0.87738264, -0.94440028, -1.0663909 ],\n",
       "       [-1.20320113,  1.05887304, -1.0663909 ]])"
      ]
     },
     "execution_count": 15,
     "metadata": {},
     "output_type": "execute_result"
    }
   ],
   "source": [
    "X_test_std"
   ]
  },
  {
   "cell_type": "code",
   "execution_count": 19,
   "metadata": {},
   "outputs": [],
   "source": [
    "from sklearn.linear_model import LinearRegression\n",
    "model_std = LinearRegression()"
   ]
  },
  {
   "cell_type": "code",
   "execution_count": 17,
   "metadata": {},
   "outputs": [
    {
     "data": {
      "text/plain": [
       "LinearRegression()"
      ]
     },
     "execution_count": 17,
     "metadata": {},
     "output_type": "execute_result"
    }
   ],
   "source": [
    "model_std.fit(X_train_std, y_train)"
   ]
  },
  {
   "cell_type": "code",
   "execution_count": 18,
   "metadata": {},
   "outputs": [
    {
     "data": {
      "text/plain": [
       "0.6188011358404542"
      ]
     },
     "execution_count": 18,
     "metadata": {},
     "output_type": "execute_result"
    }
   ],
   "source": [
    "model_std.score(X_test_std, y_test)"
   ]
  },
  {
   "cell_type": "markdown",
   "metadata": {
    "collapsed": true
   },
   "source": [
    "### min-max scaling"
   ]
  },
  {
   "cell_type": "code",
   "execution_count": 15,
   "metadata": {},
   "outputs": [],
   "source": [
    "from sklearn.preprocessing import MinMaxScaler\n",
    "scaler_minmax = MinMaxScaler()"
   ]
  },
  {
   "cell_type": "code",
   "execution_count": 16,
   "metadata": {},
   "outputs": [],
   "source": [
    "X_train_minmax = scaler_minmax.fit_transform(X_train)\n",
    "X_test_minmax = scaler_minmax.transform(X_test)"
   ]
  },
  {
   "cell_type": "code",
   "execution_count": 17,
   "metadata": {},
   "outputs": [
    {
     "data": {
      "text/plain": [
       "array([[0.79487179, 0.        , 0.72727273],\n",
       "       [0.35897436, 0.        , 0.15151515],\n",
       "       [0.02564103, 1.        , 0.03030303],\n",
       "       [0.17948718, 0.        , 0.09090909],\n",
       "       [0.66666667, 1.        , 0.54545455],\n",
       "       [0.33333333, 0.        , 0.24242424],\n",
       "       [0.74358974, 0.        , 0.60606061],\n",
       "       [0.28205128, 0.        , 0.09090909],\n",
       "       [0.07692308, 1.        , 0.06060606],\n",
       "       [0.43589744, 1.        , 0.3030303 ],\n",
       "       [0.51282051, 1.        , 0.45454545],\n",
       "       [1.        , 0.        , 0.75757576],\n",
       "       [0.66666667, 1.        , 0.63636364],\n",
       "       [0.97435897, 0.        , 1.        ],\n",
       "       [0.41025641, 1.        , 0.3030303 ],\n",
       "       [0.12820513, 1.        , 0.24242424],\n",
       "       [0.02564103, 0.        , 0.03030303],\n",
       "       [0.28205128, 0.        , 0.09090909],\n",
       "       [0.92307692, 0.        , 0.93939394],\n",
       "       [0.64102564, 0.        , 0.39393939],\n",
       "       [0.46153846, 0.        , 0.18181818],\n",
       "       [0.48717949, 0.        , 0.27272727],\n",
       "       [0.56410256, 1.        , 0.51515152],\n",
       "       [0.02564103, 0.        , 0.03030303],\n",
       "       [0.17948718, 1.        , 0.06060606],\n",
       "       [0.46153846, 0.        , 0.3030303 ],\n",
       "       [0.30769231, 0.        , 0.21212121],\n",
       "       [0.64102564, 1.        , 0.57575758],\n",
       "       [0.07692308, 1.        , 0.03030303],\n",
       "       [0.05128205, 1.        , 0.09090909]])"
      ]
     },
     "execution_count": 17,
     "metadata": {},
     "output_type": "execute_result"
    }
   ],
   "source": [
    "X_test_minmax"
   ]
  },
  {
   "cell_type": "code",
   "execution_count": 20,
   "metadata": {},
   "outputs": [
    {
     "data": {
      "text/plain": [
       "LinearRegression()"
      ]
     },
     "execution_count": 20,
     "metadata": {},
     "output_type": "execute_result"
    }
   ],
   "source": [
    "model_minmax = LinearRegression()\n",
    "model_minmax.fit(X_train_minmax, y_train)"
   ]
  },
  {
   "cell_type": "code",
   "execution_count": 91,
   "metadata": {},
   "outputs": [
    {
     "data": {
      "text/plain": [
       "0.6682911567046792"
      ]
     },
     "execution_count": 91,
     "metadata": {},
     "output_type": "execute_result"
    }
   ],
   "source": [
    "model_minmax.score(X_test_minmax, y_test)"
   ]
  },
  {
   "cell_type": "code",
   "execution_count": null,
   "metadata": {
    "collapsed": true
   },
   "outputs": [],
   "source": []
  }
 ],
 "metadata": {
  "kernelspec": {
   "display_name": "Python 3 (ipykernel)",
   "language": "python",
   "name": "python3"
  },
  "language_info": {
   "codemirror_mode": {
    "name": "ipython",
    "version": 3
   },
   "file_extension": ".py",
   "mimetype": "text/x-python",
   "name": "python",
   "nbconvert_exporter": "python",
   "pygments_lexer": "ipython3",
   "version": "3.9.7"
  }
 },
 "nbformat": 4,
 "nbformat_minor": 2
}
