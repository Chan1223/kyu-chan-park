{
 "cells": [
  {
   "cell_type": "code",
   "execution_count": 1,
   "metadata": {},
   "outputs": [],
   "source": [
    "import pandas as pd\n",
    "import numpy as np"
   ]
  },
  {
   "cell_type": "code",
   "execution_count": 2,
   "metadata": {},
   "outputs": [],
   "source": [
    "data = pd.read_csv('cluster_example_data.csv')\n",
    "data = data.values"
   ]
  },
  {
   "cell_type": "code",
   "execution_count": 3,
   "metadata": {},
   "outputs": [],
   "source": [
    "np.random.shuffle(data)"
   ]
  },
  {
   "cell_type": "code",
   "execution_count": 4,
   "metadata": {},
   "outputs": [],
   "source": [
    "X = data[:,:-1]\n",
    "ids = data[:,-1]"
   ]
  },
  {
   "cell_type": "code",
   "execution_count": 5,
   "metadata": {},
   "outputs": [
    {
     "data": {
      "text/plain": [
       "array([[44, 12],\n",
       "       [52, 22],\n",
       "       [48,  4],\n",
       "       [44,  2],\n",
       "       [48, 18],\n",
       "       [40,  3],\n",
       "       [34, 15],\n",
       "       [38, 20],\n",
       "       [30,  2],\n",
       "       [52,  4],\n",
       "       [34, 22],\n",
       "       [52, 10],\n",
       "       [34,  5],\n",
       "       [24, 10],\n",
       "       [25,  5],\n",
       "       [60, 19],\n",
       "       [25,  3],\n",
       "       [60,  2],\n",
       "       [48,  5],\n",
       "       [52,  4],\n",
       "       [30,  3],\n",
       "       [52,  2],\n",
       "       [25, 18],\n",
       "       [44,  8],\n",
       "       [34, 18],\n",
       "       [25, 15]])"
      ]
     },
     "execution_count": 5,
     "metadata": {},
     "output_type": "execute_result"
    }
   ],
   "source": [
    "X"
   ]
  },
  {
   "cell_type": "code",
   "execution_count": 6,
   "metadata": {},
   "outputs": [],
   "source": [
    "import matplotlib.pyplot as plt"
   ]
  },
  {
   "cell_type": "code",
   "execution_count": 7,
   "metadata": {},
   "outputs": [
    {
     "data": {
      "image/png": "[encoded data removed]",
      "text/plain": [
       "<Figure size 432x288 with 1 Axes>"
      ]
     },
     "metadata": {
      "needs_background": "light"
     },
     "output_type": "display_data"
    }
   ],
   "source": [
    "for V in X:\n",
    "    plt.scatter(V[0],V[1])\n",
    "plt.ylim(0, 30) # 경계 지정하기\n",
    "plt.xlim(20, 70)\n",
    "plt.show()"
   ]
  },
  {
   "cell_type": "code",
   "execution_count": 24,
   "metadata": {},
   "outputs": [],
   "source": [
    "from sklearn.cluster import AgglomerativeClustering"
   ]
  },
  {
   "cell_type": "code",
   "execution_count": 34,
   "metadata": {},
   "outputs": [],
   "source": [
    "hc = AgglomerativeClustering(linkage='average', affinity='cosine', n_clusters=4)"
   ]
  },
  {
   "cell_type": "code",
   "execution_count": 35,
   "metadata": {},
   "outputs": [],
   "source": [
    "cluster_idf = hc.fit(X)"
   ]
  },
  {
   "cell_type": "code",
   "execution_count": 36,
   "metadata": {},
   "outputs": [
    {
     "data": {
      "text/plain": [
       "array([3, 1, 0, 0, 1, 0, 1, 1, 0, 0, 2, 0, 0, 1, 0, 3, 0, 0, 0, 0, 0, 0,\n",
       "       2, 0, 1, 2])"
      ]
     },
     "execution_count": 36,
     "metadata": {},
     "output_type": "execute_result"
    }
   ],
   "source": [
    "cluster_idf.labels_"
   ]
  },
  {
   "cell_type": "code",
   "execution_count": 37,
   "metadata": {},
   "outputs": [
    {
     "name": "stdout",
     "output_type": "stream",
     "text": [
      "4 3\n",
      "6 1\n",
      "16 0\n",
      "15 0\n",
      "5 1\n",
      "14 0\n",
      "21 1\n",
      "3 1\n",
      "2 0\n",
      "17 0\n",
      "9 2\n",
      "25 0\n",
      "0 0\n",
      "12 1\n",
      "1 0\n",
      "7 3\n",
      "19 0\n",
      "18 0\n",
      "22 0\n",
      "20 0\n",
      "13 0\n",
      "24 0\n",
      "10 2\n",
      "23 0\n",
      "8 1\n",
      "11 2\n"
     ]
    }
   ],
   "source": [
    "cluster_nums = []\n",
    "for data_num, cluster_num in enumerate(cluster_idf.labels_): \n",
    "    cluster_nums.append(cluster_num)\n",
    "    print(ids[data_num], cluster_num)"
   ]
  },
  {
   "cell_type": "code",
   "execution_count": 38,
   "metadata": {},
   "outputs": [
    {
     "data": {
      "image/png": "[encoded data removed]",
      "text/plain": [
       "<Figure size 432x288 with 1 Axes>"
      ]
     },
     "metadata": {
      "needs_background": "light"
     },
     "output_type": "display_data"
    }
   ],
   "source": [
    "import matplotlib.pyplot as plt\n",
    "for k in range(len(ids)):\n",
    "    if cluster_nums[k] == 0:\n",
    "        plt.scatter(X[k][0],X[k][1], c='red')\n",
    "    elif cluster_nums[k] == 1:\n",
    "        plt.scatter(X[k][0],X[k][1], c='blue')\n",
    "    elif cluster_nums[k] == 2:\n",
    "        plt.scatter(X[k][0],X[k][1], c='green')\n",
    "    elif cluster_nums[k] == 3:\n",
    "        plt.scatter(X[k][0],X[k][1], c='yellow')\n",
    "plt.ylim(0, 30) # 경계 지정하기\n",
    "plt.xlim(20, 70)\n",
    "plt.show()"
   ]
  },
  {
   "cell_type": "code",
   "execution_count": 39,
   "metadata": {},
   "outputs": [],
   "source": [
    "# cluster_idf1 = AgglomerativeClustering(linkage='single' , affinity='cosine', n_clusters=4).fit(X)\n",
    "# cluster_idf1 = AgglomerativeClustering(linkage='single' , affinity='euclidean', n_clusters=4).fit(X)\n",
    "cluster_idf1 = AgglomerativeClustering(linkage='average' , affinity='euclidean', n_clusters=4).fit(X)"
   ]
  },
  {
   "cell_type": "code",
   "execution_count": 40,
   "metadata": {},
   "outputs": [
    {
     "data": {
      "text/plain": [
       "array([0, 2, 0, 0, 2, 0, 1, 1, 3, 0, 1, 0, 3, 3, 3, 2, 3, 0, 0, 0, 3, 0,\n",
       "       1, 0, 1, 1])"
      ]
     },
     "execution_count": 40,
     "metadata": {},
     "output_type": "execute_result"
    }
   ],
   "source": [
    "cluster_idf1.labels_"
   ]
  },
  {
   "cell_type": "code",
   "execution_count": 41,
   "metadata": {},
   "outputs": [
    {
     "name": "stdout",
     "output_type": "stream",
     "text": [
      "4 0\n",
      "6 2\n",
      "16 0\n",
      "15 0\n",
      "5 2\n",
      "14 0\n",
      "21 1\n",
      "3 1\n",
      "2 3\n",
      "17 0\n",
      "9 1\n",
      "25 0\n",
      "0 3\n",
      "12 3\n",
      "1 3\n",
      "7 2\n",
      "19 3\n",
      "18 0\n",
      "22 0\n",
      "20 0\n",
      "13 3\n",
      "24 0\n",
      "10 1\n",
      "23 0\n",
      "8 1\n",
      "11 1\n"
     ]
    },
    {
     "data": {
      "image/png": "[encoded data removed]",
      "text/plain": [
       "<Figure size 432x288 with 1 Axes>"
      ]
     },
     "metadata": {
      "needs_background": "light"
     },
     "output_type": "display_data"
    }
   ],
   "source": [
    "cluster_nums = []\n",
    "for data_num, cluster_num in enumerate(cluster_idf1.labels_): \n",
    "    cluster_nums.append(cluster_num)\n",
    "    print(ids[data_num], cluster_num)\n",
    "for k in range(len(ids)):\n",
    "    if cluster_nums[k] == 0:\n",
    "        plt.scatter(X[k][0],X[k][1], c='red')\n",
    "    elif cluster_nums[k] == 1:\n",
    "        plt.scatter(X[k][0],X[k][1], c='blue')\n",
    "    elif cluster_nums[k] == 2:\n",
    "        plt.scatter(X[k][0],X[k][1], c='green')\n",
    "    elif cluster_nums[k] == 3:\n",
    "        plt.scatter(X[k][0],X[k][1], c='yellow')\n",
    "plt.ylim(0, 30) # 경계 지정하기\n",
    "plt.xlim(20, 70)\n",
    "plt.show()"
   ]
  },
  {
   "cell_type": "code",
   "execution_count": 42,
   "metadata": {},
   "outputs": [
    {
     "data": {
      "image/png": "[encoded data removed]",
      "text/plain": [
       "<Figure size 1800x720 with 1 Axes>"
      ]
     },
     "metadata": {
      "needs_background": "light"
     },
     "output_type": "display_data"
    }
   ],
   "source": [
    "from scipy.cluster.hierarchy import dendrogram, linkage\n",
    "%matplotlib inline\n",
    "np.set_printoptions(precision=5, suppress=True)\n",
    "# Z = linkage(X, 'ward')\n",
    "# Z = linkage(X, 'single')\n",
    "Z = linkage(X, 'average')\n",
    "plt.figure(figsize=(25, 10))\n",
    "plt.title('Hierarchical Clustering Dendrogram', fontsize=18)\n",
    "plt.xlabel('Observation ID', fontsize=18)\n",
    "plt.ylabel('Distance', fontsize=18)\n",
    "dendrogram(\n",
    "    Z,\n",
    "    leaf_rotation=90.,  # rotates the x axis labels\n",
    "    leaf_font_size=14.,  # font size for the x axis labels\n",
    ")\n",
    "plt.show()"
   ]
  }
 ],
 "metadata": {
  "kernelspec": {
   "display_name": "Python 3 (ipykernel)",
   "language": "python",
   "name": "python3"
  },
  "language_info": {
   "codemirror_mode": {
    "name": "ipython",
    "version": 3
   },
   "file_extension": ".py",
   "mimetype": "text/x-python",
   "name": "python",
   "nbconvert_exporter": "python",
   "pygments_lexer": "ipython3",
   "version": "3.9.7"
  }
 },
 "nbformat": 4,
 "nbformat_minor": 2
}
