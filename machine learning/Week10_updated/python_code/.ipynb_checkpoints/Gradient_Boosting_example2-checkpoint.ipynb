{
 "cells": [
  {
   "cell_type": "code",
   "execution_count": 1,
   "metadata": {},
   "outputs": [],
   "source": [
    "import pandas as pd\n",
    "import numpy as np"
   ]
  },
  {
   "cell_type": "code",
   "execution_count": 2,
   "metadata": {},
   "outputs": [],
   "source": [
    "data = pd.read_csv('Hitters_new.csv')\n",
    "data_np = data.values"
   ]
  },
  {
   "cell_type": "code",
   "execution_count": 3,
   "metadata": {},
   "outputs": [],
   "source": [
    "X=data_np[:,1:3]\n",
    "y = data_np[:,0]"
   ]
  },
  {
   "cell_type": "code",
   "execution_count": 4,
   "metadata": {},
   "outputs": [
    {
     "data": {
      "text/plain": [
       "array([[41, 2],\n",
       "       [54, 1],\n",
       "       [37, 2],\n",
       "       [53, 2],\n",
       "       [78, 1],\n",
       "       [51, 1],\n",
       "       [68, 1],\n",
       "       [81, 2],\n",
       "       [53, 3],\n",
       "       [39, 3],\n",
       "       [64, 1],\n",
       "       [54, 1],\n",
       "       [102, 5],\n",
       "       [58, 1],\n",
       "       [99, 4],\n",
       "       [60, 2],\n",
       "       [113, 1],\n",
       "       [40, 3],\n",
       "       [56, 2],\n",
       "       [66, 3],\n",
       "       [210, 6],\n",
       "       [87, 2],\n",
       "       [41, 2],\n",
       "       [101, 1],\n",
       "       [73, 3],\n",
       "       [92, 1],\n",
       "       [103, 2],\n",
       "       [95, 10],\n",
       "       [71, 3],\n",
       "       [117, 6],\n",
       "       [142, 4],\n",
       "       [103, 2],\n",
       "       [108, 3],\n",
       "       [82, 2],\n",
       "       [86, 1],\n",
       "       [73, 4],\n",
       "       [109, 1],\n",
       "       [43, 3],\n",
       "       [117, 1],\n",
       "       [91, 2],\n",
       "       [72, 5],\n",
       "       [32, 8],\n",
       "       [112, 2],\n",
       "       [60, 3],\n",
       "       [75, 3],\n",
       "       [57, 3],\n",
       "       [149, 1],\n",
       "       [138, 3],\n",
       "       [92, 3],\n",
       "       [93, 2],\n",
       "       [96, 4],\n",
       "       [118, 4],\n",
       "       [76, 3],\n",
       "       [145, 2],\n",
       "       [138, 3],\n",
       "       [139, 2],\n",
       "       [144, 2],\n",
       "       [172, 1],\n",
       "       [135, 1],\n",
       "       [46, 5],\n",
       "       [39, 9],\n",
       "       [120, 3],\n",
       "       [137, 2],\n",
       "       [46, 4],\n",
       "       [120, 4],\n",
       "       [56, 5],\n",
       "       [27, 4],\n",
       "       [68, 6],\n",
       "       [101, 3],\n",
       "       [77, 20],\n",
       "       [163, 3],\n",
       "       [152, 2],\n",
       "       [140, 4],\n",
       "       [127, 2],\n",
       "       [97, 4],\n",
       "       [167, 4],\n",
       "       [132, 3],\n",
       "       [152, 3],\n",
       "       [108, 3],\n",
       "       [53, 4],\n",
       "       [70, 12],\n",
       "       [56, 4],\n",
       "       [61, 17],\n",
       "       [43, 13],\n",
       "       [76, 4],\n",
       "       [47, 6],\n",
       "       [57, 5],\n",
       "       [200, 4],\n",
       "       [66, 14],\n",
       "       [56, 12],\n",
       "       [76, 6],\n",
       "       [86, 4],\n",
       "       [70, 4],\n",
       "       [41, 16],\n",
       "       [52, 6],\n",
       "       [44, 16],\n",
       "       [96, 4],\n",
       "       [39, 14],\n",
       "       [147, 10],\n",
       "       [69, 4],\n",
       "       [43, 7],\n",
       "       [54, 5],\n",
       "       [49, 7],\n",
       "       [115, 3],\n",
       "       [92, 6],\n",
       "       [85, 7],\n",
       "       [96, 5],\n",
       "       [68, 6],\n",
       "       [81, 17],\n",
       "       [103, 6],\n",
       "       [70, 18],\n",
       "       [103, 8],\n",
       "       [58, 4],\n",
       "       [63, 10],\n",
       "       [76, 8],\n",
       "       [93, 5],\n",
       "       [122, 4],\n",
       "       [213, 4],\n",
       "       [85, 8],\n",
       "       [70, 15],\n",
       "       [223, 3],\n",
       "       [49, 8],\n",
       "       [76, 5],\n",
       "       [126, 6],\n",
       "       [139, 5],\n",
       "       [84, 5],\n",
       "       [68, 18],\n",
       "       [52, 12],\n",
       "       [102, 6],\n",
       "       [78, 12],\n",
       "       [157, 10],\n",
       "       [82, 5],\n",
       "       [68, 7],\n",
       "       [113, 5],\n",
       "       [103, 15],\n",
       "       [83, 5],\n",
       "       [70, 15],\n",
       "       [47, 11],\n",
       "       [83, 14],\n",
       "       [77, 12],\n",
       "       [90, 10],\n",
       "       [81, 14],\n",
       "       [114, 4],\n",
       "       [159, 6],\n",
       "       [130, 3],\n",
       "       [101, 20],\n",
       "       [110, 7],\n",
       "       [141, 11],\n",
       "       [78, 5],\n",
       "       [145, 11],\n",
       "       [32, 19],\n",
       "       [53, 9],\n",
       "       [159, 10],\n",
       "       [141, 15],\n",
       "       [81, 7],\n",
       "       [169, 8],\n",
       "       [122, 18],\n",
       "       [94, 9],\n",
       "       [113, 4],\n",
       "       [131, 6],\n",
       "       [124, 7],\n",
       "       [110, 9],\n",
       "       [179, 5],\n",
       "       [154, 6],\n",
       "       [128, 13],\n",
       "       [119, 12],\n",
       "       [116, 6],\n",
       "       [83, 9],\n",
       "       [120, 8],\n",
       "       [94, 13],\n",
       "       [168, 5],\n",
       "       [152, 5],\n",
       "       [161, 4],\n",
       "       [184, 5],\n",
       "       [157, 4],\n",
       "       [65, 9],\n",
       "       [174, 6],\n",
       "       [158, 5],\n",
       "       [77, 6],\n",
       "       [101, 12],\n",
       "       [60, 6],\n",
       "       [77, 16],\n",
       "       [148, 13],\n",
       "       [80, 7],\n",
       "       [127, 5],\n",
       "       [73, 7],\n",
       "       [136, 10],\n",
       "       [96, 15],\n",
       "       [126, 11],\n",
       "       [74, 10],\n",
       "       [178, 6],\n",
       "       [113, 12],\n",
       "       [211, 5],\n",
       "       [169, 11],\n",
       "       [129, 10],\n",
       "       [154, 14],\n",
       "       [104, 7],\n",
       "       [163, 4],\n",
       "       [52, 24],\n",
       "       [135, 9],\n",
       "       [112, 7],\n",
       "       [163, 6],\n",
       "       [133, 17],\n",
       "       [158, 15],\n",
       "       [183, 5],\n",
       "       [168, 18],\n",
       "       [131, 7],\n",
       "       [149, 7],\n",
       "       [84, 10],\n",
       "       [110, 7],\n",
       "       [146, 6],\n",
       "       [91, 13],\n",
       "       [106, 14],\n",
       "       [131, 14],\n",
       "       [119, 9],\n",
       "       [136, 11],\n",
       "       [101, 17],\n",
       "       [94, 7],\n",
       "       [119, 7],\n",
       "       [136, 12],\n",
       "       [137, 14],\n",
       "       [171, 6],\n",
       "       [42, 10],\n",
       "       [4, 1],\n",
       "       [141, 8],\n",
       "       [137, 15],\n",
       "       [152, 6],\n",
       "       [139, 17],\n",
       "       [169, 7],\n",
       "       [144, 8],\n",
       "       [150, 14],\n",
       "       [163, 13],\n",
       "       [170, 11],\n",
       "       [132, 6],\n",
       "       [174, 14],\n",
       "       [159, 9],\n",
       "       [70, 16],\n",
       "       [92, 13],\n",
       "       [147, 7],\n",
       "       [198, 5],\n",
       "       [127, 7],\n",
       "       [168, 9],\n",
       "       [123, 4],\n",
       "       [170, 6],\n",
       "       [123, 9],\n",
       "       [55, 12],\n",
       "       [118, 8],\n",
       "       [186, 6],\n",
       "       [147, 6],\n",
       "       [177, 6],\n",
       "       [142, 18],\n",
       "       [128, 14],\n",
       "       [207, 5],\n",
       "       [160, 8],\n",
       "       [171, 13],\n",
       "       [148, 14],\n",
       "       [163, 11],\n",
       "       [125, 13],\n",
       "       [144, 9],\n",
       "       [238, 5],\n",
       "       [1, 2],\n",
       "       [200, 13],\n",
       "       [151, 10]], dtype=object)"
      ]
     },
     "execution_count": 4,
     "metadata": {},
     "output_type": "execute_result"
    }
   ],
   "source": [
    "X"
   ]
  },
  {
   "cell_type": "code",
   "execution_count": 5,
   "metadata": {},
   "outputs": [],
   "source": [
    "from sklearn.model_selection import train_test_split\n",
    "X_train, X_test, y_train, y_test = train_test_split(X, y, test_size = 0.3)"
   ]
  },
  {
   "cell_type": "code",
   "execution_count": 6,
   "metadata": {},
   "outputs": [],
   "source": [
    "from sklearn.ensemble import GradientBoostingRegressor\n",
    "gbrt = GradientBoostingRegressor(max_depth = 2, n_estimators = 10)"
   ]
  },
  {
   "cell_type": "code",
   "execution_count": 7,
   "metadata": {},
   "outputs": [
    {
     "data": {
      "text/plain": [
       "GradientBoostingRegressor(max_depth=2, n_estimators=10)"
      ]
     },
     "execution_count": 7,
     "metadata": {},
     "output_type": "execute_result"
    }
   ],
   "source": [
    "gbrt.fit(X_train, y_train)"
   ]
  },
  {
   "cell_type": "code",
   "execution_count": 8,
   "metadata": {},
   "outputs": [],
   "source": [
    "y_preds = gbrt.predict(X_test)"
   ]
  },
  {
   "cell_type": "code",
   "execution_count": 9,
   "metadata": {},
   "outputs": [
    {
     "data": {
      "text/plain": [
       "0.35027934201722377"
      ]
     },
     "execution_count": 9,
     "metadata": {},
     "output_type": "execute_result"
    }
   ],
   "source": [
    "gbrt.score(X_test, y_test)"
   ]
  },
  {
   "cell_type": "code",
   "execution_count": 10,
   "metadata": {},
   "outputs": [
    {
     "data": {
      "text/plain": [
       "0.35027934201722377"
      ]
     },
     "execution_count": 10,
     "metadata": {},
     "output_type": "execute_result"
    }
   ],
   "source": [
    "from sklearn.metrics import r2_score\n",
    "r2_score(y_test, y_preds)"
   ]
  },
  {
   "cell_type": "code",
   "execution_count": null,
   "metadata": {
    "collapsed": true
   },
   "outputs": [],
   "source": []
  }
 ],
 "metadata": {
  "kernelspec": {
   "display_name": "Python 3 (ipykernel)",
   "language": "python",
   "name": "python3"
  },
  "language_info": {
   "codemirror_mode": {
    "name": "ipython",
    "version": 3
   },
   "file_extension": ".py",
   "mimetype": "text/x-python",
   "name": "python",
   "nbconvert_exporter": "python",
   "pygments_lexer": "ipython3",
   "version": "3.8.5"
  }
 },
 "nbformat": 4,
 "nbformat_minor": 2
}
