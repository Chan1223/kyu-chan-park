{
 "cells": [
  {
   "cell_type": "markdown",
   "id": "5a5eceb5",
   "metadata": {},
   "source": [
    "## 기말 모의 문제\n",
    "\n",
    "대학교에서 개설되는 두 유형의 교과목을 모델링하려고 한다. 교과목은 문자 학점 교 과목과 00 교과목으로 나누어진다.\n",
    "- 문자 학점 교과목은 A, B, C, D, F 학점을 부여한다.\n",
    "\n",
    "<처리조건>\n",
    "#### 1. 교과목 모델하는 Course 클래스를 작성하시오.\n",
    "1. 모든 교과목은 이름, 출석 점수를 가진다.\n",
    "2. 교과목의 이름을 주어진 값으로 초기화하면 Course 객체를 생성할 수 있어야 한다. \n",
    "3. 교과목의 이름과 출석 점수를 한꺼번에 알려주어야 한다.\n",
    "4. 교과목의 이름과 출석점수를 각각 주어진 값으로 변경할 수 있어야 한다.\n",
    "5. 교과목의 학점인 “I”를 반환해야 한다."
   ]
  },
  {
   "cell_type": "code",
   "execution_count": 101,
   "id": "02eb165c",
   "metadata": {},
   "outputs": [],
   "source": [
    "# 교과목 모델 Course 클래스\n",
    "class Course:\n",
    "    def __init__(self, name):\n",
    "        self.name = name\n",
    "        self.attendance = 100\n",
    "        \n",
    "    def setCourse(self, name, attendance):\n",
    "        self.name = name\n",
    "        self.attendance = attendance\n",
    "    \n",
    "    def getGrade(self):\n",
    "        grade = 'i'\n",
    "        return grade\n",
    "    \n",
    "    def __str__(self):\n",
    "        result = f'교과목 이름: {self.name}, 출석점수 : {self.attendance}'\n",
    "        return result"
   ]
  },
  {
   "cell_type": "code",
   "execution_count": 95,
   "id": "d95a0d2e",
   "metadata": {},
   "outputs": [
    {
     "name": "stdout",
     "output_type": "stream",
     "text": [
      "교과목 이름: math, 출석점수 : 100\n"
     ]
    }
   ],
   "source": [
    "a = Course('math')\n",
    "print(a)"
   ]
  },
  {
   "cell_type": "code",
   "execution_count": 92,
   "id": "f7e3ec32",
   "metadata": {},
   "outputs": [
    {
     "name": "stdout",
     "output_type": "stream",
     "text": [
      "교과목 이름: programming, 출석점수 : 50\n"
     ]
    }
   ],
   "source": [
    "a.setCourse('programming', 50)\n",
    "print(a)"
   ]
  },
  {
   "cell_type": "code",
   "execution_count": 98,
   "id": "3812774e",
   "metadata": {},
   "outputs": [
    {
     "data": {
      "text/plain": [
       "'i'"
      ]
     },
     "execution_count": 98,
     "metadata": {},
     "output_type": "execute_result"
    }
   ],
   "source": [
    "a.getGrade()"
   ]
  },
  {
   "cell_type": "markdown",
   "id": "f40cc441",
   "metadata": {},
   "source": [
    "#### 2. 문자 학점 교과목을 모델하는 LetterGradeCourse라는 클래스를 작성하시오.\n",
    "1. 문자 학점 교과목은 추가적으로 과제 점수와 시험 점수를 가진다.\n",
    "2. 문자 학점 교과목의 이름을 주어진 값으로 초기화하고 출석점수, 과제점수, 시험 점수를 0 으로 초기화하면서 LetterGradeCourse 객체를 생성할 수 있어야 한다.\n",
    "3. 문자 학점 교과목의 과제 점수와 시험 점수를 각각 주어진 값으로 변경할 수 있어야 한다. \n",
    "4. 문자 학점 교과목의 모든 데이터를 알려 주어야 한다.\n",
    "5. 문자 학점 교과목의 총점을 계산하여 반환해야 한다.\n",
    "6. 총점에 출석 점수, 과제 점수, 시험 점수의 반영률은 각각 20%, 30%, 50%이다.\n",
    "7. 문자 학점 교과목의 학점을 반환해야 한다. 문자 학점 교과목의 총점에 기초한 학점 부여 기준은 다음과 같다.\n",
    "- 총점이 90점 이상이면 학점은 A이다.\n",
    "- 총점이 80점 이상이고 90점 미만이면 학점은 B이다.\n",
    "- 총점이 70점 이상이고 80점 미만이면 학점은 C이다.\n",
    "- 총점이 60점 이상이고 70점 미만이면 학점은 D이다.\n",
    "- 총점이 60점 미만이면 학점은 F이다."
   ]
  },
  {
   "cell_type": "code",
   "execution_count": 102,
   "id": "99427ee0",
   "metadata": {},
   "outputs": [],
   "source": [
    "# 문자 학점 교과목을 모델하는 LetterGradeCourse\n",
    "class LetterGradeCourse(Course):\n",
    "    def __init__(self, name):\n",
    "        super().__init__(name)\n",
    "        self.attendance = 0\n",
    "        self.assignment = 0\n",
    "        self.exam = 0\n",
    "        \n",
    "    def setScore(self, assignment, exam, attendance):\n",
    "        self.assignment = assignment\n",
    "        self.exam = exam\n",
    "        self.attendance = attendance\n",
    "        \n",
    "    def getTotal(self):\n",
    "        total = self.attendance * 0.2 + self.assignment * 0.3 + self.exam * 0.5\n",
    "        return int(total)\n",
    "        \n",
    "    def getGrade(self):\n",
    "        score = self.getTotal()\n",
    "        if score >= 90:\n",
    "            grade = 'A'\n",
    "        elif score >= 80:\n",
    "            grade = 'B'\n",
    "        elif score >= 70:\n",
    "            grade = 'C'\n",
    "        elif score >= 60:\n",
    "            grade = 'D'\n",
    "        else :\n",
    "            grade = 'F'\n",
    "        return grade\n",
    "        \n",
    "    def __str__(self):\n",
    "        result = f'{super().__str__()}, 과제점수 : {self.assignment}, 시험점수 : {self.exam}'\n",
    "        return result"
   ]
  },
  {
   "cell_type": "code",
   "execution_count": 80,
   "id": "3c2e5727",
   "metadata": {},
   "outputs": [],
   "source": [
    "b = LetterGradeCourse('music')"
   ]
  },
  {
   "cell_type": "code",
   "execution_count": 81,
   "id": "03976201",
   "metadata": {},
   "outputs": [
    {
     "name": "stdout",
     "output_type": "stream",
     "text": [
      "0\n",
      "0\n",
      "0\n"
     ]
    }
   ],
   "source": [
    "print(b.attendance)\n",
    "print(b.assignment)\n",
    "print(b.exam)"
   ]
  },
  {
   "cell_type": "code",
   "execution_count": 87,
   "id": "4ed56f87",
   "metadata": {},
   "outputs": [],
   "source": [
    "b.setScore(90, 80)"
   ]
  },
  {
   "cell_type": "code",
   "execution_count": 88,
   "id": "239d21be",
   "metadata": {},
   "outputs": [
    {
     "data": {
      "text/plain": [
       "67"
      ]
     },
     "execution_count": 88,
     "metadata": {},
     "output_type": "execute_result"
    }
   ],
   "source": [
    "b.getTotal()"
   ]
  },
  {
   "cell_type": "code",
   "execution_count": 89,
   "id": "2b340214",
   "metadata": {},
   "outputs": [
    {
     "name": "stdout",
     "output_type": "stream",
     "text": [
      "교과목 이름: music, 출석점수 : 0, 과제점수 : 90, 시험점수 : 80\n"
     ]
    }
   ],
   "source": [
    "print(b)"
   ]
  },
  {
   "cell_type": "code",
   "execution_count": 90,
   "id": "c6aa2440",
   "metadata": {},
   "outputs": [
    {
     "data": {
      "text/plain": [
       "'D'"
      ]
     },
     "execution_count": 90,
     "metadata": {},
     "output_type": "execute_result"
    }
   ],
   "source": [
    "b.getGrade()"
   ]
  },
  {
   "cell_type": "markdown",
   "id": "1b0dbec5",
   "metadata": {},
   "source": [
    "### 3. 1번, 2번에서 작성한 클래스를 시험하는 CourseDriver 클래스를 작성하시오.\n",
    "이 클래스에서 해야 될 일은 다음과 같다.\n",
    "1. LectureGradeCourse 객체를 생성한다.\n",
    "2. 객체의 출석 점수, 과제 점수, 시험 점수를 입력한다. \n",
    "3. 객체의 모든 데이터를 출력한다.\n",
    "4. 생성한 객체의 학점을 부여한 후 출력한다."
   ]
  },
  {
   "cell_type": "code",
   "execution_count": 126,
   "id": "e99e5189",
   "metadata": {},
   "outputs": [
    {
     "name": "stdout",
     "output_type": "stream",
     "text": [
      "출석점수, 과제점수, 시험점수60 80 70\n",
      "교과목 이름: course, 출석점수 : 70, 과제점수 : 60, 시험점수 : 80\n",
      "C\n"
     ]
    }
   ],
   "source": [
    "class CourseDriver():\n",
    "    a = LetterGradeCourse('course')\n",
    "    n1, n2, n3 = map(int, input('출석점수, 과제점수, 시험점수').split())\n",
    "    a.setScore(n1, n2, n3)\n",
    "    print(a)\n",
    "    print(a.getGrade())"
   ]
  }
 ],
 "metadata": {
  "kernelspec": {
   "display_name": "Python 3 (ipykernel)",
   "language": "python",
   "name": "python3"
  },
  "language_info": {
   "codemirror_mode": {
    "name": "ipython",
    "version": 3
   },
   "file_extension": ".py",
   "mimetype": "text/x-python",
   "name": "python",
   "nbconvert_exporter": "python",
   "pygments_lexer": "ipython3",
   "version": "3.9.7"
  }
 },
 "nbformat": 4,
 "nbformat_minor": 5
}
