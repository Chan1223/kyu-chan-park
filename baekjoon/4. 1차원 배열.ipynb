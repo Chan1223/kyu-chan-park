{
 "cells": [
  {
   "cell_type": "markdown",
   "id": "ef1c39bc",
   "metadata": {},
   "source": [
    "### 최소, 최대"
   ]
  },
  {
   "cell_type": "code",
   "execution_count": null,
   "id": "aab22d03",
   "metadata": {},
   "outputs": [],
   "source": [
    "import sys \n",
    "\n",
    "n = int(input())\n",
    "a = list(map(int, sys.stdin.readline().split()))\n",
    "print(min(a), max(a))"
   ]
  },
  {
   "cell_type": "markdown",
   "id": "b64179e3",
   "metadata": {},
   "source": [
    "### 최댓값"
   ]
  },
  {
   "cell_type": "code",
   "execution_count": null,
   "id": "e70e01b0",
   "metadata": {},
   "outputs": [],
   "source": [
    "import sys \n",
    "\n",
    "a = []\n",
    "\n",
    "while True:\n",
    "    \n",
    "    num = sys.stdin.readline()\n",
    "    if num == '':\n",
    "        break\n",
    "    a.append(int(num))\n",
    "\n",
    "print(max(a))\n",
    "print(a.index(max(a))+1)"
   ]
  },
  {
   "cell_type": "markdown",
   "id": "feeed76a",
   "metadata": {},
   "source": [
    "### 숫자의 개수"
   ]
  },
  {
   "cell_type": "code",
   "execution_count": null,
   "id": "bd6d7442",
   "metadata": {},
   "outputs": [],
   "source": [
    "a = int(input())\n",
    "b = int(input())\n",
    "c = int(input())\n",
    "\n",
    "num = str(a * b * c)\n",
    "for i in range(0, 10):\n",
    "    print(num.count(f'{str(i)}'))"
   ]
  },
  {
   "cell_type": "markdown",
   "id": "7f340a6c",
   "metadata": {},
   "source": [
    "### 나머지"
   ]
  },
  {
   "cell_type": "code",
   "execution_count": null,
   "id": "ac3daa4e",
   "metadata": {},
   "outputs": [],
   "source": [
    "import sys \n",
    "\n",
    "count = []\n",
    "\n",
    "while True:\n",
    "    num = sys.stdin.readline()\n",
    "\n",
    "    if num == '':\n",
    "        break\n",
    "        \n",
    "    if int(num) % 42 not in count:\n",
    "        count.append(int(num) % 42)\n",
    "    \n",
    "print(len(count))"
   ]
  },
  {
   "cell_type": "markdown",
   "id": "41021962",
   "metadata": {},
   "source": [
    "### 평균"
   ]
  },
  {
   "cell_type": "code",
   "execution_count": null,
   "id": "5d99ea99",
   "metadata": {},
   "outputs": [],
   "source": [
    "import sys\n",
    "\n",
    "n = int(input())\n",
    "a = list(map(int,sys.stdin.readline().split()))\n",
    "\n",
    "score = 0\n",
    "for i in range(n):\n",
    "    score += (a[i] / max(a) * 100)\n",
    "print(score / len(a))"
   ]
  },
  {
   "cell_type": "markdown",
   "id": "3c89bacf",
   "metadata": {},
   "source": [
    "### OX퀴즈"
   ]
  },
  {
   "cell_type": "code",
   "execution_count": null,
   "id": "e136535d",
   "metadata": {},
   "outputs": [],
   "source": [
    "import sys \n",
    "\n",
    "n = int(sys.stdin.readline())\n",
    "\n",
    "for j in range(n):\n",
    "    score = 0\n",
    "    total = 0\n",
    "    \n",
    "    a = sys.stdin.readline()\n",
    "    for i in range(len(a)) :\n",
    "        if a[i] == 'O':\n",
    "            score += 1\n",
    "            total += score\n",
    "        else : \n",
    "            score = 0\n",
    "    \n",
    "    print(total)        "
   ]
  },
  {
   "cell_type": "markdown",
   "id": "07fa5020",
   "metadata": {},
   "source": [
    "### 평균은 넘겠지"
   ]
  },
  {
   "cell_type": "code",
   "execution_count": null,
   "id": "2acaf8ca",
   "metadata": {},
   "outputs": [],
   "source": [
    "import sys\n",
    "\n",
    "c = int(sys.stdin.readline())\n",
    "\n",
    "for i in range(c):\n",
    "    n = list(map(int, sys.stdin.readline().split()))\n",
    "\n",
    "    total = 0 \n",
    "\n",
    "    for i in range(n[0]):\n",
    "        total += n[1:][i] \n",
    "\n",
    "    over = 0\n",
    "\n",
    "    for i in range(n[0]):\n",
    "        if n[1:][i] > total / n[0]:\n",
    "            over += 1\n",
    "\n",
    "    print(f'{(over / n[0]):.3%}')"
   ]
  }
 ],
 "metadata": {
  "kernelspec": {
   "display_name": "Python 3 (ipykernel)",
   "language": "python",
   "name": "python3"
  },
  "language_info": {
   "codemirror_mode": {
    "name": "ipython",
    "version": 3
   },
   "file_extension": ".py",
   "mimetype": "text/x-python",
   "name": "python",
   "nbconvert_exporter": "python",
   "pygments_lexer": "ipython3",
   "version": "3.9.7"
  }
 },
 "nbformat": 4,
 "nbformat_minor": 5
}
