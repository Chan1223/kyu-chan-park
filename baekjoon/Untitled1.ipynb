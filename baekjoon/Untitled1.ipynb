{
 "cells": [
  {
   "cell_type": "code",
   "execution_count": 411,
   "id": "8576575b",
   "metadata": {},
   "outputs": [
    {
     "name": "stdout",
     "output_type": "stream",
     "text": [
      "2\n",
      "1\n",
      "3\n",
      "6\n",
      "2\n",
      "3\n",
      "10\n"
     ]
    }
   ],
   "source": [
    "# numpy로 풀기 - 백준에서 지원하지 않는 관계로 사용 불가 ㅠㅠ\n",
    "import numpy as np\n",
    "\n",
    "matrix = np.full((14,14), 0)\n",
    "for i in range(14): # (0,j) 줄 채우기\n",
    "    matrix[13][i] = i+1\n",
    "for i in range(14): # (i,0) 줄 채우기\n",
    "    matrix[i][0] = 1\n",
    "\n",
    "for i in range(12,-1,-1): # 규칙에 따라 값 채우기\n",
    "    for j in range(14):\n",
    "        matrix[i][j] = matrix[i+1][j] + matrix[i][j-1]\n",
    "\n",
    "matrix = np.flip(matrix, axis=0)\n",
    "\n",
    "\n",
    "t = int(input())\n",
    "for i in range(t):\n",
    "    k = int(input())\n",
    "    n = int(input())\n",
    "    \n",
    "    print(matrix[k][n-1])"
   ]
  },
  {
   "cell_type": "code",
   "execution_count": 196,
   "id": "761e963a",
   "metadata": {},
   "outputs": [
    {
     "name": "stdout",
     "output_type": "stream",
     "text": [
      "[[0, 0, 0, 0, 0, 0, 0, 0, 0, 0, 0, 0, 0, 0], [0, 0, 0, 0, 0, 0, 0, 0, 0, 0, 0, 0, 0, 0], [0, 0, 0, 0, 0, 0, 0, 0, 0, 0, 0, 0, 0, 0], [0, 0, 0, 0, 0, 0, 0, 0, 0, 0, 0, 0, 0, 0], [0, 0, 0, 0, 0, 0, 0, 0, 0, 0, 0, 0, 0, 0], [0, 0, 0, 0, 0, 0, 0, 0, 0, 0, 0, 0, 0, 0], [0, 0, 0, 0, 0, 0, 0, 0, 0, 0, 0, 0, 0, 0], [0, 0, 0, 0, 0, 0, 0, 0, 0, 0, 0, 0, 0, 0], [0, 0, 0, 0, 0, 0, 0, 0, 0, 0, 0, 0, 0, 0], [0, 0, 0, 0, 0, 0, 0, 0, 0, 0, 0, 0, 0, 0], [0, 0, 0, 0, 0, 0, 0, 0, 0, 0, 0, 0, 0, 0], [0, 0, 0, 0, 0, 0, 0, 0, 0, 0, 0, 0, 0, 0], [0, 0, 0, 0, 0, 0, 0, 0, 0, 0, 0, 0, 0, 0], [0, 0, 0, 0, 0, 0, 0, 0, 0, 0, 0, 0, 0, 0], [0, 0, 0, 0, 0, 0, 0, 0, 0, 0, 0, 0, 0, 0]]\n",
      "15 14\n",
      "2\n",
      "1\n",
      "3\n",
      "6\n",
      "2\n",
      "5\n",
      "35\n"
     ]
    }
   ],
   "source": [
    "# index 에러를 막기 위해 15까지 만들어주어야 함.\n",
    "\n",
    "a = [[0 for i in range(14)] for i in range(15)] # 빈 행렬 만들기\n",
    "print(a)\n",
    "print(len(a), len(a[0]))\n",
    "for i in range(14): # x축 채우기\n",
    "    a[0][i] = i+1 \n",
    "    \n",
    "for j in range(15): # y축 채우기\n",
    "    a[j][0] = 1\n",
    "\n",
    "for i in range(1, 15):\n",
    "    for j in range(1, 14):\n",
    "            a[i][j] = a[i-1][j] + a[i][j-1]\n",
    "\n",
    "t = int(input())\n",
    "for i in range(t):\n",
    "    k = int(input())\n",
    "    n = int(input())\n",
    "    \n",
    "    print(a[k][n-1])"
   ]
  },
  {
   "cell_type": "code",
   "execution_count": 543,
   "id": "a27582e9",
   "metadata": {},
   "outputs": [
    {
     "name": "stdout",
     "output_type": "stream",
     "text": [
      "14\n"
     ]
    },
    {
     "data": {
      "text/plain": [
       "1"
      ]
     },
     "execution_count": 543,
     "metadata": {},
     "output_type": "execute_result"
    }
   ],
   "source": [
    "x = int(input())\n",
    "\n",
    "end = 0\n",
    "line = 0\n",
    "while x > end:\n",
    "    line += 1\n",
    "    end += line\n",
    "    \n",
    "diff = end - x\n",
    "\n",
    "ans = []\n",
    "if line % 2 == 0: # 짝수면\n",
    "    for i in range(line):\n",
    "        ans.append(f\"{i+1}/{line - i} \")\n",
    "    print(ans[-diff-1])\n",
    "\n",
    "elif line % 2 != 0:            # 홀수면\n",
    "    for i in range(line):\n",
    "        ans.append(f\"{line - i}/{i+1} \")\n",
    "    print(ans[-diff-1])"
   ]
  }
 ],
 "metadata": {
  "kernelspec": {
   "display_name": "Python 3 (ipykernel)",
   "language": "python",
   "name": "python3"
  },
  "language_info": {
   "codemirror_mode": {
    "name": "ipython",
    "version": 3
   },
   "file_extension": ".py",
   "mimetype": "text/x-python",
   "name": "python",
   "nbconvert_exporter": "python",
   "pygments_lexer": "ipython3",
   "version": "3.9.7"
  }
 },
 "nbformat": 4,
 "nbformat_minor": 5
}
