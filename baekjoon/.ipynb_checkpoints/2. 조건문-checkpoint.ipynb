{
 "cells": [
  {
   "cell_type": "markdown",
   "id": "da5e51bf",
   "metadata": {},
   "source": [
    "### 두 수 비교하기"
   ]
  },
  {
   "cell_type": "code",
   "execution_count": 1,
   "id": "0cea1b4c",
   "metadata": {},
   "outputs": [
    {
     "name": "stdout",
     "output_type": "stream",
     "text": [
      "10 2\n",
      ">\n"
     ]
    }
   ],
   "source": [
    "a, b = map(int, input().split())\n",
    "\n",
    "if a>b:\n",
    "    print('>')\n",
    "elif a<b:\n",
    "    print('<')\n",
    "else:\n",
    "    print('==')"
   ]
  },
  {
   "cell_type": "markdown",
   "id": "7079df59",
   "metadata": {},
   "source": [
    "### 시험 성적"
   ]
  },
  {
   "cell_type": "code",
   "execution_count": 2,
   "id": "35d2b682",
   "metadata": {},
   "outputs": [
    {
     "name": "stdout",
     "output_type": "stream",
     "text": [
      "100\n",
      "A\n"
     ]
    }
   ],
   "source": [
    "score = int(input())\n",
    "if score >= 90:\n",
    "    grade = 'A'\n",
    "elif score >= 80:\n",
    "    grade = 'B'\n",
    "elif score >= 70:\n",
    "    grade = 'C'\n",
    "elif score >= 60:\n",
    "    grade = 'D'\n",
    "else: \n",
    "    grade = 'F'\n",
    "print(grade)"
   ]
  },
  {
   "cell_type": "markdown",
   "id": "027c75f0",
   "metadata": {},
   "source": [
    "### 윤년"
   ]
  },
  {
   "cell_type": "code",
   "execution_count": 3,
   "id": "60d587fe",
   "metadata": {},
   "outputs": [
    {
     "name": "stdout",
     "output_type": "stream",
     "text": [
      "2014 \n",
      "0\n"
     ]
    }
   ],
   "source": [
    "year = int(input())\n",
    "if ((year % 4 == 0) and (year%100 != 0)) or(year%400 ==0):\n",
    "    print(1)\n",
    "else : print(0)"
   ]
  },
  {
   "cell_type": "markdown",
   "id": "b166fc2b",
   "metadata": {},
   "source": [
    "### 사분면 고르기"
   ]
  },
  {
   "cell_type": "code",
   "execution_count": 4,
   "id": "4cb5eb1e",
   "metadata": {},
   "outputs": [
    {
     "name": "stdout",
     "output_type": "stream",
     "text": [
      "12\n",
      "5\n",
      "1\n"
     ]
    }
   ],
   "source": [
    "x = int(input())\n",
    "y = int(input())\n",
    "\n",
    "if x>=0 and y >= 0:\n",
    "    print(1)\n",
    "elif x<= 0 and y>= 0 :\n",
    "    print(2)\n",
    "elif x<= 0 and y<= 0 :\n",
    "    print(3)\n",
    "elif x>= 0 and y<=0: \n",
    "    print(4)"
   ]
  },
  {
   "cell_type": "markdown",
   "id": "3fad854a",
   "metadata": {},
   "source": [
    "### 알람 시계"
   ]
  },
  {
   "cell_type": "code",
   "execution_count": 5,
   "id": "2b7d061c",
   "metadata": {},
   "outputs": [
    {
     "name": "stdout",
     "output_type": "stream",
     "text": [
      "9 25\n",
      "8 40\n"
     ]
    }
   ],
   "source": [
    "H, m = map(int, input().split())\n",
    "\n",
    "if m - 45 < 0:\n",
    "    H -= 1\n",
    "    m += 15\n",
    "    if H < 0:\n",
    "        H = 23\n",
    "    \n",
    "elif m - 45 == 0:\n",
    "    m = 0\n",
    "\n",
    "elif m - 45 > 0:\n",
    "    m = m - 45\n",
    "\n",
    "print(H, m)"
   ]
  },
  {
   "cell_type": "markdown",
   "id": "7b55e0e4",
   "metadata": {},
   "source": [
    "### 오븐 시계"
   ]
  },
  {
   "cell_type": "code",
   "execution_count": 6,
   "id": "83bf0d7d",
   "metadata": {},
   "outputs": [
    {
     "name": "stdout",
     "output_type": "stream",
     "text": [
      "14 30\n",
      "20\n",
      "14 50\n"
     ]
    }
   ],
   "source": [
    "H, m = map(int, input().split())\n",
    "time = int(input())\n",
    "\n",
    "if m + time < 60:\n",
    "    m = m + time\n",
    "\n",
    "elif m + time >= 60:\n",
    "    H = H + ((m+time) // 60)\n",
    "    m = (m + time) % 60\n",
    "    \n",
    "    if H >= 24:\n",
    "        H = H - 24\n",
    "\n",
    "print(H, m)"
   ]
  },
  {
   "cell_type": "markdown",
   "id": "03d376f5",
   "metadata": {},
   "source": [
    "### 주사위 세개"
   ]
  },
  {
   "cell_type": "code",
   "execution_count": 7,
   "id": "bb4eaec2",
   "metadata": {},
   "outputs": [
    {
     "name": "stdout",
     "output_type": "stream",
     "text": [
      "3 3 6\n",
      "1300\n"
     ]
    }
   ],
   "source": [
    "a, b, c = map(int, input().split())\n",
    "\n",
    "if a == b == c: # 3개가 동일할 경우\n",
    "    m = 10_000 + a * 1_000\n",
    "elif a != b and b != c and c != a :\n",
    "    m = max(a, b, c) * 100\n",
    "elif a == b :\n",
    "    m = 1_000 + a * 100\n",
    "elif b == c :\n",
    "    m = 1_000 + b * 100\n",
    "elif c == a :\n",
    "    m = 1_000 + c * 100\n",
    "\n",
    "print(m)"
   ]
  }
 ],
 "metadata": {
  "kernelspec": {
   "display_name": "Python 3 (ipykernel)",
   "language": "python",
   "name": "python3"
  },
  "language_info": {
   "codemirror_mode": {
    "name": "ipython",
    "version": 3
   },
   "file_extension": ".py",
   "mimetype": "text/x-python",
   "name": "python",
   "nbconvert_exporter": "python",
   "pygments_lexer": "ipython3",
   "version": "3.9.7"
  }
 },
 "nbformat": 4,
 "nbformat_minor": 5
}
