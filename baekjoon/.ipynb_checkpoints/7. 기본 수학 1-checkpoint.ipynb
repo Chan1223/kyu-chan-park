{
 "cells": [
  {
   "cell_type": "markdown",
   "id": "6501abb9",
   "metadata": {},
   "source": [
    "### 손익분기점"
   ]
  },
  {
   "cell_type": "code",
   "execution_count": null,
   "id": "155b29ca",
   "metadata": {},
   "outputs": [],
   "source": [
    "import sys\n",
    "fc, vc, price = map(int, sys.stdin.readline().split())\n",
    "\n",
    "\n",
    "if price - vc <= 0:\n",
    "        x = -1\n",
    "        \n",
    "else :\n",
    "    x = fc / (price - vc) + 1\n",
    "    \n",
    "    \n",
    "print(int(x))"
   ]
  },
  {
   "cell_type": "markdown",
   "id": "f1d1f5d6",
   "metadata": {},
   "source": [
    "### 벌집"
   ]
  },
  {
   "cell_type": "code",
   "execution_count": null,
   "id": "e218c1b8",
   "metadata": {},
   "outputs": [],
   "source": [
    "num = int(input())\n",
    "\n",
    "room = 1\n",
    "\n",
    "n = 1\n",
    "\n",
    "while num > room:\n",
    "    room += n*6\n",
    "    n += 1\n",
    "print(n)"
   ]
  },
  {
   "cell_type": "markdown",
   "id": "a26f0e8e",
   "metadata": {},
   "source": [
    "### 분수찾기"
   ]
  },
  {
   "cell_type": "code",
   "execution_count": null,
   "id": "e20820e9",
   "metadata": {},
   "outputs": [],
   "source": [
    "x = int(input())\n",
    "\n",
    "end = 0\n",
    "line = 0\n",
    "while x > end:\n",
    "    line += 1\n",
    "    end += line\n",
    "    \n",
    "diff = end - x\n",
    "\n",
    "ans = []\n",
    "if line % 2 == 0:    # 짝수면\n",
    "    for i in range(line):\n",
    "        ans.append(f\"{i+1}/{line - i} \")\n",
    "    print(ans[-diff-1])\n",
    "\n",
    "elif line % 2 != 0:  # 홀수면\n",
    "    for i in range(line):\n",
    "        ans.append(f\"{line - i}/{i+1} \")\n",
    "    print(ans[-diff-1])"
   ]
  },
  {
   "cell_type": "markdown",
   "id": "7a3db410",
   "metadata": {},
   "source": [
    "### 달팽이는 올라가고 싶다"
   ]
  },
  {
   "cell_type": "code",
   "execution_count": null,
   "id": "483b9250",
   "metadata": {},
   "outputs": [],
   "source": [
    "a, b, v = map(int,input().split())\n",
    "\n",
    "import math\n",
    "print(math.ceil((v - b) / (a - b)))"
   ]
  },
  {
   "cell_type": "markdown",
   "id": "df4b187c",
   "metadata": {},
   "source": [
    "### ACM 호텔"
   ]
  },
  {
   "cell_type": "code",
   "execution_count": null,
   "id": "5dd2cb26",
   "metadata": {},
   "outputs": [],
   "source": [
    "t = int(input())\n",
    "\n",
    "for i in range(t):\n",
    "    h, w, n = map(int, input().split())\n",
    "\n",
    "    xx = n // h + 1\n",
    "    yy = n % h\n",
    "\n",
    "    if n % h == 0:\n",
    "        xx = n // h\n",
    "        yy = h\n",
    "    print(f'{yy}{xx:02}') "
   ]
  },
  {
   "cell_type": "markdown",
   "id": "db86e373",
   "metadata": {},
   "source": [
    "### 부녀회장이 될테야"
   ]
  },
  {
   "cell_type": "code",
   "execution_count": null,
   "id": "3a5ace9c",
   "metadata": {},
   "outputs": [],
   "source": [
    "# index 에러를 막기 위해 15까지 만들어주어야 함.\n",
    "\n",
    "a = [[0 for i in range(14)] for i in range(15)] # 빈 행렬 만들기\n",
    "for i in range(14): # x축 채우기\n",
    "    a[0][i] = i+1 \n",
    "    \n",
    "for j in range(15): # y축 채우기\n",
    "    a[j][0] = 1\n",
    "\n",
    "for i in range(1, 15):\n",
    "    for j in range(1, 14):\n",
    "            a[i][j] = a[i-1][j] + a[i][j-1]\n",
    "\n",
    "t = int(input())\n",
    "for i in range(t):\n",
    "    k = int(input())\n",
    "    n = int(input())\n",
    "    \n",
    "    print(a[k][n-1])"
   ]
  },
  {
   "cell_type": "code",
   "execution_count": 411,
   "id": "8576575b",
   "metadata": {},
   "outputs": [
    {
     "name": "stdout",
     "output_type": "stream",
     "text": [
      "2\n",
      "1\n",
      "3\n",
      "6\n",
      "2\n",
      "3\n",
      "10\n"
     ]
    }
   ],
   "source": [
    "# numpy로 풀기 - 백준에서 지원하지 않는 관계로 사용 불가 ㅠㅠ\n",
    "import numpy as np\n",
    "\n",
    "matrix = np.full((14,14), 0)\n",
    "for i in range(14): # (0,j) 줄 채우기\n",
    "    matrix[13][i] = i+1\n",
    "for i in range(14): # (i,0) 줄 채우기\n",
    "    matrix[i][0] = 1\n",
    "\n",
    "for i in range(12,-1,-1): # 규칙에 따라 값 채우기\n",
    "    for j in range(14):\n",
    "        matrix[i][j] = matrix[i+1][j] + matrix[i][j-1]\n",
    "\n",
    "matrix = np.flip(matrix, axis=0)\n",
    "\n",
    "\n",
    "t = int(input())\n",
    "for i in range(t):\n",
    "    k = int(input())\n",
    "    n = int(input())\n",
    "    \n",
    "    print(matrix[k][n-1])"
   ]
  },
  {
   "cell_type": "markdown",
   "id": "20238d3f",
   "metadata": {},
   "source": [
    "### 설탕 배달"
   ]
  },
  {
   "cell_type": "code",
   "execution_count": null,
   "id": "ffbc2a23",
   "metadata": {},
   "outputs": [],
   "source": [
    "sugar = int(input())\n",
    "\n",
    "bag = 0\n",
    "while sugar >= 0:\n",
    "    if sugar % 5 == 0:\n",
    "        bag += sugar // 5\n",
    "        print(bag)\n",
    "        break\n",
    "    sugar -= 3\n",
    "    bag += 1\n",
    "    \n",
    "else:\n",
    "    print(-1)"
   ]
  }
 ],
 "metadata": {
  "kernelspec": {
   "display_name": "Python 3 (ipykernel)",
   "language": "python",
   "name": "python3"
  },
  "language_info": {
   "codemirror_mode": {
    "name": "ipython",
    "version": 3
   },
   "file_extension": ".py",
   "mimetype": "text/x-python",
   "name": "python",
   "nbconvert_exporter": "python",
   "pygments_lexer": "ipython3",
   "version": "3.9.7"
  }
 },
 "nbformat": 4,
 "nbformat_minor": 5
}
