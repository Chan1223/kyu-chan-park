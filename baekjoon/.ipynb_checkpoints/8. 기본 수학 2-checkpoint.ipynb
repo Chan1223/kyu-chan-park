{
 "cells": [
  {
   "cell_type": "markdown",
   "id": "b7732022",
   "metadata": {},
   "source": [
    "### 소수 찾기"
   ]
  },
  {
   "cell_type": "code",
   "execution_count": 1,
   "id": "ea0bd2fe",
   "metadata": {},
   "outputs": [
    {
     "name": "stdout",
     "output_type": "stream",
     "text": [
      "4\n"
     ]
    }
   ],
   "source": [
    "n = int(input())\n",
    "a = list(map(int, input().split()))\n",
    "\n",
    "not_decimal = []\n",
    "for i in a:\n",
    "    if i == 1:\n",
    "        pass\n",
    "    for j in range(2, i):\n",
    "        if i % j == 0:\n",
    "            if i not in not_decimal:\n",
    "                not_decimal.append(i)\n",
    "\n",
    "decimal = []\n",
    "for i in a:\n",
    "    if i not in not_decimal:\n",
    "        decimal.append(i)\n",
    "        \n",
    "if 1 in decimal:\n",
    "    decimal.remove(1)\n",
    "    \n",
    "print(len(decimal))"
   ]
  },
  {
   "cell_type": "markdown",
   "id": "21129dad",
   "metadata": {},
   "source": [
    "### 소수"
   ]
  },
  {
   "cell_type": "code",
   "execution_count": 152,
   "id": "1bfa6e47",
   "metadata": {
    "scrolled": true
   },
   "outputs": [
    {
     "name": "stdout",
     "output_type": "stream",
     "text": [
      "60\n",
      "100\n",
      "620\n",
      "61\n"
     ]
    }
   ],
   "source": [
    "import math\n",
    "\n",
    "m = int(input())\n",
    "n = int(input())\n",
    "\n",
    "total = []\n",
    "for i in range(m, n+1):\n",
    "    total.append(i)\n",
    "\n",
    "not_decimal = []\n",
    "for i in total:\n",
    "    if i == 1:\n",
    "        pass\n",
    "    for j in range(2, int(math.sqrt(i))+1):\n",
    "        if i % j == 0:\n",
    "            if i not in not_decimal:\n",
    "                not_decimal.append(i)\n",
    "\n",
    "decimal = []\n",
    "for i in total:\n",
    "    if i not in not_decimal:\n",
    "        decimal.append(i)\n",
    "        \n",
    "if 1 in decimal:\n",
    "    decimal.remove(1)\n",
    "\n",
    "if decimal == []:\n",
    "    print(-1)\n",
    "else :\n",
    "    print(sum(decimal))\n",
    "    print(min(decimal))"
   ]
  },
  {
   "cell_type": "markdown",
   "id": "0c93091b",
   "metadata": {},
   "source": [
    "### 소인수분해"
   ]
  },
  {
   "cell_type": "code",
   "execution_count": 213,
   "id": "5222f8a0",
   "metadata": {},
   "outputs": [
    {
     "name": "stdout",
     "output_type": "stream",
     "text": [
      "9991\n",
      "97\n",
      "103\n"
     ]
    }
   ],
   "source": [
    "n = int(input())\n",
    "\n",
    "while True:\n",
    "    for i in range(2,n+1):\n",
    "        if n % i == 0:\n",
    "            print(i)\n",
    "            n = int(n/i)\n",
    "            break\n",
    "    if n == 1:\n",
    "        break"
   ]
  },
  {
   "cell_type": "markdown",
   "id": "1688b1d6",
   "metadata": {},
   "source": [
    "### 소수 구하기"
   ]
  },
  {
   "cell_type": "code",
   "execution_count": 26,
   "id": "ffaa483d",
   "metadata": {},
   "outputs": [
    {
     "name": "stdout",
     "output_type": "stream",
     "text": [
      "3 16\n",
      "3\n",
      "5\n",
      "7\n",
      "11\n",
      "13\n"
     ]
    }
   ],
   "source": [
    "# 방식 1\n",
    "m, n = map(int, input().split())\n",
    "\n",
    "for i in range(m, n+1):\n",
    "    if i == 1:\n",
    "        continue\n",
    "    \n",
    "    for j in range(2, int(i ** 0.5)+1):\n",
    "        if i % j == 0:\n",
    "            break \n",
    "    else:\n",
    "        print(i)"
   ]
  },
  {
   "cell_type": "code",
   "execution_count": 27,
   "id": "20ffb2f1",
   "metadata": {},
   "outputs": [
    {
     "name": "stdout",
     "output_type": "stream",
     "text": [
      "3 16\n",
      "3\n",
      "5\n",
      "7\n",
      "11\n",
      "13\n"
     ]
    }
   ],
   "source": [
    "#방식 2\n",
    "m,n=map(int,input().split())\n",
    "*l,=range(n+1)\n",
    "for i in l[2:]:\n",
    "    if l[i]>=m:\n",
    "        print(i)\n",
    "    l[i::i]=n//i*[0]"
   ]
  },
  {
   "cell_type": "code",
   "execution_count": null,
   "id": "c290d9f8",
   "metadata": {},
   "outputs": [],
   "source": []
  }
 ],
 "metadata": {
  "kernelspec": {
   "display_name": "Python 3 (ipykernel)",
   "language": "python",
   "name": "python3"
  },
  "language_info": {
   "codemirror_mode": {
    "name": "ipython",
    "version": 3
   },
   "file_extension": ".py",
   "mimetype": "text/x-python",
   "name": "python",
   "nbconvert_exporter": "python",
   "pygments_lexer": "ipython3",
   "version": "3.9.7"
  }
 },
 "nbformat": 4,
 "nbformat_minor": 5
}
