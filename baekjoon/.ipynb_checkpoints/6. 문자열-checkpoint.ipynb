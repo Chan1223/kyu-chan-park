{
 "cells": [
  {
   "cell_type": "markdown",
   "id": "55fc5702",
   "metadata": {},
   "source": [
    "### 아스키 코드"
   ]
  },
  {
   "cell_type": "code",
   "execution_count": null,
   "id": "1f27bb64",
   "metadata": {},
   "outputs": [],
   "source": [
    "n = input()\n",
    "print(ord(n))"
   ]
  },
  {
   "cell_type": "markdown",
   "id": "9c147668",
   "metadata": {},
   "source": [
    "### 숫자의 합"
   ]
  },
  {
   "cell_type": "code",
   "execution_count": null,
   "id": "8d9bfa91",
   "metadata": {},
   "outputs": [],
   "source": [
    "n = int(input())\n",
    "num = input()\n",
    "\n",
    "total = 0\n",
    "for i in range(n):\n",
    "    total += int(num[i])\n",
    "    \n",
    "print(total)"
   ]
  },
  {
   "cell_type": "markdown",
   "id": "88893506",
   "metadata": {},
   "source": [
    "### 알파벳 찾기"
   ]
  },
  {
   "cell_type": "code",
   "execution_count": null,
   "id": "864a5c2c",
   "metadata": {},
   "outputs": [],
   "source": [
    "word = input()\n",
    "alphabet = \"abcdefghijklmnopqrstuvwxyz\"\n",
    "    \n",
    "for i in alphabet:\n",
    "    print(word.find(i), end=' ')"
   ]
  },
  {
   "cell_type": "markdown",
   "id": "403bc7ab",
   "metadata": {},
   "source": [
    "### 문자열 반복"
   ]
  },
  {
   "cell_type": "code",
   "execution_count": null,
   "id": "259431b0",
   "metadata": {},
   "outputs": [],
   "source": [
    "n = int(input())\n",
    "\n",
    "for i in range(n):\n",
    "    new_word = ''\n",
    "    num, word = map(str, input().split())\n",
    "    num = int(num)\n",
    "    for i in range(len(word)):\n",
    "        new_word = new_word + word[i]*num\n",
    "    print(new_word)"
   ]
  },
  {
   "cell_type": "markdown",
   "id": "4020c09a",
   "metadata": {},
   "source": [
    "### 단어 공부"
   ]
  },
  {
   "cell_type": "code",
   "execution_count": null,
   "id": "6d33e3ce",
   "metadata": {},
   "outputs": [],
   "source": [
    "word = input().lower()\n",
    "\n",
    "alphabet = 'abcdefghijklmnopqrstuvwxyz'\n",
    "\n",
    "times = []\n",
    "for i in range(len(alphabet)):\n",
    "    times.append(word.count(alphabet[i]))\n",
    "\n",
    "if times.count(max(times)) >= 2:\n",
    "    print('?')\n",
    "else:\n",
    "    print(alphabet[times.index(max(times))].upper())"
   ]
  },
  {
   "cell_type": "markdown",
   "id": "26537951",
   "metadata": {},
   "source": [
    "### 단어의 개수"
   ]
  },
  {
   "cell_type": "code",
   "execution_count": null,
   "id": "77d605dd",
   "metadata": {},
   "outputs": [],
   "source": [
    "word = input()\n",
    "\n",
    "if word == ' ':\n",
    "    print(0)\n",
    "else:\n",
    "    print(len(word.strip().split(' ')))"
   ]
  },
  {
   "cell_type": "markdown",
   "id": "f816e76e",
   "metadata": {},
   "source": [
    "### 상수"
   ]
  },
  {
   "cell_type": "code",
   "execution_count": null,
   "id": "ee9c3ad5",
   "metadata": {},
   "outputs": [],
   "source": [
    "a, b = map(str,input().split())\n",
    "a = a[::-1]\n",
    "b = b[::-1]\n",
    "if a > b :\n",
    "    print(a)\n",
    "else:\n",
    "    print(b)"
   ]
  },
  {
   "cell_type": "markdown",
   "id": "75eefc9c",
   "metadata": {},
   "source": [
    "### 다이얼"
   ]
  },
  {
   "cell_type": "code",
   "execution_count": null,
   "id": "cd34d82a",
   "metadata": {},
   "outputs": [],
   "source": [
    "dic = {\"ABC\":3, \"DEF\":4, \"GHI\":5, \"JKL\":6, \"MNO\":7, \"PQRS\":8, \"TUV\":9, \"WXYZ\":10}\n",
    "\n",
    "word = input()\n",
    "\n",
    "time = 0 \n",
    "\n",
    "for i in range(len(word)):\n",
    "    for j in dic.keys():\n",
    "        if word[i] in j:\n",
    "            time += dic[j]\n",
    "\n",
    "print(time)"
   ]
  },
  {
   "cell_type": "markdown",
   "id": "0ede514c",
   "metadata": {},
   "source": [
    "### 크로아티아 알파벳"
   ]
  },
  {
   "cell_type": "code",
   "execution_count": null,
   "id": "f5865506",
   "metadata": {},
   "outputs": [],
   "source": [
    "normal_word = ['c=','c-','dz=','d-','lj','s=','z=','nj']\n",
    "\n",
    "word = input()\n",
    "\n",
    "for i in normal_word:\n",
    "    if i in word:\n",
    "        word = word.replace(i, 'a')\n",
    "\n",
    "print(len(word))        "
   ]
  },
  {
   "cell_type": "markdown",
   "id": "ba56c0d6",
   "metadata": {},
   "source": [
    "### 그룹 단어 체커"
   ]
  },
  {
   "cell_type": "code",
   "execution_count": null,
   "id": "6153b844",
   "metadata": {},
   "outputs": [],
   "source": [
    "total = 0\n",
    "\n",
    "num = int(input())\n",
    "\n",
    "for i in range(num):\n",
    "    word = input()\n",
    "    count = 0\n",
    "    for i in range(len(word)-1):\n",
    "        if word[i] != word[i+1]:\n",
    "            count += 1\n",
    "\n",
    "    if (len(list(set(word))) - 1) == count:\n",
    "        total += 1\n",
    "\n",
    "print(total)"
   ]
  }
 ],
 "metadata": {
  "kernelspec": {
   "display_name": "Python 3 (ipykernel)",
   "language": "python",
   "name": "python3"
  },
  "language_info": {
   "codemirror_mode": {
    "name": "ipython",
    "version": 3
   },
   "file_extension": ".py",
   "mimetype": "text/x-python",
   "name": "python",
   "nbconvert_exporter": "python",
   "pygments_lexer": "ipython3",
   "version": "3.9.7"
  }
 },
 "nbformat": 4,
 "nbformat_minor": 5
}
