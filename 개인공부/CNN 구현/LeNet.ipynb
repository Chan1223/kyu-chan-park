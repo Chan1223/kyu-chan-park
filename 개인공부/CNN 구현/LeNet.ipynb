{
 "cells": [
  {
   "cell_type": "markdown",
   "metadata": {},
   "source": [
    "### Data transformation"
   ]
  },
  {
   "cell_type": "code",
   "execution_count": 1,
   "metadata": {},
   "outputs": [],
   "source": [
    "# dataset 호출 이전에 resizing을 위한 transformation 객체 생성\n",
    "from torchvision import transforms\n",
    "\n",
    "# transformation 정의하기\n",
    "data_transform = transforms.Compose([\n",
    "    transforms.Resize((32, 32)), transforms.ToTensor(),\n",
    "])"
   ]
  },
  {
   "cell_type": "markdown",
   "metadata": {},
   "source": [
    "### Data download\n"
   ]
  },
  {
   "cell_type": "code",
   "execution_count": 2,
   "metadata": {},
   "outputs": [],
   "source": [
    "# MNIST dataset 호출\n",
    "from torchvision import datasets, transforms\n",
    "path = \"/home/helpme/dataset/\"\n",
    "\n",
    "# trainset 불러오기\n",
    "train_data = datasets.MNIST(path, train=True, download=True, transform=data_transform)\n",
    "\n",
    "# testset 불러오기\n",
    "test_data = datasets.MNIST(path, train=False, download=True, transform=data_transform)"
   ]
  },
  {
   "cell_type": "markdown",
   "metadata": {},
   "source": [
    "### Data 전처리\n"
   ]
  },
  {
   "cell_type": "code",
   "execution_count": 3,
   "metadata": {},
   "outputs": [
    {
     "data": {
      "image/png": "[encoded data removed]",
      "text/plain": [
       "<Figure size 432x288 with 1 Axes>"
      ]
     },
     "metadata": {
      "needs_background": "light"
     },
     "output_type": "display_data"
    }
   ],
   "source": [
    "# sample image 확인\n",
    "from torchvision import utils\n",
    "import matplotlib.pyplot as plt\n",
    "import numpy as np\n",
    "%matplotlib inline\n",
    "\n",
    "# training data 분리 \n",
    "x_train, y_train = train_data.data, train_data.targets\n",
    "\n",
    "# test data 분리\n",
    "x_test, y_test = test_data.data, test_data.targets\n",
    "\n",
    "# (image, Height, width) => (image, channel, height, width)로 변환\n",
    "if len(x_train.shape) == 3 :\n",
    "    x_train = x_train.unsqueeze(1)\n",
    "\n",
    "if len(x_test.shape) == 3 :\n",
    "    x_test = x_test.unsqueeze(1)\n",
    "\n",
    "# tensor => image로 변환하여 보여주는 함수 정의\n",
    "\n",
    "def show(img):\n",
    "    # tensor image를 numpy 형태로 변환\n",
    "    np_img = img.numpy()\n",
    "    # (channel, height, width) 를 (height, width, channel로) 변경\n",
    "    np_img_trans = np_img.transpose((1,2,0))\n",
    "    plt.imshow(np_img_trans, interpolation=\"nearest\")\n",
    "\n",
    "# image grid를 생성하고 출력\n",
    "# 총 40개 이미지, 한 행당 8개 이미지 출력\n",
    "x_grid = utils.make_grid(x_train[:40], nrow=8)\n",
    "\n",
    "show(x_grid)"
   ]
  },
  {
   "cell_type": "code",
   "execution_count": 4,
   "metadata": {},
   "outputs": [],
   "source": [
    "# 다운받은 dataset을 DataLoader로 불러내기\n",
    "from torch.utils.data import DataLoader\n",
    "\n",
    "train_set = DataLoader(train_data, batch_size = 32, shuffle=True)\n",
    "test_set = DataLoader(test_data, batch_size = 32)"
   ]
  },
  {
   "cell_type": "markdown",
   "metadata": {},
   "source": [
    "### LeNet 구현\n"
   ]
  },
  {
   "cell_type": "code",
   "execution_count": 5,
   "metadata": {},
   "outputs": [
    {
     "name": "stdout",
     "output_type": "stream",
     "text": [
      "LeNet_5(\n",
      "  (conv1): Conv2d(1, 6, kernel_size=(5, 5), stride=(1, 1))\n",
      "  (conv2): Conv2d(6, 16, kernel_size=(5, 5), stride=(1, 1))\n",
      "  (conv3): Conv2d(16, 120, kernel_size=(5, 5), stride=(1, 1))\n",
      "  (fc1): Linear(in_features=120, out_features=84, bias=True)\n",
      "  (fc2): Linear(in_features=84, out_features=10, bias=True)\n",
      ")\n"
     ]
    }
   ],
   "source": [
    "from torch import nn\n",
    "import torch.nn.functional as F\n",
    "\n",
    "class LeNet_5(nn.Module):\n",
    "    def __init__(self):\n",
    "        super(LeNet_5, self).__init__()\n",
    "        self.conv1 = nn.Conv2d(1, 6, kernel_size=5, stride=1)\n",
    "        self.conv2 = nn.Conv2d(6, 16, kernel_size=5, stride=1)\n",
    "        self.conv3 = nn.Conv2d(16, 120, kernel_size=5, stride=1)\n",
    "        self.fc1 = nn.Linear(120, 84)\n",
    "        self.fc2 = nn.Linear(84, 10)\n",
    "    \n",
    "    def forward(self, x):\n",
    "        x = torch.tanh(self.conv1(x))\n",
    "        x = F.avg_pool2d(x, 2, 2)\n",
    "        x = torch.tanh(self.conv2(x))\n",
    "        x = F.avg_pool2d(x, 2, 2)\n",
    "        x = torch.tanh(self.conv3(x))\n",
    "        x = x.view(-1, 120) \n",
    "        x = torch.tanh(self.fc1(x))\n",
    "        x = self.fc2(x)\n",
    "        x = F.softmax(x, dim=1)\n",
    "\n",
    "        return x\n",
    "\n",
    "model = LeNet_5()\n",
    "print(model)"
   ]
  },
  {
   "cell_type": "code",
   "execution_count": 6,
   "metadata": {},
   "outputs": [
    {
     "name": "stdout",
     "output_type": "stream",
     "text": [
      "cuda:0\n"
     ]
    }
   ],
   "source": [
    "import torch\n",
    "device = torch.device('cuda')\n",
    "model.to(device)\n",
    "\n",
    "print(next(model.parameters()).device)"
   ]
  },
  {
   "cell_type": "code",
   "execution_count": 7,
   "metadata": {},
   "outputs": [
    {
     "name": "stdout",
     "output_type": "stream",
     "text": [
      "----------------------------------------------------------------\n",
      "        Layer (type)               Output Shape         Param #\n",
      "================================================================\n",
      "            Conv2d-1            [-1, 6, 28, 28]             156\n",
      "            Conv2d-2           [-1, 16, 10, 10]           2,416\n",
      "            Conv2d-3            [-1, 120, 1, 1]          48,120\n",
      "            Linear-4                   [-1, 84]          10,164\n",
      "            Linear-5                   [-1, 10]             850\n",
      "================================================================\n",
      "Total params: 61,706\n",
      "Trainable params: 61,706\n",
      "Non-trainable params: 0\n",
      "----------------------------------------------------------------\n",
      "Input size (MB): 0.00\n",
      "Forward/backward pass size (MB): 0.05\n",
      "Params size (MB): 0.24\n",
      "Estimated Total Size (MB): 0.29\n",
      "----------------------------------------------------------------\n"
     ]
    }
   ],
   "source": [
    "from torchsummary import summary\n",
    "summary(model, input_size=(1, 32, 32))"
   ]
  },
  {
   "cell_type": "markdown",
   "metadata": {},
   "source": [
    "### loss function 정의"
   ]
  },
  {
   "cell_type": "code",
   "execution_count": 8,
   "metadata": {},
   "outputs": [],
   "source": [
    "loss_func = nn.CrossEntropyLoss(reduction='sum')"
   ]
  },
  {
   "cell_type": "code",
   "execution_count": 9,
   "metadata": {},
   "outputs": [],
   "source": [
    "# optimizer 정의\n",
    "from torch import optim\n",
    "opt = optim.Adam(model.parameters(), lr=0.001)\n",
    "\n",
    "# # 현재 lr 계산하는 함수 정의\n",
    "def get_lr(opt):\n",
    "    for param_group in opt.param_groups:\n",
    "        return param_group['lr']\n",
    "\n",
    "# learning rate schedular 정의\n",
    "from torch.optim.lr_scheduler import CosineAnnealingLR\n",
    "lr_scheduler = CosineAnnealingLR(opt, T_max=2, eta_min=1e-05)"
   ]
  },
  {
   "cell_type": "markdown",
   "metadata": {},
   "source": [
    "### 학습용 함수 정의"
   ]
  },
  {
   "cell_type": "code",
   "execution_count": 10,
   "metadata": {},
   "outputs": [],
   "source": [
    "# 배치당 performance metric 을 계산하는 함수 정의\n",
    "def metrics_batch(output, target):\n",
    "    pred = output.argmax(dim=1, keepdim=True)\n",
    "    corrects = pred.eq(target.view_as(pred)).sum().item()\n",
    "    return corrects\n"
   ]
  },
  {
   "cell_type": "code",
   "execution_count": 11,
   "metadata": {},
   "outputs": [],
   "source": [
    "# 배치당 loss를 계산하는 함수를 정의\n",
    "def loss_batch(loss_func, output, target, opt=None):\n",
    "    loss = loss_func(output, target)\n",
    "    metric_b = metrics_batch(output, target)\n",
    "    if opt is not None:\n",
    "        opt.zero_grad()\n",
    "        loss.backward()\n",
    "        opt.step()\n",
    "    return loss.item(), metric_b\n"
   ]
  },
  {
   "cell_type": "code",
   "execution_count": 12,
   "metadata": {},
   "outputs": [],
   "source": [
    "# epoch당 loss와 performance metric을 계산하는 함수 정의\n",
    "def loss_epoch(model, loss_func, dataset_dl, sanity_check=False, opt=None):\n",
    "    running_loss = 0.0\n",
    "    running_metric = 0.0\n",
    "    len_data = len(dataset_dl.dataset)\n",
    "\n",
    "    for xb, yb in dataset_dl:\n",
    "        xb = xb.type(torch.float).to(device)\n",
    "        yb = yb.to(device)\n",
    "        output = model(xb)\n",
    "        loss_b, metric_b = loss_batch(loss_func, output, yb, opt)\n",
    "        running_loss += loss_b\n",
    "\n",
    "        if metric_b is not None:\n",
    "            running_metric += metric_b\n",
    "        \n",
    "        if sanity_check is True: # sanity_check가 True이면 1epoch만 학습합니다.\n",
    "            break\n",
    "\n",
    "    loss = running_loss / float(len_data)\n",
    "    metric = running_metric / float(len_data)\n",
    "    return loss, metric\n"
   ]
  },
  {
   "cell_type": "code",
   "execution_count": 13,
   "metadata": {},
   "outputs": [],
   "source": [
    "# train_val 함수 정의\n",
    "def train_val(model, params):\n",
    "    num_epochs = params['num_epochs']\n",
    "    loss_func = params['loss_func']\n",
    "    opt = params['optimizer']\n",
    "    train_dl = params['train_dl']\n",
    "    val_dl = params['val_dl']\n",
    "    sanity_check = params['sanity_check']\n",
    "    lr_scheduler = params['lr_scheduler']\n",
    "    path2weights = params['path2weights']\n",
    "\n",
    "    loss_history = {\n",
    "        'train': [],\n",
    "        'val': [],\n",
    "    }\n",
    "\n",
    "    metric_history = {\n",
    "        'train': [],\n",
    "        'val': [],\n",
    "    }\n",
    "\n",
    "    # best model parameter를 저장합니다.\n",
    "    best_model_wts = copy.deepcopy(model.state_dict())\n",
    "    best_loss = float('inf')\n",
    "\n",
    "    for epoch in range(num_epochs):\n",
    "        current_lr = get_lr(opt)\n",
    "        print('Epoch {}/{}, current lr={}'.format(epoch, num_epochs-1, current_lr))\n",
    "        model.train()\n",
    "        train_loss, train_metric = loss_epoch(model, loss_func, train_dl, sanity_check, opt)\n",
    "\n",
    "        loss_history['train'].append(train_loss)\n",
    "        metric_history['train'].append(train_metric)\n",
    "\n",
    "        model.eval()\n",
    "        with torch.no_grad():\n",
    "            val_loss, val_metric = loss_epoch(model, loss_func, val_dl, sanity_check)\n",
    "            loss_history['val'].append(val_loss)\n",
    "            metric_history['val'].append(val_metric)\n",
    "\n",
    "        if val_loss < best_loss:\n",
    "            best_loss = val_loss\n",
    "            best_model_wts = copy.deepcopy(model.state_dict())\n",
    "            torch.save(model.state_dict(), path2weights)\n",
    "            print('Copied best model weights')\n",
    "\n",
    "        lr_scheduler.step()\n",
    "\n",
    "        print('train loss: %.6f, dev loss: %.6f, accuracy: %.2f' %(train_loss, val_loss, 100*val_metric))\n",
    "        print('-'*10)\n",
    "\n",
    "    # best model을 반환합니다.\n",
    "    model.load_state_dict(best_model_wts)\n",
    "    return model, loss_history, metric_history\n"
   ]
  },
  {
   "cell_type": "markdown",
   "metadata": {},
   "source": [
    "### 모델 학습"
   ]
  },
  {
   "cell_type": "code",
   "execution_count": 14,
   "metadata": {},
   "outputs": [],
   "source": [
    "import copy\n",
    "import os\n",
    "\n",
    "# 학습된 모델의 가중치를 저장할 폴더를 만듭니다.\n",
    "os.makedirs('/home/helpme/models/', exist_ok=True)\n",
    "\n",
    "# 하이퍼 파라미터를 설정합니다.\n",
    "params_train={\n",
    " \"num_epochs\": 3,\n",
    " \"optimizer\": opt,\n",
    " \"loss_func\": loss_func,\n",
    " \"train_dl\": train_set,\n",
    " \"val_dl\": test_set,\n",
    " \"sanity_check\": False,\n",
    " \"lr_scheduler\": lr_scheduler,\n",
    " \"path2weights\": \"/home/helpme/models/LeNet-5.pt\",\n",
    "}\n"
   ]
  },
  {
   "cell_type": "code",
   "execution_count": 15,
   "metadata": {},
   "outputs": [
    {
     "name": "stdout",
     "output_type": "stream",
     "text": [
      "Epoch 0/2, current lr=0.001\n",
      "Copied best model weights\n",
      "train loss: 1.558419, dev loss: 1.505643, accuracy: 95.82\n",
      "----------\n",
      "Epoch 1/2, current lr=0.000505\n",
      "Copied best model weights\n",
      "train loss: 1.494347, dev loss: 1.490814, accuracy: 97.32\n",
      "----------\n",
      "Epoch 2/2, current lr=1e-05\n",
      "Copied best model weights\n",
      "train loss: 1.485106, dev loss: 1.486743, accuracy: 97.64\n",
      "----------\n"
     ]
    }
   ],
   "source": [
    "# 모델을 학습합니다.\n",
    "model,loss_hist,metric_hist=train_val(model,params_train)"
   ]
  },
  {
   "cell_type": "code",
   "execution_count": 16,
   "metadata": {},
   "outputs": [
    {
     "data": {
      "image/png": "[encoded data removed]",
      "text/plain": [
       "<Figure size 432x288 with 1 Axes>"
      ]
     },
     "metadata": {
      "needs_background": "light"
     },
     "output_type": "display_data"
    }
   ],
   "source": [
    "num_epochs=params_train[\"num_epochs\"]\n",
    "\n",
    "plt.title(\"Train-Val Loss\")\n",
    "plt.plot(range(1,num_epochs+1),loss_hist[\"train\"],label=\"train\")\n",
    "plt.plot(range(1,num_epochs+1),loss_hist[\"val\"],label=\"val\")\n",
    "plt.ylabel(\"Loss\")\n",
    "plt.xlabel(\"Training Epochs\")\n",
    "plt.legend()\n",
    "plt.show()\n"
   ]
  },
  {
   "cell_type": "code",
   "execution_count": 17,
   "metadata": {},
   "outputs": [
    {
     "data": {
      "image/png": "[encoded data removed]",
      "text/plain": [
       "<Figure size 432x288 with 1 Axes>"
      ]
     },
     "metadata": {
      "needs_background": "light"
     },
     "output_type": "display_data"
    }
   ],
   "source": [
    "# plot accuracy progress\n",
    "plt.title(\"Train-Val Accuracy\")\n",
    "plt.plot(range(1,num_epochs+1),metric_hist[\"train\"],label=\"train\")\n",
    "plt.plot(range(1,num_epochs+1),metric_hist[\"val\"],label=\"val\")\n",
    "plt.ylabel(\"Accuracy\")\n",
    "plt.xlabel(\"Training Epochs\")\n",
    "plt.legend()\n",
    "plt.show()\n"
   ]
  }
 ],
 "metadata": {
  "kernelspec": {
   "display_name": "Python 3.9.7 ('base')",
   "language": "python",
   "name": "python3"
  },
  "language_info": {
   "codemirror_mode": {
    "name": "ipython",
    "version": 3
   },
   "file_extension": ".py",
   "mimetype": "text/x-python",
   "name": "python",
   "nbconvert_exporter": "python",
   "pygments_lexer": "ipython3",
   "version": "3.9.7"
  },
  "orig_nbformat": 4,
  "vscode": {
   "interpreter": {
    "hash": "f247744bdc74a0cd914322988525f41ee8c0b7b6d40e31042adcb72ee609da13"
   }
  }
 },
 "nbformat": 4,
 "nbformat_minor": 2
}
