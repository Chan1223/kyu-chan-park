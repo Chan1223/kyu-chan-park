{
 "cells": [
  {
   "cell_type": "code",
   "execution_count": 7,
   "id": "28765353",
   "metadata": {},
   "outputs": [],
   "source": [
    "import pandas as pd\n",
    "import numpy as np\n",
    "import matplotlib.pyplot as plt\n",
    "\n",
    "from scipy import stats\n"
   ]
  },
  {
   "cell_type": "markdown",
   "id": "1fa98a9f",
   "metadata": {},
   "source": [
    "### QQ 그림"
   ]
  },
  {
   "cell_type": "code",
   "execution_count": 9,
   "id": "b2faf26c",
   "metadata": {},
   "outputs": [
    {
     "data": {
      "text/plain": [
       "((array([-2.46203784, -2.12570747, -1.93122778, -1.79044653, -1.67819304,\n",
       "         -1.58381122, -1.50174123, -1.42869743, -1.36256869, -1.30191411,\n",
       "         -1.24570419, -1.19317644, -1.14374949, -1.09696931, -1.05247413,\n",
       "         -1.00997067, -0.96921765, -0.93001393, -0.89218993, -0.85560121,\n",
       "         -0.82012357, -0.78564937, -0.75208458, -0.71934648, -0.68736185,\n",
       "         -0.65606548, -0.62539893, -0.59530962, -0.56574992, -0.53667655,\n",
       "         -0.50804994, -0.47983378, -0.45199463, -0.42450149, -0.39732558,\n",
       "         -0.37044003, -0.34381966, -0.31744076, -0.29128096, -0.26531902,\n",
       "         -0.23953472, -0.21390872, -0.18842244, -0.16305799, -0.13779803,\n",
       "         -0.1126257 , -0.08752455, -0.06247843, -0.03747145, -0.01248789,\n",
       "          0.01248789,  0.03747145,  0.06247843,  0.08752455,  0.1126257 ,\n",
       "          0.13779803,  0.16305799,  0.18842244,  0.21390872,  0.23953472,\n",
       "          0.26531902,  0.29128096,  0.31744076,  0.34381966,  0.37044003,\n",
       "          0.39732558,  0.42450149,  0.45199463,  0.47983378,  0.50804994,\n",
       "          0.53667655,  0.56574992,  0.59530962,  0.62539893,  0.65606548,\n",
       "          0.68736185,  0.71934648,  0.75208458,  0.78564937,  0.82012357,\n",
       "          0.85560121,  0.89218993,  0.93001393,  0.96921765,  1.00997067,\n",
       "          1.05247413,  1.09696931,  1.14374949,  1.19317644,  1.24570419,\n",
       "          1.30191411,  1.36256869,  1.42869743,  1.50174123,  1.58381122,\n",
       "          1.67819304,  1.79044653,  1.93122778,  2.12570747,  2.46203784]),\n",
       "  array([-2.71988452e+00, -2.52530087e+00, -2.16674956e+00, -1.90752972e+00,\n",
       "         -1.65703534e+00, -1.47473872e+00, -1.46515627e+00, -1.42414752e+00,\n",
       "         -1.25567584e+00, -1.25236351e+00, -1.17217880e+00, -1.10020298e+00,\n",
       "         -1.07239209e+00, -1.03273407e+00, -9.49711188e-01, -9.38940276e-01,\n",
       "         -9.22008729e-01, -8.89150410e-01, -8.71018049e-01, -8.51508130e-01,\n",
       "         -8.39501934e-01, -8.36852547e-01, -7.98961688e-01, -6.84182016e-01,\n",
       "         -6.62529990e-01, -6.42721526e-01, -6.27519993e-01, -6.17327924e-01,\n",
       "         -5.83400896e-01, -5.71188974e-01, -4.80727852e-01, -4.62669973e-01,\n",
       "         -3.80109036e-01, -3.32207105e-01, -2.88150148e-01, -2.71743738e-01,\n",
       "         -2.71030701e-01, -2.69641532e-01, -2.08484122e-01, -1.73523442e-01,\n",
       "         -1.59887401e-01, -1.59282092e-01, -1.53196158e-01, -1.42476413e-01,\n",
       "         -1.25607086e-01, -1.17322238e-01, -9.55517734e-02, -9.43829201e-02,\n",
       "         -4.14495790e-02,  7.16988688e-04,  3.71202309e-02,  4.11875219e-02,\n",
       "          1.25976288e-01,  1.78103584e-01,  1.78980812e-01,  1.85636382e-01,\n",
       "          1.98668230e-01,  2.53559683e-01,  2.68014998e-01,  3.20453271e-01,\n",
       "          3.27066335e-01,  3.34764250e-01,  3.49887329e-01,  3.52161693e-01,\n",
       "          3.73319183e-01,  3.89805927e-01,  3.95617074e-01,  4.55768789e-01,\n",
       "          4.65251955e-01,  4.95718788e-01,  5.00151449e-01,  5.35490937e-01,\n",
       "          5.87620300e-01,  6.22026664e-01,  6.54547036e-01,  7.24920750e-01,\n",
       "          7.37246846e-01,  7.91589790e-01,  8.17506278e-01,  8.49972223e-01,\n",
       "          8.69407928e-01,  8.75770359e-01,  8.84367781e-01,  8.98436645e-01,\n",
       "          8.98655651e-01,  9.14101083e-01,  9.20151285e-01,  9.25373030e-01,\n",
       "          9.28936341e-01,  1.00658425e+00,  1.02361786e+00,  1.05769491e+00,\n",
       "          1.11617225e+00,  1.28027259e+00,  1.47539974e+00,  1.47890657e+00,\n",
       "          1.52308014e+00,  1.55795975e+00,  1.57945084e+00,  2.04037568e+00])),\n",
       " (0.9384022621198049, -0.029364911182828947, 0.9921283709145778))"
      ]
     },
     "execution_count": 9,
     "metadata": {},
     "output_type": "execute_result"
    },
    {
     "data": {
      "image/png": "[encoded data removed]",
      "text/plain": [
       "<Figure size 288x288 with 1 Axes>"
      ]
     },
     "metadata": {
      "needs_background": "light"
     },
     "output_type": "display_data"
    }
   ],
   "source": [
    "fig, ax = plt.subplots(figsize=(4,4))\n",
    "norm_sample = stats.norm.rvs(size = 100)\n",
    "stats.probplot(norm_sample, plot=ax)"
   ]
  },
  {
   "cell_type": "markdown",
   "id": "38ebde14",
   "metadata": {},
   "source": [
    "### 넷플릭스 QQ 그림"
   ]
  },
  {
   "cell_type": "code",
   "execution_count": 16,
   "id": "a8d70e64",
   "metadata": {},
   "outputs": [],
   "source": [
    "sp500_px = pd.read_csv('sp500_data.csv')"
   ]
  },
  {
   "cell_type": "code",
   "execution_count": 17,
   "id": "3423a7af",
   "metadata": {},
   "outputs": [
    {
     "data": {
      "text/plain": [
       "((array([-3.33278964, -3.07756454, -2.93575124, ...,  2.93575124,\n",
       "          3.07756454,  3.33278964]),\n",
       "  array([-6.60529819, -6.09667121, -5.40220961, ...,  5.12547859,\n",
       "          5.87072271,  6.03787   ])),\n",
       " (1.48237786637271, 0.0015561067366313861, 0.9941828221936322))"
      ]
     },
     "execution_count": 17,
     "metadata": {},
     "output_type": "execute_result"
    },
    {
     "data": {
      "image/png": "[encoded data removed]",
      "text/plain": [
       "<Figure size 288x288 with 1 Axes>"
      ]
     },
     "metadata": {
      "needs_background": "light"
     },
     "output_type": "display_data"
    }
   ],
   "source": [
    "nflx = sp500_px.NFLX\n",
    "nflx = np.diff(np.log(nflx[nflx>0]))\n",
    "fig, ax = plt.subplots(figsize = (4, 4))\n",
    "stats.probplot(nflx, plot=ax)"
   ]
  },
  {
   "cell_type": "markdown",
   "id": "719ef221",
   "metadata": {},
   "source": [
    "### 이항 확률 계산\n"
   ]
  },
  {
   "cell_type": "code",
   "execution_count": 23,
   "id": "bcfe0660",
   "metadata": {},
   "outputs": [
    {
     "data": {
      "text/plain": [
       "0.07289999999999992"
      ]
     },
     "execution_count": 23,
     "metadata": {},
     "output_type": "execute_result"
    }
   ],
   "source": [
    "# 이항시행\n",
    "stats.binom.pmf(2, n=5, p=0.1)"
   ]
  },
  {
   "cell_type": "code",
   "execution_count": 24,
   "id": "2bee6e08",
   "metadata": {},
   "outputs": [
    {
     "data": {
      "text/plain": [
       "0.99144"
      ]
     },
     "execution_count": 24,
     "metadata": {},
     "output_type": "execute_result"
    }
   ],
   "source": [
    "# 이항분포그는 \n",
    "stats.binom.cdf(2, n=5, p=0.1)"
   ]
  },
  {
   "cell_type": "markdown",
   "id": "5d722773",
   "metadata": {},
   "source": [
    "### 푸아송 분포"
   ]
  },
  {
   "cell_type": "code",
   "execution_count": 33,
   "id": "fec4a240",
   "metadata": {},
   "outputs": [
    {
     "data": {
      "text/plain": [
       "array([0, 3, 0, 1, 1, 2, 1, 1, 4, 1, 4, 3, 3, 1, 2, 2, 5, 3, 1, 1, 4, 1,\n",
       "       2, 2, 2, 0, 2, 3, 1, 1, 0, 1, 2, 1, 0, 1, 2, 3, 1, 1, 3, 1, 1, 2,\n",
       "       2, 3, 1, 4, 2, 1, 0, 3, 3, 4, 1, 2, 0, 2, 1, 2, 1, 3, 5, 1, 2, 0,\n",
       "       0, 3, 1, 3, 0, 1, 0, 1, 1, 4, 2, 4, 1, 2, 1, 2, 1, 2, 1, 0, 3, 0,\n",
       "       4, 1, 2, 6, 2, 0, 0, 2, 5, 4, 1, 2])"
      ]
     },
     "execution_count": 33,
     "metadata": {},
     "output_type": "execute_result"
    }
   ],
   "source": [
    "stats.poisson.rvs(2, size=100)"
   ]
  },
  {
   "cell_type": "markdown",
   "id": "ae675216",
   "metadata": {},
   "source": [
    "### 지수 분포"
   ]
  },
  {
   "cell_type": "code",
   "execution_count": 35,
   "id": "b670ddec",
   "metadata": {},
   "outputs": [
    {
     "data": {
      "text/plain": [
       "array([ 3.56274885,  4.54179308,  2.45751495,  1.689814  , 11.33099391,\n",
       "        0.93051667,  0.59704575,  2.65911632,  9.58406383, 13.63388661,\n",
       "        0.67997518,  0.52442401,  6.84401897,  5.56532729,  3.85428494,\n",
       "        3.00420872,  4.25359929,  4.45068277,  0.60351663,  6.98551698,\n",
       "        1.93865409, 16.52513413,  0.54747946,  3.1655323 ,  1.71637547,\n",
       "        5.60788144,  1.07086879,  4.41663964, 15.10386194,  2.91102668,\n",
       "        0.28748709,  4.19975561,  1.08167776,  6.23165217,  2.49356382,\n",
       "        8.4247709 ,  9.24619268,  0.20869107,  4.76067857,  5.72916354,\n",
       "        4.17971073, 11.31129759, 14.08151168, 15.87162139,  0.27938537,\n",
       "        3.03004346,  0.12861555,  0.34370029,  0.98191698, 14.77119877,\n",
       "        3.83911491,  0.84086005,  9.60680508,  1.63073724,  7.11349241,\n",
       "       12.03590038,  1.16073999,  3.80806101,  2.47349367,  0.97096358,\n",
       "        3.61278743,  3.57100233,  1.78571638,  6.4603504 ,  1.77432941,\n",
       "       23.47058421,  8.57471557,  3.84016809,  1.88091527, 18.51659768,\n",
       "        4.51687445,  5.78233334,  3.45654154, 14.08434558,  6.59825652,\n",
       "        1.00024516,  2.8149897 , 13.232789  , 11.20202552,  4.92368749,\n",
       "        5.75703955,  2.46940229, 20.13179074,  3.74619718,  2.81192762,\n",
       "        3.05650965,  8.13632866,  8.3523293 ,  0.85169399,  1.76862093,\n",
       "       34.29199224,  1.68565171,  3.01327572,  4.3728278 , 12.3092952 ,\n",
       "        7.0805969 ,  2.49541584,  2.05866958,  1.82722523,  0.80464689])"
      ]
     },
     "execution_count": 35,
     "metadata": {},
     "output_type": "execute_result"
    }
   ],
   "source": [
    "# stats.expon.rvs(scale=1/0.2, size = 100)\n",
    "stats.expon.rvs(scale=5, size = 100)"
   ]
  },
  {
   "cell_type": "code",
   "execution_count": 40,
   "id": "946505ba",
   "metadata": {},
   "outputs": [
    {
     "data": {
      "text/plain": [
       "array([ 3655.75474067,  1080.09894061,  6098.91687163,  6665.35510889,\n",
       "        1855.83553571,  1653.11080677,  1212.86330685,  2249.79423669,\n",
       "        5904.55613943,   771.78710978,  3271.49817138,  1131.94306376,\n",
       "        5875.6472166 ,  5301.27221613,  4213.94493821,  3988.37172869,\n",
       "        1818.09051801,  2502.38399488,  5025.60541778,  6508.1852722 ,\n",
       "        1462.80008938,  7670.12103916,   886.90639165,  1225.5925676 ,\n",
       "        6524.28092495,  2927.71123707,   689.03334282,   341.5976356 ,\n",
       "        3983.01581686,  3196.57438811,  4954.45322431,  1136.96456136,\n",
       "        7361.55614974,  3407.84143356,  3528.86063003,   787.26327393,\n",
       "         418.30165194,  3456.81255194,  4497.5779392 ,   819.44946227,\n",
       "        6487.74126339,  5148.44129038,  4578.61966373,  2377.86046167,\n",
       "         523.56772828,   715.62833349,  6043.66924007,  1969.54826081,\n",
       "        4851.88116412,   263.45742332,  1409.03678426,  1316.67903755,\n",
       "        3973.46142275,  6267.07087954,  4635.79831917,  5337.00930817,\n",
       "       10090.4577524 ,  9935.48884954,  2728.48058267,  6497.25917769,\n",
       "        7354.08236769,  1887.39350861,  4381.65653249,  6260.02461617,\n",
       "        4719.52459366,  3739.22188987,  3887.94924421,  5417.2025927 ,\n",
       "        3448.93030133,  7127.65356355,  2412.18486386,  3971.93597143,\n",
       "        5120.30946767,  2731.78410181,  3450.41670385,  1493.56270993,\n",
       "        2947.68576674,  2344.41145094,  2121.03165904, 16680.2612253 ,\n",
       "        4438.0086823 ,  5506.94905011,  8624.87731405,  9017.39845659,\n",
       "        4242.6665058 ,  2978.67937686,  6747.88312379,  2258.41704235,\n",
       "        4177.18251488,  5747.70277306,  8523.0315167 ,  4930.93712122,\n",
       "        2032.13191911,  5709.12540108,  6792.31525819, 11351.40687046,\n",
       "        7075.30579418,  6580.90946637,  2361.2649132 ,  2337.31432054])"
      ]
     },
     "execution_count": 40,
     "metadata": {},
     "output_type": "execute_result"
    }
   ],
   "source": [
    "stats.weibull_min.rvs(1.5, scale=5000, size=100)"
   ]
  }
 ],
 "metadata": {
  "kernelspec": {
   "display_name": "Python 3 (ipykernel)",
   "language": "python",
   "name": "python3"
  },
  "language_info": {
   "codemirror_mode": {
    "name": "ipython",
    "version": 3
   },
   "file_extension": ".py",
   "mimetype": "text/x-python",
   "name": "python",
   "nbconvert_exporter": "python",
   "pygments_lexer": "ipython3",
   "version": "3.9.7"
  }
 },
 "nbformat": 4,
 "nbformat_minor": 5
}
