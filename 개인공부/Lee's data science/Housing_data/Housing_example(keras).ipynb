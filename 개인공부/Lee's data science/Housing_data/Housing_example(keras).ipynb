{
 "cells": [
  {
   "cell_type": "code",
   "execution_count": 7,
   "metadata": {},
   "outputs": [],
   "source": [
    "from tensorflow import keras\n",
    "from keras.datasets import boston_housing\n",
    "from sklearn.preprocessing import StandardScaler"
   ]
  },
  {
   "cell_type": "code",
   "execution_count": 8,
   "metadata": {},
   "outputs": [],
   "source": [
    "##### Boston_housing dataset #####\n",
    "# 종속변수는 미국 Boston에 속한 도시들의 70년대 중반 집들의 중간값\n",
    "# data point는 도시\n",
    "# 독립변수는 범죄율, 평균 소득 등\n",
    "# 10 = > $ 10K"
   ]
  },
  {
   "cell_type": "code",
   "execution_count": 9,
   "metadata": {},
   "outputs": [
    {
     "name": "stdout",
     "output_type": "stream",
     "text": [
      "(404, 13)\n"
     ]
    }
   ],
   "source": [
    "# 데이터 불러오기\n",
    "(train_data, train_targets), (test_data, test_targets) = boston_housing.load_data()\n",
    "\n",
    "print(train_data.shape) # (404개의 data points, 13개의 독립변수)"
   ]
  },
  {
   "cell_type": "code",
   "execution_count": 10,
   "metadata": {},
   "outputs": [
    {
     "name": "stdout",
     "output_type": "stream",
     "text": [
      "[  1.23247   0.        8.14      0.        0.538     6.142    91.7\n",
      "   3.9769    4.      307.       21.      396.9      18.72   ]\n",
      "[15.2 42.3 50.  21.1 17.7]\n"
     ]
    }
   ],
   "source": [
    "# 데이터 확인\n",
    "print(train_data[0])\n",
    "print(train_targets[:5])"
   ]
  },
  {
   "cell_type": "markdown",
   "metadata": {},
   "source": [
    "### 데이터 표준화"
   ]
  },
  {
   "cell_type": "code",
   "execution_count": 11,
   "metadata": {},
   "outputs": [],
   "source": [
    "scaler = StandardScaler()"
   ]
  },
  {
   "cell_type": "code",
   "execution_count": 12,
   "metadata": {},
   "outputs": [],
   "source": [
    "### 표준화 방법 1\n",
    "train_data = scaler.fit_transform(train_data)\n",
    "test_data = scaler.transform(test_data) # fit_transform 사용 X"
   ]
  },
  {
   "cell_type": "code",
   "execution_count": 13,
   "metadata": {},
   "outputs": [],
   "source": [
    "### 표준화 방법 2\n",
    "mean = train_data.mean(axis=0)\n",
    "train_data -= mean\n",
    "std = train_data.std(axis=0)\n",
    "train_data /= std\n",
    "\n",
    "test_data -= mean\n",
    "test_data /= std"
   ]
  },
  {
   "cell_type": "code",
   "execution_count": 14,
   "metadata": {},
   "outputs": [
    {
     "data": {
      "text/plain": [
       "array([-0.27224633, -0.48361547, -0.43576161, -0.25683275, -0.1652266 ,\n",
       "       -0.1764426 ,  0.81306188,  0.1166983 , -0.62624905, -0.59517003,\n",
       "        1.14850044,  0.44807713,  0.8252202 ])"
      ]
     },
     "execution_count": 14,
     "metadata": {},
     "output_type": "execute_result"
    }
   ],
   "source": [
    "train_data[0]"
   ]
  },
  {
   "cell_type": "markdown",
   "metadata": {},
   "source": [
    "### 회귀분석 적용"
   ]
  },
  {
   "cell_type": "code",
   "execution_count": 15,
   "metadata": {},
   "outputs": [
    {
     "name": "stdout",
     "output_type": "stream",
     "text": [
      "LinearRegression()\n",
      "0.7213535934621551\n"
     ]
    }
   ],
   "source": [
    "# 회귀분석\n",
    "from sklearn.linear_model import LinearRegression\n",
    "model_std = LinearRegression()\n",
    "\n",
    "print(model_std.fit(train_data, train_targets))\n",
    "print(model_std.score(test_data, test_targets))"
   ]
  },
  {
   "cell_type": "code",
   "execution_count": 16,
   "metadata": {},
   "outputs": [
    {
     "name": "stdout",
     "output_type": "stream",
     "text": [
      "Ridge(alpha=0.5)\n",
      "0.721905249867746\n"
     ]
    }
   ],
   "source": [
    "# Ridge\n",
    "from sklearn.linear_model import Ridge\n",
    "model_ridge = Ridge(alpha=0.5)\n",
    "\n",
    "print(model_ridge.fit(train_data, train_targets))\n",
    "print(model_ridge.score(test_data, test_targets))"
   ]
  },
  {
   "cell_type": "code",
   "execution_count": 17,
   "metadata": {},
   "outputs": [
    {
     "name": "stdout",
     "output_type": "stream",
     "text": [
      "Lasso(alpha=0.5)\n",
      "0.7379730952910653\n"
     ]
    }
   ],
   "source": [
    "# Lasso\n",
    "from sklearn.linear_model import Lasso\n",
    "model_lasso = Lasso(alpha=0.5)\n",
    "\n",
    "print(model_lasso.fit(train_data, train_targets))\n",
    "print(model_lasso.score(test_data, test_targets))"
   ]
  },
  {
   "cell_type": "markdown",
   "metadata": {},
   "source": [
    "### 신경망 사용하기\n",
    "2개의 은닉층을 갖고, 은닉층 노드의 수는 64인 모델을 사용\n",
    "\n",
    "독립변수의 수 : 13개 \n",
    "\n",
    "입력 노드의 수 : 13개 (독립변수와 동일)\n",
    "\n",
    "입력 층의 노드 개수 : 14개(편향 포함)\n",
    "\n",
    "은닉층(1번)의 노드 개수 : 65개(64 + 편향 1 )\n",
    "\n",
    "은닉층(2번)의 노드 개수 : 65개(64 + 편향 1 )\n",
    "\n",
    "출력층의 노드 개수 : 1개 (회귀)\n",
    "\n",
    "활성화 함수 : Relu 사용"
   ]
  },
  {
   "cell_type": "markdown",
   "metadata": {},
   "source": [
    "### Keras"
   ]
  },
  {
   "cell_type": "code",
   "execution_count": 18,
   "metadata": {},
   "outputs": [],
   "source": [
    "from keras import models\n",
    "from keras import layers"
   ]
  },
  {
   "cell_type": "code",
   "execution_count": 19,
   "metadata": {},
   "outputs": [
    {
     "name": "stderr",
     "output_type": "stream",
     "text": [
      "2022-10-27 18:06:45.447663: W tensorflow/stream_executor/platform/default/dso_loader.cc:64] Could not load dynamic library 'libcusolver.so.11'; dlerror: libcusolver.so.11: cannot open shared object file: No such file or directory\n",
      "2022-10-27 18:06:45.448829: W tensorflow/core/common_runtime/gpu/gpu_device.cc:1934] Cannot dlopen some GPU libraries. Please make sure the missing libraries mentioned above are installed properly if you would like to use GPU. Follow the guide at https://www.tensorflow.org/install/gpu for how to download and setup the required libraries for your platform.\n",
      "Skipping registering GPU devices...\n",
      "2022-10-27 18:06:45.449750: I tensorflow/core/platform/cpu_feature_guard.cc:193] This TensorFlow binary is optimized with oneAPI Deep Neural Network Library (oneDNN) to use the following CPU instructions in performance-critical operations:  AVX2 AVX512F FMA\n",
      "To enable them in other operations, rebuild TensorFlow with the appropriate compiler flags.\n"
     ]
    }
   ],
   "source": [
    "model = models.Sequential()\n",
    "\n",
    "# 편항 노드는 자동적으로 1이 추가되어 있어서 별도 추가 필요 X\n",
    "model.add(layers.Dense(64, input_shape=(train_data.shape[1],)))\n",
    "model.add(layers.ReLU())\n",
    "model.add(layers.Dense(64))\n",
    "model.add(layers.ReLU())\n",
    "model.add(layers.Dense(1))"
   ]
  },
  {
   "cell_type": "code",
   "execution_count": 20,
   "metadata": {},
   "outputs": [
    {
     "name": "stdout",
     "output_type": "stream",
     "text": [
      "Model: \"sequential\"\n",
      "_________________________________________________________________\n",
      " Layer (type)                Output Shape              Param #   \n",
      "=================================================================\n",
      " dense (Dense)               (None, 64)                896       \n",
      "                                                                 \n",
      " re_lu (ReLU)                (None, 64)                0         \n",
      "                                                                 \n",
      " dense_1 (Dense)             (None, 64)                4160      \n",
      "                                                                 \n",
      " re_lu_1 (ReLU)              (None, 64)                0         \n",
      "                                                                 \n",
      " dense_2 (Dense)             (None, 1)                 65        \n",
      "                                                                 \n",
      "=================================================================\n",
      "Total params: 5,121\n",
      "Trainable params: 5,121\n",
      "Non-trainable params: 0\n",
      "_________________________________________________________________\n"
     ]
    }
   ],
   "source": [
    "# 기본적인 회귀분석 모형을 사용했으면 14개의 파라미터만이 있었을 것(13 + 1)\n",
    "# 간단한 신경망을 만들었을 뿐인데도 회귀모형과 비교해서 파라미터가 겁나 많음\n",
    "# 때문에 신경망을 사용할 경우 과적합의 위험성이 상당히 높다는걸 알 수 있음\n",
    "\n",
    "# 모델 요약\n",
    "model.summary()"
   ]
  },
  {
   "cell_type": "code",
   "execution_count": 21,
   "metadata": {},
   "outputs": [],
   "source": [
    "# optimizer 적용\n",
    "adam = keras.optimizers.Adam(learning_rate=0.001)\n",
    "\n",
    "model.compile(optimizer=adam, loss='mse')"
   ]
  },
  {
   "cell_type": "code",
   "execution_count": 37,
   "metadata": {},
   "outputs": [
    {
     "name": "stdout",
     "output_type": "stream",
     "text": [
      "Epoch 1/80\n",
      "33/33 [==============================] - 0s 6ms/step - loss: 530.9036 - val_loss: 535.0509\n",
      "Epoch 2/80\n",
      "33/33 [==============================] - 0s 3ms/step - loss: 377.5857 - val_loss: 328.4128\n",
      "Epoch 3/80\n",
      "33/33 [==============================] - 0s 3ms/step - loss: 166.4835 - val_loss: 127.2356\n",
      "Epoch 4/80\n",
      "33/33 [==============================] - 0s 3ms/step - loss: 68.9611 - val_loss: 75.1889\n",
      "Epoch 5/80\n",
      "33/33 [==============================] - 0s 3ms/step - loss: 45.9677 - val_loss: 51.9442\n",
      "Epoch 6/80\n",
      "33/33 [==============================] - 0s 4ms/step - loss: 34.4845 - val_loss: 38.4907\n",
      "Epoch 7/80\n",
      "33/33 [==============================] - 0s 4ms/step - loss: 27.8297 - val_loss: 31.3050\n",
      "Epoch 8/80\n",
      "33/33 [==============================] - 0s 4ms/step - loss: 24.5037 - val_loss: 26.7358\n",
      "Epoch 9/80\n",
      "33/33 [==============================] - 0s 4ms/step - loss: 22.2591 - val_loss: 24.0553\n",
      "Epoch 10/80\n",
      "33/33 [==============================] - 0s 4ms/step - loss: 20.2485 - val_loss: 21.8513\n",
      "Epoch 11/80\n",
      "33/33 [==============================] - 0s 3ms/step - loss: 18.5922 - val_loss: 19.9772\n",
      "Epoch 12/80\n",
      "33/33 [==============================] - 0s 3ms/step - loss: 17.1866 - val_loss: 18.5436\n",
      "Epoch 13/80\n",
      "33/33 [==============================] - 0s 3ms/step - loss: 16.1493 - val_loss: 17.2568\n",
      "Epoch 14/80\n",
      "33/33 [==============================] - 0s 4ms/step - loss: 15.1148 - val_loss: 16.6190\n",
      "Epoch 15/80\n",
      "33/33 [==============================] - 0s 4ms/step - loss: 14.4353 - val_loss: 15.5664\n",
      "Epoch 16/80\n",
      "33/33 [==============================] - 0s 4ms/step - loss: 14.1307 - val_loss: 14.9130\n",
      "Epoch 17/80\n",
      "33/33 [==============================] - 0s 4ms/step - loss: 13.4770 - val_loss: 14.5021\n",
      "Epoch 18/80\n",
      "33/33 [==============================] - 0s 4ms/step - loss: 12.5347 - val_loss: 14.2098\n",
      "Epoch 19/80\n",
      "33/33 [==============================] - 0s 4ms/step - loss: 11.9916 - val_loss: 13.7717\n",
      "Epoch 20/80\n",
      "33/33 [==============================] - 0s 4ms/step - loss: 11.4945 - val_loss: 13.8999\n",
      "Epoch 21/80\n",
      "33/33 [==============================] - 0s 4ms/step - loss: 11.3097 - val_loss: 13.8009\n",
      "Epoch 22/80\n",
      "33/33 [==============================] - 0s 3ms/step - loss: 10.8831 - val_loss: 13.4723\n",
      "Epoch 23/80\n",
      "33/33 [==============================] - 0s 3ms/step - loss: 10.5292 - val_loss: 13.4712\n",
      "Epoch 24/80\n",
      "33/33 [==============================] - 0s 3ms/step - loss: 10.1748 - val_loss: 13.6255\n",
      "Epoch 25/80\n",
      "33/33 [==============================] - 0s 4ms/step - loss: 10.0693 - val_loss: 13.3286\n",
      "Epoch 26/80\n",
      "33/33 [==============================] - 0s 3ms/step - loss: 9.9930 - val_loss: 13.6958\n",
      "Epoch 27/80\n",
      "33/33 [==============================] - 0s 3ms/step - loss: 9.5862 - val_loss: 13.5532\n",
      "Epoch 28/80\n",
      "33/33 [==============================] - 0s 3ms/step - loss: 9.8908 - val_loss: 13.2920\n",
      "Epoch 29/80\n",
      "33/33 [==============================] - 0s 3ms/step - loss: 9.2364 - val_loss: 13.4404\n",
      "Epoch 30/80\n",
      "33/33 [==============================] - 0s 4ms/step - loss: 9.4097 - val_loss: 13.4693\n",
      "Epoch 31/80\n",
      "33/33 [==============================] - 0s 4ms/step - loss: 8.9348 - val_loss: 14.1509\n",
      "Epoch 32/80\n",
      "33/33 [==============================] - 0s 4ms/step - loss: 8.9039 - val_loss: 13.7535\n",
      "Epoch 33/80\n",
      "33/33 [==============================] - 0s 4ms/step - loss: 8.9071 - val_loss: 14.1118\n",
      "Epoch 34/80\n",
      "33/33 [==============================] - 0s 3ms/step - loss: 8.6992 - val_loss: 13.7658\n",
      "Epoch 35/80\n",
      "33/33 [==============================] - 0s 4ms/step - loss: 8.7445 - val_loss: 13.9408\n",
      "Epoch 36/80\n",
      "33/33 [==============================] - 0s 4ms/step - loss: 8.6796 - val_loss: 14.1406\n",
      "Epoch 37/80\n",
      "33/33 [==============================] - 0s 4ms/step - loss: 8.4804 - val_loss: 13.6938\n",
      "Epoch 38/80\n",
      "33/33 [==============================] - 0s 2ms/step - loss: 8.1523 - val_loss: 13.7851\n",
      "Epoch 39/80\n",
      "33/33 [==============================] - 0s 3ms/step - loss: 8.1074 - val_loss: 14.1073\n",
      "Epoch 40/80\n",
      "33/33 [==============================] - 0s 4ms/step - loss: 8.1802 - val_loss: 13.9507\n",
      "Epoch 41/80\n",
      "33/33 [==============================] - 0s 4ms/step - loss: 7.9017 - val_loss: 14.4758\n",
      "Epoch 42/80\n",
      "33/33 [==============================] - 0s 3ms/step - loss: 7.9220 - val_loss: 14.0929\n",
      "Epoch 43/80\n",
      "33/33 [==============================] - 0s 3ms/step - loss: 7.6776 - val_loss: 14.3763\n",
      "Epoch 44/80\n",
      "33/33 [==============================] - 0s 4ms/step - loss: 7.7264 - val_loss: 14.1740\n",
      "Epoch 45/80\n",
      "33/33 [==============================] - 0s 3ms/step - loss: 7.5406 - val_loss: 14.1277\n",
      "Epoch 46/80\n",
      "33/33 [==============================] - 0s 2ms/step - loss: 7.4563 - val_loss: 14.9936\n",
      "Epoch 47/80\n",
      "33/33 [==============================] - 0s 4ms/step - loss: 7.3018 - val_loss: 14.6336\n",
      "Epoch 48/80\n",
      "33/33 [==============================] - 0s 4ms/step - loss: 7.5693 - val_loss: 16.7645\n",
      "Epoch 49/80\n",
      "33/33 [==============================] - 0s 4ms/step - loss: 7.4267 - val_loss: 15.2314\n",
      "Epoch 50/80\n",
      "33/33 [==============================] - 0s 4ms/step - loss: 7.0480 - val_loss: 14.3839\n",
      "Epoch 51/80\n",
      "33/33 [==============================] - 0s 4ms/step - loss: 6.9606 - val_loss: 14.4255\n",
      "Epoch 52/80\n",
      "33/33 [==============================] - 0s 4ms/step - loss: 7.0266 - val_loss: 15.4084\n",
      "Epoch 53/80\n",
      "33/33 [==============================] - 0s 3ms/step - loss: 7.1363 - val_loss: 15.0196\n",
      "Epoch 54/80\n",
      "33/33 [==============================] - 0s 4ms/step - loss: 7.0046 - val_loss: 15.0430\n",
      "Epoch 55/80\n",
      "33/33 [==============================] - 0s 4ms/step - loss: 6.8123 - val_loss: 14.8129\n",
      "Epoch 56/80\n",
      "33/33 [==============================] - 0s 4ms/step - loss: 6.6506 - val_loss: 14.7980\n",
      "Epoch 57/80\n",
      "33/33 [==============================] - 0s 3ms/step - loss: 6.5481 - val_loss: 15.0161\n",
      "Epoch 58/80\n",
      "33/33 [==============================] - 0s 4ms/step - loss: 6.9403 - val_loss: 14.8231\n",
      "Epoch 59/80\n",
      "33/33 [==============================] - 0s 3ms/step - loss: 6.5687 - val_loss: 14.5416\n",
      "Epoch 60/80\n",
      "33/33 [==============================] - 0s 4ms/step - loss: 6.5380 - val_loss: 15.2893\n",
      "Epoch 61/80\n",
      "33/33 [==============================] - 0s 2ms/step - loss: 6.1563 - val_loss: 15.7525\n",
      "Epoch 62/80\n",
      "33/33 [==============================] - 0s 4ms/step - loss: 6.7348 - val_loss: 15.8339\n",
      "Epoch 63/80\n",
      "33/33 [==============================] - 0s 3ms/step - loss: 6.0892 - val_loss: 15.1569\n",
      "Epoch 64/80\n",
      "33/33 [==============================] - 0s 3ms/step - loss: 6.3020 - val_loss: 14.9832\n",
      "Epoch 65/80\n",
      "33/33 [==============================] - 0s 4ms/step - loss: 6.2957 - val_loss: 15.5449\n",
      "Epoch 66/80\n",
      "33/33 [==============================] - 0s 4ms/step - loss: 6.0916 - val_loss: 15.8659\n",
      "Epoch 67/80\n",
      "33/33 [==============================] - 0s 4ms/step - loss: 6.1583 - val_loss: 15.4371\n",
      "Epoch 68/80\n",
      "33/33 [==============================] - 0s 3ms/step - loss: 5.9770 - val_loss: 16.2592\n",
      "Epoch 69/80\n",
      "33/33 [==============================] - 0s 4ms/step - loss: 5.7626 - val_loss: 15.5282\n",
      "Epoch 70/80\n",
      "33/33 [==============================] - 0s 4ms/step - loss: 5.9858 - val_loss: 16.2090\n",
      "Epoch 71/80\n",
      "33/33 [==============================] - 0s 3ms/step - loss: 5.7695 - val_loss: 15.6529\n",
      "Epoch 72/80\n",
      "33/33 [==============================] - 0s 4ms/step - loss: 5.7968 - val_loss: 15.7339\n",
      "Epoch 73/80\n",
      "33/33 [==============================] - 0s 4ms/step - loss: 5.7711 - val_loss: 16.0139\n",
      "Epoch 74/80\n",
      "33/33 [==============================] - 0s 3ms/step - loss: 5.6400 - val_loss: 17.2305\n",
      "Epoch 75/80\n",
      "33/33 [==============================] - 0s 4ms/step - loss: 5.6355 - val_loss: 16.5297\n",
      "Epoch 76/80\n",
      "33/33 [==============================] - 0s 3ms/step - loss: 5.5619 - val_loss: 16.0817\n",
      "Epoch 77/80\n",
      "33/33 [==============================] - 0s 4ms/step - loss: 5.7312 - val_loss: 16.8297\n",
      "Epoch 78/80\n",
      "33/33 [==============================] - 0s 4ms/step - loss: 5.4350 - val_loss: 16.9672\n",
      "Epoch 79/80\n",
      "33/33 [==============================] - 0s 3ms/step - loss: 5.2975 - val_loss: 16.5554\n",
      "Epoch 80/80\n",
      "33/33 [==============================] - 0s 3ms/step - loss: 5.2119 - val_loss: 16.5221\n"
     ]
    }
   ],
   "source": [
    "# batch size에 따라 해당 데이터 끝에 남는 관측치가 생기는데, deeplearning framework에 따라 해당 데이터를 쓸수도 안쓸수도 있음\n",
    "# 업데이트 횟수 : 404 / 16 \n",
    "# batch_size = 10, validation_split 이 0.2로 주어질 경우 : 404 * 0.8 / 10 = 32.xxxxx.... = 33 번 계산함\n",
    "# 매 epoch 마다 관측치 index를 뒤집어가면서 학습을 시킴\n",
    "\n",
    "history = model.fit(train_data, train_targets, epochs=80, batch_size=10, validation_split=0.2)"
   ]
  },
  {
   "cell_type": "code",
   "execution_count": 38,
   "metadata": {},
   "outputs": [
    {
     "data": {
      "text/plain": [
       "dict_keys(['loss', 'val_loss'])"
      ]
     },
     "execution_count": 38,
     "metadata": {},
     "output_type": "execute_result"
    }
   ],
   "source": [
    "history.history.keys()"
   ]
  },
  {
   "cell_type": "markdown",
   "metadata": {},
   "source": [
    "### Loss 값 변화 살펴보기"
   ]
  },
  {
   "cell_type": "code",
   "execution_count": 39,
   "metadata": {},
   "outputs": [
    {
     "data": {
      "image/png": "[encoded data removed]",
      "text/plain": [
       "<Figure size 640x480 with 1 Axes>"
      ]
     },
     "metadata": {},
     "output_type": "display_data"
    }
   ],
   "source": [
    "import matplotlib.pyplot as plt\n",
    "\n",
    "plt.plot(history.history['loss'])\n",
    "plt.plot(history.history['val_loss'])\n",
    "plt.xlabel('epoch')\n",
    "plt.ylabel('loss')\n",
    "plt.legend(['train', 'val'])\n",
    "plt.show()"
   ]
  },
  {
   "cell_type": "markdown",
   "metadata": {},
   "source": [
    "### 모델 평가하기"
   ]
  },
  {
   "cell_type": "code",
   "execution_count": 22,
   "metadata": {},
   "outputs": [
    {
     "name": "stdout",
     "output_type": "stream",
     "text": [
      "4/4 [==============================] - 0s 2ms/step\n"
     ]
    }
   ],
   "source": [
    "# test 관측치 102개에 대해 default batch_size = 32 로 계산\n",
    "y_pred = model.predict(test_data)"
   ]
  },
  {
   "cell_type": "markdown",
   "metadata": {},
   "source": [
    "# 성능 평가하기"
   ]
  },
  {
   "cell_type": "code",
   "execution_count": 89,
   "metadata": {},
   "outputs": [
    {
     "data": {
      "text/plain": [
       "0.8210492169613169"
      ]
     },
     "execution_count": 89,
     "metadata": {},
     "output_type": "execute_result"
    }
   ],
   "source": [
    "from sklearn.metrics import r2_score\n",
    "\n",
    "r2_score(test_targets, y_pred)"
   ]
  }
 ],
 "metadata": {
  "kernelspec": {
   "display_name": "Python 3.7.9 ('text': conda)",
   "language": "python",
   "name": "python3"
  },
  "language_info": {
   "codemirror_mode": {
    "name": "ipython",
    "version": 3
   },
   "file_extension": ".py",
   "mimetype": "text/x-python",
   "name": "python",
   "nbconvert_exporter": "python",
   "pygments_lexer": "ipython3",
   "version": "3.7.9"
  },
  "orig_nbformat": 4,
  "vscode": {
   "interpreter": {
    "hash": "2333581806fdf1f6716b69cbad83f15f1223967e5352ef47a61fcc3fe0040041"
   }
  }
 },
 "nbformat": 4,
 "nbformat_minor": 2
}
