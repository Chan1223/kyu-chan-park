{
 "cells": [
  {
   "cell_type": "code",
   "execution_count": 5,
   "metadata": {},
   "outputs": [],
   "source": [
    "from keras.datasets import boston_housing"
   ]
  },
  {
   "cell_type": "code",
   "execution_count": 6,
   "metadata": {},
   "outputs": [],
   "source": [
    "(train_data, train_targets), (test_data, test_targets) = boston_housing.load_data()"
   ]
  },
  {
   "cell_type": "code",
   "execution_count": 7,
   "metadata": {},
   "outputs": [
    {
     "data": {
      "text/plain": [
       "(404, 13)"
      ]
     },
     "execution_count": 7,
     "metadata": {},
     "output_type": "execute_result"
    }
   ],
   "source": [
    "train_data.shape"
   ]
  },
  {
   "cell_type": "markdown",
   "metadata": {},
   "source": [
    "404개의 data points <br>\n",
    "13개의 독립변수"
   ]
  },
  {
   "cell_type": "code",
   "execution_count": 8,
   "metadata": {},
   "outputs": [
    {
     "data": {
      "text/plain": [
       "array([  1.23247,   0.     ,   8.14   ,   0.     ,   0.538  ,   6.142  ,\n",
       "        91.7    ,   3.9769 ,   4.     , 307.     ,  21.     , 396.9    ,\n",
       "        18.72   ])"
      ]
     },
     "execution_count": 8,
     "metadata": {},
     "output_type": "execute_result"
    }
   ],
   "source": [
    "train_data[0]"
   ]
  },
  {
   "cell_type": "code",
   "execution_count": 9,
   "metadata": {},
   "outputs": [
    {
     "data": {
      "text/plain": [
       "array([15.2, 42.3, 50. , 21.1, 17.7])"
      ]
     },
     "execution_count": 9,
     "metadata": {},
     "output_type": "execute_result"
    }
   ],
   "source": [
    "train_targets[:5]"
   ]
  },
  {
   "cell_type": "markdown",
   "metadata": {},
   "source": [
    "종속변수는 미국 Boston에 속한 도시들의 70년대 중반 집들의 중간값 <br>\n",
    "data point는 도시 <br>\n",
    "독립변수는 범죄율, 평균 소득 등 <br>\n",
    "10 = > $ 10K"
   ]
  },
  {
   "cell_type": "code",
   "execution_count": 10,
   "metadata": {
    "collapsed": true
   },
   "outputs": [],
   "source": [
    "mean = train_data.mean(axis=0)\n",
    "train_data -= mean\n",
    "std = train_data.std(axis=0)\n",
    "train_data /= std"
   ]
  },
  {
   "cell_type": "code",
   "execution_count": 11,
   "metadata": {
    "collapsed": true
   },
   "outputs": [],
   "source": [
    "test_data -= mean\n",
    "test_data /= std"
   ]
  },
  {
   "cell_type": "markdown",
   "metadata": {},
   "source": [
    "데이터 표준화하기"
   ]
  },
  {
   "cell_type": "code",
   "execution_count": 12,
   "metadata": {
    "collapsed": true
   },
   "outputs": [],
   "source": [
    "from keras import models\n",
    "from keras import layers"
   ]
  },
  {
   "cell_type": "code",
   "execution_count": 13,
   "metadata": {},
   "outputs": [
    {
     "name": "stdout",
     "output_type": "stream",
     "text": [
      "WARNING:tensorflow:From C:\\Users\\Sang\\Anaconda3\\lib\\site-packages\\tensorflow\\python\\framework\\op_def_library.py:263: colocate_with (from tensorflow.python.framework.ops) is deprecated and will be removed in a future version.\n",
      "Instructions for updating:\n",
      "Colocations handled automatically by placer.\n"
     ]
    }
   ],
   "source": [
    "model = models.Sequential()\n",
    "model.add(layers.Dense(64, activation = 'relu', input_shape=(train_data.shape[1],)))\n",
    "model.add(layers.Dense(64, activation = 'relu'))\n",
    "model.add(layers.Dense(1))"
   ]
  },
  {
   "cell_type": "markdown",
   "metadata": {},
   "source": [
    "종속변수가 연속변수이기 때문에 마지막 layer에는 node가 하나밖에 없다. "
   ]
  },
  {
   "cell_type": "code",
   "execution_count": 14,
   "metadata": {
    "collapsed": true
   },
   "outputs": [],
   "source": [
    "model.compile(optimizer='adam', loss='mse')"
   ]
  },
  {
   "cell_type": "code",
   "execution_count": 15,
   "metadata": {},
   "outputs": [
    {
     "name": "stdout",
     "output_type": "stream",
     "text": [
      "WARNING:tensorflow:From C:\\Users\\Sang\\Anaconda3\\lib\\site-packages\\tensorflow\\python\\ops\\math_ops.py:3066: to_int32 (from tensorflow.python.ops.math_ops) is deprecated and will be removed in a future version.\n",
      "Instructions for updating:\n",
      "Use tf.cast instead.\n",
      "Epoch 1/80\n",
      "404/404 [==============================] - 1s 2ms/step - loss: 541.5246\n",
      "Epoch 2/80\n",
      "404/404 [==============================] - 0s 197us/step - loss: 410.9145\n",
      "Epoch 3/80\n",
      "404/404 [==============================] - 0s 148us/step - loss: 213.1528\n",
      "Epoch 4/80\n",
      "404/404 [==============================] - 0s 118us/step - loss: 80.4698\n",
      "Epoch 5/80\n",
      "404/404 [==============================] - 0s 118us/step - loss: 46.8327\n",
      "Epoch 6/80\n",
      "404/404 [==============================] - 0s 94us/step - loss: 33.2937\n",
      "Epoch 7/80\n",
      "404/404 [==============================] - 0s 99us/step - loss: 26.2165\n",
      "Epoch 8/80\n",
      "404/404 [==============================] - 0s 133us/step - loss: 22.7173\n",
      "Epoch 9/80\n",
      "404/404 [==============================] - 0s 91us/step - loss: 20.4712\n",
      "Epoch 10/80\n",
      "404/404 [==============================] - 0s 104us/step - loss: 18.7839\n",
      "Epoch 11/80\n",
      "404/404 [==============================] - 0s 106us/step - loss: 17.3337\n",
      "Epoch 12/80\n",
      "404/404 [==============================] - 0s 99us/step - loss: 16.2080\n",
      "Epoch 13/80\n",
      "404/404 [==============================] - 0s 116us/step - loss: 15.2845\n",
      "Epoch 14/80\n",
      "404/404 [==============================] - 0s 264us/step - loss: 14.4457\n",
      "Epoch 15/80\n",
      "404/404 [==============================] - 0s 217us/step - loss: 13.7203\n",
      "Epoch 16/80\n",
      "404/404 [==============================] - 0s 180us/step - loss: 13.1492\n",
      "Epoch 17/80\n",
      "404/404 [==============================] - 0s 138us/step - loss: 12.6211\n",
      "Epoch 18/80\n",
      "404/404 [==============================] - 0s 106us/step - loss: 12.0972\n",
      "Epoch 19/80\n",
      "404/404 [==============================] - 0s 111us/step - loss: 11.7756\n",
      "Epoch 20/80\n",
      "404/404 [==============================] - 0s 118us/step - loss: 11.5298\n",
      "Epoch 21/80\n",
      "404/404 [==============================] - 0s 128us/step - loss: 11.1819\n",
      "Epoch 22/80\n",
      "404/404 [==============================] - 0s 180us/step - loss: 10.9417\n",
      "Epoch 23/80\n",
      "404/404 [==============================] - 0s 143us/step - loss: 10.7376\n",
      "Epoch 24/80\n",
      "404/404 [==============================] - 0s 180us/step - loss: 10.3729\n",
      "Epoch 25/80\n",
      "404/404 [==============================] - 0s 237us/step - loss: 10.1609\n",
      "Epoch 26/80\n",
      "404/404 [==============================] - 0s 136us/step - loss: 10.0505\n",
      "Epoch 27/80\n",
      "404/404 [==============================] - 0s 183us/step - loss: 9.8851\n",
      "Epoch 28/80\n",
      "404/404 [==============================] - 0s 242us/step - loss: 9.8890\n",
      "Epoch 29/80\n",
      "404/404 [==============================] - 0s 207us/step - loss: 9.5454\n",
      "Epoch 30/80\n",
      "404/404 [==============================] - 0s 153us/step - loss: 9.3455\n",
      "Epoch 31/80\n",
      "404/404 [==============================] - 0s 143us/step - loss: 9.2824\n",
      "Epoch 32/80\n",
      "404/404 [==============================] - 0s 116us/step - loss: 9.4294\n",
      "Epoch 33/80\n",
      "404/404 [==============================] - 0s 111us/step - loss: 9.0477\n",
      "Epoch 34/80\n",
      "404/404 [==============================] - 0s 128us/step - loss: 9.0456\n",
      "Epoch 35/80\n",
      "404/404 [==============================] - 0s 109us/step - loss: 8.9971\n",
      "Epoch 36/80\n",
      "404/404 [==============================] - 0s 118us/step - loss: 8.8050\n",
      "Epoch 37/80\n",
      "404/404 [==============================] - 0s 111us/step - loss: 8.8133\n",
      "Epoch 38/80\n",
      "404/404 [==============================] - 0s 131us/step - loss: 8.6349\n",
      "Epoch 39/80\n",
      "404/404 [==============================] - 0s 286us/step - loss: 8.5138\n",
      "Epoch 40/80\n",
      "404/404 [==============================] - 0s 207us/step - loss: 8.4688\n",
      "Epoch 41/80\n",
      "404/404 [==============================] - 0s 207us/step - loss: 8.3810\n",
      "Epoch 42/80\n",
      "404/404 [==============================] - 0s 207us/step - loss: 8.2901\n",
      "Epoch 43/80\n",
      "404/404 [==============================] - 0s 249us/step - loss: 8.2151\n",
      "Epoch 44/80\n",
      "404/404 [==============================] - 0s 200us/step - loss: 8.2562\n",
      "Epoch 45/80\n",
      "404/404 [==============================] - 0s 193us/step - loss: 8.0869\n",
      "Epoch 46/80\n",
      "404/404 [==============================] - 0s 318us/step - loss: 7.9673\n",
      "Epoch 47/80\n",
      "404/404 [==============================] - 0s 222us/step - loss: 8.0373\n",
      "Epoch 48/80\n",
      "404/404 [==============================] - 0s 180us/step - loss: 7.8947\n",
      "Epoch 49/80\n",
      "404/404 [==============================] - 0s 239us/step - loss: 7.7955\n",
      "Epoch 50/80\n",
      "404/404 [==============================] - 0s 232us/step - loss: 7.9773\n",
      "Epoch 51/80\n",
      "404/404 [==============================] - 0s 232us/step - loss: 7.6814\n",
      "Epoch 52/80\n",
      "404/404 [==============================] - 0s 168us/step - loss: 7.6398\n",
      "Epoch 53/80\n",
      "404/404 [==============================] - 0s 230us/step - loss: 7.6570\n",
      "Epoch 54/80\n",
      "404/404 [==============================] - 0s 170us/step - loss: 7.5973\n",
      "Epoch 55/80\n",
      "404/404 [==============================] - 0s 227us/step - loss: 7.5279\n",
      "Epoch 56/80\n",
      "404/404 [==============================] - 0s 163us/step - loss: 7.4715\n",
      "Epoch 57/80\n",
      "404/404 [==============================] - 0s 185us/step - loss: 7.5608\n",
      "Epoch 58/80\n",
      "404/404 [==============================] - 0s 185us/step - loss: 7.2849\n",
      "Epoch 59/80\n",
      "404/404 [==============================] - 0s 249us/step - loss: 7.2026\n",
      "Epoch 60/80\n",
      "404/404 [==============================] - 0s 212us/step - loss: 7.1375\n",
      "Epoch 61/80\n",
      "404/404 [==============================] - 0s 210us/step - loss: 7.1161\n",
      "Epoch 62/80\n",
      "404/404 [==============================] - 0s 151us/step - loss: 7.0792\n",
      "Epoch 63/80\n",
      "404/404 [==============================] - 0s 222us/step - loss: 7.0268\n",
      "Epoch 64/80\n",
      "404/404 [==============================] - 0s 126us/step - loss: 6.9782\n",
      "Epoch 65/80\n",
      "404/404 [==============================] - 0s 197us/step - loss: 7.2189\n",
      "Epoch 66/80\n",
      "404/404 [==============================] - 0s 118us/step - loss: 6.9633\n",
      "Epoch 67/80\n",
      "404/404 [==============================] - 0s 109us/step - loss: 6.8772\n",
      "Epoch 68/80\n",
      "404/404 [==============================] - 0s 121us/step - loss: 6.7391\n",
      "Epoch 69/80\n",
      "404/404 [==============================] - 0s 118us/step - loss: 6.7306\n",
      "Epoch 70/80\n",
      "404/404 [==============================] - 0s 131us/step - loss: 6.6508\n",
      "Epoch 71/80\n",
      "404/404 [==============================] - 0s 193us/step - loss: 7.0594\n",
      "Epoch 72/80\n",
      "404/404 [==============================] - 0s 207us/step - loss: 7.0383\n",
      "Epoch 73/80\n",
      "404/404 [==============================] - 0s 118us/step - loss: 6.4766\n",
      "Epoch 74/80\n",
      "404/404 [==============================] - 0s 111us/step - loss: 6.4203\n",
      "Epoch 75/80\n",
      "404/404 [==============================] - 0s 109us/step - loss: 6.5587\n",
      "Epoch 76/80\n",
      "404/404 [==============================] - 0s 101us/step - loss: 6.4568\n",
      "Epoch 77/80\n",
      "404/404 [==============================] - 0s 111us/step - loss: 6.2477\n",
      "Epoch 78/80\n",
      "404/404 [==============================] - 0s 126us/step - loss: 6.2536\n",
      "Epoch 79/80\n",
      "404/404 [==============================] - 0s 106us/step - loss: 6.3934\n",
      "Epoch 80/80\n",
      "404/404 [==============================] - 0s 86us/step - loss: 6.1211\n"
     ]
    },
    {
     "data": {
      "text/plain": [
       "<keras.callbacks.History at 0x28c3c961b38>"
      ]
     },
     "execution_count": 15,
     "metadata": {},
     "output_type": "execute_result"
    }
   ],
   "source": [
    "model.fit(train_data, train_targets, epochs=80, batch_size=16)"
   ]
  },
  {
   "cell_type": "code",
   "execution_count": 16,
   "metadata": {
    "collapsed": true
   },
   "outputs": [],
   "source": [
    "y_pred = model.predict(test_data)"
   ]
  },
  {
   "cell_type": "code",
   "execution_count": 22,
   "metadata": {},
   "outputs": [
    {
     "data": {
      "text/plain": [
       "(102, 1)"
      ]
     },
     "execution_count": 22,
     "metadata": {},
     "output_type": "execute_result"
    }
   ],
   "source": [
    "y_pred.shape"
   ]
  },
  {
   "cell_type": "code",
   "execution_count": 23,
   "metadata": {},
   "outputs": [
    {
     "data": {
      "text/plain": [
       "(102,)"
      ]
     },
     "execution_count": 23,
     "metadata": {},
     "output_type": "execute_result"
    }
   ],
   "source": [
    "test_targets.shape"
   ]
  },
  {
   "cell_type": "markdown",
   "metadata": {},
   "source": [
    "# 성능 평가하기"
   ]
  },
  {
   "cell_type": "code",
   "execution_count": 17,
   "metadata": {
    "collapsed": true
   },
   "outputs": [],
   "source": [
    "from sklearn.metrics import r2_score"
   ]
  },
  {
   "cell_type": "code",
   "execution_count": 18,
   "metadata": {},
   "outputs": [
    {
     "data": {
      "text/plain": [
       "0.7601356047328962"
      ]
     },
     "execution_count": 18,
     "metadata": {},
     "output_type": "execute_result"
    }
   ],
   "source": [
    "r2_score(test_targets, y_pred)"
   ]
  },
  {
   "cell_type": "code",
   "execution_count": null,
   "metadata": {
    "collapsed": true
   },
   "outputs": [],
   "source": []
  },
  {
   "cell_type": "code",
   "execution_count": null,
   "metadata": {
    "collapsed": true
   },
   "outputs": [],
   "source": []
  }
 ],
 "metadata": {
  "kernelspec": {
   "display_name": "Python 3.7.9 ('text': conda)",
   "language": "python",
   "name": "python3"
  },
  "language_info": {
   "codemirror_mode": {
    "name": "ipython",
    "version": 3
   },
   "file_extension": ".py",
   "mimetype": "text/x-python",
   "name": "python",
   "nbconvert_exporter": "python",
   "pygments_lexer": "ipython3",
   "version": "3.7.9"
  },
  "vscode": {
   "interpreter": {
    "hash": "2333581806fdf1f6716b69cbad83f15f1223967e5352ef47a61fcc3fe0040041"
   }
  }
 },
 "nbformat": 4,
 "nbformat_minor": 2
}
