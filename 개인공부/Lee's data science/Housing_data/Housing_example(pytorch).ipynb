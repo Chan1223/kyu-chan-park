{
 "cells": [
  {
   "cell_type": "code",
   "execution_count": 230,
   "metadata": {},
   "outputs": [],
   "source": [
    "# torch에서 제공하는 신경망, 손실함수, 최적화 함수 불러오기\n",
    "import torch\n",
    "from torch import nn\n",
    "from torch import optim\n",
    "\n",
    "# 데이터 정리용 라이브러리\n",
    "from torch.utils.data import DataLoader, Dataset\n",
    "\n",
    "# 데이터 호출\n",
    "from sklearn.datasets import load_boston\n",
    "\n",
    "# 표준화 모듈 호출\n",
    "from sklearn.preprocessing import StandardScaler"
   ]
  },
  {
   "cell_type": "code",
   "execution_count": 231,
   "metadata": {},
   "outputs": [
    {
     "name": "stderr",
     "output_type": "stream",
     "text": [
      "/home/helpme/.conda/envs/text/lib/python3.7/site-packages/sklearn/utils/deprecation.py:87: FutureWarning: Function load_boston is deprecated; `load_boston` is deprecated in 1.0 and will be removed in 1.2.\n",
      "\n",
      "    The Boston housing prices dataset has an ethical problem. You can refer to\n",
      "    the documentation of this function for further details.\n",
      "\n",
      "    The scikit-learn maintainers therefore strongly discourage the use of this\n",
      "    dataset unless the purpose of the code is to study and educate about\n",
      "    ethical issues in data science and machine learning.\n",
      "\n",
      "    In this special case, you can fetch the dataset from the original\n",
      "    source::\n",
      "\n",
      "        import pandas as pd\n",
      "        import numpy as np\n",
      "\n",
      "\n",
      "        data_url = \"http://lib.stat.cmu.edu/datasets/boston\"\n",
      "        raw_df = pd.read_csv(data_url, sep=\"\\s+\", skiprows=22, header=None)\n",
      "        data = np.hstack([raw_df.values[::2, :], raw_df.values[1::2, :2]])\n",
      "        target = raw_df.values[1::2, 2]\n",
      "\n",
      "    Alternative datasets include the California housing dataset (i.e.\n",
      "    :func:`~sklearn.datasets.fetch_california_housing`) and the Ames housing\n",
      "    dataset. You can load the datasets as follows::\n",
      "\n",
      "        from sklearn.datasets import fetch_california_housing\n",
      "        housing = fetch_california_housing()\n",
      "\n",
      "    for the California housing dataset and::\n",
      "\n",
      "        from sklearn.datasets import fetch_openml\n",
      "        housing = fetch_openml(name=\"house_prices\", as_frame=True)\n",
      "\n",
      "    for the Ames housing dataset.\n",
      "    \n",
      "  warnings.warn(msg, category=FutureWarning)\n"
     ]
    }
   ],
   "source": [
    "# 데이터 호출\n",
    "bos = load_boston()"
   ]
  },
  {
   "cell_type": "code",
   "execution_count": 232,
   "metadata": {},
   "outputs": [],
   "source": [
    "# data X,Y 분할\n",
    "X = bos['data'] # (506, 13)\n",
    "Y = bos['target'].reshape([-1,1]) # (506, 1)"
   ]
  },
  {
   "cell_type": "code",
   "execution_count": 233,
   "metadata": {},
   "outputs": [],
   "source": [
    "# train, test 분할\n",
    "from sklearn.utils import shuffle\n",
    "from sklearn.model_selection import train_test_split\n",
    "\n",
    "# train, test\n",
    "X_train, X_test, y_train, y_test = train_test_split(X, Y, test_size=0.2)\n",
    "\n",
    "# validation set 분할\n",
    "X_train, X_val, y_train, y_val = train_test_split(X_train, y_train, test_size=0.2)"
   ]
  },
  {
   "cell_type": "code",
   "execution_count": 235,
   "metadata": {},
   "outputs": [],
   "source": [
    "# 데이터 스케일링\n",
    "scaler = StandardScaler() # 클래스 호출\n",
    "\n",
    "### 표준화 방법 1\n",
    "X_train = scaler.fit_transform(X_train)\n",
    "X_val = scaler.transform(X_val)\n",
    "X_test = scaler.transform(X_test) # fit_transform 사용 X"
   ]
  },
  {
   "cell_type": "code",
   "execution_count": 236,
   "metadata": {},
   "outputs": [],
   "source": [
    "# dataset 구축\n",
    "# torch.utils.data.Dataset 을 상속받음\n",
    "\n",
    "class HousingData(Dataset):\n",
    "    # 데이터셋의 전처리를 해주는 부분\n",
    "    def __init__(self, x_data, y_data):\n",
    "        self.x_data = torch.FloatTensor(x_data)\n",
    "        self.y_data = torch.FloatTensor(y_data)\n",
    "        self.len = self.y_data.shape[0]\n",
    "\n",
    "    # 데이터셋의 길이, 총 샘플 수를 출력\n",
    "    def __len__(self):\n",
    "        return self.len\n",
    "\n",
    "    # 데이터셋에서 특정 1개의 샘플을 꺼내오기\n",
    "    # dataset[i]를 하면 i번째 샘플을 가져오도록 하는 인덱싱을 처리\n",
    "    def __getitem__(self, idx):\n",
    "        return self.x_data[idx], self.y_data[idx]"
   ]
  },
  {
   "cell_type": "code",
   "execution_count": 237,
   "metadata": {},
   "outputs": [],
   "source": [
    "#### train data, test data로 나누어 구축\n",
    "\n",
    "# trainsets \n",
    "trainsets = HousingData(X_train, y_train)\n",
    "# shuffle True로 데이터셋 학습 순서를 바꿔줌, 데이터 batch 처리 \n",
    "train_loader = torch.utils.data.DataLoader(trainsets, batch_size=10, shuffle=True)\n",
    "\n",
    "# validation sets\n",
    "validationsets = HousingData(X_val, y_val)\n",
    "val_loader = torch.utils.data.DataLoader(validationsets, batch_size=10, shuffle=True)\n",
    "\n",
    "# testsets\n",
    "testsets = HousingData(X_test, y_test)\n",
    "test_loader = torch.utils.data.DataLoader(testsets, batch_size=10, shuffle=False)"
   ]
  },
  {
   "cell_type": "markdown",
   "metadata": {},
   "source": [
    "### 모델 구축"
   ]
  },
  {
   "cell_type": "code",
   "execution_count": 238,
   "metadata": {},
   "outputs": [],
   "source": [
    "# 모델 정의\n",
    "class NeuralNetwork(nn.Module):\n",
    "    def __init__(self):\n",
    "        super().__init__() # nn.Module 상속받기\n",
    "        \n",
    "        self.relu = nn.ReLU()                  # ReLU 활성화층\n",
    "\n",
    "        self.fc1 = nn.Linear(13, 64, bias=True) # 입력층(13) -> 은닉층1(64)\n",
    "        self.fc2 = nn.Linear(64, 64, bias=True) # 은닉충1(64) -> 은닉층2(64)\n",
    "        self.fc3 = nn.Linear(64, 1, bias=True)  # 은닉충2(64) -> 출력층(1)\n",
    "\n",
    "    def forward(self, x):\n",
    "        x = self.fc1(x)\n",
    "        x = self.relu(x)\n",
    "        x = self.fc2(x)\n",
    "        x = self.relu(x)\n",
    "        x = self.fc3(x)\n",
    "\n",
    "        return x"
   ]
  },
  {
   "cell_type": "code",
   "execution_count": 239,
   "metadata": {},
   "outputs": [
    {
     "data": {
      "text/plain": [
       "==========================================================================================\n",
       "Layer (type:depth-idx)                   Output Shape              Param #\n",
       "==========================================================================================\n",
       "NeuralNetwork                            [323, 1]                  --\n",
       "├─Linear: 1-1                            [323, 64]                 896\n",
       "├─ReLU: 1-2                              [323, 64]                 --\n",
       "├─Linear: 1-3                            [323, 64]                 4,160\n",
       "├─ReLU: 1-4                              [323, 64]                 --\n",
       "├─Linear: 1-5                            [323, 1]                  65\n",
       "==========================================================================================\n",
       "Total params: 5,121\n",
       "Trainable params: 5,121\n",
       "Non-trainable params: 0\n",
       "Total mult-adds (M): 1.65\n",
       "==========================================================================================\n",
       "Input size (MB): 0.02\n",
       "Forward/backward pass size (MB): 0.33\n",
       "Params size (MB): 0.02\n",
       "Estimated Total Size (MB): 0.37\n",
       "=========================================================================================="
      ]
     },
     "execution_count": 239,
     "metadata": {},
     "output_type": "execute_result"
    }
   ],
   "source": [
    "model = NeuralNetwork()\n",
    "\n",
    "from torchinfo import summary\n",
    "summary(model,(323,13))"
   ]
  },
  {
   "cell_type": "code",
   "execution_count": 244,
   "metadata": {},
   "outputs": [
    {
     "name": "stdout",
     "output_type": "stream",
     "text": [
      "Using cpu device\n"
     ]
    }
   ],
   "source": [
    "# 옵티마이저, 손실함수 정의\n",
    "optimizer = torch.optim.Adam(model.parameters(), lr= 0.001)\n",
    "criterion = nn.MSELoss()\n",
    "Epochs = 80\n",
    "\n",
    "# 디바이스 설정\n",
    "device = torch.device('cpu' if torch.cuda.is_available() else 'cpu')\n",
    "print(f\"Using {device} device\")\n",
    "\n",
    "# 모델 디바이스 설치\n",
    "\n",
    "model.to(device)"
   ]
  },
  {
   "cell_type": "code",
   "execution_count": 243,
   "metadata": {},
   "outputs": [
    {
     "name": "stdout",
     "output_type": "stream",
     "text": [
      "Epoch    1/80 Batch 33/33 Cost: 853.078796, val_Batch 9/9 val_cost: 26.808449\n",
      "Epoch    2/80 Batch 33/33 Cost: 386.622162, val_Batch 9/9 val_cost: 1501.059937\n",
      "Epoch    3/80 Batch 33/33 Cost: 436.368683, val_Batch 9/9 val_cost: 29.299765\n",
      "Epoch    4/80 Batch 33/33 Cost: 41.016518, val_Batch 9/9 val_cost: 25.482191\n",
      "Epoch    5/80 Batch 33/33 Cost: 27.606295, val_Batch 9/9 val_cost: 9.766894\n",
      "Epoch    6/80 Batch 33/33 Cost: 22.799765, val_Batch 9/9 val_cost: 28.697678\n",
      "Epoch    7/80 Batch 33/33 Cost: 16.436529, val_Batch 9/9 val_cost: 3.643314\n",
      "Epoch    8/80 Batch 33/33 Cost: 18.758356, val_Batch 9/9 val_cost: 88.248238\n",
      "Epoch    9/80 Batch 33/33 Cost: 11.721604, val_Batch 9/9 val_cost: 5.767224\n",
      "Epoch   10/80 Batch 33/33 Cost: 4.980506, val_Batch 9/9 val_cost: 5.968169\n",
      "Epoch   11/80 Batch 33/33 Cost: 6.439968, val_Batch 9/9 val_cost: 24.479929\n",
      "Epoch   12/80 Batch 33/33 Cost: 22.625986, val_Batch 9/9 val_cost: 9.265742\n",
      "Epoch   13/80 Batch 33/33 Cost: 14.047863, val_Batch 9/9 val_cost: 16.273405\n",
      "Epoch   14/80 Batch 33/33 Cost: 29.749060, val_Batch 9/9 val_cost: 0.293962\n",
      "Epoch   15/80 Batch 33/33 Cost: 2.971333, val_Batch 9/9 val_cost: 5.744079\n",
      "Epoch   16/80 Batch 33/33 Cost: 22.332392, val_Batch 9/9 val_cost: 2.904112\n",
      "Epoch   17/80 Batch 33/33 Cost: 4.068713, val_Batch 9/9 val_cost: 14.114289\n",
      "Epoch   18/80 Batch 33/33 Cost: 1.499467, val_Batch 9/9 val_cost: 22.924141\n",
      "Epoch   19/80 Batch 33/33 Cost: 8.087187, val_Batch 9/9 val_cost: 0.080261\n",
      "Epoch   20/80 Batch 33/33 Cost: 3.002502, val_Batch 9/9 val_cost: 0.423298\n",
      "Epoch   21/80 Batch 33/33 Cost: 46.758862, val_Batch 9/9 val_cost: 3.361911\n",
      "Epoch   22/80 Batch 33/33 Cost: 4.350284, val_Batch 9/9 val_cost: 0.576815\n",
      "Epoch   23/80 Batch 33/33 Cost: 6.613041, val_Batch 9/9 val_cost: 1.052921\n",
      "Epoch   24/80 Batch 33/33 Cost: 2.185345, val_Batch 9/9 val_cost: 0.017180\n",
      "Epoch   25/80 Batch 33/33 Cost: 7.131917, val_Batch 9/9 val_cost: 320.486389\n",
      "Epoch   26/80 Batch 33/33 Cost: 3.245424, val_Batch 9/9 val_cost: 10.811296\n",
      "Epoch   27/80 Batch 33/33 Cost: 3.017597, val_Batch 9/9 val_cost: 0.107522\n",
      "Epoch   28/80 Batch 33/33 Cost: 4.408420, val_Batch 9/9 val_cost: 5.352774\n",
      "Epoch   29/80 Batch 33/33 Cost: 17.185274, val_Batch 9/9 val_cost: 19.787148\n",
      "Epoch   30/80 Batch 33/33 Cost: 23.560709, val_Batch 9/9 val_cost: 5.452341\n",
      "Epoch   31/80 Batch 33/33 Cost: 14.260983, val_Batch 9/9 val_cost: 2.632331\n",
      "Epoch   32/80 Batch 33/33 Cost: 0.739039, val_Batch 9/9 val_cost: 3.403818\n",
      "Epoch   33/80 Batch 33/33 Cost: 2.969928, val_Batch 9/9 val_cost: 1.138932\n",
      "Epoch   34/80 Batch 33/33 Cost: 2.297004, val_Batch 9/9 val_cost: 0.469692\n",
      "Epoch   35/80 Batch 33/33 Cost: 4.407309, val_Batch 9/9 val_cost: 7.930178\n",
      "Epoch   36/80 Batch 33/33 Cost: 13.379230, val_Batch 9/9 val_cost: 0.061316\n",
      "Epoch   37/80 Batch 33/33 Cost: 2.144013, val_Batch 9/9 val_cost: 0.596932\n",
      "Epoch   38/80 Batch 33/33 Cost: 3.684244, val_Batch 9/9 val_cost: 20.515455\n",
      "Epoch   39/80 Batch 33/33 Cost: 2.261636, val_Batch 9/9 val_cost: 18.802702\n",
      "Epoch   40/80 Batch 33/33 Cost: 6.589409, val_Batch 9/9 val_cost: 2.966224\n",
      "Epoch   41/80 Batch 33/33 Cost: 4.532742, val_Batch 9/9 val_cost: 0.058199\n",
      "Epoch   42/80 Batch 33/33 Cost: 1.587452, val_Batch 9/9 val_cost: 0.085887\n",
      "Epoch   43/80 Batch 33/33 Cost: 0.926885, val_Batch 9/9 val_cost: 2.576155\n",
      "Epoch   44/80 Batch 33/33 Cost: 2.970835, val_Batch 9/9 val_cost: 5.976247\n",
      "Epoch   45/80 Batch 33/33 Cost: 0.133850, val_Batch 9/9 val_cost: 0.025307\n",
      "Epoch   46/80 Batch 33/33 Cost: 13.596822, val_Batch 9/9 val_cost: 0.292333\n",
      "Epoch   47/80 Batch 33/33 Cost: 9.248222, val_Batch 9/9 val_cost: 3.398746\n",
      "Epoch   48/80 Batch 33/33 Cost: 7.557367, val_Batch 9/9 val_cost: 1.907726\n",
      "Epoch   49/80 Batch 33/33 Cost: 1.963022, val_Batch 9/9 val_cost: 11.040383\n",
      "Epoch   50/80 Batch 33/33 Cost: 10.649442, val_Batch 9/9 val_cost: 16.513966\n",
      "Epoch   51/80 Batch 33/33 Cost: 0.752635, val_Batch 9/9 val_cost: 5.768186\n",
      "Epoch   52/80 Batch 33/33 Cost: 9.428751, val_Batch 9/9 val_cost: 13.574175\n",
      "Epoch   53/80 Batch 33/33 Cost: 3.140267, val_Batch 9/9 val_cost: 3.451568\n",
      "Epoch   54/80 Batch 33/33 Cost: 1.671728, val_Batch 9/9 val_cost: 1.414363\n",
      "Epoch   55/80 Batch 33/33 Cost: 9.389622, val_Batch 9/9 val_cost: 7.997299\n",
      "Epoch   56/80 Batch 33/33 Cost: 7.515245, val_Batch 9/9 val_cost: 36.634888\n",
      "Epoch   57/80 Batch 33/33 Cost: 10.185466, val_Batch 9/9 val_cost: 0.316338\n",
      "Epoch   58/80 Batch 33/33 Cost: 1.863517, val_Batch 9/9 val_cost: 14.405124\n",
      "Epoch   59/80 Batch 33/33 Cost: 0.905428, val_Batch 9/9 val_cost: 1.893364\n",
      "Epoch   60/80 Batch 33/33 Cost: 5.750794, val_Batch 9/9 val_cost: 13.002131\n",
      "Epoch   61/80 Batch 33/33 Cost: 7.023846, val_Batch 9/9 val_cost: 6.578122\n",
      "Epoch   62/80 Batch 33/33 Cost: 13.930997, val_Batch 9/9 val_cost: 2.662023\n",
      "Epoch   63/80 Batch 33/33 Cost: 16.719378, val_Batch 9/9 val_cost: 0.086290\n",
      "Epoch   64/80 Batch 33/33 Cost: 5.204127, val_Batch 9/9 val_cost: 16.757181\n",
      "Epoch   65/80 Batch 33/33 Cost: 1.899507, val_Batch 9/9 val_cost: 13.835827\n",
      "Epoch   66/80 Batch 33/33 Cost: 3.334158, val_Batch 9/9 val_cost: 34.699306\n",
      "Epoch   67/80 Batch 33/33 Cost: 3.172210, val_Batch 9/9 val_cost: 0.377495\n",
      "Epoch   68/80 Batch 33/33 Cost: 4.261827, val_Batch 9/9 val_cost: 3.842195\n",
      "Epoch   69/80 Batch 33/33 Cost: 3.734536, val_Batch 9/9 val_cost: 1.639588\n",
      "Epoch   70/80 Batch 33/33 Cost: 0.563380, val_Batch 9/9 val_cost: 4.290750\n",
      "Epoch   71/80 Batch 33/33 Cost: 3.569845, val_Batch 9/9 val_cost: 3.396095\n",
      "Epoch   72/80 Batch 33/33 Cost: 6.048149, val_Batch 9/9 val_cost: 0.771394\n",
      "Epoch   73/80 Batch 33/33 Cost: 7.601437, val_Batch 9/9 val_cost: 0.069052\n",
      "Epoch   74/80 Batch 33/33 Cost: 3.847664, val_Batch 9/9 val_cost: 5.695261\n",
      "Epoch   75/80 Batch 33/33 Cost: 0.294458, val_Batch 9/9 val_cost: 4.841430\n",
      "Epoch   76/80 Batch 33/33 Cost: 1.932374, val_Batch 9/9 val_cost: 2.502358\n",
      "Epoch   77/80 Batch 33/33 Cost: 3.105762, val_Batch 9/9 val_cost: 0.600672\n",
      "Epoch   78/80 Batch 33/33 Cost: 13.004383, val_Batch 9/9 val_cost: 0.545637\n",
      "Epoch   79/80 Batch 33/33 Cost: 1.240084, val_Batch 9/9 val_cost: 6.612979\n",
      "Epoch   80/80 Batch 33/33 Cost: 4.924435, val_Batch 9/9 val_cost: 0.056070\n"
     ]
    }
   ],
   "source": [
    "## 학습 진행하기\n",
    "loss_ = [] # loss 저장용 빈 리스트 만들기\n",
    "val_loss_ = []\n",
    "\n",
    "n = len(train_loader)\n",
    "m = len(val_loader)\n",
    "\n",
    "for epoch in range(Epochs):\n",
    "\n",
    "    running_loss = 0.0\n",
    "    \n",
    "    for i, data in enumerate(train_loader):\n",
    "        \n",
    "        inputs, values = data # data X, y 받기\n",
    "\n",
    "        outputs = model(inputs) # 모델 학습\n",
    "\n",
    "        loss = criterion(outputs, values) # cost 계산\n",
    "\n",
    "        optimizer.zero_grad() # 매 학습마다 가중치 0으로 초기화\n",
    "\n",
    "        loss.backward() # 손실 함수를 기준으로 역전파 설정\n",
    "\n",
    "        optimizer.step() # 역전파 진행 후 가중치 업데이트\n",
    "\n",
    "        running_loss += loss.item() # epoch 마다 평균 loss 를 계산하기 위해 배치 loss 를 더함\n",
    "\n",
    "    loss_.append(running_loss/n) # MSE 계산\n",
    "\n",
    "    with torch.no_grad():\n",
    "        val_loss = 0.0\n",
    "        for j, test_data in enumerate(val_loader):\n",
    "\n",
    "            val_inputs, val_values = test_data\n",
    "\n",
    "            test_outputs = model(val_inputs)\n",
    "\n",
    "            test_loss = criterion(test_outputs, val_values)\n",
    "\n",
    "            val_loss += test_loss.item()\n",
    "\n",
    "        val_loss_.append(val_loss/m)\n",
    "\n",
    "\n",
    "\n",
    "    print(f'Epoch {epoch+1:4d}/{Epochs} Batch {i+1}/{len(train_loader)} Cost: {loss.item():.6f}, val_Batch {j+1}/{len(val_loader)} val_cost: {test_loss.item():.6f}')\n",
    "    "
   ]
  },
  {
   "cell_type": "code",
   "execution_count": 211,
   "metadata": {},
   "outputs": [
    {
     "data": {
      "image/png": "[encoded data removed]",
      "text/plain": [
       "<Figure size 640x480 with 1 Axes>"
      ]
     },
     "metadata": {},
     "output_type": "display_data"
    }
   ],
   "source": [
    "import matplotlib.pyplot as plt\n",
    "\n",
    "plt.plot(loss_)\n",
    "plt.plot(val_loss_)\n",
    "plt.xlabel('epoch')\n",
    "plt.ylabel('loss')\n",
    "plt.legend(['train', 'val'])\n",
    "plt.show()"
   ]
  },
  {
   "cell_type": "code",
   "execution_count": 254,
   "metadata": {},
   "outputs": [],
   "source": [
    "\n",
    "def evaluation(dataloader):\n",
    "    \n",
    "    predictions = torch.tensor([], dtype=torch.float) #예측값 저장을 위한 빈 텐서 \n",
    "    actual = torch.tensor([], dtype=torch.float) #실제값 저장을 위한 빈 텐서 \n",
    "    with torch.no_grad(): #requires_grad 비활성화 \n",
    "        model.eval() #dropout과 같은 모델 학습시에만 사용하는 기법들을 비활성화 \n",
    "        \n",
    "        #배치 단위로 데이터를 예측하고 예측값과 실제값을 누적해서 저장 \n",
    "        for data in dataloader:\n",
    "            inputs, values = data\n",
    "            outputs = model(inputs)\n",
    "            \n",
    "            #0차원으로 누적한다는 의미\n",
    "            predictions = torch.cat((predictions, outputs), 0)  \n",
    "            actual = torch.cat((actual, values), 0)\n",
    "    \n",
    "    predictions = predictions.numpy()\n",
    "    actual = actual.numpy()\n",
    "    rmse = np.sqrt(mean_squared_error(predictions, actual))\n",
    "    \n",
    "    return rmse"
   ]
  },
  {
   "cell_type": "code",
   "execution_count": 260,
   "metadata": {},
   "outputs": [
    {
     "name": "stdout",
     "output_type": "stream",
     "text": [
      "학습용 셋 :  2.527515\n",
      "테스트 셋 :  2.9715989\n",
      "accuracy : 0.850557267665863\n"
     ]
    }
   ],
   "source": [
    "train_rmse = evaluation(train_loader)\n",
    "test_rmse = evaluation(test_loader)\n",
    " \n",
    "print('학습용 셋 : ', train_rmse)\n",
    "print('테스트 셋 : ', test_rmse)\n",
    "\n",
    "print(f'accuracy : {train_rmse / test_rmse}')"
   ]
  }
 ],
 "metadata": {
  "kernelspec": {
   "display_name": "Python 3.7.9 ('text': conda)",
   "language": "python",
   "name": "python3"
  },
  "language_info": {
   "codemirror_mode": {
    "name": "ipython",
    "version": 3
   },
   "file_extension": ".py",
   "mimetype": "text/x-python",
   "name": "python",
   "nbconvert_exporter": "python",
   "pygments_lexer": "ipython3",
   "version": "3.7.9"
  },
  "orig_nbformat": 4,
  "vscode": {
   "interpreter": {
    "hash": "2333581806fdf1f6716b69cbad83f15f1223967e5352ef47a61fcc3fe0040041"
   }
  }
 },
 "nbformat": 4,
 "nbformat_minor": 2
}
