{
 "cells": [
  {
   "cell_type": "code",
   "execution_count": 75,
   "id": "d50272d6",
   "metadata": {},
   "outputs": [],
   "source": [
    "class Person:\n",
    "    def __init__(self, name, number):\n",
    "        self.name = name\n",
    "        self.number = number"
   ]
  },
  {
   "cell_type": "code",
   "execution_count": 106,
   "id": "3f8e3e09",
   "metadata": {},
   "outputs": [],
   "source": [
    "class Student(Person):\n",
    "    UNDERGRADUATE = 0   # 재학생\n",
    "    POSTGRADUATE = 1    # 졸업생\n",
    "    \n",
    "    def __init__(self, name, number, studentType):\n",
    "        super().__init__(name, number)\n",
    "        self.studentType = studentType\n",
    "        self.classes = []\n",
    "        self.gpa = 0.0\n",
    "        \n",
    "    def enrollCourse(self, course):\n",
    "        classes = self.classes.append(course)\n",
    "        return classes\n",
    "    \n",
    "    def __str__(self):\n",
    "        result = f'이름:{self.name} \\n주민번호:{self.number} \\n수강과목:{self.classes} \\n평점:{self.gpa}'\n",
    "        return result"
   ]
  },
  {
   "cell_type": "code",
   "execution_count": 127,
   "id": "4e4b85f4",
   "metadata": {},
   "outputs": [],
   "source": [
    "class Teacher(Person):\n",
    "    def __init__(self, name, number):\n",
    "        super().__init__(name, number)\n",
    "        self.teaching = []\n",
    "        self.salary = (3_000_000)\n",
    "        \n",
    "    def assignTeaching(self, teach):\n",
    "        self.teaching.append(teach)\n",
    "        return self.teaching\n",
    "    \n",
    "    def __str__(self):\n",
    "        result = f'이름:{self.name} \\n주민번호:{self.number} \\n강의과목:{self.teaching} \\n월급:{self.salary}'\n",
    "        return result"
   ]
  },
  {
   "cell_type": "code",
   "execution_count": 133,
   "id": "08edf078",
   "metadata": {},
   "outputs": [
    {
     "name": "stdout",
     "output_type": "stream",
     "text": [
      "이름:홍길동 \n",
      "주민번호:12345678 \n",
      "수강과목:['중급프로그래밍', '파이썬', '빅데이터분석'] \n",
      "평점:0.0\n",
      "이름:김철수 \n",
      "주민번호:123456790 \n",
      "강의과목:['Python', '머신러닝'] \n",
      "월급:3000000\n"
     ]
    }
   ],
   "source": [
    "hong = Student('홍길동', '12345678',Student.UNDERGRADUATE)\n",
    "hong.enrollCourse('중급프로그래밍')\n",
    "hong.enrollCourse('파이썬')\n",
    "hong.enrollCourse('빅데이터분석')\n",
    "print(hong)\n",
    "kim = Teacher('김철수', '123456790')\n",
    "kim.assignTeaching('Python')\n",
    "kim.assignTeaching('머신러닝')\n",
    "print(kim)"
   ]
  }
 ],
 "metadata": {
  "kernelspec": {
   "display_name": "Python 3 (ipykernel)",
   "language": "python",
   "name": "python3"
  },
  "language_info": {
   "codemirror_mode": {
    "name": "ipython",
    "version": 3
   },
   "file_extension": ".py",
   "mimetype": "text/x-python",
   "name": "python",
   "nbconvert_exporter": "python",
   "pygments_lexer": "ipython3",
   "version": "3.9.7"
  }
 },
 "nbformat": 4,
 "nbformat_minor": 5
}
