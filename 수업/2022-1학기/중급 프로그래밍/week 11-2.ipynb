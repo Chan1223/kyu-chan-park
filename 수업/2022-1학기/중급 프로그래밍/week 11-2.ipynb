{
 "cells": [
  {
   "cell_type": "code",
   "execution_count": 7,
   "id": "2025ee63",
   "metadata": {},
   "outputs": [],
   "source": [
    "class Ticket:\n",
    "    def __init__(self, number, price):\n",
    "        self.number = number\n",
    "        self.price = price\n",
    "        \n",
    "    def getNumber(self):\n",
    "        return self.number\n",
    "    \n",
    "    def getPrice(self):\n",
    "        return self.price\n",
    "    \n",
    "    def setPrice(self, price):\n",
    "        self.price = price\n",
    "    \n",
    "    def __str__(self):\n",
    "        result = f'번호 : {self.getNumber()}'\n",
    "        return result    "
   ]
  },
  {
   "cell_type": "code",
   "execution_count": 8,
   "id": "f13ef09a",
   "metadata": {},
   "outputs": [],
   "source": [
    "class WalkupTicket(Ticket):\n",
    "    def __init__(self, number, payBYcredit, price):\n",
    "        super().__init__(number, price)\n",
    "        self.payBYcredit = payBYcredit\n",
    "        \n",
    "    def getPrice(self):\n",
    "        if self.payBYcredit == True:\n",
    "            self.price = int(self.price * 1.05)\n",
    "        else :\n",
    "            self.price = self.price\n",
    "        return super().getPrice()\n",
    "        \n",
    "    def getPayByCredit(self):\n",
    "        return self.payBYcredit \n",
    "        \n",
    "    def __str__(self):\n",
    "        result = f'{super().__str__()}, 신용카드 결제 : {self.payBYcredit}, 가격 : {self.getPrice()}'\n",
    "        return result"
   ]
  },
  {
   "cell_type": "code",
   "execution_count": 9,
   "id": "2eb97e7e",
   "metadata": {},
   "outputs": [],
   "source": [
    "class AdvanceTicket(Ticket):\n",
    "    def __init__(self, number, advancedays, price):\n",
    "        super().__init__(number, price)\n",
    "        self.advancedays = advancedays\n",
    "        \n",
    "    def getPrice(self):\n",
    "        days = self.advancedays\n",
    "        p = self.price\n",
    "        \n",
    "        if days >= 30 :   # ~30일 전 구매\n",
    "            p = self.price * 0.5\n",
    "        elif days >= 10 : # 29~10일 전 구매\n",
    "            p = self.price * 0.8\n",
    "        elif days >= 5 :  # 9~5일 전 구매\n",
    "            p = self.price * 0.9\n",
    "        else :            # 4~1일 전 구매\n",
    "            p = p\n",
    "            \n",
    "        return int(super().getPrice())\n",
    "\n",
    "    def getAdvancedays(self):\n",
    "        return self.advancedays\n",
    "\n",
    "    def __str__(self):\n",
    "        result = f'{super().__str__()}, 사전 예약일수 : {self.getAdvancedays()}, 가격 : {self.getPrice()}'        \n",
    "        return result"
   ]
  },
  {
   "cell_type": "code",
   "execution_count": 10,
   "id": "0d1279c3",
   "metadata": {},
   "outputs": [
    {
     "name": "stdout",
     "output_type": "stream",
     "text": [
      "번호 : 101, 신용카드 결제 : True, 가격 : 105000\n",
      "번호 : 102, 신용카드 결제 : False, 가격 : 100000\n"
     ]
    }
   ],
   "source": [
    "a = WalkupTicket(101, True, 100000)\n",
    "b = WalkupTicket(102, False, 100000)\n",
    "print(a)\n",
    "print(b)"
   ]
  },
  {
   "cell_type": "code",
   "execution_count": 11,
   "id": "535798ed",
   "metadata": {},
   "outputs": [
    {
     "name": "stdout",
     "output_type": "stream",
     "text": [
      "번호 : 201, 사전 예약일수 : 30, 가격 : 100000\n",
      "번호 : 301, 사전 예약일수 : 20, 가격 : 100000\n",
      "번호 : 401, 사전 예약일수 : 8, 가격 : 100000\n",
      "번호 : 501, 사전 예약일수 : 3, 가격 : 100000\n"
     ]
    }
   ],
   "source": [
    "a = AdvanceTicket(201, 30, 100000)\n",
    "b = AdvanceTicket(301, 20, 100000)\n",
    "c = AdvanceTicket(401, 8, 100000)\n",
    "d = AdvanceTicket(501, 3, 100000)\n",
    "print(a)\n",
    "print(b)\n",
    "print(c)\n",
    "print(d)"
   ]
  }
 ],
 "metadata": {
  "kernelspec": {
   "display_name": "Python 3 (ipykernel)",
   "language": "python",
   "name": "python3"
  },
  "language_info": {
   "codemirror_mode": {
    "name": "ipython",
    "version": 3
   },
   "file_extension": ".py",
   "mimetype": "text/x-python",
   "name": "python",
   "nbconvert_exporter": "python",
   "pygments_lexer": "ipython3",
   "version": "3.9.7"
  }
 },
 "nbformat": 4,
 "nbformat_minor": 5
}
