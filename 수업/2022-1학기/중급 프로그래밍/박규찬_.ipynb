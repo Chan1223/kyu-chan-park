{
 "cells": [
  {
   "cell_type": "code",
   "execution_count": 263,
   "id": "3b3f25a9",
   "metadata": {},
   "outputs": [],
   "source": [
    "class Course:\n",
    "    # class 속성 정의\n",
    "    UNDERGRADUATE='재학생'\n",
    "    POSTGRADUATE='대학원생'\n",
    "    \n",
    "    # 교과목 이름을 주어진 값으로 초기화해서 Course 객체 생성\n",
    "    def __init__(self, courseName):\n",
    "        self.courseName = courseName\n",
    "    \n",
    "    # 출석점수 주어진 값으로 변경\n",
    "    def setAttendanceScore(self,newAttendScore):\n",
    "        self.attendScore = newAttendScore\n",
    "    \n",
    "    # 교과목 이름 주어진 값으로 변경\n",
    "    def setCourseName(self, newCourseName):\n",
    "        self.courseName = newCourseName\n",
    "    \n",
    "    # 교과목 학점 반환\n",
    "    def getGrade(self):\n",
    "        return 'i'\n",
    "    \n",
    "    # 교과목의 이름과 출석점수 한번에 알려주기\n",
    "    def __str__(self):\n",
    "        result = f'과목이름 : {self.courseName} \\n출석점수 : {self.attendScore}' \n",
    "        return result"
   ]
  },
  {
   "cell_type": "code",
   "execution_count": 264,
   "id": "8a551cc1",
   "metadata": {},
   "outputs": [],
   "source": [
    "a = Course('math')"
   ]
  },
  {
   "cell_type": "code",
   "execution_count": 265,
   "id": "d9317fda",
   "metadata": {},
   "outputs": [],
   "source": [
    "a.setAttendanceScore(80)"
   ]
  },
  {
   "cell_type": "code",
   "execution_count": 266,
   "id": "96c672db",
   "metadata": {},
   "outputs": [],
   "source": [
    "a.setCourseName('music')"
   ]
  },
  {
   "cell_type": "code",
   "execution_count": 267,
   "id": "f225af80",
   "metadata": {},
   "outputs": [
    {
     "data": {
      "text/plain": [
       "'i'"
      ]
     },
     "execution_count": 267,
     "metadata": {},
     "output_type": "execute_result"
    }
   ],
   "source": [
    "a.getGrade()"
   ]
  },
  {
   "cell_type": "code",
   "execution_count": 268,
   "id": "8a13530f",
   "metadata": {},
   "outputs": [
    {
     "name": "stdout",
     "output_type": "stream",
     "text": [
      "과목이름 : music \n",
      "출석점수 : 80\n"
     ]
    }
   ],
   "source": [
    "print(a)"
   ]
  },
  {
   "cell_type": "code",
   "execution_count": 269,
   "id": "f5bf3d04",
   "metadata": {},
   "outputs": [],
   "source": [
    "class PassFailCourse(Course):\n",
    "    # 이름, 학생 유형 주어진 값으로 초기화, 출석점수, 보고서 점수, 퀴즈점수, 발표점수 0으로 초기화\n",
    "    def __init__(self, name, studentType):\n",
    "        super().__init__(name)\n",
    "        self.studentType = studentType\n",
    "        self.attendScore = 0\n",
    "        self.reportScore = 0\n",
    "        self.quizScore = 0\n",
    "        self.presentScore = 0\n",
    "\n",
    "    # 출석점수 주어진 값으로 변경\n",
    "    def setAttendanceScore(self,newAttendScore):\n",
    "        self.attendScore = newAttendScore\n",
    "    \n",
    "    # 보고서 점수 주어진 값으로 변경\n",
    "    def setReportScore(self, reportScore):\n",
    "        self.reportScore = reportScore\n",
    "    \n",
    "    # 퀴즈 점수 주어진 값으로 변경\n",
    "    def setQuizScore(self, quizScore):\n",
    "        self.quizScore = quizScore\n",
    "        \n",
    "    # 발표 점수 주어진 값으로 변경\n",
    "    def setPresentScore(self, presentScore):\n",
    "        self.presentScore = presentScore\n",
    "    \n",
    "    # 보고서 점수 반환\n",
    "    def getReportScore(self):\n",
    "        return self.reportScore\n",
    "    \n",
    "    # 퀴즈 점수 반환\n",
    "    def getQuizScore(self):\n",
    "        return self.quizScore\n",
    "    \n",
    "    # 발표 점수 반환\n",
    "    def getPresentScore(self):\n",
    "        return self.presentScore\n",
    "    \n",
    "    # 총점 계산 후 반환\n",
    "    def getTotal(self):\n",
    "        total = self.attendScore * 0.2 + self.reportScore * 0.3 + self.quizScore * 0.3 + self.presentScore * 0.2\n",
    "        return total\n",
    "    \n",
    "    # 학점 계산 후 반환\n",
    "    def getGrade(self):\n",
    "        score = self.getTotal()\n",
    "        if score >= 60:\n",
    "            grade = 'SC'\n",
    "        else :\n",
    "            grade = 'NC'\n",
    "        return grade\n",
    "    \n",
    "    # 학점 인정 교과목 모든 데이터 반환\n",
    "    def __str__(self):\n",
    "        result = '-' * 20\n",
    "        result += f'\\n{super().__str__()},학생 유형 : {self.studentType} \\n보고서 점수 : {self.reportScore} \\n퀴즈 점수 : {self.quizScore} \\n발표 점수 : {self.presentScore} \\n총 점 : {self.getTotal()}'\n",
    "        result += '\\n' + '-' * 20\n",
    "        result += f'\\n학점 : {self.getGrade()}'\n",
    "        \n",
    "        return result"
   ]
  },
  {
   "cell_type": "code",
   "execution_count": 270,
   "id": "57ecd23b",
   "metadata": {},
   "outputs": [],
   "source": [
    "b = PassFailCourse('글쓰기기초', Course.UNDERGRADUATE)"
   ]
  },
  {
   "cell_type": "code",
   "execution_count": 271,
   "id": "efa67f50",
   "metadata": {},
   "outputs": [],
   "source": [
    "b.setAttendanceScore(80)\n",
    "b.setReportScore(50)\n",
    "b.setQuizScore(50)\n",
    "b.setPresentScore(50)"
   ]
  },
  {
   "cell_type": "code",
   "execution_count": 272,
   "id": "600ed3e8",
   "metadata": {},
   "outputs": [
    {
     "name": "stdout",
     "output_type": "stream",
     "text": [
      "--------------------\n",
      "과목이름 : 글쓰기기초 \n",
      "출석점수 : 80,학생 유형 : 재학생 \n",
      "보고서 점수 : 50 \n",
      "퀴즈 점수 : 50 \n",
      "발표 점수 : 50 \n",
      "총 점 : 56.0\n",
      "--------------------\n",
      "학점 : NC\n"
     ]
    }
   ],
   "source": [
    "print(b)"
   ]
  },
  {
   "cell_type": "code",
   "execution_count": 273,
   "id": "04928d54",
   "metadata": {},
   "outputs": [],
   "source": [
    "c = PassFailCourse('프로그래밍기초', Course.POSTGRADUATE)"
   ]
  },
  {
   "cell_type": "code",
   "execution_count": 274,
   "id": "018822dd",
   "metadata": {},
   "outputs": [],
   "source": [
    "c.setAttendanceScore(100)\n",
    "c.setReportScore(100)\n",
    "c.setQuizScore(100)\n",
    "c.setPresentScore(100)"
   ]
  },
  {
   "cell_type": "code",
   "execution_count": 275,
   "id": "420660a2",
   "metadata": {},
   "outputs": [
    {
     "name": "stdout",
     "output_type": "stream",
     "text": [
      "--------------------\n",
      "과목이름 : 프로그래밍기초 \n",
      "출석점수 : 100,학생 유형 : 대학원생 \n",
      "보고서 점수 : 100 \n",
      "퀴즈 점수 : 100 \n",
      "발표 점수 : 100 \n",
      "총 점 : 100.0\n",
      "--------------------\n",
      "학점 : SC\n"
     ]
    }
   ],
   "source": [
    "print(c)"
   ]
  },
  {
   "cell_type": "code",
   "execution_count": 276,
   "id": "7cc0686a",
   "metadata": {},
   "outputs": [
    {
     "name": "stdout",
     "output_type": "stream",
     "text": [
      "--------------------\n",
      "과목이름 : 글쓰기기초 \n",
      "출석점수 : 80,학생 유형 : 재학생 \n",
      "보고서 점수 : 50 \n",
      "퀴즈 점수 : 50 \n",
      "발표 점수 : 50 \n",
      "총 점 : 56.0\n",
      "--------------------\n",
      "학점 : NC\n",
      "--------------------\n",
      "과목이름 : 프로그래밍기초 \n",
      "출석점수 : 100,학생 유형 : 대학원생 \n",
      "보고서 점수 : 100 \n",
      "퀴즈 점수 : 100 \n",
      "발표 점수 : 100 \n",
      "총 점 : 100.0\n",
      "--------------------\n",
      "학점 : SC\n"
     ]
    }
   ],
   "source": [
    "print(b)\n",
    "print(c)"
   ]
  }
 ],
 "metadata": {
  "kernelspec": {
   "display_name": "Python 3 (ipykernel)",
   "language": "python",
   "name": "python3"
  },
  "language_info": {
   "codemirror_mode": {
    "name": "ipython",
    "version": 3
   },
   "file_extension": ".py",
   "mimetype": "text/x-python",
   "name": "python",
   "nbconvert_exporter": "python",
   "pygments_lexer": "ipython3",
   "version": "3.9.7"
  }
 },
 "nbformat": 4,
 "nbformat_minor": 5
}
